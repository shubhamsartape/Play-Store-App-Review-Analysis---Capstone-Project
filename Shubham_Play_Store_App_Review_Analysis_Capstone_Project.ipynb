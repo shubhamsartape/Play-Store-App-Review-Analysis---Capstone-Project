{
  "nbformat": 4,
  "nbformat_minor": 0,
  "metadata": {
    "kernelspec": {
      "display_name": "Python 3",
      "language": "python",
      "name": "python3"
    },
    "language_info": {
      "codemirror_mode": {
        "name": "ipython",
        "version": 3
      },
      "file_extension": ".py",
      "mimetype": "text/x-python",
      "name": "python",
      "nbconvert_exporter": "python",
      "pygments_lexer": "ipython3",
      "version": "3.6.6"
    },
    "colab": {
      "name": "Shubham_Play Store App Review Analysis - Capstone Project.ipynb",
      "provenance": [],
      "collapsed_sections": [
        "_CJaz5dcwW94",
        "15fwvMhh3-S3",
        "KU9dwi23ydl5",
        "vJopAdQzzpva",
        "UQZ6ZE3nyoQ_",
        "NMLOIdZyvJlL",
        "YHJxNtn-wXra",
        "NVT23L7or_Ro",
        "AdrdCLaGPnBb"
      ],
      "include_colab_link": true
    }
  },
  "cells": [
    {
      "cell_type": "markdown",
      "metadata": {
        "id": "view-in-github",
        "colab_type": "text"
      },
      "source": [
        "<a href=\"https://colab.research.google.com/github/shubhamsartape/Play-Store-App-Review-Analysis---Capstone-Project/blob/main/Shubham_Play_Store_App_Review_Analysis_Capstone_Project.ipynb\" target=\"_parent\"><img src=\"https://colab.research.google.com/assets/colab-badge.svg\" alt=\"Open In Colab\"/></a>"
      ]
    },
    {
      "cell_type": "markdown",
      "metadata": {
        "id": "Y06xIdG26kRF"
      },
      "source": [
        "## <b> The Play Store apps data has enormous potential to drive app-making businesses to success. Actionable insights can be drawn for developers to work on and capture the Android market. </b>\n",
        "\n",
        "## <b> Each app (row) has values for catergory, rating, size, and more. Another dataset contains customer reviews of the android apps.</b>\n",
        "\n",
        "## <b> Explore and analyze the data to discover key factors responsible for app engagement and success. </b>"
      ]
    },
    {
      "cell_type": "markdown",
      "source": [
        "#Importing lib/Modules, reading data Files into DataFrame"
      ],
      "metadata": {
        "id": "BwLqsp2mAaoQ"
      }
    },
    {
      "cell_type": "code",
      "source": [
        "import pandas as pd\n",
        "import numpy as np\n",
        "\n",
        "import plotly.express as px\n",
        "import plotly.graph_objects as go\n",
        "from plotly.subplots import make_subplots\n",
        "\n",
        "import matplotlib.pyplot as plt\n",
        "import seaborn as sns\n",
        "\n",
        "from ast import literal_eval as le"
      ],
      "metadata": {
        "id": "GAqeDOEG9_J-"
      },
      "execution_count": null,
      "outputs": []
    },
    {
      "cell_type": "code",
      "source": [
        "from google.colab import drive\n",
        "drive.mount('/content/drive')"
      ],
      "metadata": {
        "colab": {
          "base_uri": "https://localhost:8080/"
        },
        "id": "WWmCr6bu8_TK",
        "outputId": "64f943e4-3cd3-4a67-f99e-08a81ee224c4"
      },
      "execution_count": null,
      "outputs": [
        {
          "output_type": "stream",
          "name": "stdout",
          "text": [
            "Mounted at /content/drive\n"
          ]
        }
      ]
    },
    {
      "cell_type": "code",
      "source": [
        "working_directory = '/content/drive/MyDrive/AlmaBetter/Python/'\n",
        "data = pd.read_csv(working_directory + 'Play Store Data.csv')\n",
        "reviews = pd.read_csv(working_directory + 'User Reviews.csv')"
      ],
      "metadata": {
        "id": "Lnqf9r-a9HEF"
      },
      "execution_count": null,
      "outputs": []
    },
    {
      "cell_type": "markdown",
      "source": [
        "# Play Store data wrangling"
      ],
      "metadata": {
        "id": "2UyPG2hGyKq9"
      }
    },
    {
      "cell_type": "code",
      "source": [
        "data.shape"
      ],
      "metadata": {
        "colab": {
          "base_uri": "https://localhost:8080/"
        },
        "id": "1kGxhZLQ13v2",
        "outputId": "c4544790-9726-41c5-ad1c-2d0def723d5a"
      },
      "execution_count": null,
      "outputs": [
        {
          "output_type": "execute_result",
          "data": {
            "text/plain": [
              "(10841, 13)"
            ]
          },
          "metadata": {},
          "execution_count": 5
        }
      ]
    },
    {
      "cell_type": "code",
      "source": [
        "data.info()"
      ],
      "metadata": {
        "colab": {
          "base_uri": "https://localhost:8080/"
        },
        "id": "VN6NeAmV92AN",
        "outputId": "1d9820d6-2648-4e9e-8ecc-e2f5e8ff962a"
      },
      "execution_count": null,
      "outputs": [
        {
          "output_type": "stream",
          "name": "stdout",
          "text": [
            "<class 'pandas.core.frame.DataFrame'>\n",
            "RangeIndex: 10841 entries, 0 to 10840\n",
            "Data columns (total 13 columns):\n",
            " #   Column          Non-Null Count  Dtype  \n",
            "---  ------          --------------  -----  \n",
            " 0   App             10841 non-null  object \n",
            " 1   Category        10841 non-null  object \n",
            " 2   Rating          9367 non-null   float64\n",
            " 3   Reviews         10841 non-null  object \n",
            " 4   Size            10841 non-null  object \n",
            " 5   Installs        10841 non-null  object \n",
            " 6   Type            10840 non-null  object \n",
            " 7   Price           10841 non-null  object \n",
            " 8   Content Rating  10840 non-null  object \n",
            " 9   Genres          10841 non-null  object \n",
            " 10  Last Updated    10841 non-null  object \n",
            " 11  Current Ver     10833 non-null  object \n",
            " 12  Android Ver     10838 non-null  object \n",
            "dtypes: float64(1), object(12)\n",
            "memory usage: 1.1+ MB\n"
          ]
        }
      ]
    },
    {
      "cell_type": "code",
      "source": [
        "data.rename(columns={'Content Rating' : 'Content_Rating','Last Updated' : 'Last_Updated','Current Ver' : 'Current_Ver','Android Ver' : 'Android_Ver'},inplace=True)"
      ],
      "metadata": {
        "id": "o8Ck9gdXpLL9"
      },
      "execution_count": null,
      "outputs": []
    },
    {
      "cell_type": "code",
      "source": [
        "data.columns"
      ],
      "metadata": {
        "colab": {
          "base_uri": "https://localhost:8080/"
        },
        "id": "UDutHtwypnBd",
        "outputId": "04efddd0-bad5-47b5-f360-1e05c583a908"
      },
      "execution_count": null,
      "outputs": [
        {
          "output_type": "execute_result",
          "data": {
            "text/plain": [
              "Index(['App', 'Category', 'Rating', 'Reviews', 'Size', 'Installs', 'Type',\n",
              "       'Price', 'Content_Rating', 'Genres', 'Last_Updated', 'Current_Ver',\n",
              "       'Android_Ver'],\n",
              "      dtype='object')"
            ]
          },
          "metadata": {},
          "execution_count": 8
        }
      ]
    },
    {
      "cell_type": "code",
      "source": [
        "data.boxplot()"
      ],
      "metadata": {
        "colab": {
          "base_uri": "https://localhost:8080/",
          "height": 282
        },
        "id": "ZEjH33Mg0pC_",
        "outputId": "7a2d1df8-77fb-468b-d37e-55efecb47691"
      },
      "execution_count": null,
      "outputs": [
        {
          "output_type": "execute_result",
          "data": {
            "text/plain": [
              "<matplotlib.axes._subplots.AxesSubplot at 0x7f4d18f05bd0>"
            ]
          },
          "metadata": {},
          "execution_count": 9
        },
        {
          "output_type": "display_data",
          "data": {
            "text/plain": [
              "<Figure size 432x288 with 1 Axes>"
            ],
            "image/png": "[encoded data removed]"
          },
          "metadata": {
            "needs_background": "light"
          }
        }
      ]
    },
    {
      "cell_type": "markdown",
      "source": [
        "## Fixing 'Rating'"
      ],
      "metadata": {
        "id": "_CJaz5dcwW94"
      }
    },
    {
      "cell_type": "code",
      "source": [
        "data[data.Rating>5.0]"
      ],
      "metadata": {
        "colab": {
          "base_uri": "https://localhost:8080/",
          "height": 81
        },
        "id": "s2fvlDRowjtc",
        "outputId": "e50e46a8-8ae5-4e37-bc15-2a43d8edac46"
      },
      "execution_count": null,
      "outputs": [
        {
          "output_type": "execute_result",
          "data": {
            "text/plain": [
              "                                           App Category  Rating Reviews  \\\n",
              "10472  Life Made WI-Fi Touchscreen Photo Frame      1.9    19.0    3.0M   \n",
              "\n",
              "         Size Installs Type     Price Content_Rating             Genres  \\\n",
              "10472  1,000+     Free    0  Everyone            NaN  February 11, 2018   \n",
              "\n",
              "      Last_Updated Current_Ver Android_Ver  \n",
              "10472       1.0.19  4.0 and up         NaN  "
            ],
            "text/html": [
              "\n",
              "  <div id=\"df-9327bf8d-a5be-422d-b7bd-453d5adef456\">\n",
              "    <div class=\"colab-df-container\">\n",
              "      <div>\n",
              "<style scoped>\n",
              "    .dataframe tbody tr th:only-of-type {\n",
              "        vertical-align: middle;\n",
              "    }\n",
              "\n",
              "    .dataframe tbody tr th {\n",
              "        vertical-align: top;\n",
              "    }\n",
              "\n",
              "    .dataframe thead th {\n",
              "        text-align: right;\n",
              "    }\n",
              "</style>\n",
              "<table border=\"1\" class=\"dataframe\">\n",
              "  <thead>\n",
              "    <tr style=\"text-align: right;\">\n",
              "      <th></th>\n",
              "      <th>App</th>\n",
              "      <th>Category</th>\n",
              "      <th>Rating</th>\n",
              "      <th>Reviews</th>\n",
              "      <th>Size</th>\n",
              "      <th>Installs</th>\n",
              "      <th>Type</th>\n",
              "      <th>Price</th>\n",
              "      <th>Content_Rating</th>\n",
              "      <th>Genres</th>\n",
              "      <th>Last_Updated</th>\n",
              "      <th>Current_Ver</th>\n",
              "      <th>Android_Ver</th>\n",
              "    </tr>\n",
              "  </thead>\n",
              "  <tbody>\n",
              "    <tr>\n",
              "      <th>10472</th>\n",
              "      <td>Life Made WI-Fi Touchscreen Photo Frame</td>\n",
              "      <td>1.9</td>\n",
              "      <td>19.0</td>\n",
              "      <td>3.0M</td>\n",
              "      <td>1,000+</td>\n",
              "      <td>Free</td>\n",
              "      <td>0</td>\n",
              "      <td>Everyone</td>\n",
              "      <td>NaN</td>\n",
              "      <td>February 11, 2018</td>\n",
              "      <td>1.0.19</td>\n",
              "      <td>4.0 and up</td>\n",
              "      <td>NaN</td>\n",
              "    </tr>\n",
              "  </tbody>\n",
              "</table>\n",
              "</div>\n",
              "      <button class=\"colab-df-convert\" onclick=\"convertToInteractive('df-9327bf8d-a5be-422d-b7bd-453d5adef456')\"\n",
              "              title=\"Convert this dataframe to an interactive table.\"\n",
              "              style=\"display:none;\">\n",
              "        \n",
              "  <svg xmlns=\"http://www.w3.org/2000/svg\" height=\"24px\"viewBox=\"0 0 24 24\"\n",
              "       width=\"24px\">\n",
              "    <path d=\"M0 0h24v24H0V0z\" fill=\"none\"/>\n",
              "    <path d=\"M18.56 5.44l.94 2.06.94-2.06 2.06-.94-2.06-.94-.94-2.06-.94 2.06-2.06.94zm-11 1L8.5 8.5l.94-2.06 2.06-.94-2.06-.94L8.5 2.5l-.94 2.06-2.06.94zm10 10l.94 2.06.94-2.06 2.06-.94-2.06-.94-.94-2.06-.94 2.06-2.06.94z\"/><path d=\"M17.41 7.96l-1.37-1.37c-.4-.4-.92-.59-1.43-.59-.52 0-1.04.2-1.43.59L10.3 9.45l-7.72 7.72c-.78.78-.78 2.05 0 2.83L4 21.41c.39.39.9.59 1.41.59.51 0 1.02-.2 1.41-.59l7.78-7.78 2.81-2.81c.8-.78.8-2.07 0-2.86zM5.41 20L4 18.59l7.72-7.72 1.47 1.35L5.41 20z\"/>\n",
              "  </svg>\n",
              "      </button>\n",
              "      \n",
              "  <style>\n",
              "    .colab-df-container {\n",
              "      display:flex;\n",
              "      flex-wrap:wrap;\n",
              "      gap: 12px;\n",
              "    }\n",
              "\n",
              "    .colab-df-convert {\n",
              "      background-color: #E8F0FE;\n",
              "      border: none;\n",
              "      border-radius: 50%;\n",
              "      cursor: pointer;\n",
              "      display: none;\n",
              "      fill: #1967D2;\n",
              "      height: 32px;\n",
              "      padding: 0 0 0 0;\n",
              "      width: 32px;\n",
              "    }\n",
              "\n",
              "    .colab-df-convert:hover {\n",
              "      background-color: #E2EBFA;\n",
              "      box-shadow: 0px 1px 2px rgba(60, 64, 67, 0.3), 0px 1px 3px 1px rgba(60, 64, 67, 0.15);\n",
              "      fill: #174EA6;\n",
              "    }\n",
              "\n",
              "    [theme=dark] .colab-df-convert {\n",
              "      background-color: #3B4455;\n",
              "      fill: #D2E3FC;\n",
              "    }\n",
              "\n",
              "    [theme=dark] .colab-df-convert:hover {\n",
              "      background-color: #434B5C;\n",
              "      box-shadow: 0px 1px 3px 1px rgba(0, 0, 0, 0.15);\n",
              "      filter: drop-shadow(0px 1px 2px rgba(0, 0, 0, 0.3));\n",
              "      fill: #FFFFFF;\n",
              "    }\n",
              "  </style>\n",
              "\n",
              "      <script>\n",
              "        const buttonEl =\n",
              "          document.querySelector('#df-9327bf8d-a5be-422d-b7bd-453d5adef456 button.colab-df-convert');\n",
              "        buttonEl.style.display =\n",
              "          google.colab.kernel.accessAllowed ? 'block' : 'none';\n",
              "\n",
              "        async function convertToInteractive(key) {\n",
              "          const element = document.querySelector('#df-9327bf8d-a5be-422d-b7bd-453d5adef456');\n",
              "          const dataTable =\n",
              "            await google.colab.kernel.invokeFunction('convertToInteractive',\n",
              "                                                     [key], {});\n",
              "          if (!dataTable) return;\n",
              "\n",
              "          const docLinkHtml = 'Like what you see? Visit the ' +\n",
              "            '<a target=\"_blank\" href=https://colab.research.google.com/notebooks/data_table.ipynb>data table notebook</a>'\n",
              "            + ' to learn more about interactive tables.';\n",
              "          element.innerHTML = '';\n",
              "          dataTable['output_type'] = 'display_data';\n",
              "          await google.colab.output.renderOutput(dataTable, element);\n",
              "          const docLink = document.createElement('div');\n",
              "          docLink.innerHTML = docLinkHtml;\n",
              "          element.appendChild(docLink);\n",
              "        }\n",
              "      </script>\n",
              "    </div>\n",
              "  </div>\n",
              "  "
            ]
          },
          "metadata": {},
          "execution_count": 10
        }
      ]
    },
    {
      "cell_type": "code",
      "source": [
        "data.drop([10472],inplace=True)\n",
        "data[10471:10473]"
      ],
      "metadata": {
        "colab": {
          "base_uri": "https://localhost:8080/",
          "height": 112
        },
        "id": "Lb4YxDGywrfm",
        "outputId": "a7e429de-a6cf-4ff5-febb-7e5151104fad"
      },
      "execution_count": null,
      "outputs": [
        {
          "output_type": "execute_result",
          "data": {
            "text/plain": [
              "                           App         Category  Rating Reviews  Size  \\\n",
              "10471         Xposed Wi-Fi-Pwd  PERSONALIZATION     3.5    1042  404k   \n",
              "10473  osmino Wi-Fi: free WiFi            TOOLS     4.2  134203  4.1M   \n",
              "\n",
              "          Installs  Type Price Content_Rating           Genres  \\\n",
              "10471     100,000+  Free     0       Everyone  Personalization   \n",
              "10473  10,000,000+  Free     0       Everyone            Tools   \n",
              "\n",
              "         Last_Updated Current_Ver   Android_Ver  \n",
              "10471  August 5, 2014       3.0.0  4.0.3 and up  \n",
              "10473  August 7, 2018     6.06.14    4.4 and up  "
            ],
            "text/html": [
              "\n",
              "  <div id=\"df-c335025a-e027-4555-b866-6b9b27e6ed04\">\n",
              "    <div class=\"colab-df-container\">\n",
              "      <div>\n",
              "<style scoped>\n",
              "    .dataframe tbody tr th:only-of-type {\n",
              "        vertical-align: middle;\n",
              "    }\n",
              "\n",
              "    .dataframe tbody tr th {\n",
              "        vertical-align: top;\n",
              "    }\n",
              "\n",
              "    .dataframe thead th {\n",
              "        text-align: right;\n",
              "    }\n",
              "</style>\n",
              "<table border=\"1\" class=\"dataframe\">\n",
              "  <thead>\n",
              "    <tr style=\"text-align: right;\">\n",
              "      <th></th>\n",
              "      <th>App</th>\n",
              "      <th>Category</th>\n",
              "      <th>Rating</th>\n",
              "      <th>Reviews</th>\n",
              "      <th>Size</th>\n",
              "      <th>Installs</th>\n",
              "      <th>Type</th>\n",
              "      <th>Price</th>\n",
              "      <th>Content_Rating</th>\n",
              "      <th>Genres</th>\n",
              "      <th>Last_Updated</th>\n",
              "      <th>Current_Ver</th>\n",
              "      <th>Android_Ver</th>\n",
              "    </tr>\n",
              "  </thead>\n",
              "  <tbody>\n",
              "    <tr>\n",
              "      <th>10471</th>\n",
              "      <td>Xposed Wi-Fi-Pwd</td>\n",
              "      <td>PERSONALIZATION</td>\n",
              "      <td>3.5</td>\n",
              "      <td>1042</td>\n",
              "      <td>404k</td>\n",
              "      <td>100,000+</td>\n",
              "      <td>Free</td>\n",
              "      <td>0</td>\n",
              "      <td>Everyone</td>\n",
              "      <td>Personalization</td>\n",
              "      <td>August 5, 2014</td>\n",
              "      <td>3.0.0</td>\n",
              "      <td>4.0.3 and up</td>\n",
              "    </tr>\n",
              "    <tr>\n",
              "      <th>10473</th>\n",
              "      <td>osmino Wi-Fi: free WiFi</td>\n",
              "      <td>TOOLS</td>\n",
              "      <td>4.2</td>\n",
              "      <td>134203</td>\n",
              "      <td>4.1M</td>\n",
              "      <td>10,000,000+</td>\n",
              "      <td>Free</td>\n",
              "      <td>0</td>\n",
              "      <td>Everyone</td>\n",
              "      <td>Tools</td>\n",
              "      <td>August 7, 2018</td>\n",
              "      <td>6.06.14</td>\n",
              "      <td>4.4 and up</td>\n",
              "    </tr>\n",
              "  </tbody>\n",
              "</table>\n",
              "</div>\n",
              "      <button class=\"colab-df-convert\" onclick=\"convertToInteractive('df-c335025a-e027-4555-b866-6b9b27e6ed04')\"\n",
              "              title=\"Convert this dataframe to an interactive table.\"\n",
              "              style=\"display:none;\">\n",
              "        \n",
              "  <svg xmlns=\"http://www.w3.org/2000/svg\" height=\"24px\"viewBox=\"0 0 24 24\"\n",
              "       width=\"24px\">\n",
              "    <path d=\"M0 0h24v24H0V0z\" fill=\"none\"/>\n",
              "    <path d=\"M18.56 5.44l.94 2.06.94-2.06 2.06-.94-2.06-.94-.94-2.06-.94 2.06-2.06.94zm-11 1L8.5 8.5l.94-2.06 2.06-.94-2.06-.94L8.5 2.5l-.94 2.06-2.06.94zm10 10l.94 2.06.94-2.06 2.06-.94-2.06-.94-.94-2.06-.94 2.06-2.06.94z\"/><path d=\"M17.41 7.96l-1.37-1.37c-.4-.4-.92-.59-1.43-.59-.52 0-1.04.2-1.43.59L10.3 9.45l-7.72 7.72c-.78.78-.78 2.05 0 2.83L4 21.41c.39.39.9.59 1.41.59.51 0 1.02-.2 1.41-.59l7.78-7.78 2.81-2.81c.8-.78.8-2.07 0-2.86zM5.41 20L4 18.59l7.72-7.72 1.47 1.35L5.41 20z\"/>\n",
              "  </svg>\n",
              "      </button>\n",
              "      \n",
              "  <style>\n",
              "    .colab-df-container {\n",
              "      display:flex;\n",
              "      flex-wrap:wrap;\n",
              "      gap: 12px;\n",
              "    }\n",
              "\n",
              "    .colab-df-convert {\n",
              "      background-color: #E8F0FE;\n",
              "      border: none;\n",
              "      border-radius: 50%;\n",
              "      cursor: pointer;\n",
              "      display: none;\n",
              "      fill: #1967D2;\n",
              "      height: 32px;\n",
              "      padding: 0 0 0 0;\n",
              "      width: 32px;\n",
              "    }\n",
              "\n",
              "    .colab-df-convert:hover {\n",
              "      background-color: #E2EBFA;\n",
              "      box-shadow: 0px 1px 2px rgba(60, 64, 67, 0.3), 0px 1px 3px 1px rgba(60, 64, 67, 0.15);\n",
              "      fill: #174EA6;\n",
              "    }\n",
              "\n",
              "    [theme=dark] .colab-df-convert {\n",
              "      background-color: #3B4455;\n",
              "      fill: #D2E3FC;\n",
              "    }\n",
              "\n",
              "    [theme=dark] .colab-df-convert:hover {\n",
              "      background-color: #434B5C;\n",
              "      box-shadow: 0px 1px 3px 1px rgba(0, 0, 0, 0.15);\n",
              "      filter: drop-shadow(0px 1px 2px rgba(0, 0, 0, 0.3));\n",
              "      fill: #FFFFFF;\n",
              "    }\n",
              "  </style>\n",
              "\n",
              "      <script>\n",
              "        const buttonEl =\n",
              "          document.querySelector('#df-c335025a-e027-4555-b866-6b9b27e6ed04 button.colab-df-convert');\n",
              "        buttonEl.style.display =\n",
              "          google.colab.kernel.accessAllowed ? 'block' : 'none';\n",
              "\n",
              "        async function convertToInteractive(key) {\n",
              "          const element = document.querySelector('#df-c335025a-e027-4555-b866-6b9b27e6ed04');\n",
              "          const dataTable =\n",
              "            await google.colab.kernel.invokeFunction('convertToInteractive',\n",
              "                                                     [key], {});\n",
              "          if (!dataTable) return;\n",
              "\n",
              "          const docLinkHtml = 'Like what you see? Visit the ' +\n",
              "            '<a target=\"_blank\" href=https://colab.research.google.com/notebooks/data_table.ipynb>data table notebook</a>'\n",
              "            + ' to learn more about interactive tables.';\n",
              "          element.innerHTML = '';\n",
              "          dataTable['output_type'] = 'display_data';\n",
              "          await google.colab.output.renderOutput(dataTable, element);\n",
              "          const docLink = document.createElement('div');\n",
              "          docLink.innerHTML = docLinkHtml;\n",
              "          element.appendChild(docLink);\n",
              "        }\n",
              "      </script>\n",
              "    </div>\n",
              "  </div>\n",
              "  "
            ]
          },
          "metadata": {},
          "execution_count": 11
        }
      ]
    },
    {
      "cell_type": "code",
      "source": [
        "px.box(data,y=\"Rating\")"
      ],
      "metadata": {
        "colab": {
          "base_uri": "https://localhost:8080/",
          "height": 542
        },
        "id": "dGeZ8Z3wxfR9",
        "outputId": "5ca077c1-0d45-4501-acd6-7fdb045b9fa3"
      },
      "execution_count": null,
      "outputs": [
        {
          "output_type": "display_data",
          "data": {
            "text/html": [
              "<html>\n",
              "<head><meta charset=\"utf-8\" /></head>\n",
              "<body>\n",
              "    <div>            <script src=\"https://cdnjs.cloudflare.com/ajax/libs/mathjax/2.7.5/MathJax.js?config=TeX-AMS-MML_SVG\"></script><script type=\"text/javascript\">if (window.MathJax) {MathJax.Hub.Config({SVG: {font: \"STIX-Web\"}});}</script>                <script type=\"text/javascript\">window.PlotlyConfig = {MathJaxConfig: 'local'};</script>\n",
              "        <script src=\"https://cdn.plot.ly/plotly-2.8.3.min.js\"></script>                <div id=\"dfb65b66-4fc2-428d-bbcd-fc133659c266\" class=\"plotly-graph-div\" style=\"height:525px; width:100%;\"></div>            <script type=\"text/javascript\">                                    window.PLOTLYENV=window.PLOTLYENV || {};                                    if (document.getElementById(\"dfb65b66-4fc2-428d-bbcd-fc133659c266\")) {                    Plotly.newPlot(                        \"dfb65b66-4fc2-428d-bbcd-fc133659c266\",                        [{\"alignmentgroup\":\"True\",\"hovertemplate\":\"Rating=%{y}<extra></extra>\",\"legendgroup\":\"\",\"marker\":{\"color\":\"#636efa\"},\"name\":\"\",\"notched\":false,\"offsetgroup\":\"\",\"orientation\":\"v\",\"showlegend\":false,\"x0\":\" \",\"xaxis\":\"x\",\"y\":[4.1,3.9,4.7,4.5,4.3,4.4,3.8,4.1,4.4,4.7,4.4,4.4,4.2,4.6,4.4,3.2,4.7,4.5,4.3,4.6,4.0,4.1,4.7,null,4.7,4.8,4.7,4.1,3.9,4.1,4.2,4.1,4.5,4.2,4.7,3.8,4.7,4.1,4.7,4.0,4.2,4.5,4.4,3.8,4.2,4.7,4.6,4.2,4.3,4.2,4.0,3.8,4.6,3.9,4.3,4.9,4.4,4.2,4.0,3.9,4.6,4.9,4.3,4.6,4.9,3.9,4.0,4.3,3.9,4.2,4.8,3.6,4.2,4.8,4.8,4.6,4.5,4.3,4.5,4.9,3.9,4.4,4.0,4.3,3.7,4.4,4.3,3.2,4.6,4.6,4.5,3.7,4.6,4.6,4.6,4.0,4.4,4.0,4.7,4.9,4.7,3.9,3.9,4.2,4.6,4.3,4.7,4.7,4.8,4.2,4.3,4.5,4.1,null,4.2,4.5,4.4,4.0,4.1,4.1,4.4,4.6,4.5,null,3.9,4.4,null,4.6,3.8,null,null,4.0,4.3,4.5,null,4.1,3.7,4.7,4.2,4.6,4.5,4.6,4.4,4.2,4.5,4.5,4.5,4.5,4.4,4.5,4.6,4.8,3.9,4.6,4.2,4.1,4.7,4.2,4.3,3.3,4.6,4.8,4.7,null,4.1,4.6,4.1,4.6,4.7,4.5,3.9,4.4,4.3,4.2,4.5,4.4,3.4,4.9,4.6,4.4,null,4.4,4.4,4.4,3.5,null,4.4,4.1,4.3,4.4,4.3,4.3,4.1,4.4,4.3,3.9,4.8,4.5,4.4,4.0,4.3,4.0,4.2,4.5,4.2,4.2,4.6,4.1,4.6,3.1,3.9,4.3,4.1,4.4,4.1,4.1,4.5,4.4,4.4,4.3,4.4,4.6,4.2,4.4,4.7,3.8,3.9,null,4.3,4.2,4.4,4.7,4.5,4.2,4.7,4.8,4.2,4.2,4.3,4.4,4.4,4.1,3.8,4.3,3.8,3.5,4.1,4.6,4.3,4.5,4.1,4.5,4.6,4.0,4.2,4.4,4.4,4.0,4.2,4.2,4.1,4.0,3.8,3.9,3.9,4.2,4.2,4.3,4.4,4.4,4.1,3.8,4.3,3.8,3.5,4.1,4.6,4.3,4.5,4.1,4.5,4.6,4.0,4.2,4.3,4.2,4.4,4.7,4.5,4.2,4.7,4.8,4.1,4.3,4.4,4.5,4.3,4.5,4.6,4.7,4.7,4.8,3.9,4.1,4.4,4.6,4.5,4.7,4.4,4.5,3.9,3.2,3.2,4.1,4.5,4.2,4.2,3.7,4.5,4.6,4.5,null,4.7,4.4,3.5,3.3,4.5,4.4,4.2,5.0,4.4,4.7,4.4,4.4,4.6,4.0,4.4,4.3,4.3,4.4,4.3,4.0,4.3,4.3,4.4,4.3,4.3,4.3,4.3,4.3,4.0,4.5,4.3,3.7,4.5,3.9,4.4,3.6,4.4,4.2,4.4,4.1,4.4,4.3,4.2,4.2,4.4,4.4,3.9,4.2,4.4,4.6,4.3,4.3,4.4,3.7,4.3,3.9,4.5,3.7,4.3,4.4,4.0,4.3,4.0,4.3,4.0,4.1,4.2,4.2,4.2,4.1,4.4,4.3,4.2,4.4,4.2,4.1,4.3,4.3,4.5,4.3,4.2,4.2,4.5,4.3,4.3,4.3,4.4,4.2,4.3,4.3,4.4,4.6,4.3,4.4,4.2,4.5,4.5,4.4,4.5,4.1,4.2,4.1,4.3,4.1,4.2,4.0,4.2,4.2,4.2,4.3,4.3,4.4,4.2,4.4,4.1,4.2,4.8,4.4,4.4,4.4,4.0,4.5,4.4,4.1,4.2,4.5,4.3,4.5,4.0,4.3,4.3,4.2,4.5,4.6,4.1,4.0,4.2,4.6,4.1,4.3,4.2,4.3,4.0,4.3,4.2,4.3,4.1,4.2,4.1,4.6,4.3,4.2,4.2,4.3,4.2,2.6,null,null,null,3.5,4.0,4.1,3.7,4.1,4.2,4.5,4.4,4.2,4.0,4.1,3.1,4.4,4.2,4.1,3.9,4.3,4.4,3.5,4.0,3.3,4.5,4.4,4.1,3.9,3.9,3.6,4.0,3.6,3.4,4.2,4.1,3.4,3.0,4.6,4.1,3.9,1.9,3.5,2.5,3.9,3.4,3.5,4.4,3.8,4.2,2.5,2.8,4.1,4.2,3.5,4.3,3.3,4.1,4.2,3.5,4.2,4.4,4.1,4.2,4.3,4.1,4.0,4.1,4.2,3.0,4.4,4.5,2.5,4.1,4.2,4.0,4.1,1.9,3.3,4.4,4.1,3.8,4.1,4.2,4.0,4.5,3.7,3.9,3.5,3.9,4.0,4.6,4.0,4.1,4.2,3.3,4.4,4.3,4.2,3.9,4.3,3.4,4.2,4.1,4.0,3.6,4.2,3.5,4.0,4.1,4.1,2.8,4.4,4.4,4.2,4.1,4.2,3.9,4.1,4.2,3.9,4.0,4.2,4.5,3.9,3.6,4.4,3.5,4.4,4.8,4.6,4.7,4.8,null,2.7,5.0,null,4.8,5.0,4.8,null,4.9,3.0,null,null,4.7,null,null,1.0,null,null,null,null,null,null,null,5.0,4.7,null,5.0,null,null,null,5.0,null,null,null,null,3.0,4.1,null,null,null,null,null,null,null,5.0,3.7,4.5,4.2,null,null,null,4.3,4.1,1.9,4.1,4.4,null,3.9,3.9,null,4.0,4.4,4.7,3.8,4.4,4.4,3.6,4.4,2.7,4.3,4.6,2.8,3.5,null,3.4,4.8,4.7,4.8,4.8,4.7,4.1,3.5,4.7,3.8,2.9,4.5,3.3,4.1,null,4.7,4.6,4.7,4.6,4.7,null,4.5,4.7,4.8,4.6,4.6,4.6,4.2,4.9,3.8,4.2,4.4,4.4,4.3,4.5,4.4,4.6,3.9,4.4,4.3,4.4,4.2,4.4,4.0,4.2,3.8,4.5,4.7,4.5,4.3,4.2,4.3,4.7,4.7,4.6,4.6,4.6,4.5,4.4,4.6,4.5,4.5,4.2,4.4,4.4,4.2,4.5,4.1,4.0,4.1,4.3,4.3,4.3,4.5,4.6,4.1,4.6,4.7,4.7,4.3,4.7,4.6,4.6,4.6,4.3,4.2,4.0,4.5,4.2,4.1,4.4,4.0,4.5,4.4,4.0,4.2,4.3,4.2,4.6,4.6,4.7,4.6,4.4,4.5,4.3,4.6,4.5,4.2,4.2,4.7,4.5,4.6,4.3,4.2,4.7,4.7,4.4,4.5,4.4,4.0,4.6,4.4,4.7,4.7,4.3,4.1,4.2,4.3,4.3,4.3,4.0,4.2,4.0,4.0,3.8,4.6,4.1,3.9,4.1,4.5,4.2,4.4,4.7,4.0,4.4,4.4,4.0,4.5,4.7,4.3,4.5,4.3,4.1,4.3,4.5,4.2,4.6,3.5,4.2,4.4,4.4,4.6,4.3,4.5,4.8,4.4,4.1,4.9,4.7,4.7,4.7,4.4,4.0,4.2,4.3,4.5,3.5,4.2,3.1,4.6,4.2,4.3,4.3,4.1,3.8,3.4,4.3,4.4,4.4,4.0,3.7,3.9,4.5,4.4,4.3,4.2,4.2,4.5,4.7,4.5,4.5,3.4,4.2,4.3,4.2,4.6,4.1,4.2,4.2,4.3,4.4,3.9,4.1,4.3,4.5,4.6,3.6,4.3,4.3,4.2,4.4,4.1,4.1,4.2,3.9,4.2,3.7,4.5,3.7,3.8,4.3,3.0,4.1,4.2,4.1,3.9,4.0,4.4,4.2,4.0,3.9,4.0,4.2,4.0,4.3,3.9,4.2,4.4,4.3,3.7,4.3,3.7,3.8,4.2,4.0,3.9,4.4,4.5,4.1,4.1,3.9,4.5,4.0,4.1,3.6,3.8,4.0,4.2,3.7,3.8,3.7,4.1,3.7,3.9,4.4,4.3,3.9,3.7,3.7,4.2,4.3,4.0,4.1,3.9,4.5,3.9,4.1,4.3,4.4,4.1,4.0,3.9,3.9,4.0,4.1,4.2,3.8,4.0,3.9,4.2,3.7,3.9,4.2,4.3,4.3,4.6,4.3,4.6,4.2,4.6,4.5,4.6,3.9,4.2,4.4,4.2,4.3,4.6,4.3,4.5,4.0,4.0,4.5,4.5,4.0,4.0,4.2,4.4,4.6,null,4.6,4.1,4.6,4.4,4.6,4.9,4.5,4.6,4.7,4.3,null,null,4.2,4.3,5.0,4.4,5.0,4.5,null,null,null,4.5,4.8,4.4,5.0,null,3.7,null,4.1,null,4.8,null,null,4.6,4.4,4.4,3.6,3.7,3.8,4.2,4.2,4.2,3.3,3.4,4.3,4.2,4.7,4.1,4.7,4.0,3.6,4.0,3.6,4.3,4.2,4.2,4.1,4.0,4.1,4.4,4.7,4.5,4.3,4.6,4.3,4.0,4.5,4.5,3.6,4.2,4.1,3.5,4.4,4.0,4.5,4.2,4.6,4.2,4.8,4.5,4.2,4.3,4.2,4.4,4.4,4.6,4.2,4.6,4.6,4.4,4.3,4.2,4.2,3.8,4.5,4.6,4.6,4.7,4.6,4.6,4.7,3.8,4.3,4.3,4.5,4.6,4.6,4.7,4.5,4.4,3.9,4.5,4.6,4.1,4.5,4.4,4.5,4.6,4.2,4.4,4.1,3.9,4.6,4.5,3.7,4.1,4.4,4.6,4.5,4.3,4.3,4.3,4.4,4.3,4.4,4.3,4.4,4.1,4.4,4.2,4.3,4.4,4.3,4.3,3.9,4.1,4.1,4.2,4.5,4.2,4.7,4.4,4.6,4.6,4.4,4.6,4.3,4.0,4.4,4.6,4.2,4.1,3.6,null,4.1,4.6,null,4.7,4.7,4.7,4.7,4.1,3.4,3.8,3.7,4.2,3.1,3.5,4.7,4.5,4.2,4.3,4.0,4.5,4.6,4.7,4.1,4.3,3.8,4.4,4.3,4.2,4.3,3.8,4.3,3.7,4.5,3.6,4.8,3.3,4.7,4.6,4.6,3.4,4.6,4.0,4.1,4.5,4.4,4.5,4.0,4.1,4.5,4.6,4.1,4.5,4.6,4.5,4.3,3.6,4.4,4.6,4.1,4.3,3.9,4.5,4.1,3.6,4.7,4.3,4.7,4.6,4.4,4.2,4.5,4.3,4.2,4.5,4.5,4.3,4.0,4.3,4.8,4.0,4.9,4.8,4.9,4.8,4.4,3.3,4.7,4.6,4.8,4.8,4.8,4.5,4.4,4.5,4.5,4.5,4.8,3.9,4.6,4.5,4.5,4.7,4.7,4.4,4.2,3.9,4.2,4.4,4.6,4.6,4.2,4.5,4.7,4.5,4.5,3.7,4.5,4.6,4.6,4.7,4.5,4.5,4.6,4.0,4.3,4.4,4.5,4.2,4.6,4.9,4.5,4.5,4.6,4.5,4.6,4.6,4.5,4.5,4.4,3.9,4.5,4.4,4.6,4.4,4.5,4.5,4.6,4.5,4.4,4.4,4.4,4.2,4.5,4.5,4.4,4.3,4.6,4.6,4.9,4.4,4.3,4.1,4.6,4.8,4.5,4.7,4.6,4.3,4.4,4.4,4.6,4.3,4.6,4.6,4.5,4.6,4.6,4.5,4.1,4.5,4.6,4.5,4.8,4.8,4.6,4.5,4.1,4.4,4.2,4.5,4.3,4.6,4.0,4.6,4.5,4.4,4.5,4.6,4.4,4.7,4.4,4.2,4.5,4.2,4.4,4.5,4.6,4.6,4.6,4.5,4.5,4.4,4.4,4.5,4.5,4.0,4.6,4.1,4.0,4.4,4.4,4.1,3.5,4.3,4.5,4.2,4.6,4.4,4.5,4.0,4.5,4.6,4.4,4.4,4.1,4.0,4.1,4.1,4.2,4.5,3.5,4.3,4.2,4.6,4.4,4.5,4.4,3.7,4.3,4.5,4.6,4.7,4.6,4.6,4.0,4.4,4.4,4.8,4.6,4.2,4.6,4.1,4.4,4.5,4.3,4.7,4.6,4.4,4.5,4.8,4.2,4.5,4.1,4.1,4.0,4.3,4.5,null,4.6,3.7,3.7,4.2,4.5,4.3,3.9,4.6,4.3,4.4,4.6,4.5,3.8,null,4.4,4.7,3.4,4.3,4.3,4.0,4.0,3.8,null,4.3,3.6,3.8,4.5,4.6,null,4.5,4.7,4.3,3.7,null,4.2,3.4,3.9,4.0,4.0,4.0,4.6,4.0,4.1,3.9,4.4,4.4,4.3,4.6,4.5,4.5,4.5,4.5,4.3,4.2,4.4,4.3,4.6,4.1,3.9,4.4,4.6,null,4.1,null,null,3.8,4.6,3.5,4.7,4.3,4.5,4.4,3.4,4.3,null,4.3,4.6,4.6,null,4.2,null,null,4.6,null,null,4.4,3.9,4.5,3.8,4.3,3.7,5.0,3.2,4.5,4.7,4.0,null,4.1,3.8,4.7,4.5,null,4.2,null,4.1,3.1,4.1,4.1,4.3,4.0,4.6,4.4,4.4,4.3,4.6,3.2,4.5,4.6,4.6,4.3,3.0,4.4,4.4,4.3,3.5,4.3,4.5,3.7,4.5,4.2,4.3,4.6,4.5,3.9,4.3,3.3,4.7,4.2,3.2,4.4,3.5,3.7,3.8,3.8,3.7,4.6,4.0,3.6,3.8,4.1,4.7,3.9,4.1,4.6,4.2,3.6,4.6,4.2,4.4,4.6,4.7,4.1,3.9,4.0,4.1,4.6,4.1,4.1,4.1,4.4,3.8,4.3,4.1,4.1,4.1,4.4,3.8,4.3,4.4,4.2,4.4,4.3,4.1,4.0,4.2,4.1,3.9,4.4,4.6,4.5,4.5,4.8,4.4,4.5,4.5,4.6,4.5,4.5,4.5,4.4,4.7,4.5,4.2,4.4,4.6,4.3,4.3,4.2,4.6,4.4,4.4,4.5,4.4,4.3,4.6,4.3,4.2,4.2,4.5,4.5,4.5,4.7,4.7,4.5,4.4,4.3,3.8,4.6,4.6,4.4,4.3,4.1,4.3,4.4,4.6,4.3,4.4,4.7,4.5,4.4,4.6,4.5,4.4,4.6,4.5,4.5,4.3,4.5,4.6,4.4,4.4,4.5,4.7,4.6,4.5,4.5,4.7,4.5,4.8,4.7,4.4,4.6,4.5,4.6,4.7,4.6,4.5,4.6,4.5,4.6,4.4,4.7,4.3,4.3,4.4,4.3,4.5,4.4,4.5,4.4,4.5,4.6,4.7,4.6,4.4,4.4,4.5,4.6,4.3,4.5,4.5,4.4,4.5,4.2,4.5,4.4,4.7,4.2,4.5,4.5,4.6,4.4,4.5,4.3,4.3,4.5,4.7,4.7,4.1,4.8,4.4,4.2,4.4,4.7,4.3,4.7,4.2,4.3,4.4,4.1,4.1,4.2,4.5,4.7,4.6,4.5,3.1,4.1,3.4,4.4,4.3,4.6,4.4,4.3,4.6,4.2,4.2,4.5,4.4,4.2,4.5,4.8,4.4,4.6,4.5,4.3,4.6,4.4,4.4,4.5,4.6,4.6,4.6,4.1,4.5,4.6,4.4,4.7,4.6,4.3,4.5,4.6,4.2,4.5,4.8,4.1,4.3,4.4,4.0,4.2,4.0,4.2,4.5,4.7,4.2,4.4,4.6,4.9,4.4,4.5,4.6,4.2,4.5,4.6,4.6,4.5,4.4,4.6,4.5,4.6,4.4,4.4,4.3,4.3,4.6,4.3,4.3,4.6,4.5,4.5,4.2,4.7,4.3,4.0,4.4,4.3,4.6,4.7,4.4,4.7,4.4,4.3,4.2,4.4,4.5,4.5,4.5,4.4,4.3,4.5,4.7,4.7,4.6,4.6,4.4,4.4,4.7,4.6,4.5,4.3,4.3,4.3,4.6,4.8,4.5,4.4,4.5,4.5,4.6,4.6,4.6,4.6,4.7,4.5,4.5,4.5,4.6,4.5,4.4,4.4,4.6,4.7,4.5,4.4,4.6,4.7,4.6,4.5,4.4,4.5,4.3,4.5,4.2,4.5,4.3,4.4,4.7,4.6,4.7,4.6,4.4,4.6,4.5,4.3,4.5,4.5,4.6,4.6,4.3,4.6,4.5,4.7,4.5,4.7,4.7,4.6,4.4,4.3,4.5,4.3,4.4,4.2,4.3,4.5,4.4,4.7,4.2,4.1,4.5,4.5,4.5,4.1,4.3,4.5,4.4,4.5,4.6,4.0,4.3,4.5,4.4,4.4,4.6,4.2,4.5,4.6,4.5,4.7,4.5,4.5,4.5,4.4,4.6,4.3,4.4,4.3,4.7,4.7,4.4,4.3,4.4,4.5,4.5,4.4,4.4,4.6,4.6,4.4,4.6,4.2,4.4,4.6,4.6,4.7,4.5,4.2,4.6,4.7,4.6,4.3,4.6,4.4,4.4,4.5,4.2,4.4,4.3,4.7,4.5,4.4,4.5,4.4,4.4,4.5,4.6,4.5,4.3,4.7,4.4,4.5,4.2,4.5,4.5,4.7,4.4,4.3,4.6,3.9,4.2,4.5,4.3,4.5,4.4,4.4,4.8,4.4,4.4,4.3,4.6,4.1,4.5,4.5,4.5,4.0,4.5,4.6,4.5,4.5,4.5,4.4,4.7,4.5,4.5,4.2,4.3,4.5,4.2,4.3,4.4,4.6,4.6,4.5,4.2,4.5,4.6,4.6,4.1,4.5,4.6,4.6,4.5,4.3,3.8,4.5,4.1,4.8,3.9,4.5,4.4,4.3,4.2,3.0,4.5,4.4,4.5,4.7,4.1,4.5,4.5,4.5,4.6,4.3,4.3,4.5,4.2,4.2,4.4,4.5,4.1,4.2,4.1,4.7,4.3,4.4,4.4,null,4.3,4.4,4.3,4.3,4.2,4.2,4.3,4.3,4.1,4.2,4.5,4.3,4.3,4.5,4.1,4.5,4.2,4.4,4.0,4.1,4.3,4.3,4.4,4.3,4.1,4.0,4.3,4.6,4.3,4.7,4.3,4.4,4.2,4.7,3.9,4.1,4.1,4.1,4.2,4.7,4.4,4.3,4.5,4.3,4.3,4.1,4.1,4.1,4.6,4.1,4.4,4.4,4.3,4.0,4.8,3.8,4.7,4.5,4.8,4.4,4.8,4.2,4.2,4.0,4.7,4.7,3.9,4.5,4.1,4.4,3.9,4.4,4.4,3.6,4.4,4.1,3.6,4.6,4.3,4.5,4.4,4.1,4.4,3.9,4.4,4.4,3.6,4.4,4.1,3.6,4.6,4.3,4.5,4.4,4.5,4.1,4.5,4.1,3.9,4.2,4.1,3.9,4.1,4.2,4.7,3.8,4.3,4.3,4.3,3.9,4.3,4.0,4.0,4.3,4.2,4.1,4.0,4.4,4.3,4.3,4.4,4.2,4.1,4.3,4.2,4.6,4.1,4.5,4.4,4.5,4.3,4.2,4.4,4.6,4.5,4.8,4.5,3.2,4.6,4.5,4.1,4.6,4.5,4.4,4.4,4.4,3.8,4.6,2.5,4.0,5.0,4.3,3.4,null,3.4,4.3,4.4,4.4,4.2,5.0,4.1,3.9,4.6,4.2,4.4,4.2,3.6,4.5,null,4.7,4.6,4.5,4.2,4.2,4.3,4.4,4.1,4.4,4.6,4.4,4.2,4.5,null,2.6,4.6,4.8,4.2,4.7,3.0,3.5,4.6,4.8,4.2,4.6,4.4,4.8,4.0,3.7,4.2,4.8,4.7,3.5,3.9,4.2,4.8,2.7,4.2,4.7,4.6,4.5,4.7,4.7,4.5,4.7,4.0,3.4,3.5,3.0,4.7,4.6,4.2,4.8,4.5,4.2,3.8,3.0,4.4,4.5,4.0,3.6,4.4,4.7,4.9,3.6,4.5,4.1,4.6,4.7,4.7,2.8,4.3,4.6,4.3,3.4,null,4.0,4.8,4.2,3.0,4.5,3.7,4.5,4.5,4.6,4.2,4.6,3.6,4.4,4.4,4.5,4.5,4.1,4.6,4.3,4.3,4.7,4.5,4.5,4.5,4.2,4.4,3.9,4.2,4.4,4.1,3.4,4.1,4.0,null,4.1,3.5,4.2,4.0,4.5,4.3,4.3,4.8,4.6,4.1,4.6,3.5,2.3,4.5,4.3,4.2,4.2,3.1,4.4,4.4,2.9,3.1,3.7,4.0,3.8,4.6,4.4,3.8,null,4.8,4.3,null,null,null,null,3.7,5.0,3.0,3.7,null,null,null,null,null,null,null,null,null,null,null,null,null,null,3.7,5.0,null,null,5.0,null,5.0,null,5.0,null,5.0,5.0,null,5.0,5.0,5.0,null,null,null,4.3,4.9,null,null,null,null,null,null,null,5.0,null,null,4.9,4.6,5.0,null,null,null,null,4.0,null,5.0,null,4.0,2.6,4.7,4.8,4.3,4.7,2.5,4.6,4.5,4.1,4.5,4.3,null,3.8,4.4,null,null,null,4.5,4.5,3.8,4.5,4.0,4.5,3.7,4.3,3.7,null,4.4,3.8,null,2.7,5.0,4.3,3.8,3.0,5.0,3.6,4.0,4.3,4.7,5.0,4.7,null,4.6,3.1,4.4,5.0,3.6,2.8,4.4,4.2,4.6,4.2,null,3.8,3.5,4.7,4.1,4.5,4.3,4.4,4.4,4.2,4.0,4.3,4.6,4.4,4.2,4.4,4.4,4.3,4.6,4.4,4.5,4.6,4.6,4.6,4.4,4.5,4.5,4.3,4.4,4.6,4.3,4.8,4.2,4.6,4.0,4.6,4.3,3.6,4.0,4.5,4.4,4.5,4.2,4.5,4.3,4.2,4.2,4.4,4.3,4.3,4.1,4.5,4.3,4.2,4.1,4.3,4.2,4.1,4.1,4.4,3.7,3.9,3.7,4.0,4.5,3.6,4.1,4.1,4.0,4.1,4.0,4.5,4.6,4.3,4.3,4.2,4.5,4.2,4.3,4.1,3.8,4.2,4.4,4.3,4.2,4.1,4.0,4.3,4.3,4.2,4.2,4.0,4.4,4.0,4.2,4.2,4.4,4.1,4.1,4.3,4.0,4.2,4.2,4.2,4.1,4.0,4.3,4.3,4.4,4.4,4.2,4.2,4.0,4.2,4.0,4.5,4.6,4.3,4.2,4.3,4.6,4.4,4.4,4.5,4.3,4.2,4.2,4.4,4.6,4.2,3.6,4.5,4.4,3.8,4.7,3.6,4.2,3.6,4.3,4.4,4.5,4.1,4.3,4.3,4.7,4.3,4.2,4.2,4.3,4.2,4.3,4.6,4.4,4.3,3.8,4.6,4.5,4.1,4.4,4.3,3.8,4.0,3.3,4.1,4.1,4.2,4.1,4.4,4.1,4.2,4.5,4.3,4.5,4.1,4.5,4.4,4.6,4.5,4.6,4.7,4.3,4.4,4.4,4.2,4.1,4.1,4.5,4.7,4.1,4.2,4.5,4.4,4.6,4.2,4.6,4.3,4.1,4.1,4.4,4.1,4.6,4.2,4.2,4.1,4.2,4.3,4.2,4.5,4.7,4.5,4.3,4.0,4.4,4.4,4.0,4.5,4.6,4.1,4.5,3.9,4.5,4.2,4.3,4.3,4.4,4.5,4.6,4.4,4.3,4.3,4.1,4.7,4.4,4.2,4.4,4.2,4.2,4.1,4.0,4.1,4.5,4.6,4.3,4.6,4.4,4.0,4.5,4.1,4.4,4.0,4.6,4.5,4.4,4.5,4.1,4.3,4.5,4.2,3.8,4.5,4.7,4.1,4.6,4.8,4.0,4.7,4.7,4.1,4.5,3.6,4.5,4.7,4.7,4.5,4.2,4.5,4.4,4.5,4.5,4.4,3.7,4.3,4.5,4.4,3.3,4.3,4.4,4.5,4.4,4.2,4.5,4.7,4.5,4.6,4.6,4.4,4.3,4.3,4.6,4.4,4.5,4.5,4.2,4.0,4.4,4.7,4.3,4.6,4.4,4.5,4.3,4.3,4.4,4.5,4.4,4.6,4.3,4.6,4.3,4.4,4.2,4.3,4.4,3.9,4.3,4.4,4.2,4.5,4.3,4.3,4.3,4.1,4.4,4.3,4.0,4.0,4.0,4.4,4.3,4.1,4.2,3.9,4.4,4.4,4.5,4.4,4.6,4.3,4.6,4.1,4.0,4.3,4.2,4.0,4.1,4.1,4.0,4.3,4.3,4.2,4.5,4.0,4.4,4.1,4.4,4.3,4.3,4.2,4.3,4.4,4.4,4.3,4.4,3.8,4.4,4.4,4.3,4.6,4.0,4.1,4.2,4.3,4.6,4.6,4.3,4.2,4.1,4.2,4.6,4.6,4.4,4.7,4.4,4.1,4.3,4.4,4.2,4.4,4.5,4.2,3.8,4.3,4.4,4.6,4.4,4.5,4.2,4.5,4.5,4.3,4.4,4.2,4.1,4.3,4.0,4.6,4.3,4.4,4.5,4.2,4.3,4.4,4.2,4.1,4.4,4.7,4.6,4.2,4.3,4.3,4.5,4.6,4.5,4.4,4.7,4.2,4.3,4.2,3.9,3.9,4.2,4.3,4.6,4.3,4.0,4.0,4.0,4.6,4.3,4.2,4.3,4.4,4.0,4.6,4.7,4.3,4.0,4.5,4.7,4.4,4.8,3.3,4.3,3.9,4.4,3.9,4.4,4.3,4.4,4.2,4.2,4.1,4.4,4.0,4.4,4.3,4.1,4.0,4.2,4.2,4.3,3.1,4.1,2.9,4.0,4.5,4.3,4.1,4.3,4.5,4.6,4.4,4.2,4.3,3.4,4.6,4.2,4.4,4.0,4.1,4.0,4.6,4.2,4.5,4.4,4.0,3.5,4.0,4.2,4.0,4.4,4.8,4.1,4.6,4.3,4.4,4.3,4.6,4.5,4.3,4.2,4.4,4.2,4.4,4.3,4.5,4.5,4.1,4.0,4.7,4.6,4.2,4.2,4.1,4.1,3.5,4.5,3.9,4.6,4.0,4.4,4.2,4.2,4.6,4.5,4.4,4.5,4.4,4.3,4.2,4.3,4.5,4.0,4.2,4.1,3.9,4.2,4.0,3.5,4.0,4.0,4.5,4.1,4.2,4.4,4.4,4.1,4.3,4.5,4.5,4.4,4.5,4.7,4.4,4.1,4.4,4.4,4.3,4.2,4.0,4.7,4.3,4.6,3.9,3.6,4.0,4.1,4.2,3.9,4.1,4.3,3.1,3.7,3.4,4.4,3.6,4.4,3.3,3.7,3.0,3.6,4.8,3.9,3.8,4.3,4.5,3.4,3.7,4.5,4.4,4.1,4.5,4.0,3.9,4.4,4.8,4.7,4.3,3.7,4.2,3.5,4.3,4.7,4.3,4.1,3.1,4.3,4.1,4.2,4.3,4.4,4.3,4.3,4.4,3.5,4.1,4.6,4.4,4.2,3.9,4.2,4.4,4.4,4.4,4.4,3.7,4.4,4.5,3.7,4.4,3.7,4.4,4.5,3.6,4.4,4.0,4.1,4.4,4.4,4.3,4.4,4.2,4.2,4.1,4.3,4.5,4.4,4.5,4.3,4.2,4.5,4.7,4.4,4.4,4.4,4.4,4.1,4.6,4.4,4.1,4.5,4.5,4.4,4.3,4.5,4.2,4.2,4.2,4.5,4.7,4.0,4.2,4.2,4.1,4.4,4.4,4.2,4.2,4.1,4.5,4.6,4.1,4.3,4.2,4.1,4.0,4.6,3.1,4.6,4.5,3.2,4.3,null,4.6,4.4,4.6,4.5,4.6,null,4.4,4.2,4.4,3.1,3.6,4.1,4.2,3.5,3.9,3.0,3.9,4.5,3.4,4.4,3.4,4.3,3.7,3.5,3.8,3.6,3.1,3.8,4.2,4.0,4.3,4.3,4.5,4.5,4.5,4.4,4.4,4.3,4.2,4.7,4.4,4.3,4.4,4.3,4.5,4.7,4.5,4.6,4.7,4.6,4.8,3.9,4.5,4.6,4.5,4.4,4.5,4.0,4.3,4.0,4.4,4.1,4.3,4.1,4.3,4.2,4.2,4.2,4.2,4.3,4.5,4.4,4.5,4.2,4.1,4.4,4.5,4.3,4.4,4.1,4.4,4.2,4.1,4.6,4.5,4.3,4.1,4.1,4.2,4.1,4.6,4.5,4.0,3.5,4.4,4.4,4.4,4.1,4.2,4.6,4.4,4.6,4.6,4.5,4.7,4.4,4.5,4.6,4.6,4.0,4.6,4.5,4.7,4.7,4.4,4.3,4.7,4.1,4.7,4.4,4.6,4.5,4.4,4.4,4.3,4.3,4.6,4.7,4.3,4.5,4.6,4.4,4.5,4.7,4.3,3.7,4.7,4.5,4.4,4.3,4.8,4.6,4.1,4.7,4.1,4.6,4.2,4.3,4.2,4.0,4.2,3.9,4.3,4.1,4.2,4.4,4.3,4.3,4.4,4.3,4.1,4.2,4.1,4.1,4.2,4.1,4.4,4.1,4.3,4.6,4.1,4.6,4.6,4.2,4.1,4.2,4.5,4.3,4.2,4.0,4.2,4.2,4.6,4.3,4.4,4.4,4.4,4.3,4.3,4.6,4.5,4.1,4.3,4.4,4.2,4.2,4.1,4.5,4.7,4.3,4.4,4.4,3.8,4.4,4.3,4.2,4.5,3.2,4.5,4.2,4.4,4.7,4.4,4.0,4.4,4.0,4.6,4.5,4.2,4.0,4.4,4.5,3.9,4.2,4.3,4.2,4.2,4.4,4.7,4.6,3.1,4.4,4.1,4.5,4.6,4.3,3.9,4.5,4.3,3.7,4.5,4.4,4.0,4.0,4.4,4.7,4.6,4.2,4.5,4.6,4.0,4.5,4.4,4.3,4.4,4.5,4.5,4.6,4.4,4.6,4.3,4.6,4.5,4.3,4.1,4.2,4.2,4.6,4.2,4.5,4.4,4.3,4.2,4.3,4.5,4.3,4.3,4.5,4.5,4.4,4.2,4.2,4.6,4.4,4.3,4.6,4.2,4.2,4.2,4.0,4.3,4.6,4.4,4.6,4.6,4.5,4.5,4.4,4.3,4.0,4.2,4.2,4.5,4.0,4.2,4.4,4.6,4.3,4.6,4.2,4.4,4.6,4.4,4.6,4.4,4.1,4.4,4.4,4.1,4.3,4.1,4.1,4.5,3.9,null,3.8,null,null,4.6,4.7,null,4.0,null,4.7,4.1,3.7,null,4.1,3.7,4.6,4.4,4.6,4.1,4.4,4.7,4.4,null,4.8,4.0,4.9,null,4.8,4.4,4.7,4.2,4.6,4.6,4.5,4.6,4.1,3.8,4.8,4.8,null,4.5,4.0,4.4,4.7,null,3.9,4.4,4.4,4.5,4.4,4.8,4.4,4.8,4.5,4.7,4.5,3.5,4.4,4.3,4.4,4.2,4.6,4.4,4.4,3.9,4.3,4.5,4.2,3.7,4.2,3.9,3.6,4.5,4.3,4.3,4.2,4.6,4.5,4.5,4.2,3.9,4.8,3.8,4.5,4.5,4.2,4.0,4.2,4.3,4.3,4.2,4.3,3.6,3.9,4.8,3.9,3.7,4.6,4.4,4.4,4.2,4.1,3.8,4.4,4.5,4.6,4.7,4.3,4.5,4.3,3.7,3.9,3.6,4.5,4.4,3.8,4.6,4.2,4.3,3.8,4.4,3.1,4.6,4.1,4.5,4.0,4.5,4.3,null,3.7,3.9,3.5,3.3,4.3,4.5,4.1,4.4,4.4,4.5,4.4,4.3,4.5,4.3,4.6,4.1,4.2,3.5,4.0,3.8,4.3,4.3,4.1,4.3,4.5,4.4,4.0,4.1,4.6,4.3,3.9,4.5,4.7,4.3,4.5,3.1,4.7,3.8,4.0,4.2,4.0,4.2,3.4,4.6,4.5,4.0,4.4,4.2,4.1,4.4,4.0,3.7,4.6,4.5,4.6,4.5,3.9,4.3,4.4,3.9,4.3,4.4,4.4,3.6,4.5,3.6,4.1,4.4,4.1,4.2,4.7,3.9,3.9,4.4,4.3,4.6,4.0,4.3,4.2,4.5,4.3,4.0,4.1,4.6,4.1,4.5,4.0,4.2,4.3,4.2,4.3,4.2,4.0,4.2,4.3,4.0,4.5,4.3,4.3,3.9,4.0,4.1,4.1,4.1,4.0,4.0,4.5,4.1,3.9,4.2,3.9,4.5,4.3,4.4,4.6,4.2,4.1,4.4,4.4,4.2,4.5,4.2,4.4,4.4,4.0,4.3,4.4,4.2,4.3,4.1,4.4,4.3,4.4,4.2,4.7,4.3,4.5,3.7,4.3,4.2,4.1,4.5,4.8,4.3,4.7,4.3,4.2,3.7,4.6,4.5,4.3,4.5,4.2,4.2,4.3,4.3,4.4,3.7,4.4,4.4,4.2,3.5,4.2,4.2,4.0,4.5,4.2,3.9,4.3,3.7,4.3,4.3,4.6,4.3,4.2,4.6,3.9,4.4,4.6,4.1,4.8,4.3,4.5,4.4,4.4,3.3,4.2,3.8,4.5,4.3,4.5,3.7,4.5,4.1,4.4,3.7,4.1,4.8,4.4,4.3,4.1,4.4,4.1,4.5,4.5,4.5,4.5,4.2,4.4,4.5,4.3,3.8,4.5,3.7,4.5,4.5,4.3,4.6,4.3,4.4,4.3,4.3,4.3,4.3,4.3,4.4,4.2,4.9,4.5,4.6,4.6,4.6,3.4,3.8,4.4,4.7,4.6,4.1,3.8,4.4,4.4,3.9,4.1,4.5,3.7,4.4,4.5,4.5,3.8,3.1,4.5,5.0,4.4,null,4.3,2.9,3.1,3.3,4.1,4.6,4.4,4.5,4.3,4.3,4.5,4.5,2.2,4.5,4.2,4.5,4.6,3.9,4.1,3.3,4.5,4.1,4.8,4.1,4.5,null,4.6,4.6,4.3,4.1,4.5,4.3,4.4,4.7,4.4,4.4,4.3,4.2,4.2,4.6,4.5,4.6,4.7,4.8,4.7,4.7,1.7,4.5,4.0,3.6,2.0,4.7,4.1,4.3,4.3,4.5,4.4,4.4,4.6,3.7,4.5,4.0,4.8,4.0,4.7,4.8,4.6,4.3,4.2,4.8,4.2,4.6,4.2,4.5,4.6,4.5,4.5,4.3,4.8,4.6,4.5,4.3,4.2,4.4,4.5,4.2,4.6,4.6,4.4,4.5,4.5,4.6,4.5,4.4,4.1,4.4,4.6,4.6,4.5,4.5,4.3,4.3,3.3,3.7,4.5,4.4,3.1,4.0,4.4,4.2,3.9,4.4,4.6,4.8,4.4,3.9,4.5,3.6,3.4,4.7,4.4,4.4,4.5,4.2,4.6,4.3,4.3,4.3,4.6,4.4,4.5,4.5,4.0,4.3,4.5,4.1,4.3,4.0,4.3,4.6,4.2,4.4,4.5,4.3,4.0,4.3,4.4,4.6,4.4,4.3,4.2,4.3,4.3,4.6,3.6,4.3,4.2,4.2,4.4,4.3,4.9,4.5,4.2,4.3,4.2,3.8,4.2,1.0,4.4,4.0,null,4.4,4.4,4.5,null,3.4,3.8,null,3.7,null,4.1,4.6,4.4,4.2,4.2,4.4,4.5,4.2,4.5,4.3,4.4,4.2,3.6,4.0,4.4,4.6,4.5,4.4,4.2,4.3,4.6,1.8,3.8,4.4,3.0,3.4,4.6,3.7,3.0,4.6,4.4,3.1,4.3,4.3,3.8,4.5,3.6,null,4.2,4.5,4.2,3.3,4.2,4.3,4.2,3.7,3.8,2.9,4.5,4.3,4.9,4.4,4.4,4.4,2.9,4.2,4.0,4.3,4.3,3.9,4.3,null,4.0,4.6,3.7,4.0,4.6,4.4,4.5,3.0,3.1,4.3,4.5,4.5,4.5,4.1,4.6,4.2,null,3.9,3.9,3.9,4.3,4.2,4.2,3.7,2.8,4.4,4.1,4.4,2.7,4.7,4.2,4.2,4.1,4.5,4.4,4.0,4.2,4.1,4.0,4.4,4.7,4.3,4.7,4.4,4.0,4.3,4.2,4.4,4.6,3.3,4.5,2.3,4.2,4.1,null,4.4,3.2,3.5,4.6,4.3,4.1,4.1,4.1,null,4.7,3.5,3.9,null,null,4.1,4.7,null,4.6,4.5,4.7,4.9,null,4.3,4.1,4.4,4.2,4.1,4.6,4.3,4.4,4.4,4.5,4.6,4.8,4.3,4.8,4.8,3.7,4.1,3.7,4.2,4.5,4.6,4.5,4.7,4.3,null,4.9,4.4,4.6,null,null,4.0,4.8,4.3,4.4,4.2,4.6,null,4.8,4.0,4.3,4.7,4.5,4.6,4.5,4.3,4.0,4.2,4.0,4.5,4.0,4.1,4.6,3.1,4.9,4.5,4.0,4.0,3.6,4.5,4.2,4.3,3.9,4.3,4.3,4.4,4.3,4.4,4.3,4.5,4.4,3.5,4.4,4.4,4.5,4.4,4.4,4.0,3.9,3.9,4.3,4.9,3.7,3.3,3.8,3.5,4.2,4.5,3.5,3.6,4.6,3.9,4.2,4.2,4.0,3.2,4.6,2.4,4.5,4.1,4.2,3.7,4.3,4.2,4.1,3.9,3.8,4.4,3.4,4.0,4.4,3.3,4.8,4.5,3.4,4.3,4.3,4.1,4.0,4.4,3.8,4.4,3.8,4.2,3.8,4.8,4.7,4.3,3.5,3.9,4.2,4.6,4.7,4.5,3.8,4.5,3.7,3.5,4.1,3.9,4.1,4.6,4.4,4.5,4.4,4.6,4.0,4.4,4.4,4.4,4.0,3.8,3.9,null,3.7,4.2,4.1,4.3,4.3,4.1,4.4,3.8,4.3,4.4,3.8,4.5,3.8,3.9,4.0,4.3,4.5,4.4,4.6,null,5.0,4.4,4.4,4.2,4.0,null,4.2,null,4.6,4.1,null,3.9,4.6,null,4.4,3.9,4.6,4.5,3.0,null,3.6,4.4,4.6,null,4.3,5.0,4.5,4.1,4.1,4.5,null,4.8,4.5,null,4.0,4.8,3.7,null,4.5,4.7,2.7,2.9,4.2,4.4,4.2,3.4,2.6,4.1,4.3,4.5,4.2,4.4,null,4.0,4.4,4.1,4.8,2.2,3.8,3.1,3.1,3.8,3.8,4.3,3.6,4.0,4.4,4.6,null,4.5,1.8,4.7,3.9,4.4,3.6,4.5,4.4,3.9,3.9,3.8,null,4.2,4.1,4.4,4.4,null,null,5.0,4.1,4.5,4.3,null,3.9,3.5,null,3.2,null,null,null,null,3.3,4.8,4.5,3.7,4.8,4.7,4.3,3.8,4.1,4.7,null,4.2,null,null,4.6,4.2,4.6,4.6,4.2,4.1,3.5,4.1,4.4,4.5,4.1,4.5,4.3,4.4,4.3,4.3,3.8,3.9,4.1,4.8,4.4,4.0,4.7,4.6,4.3,4.0,4.4,3.7,3.7,3.3,4.1,3.0,4.1,3.0,3.8,4.0,4.5,4.6,4.1,3.6,4.7,3.5,3.1,3.9,3.7,4.2,4.4,4.4,3.3,4.8,4.2,4.5,3.8,4.1,4.2,4.2,4.0,4.2,3.8,4.5,3.7,4.3,4.5,4.1,4.2,4.5,4.0,4.4,4.2,4.3,4.7,4.1,3.2,3.9,4.1,3.4,3.0,4.6,4.6,4.1,3.1,3.4,4.2,4.2,3.0,2.4,4.1,2.9,4.0,4.0,3.8,2.4,4.4,3.7,4.3,4.6,4.2,4.8,3.6,3.2,4.0,3.5,4.4,2.5,3.9,4.4,4.2,4.2,4.3,4.1,4.3,4.2,4.2,3.9,3.9,4.4,3.8,4.5,4.2,3.7,4.3,4.3,4.6,3.3,3.6,4.1,3.8,3.3,4.5,4.8,4.6,null,4.3,4.5,4.2,3.8,4.7,4.2,4.3,4.7,4.7,3.6,4.2,4.0,4.3,4.7,4.2,4.6,4.8,4.6,3.8,4.6,4.3,4.2,4.5,3.2,4.3,4.3,4.5,4.4,1.9,4.4,2.5,4.2,4.3,4.0,4.5,4.8,4.2,4.7,4.4,4.4,4.4,4.6,4.6,4.2,4.5,4.0,4.4,4.2,4.5,4.6,4.4,4.7,4.2,4.4,3.2,4.1,4.0,4.7,4.6,4.6,4.7,4.8,4.6,4.2,4.3,3.3,4.7,4.5,4.0,4.5,4.2,4.6,4.2,4.7,4.7,4.2,4.3,4.3,null,4.5,4.4,4.5,4.6,4.3,3.8,4.5,4.5,3.9,4.0,2.7,4.5,4.0,2.9,4.6,4.4,4.5,4.6,4.4,4.3,4.4,4.2,4.8,4.3,4.3,4.6,4.6,4.2,4.2,4.1,4.4,4.5,4.4,4.4,4.2,4.5,4.6,4.5,4.6,4.0,4.5,4.2,3.9,4.7,4.4,4.5,4.3,4.4,4.2,3.9,4.1,2.2,4.2,4.2,2.8,3.9,4.3,4.8,4.3,4.1,4.2,4.4,4.1,4.6,4.3,4.3,3.8,4.8,null,3.8,3.9,null,4.3,4.3,4.3,4.1,4.2,4.9,4.5,4.6,3.8,4.7,4.5,4.7,4.5,4.8,4.6,4.6,4.3,4.8,3.4,4.6,4.4,4.5,4.4,4.4,4.6,4.2,4.3,4.3,3.8,3.9,4.3,4.8,4.2,4.5,4.8,null,4.6,4.2,4.2,4.0,null,4.3,4.8,4.1,4.7,null,4.8,4.0,3.5,3.8,3.5,3.3,3.7,3.3,3.4,1.8,1.6,1.9,3.6,3.4,3.2,2.5,4.7,2.6,2.8,3.9,4.2,3.9,4.0,3.5,3.1,3.7,3.6,3.4,4.0,3.7,1.7,2.4,4.3,4.2,3.3,4.1,4.1,3.4,3.0,3.0,2.2,3.7,3.7,4.8,3.7,3.6,3.7,4.4,3.8,3.7,3.7,4.8,4.2,4.1,4.6,4.1,4.3,3.9,3.8,4.0,4.5,4.6,4.1,4.4,3.7,3.9,3.9,4.5,4.5,4.4,4.3,4.5,4.7,4.7,4.1,3.3,4.2,4.1,3.4,4.3,4.9,4.5,4.1,4.4,4.3,4.4,3.4,4.1,4.1,3.5,3.8,4.6,4.6,5.0,4.6,4.2,4.0,3.9,3.7,4.3,1.9,4.2,4.2,4.0,4.4,4.2,4.5,4.3,4.4,4.0,4.2,4.3,4.0,4.3,3.9,4.0,3.7,4.1,3.9,4.2,4.4,4.5,3.9,3.9,4.2,4.5,4.1,4.7,null,4.4,4.7,4.7,4.0,3.9,null,3.8,3.9,4.4,4.5,null,3.8,3.5,4.2,4.7,2.0,4.3,2.8,4.0,3.9,4.2,3.4,4.5,4.7,2.0,4.4,null,null,null,4.7,3.3,4.1,null,4.2,4.4,null,3.7,null,4.3,3.9,5.0,4.1,4.8,4.0,null,4.1,3.8,4.6,null,4.3,4.1,4.6,4.1,4.4,4.2,4.1,4.3,4.3,4.0,4.5,4.1,3.8,null,4.5,null,4.1,null,3.9,3.7,null,4.5,4.4,null,3.4,null,null,null,null,2.3,4.7,3.4,4.7,null,null,5.0,null,null,null,null,null,null,null,null,3.6,5.0,null,null,4.3,null,null,null,5.0,null,null,4.1,4.1,4.5,null,null,3.4,null,null,null,2.9,4.6,5.0,null,null,null,3.9,3.9,5.0,4.1,null,5.0,3.0,4.0,1.0,null,4.0,null,null,4.0,null,3.8,null,null,null,null,null,null,null,null,3.5,null,null,null,null,null,2.6,null,3.4,null,null,4.5,3.4,3.8,3.0,4.4,4.0,3.9,4.6,3.8,3.8,4.0,4.6,3.6,4.4,3.1,4.2,4.6,4.0,5.0,3.3,4.1,3.6,3.2,4.4,4.0,4.4,4.5,4.3,4.7,4.4,null,4.4,4.4,3.7,3.3,null,3.7,3.0,2.6,null,null,3.5,3.9,4.6,3.8,4.6,4.4,4.5,4.5,4.7,4.4,null,5.0,null,null,2.8,null,4.6,2.8,5.0,5.0,2.8,null,3.8,4.1,null,4.8,5.0,5.0,null,4.4,null,null,5.0,4.1,null,4.8,null,null,4.8,4.0,null,5.0,4.6,null,5.0,null,null,null,4.5,5.0,null,null,null,4.4,4.0,null,3.9,4.1,4.8,4.3,3.9,4.5,null,3.7,4.3,4.2,3.7,3.8,4.6,null,null,null,3.3,3.0,3.9,4.2,3.9,null,4.1,null,4.6,null,null,null,null,4.4,3.8,4.4,null,4.9,3.6,4.3,3.6,4.1,3.4,4.5,4.7,4.5,4.4,4.3,4.6,4.2,4.8,4.6,4.8,4.6,4.6,4.6,4.1,4.7,4.7,4.8,3.6,4.7,4.6,4.5,4.7,4.5,4.3,4.5,4.8,4.7,4.7,4.7,4.7,4.7,4.7,4.7,4.6,4.7,4.7,4.6,3.8,3.9,4.0,4.0,3.8,4.1,2.9,3.8,3.5,4.2,4.6,4.4,4.4,4.1,3.9,3.6,4.0,3.8,4.3,4.6,3.6,3.9,4.0,4.2,4.2,4.2,4.5,4.7,3.5,4.5,4.0,4.6,4.2,4.3,4.1,4.5,4.2,4.5,4.4,3.7,4.4,4.3,4.3,4.3,4.5,4.5,3.8,4.5,4.5,4.4,4.7,3.5,4.9,4.0,4.1,4.2,null,4.4,4.1,4.6,4.6,4.7,4.5,null,4.6,4.4,4.4,4.2,4.4,4.0,4.2,4.2,4.2,4.8,3.7,3.4,4.3,4.3,4.6,4.2,4.6,4.1,4.4,4.6,4.3,4.4,4.7,4.2,3.8,4.3,3.7,4.3,2.9,4.3,4.3,4.0,3.3,4.5,4.1,5.0,3.9,4.6,4.0,3.6,4.0,4.5,null,2.9,4.2,4.5,null,4.6,4.7,4.2,4.7,4.7,3.9,4.7,3.7,4.8,4.0,4.6,4.4,4.3,4.7,3.6,4.4,4.6,2.9,null,4.5,5.0,3.7,null,3.7,null,4.2,3.0,5.0,4.4,4.7,4.3,3.9,null,4.4,4.3,null,null,null,null,4.6,4.5,3.9,4.7,4.3,5.0,5.0,null,5.0,null,null,4.4,null,2.7,4.6,4.4,4.4,4.1,3.8,4.4,4.6,4.1,4.5,4.2,4.7,4.3,4.3,4.2,3.8,4.0,4.3,4.6,4.3,4.3,4.3,4.7,4.6,4.4,3.8,4.6,4.6,4.5,4.5,3.9,4.4,3.8,4.3,4.3,3.7,3.2,4.0,3.8,4.4,3.8,3.4,2.9,4.5,3.7,3.8,4.1,4.1,3.7,3.6,null,3.0,4.1,3.8,4.2,4.4,4.5,3.6,3.6,3.7,3.9,null,4.2,4.1,4.5,2.8,2.6,4.3,4.4,4.1,4.0,4.3,3.9,3.5,3.7,4.3,4.3,4.1,4.2,4.3,4.2,4.6,4.3,4.1,4.4,4.4,4.1,4.2,4.4,4.3,2.4,4.5,4.3,4.5,4.5,4.3,4.4,4.3,4.4,4.6,3.4,3.9,4.3,4.4,4.5,4.4,4.2,4.0,4.3,4.4,4.2,4.0,4.4,4.6,4.0,4.4,3.5,4.6,4.0,4.0,4.1,4.1,3.3,3.9,4.1,4.2,4.0,4.5,3.8,3.5,4.3,4.6,4.7,3.8,4.7,4.8,3.2,4.5,3.9,3.6,3.7,4.4,4.1,4.0,3.1,4.0,2.8,3.7,2.7,3.9,3.8,3.6,4.5,3.5,4.0,null,3.8,3.6,4.2,4.4,4.0,4.7,null,null,4.1,4.0,null,4.7,null,null,3.8,5.0,4.4,null,null,4.0,null,3.8,4.1,4.3,null,4.5,4.4,3.4,4.1,4.1,3.8,4.3,4.4,4.4,4.8,3.3,3.3,4.4,3.7,3.4,2.3,3.3,2.7,null,4.6,3.5,3.4,4.3,4.1,4.7,4.4,3.8,3.0,4.4,4.2,4.5,3.5,4.5,4.3,4.5,null,4.5,4.0,4.8,null,4.3,1.7,4.3,4.2,null,4.2,4.3,null,4.0,4.2,4.6,4.1,4.6,4.1,4.0,null,3.3,4.1,null,null,4.0,null,null,4.4,4.2,3.8,3.1,null,5.0,4.2,4.7,4.4,4.6,4.4,2.9,2.7,null,4.6,4.0,3.8,4.8,5.0,3.9,4.2,4.1,4.7,4.2,4.2,3.7,4.1,4.1,3.8,4.6,null,4.4,4.2,4.4,null,null,4.6,5.0,null,4.5,null,3.5,null,3.9,4.4,3.0,null,3.1,4.4,null,3.0,null,null,3.7,null,3.7,3.9,4.8,null,null,4.6,4.6,4.5,4.3,5.0,4.3,null,4.7,4.0,3.8,5.0,4.8,4.5,4.3,null,null,null,null,3.7,null,null,null,null,null,4.3,null,3.8,null,null,4.5,4.6,4.1,4.2,null,5.0,null,null,null,4.3,null,3.3,3.6,4.0,4.0,4.0,4.3,4.2,4.3,4.2,4.5,4.3,4.6,4.4,4.2,4.2,4.2,3.4,3.2,4.0,4.6,3.2,4.4,4.0,4.7,null,3.7,3.9,4.2,4.1,3.5,4.8,4.3,3.9,null,3.5,4.3,4.4,4.8,3.9,3.8,4.2,4.0,4.0,4.4,4.7,4.5,4.3,3.3,4.3,4.1,2.1,3.7,4.2,4.4,4.2,2.1,2.4,4.1,3.1,5.0,null,3.5,4.2,null,4.7,null,null,null,4.8,null,4.5,4.6,4.6,4.9,4.8,4.0,3.9,4.1,4.1,4.5,4.2,4.0,4.4,1.9,null,null,3.7,null,4.2,4.0,4.3,2.5,4.4,null,3.7,4.7,4.6,4.4,4.3,4.4,2.6,3.6,3.8,4.4,4.4,3.0,4.2,3.7,5.0,null,4.2,4.8,4.4,4.1,4.7,4.7,3.3,4.0,null,null,1.0,4.4,4.2,4.4,4.6,4.3,4.4,null,3.7,2.9,4.0,4.4,3.3,null,null,4.2,4.5,2.3,5.0,3.6,null,3.9,4.4,4.2,4.8,4.3,4.2,4.4,4.3,4.0,1.4,3.3,4.3,null,4.6,4.7,4.2,3.9,3.4,4.3,4.8,4.8,4.5,3.3,4.2,4.9,4.2,4.6,4.1,4.6,4.0,4.2,5.0,4.1,3.7,4.1,3.8,4.7,3.5,4.0,4.2,3.3,3.7,3.4,3.7,5.0,4.4,5.0,4.8,4.4,4.9,4.0,4.4,4.5,4.9,4.4,4.4,5.0,4.8,4.6,4.3,3.8,4.3,4.3,4.1,4.5,4.2,3.8,4.3,4.4,4.2,4.2,3.8,4.2,4.0,4.2,4.3,4.3,4.4,4.7,4.1,4.5,4.2,4.3,4.4,4.5,4.3,null,4.2,4.0,3.4,4.4,3.8,3.0,4.1,4.4,4.1,4.1,4.1,4.5,4.1,2.2,3.9,4.0,4.3,3.9,4.0,4.2,4.2,3.6,4.3,null,null,4.4,2.6,4.1,null,3.5,4.2,null,null,3.7,4.5,2.4,null,2.9,4.2,4.2,4.0,2.6,4.4,4.8,4.7,4.4,4.6,2.7,3.8,1.7,4.6,3.3,null,null,4.6,2.3,4.5,null,4.8,null,5.0,null,4.1,null,null,null,null,null,null,4.9,3.0,null,null,4.8,4.5,3.4,null,null,null,null,4.0,3.7,2.2,4.8,null,5.0,null,null,null,4.5,null,4.3,3.8,null,4.5,4.5,null,4.8,4.5,4.4,null,3.9,4.3,4.3,null,4.0,null,4.1,4.6,3.7,3.4,4.5,4.4,null,4.4,2.4,4.1,4.6,4.6,4.3,4.3,4.7,null,4.2,4.3,4.3,3.9,4.7,4.2,4.1,4.6,4.7,4.3,4.5,4.6,2.9,4.0,3.0,3.9,null,4.8,3.9,4.0,null,null,null,5.0,null,null,null,4.0,null,5.0,null,null,4.5,4.8,null,4.6,4.2,null,3.4,2.6,2.4,null,4.5,4.6,3.3,4.1,4.6,3.9,null,null,null,null,null,4.0,3.4,4.5,4.0,5.0,3.6,3.5,4.6,4.9,3.7,5.0,4.0,3.9,5.0,4.0,null,null,4.9,4.4,3.6,4.7,4.3,3.9,4.5,4.2,4.6,4.1,4.3,4.6,null,null,4.2,4.6,4.5,4.4,4.2,4.5,4.0,4.2,4.7,4.1,4.4,4.3,4.6,4.2,4.0,2.3,4.5,3.6,4.4,3.9,3.9,4.8,4.2,3.7,4.0,null,1.0,null,4.4,4.2,4.7,3.6,null,4.1,3.3,null,null,5.0,4.3,4.7,null,null,null,null,null,4.0,null,4.4,4.6,5.0,4.3,4.3,null,3.8,4.1,4.6,4.0,4.7,3.6,4.5,4.0,4.1,4.0,3.8,null,4.5,2.8,null,4.2,4.8,5.0,5.0,null,null,null,4.3,4.3,4.5,4.5,5.0,3.8,4.4,5.0,4.7,null,4.7,2.2,4.6,4.6,4.7,4.6,4.4,3.8,3.6,4.9,4.8,null,4.4,5.0,4.8,null,null,4.6,5.0,4.6,5.0,null,4.0,4.3,4.5,4.0,3.2,4.6,4.2,4.8,3.0,4.3,3.9,3.2,3.9,4.8,3.5,4.4,4.1,4.2,4.7,4.0,4.4,4.2,5.0,3.5,3.8,null,4.5,4.1,null,4.3,null,4.3,4.4,null,null,null,null,null,4.0,4.3,4.0,4.9,4.7,null,null,null,4.3,4.2,4.1,4.3,4.7,3.2,3.9,4.2,4.1,4.9,null,3.7,3.5,4.9,null,3.3,4.9,3.4,null,4.5,4.3,5.0,3.5,null,null,4.4,3.7,null,4.8,null,4.3,4.9,null,null,null,null,null,null,5.0,4.3,4.3,null,null,4.4,1.0,4.5,null,4.0,5.0,4.9,4.7,4.5,3.9,null,3.2,3.5,null,3.7,3.0,4.2,4.0,4.1,null,4.7,4.0,3.1,4.4,3.2,3.9,4.2,4.7,4.0,null,null,4.0,3.7,4.1,4.4,4.0,3.9,3.6,null,null,4.6,null,4.4,1.9,4.3,4.5,4.1,3.8,4.1,4.6,3.7,3.9,4.4,null,4.5,null,null,4.3,4.4,3.5,4.3,4.5,4.5,4.4,4.2,4.3,null,3.6,4.0,3.8,null,null,4.4,3.8,3.9,4.1,4.3,3.5,null,4.3,null,4.7,4.5,3.8,4.5,4.2,4.3,4.1,4.6,4.6,4.5,4.5,3.0,2.6,3.4,4.4,4.2,4.0,4.7,3.4,3.7,3.7,4.5,3.9,5.0,4.3,4.2,null,4.0,null,4.5,4.0,4.4,1.8,4.3,5.0,5.0,null,3.2,4.2,4.6,3.8,3.9,4.2,null,4.0,3.8,4.1,3.9,4.4,2.1,1.8,4.2,2.0,null,null,3.4,4.3,3.6,3.7,4.7,4.5,4.6,3.6,null,null,4.4,4.6,null,null,null,2.3,null,null,3.8,null,3.0,5.0,4.5,4.4,4.5,4.8,4.3,3.8,null,4.3,3.7,4.5,null,4.3,null,4.4,3.4,4.5,1.6,null,null,4.5,null,null,null,null,null,null,4.4,3.8,4.3,4.3,3.0,4.0,4.2,4.8,4.0,4.5,null,4.7,1.9,4.9,4.4,4.7,null,4.9,4.8,null,null,4.5,null,null,4.6,4.5,null,5.0,null,3.9,null,null,4.3,null,4.8,4.3,4.6,null,null,4.1,4.5,4.3,3.8,2.4,4.3,2.8,4.5,4.6,4.1,4.2,4.6,4.3,4.6,5.0,5.0,3.9,4.2,3.9,4.2,null,null,null,3.5,null,4.0,null,3.7,3.8,4.3,null,null,4.5,4.6,null,4.5,4.3,4.4,null,null,4.6,null,3.9,null,3.9,3.1,3.9,4.4,4.4,4.4,4.6,3.9,4.6,2.5,4.6,2.8,4.0,3.4,3.8,4.5,4.8,3.3,3.9,3.5,4.5,4.0,null,3.6,null,4.7,3.9,5.0,4.6,3.9,4.9,3.6,3.7,3.9,2.7,3.8,2.8,3.5,4.1,null,4.7,4.3,4.5,4.1,null,null,4.8,null,null,null,3.4,5.0,null,null,4.3,4.4,1.8,4.2,3.3,null,5.0,null,null,null,4.8,null,4.5,5.0,4.5,4.7,null,4.6,null,null,4.5,null,null,3.5,null,null,3.5,2.9,null,null,5.0,null,null,null,null,4.3,null,4.8,4.7,4.3,4.1,5.0,5.0,null,null,null,4.0,null,4.3,null,4.1,5.0,null,5.0,null,null,null,4.0,null,null,3.5,null,null,null,4.1,null,null,4.6,null,null,null,4.1,4.2,4.2,2.2,4.3,4.7,3.8,null,4.1,null,3.1,4.2,null,3.0,4.8,3.7,3.1,4.6,2.9,4.2,4.7,4.5,2.8,null,4.4,4.4,4.1,4.6,3.0,4.1,4.2,null,4.4,3.9,null,null,null,null,4.3,4.5,4.5,3.6,2.0,4.0,4.5,4.0,4.3,null,4.5,4.8,4.5,null,null,4.2,4.5,4.6,null,null,3.9,null,null,4.3,3.9,4.3,3.7,4.7,4.3,1.7,4.5,null,4.7,null,5.0,null,null,null,4.6,2.9,null,4.8,2.3,null,3.8,4.2,null,4.4,null,4.0,4.1,3.4,4.3,4.0,4.2,4.1,4.7,4.2,3.9,3.8,4.1,4.2,3.8,4.7,3.7,4.3,4.0,4.2,4.6,4.7,4.7,4.3,4.2,3.5,4.7,4.7,4.5,4.5,4.7,4.6,4.6,4.9,4.2,4.3,4.4,4.4,4.5,4.3,4.4,4.4,3.0,4.8,4.7,4.6,4.0,3.7,3.5,2.7,4.7,4.1,4.5,4.6,4.5,4.4,4.3,4.4,4.5,4.6,4.7,4.6,3.1,3.9,4.7,4.6,4.7,null,5.0,4.4,4.8,null,4.1,null,4.3,4.4,4.7,4.0,3.4,4.6,null,2.8,null,3.1,null,3.9,null,4.2,4.5,null,4.1,null,4.2,null,null,3.3,4.4,null,4.4,4.6,4.4,4.5,4.1,2.2,4.2,4.8,null,null,3.2,4.3,4.0,4.6,4.4,4.5,null,3.4,null,null,3.3,4.2,null,2.4,3.2,3.1,3.8,null,4.8,3.7,4.2,3.7,3.0,3.9,4.0,5.0,null,4.0,2.7,3.1,4.1,4.5,4.0,3.8,3.8,4.3,3.5,4.5,3.9,null,4.5,null,null,3.3,4.1,null,null,5.0,null,3.7,4.8,1.5,5.0,4.6,null,null,5.0,4.7,null,4.7,null,5.0,4.5,null,5.0,null,null,5.0,4.2,1.0,4.5,4.2,5.0,4.2,4.4,3.9,4.6,3.8,null,null,4.0,null,null,null,4.6,null,null,3.4,null,5.0,4.6,null,null,null,null,5.0,null,null,null,null,3.0,null,3.8,4.2,4.3,null,null,null,null,null,null,4.4,3.2,null,null,null,3.5,4.4,4.5,3.7,5.0,4.5,4.5,4.1,null,3.4,4.1,null,null,5.0,4.2,4.1,4.1,null,4.2,4.3,null,5.0,4.4,null,4.3,4.5,null,4.8,4.4,null,null,null,4.4,null,null,null,null,null,4.7,null,null,null,null,null,4.3,4.4,4.6,2.8,5.0,4.4,4.4,2.0,5.0,4.4,5.0,null,3.4,4.4,null,3.4,null,null,3.3,1.5,null,null,null,5.0,null,4.3,4.3,null,null,null,null,2.2,4.6,null,null,5.0,null,null,4.7,null,null,null,null,null,null,4.7,3.5,4.3,3.6,4.3,3.6,2.6,4.7,4.5,4.0,4.6,5.0,4.2,null,null,4.2,null,4.7,4.5,3.6,3.8,4.2,3.8,3.5,4.1,null,null,5.0,null,4.2,4.1,null,null,3.6,4.3,4.1,4.4,null,null,4.0,5.0,5.0,null,3.8,4.3,4.7,4.5,4.4,4.7,4.4,3.7,4.3,null,4.0,3.9,null,4.9,3.5,3.5,null,4.4,4.2,null,null,null,4.3,null,4.7,4.5,4.4,4.2,4.4,3.3,4.4,4.9,4.5,4.7,4.7,3.9,4.7,4.7,null,4.4,4.8,4.8,4.0,3.7,5.0,3.0,3.9,null,null,4.6,4.6,4.3,4.2,null,5.0,null,4.5,null,4.2,null,1.0,null,4.6,null,null,null,null,null,null,4.1,4.7,null,null,null,4.4,4.8,4.2,null,null,5.0,4.6,4.5,5.0,2.9,null,4.4,null,null,3.0,4.5,2.4,4.3,3.9,1.9,4.4,5.0,4.0,4.7,3.9,5.0,4.2,4.2,2.8,4.2,1.0,3.9,4.1,4.1,3.2,null,5.0,null,5.0,4.3,4.1,3.8,4.0,null,4.2,5.0,4.1,5.0,null,3.7,null,null,4.1,3.5,3.9,4.2,3.8,3.7,4.7,2.8,4.7,4.3,4.1,null,4.7,4.2,4.0,3.2,4.6,5.0,4.4,4.5,4.0,4.6,4.7,null,4.1,4.5,4.3,null,5.0,5.0,4.2,4.0,null,5.0,2.7,4.1,null,null,4.4,null,4.3,4.1,4.7,4.4,null,null,3.6,4.0,4.1,4.0,4.1,4.0,4.6,null,null,null,null,5.0,3.6,4.1,4.3,4.1,2.6,2.7,3.8,5.0,4.2,null,5.0,2.6,4.4,4.3,null,null,4.7,2.8,4.1,null,3.6,null,null,4.0,null,null,5.0,5.0,4.7,4.7,4.6,4.7,4.6,4.6,4.6,4.6,4.6,4.4,3.8,4.1,3.4,4.5,4.5,4.5,4.0,4.7,4.4,4.4,4.7,4.7,4.2,4.2,4.0,3.6,4.7,4.4,4.3,4.4,4.4,4.4,4.3,3.3,3.6,4.5,4.5,4.6,4.3,3.6,4.3,4.4,4.1,4.2,4.8,4.2,null,4.0,3.7,4.5,4.1,4.6,4.5,4.7,4.3,4.3,4.6,4.1,4.2,4.3,4.2,4.3,3.6,4.2,4.2,4.0,4.6,4.3,4.4,4.5,4.3,3.7,4.2,4.7,4.6,4.5,4.1,4.5,4.3,3.4,4.2,3.9,4.4,4.1,4.3,3.9,4.0,null,5.0,4.2,4.3,4.5,4.5,3.9,null,4.5,3.5,3.6,1.9,4.3,3.2,1.6,4.2,4.9,4.4,3.6,3.4,null,4.7,2.9,4.3,4.4,4.3,4.6,4.6,4.2,3.5,null,2.9,4.4,4.7,4.5,4.4,2.0,4.7,4.4,4.4,4.4,null,4.5,3.5,4.2,3.7,4.4,3.4,4.3,3.6,4.6,4.6,4.2,4.3,3.8,1.4,4.4,null,4.0,null,4.6,3.9,3.8,4.7,4.2,4.3,4.1,4.3,4.2,null,3.6,4.6,null,4.3,5.0,5.0,5.0,4.5,3.8,3.9,null,null,4.8,4.1,4.0,4.8,4.8,4.4,null,4.1,null,null,null,4.4,4.3,3.7,4.3,null,null,4.3,2.7,4.4,null,4.5,null,4.2,null,3.7,null,5.0,null,4.2,3.9,null,4.5,null,3.5,4.7,4.2,4.4,4.7,4.6,4.0,null,2.5,null,null,3.8,4.7,4.5,4.6,4.6,5.0,3.9,5.0,null,2.3,null,3.6,4.0,3.7,4.2,4.1,4.4,4.6,4.2,4.4,4.3,4.0,4.5,3.9,3.7,4.6,null,3.8,4.7,null,3.4,4.5,4.1,4.3,4.6,4.3,4.3,4.0,null,3.5,2.3,null,3.9,4.1,4.5,4.6,4.4,3.1,4.3,3.3,5.0,null,4.2,3.8,3.3,null,5.0,1.0,4.5,4.6,4.3,4.4,4.1,4.5,4.2,3.7,4.1,3.9,4.5,3.6,3.2,3.5,3.7,4.6,4.8,4.1,4.4,4.3,null,4.0,3.1,4.2,4.1,null,3.5,4.3,3.8,4.3,4.8,2.3,4.3,4.4,3.6,5.0,null,4.3,4.2,4.3,4.7,3.9,4.4,4.4,4.3,2.6,4.3,null,3.8,4.2,4.2,4.1,4.0,4.4,4.7,null,2.6,4.3,5.0,3.7,4.3,4.1,4.3,3.8,4.5,5.0,null,null,3.9,3.8,4.6,null,4.6,4.7,5.0,null,4.5,null,4.3,3.5,3.3,null,4.8,3.9,null,4.5,null,3.4,5.0,5.0,null,null,4.8,3.6,null,4.3,4.0,4.5,4.6,4.7,3.8,3.4,4.7,4.0,4.6,2.0,4.3,2.0,3.6,4.7,3.5,4.0,3.5,4.3,4.1,4.6,3.8,4.3,3.8,1.0,3.8,3.3,4.8,3.0,4.0,3.6,3.8,4.3,3.9,4.2,4.6,4.0,4.5,4.6,4.6,4.5,3.7,4.4,4.6,3.9,4.4,4.5,4.5,4.3,3.7,3.9,3.9,4.3,4.1,4.1,4.4,4.4,4.2,4.5,4.6,4.4,4.4,4.4,3.8,2.6,4.2,4.4,4.2,4.0,4.2,4.0,4.4,4.5,3.2,4.3,3.4,2.3,4.4,4.3,null,4.3,3.6,4.6,4.2,4.0,4.4,4.5,3.2,1.7,2.2,3.8,4.8,null,4.4,4.5,4.8,4.6,3.7,4.4,3.5,3.8,3.8,4.3,null,4.6,null,4.5,null,3.7,null,4.8,4.3,5.0,3.9,3.0,null,5.0,null,4.4,4.6,3.9,3.3,4.1,3.0,4.2,4.2,4.2,4.0,4.0,3.2,4.6,3.2,4.1,3.3,4.4,4.0,4.2,4.1,4.3,3.3,4.7,4.4,3.1,3.1,3.3,3.9,3.4,3.9,4.4,3.9,3.7,4.5,4.7,null,4.6,null,5.0,3.0,null,3.9,null,5.0,3.9,null,null,null,null,null,null,3.8,null,3.6,3.9,3.8,null,4.8,null,null,null,null,4.4,4.5,4.0,4.7,4.8,4.7,4.7,4.5,4.0,null,3.2,null,null,4.7,4.5,null,4.5,4.9,4.2,5.0,5.0,null,5.0,null,null,4.2,4.7,null,null,4.5,null,null,null,4.5,4.5,3.8,4.5,null,4.3,3.9,3.9,4.2,4.5,4.1,4.4,4.1,4.6,3.3,4.5,2.2,4.4,3.9,4.5,2.8,3.3,null,4.5,null,null,3.1,3.2,4.4,4.1,null,5.0,null,null,3.8,null,null,4.3,4.6,null,null,3.7,4.9,4.3,5.0,null,null,2.9,4.4,4.4,null,4.6,4.5,4.0,null,3.5,4.8,4.8,3.5,4.7,4.6,4.4,4.3,4.7,4.4,4.0,3.5,4.6,3.9,3.5,4.6,4.2,4.4,4.6,4.0,4.2,3.8,4.1,4.3,4.4,4.5,4.1,4.2,4.0,3.6,3.3,4.7,4.6,4.5,3.9,4.3,null,3.9,4.3,null,null,3.1,4.4,3.7,4.6,4.6,2.7,null,null,4.1,4.2,1.9,4.6,null,4.2,null,4.4,4.2,3.9,2.4,5.0,3.9,null,3.7,5.0,4.0,3.0,4.1,4.8,4.5,3.5,null,null,null,4.5,4.5,4.2,4.3,4.4,4.4,4.3,4.2,4.5,4.3,4.3,4.2,4.9,4.1,1.4,4.0,5.0,4.3,null,4.2,4.3,3.8,4.1,4.2,4.3,4.1,4.3,3.6,4.3,4.6,4.4,5.0,4.4,4.5,null,4.7,null,5.0,null,null,3.4,3.1,4.5,5.0,4.3,4.4,4.3,4.2,4.0,4.5,4.0,4.1,3.8,4.3,4.6,4.1,4.3,4.3,4.2,4.3,4.4,4.4,3.9,4.3,4.5,4.3,3.5,4.2,4.1,4.1,4.7,4.5,3.3,4.2,null,null,4.2,4.6,null,4.3,4.3,4.0,4.7,5.0,null,null,null,null,null,null,null,5.0,4.9,null,null,null,null,null,null,4.3,null,null,null,4.0,null,null,4.5,null,4.1,4.3,null,null,null,4.5,null,null,3.9,3.7,4.2,3.6,3.6,2.1,4.7,3.2,3.0,4.3,3.0,4.3,3.9,3.3,4.3,4.0,3.7,2.8,4.4,5.0,3.9,4.2,4.8,4.0,null,3.0,4.5,2.6,5.0,null,null,5.0,4.1,null,4.5,5.0,4.7,4.5,4.4,4.4,4.3,4.2,3.0,4.1,4.2,4.2,4.0,4.3,4.1,3.6,4.3,5.0,4.2,3.9,null,4.1,3.8,5.0,3.7,4.3,4.2,4.3,2.5,4.3,4.4,null,4.3,4.2,4.6,4.0,2.9,null,4.5,4.7,3.8,null,4.7,3.9,4.5,4.7,4.5,4.2,4.3,4.4,4.8,4.2,4.1,4.5,4.5,4.6,4.4,4.1,4.3,4.7,4.4,4.2,4.3,4.5,4.3,4.8,4.5,4.6,4.7,4.4,4.1,4.3,4.2,4.2,3.6,2.8,3.9,3.8,4.4,3.7,2.7,3.8,3.2,3.9,2.3,4.1,4.3,3.1,4.6,4.1,4.4,3.2,4.5,3.7,null,null,null,4.4,4.5,5.0,4.8,null,4.6,4.0,4.1,null,4.1,null,null,4.8,null,null,null,4.3,2.8,null,null,4.7,4.5,4.2,4.3,3.8,3.8,4.2,3.8,4.0,4.0,4.6,4.0,4.3,4.3,3.9,5.0,4.0,4.1,3.9,4.2,4.3,4.5,4.4,4.1,4.2,4.5,4.6,4.1,3.9,4.7,3.9,4.3,2.9,4.4,3.7,4.4,4.1,null,2.8,4.9,3.4,2.8,2.5,4.7,3.1,null,3.2,4.3,3.9,3.6,3.2,null,3.5,3.3,null,null,null,null,2.4,4.4,2.8,5.0,null,4.4,null,null,null,null,null,null,null,5.0,null,3.3,2.9,4.1,4.6,null,2.2,4.3,5.0,2.5,null,3.0,3.7,5.0,null,null,null,null,5.0,null,null,4.1,null,null,null,4.1,2.6,4.6,4.5,null,4.5,null,3.3,null,4.4,4.7,4.7,4.0,4.5,4.3,4.6,4.7,4.4,4.0,4.2,4.3,4.1,4.5,4.3,4.3,4.7,4.1,4.3,4.4,3.1,4.0,4.5,4.5,4.4,4.2,4.6,4.4,4.6,4.0,4.6,4.3,4.3,3.9,4.5,4.7,4.3,4.6,4.6,4.2,4.3,4.6,4.2,4.1,4.6,4.4,3.7,4.4,3.9,4.3,4.3,4.3,4.5,4.5,4.5,4.5,4.7,4.3,4.4,4.5,4.3,4.3,4.2,4.2,4.3,4.2,4.7,4.1,4.3,4.1,3.8,4.5,4.1,null,4.3,4.5,4.1,4.4,4.3,4.4,4.3,null,4.1,4.6,4.7,4.2,3.7,4.7,4.4,4.7,4.2,4.6,4.5,4.8,3.7,4.3,4.2,3.6,4.1,2.3,4.3,4.6,4.5,4.0,4.2,4.6,4.2,4.5,4.3,4.4,3.6,4.0,null,2.8,3.8,4.1,3.8,3.4,4.5,4.3,3.1,4.6,3.3,3.9,4.2,4.9,3.9,3.4,3.7,4.2,3.8,4.6,4.4,4.0,4.2,null,4.2,4.5,4.6,4.4,4.6,4.5,3.7,4.1,4.2,4.0,4.5,4.6,4.5,4.4,3.3,4.2,4.2,4.0,4.0,4.0,3.5,4.5,3.9,3.9,4.1,4.4,4.2,4.4,4.3,4.1,4.0,4.3,4.4,4.5,4.6,3.7,3.8,3.4,4.3,3.8,4.7,4.4,4.4,4.1,4.4,4.0,3.9,4.3,4.2,3.3,4.0,4.6,4.1,4.1,3.4,3.4,4.1,4.0,3.4,3.2,3.8,3.8,3.9,3.6,3.8,3.9,3.2,1.0,4.6,null,3.6,4.9,null,2.6,3.9,null,3.5,3.2,null,3.3,null,null,3.8,3.9,4.6,1.8,null,4.3,3.9,null,4.8,3.7,4.0,4.1,4.6,4.0,null,4.8,null,4.0,3.5,null,3.0,4.6,1.6,3.8,1.7,4.6,5.0,4.6,4.4,4.5,3.8,4.0,4.1,null,5.0,null,null,null,null,5.0,1.0,null,null,4.4,4.7,4.6,2.4,null,4.5,null,null,4.4,4.3,5.0,4.1,3.8,3.9,3.1,4.7,4.5,3.5,4.5,4.6,4.5,4.5,4.4,4.3,4.4,4.2,4.6,4.5,3.8,4.3,4.6,4.3,3.6,4.2,4.7,4.3,4.7,4.8,3.1,4.5,4.4,4.5,4.5,null,4.7,4.1,4.4,4.3,4.6,3.4,null,4.7,3.6,3.7,2.1,2.0,3.5,4.3,2.4,4.5,2.8,null,4.5,null,2.8,3.9,3.2,3.1,2.4,4.6,2.9,4.0,3.7,2.3,2.9,4.6,4.3,5.0,4.2,4.6,4.5,4.2,4.8,3.5,4.6,3.5,3.6,null,5.0,3.0,null,null,2.9,3.7,4.6,null,4.2,3.2,2.5,4.4,4.3,2.7,4.0,4.5,3.4,4.3,4.3,null,4.3,null,null,4.0,4.9,3.4,4.9,4.3,4.7,4.8,4.3,4.3,4.0,null,3.5,null,5.0,4.7,null,4.2,4.4,4.2,5.0,null,5.0,2.0,null,3.7,null,null,null,3.9,4.5,null,null,null,3.1,4.5,4.7,null,4.4,3.8,4.2,4.5,null,4.5,4.6,4.2,4.5,4.2,4.2,4.1,4.3,5.0,4.6,4.0,4.4,null,4.5,3.6,4.6,null,4.0,4.6,4.5,4.5,null,null,null,4.8,5.0,4.4,null,4.0,3.5,5.0,4.0,4.2,4.0,3.9,4.5,3.6,4.2,3.0,3.0,4.0,3.4,4.9,null,null,null,null,4.0,4.4,4.1,4.4,4.0,null,4.5,4.2,3.9,null,3.6,5.0,4.4,3.6,4.7,4.2,4.5,4.7,null,null,4.3,4.2,4.4,null,4.7,4.4,null,4.1,4.5,4.1,4.0,null,null,4.3,4.2,null,4.2,null,4.1,4.2,null,5.0,4.0,4.0,4.5,null,4.1,null,4.7,4.4,4.9,3.6,4.2,null,4.4,null,4.5,4.2,null,null,4.2,null,4.5,4.4,4.4,4.5,4.5,3.9,4.3,4.4,null,4.5,4.0,4.5,4.0,4.4,4.3,2.5,4.4,3.8,4.4,4.2,4.1,4.2,3.9,4.5,4.1,4.4,4.3,4.5,3.4,3.4,4.4,4.2,4.4,3.5,4.1,4.6,1.7,3.3,5.0,4.8,null,4.6,3.3,null,4.2,null,3.5,3.7,5.0,null,null,4.6,4.1,3.5,5.0,null,3.7,4.0,null,null,4.2,null,4.5,3.8,2.5,4.0,null,4.0,4.1,null,null,3.4,3.6,3.4,3.9,4.6,4.3,4.7,5.0,3.9,3.9,4.2,4.3,3.5,null,4.1,4.2,4.4,4.5,3.8,3.4,null,3.9,4.5,null,null,3.0,null,4.1,4.6,null,3.9,4.7,4.5,3.4,5.0,5.0,5.0,4.0,null,null,4.0,null,4.9,5.0,null,4.6,null,4.8,4.1,4.1,null,null,4.7,null,5.0,4.4,3.3,4.0,3.5,2.8,null,3.6,3.2,3.6,3.7,3.3,3.1,4.1,3.1,3.5,3.6,5.0,2.3,null,3.1,2.9,3.0,2.9,3.9,5.0,null,3.4,5.0,null,4.8,null,4.2,null,null,null,5.0,null,4.3,4.6,4.7,null,4.4,4.8,null,null,4.1,null,4.6,4.3,4.6,4.0,2.9,4.1,null,null,null,null,4.2,null,4.3,4.4,2.4,4.2,null,null,null,3.1,null,3.0,4.7,3.4,null,4.7,4.7,4.2,5.0,4.5,4.3,3.3,4.4,null,4.2,4.2,4.7,4.3,4.8,4.2,4.0,4.2,4.1,4.6,4.6,3.8,4.5,4.4,4.1,4.0,3.9,3.5,5.0,4.6,null,3.6,4.2,null,null,3.8,null,3.4,3.8,4.2,4.2,3.7,4.0,4.4,4.5,3.7,4.2,3.9,4.0,3.7,4.2,4.0,3.9,4.1,4.3,4.5,4.5,3.3,4.4,4.2,4.2,4.1,4.1,4.4,4.1,3.9,3.9,4.4,3.8,3.0,3.4,4.3,null,null,5.0,null,4.1,null,2.4,3.9,null,null,null,4.0,null,3.0,null,4.4,3.4,2.9,5.0,4.5,3.7,3.0,null,4.0,3.2,3.6,3.2,3.7,4.7,4.4,3.9,4.4,4.3,4.9,2.6,5.0,4.1,4.0,4.1,null,3.3,4.2,4.0,4.3,null,4.4,5.0,4.3,4.4,null,null,null,3.9,4.3,4.0,3.8,4.5,null,3.8,4.4,4.3,4.7,3.9,4.2,3.8,4.3,3.8,4.2,4.5,4.2,3.6,4.0,null,3.5,4.4,3.5,4.1,4.8,4.4,4.3,4.0,4.2,4.4,3.5,4.3,4.4,4.7,5.0,3.8,5.0,4.8,4.9,4.3,null,5.0,null,4.9,4.9,4.9,4.5,null,4.5,5.0,5.0,3.0,null,null,4.9,5.0,5.0,null,4.1,null,4.1,4.3,4.3,4.1,4.7,null,4.9,4.0,5.0,5.0,null,4.6,4.2,3.7,5.0,4.3,4.0,4.3,4.0,4.0,3.1,3.4,4.2,4.2,4.1,3.4,null,4.0,null,3.9,4.8,4.1,4.3,4.3,4.4,null,4.4,4.5,4.5,4.8,4.4,4.5,4.6,4.6,4.5,null,4.2,4.4,4.2,4.7,4.5,4.2,4.5,4.2,4.7,4.1,4.1,4.6,4.4,4.5,3.8,3.9,3.5,3.8,4.2,4.6,3.7,4.4,3.6,3.4,4.0,4.3,4.3,4.5,4.4,4.5,4.1,4.4,4.3,4.5,4.5,4.2,4.5,4.3,4.1,4.6,4.3,4.0,4.4,4.4,null,4.6,4.6,4.3,4.3,4.2,4.5,4.0,4.6,4.5,3.8,4.3,4.3,4.9,4.0,4.5,4.1,4.5,4.2,4.4,4.4,4.0,4.3,4.3,4.4,4.4,4.0,4.7,4.2,4.5,4.1,4.4,4.1,4.3,3.5,4.7,null,2.6,4.2,null,null,null,null,null,null,null,null,5.0,null,4.3,null,null,null,null,null,4.4,4.3,null,null,4.1,null,4.3,4.5,null,4.6,4.6,4.7,null,4.3,4.2,4.5,4.3,4.5,3.5,4.3,4.6,4.5,4.3,4.4,null,null,null,3.4,4.3,3.8,4.5,null,null,null,5.0,4.9,null,null,5.0,null,null,4.2,4.3,4.4,2.3,4.7,null,null,null,4.4,4.3,4.4,null,4.0,3.6,null,4.1,4.6,3.9,4.4,null,3.7,3.9,null,4.3,4.1,3.6,3.5,3.9,3.9,3.8,4.0,null,4.5,3.6,3.9,4.3,4.0,4.2,3.7,3.9,4.2,3.5,4.0,3.8,4.1,4.2,4.1,4.4,3.7,null,4.7,3.8,4.0,4.2,3.8,3.9,4.0,3.1,5.0,3.5,4.1,4.5,4.7,4.1,null,3.9,4.0,4.3,3.1,null,4.2,4.1,4.4,3.2,null,3.3,4.3,4.7,4.3,4.2,4.7,4.3,4.2,4.2,4.2,4.1,4.2,4.3,4.4,4.3,3.5,4.3,1.8,4.2,4.2,4.6,4.0,4.3,5.0,3.8,4.3,3.0,5.0,4.7,4.6,4.4,4.7,5.0,4.8,3.0,4.6,4.6,null,4.1,4.6,4.5,4.3,4.2,3.9,4.7,4.9,4.3,4.4,3.6,4.6,4.5,null,3.9,4.3,4.8,3.7,4.4,4.2,4.3,4.6,4.5,3.9,4.3,4.4,4.0,4.7,4.3,4.5,4.2,4.2,4.8,4.6,4.5,4.0,4.2,4.1,4.7,4.2,4.6,4.5,3.9,3.6,4.6,null,3.4,4.2,3.4,3.6,4.2,3.5,4.3,null,3.9,4.3,3.6,null,3.9,4.3,3.7,null,3.8,null,4.1,4.1,4.7,4.1,null,1.9,3.6,3.8,null,4.5,2.7,null,4.5,null,5.0,4.0,4.2,null,null,4.4,null,4.0,null,3.1,null,null,5.0,null,null,null,null,null,null,null,null,null,4.7,3.7,3.9,null,null,3.0,null,null,null,null,null,4.2,3.0,null,null,4.2,null,null,4.2,3.7,4.6,4.5,4.6,4.7,4.3,2.3,2.8,2.8,3.6,3.0,3.2,3.5,3.8,3.5,4.2,null,4.5,3.4,3.0,4.4,4.0,null,4.3,null,4.1,3.6,3.7,4.2,3.7,4.3,null,null,3.3,4.4,4.8,3.5,4.0,4.9,4.0,null,4.6,4.3,3.6,3.9,3.9,4.0,4.2,4.4,null,null,4.3,null,null,null,null,3.7,null,4.3,null,null,3.4,null,3.5,null,4.2,4.2,null,3.6,null,3.9,3.8,3.8,4.0,4.5,3.8,4.9,3.8,4.1,3.5,3.0,4.5,4.7,3.8,3.3,4.0,4.1,3.7,3.9,3.5,4.4,4.0,4.0,4.6,4.4,4.5,4.3,4.4,4.3,4.1,4.2,2.7,4.2,2.3,3.9,4.1,2.9,3.3,4.2,4.3,2.9,3.5,2.8,null,4.3,3.5,4.6,4.2,4.2,3.7,4.7,3.9,4.3,4.4,4.0,4.4,3.7,4.3,3.5,null,4.3,4.0,4.5,4.2,4.3,4.1,2.5,2.7,null,null,null,null,1.2,null,null,null,4.7,4.9,4.7,null,null,4.4,4.7,4.0,null,4.7,4.3,null,4.7,null,4.4,null,null,null,null,null,null,4.6,null,null,null,4.4,4.4,4.4,4.6,3.1,4.3,3.7,4.6,null,4.1,4.2,4.4,4.1,3.6,4.4,3.8,4.0,3.2,2.8,3.1,2.9,4.1,3.3,3.5,4.2,2.8,2.1,4.4,4.4,4.2,4.1,3.3,3.5,4.7,3.1,4.3,4.1,4.2,2.5,3.9,3.0,3.2,4.3,4.3,4.2,4.3,2.2,3.9,2.8,4.4,4.6,4.4,3.9,2.9,4.1,5.0,4.6,3.7,null,4.4,4.2,4.4,3.9,3.6,3.4,null,4.3,4.3,4.4,null,4.3,4.3,null,null,null,4.4,null,4.0,4.5,4.6,4.3,4.1,4.4,3.5,4.1,3.8,4.2,4.3,4.5,4.0,4.0,4.3,4.1,3.4,4.0,4.3,4.7,4.5,4.3,4.1,4.1,4.4,4.6,null,3.8,3.9,4.2,4.2,3.7,4.3,4.2,3.6,4.3,4.3,4.3,4.5,4.3,4.7,3.8,4.0,4.1,null,3.9,4.3,3.4,null,4.2,4.5,4.4,4.2,4.7,4.6,4.4,4.4,4.8,4.6,4.3,4.4,4.4,3.3,4.5,4.6,4.3,4.9,4.3,null,4.5,4.9,3.7,4.5,4.6,4.5,4.1,4.8,null,5.0,3.4,4.5,4.8,4.5,4.5,4.5,4.5,4.5,4.1,4.1,3.6,4.7,4.6,4.9,4.6,4.1,4.5,3.9,3.9,4.6,3.8,4.7,3.9,4.1,3.9,4.0,4.3,4.0,4.4,4.1,5.0,4.8,null,4.6,5.0,4.2,4.7,4.0,4.4,4.9,3.5,4.1,4.2,4.4,null,4.5,3.1,null,4.5,4.6,4.3,4.4,4.6,4.3,4.8,2.8,4.1,1.0,3.0,5.0,4.5,null,null,null,null,null,null,null,5.0,4.1,null,null,null,4.4,3.0,null,3.8,null,3.9,null,null,null,5.0,null,null,null,4.5,null,null,null,5.0,null,null,3.3,null,4.5,4.9,null,null,null,null,null,null,4.3,4.5,4.1,4.8,3.8,4.1,3.9,null,4.2,4.2,4.8,4.1,4.1,4.0,3.9,4.1,4.1,4.2,3.7,3.9,3.9,3.6,3.7,3.6,4.3,3.9,4.5,2.6,4.4,null,1.0,null,null,null,null,4.2,4.8,5.0,4.3,4.4,4.5,null,4.9,null,null,null,5.0,null,null,4.2,4.2,null,null,4.0,2.1,null,4.2,null,2.5,4.4,4.4,4.6,null,null,4.4,4.2,4.5,3.3,3.9,null,4.5,4.1,4.8,4.6,4.4,3.8,3.7,4.2,3.7,4.3,4.5,3.5,4.0,4.5,2.9,3.9,3.6,4.6,2.1,4.7,4.5,4.1,4.5,3.7,2.9,4.0,4.2,3.7,3.6,3.9,3.4,3.5,4.2,3.4,3.9,3.0,3.6,3.2,4.1,4.1,4.2,4.2,null,4.7,null,4.6,4.5,null,4.3,4.5,4.5,4.4,4.3,null,null,null,null,4.2,null,3.7,null,4.1,4.3,4.0,3.5,4.2,4.4,4.2,4.4,null,3.8,3.9,4.0,3.8,3.6,4.2,null,3.8,null,3.7,4.0,4.2,4.4,null,null,4.4,4.9,null,5.0,null,4.8,null,null,null,null,null,null,null,null,4.0,null,null,null,null,null,null,null,null,4.0,null,null,4.9,null,3.8,null,4.9,null,null,null,null,null,1.5,null,5.0,null,4.8,null,3.9,3.7,4.6,4.7,4.6,4.3,4.2,4.6,4.7,4.6,2.0,3.6,3.2,3.8,4.0,3.8,3.8,4.4,4.4,4.4,3.8,4.3,4.6,1.0,3.2,4.7,4.3,4.5,4.1,4.9,4.1,4.2,3.5,4.2,5.0,3.8,4.7,null,null,4.5,null,5.0,3.3,5.0,null,4.0,4.5,3.2,4.5,4.2,null,3.7,3.8,5.0,null,4.1,2.9,null,null,null,4.7,5.0,3.2,null,3.8,3.8,4.6,4.6,4.4,4.8,4.2,3.3,3.9,4.5,3.9,4.3,4.4,3.9,4.6,3.9,3.4,4.6,null,null,4.2,null,null,4.8,5.0,null,null,5.0,null,null,null,3.8,null,2.9,4.6,3.8,null,null,null,4.1,null,4.5,null,4.2,null,2.5,3.5,4.6,4.4,4.6,4.3,4.2,4.2,4.1,4.2,4.3,4.5,4.4,5.0,4.6,null,null,null,null,null,5.0,null,null,null,null,null,3.4,null,null,4.6,4.5,null,null,3.8,4.1,4.4,4.4,4.4,3.0,4.2,4.2,3.9,4.2,4.4,5.0,4.0,4.3,4.6,3.6,4.4,4.1,4.2,4.3,4.5,3.9,4.3,3.5,null,null,null,4.0,3.8,3.6,4.3,4.2,5.0,3.4,null,null,null,3.5,null,3.7,4.2,null,3.6,4.5,4.2,4.3,4.4,2.7,4.1,null,4.4,null,null,4.5,null,3.4,2.9,4.8,3.8,null,4.0,3.9,null,null,null,null,5.0,3.9,4.0,3.6,4.1,4.3,3.8,4.2,4.3,4.2,4.2,4.1,null,4.0,4.1,4.0,4.2,4.4,null,4.2,4.7,4.6,null,4.7,4.1,4.9,4.0,4.3,4.2,4.3,null,null,null,4.7,4.8,null,4.1,null,4.0,4.2,null,4.0,null,3.3,5.0,null,null,null,null,null,4.0,4.2,3.4,4.6,3.8,null,3.8,4.8,4.0,null,4.5,5.0,null,4.5,4.5],\"y0\":\" \",\"yaxis\":\"y\",\"type\":\"box\"}],                        {\"template\":{\"data\":{\"bar\":[{\"error_x\":{\"color\":\"#2a3f5f\"},\"error_y\":{\"color\":\"#2a3f5f\"},\"marker\":{\"line\":{\"color\":\"#E5ECF6\",\"width\":0.5},\"pattern\":{\"fillmode\":\"overlay\",\"size\":10,\"solidity\":0.2}},\"type\":\"bar\"}],\"barpolar\":[{\"marker\":{\"line\":{\"color\":\"#E5ECF6\",\"width\":0.5},\"pattern\":{\"fillmode\":\"overlay\",\"size\":10,\"solidity\":0.2}},\"type\":\"barpolar\"}],\"carpet\":[{\"aaxis\":{\"endlinecolor\":\"#2a3f5f\",\"gridcolor\":\"white\",\"linecolor\":\"white\",\"minorgridcolor\":\"white\",\"startlinecolor\":\"#2a3f5f\"},\"baxis\":{\"endlinecolor\":\"#2a3f5f\",\"gridcolor\":\"white\",\"linecolor\":\"white\",\"minorgridcolor\":\"white\",\"startlinecolor\":\"#2a3f5f\"},\"type\":\"carpet\"}],\"choropleth\":[{\"colorbar\":{\"outlinewidth\":0,\"ticks\":\"\"},\"type\":\"choropleth\"}],\"contour\":[{\"colorbar\":{\"outlinewidth\":0,\"ticks\":\"\"},\"colorscale\":[[0.0,\"#0d0887\"],[0.1111111111111111,\"#46039f\"],[0.2222222222222222,\"#7201a8\"],[0.3333333333333333,\"#9c179e\"],[0.4444444444444444,\"#bd3786\"],[0.5555555555555556,\"#d8576b\"],[0.6666666666666666,\"#ed7953\"],[0.7777777777777778,\"#fb9f3a\"],[0.8888888888888888,\"#fdca26\"],[1.0,\"#f0f921\"]],\"type\":\"contour\"}],\"contourcarpet\":[{\"colorbar\":{\"outlinewidth\":0,\"ticks\":\"\"},\"type\":\"contourcarpet\"}],\"heatmap\":[{\"colorbar\":{\"outlinewidth\":0,\"ticks\":\"\"},\"colorscale\":[[0.0,\"#0d0887\"],[0.1111111111111111,\"#46039f\"],[0.2222222222222222,\"#7201a8\"],[0.3333333333333333,\"#9c179e\"],[0.4444444444444444,\"#bd3786\"],[0.5555555555555556,\"#d8576b\"],[0.6666666666666666,\"#ed7953\"],[0.7777777777777778,\"#fb9f3a\"],[0.8888888888888888,\"#fdca26\"],[1.0,\"#f0f921\"]],\"type\":\"heatmap\"}],\"heatmapgl\":[{\"colorbar\":{\"outlinewidth\":0,\"ticks\":\"\"},\"colorscale\":[[0.0,\"#0d0887\"],[0.1111111111111111,\"#46039f\"],[0.2222222222222222,\"#7201a8\"],[0.3333333333333333,\"#9c179e\"],[0.4444444444444444,\"#bd3786\"],[0.5555555555555556,\"#d8576b\"],[0.6666666666666666,\"#ed7953\"],[0.7777777777777778,\"#fb9f3a\"],[0.8888888888888888,\"#fdca26\"],[1.0,\"#f0f921\"]],\"type\":\"heatmapgl\"}],\"histogram\":[{\"marker\":{\"pattern\":{\"fillmode\":\"overlay\",\"size\":10,\"solidity\":0.2}},\"type\":\"histogram\"}],\"histogram2d\":[{\"colorbar\":{\"outlinewidth\":0,\"ticks\":\"\"},\"colorscale\":[[0.0,\"#0d0887\"],[0.1111111111111111,\"#46039f\"],[0.2222222222222222,\"#7201a8\"],[0.3333333333333333,\"#9c179e\"],[0.4444444444444444,\"#bd3786\"],[0.5555555555555556,\"#d8576b\"],[0.6666666666666666,\"#ed7953\"],[0.7777777777777778,\"#fb9f3a\"],[0.8888888888888888,\"#fdca26\"],[1.0,\"#f0f921\"]],\"type\":\"histogram2d\"}],\"histogram2dcontour\":[{\"colorbar\":{\"outlinewidth\":0,\"ticks\":\"\"},\"colorscale\":[[0.0,\"#0d0887\"],[0.1111111111111111,\"#46039f\"],[0.2222222222222222,\"#7201a8\"],[0.3333333333333333,\"#9c179e\"],[0.4444444444444444,\"#bd3786\"],[0.5555555555555556,\"#d8576b\"],[0.6666666666666666,\"#ed7953\"],[0.7777777777777778,\"#fb9f3a\"],[0.8888888888888888,\"#fdca26\"],[1.0,\"#f0f921\"]],\"type\":\"histogram2dcontour\"}],\"mesh3d\":[{\"colorbar\":{\"outlinewidth\":0,\"ticks\":\"\"},\"type\":\"mesh3d\"}],\"parcoords\":[{\"line\":{\"colorbar\":{\"outlinewidth\":0,\"ticks\":\"\"}},\"type\":\"parcoords\"}],\"pie\":[{\"automargin\":true,\"type\":\"pie\"}],\"scatter\":[{\"marker\":{\"colorbar\":{\"outlinewidth\":0,\"ticks\":\"\"}},\"type\":\"scatter\"}],\"scatter3d\":[{\"line\":{\"colorbar\":{\"outlinewidth\":0,\"ticks\":\"\"}},\"marker\":{\"colorbar\":{\"outlinewidth\":0,\"ticks\":\"\"}},\"type\":\"scatter3d\"}],\"scattercarpet\":[{\"marker\":{\"colorbar\":{\"outlinewidth\":0,\"ticks\":\"\"}},\"type\":\"scattercarpet\"}],\"scattergeo\":[{\"marker\":{\"colorbar\":{\"outlinewidth\":0,\"ticks\":\"\"}},\"type\":\"scattergeo\"}],\"scattergl\":[{\"marker\":{\"colorbar\":{\"outlinewidth\":0,\"ticks\":\"\"}},\"type\":\"scattergl\"}],\"scattermapbox\":[{\"marker\":{\"colorbar\":{\"outlinewidth\":0,\"ticks\":\"\"}},\"type\":\"scattermapbox\"}],\"scatterpolar\":[{\"marker\":{\"colorbar\":{\"outlinewidth\":0,\"ticks\":\"\"}},\"type\":\"scatterpolar\"}],\"scatterpolargl\":[{\"marker\":{\"colorbar\":{\"outlinewidth\":0,\"ticks\":\"\"}},\"type\":\"scatterpolargl\"}],\"scatterternary\":[{\"marker\":{\"colorbar\":{\"outlinewidth\":0,\"ticks\":\"\"}},\"type\":\"scatterternary\"}],\"surface\":[{\"colorbar\":{\"outlinewidth\":0,\"ticks\":\"\"},\"colorscale\":[[0.0,\"#0d0887\"],[0.1111111111111111,\"#46039f\"],[0.2222222222222222,\"#7201a8\"],[0.3333333333333333,\"#9c179e\"],[0.4444444444444444,\"#bd3786\"],[0.5555555555555556,\"#d8576b\"],[0.6666666666666666,\"#ed7953\"],[0.7777777777777778,\"#fb9f3a\"],[0.8888888888888888,\"#fdca26\"],[1.0,\"#f0f921\"]],\"type\":\"surface\"}],\"table\":[{\"cells\":{\"fill\":{\"color\":\"#EBF0F8\"},\"line\":{\"color\":\"white\"}},\"header\":{\"fill\":{\"color\":\"#C8D4E3\"},\"line\":{\"color\":\"white\"}},\"type\":\"table\"}]},\"layout\":{\"annotationdefaults\":{\"arrowcolor\":\"#2a3f5f\",\"arrowhead\":0,\"arrowwidth\":1},\"autotypenumbers\":\"strict\",\"coloraxis\":{\"colorbar\":{\"outlinewidth\":0,\"ticks\":\"\"}},\"colorscale\":{\"diverging\":[[0,\"#8e0152\"],[0.1,\"#c51b7d\"],[0.2,\"#de77ae\"],[0.3,\"#f1b6da\"],[0.4,\"#fde0ef\"],[0.5,\"#f7f7f7\"],[0.6,\"#e6f5d0\"],[0.7,\"#b8e186\"],[0.8,\"#7fbc41\"],[0.9,\"#4d9221\"],[1,\"#276419\"]],\"sequential\":[[0.0,\"#0d0887\"],[0.1111111111111111,\"#46039f\"],[0.2222222222222222,\"#7201a8\"],[0.3333333333333333,\"#9c179e\"],[0.4444444444444444,\"#bd3786\"],[0.5555555555555556,\"#d8576b\"],[0.6666666666666666,\"#ed7953\"],[0.7777777777777778,\"#fb9f3a\"],[0.8888888888888888,\"#fdca26\"],[1.0,\"#f0f921\"]],\"sequentialminus\":[[0.0,\"#0d0887\"],[0.1111111111111111,\"#46039f\"],[0.2222222222222222,\"#7201a8\"],[0.3333333333333333,\"#9c179e\"],[0.4444444444444444,\"#bd3786\"],[0.5555555555555556,\"#d8576b\"],[0.6666666666666666,\"#ed7953\"],[0.7777777777777778,\"#fb9f3a\"],[0.8888888888888888,\"#fdca26\"],[1.0,\"#f0f921\"]]},\"colorway\":[\"#636efa\",\"#EF553B\",\"#00cc96\",\"#ab63fa\",\"#FFA15A\",\"#19d3f3\",\"#FF6692\",\"#B6E880\",\"#FF97FF\",\"#FECB52\"],\"font\":{\"color\":\"#2a3f5f\"},\"geo\":{\"bgcolor\":\"white\",\"lakecolor\":\"white\",\"landcolor\":\"#E5ECF6\",\"showlakes\":true,\"showland\":true,\"subunitcolor\":\"white\"},\"hoverlabel\":{\"align\":\"left\"},\"hovermode\":\"closest\",\"mapbox\":{\"style\":\"light\"},\"paper_bgcolor\":\"white\",\"plot_bgcolor\":\"#E5ECF6\",\"polar\":{\"angularaxis\":{\"gridcolor\":\"white\",\"linecolor\":\"white\",\"ticks\":\"\"},\"bgcolor\":\"#E5ECF6\",\"radialaxis\":{\"gridcolor\":\"white\",\"linecolor\":\"white\",\"ticks\":\"\"}},\"scene\":{\"xaxis\":{\"backgroundcolor\":\"#E5ECF6\",\"gridcolor\":\"white\",\"gridwidth\":2,\"linecolor\":\"white\",\"showbackground\":true,\"ticks\":\"\",\"zerolinecolor\":\"white\"},\"yaxis\":{\"backgroundcolor\":\"#E5ECF6\",\"gridcolor\":\"white\",\"gridwidth\":2,\"linecolor\":\"white\",\"showbackground\":true,\"ticks\":\"\",\"zerolinecolor\":\"white\"},\"zaxis\":{\"backgroundcolor\":\"#E5ECF6\",\"gridcolor\":\"white\",\"gridwidth\":2,\"linecolor\":\"white\",\"showbackground\":true,\"ticks\":\"\",\"zerolinecolor\":\"white\"}},\"shapedefaults\":{\"line\":{\"color\":\"#2a3f5f\"}},\"ternary\":{\"aaxis\":{\"gridcolor\":\"white\",\"linecolor\":\"white\",\"ticks\":\"\"},\"baxis\":{\"gridcolor\":\"white\",\"linecolor\":\"white\",\"ticks\":\"\"},\"bgcolor\":\"#E5ECF6\",\"caxis\":{\"gridcolor\":\"white\",\"linecolor\":\"white\",\"ticks\":\"\"}},\"title\":{\"x\":0.05},\"xaxis\":{\"automargin\":true,\"gridcolor\":\"white\",\"linecolor\":\"white\",\"ticks\":\"\",\"title\":{\"standoff\":15},\"zerolinecolor\":\"white\",\"zerolinewidth\":2},\"yaxis\":{\"automargin\":true,\"gridcolor\":\"white\",\"linecolor\":\"white\",\"ticks\":\"\",\"title\":{\"standoff\":15},\"zerolinecolor\":\"white\",\"zerolinewidth\":2}}},\"xaxis\":{\"anchor\":\"y\",\"domain\":[0.0,1.0]},\"yaxis\":{\"anchor\":\"x\",\"domain\":[0.0,1.0],\"title\":{\"text\":\"Rating\"}},\"legend\":{\"tracegroupgap\":0},\"margin\":{\"t\":60},\"boxmode\":\"group\"},                        {\"responsive\": true}                    ).then(function(){\n",
              "                            \n",
              "var gd = document.getElementById('dfb65b66-4fc2-428d-bbcd-fc133659c266');\n",
              "var x = new MutationObserver(function (mutations, observer) {{\n",
              "        var display = window.getComputedStyle(gd).display;\n",
              "        if (!display || display === 'none') {{\n",
              "            console.log([gd, 'removed!']);\n",
              "            Plotly.purge(gd);\n",
              "            observer.disconnect();\n",
              "        }}\n",
              "}});\n",
              "\n",
              "// Listen for the removal of the full notebook cells\n",
              "var notebookContainer = gd.closest('#notebook-container');\n",
              "if (notebookContainer) {{\n",
              "    x.observe(notebookContainer, {childList: true});\n",
              "}}\n",
              "\n",
              "// Listen for the clearing of the current output cell\n",
              "var outputEl = gd.closest('.output');\n",
              "if (outputEl) {{\n",
              "    x.observe(outputEl, {childList: true});\n",
              "}}\n",
              "\n",
              "                        })                };                            </script>        </div>\n",
              "</body>\n",
              "</html>"
            ]
          },
          "metadata": {}
        }
      ]
    },
    {
      "cell_type": "code",
      "source": [
        "px.histogram(data, x = 'Rating', y = 'Rating' )"
      ],
      "metadata": {
        "colab": {
          "base_uri": "https://localhost:8080/",
          "height": 542
        },
        "id": "CidnlT4QyiIW",
        "outputId": "439bbed1-4405-4b75-d822-c7c721512242"
      },
      "execution_count": null,
      "outputs": [
        {
          "output_type": "display_data",
          "data": {
            "text/html": [
              "<html>\n",
              "<head><meta charset=\"utf-8\" /></head>\n",
              "<body>\n",
              "    <div>            <script src=\"https://cdnjs.cloudflare.com/ajax/libs/mathjax/2.7.5/MathJax.js?config=TeX-AMS-MML_SVG\"></script><script type=\"text/javascript\">if (window.MathJax) {MathJax.Hub.Config({SVG: {font: \"STIX-Web\"}});}</script>                <script type=\"text/javascript\">window.PlotlyConfig = {MathJaxConfig: 'local'};</script>\n",
              "        <script src=\"https://cdn.plot.ly/plotly-2.8.3.min.js\"></script>                <div id=\"19097bf9-4927-4bb3-9cb1-8aa157dedbe0\" class=\"plotly-graph-div\" style=\"height:525px; width:100%;\"></div>            <script type=\"text/javascript\">                                    window.PLOTLYENV=window.PLOTLYENV || {};                                    if (document.getElementById(\"19097bf9-4927-4bb3-9cb1-8aa157dedbe0\")) {                    Plotly.newPlot(                        \"19097bf9-4927-4bb3-9cb1-8aa157dedbe0\",                        [{\"alignmentgroup\":\"True\",\"bingroup\":\"x\",\"histfunc\":\"sum\",\"hovertemplate\":\"Rating=%{x}<br>sum of Rating=%{y}<extra></extra>\",\"legendgroup\":\"\",\"marker\":{\"color\":\"#636efa\",\"pattern\":{\"shape\":\"\"}},\"name\":\"\",\"offsetgroup\":\"\",\"orientation\":\"v\",\"showlegend\":false,\"x\":[4.1,3.9,4.7,4.5,4.3,4.4,3.8,4.1,4.4,4.7,4.4,4.4,4.2,4.6,4.4,3.2,4.7,4.5,4.3,4.6,4.0,4.1,4.7,null,4.7,4.8,4.7,4.1,3.9,4.1,4.2,4.1,4.5,4.2,4.7,3.8,4.7,4.1,4.7,4.0,4.2,4.5,4.4,3.8,4.2,4.7,4.6,4.2,4.3,4.2,4.0,3.8,4.6,3.9,4.3,4.9,4.4,4.2,4.0,3.9,4.6,4.9,4.3,4.6,4.9,3.9,4.0,4.3,3.9,4.2,4.8,3.6,4.2,4.8,4.8,4.6,4.5,4.3,4.5,4.9,3.9,4.4,4.0,4.3,3.7,4.4,4.3,3.2,4.6,4.6,4.5,3.7,4.6,4.6,4.6,4.0,4.4,4.0,4.7,4.9,4.7,3.9,3.9,4.2,4.6,4.3,4.7,4.7,4.8,4.2,4.3,4.5,4.1,null,4.2,4.5,4.4,4.0,4.1,4.1,4.4,4.6,4.5,null,3.9,4.4,null,4.6,3.8,null,null,4.0,4.3,4.5,null,4.1,3.7,4.7,4.2,4.6,4.5,4.6,4.4,4.2,4.5,4.5,4.5,4.5,4.4,4.5,4.6,4.8,3.9,4.6,4.2,4.1,4.7,4.2,4.3,3.3,4.6,4.8,4.7,null,4.1,4.6,4.1,4.6,4.7,4.5,3.9,4.4,4.3,4.2,4.5,4.4,3.4,4.9,4.6,4.4,null,4.4,4.4,4.4,3.5,null,4.4,4.1,4.3,4.4,4.3,4.3,4.1,4.4,4.3,3.9,4.8,4.5,4.4,4.0,4.3,4.0,4.2,4.5,4.2,4.2,4.6,4.1,4.6,3.1,3.9,4.3,4.1,4.4,4.1,4.1,4.5,4.4,4.4,4.3,4.4,4.6,4.2,4.4,4.7,3.8,3.9,null,4.3,4.2,4.4,4.7,4.5,4.2,4.7,4.8,4.2,4.2,4.3,4.4,4.4,4.1,3.8,4.3,3.8,3.5,4.1,4.6,4.3,4.5,4.1,4.5,4.6,4.0,4.2,4.4,4.4,4.0,4.2,4.2,4.1,4.0,3.8,3.9,3.9,4.2,4.2,4.3,4.4,4.4,4.1,3.8,4.3,3.8,3.5,4.1,4.6,4.3,4.5,4.1,4.5,4.6,4.0,4.2,4.3,4.2,4.4,4.7,4.5,4.2,4.7,4.8,4.1,4.3,4.4,4.5,4.3,4.5,4.6,4.7,4.7,4.8,3.9,4.1,4.4,4.6,4.5,4.7,4.4,4.5,3.9,3.2,3.2,4.1,4.5,4.2,4.2,3.7,4.5,4.6,4.5,null,4.7,4.4,3.5,3.3,4.5,4.4,4.2,5.0,4.4,4.7,4.4,4.4,4.6,4.0,4.4,4.3,4.3,4.4,4.3,4.0,4.3,4.3,4.4,4.3,4.3,4.3,4.3,4.3,4.0,4.5,4.3,3.7,4.5,3.9,4.4,3.6,4.4,4.2,4.4,4.1,4.4,4.3,4.2,4.2,4.4,4.4,3.9,4.2,4.4,4.6,4.3,4.3,4.4,3.7,4.3,3.9,4.5,3.7,4.3,4.4,4.0,4.3,4.0,4.3,4.0,4.1,4.2,4.2,4.2,4.1,4.4,4.3,4.2,4.4,4.2,4.1,4.3,4.3,4.5,4.3,4.2,4.2,4.5,4.3,4.3,4.3,4.4,4.2,4.3,4.3,4.4,4.6,4.3,4.4,4.2,4.5,4.5,4.4,4.5,4.1,4.2,4.1,4.3,4.1,4.2,4.0,4.2,4.2,4.2,4.3,4.3,4.4,4.2,4.4,4.1,4.2,4.8,4.4,4.4,4.4,4.0,4.5,4.4,4.1,4.2,4.5,4.3,4.5,4.0,4.3,4.3,4.2,4.5,4.6,4.1,4.0,4.2,4.6,4.1,4.3,4.2,4.3,4.0,4.3,4.2,4.3,4.1,4.2,4.1,4.6,4.3,4.2,4.2,4.3,4.2,2.6,null,null,null,3.5,4.0,4.1,3.7,4.1,4.2,4.5,4.4,4.2,4.0,4.1,3.1,4.4,4.2,4.1,3.9,4.3,4.4,3.5,4.0,3.3,4.5,4.4,4.1,3.9,3.9,3.6,4.0,3.6,3.4,4.2,4.1,3.4,3.0,4.6,4.1,3.9,1.9,3.5,2.5,3.9,3.4,3.5,4.4,3.8,4.2,2.5,2.8,4.1,4.2,3.5,4.3,3.3,4.1,4.2,3.5,4.2,4.4,4.1,4.2,4.3,4.1,4.0,4.1,4.2,3.0,4.4,4.5,2.5,4.1,4.2,4.0,4.1,1.9,3.3,4.4,4.1,3.8,4.1,4.2,4.0,4.5,3.7,3.9,3.5,3.9,4.0,4.6,4.0,4.1,4.2,3.3,4.4,4.3,4.2,3.9,4.3,3.4,4.2,4.1,4.0,3.6,4.2,3.5,4.0,4.1,4.1,2.8,4.4,4.4,4.2,4.1,4.2,3.9,4.1,4.2,3.9,4.0,4.2,4.5,3.9,3.6,4.4,3.5,4.4,4.8,4.6,4.7,4.8,null,2.7,5.0,null,4.8,5.0,4.8,null,4.9,3.0,null,null,4.7,null,null,1.0,null,null,null,null,null,null,null,5.0,4.7,null,5.0,null,null,null,5.0,null,null,null,null,3.0,4.1,null,null,null,null,null,null,null,5.0,3.7,4.5,4.2,null,null,null,4.3,4.1,1.9,4.1,4.4,null,3.9,3.9,null,4.0,4.4,4.7,3.8,4.4,4.4,3.6,4.4,2.7,4.3,4.6,2.8,3.5,null,3.4,4.8,4.7,4.8,4.8,4.7,4.1,3.5,4.7,3.8,2.9,4.5,3.3,4.1,null,4.7,4.6,4.7,4.6,4.7,null,4.5,4.7,4.8,4.6,4.6,4.6,4.2,4.9,3.8,4.2,4.4,4.4,4.3,4.5,4.4,4.6,3.9,4.4,4.3,4.4,4.2,4.4,4.0,4.2,3.8,4.5,4.7,4.5,4.3,4.2,4.3,4.7,4.7,4.6,4.6,4.6,4.5,4.4,4.6,4.5,4.5,4.2,4.4,4.4,4.2,4.5,4.1,4.0,4.1,4.3,4.3,4.3,4.5,4.6,4.1,4.6,4.7,4.7,4.3,4.7,4.6,4.6,4.6,4.3,4.2,4.0,4.5,4.2,4.1,4.4,4.0,4.5,4.4,4.0,4.2,4.3,4.2,4.6,4.6,4.7,4.6,4.4,4.5,4.3,4.6,4.5,4.2,4.2,4.7,4.5,4.6,4.3,4.2,4.7,4.7,4.4,4.5,4.4,4.0,4.6,4.4,4.7,4.7,4.3,4.1,4.2,4.3,4.3,4.3,4.0,4.2,4.0,4.0,3.8,4.6,4.1,3.9,4.1,4.5,4.2,4.4,4.7,4.0,4.4,4.4,4.0,4.5,4.7,4.3,4.5,4.3,4.1,4.3,4.5,4.2,4.6,3.5,4.2,4.4,4.4,4.6,4.3,4.5,4.8,4.4,4.1,4.9,4.7,4.7,4.7,4.4,4.0,4.2,4.3,4.5,3.5,4.2,3.1,4.6,4.2,4.3,4.3,4.1,3.8,3.4,4.3,4.4,4.4,4.0,3.7,3.9,4.5,4.4,4.3,4.2,4.2,4.5,4.7,4.5,4.5,3.4,4.2,4.3,4.2,4.6,4.1,4.2,4.2,4.3,4.4,3.9,4.1,4.3,4.5,4.6,3.6,4.3,4.3,4.2,4.4,4.1,4.1,4.2,3.9,4.2,3.7,4.5,3.7,3.8,4.3,3.0,4.1,4.2,4.1,3.9,4.0,4.4,4.2,4.0,3.9,4.0,4.2,4.0,4.3,3.9,4.2,4.4,4.3,3.7,4.3,3.7,3.8,4.2,4.0,3.9,4.4,4.5,4.1,4.1,3.9,4.5,4.0,4.1,3.6,3.8,4.0,4.2,3.7,3.8,3.7,4.1,3.7,3.9,4.4,4.3,3.9,3.7,3.7,4.2,4.3,4.0,4.1,3.9,4.5,3.9,4.1,4.3,4.4,4.1,4.0,3.9,3.9,4.0,4.1,4.2,3.8,4.0,3.9,4.2,3.7,3.9,4.2,4.3,4.3,4.6,4.3,4.6,4.2,4.6,4.5,4.6,3.9,4.2,4.4,4.2,4.3,4.6,4.3,4.5,4.0,4.0,4.5,4.5,4.0,4.0,4.2,4.4,4.6,null,4.6,4.1,4.6,4.4,4.6,4.9,4.5,4.6,4.7,4.3,null,null,4.2,4.3,5.0,4.4,5.0,4.5,null,null,null,4.5,4.8,4.4,5.0,null,3.7,null,4.1,null,4.8,null,null,4.6,4.4,4.4,3.6,3.7,3.8,4.2,4.2,4.2,3.3,3.4,4.3,4.2,4.7,4.1,4.7,4.0,3.6,4.0,3.6,4.3,4.2,4.2,4.1,4.0,4.1,4.4,4.7,4.5,4.3,4.6,4.3,4.0,4.5,4.5,3.6,4.2,4.1,3.5,4.4,4.0,4.5,4.2,4.6,4.2,4.8,4.5,4.2,4.3,4.2,4.4,4.4,4.6,4.2,4.6,4.6,4.4,4.3,4.2,4.2,3.8,4.5,4.6,4.6,4.7,4.6,4.6,4.7,3.8,4.3,4.3,4.5,4.6,4.6,4.7,4.5,4.4,3.9,4.5,4.6,4.1,4.5,4.4,4.5,4.6,4.2,4.4,4.1,3.9,4.6,4.5,3.7,4.1,4.4,4.6,4.5,4.3,4.3,4.3,4.4,4.3,4.4,4.3,4.4,4.1,4.4,4.2,4.3,4.4,4.3,4.3,3.9,4.1,4.1,4.2,4.5,4.2,4.7,4.4,4.6,4.6,4.4,4.6,4.3,4.0,4.4,4.6,4.2,4.1,3.6,null,4.1,4.6,null,4.7,4.7,4.7,4.7,4.1,3.4,3.8,3.7,4.2,3.1,3.5,4.7,4.5,4.2,4.3,4.0,4.5,4.6,4.7,4.1,4.3,3.8,4.4,4.3,4.2,4.3,3.8,4.3,3.7,4.5,3.6,4.8,3.3,4.7,4.6,4.6,3.4,4.6,4.0,4.1,4.5,4.4,4.5,4.0,4.1,4.5,4.6,4.1,4.5,4.6,4.5,4.3,3.6,4.4,4.6,4.1,4.3,3.9,4.5,4.1,3.6,4.7,4.3,4.7,4.6,4.4,4.2,4.5,4.3,4.2,4.5,4.5,4.3,4.0,4.3,4.8,4.0,4.9,4.8,4.9,4.8,4.4,3.3,4.7,4.6,4.8,4.8,4.8,4.5,4.4,4.5,4.5,4.5,4.8,3.9,4.6,4.5,4.5,4.7,4.7,4.4,4.2,3.9,4.2,4.4,4.6,4.6,4.2,4.5,4.7,4.5,4.5,3.7,4.5,4.6,4.6,4.7,4.5,4.5,4.6,4.0,4.3,4.4,4.5,4.2,4.6,4.9,4.5,4.5,4.6,4.5,4.6,4.6,4.5,4.5,4.4,3.9,4.5,4.4,4.6,4.4,4.5,4.5,4.6,4.5,4.4,4.4,4.4,4.2,4.5,4.5,4.4,4.3,4.6,4.6,4.9,4.4,4.3,4.1,4.6,4.8,4.5,4.7,4.6,4.3,4.4,4.4,4.6,4.3,4.6,4.6,4.5,4.6,4.6,4.5,4.1,4.5,4.6,4.5,4.8,4.8,4.6,4.5,4.1,4.4,4.2,4.5,4.3,4.6,4.0,4.6,4.5,4.4,4.5,4.6,4.4,4.7,4.4,4.2,4.5,4.2,4.4,4.5,4.6,4.6,4.6,4.5,4.5,4.4,4.4,4.5,4.5,4.0,4.6,4.1,4.0,4.4,4.4,4.1,3.5,4.3,4.5,4.2,4.6,4.4,4.5,4.0,4.5,4.6,4.4,4.4,4.1,4.0,4.1,4.1,4.2,4.5,3.5,4.3,4.2,4.6,4.4,4.5,4.4,3.7,4.3,4.5,4.6,4.7,4.6,4.6,4.0,4.4,4.4,4.8,4.6,4.2,4.6,4.1,4.4,4.5,4.3,4.7,4.6,4.4,4.5,4.8,4.2,4.5,4.1,4.1,4.0,4.3,4.5,null,4.6,3.7,3.7,4.2,4.5,4.3,3.9,4.6,4.3,4.4,4.6,4.5,3.8,null,4.4,4.7,3.4,4.3,4.3,4.0,4.0,3.8,null,4.3,3.6,3.8,4.5,4.6,null,4.5,4.7,4.3,3.7,null,4.2,3.4,3.9,4.0,4.0,4.0,4.6,4.0,4.1,3.9,4.4,4.4,4.3,4.6,4.5,4.5,4.5,4.5,4.3,4.2,4.4,4.3,4.6,4.1,3.9,4.4,4.6,null,4.1,null,null,3.8,4.6,3.5,4.7,4.3,4.5,4.4,3.4,4.3,null,4.3,4.6,4.6,null,4.2,null,null,4.6,null,null,4.4,3.9,4.5,3.8,4.3,3.7,5.0,3.2,4.5,4.7,4.0,null,4.1,3.8,4.7,4.5,null,4.2,null,4.1,3.1,4.1,4.1,4.3,4.0,4.6,4.4,4.4,4.3,4.6,3.2,4.5,4.6,4.6,4.3,3.0,4.4,4.4,4.3,3.5,4.3,4.5,3.7,4.5,4.2,4.3,4.6,4.5,3.9,4.3,3.3,4.7,4.2,3.2,4.4,3.5,3.7,3.8,3.8,3.7,4.6,4.0,3.6,3.8,4.1,4.7,3.9,4.1,4.6,4.2,3.6,4.6,4.2,4.4,4.6,4.7,4.1,3.9,4.0,4.1,4.6,4.1,4.1,4.1,4.4,3.8,4.3,4.1,4.1,4.1,4.4,3.8,4.3,4.4,4.2,4.4,4.3,4.1,4.0,4.2,4.1,3.9,4.4,4.6,4.5,4.5,4.8,4.4,4.5,4.5,4.6,4.5,4.5,4.5,4.4,4.7,4.5,4.2,4.4,4.6,4.3,4.3,4.2,4.6,4.4,4.4,4.5,4.4,4.3,4.6,4.3,4.2,4.2,4.5,4.5,4.5,4.7,4.7,4.5,4.4,4.3,3.8,4.6,4.6,4.4,4.3,4.1,4.3,4.4,4.6,4.3,4.4,4.7,4.5,4.4,4.6,4.5,4.4,4.6,4.5,4.5,4.3,4.5,4.6,4.4,4.4,4.5,4.7,4.6,4.5,4.5,4.7,4.5,4.8,4.7,4.4,4.6,4.5,4.6,4.7,4.6,4.5,4.6,4.5,4.6,4.4,4.7,4.3,4.3,4.4,4.3,4.5,4.4,4.5,4.4,4.5,4.6,4.7,4.6,4.4,4.4,4.5,4.6,4.3,4.5,4.5,4.4,4.5,4.2,4.5,4.4,4.7,4.2,4.5,4.5,4.6,4.4,4.5,4.3,4.3,4.5,4.7,4.7,4.1,4.8,4.4,4.2,4.4,4.7,4.3,4.7,4.2,4.3,4.4,4.1,4.1,4.2,4.5,4.7,4.6,4.5,3.1,4.1,3.4,4.4,4.3,4.6,4.4,4.3,4.6,4.2,4.2,4.5,4.4,4.2,4.5,4.8,4.4,4.6,4.5,4.3,4.6,4.4,4.4,4.5,4.6,4.6,4.6,4.1,4.5,4.6,4.4,4.7,4.6,4.3,4.5,4.6,4.2,4.5,4.8,4.1,4.3,4.4,4.0,4.2,4.0,4.2,4.5,4.7,4.2,4.4,4.6,4.9,4.4,4.5,4.6,4.2,4.5,4.6,4.6,4.5,4.4,4.6,4.5,4.6,4.4,4.4,4.3,4.3,4.6,4.3,4.3,4.6,4.5,4.5,4.2,4.7,4.3,4.0,4.4,4.3,4.6,4.7,4.4,4.7,4.4,4.3,4.2,4.4,4.5,4.5,4.5,4.4,4.3,4.5,4.7,4.7,4.6,4.6,4.4,4.4,4.7,4.6,4.5,4.3,4.3,4.3,4.6,4.8,4.5,4.4,4.5,4.5,4.6,4.6,4.6,4.6,4.7,4.5,4.5,4.5,4.6,4.5,4.4,4.4,4.6,4.7,4.5,4.4,4.6,4.7,4.6,4.5,4.4,4.5,4.3,4.5,4.2,4.5,4.3,4.4,4.7,4.6,4.7,4.6,4.4,4.6,4.5,4.3,4.5,4.5,4.6,4.6,4.3,4.6,4.5,4.7,4.5,4.7,4.7,4.6,4.4,4.3,4.5,4.3,4.4,4.2,4.3,4.5,4.4,4.7,4.2,4.1,4.5,4.5,4.5,4.1,4.3,4.5,4.4,4.5,4.6,4.0,4.3,4.5,4.4,4.4,4.6,4.2,4.5,4.6,4.5,4.7,4.5,4.5,4.5,4.4,4.6,4.3,4.4,4.3,4.7,4.7,4.4,4.3,4.4,4.5,4.5,4.4,4.4,4.6,4.6,4.4,4.6,4.2,4.4,4.6,4.6,4.7,4.5,4.2,4.6,4.7,4.6,4.3,4.6,4.4,4.4,4.5,4.2,4.4,4.3,4.7,4.5,4.4,4.5,4.4,4.4,4.5,4.6,4.5,4.3,4.7,4.4,4.5,4.2,4.5,4.5,4.7,4.4,4.3,4.6,3.9,4.2,4.5,4.3,4.5,4.4,4.4,4.8,4.4,4.4,4.3,4.6,4.1,4.5,4.5,4.5,4.0,4.5,4.6,4.5,4.5,4.5,4.4,4.7,4.5,4.5,4.2,4.3,4.5,4.2,4.3,4.4,4.6,4.6,4.5,4.2,4.5,4.6,4.6,4.1,4.5,4.6,4.6,4.5,4.3,3.8,4.5,4.1,4.8,3.9,4.5,4.4,4.3,4.2,3.0,4.5,4.4,4.5,4.7,4.1,4.5,4.5,4.5,4.6,4.3,4.3,4.5,4.2,4.2,4.4,4.5,4.1,4.2,4.1,4.7,4.3,4.4,4.4,null,4.3,4.4,4.3,4.3,4.2,4.2,4.3,4.3,4.1,4.2,4.5,4.3,4.3,4.5,4.1,4.5,4.2,4.4,4.0,4.1,4.3,4.3,4.4,4.3,4.1,4.0,4.3,4.6,4.3,4.7,4.3,4.4,4.2,4.7,3.9,4.1,4.1,4.1,4.2,4.7,4.4,4.3,4.5,4.3,4.3,4.1,4.1,4.1,4.6,4.1,4.4,4.4,4.3,4.0,4.8,3.8,4.7,4.5,4.8,4.4,4.8,4.2,4.2,4.0,4.7,4.7,3.9,4.5,4.1,4.4,3.9,4.4,4.4,3.6,4.4,4.1,3.6,4.6,4.3,4.5,4.4,4.1,4.4,3.9,4.4,4.4,3.6,4.4,4.1,3.6,4.6,4.3,4.5,4.4,4.5,4.1,4.5,4.1,3.9,4.2,4.1,3.9,4.1,4.2,4.7,3.8,4.3,4.3,4.3,3.9,4.3,4.0,4.0,4.3,4.2,4.1,4.0,4.4,4.3,4.3,4.4,4.2,4.1,4.3,4.2,4.6,4.1,4.5,4.4,4.5,4.3,4.2,4.4,4.6,4.5,4.8,4.5,3.2,4.6,4.5,4.1,4.6,4.5,4.4,4.4,4.4,3.8,4.6,2.5,4.0,5.0,4.3,3.4,null,3.4,4.3,4.4,4.4,4.2,5.0,4.1,3.9,4.6,4.2,4.4,4.2,3.6,4.5,null,4.7,4.6,4.5,4.2,4.2,4.3,4.4,4.1,4.4,4.6,4.4,4.2,4.5,null,2.6,4.6,4.8,4.2,4.7,3.0,3.5,4.6,4.8,4.2,4.6,4.4,4.8,4.0,3.7,4.2,4.8,4.7,3.5,3.9,4.2,4.8,2.7,4.2,4.7,4.6,4.5,4.7,4.7,4.5,4.7,4.0,3.4,3.5,3.0,4.7,4.6,4.2,4.8,4.5,4.2,3.8,3.0,4.4,4.5,4.0,3.6,4.4,4.7,4.9,3.6,4.5,4.1,4.6,4.7,4.7,2.8,4.3,4.6,4.3,3.4,null,4.0,4.8,4.2,3.0,4.5,3.7,4.5,4.5,4.6,4.2,4.6,3.6,4.4,4.4,4.5,4.5,4.1,4.6,4.3,4.3,4.7,4.5,4.5,4.5,4.2,4.4,3.9,4.2,4.4,4.1,3.4,4.1,4.0,null,4.1,3.5,4.2,4.0,4.5,4.3,4.3,4.8,4.6,4.1,4.6,3.5,2.3,4.5,4.3,4.2,4.2,3.1,4.4,4.4,2.9,3.1,3.7,4.0,3.8,4.6,4.4,3.8,null,4.8,4.3,null,null,null,null,3.7,5.0,3.0,3.7,null,null,null,null,null,null,null,null,null,null,null,null,null,null,3.7,5.0,null,null,5.0,null,5.0,null,5.0,null,5.0,5.0,null,5.0,5.0,5.0,null,null,null,4.3,4.9,null,null,null,null,null,null,null,5.0,null,null,4.9,4.6,5.0,null,null,null,null,4.0,null,5.0,null,4.0,2.6,4.7,4.8,4.3,4.7,2.5,4.6,4.5,4.1,4.5,4.3,null,3.8,4.4,null,null,null,4.5,4.5,3.8,4.5,4.0,4.5,3.7,4.3,3.7,null,4.4,3.8,null,2.7,5.0,4.3,3.8,3.0,5.0,3.6,4.0,4.3,4.7,5.0,4.7,null,4.6,3.1,4.4,5.0,3.6,2.8,4.4,4.2,4.6,4.2,null,3.8,3.5,4.7,4.1,4.5,4.3,4.4,4.4,4.2,4.0,4.3,4.6,4.4,4.2,4.4,4.4,4.3,4.6,4.4,4.5,4.6,4.6,4.6,4.4,4.5,4.5,4.3,4.4,4.6,4.3,4.8,4.2,4.6,4.0,4.6,4.3,3.6,4.0,4.5,4.4,4.5,4.2,4.5,4.3,4.2,4.2,4.4,4.3,4.3,4.1,4.5,4.3,4.2,4.1,4.3,4.2,4.1,4.1,4.4,3.7,3.9,3.7,4.0,4.5,3.6,4.1,4.1,4.0,4.1,4.0,4.5,4.6,4.3,4.3,4.2,4.5,4.2,4.3,4.1,3.8,4.2,4.4,4.3,4.2,4.1,4.0,4.3,4.3,4.2,4.2,4.0,4.4,4.0,4.2,4.2,4.4,4.1,4.1,4.3,4.0,4.2,4.2,4.2,4.1,4.0,4.3,4.3,4.4,4.4,4.2,4.2,4.0,4.2,4.0,4.5,4.6,4.3,4.2,4.3,4.6,4.4,4.4,4.5,4.3,4.2,4.2,4.4,4.6,4.2,3.6,4.5,4.4,3.8,4.7,3.6,4.2,3.6,4.3,4.4,4.5,4.1,4.3,4.3,4.7,4.3,4.2,4.2,4.3,4.2,4.3,4.6,4.4,4.3,3.8,4.6,4.5,4.1,4.4,4.3,3.8,4.0,3.3,4.1,4.1,4.2,4.1,4.4,4.1,4.2,4.5,4.3,4.5,4.1,4.5,4.4,4.6,4.5,4.6,4.7,4.3,4.4,4.4,4.2,4.1,4.1,4.5,4.7,4.1,4.2,4.5,4.4,4.6,4.2,4.6,4.3,4.1,4.1,4.4,4.1,4.6,4.2,4.2,4.1,4.2,4.3,4.2,4.5,4.7,4.5,4.3,4.0,4.4,4.4,4.0,4.5,4.6,4.1,4.5,3.9,4.5,4.2,4.3,4.3,4.4,4.5,4.6,4.4,4.3,4.3,4.1,4.7,4.4,4.2,4.4,4.2,4.2,4.1,4.0,4.1,4.5,4.6,4.3,4.6,4.4,4.0,4.5,4.1,4.4,4.0,4.6,4.5,4.4,4.5,4.1,4.3,4.5,4.2,3.8,4.5,4.7,4.1,4.6,4.8,4.0,4.7,4.7,4.1,4.5,3.6,4.5,4.7,4.7,4.5,4.2,4.5,4.4,4.5,4.5,4.4,3.7,4.3,4.5,4.4,3.3,4.3,4.4,4.5,4.4,4.2,4.5,4.7,4.5,4.6,4.6,4.4,4.3,4.3,4.6,4.4,4.5,4.5,4.2,4.0,4.4,4.7,4.3,4.6,4.4,4.5,4.3,4.3,4.4,4.5,4.4,4.6,4.3,4.6,4.3,4.4,4.2,4.3,4.4,3.9,4.3,4.4,4.2,4.5,4.3,4.3,4.3,4.1,4.4,4.3,4.0,4.0,4.0,4.4,4.3,4.1,4.2,3.9,4.4,4.4,4.5,4.4,4.6,4.3,4.6,4.1,4.0,4.3,4.2,4.0,4.1,4.1,4.0,4.3,4.3,4.2,4.5,4.0,4.4,4.1,4.4,4.3,4.3,4.2,4.3,4.4,4.4,4.3,4.4,3.8,4.4,4.4,4.3,4.6,4.0,4.1,4.2,4.3,4.6,4.6,4.3,4.2,4.1,4.2,4.6,4.6,4.4,4.7,4.4,4.1,4.3,4.4,4.2,4.4,4.5,4.2,3.8,4.3,4.4,4.6,4.4,4.5,4.2,4.5,4.5,4.3,4.4,4.2,4.1,4.3,4.0,4.6,4.3,4.4,4.5,4.2,4.3,4.4,4.2,4.1,4.4,4.7,4.6,4.2,4.3,4.3,4.5,4.6,4.5,4.4,4.7,4.2,4.3,4.2,3.9,3.9,4.2,4.3,4.6,4.3,4.0,4.0,4.0,4.6,4.3,4.2,4.3,4.4,4.0,4.6,4.7,4.3,4.0,4.5,4.7,4.4,4.8,3.3,4.3,3.9,4.4,3.9,4.4,4.3,4.4,4.2,4.2,4.1,4.4,4.0,4.4,4.3,4.1,4.0,4.2,4.2,4.3,3.1,4.1,2.9,4.0,4.5,4.3,4.1,4.3,4.5,4.6,4.4,4.2,4.3,3.4,4.6,4.2,4.4,4.0,4.1,4.0,4.6,4.2,4.5,4.4,4.0,3.5,4.0,4.2,4.0,4.4,4.8,4.1,4.6,4.3,4.4,4.3,4.6,4.5,4.3,4.2,4.4,4.2,4.4,4.3,4.5,4.5,4.1,4.0,4.7,4.6,4.2,4.2,4.1,4.1,3.5,4.5,3.9,4.6,4.0,4.4,4.2,4.2,4.6,4.5,4.4,4.5,4.4,4.3,4.2,4.3,4.5,4.0,4.2,4.1,3.9,4.2,4.0,3.5,4.0,4.0,4.5,4.1,4.2,4.4,4.4,4.1,4.3,4.5,4.5,4.4,4.5,4.7,4.4,4.1,4.4,4.4,4.3,4.2,4.0,4.7,4.3,4.6,3.9,3.6,4.0,4.1,4.2,3.9,4.1,4.3,3.1,3.7,3.4,4.4,3.6,4.4,3.3,3.7,3.0,3.6,4.8,3.9,3.8,4.3,4.5,3.4,3.7,4.5,4.4,4.1,4.5,4.0,3.9,4.4,4.8,4.7,4.3,3.7,4.2,3.5,4.3,4.7,4.3,4.1,3.1,4.3,4.1,4.2,4.3,4.4,4.3,4.3,4.4,3.5,4.1,4.6,4.4,4.2,3.9,4.2,4.4,4.4,4.4,4.4,3.7,4.4,4.5,3.7,4.4,3.7,4.4,4.5,3.6,4.4,4.0,4.1,4.4,4.4,4.3,4.4,4.2,4.2,4.1,4.3,4.5,4.4,4.5,4.3,4.2,4.5,4.7,4.4,4.4,4.4,4.4,4.1,4.6,4.4,4.1,4.5,4.5,4.4,4.3,4.5,4.2,4.2,4.2,4.5,4.7,4.0,4.2,4.2,4.1,4.4,4.4,4.2,4.2,4.1,4.5,4.6,4.1,4.3,4.2,4.1,4.0,4.6,3.1,4.6,4.5,3.2,4.3,null,4.6,4.4,4.6,4.5,4.6,null,4.4,4.2,4.4,3.1,3.6,4.1,4.2,3.5,3.9,3.0,3.9,4.5,3.4,4.4,3.4,4.3,3.7,3.5,3.8,3.6,3.1,3.8,4.2,4.0,4.3,4.3,4.5,4.5,4.5,4.4,4.4,4.3,4.2,4.7,4.4,4.3,4.4,4.3,4.5,4.7,4.5,4.6,4.7,4.6,4.8,3.9,4.5,4.6,4.5,4.4,4.5,4.0,4.3,4.0,4.4,4.1,4.3,4.1,4.3,4.2,4.2,4.2,4.2,4.3,4.5,4.4,4.5,4.2,4.1,4.4,4.5,4.3,4.4,4.1,4.4,4.2,4.1,4.6,4.5,4.3,4.1,4.1,4.2,4.1,4.6,4.5,4.0,3.5,4.4,4.4,4.4,4.1,4.2,4.6,4.4,4.6,4.6,4.5,4.7,4.4,4.5,4.6,4.6,4.0,4.6,4.5,4.7,4.7,4.4,4.3,4.7,4.1,4.7,4.4,4.6,4.5,4.4,4.4,4.3,4.3,4.6,4.7,4.3,4.5,4.6,4.4,4.5,4.7,4.3,3.7,4.7,4.5,4.4,4.3,4.8,4.6,4.1,4.7,4.1,4.6,4.2,4.3,4.2,4.0,4.2,3.9,4.3,4.1,4.2,4.4,4.3,4.3,4.4,4.3,4.1,4.2,4.1,4.1,4.2,4.1,4.4,4.1,4.3,4.6,4.1,4.6,4.6,4.2,4.1,4.2,4.5,4.3,4.2,4.0,4.2,4.2,4.6,4.3,4.4,4.4,4.4,4.3,4.3,4.6,4.5,4.1,4.3,4.4,4.2,4.2,4.1,4.5,4.7,4.3,4.4,4.4,3.8,4.4,4.3,4.2,4.5,3.2,4.5,4.2,4.4,4.7,4.4,4.0,4.4,4.0,4.6,4.5,4.2,4.0,4.4,4.5,3.9,4.2,4.3,4.2,4.2,4.4,4.7,4.6,3.1,4.4,4.1,4.5,4.6,4.3,3.9,4.5,4.3,3.7,4.5,4.4,4.0,4.0,4.4,4.7,4.6,4.2,4.5,4.6,4.0,4.5,4.4,4.3,4.4,4.5,4.5,4.6,4.4,4.6,4.3,4.6,4.5,4.3,4.1,4.2,4.2,4.6,4.2,4.5,4.4,4.3,4.2,4.3,4.5,4.3,4.3,4.5,4.5,4.4,4.2,4.2,4.6,4.4,4.3,4.6,4.2,4.2,4.2,4.0,4.3,4.6,4.4,4.6,4.6,4.5,4.5,4.4,4.3,4.0,4.2,4.2,4.5,4.0,4.2,4.4,4.6,4.3,4.6,4.2,4.4,4.6,4.4,4.6,4.4,4.1,4.4,4.4,4.1,4.3,4.1,4.1,4.5,3.9,null,3.8,null,null,4.6,4.7,null,4.0,null,4.7,4.1,3.7,null,4.1,3.7,4.6,4.4,4.6,4.1,4.4,4.7,4.4,null,4.8,4.0,4.9,null,4.8,4.4,4.7,4.2,4.6,4.6,4.5,4.6,4.1,3.8,4.8,4.8,null,4.5,4.0,4.4,4.7,null,3.9,4.4,4.4,4.5,4.4,4.8,4.4,4.8,4.5,4.7,4.5,3.5,4.4,4.3,4.4,4.2,4.6,4.4,4.4,3.9,4.3,4.5,4.2,3.7,4.2,3.9,3.6,4.5,4.3,4.3,4.2,4.6,4.5,4.5,4.2,3.9,4.8,3.8,4.5,4.5,4.2,4.0,4.2,4.3,4.3,4.2,4.3,3.6,3.9,4.8,3.9,3.7,4.6,4.4,4.4,4.2,4.1,3.8,4.4,4.5,4.6,4.7,4.3,4.5,4.3,3.7,3.9,3.6,4.5,4.4,3.8,4.6,4.2,4.3,3.8,4.4,3.1,4.6,4.1,4.5,4.0,4.5,4.3,null,3.7,3.9,3.5,3.3,4.3,4.5,4.1,4.4,4.4,4.5,4.4,4.3,4.5,4.3,4.6,4.1,4.2,3.5,4.0,3.8,4.3,4.3,4.1,4.3,4.5,4.4,4.0,4.1,4.6,4.3,3.9,4.5,4.7,4.3,4.5,3.1,4.7,3.8,4.0,4.2,4.0,4.2,3.4,4.6,4.5,4.0,4.4,4.2,4.1,4.4,4.0,3.7,4.6,4.5,4.6,4.5,3.9,4.3,4.4,3.9,4.3,4.4,4.4,3.6,4.5,3.6,4.1,4.4,4.1,4.2,4.7,3.9,3.9,4.4,4.3,4.6,4.0,4.3,4.2,4.5,4.3,4.0,4.1,4.6,4.1,4.5,4.0,4.2,4.3,4.2,4.3,4.2,4.0,4.2,4.3,4.0,4.5,4.3,4.3,3.9,4.0,4.1,4.1,4.1,4.0,4.0,4.5,4.1,3.9,4.2,3.9,4.5,4.3,4.4,4.6,4.2,4.1,4.4,4.4,4.2,4.5,4.2,4.4,4.4,4.0,4.3,4.4,4.2,4.3,4.1,4.4,4.3,4.4,4.2,4.7,4.3,4.5,3.7,4.3,4.2,4.1,4.5,4.8,4.3,4.7,4.3,4.2,3.7,4.6,4.5,4.3,4.5,4.2,4.2,4.3,4.3,4.4,3.7,4.4,4.4,4.2,3.5,4.2,4.2,4.0,4.5,4.2,3.9,4.3,3.7,4.3,4.3,4.6,4.3,4.2,4.6,3.9,4.4,4.6,4.1,4.8,4.3,4.5,4.4,4.4,3.3,4.2,3.8,4.5,4.3,4.5,3.7,4.5,4.1,4.4,3.7,4.1,4.8,4.4,4.3,4.1,4.4,4.1,4.5,4.5,4.5,4.5,4.2,4.4,4.5,4.3,3.8,4.5,3.7,4.5,4.5,4.3,4.6,4.3,4.4,4.3,4.3,4.3,4.3,4.3,4.4,4.2,4.9,4.5,4.6,4.6,4.6,3.4,3.8,4.4,4.7,4.6,4.1,3.8,4.4,4.4,3.9,4.1,4.5,3.7,4.4,4.5,4.5,3.8,3.1,4.5,5.0,4.4,null,4.3,2.9,3.1,3.3,4.1,4.6,4.4,4.5,4.3,4.3,4.5,4.5,2.2,4.5,4.2,4.5,4.6,3.9,4.1,3.3,4.5,4.1,4.8,4.1,4.5,null,4.6,4.6,4.3,4.1,4.5,4.3,4.4,4.7,4.4,4.4,4.3,4.2,4.2,4.6,4.5,4.6,4.7,4.8,4.7,4.7,1.7,4.5,4.0,3.6,2.0,4.7,4.1,4.3,4.3,4.5,4.4,4.4,4.6,3.7,4.5,4.0,4.8,4.0,4.7,4.8,4.6,4.3,4.2,4.8,4.2,4.6,4.2,4.5,4.6,4.5,4.5,4.3,4.8,4.6,4.5,4.3,4.2,4.4,4.5,4.2,4.6,4.6,4.4,4.5,4.5,4.6,4.5,4.4,4.1,4.4,4.6,4.6,4.5,4.5,4.3,4.3,3.3,3.7,4.5,4.4,3.1,4.0,4.4,4.2,3.9,4.4,4.6,4.8,4.4,3.9,4.5,3.6,3.4,4.7,4.4,4.4,4.5,4.2,4.6,4.3,4.3,4.3,4.6,4.4,4.5,4.5,4.0,4.3,4.5,4.1,4.3,4.0,4.3,4.6,4.2,4.4,4.5,4.3,4.0,4.3,4.4,4.6,4.4,4.3,4.2,4.3,4.3,4.6,3.6,4.3,4.2,4.2,4.4,4.3,4.9,4.5,4.2,4.3,4.2,3.8,4.2,1.0,4.4,4.0,null,4.4,4.4,4.5,null,3.4,3.8,null,3.7,null,4.1,4.6,4.4,4.2,4.2,4.4,4.5,4.2,4.5,4.3,4.4,4.2,3.6,4.0,4.4,4.6,4.5,4.4,4.2,4.3,4.6,1.8,3.8,4.4,3.0,3.4,4.6,3.7,3.0,4.6,4.4,3.1,4.3,4.3,3.8,4.5,3.6,null,4.2,4.5,4.2,3.3,4.2,4.3,4.2,3.7,3.8,2.9,4.5,4.3,4.9,4.4,4.4,4.4,2.9,4.2,4.0,4.3,4.3,3.9,4.3,null,4.0,4.6,3.7,4.0,4.6,4.4,4.5,3.0,3.1,4.3,4.5,4.5,4.5,4.1,4.6,4.2,null,3.9,3.9,3.9,4.3,4.2,4.2,3.7,2.8,4.4,4.1,4.4,2.7,4.7,4.2,4.2,4.1,4.5,4.4,4.0,4.2,4.1,4.0,4.4,4.7,4.3,4.7,4.4,4.0,4.3,4.2,4.4,4.6,3.3,4.5,2.3,4.2,4.1,null,4.4,3.2,3.5,4.6,4.3,4.1,4.1,4.1,null,4.7,3.5,3.9,null,null,4.1,4.7,null,4.6,4.5,4.7,4.9,null,4.3,4.1,4.4,4.2,4.1,4.6,4.3,4.4,4.4,4.5,4.6,4.8,4.3,4.8,4.8,3.7,4.1,3.7,4.2,4.5,4.6,4.5,4.7,4.3,null,4.9,4.4,4.6,null,null,4.0,4.8,4.3,4.4,4.2,4.6,null,4.8,4.0,4.3,4.7,4.5,4.6,4.5,4.3,4.0,4.2,4.0,4.5,4.0,4.1,4.6,3.1,4.9,4.5,4.0,4.0,3.6,4.5,4.2,4.3,3.9,4.3,4.3,4.4,4.3,4.4,4.3,4.5,4.4,3.5,4.4,4.4,4.5,4.4,4.4,4.0,3.9,3.9,4.3,4.9,3.7,3.3,3.8,3.5,4.2,4.5,3.5,3.6,4.6,3.9,4.2,4.2,4.0,3.2,4.6,2.4,4.5,4.1,4.2,3.7,4.3,4.2,4.1,3.9,3.8,4.4,3.4,4.0,4.4,3.3,4.8,4.5,3.4,4.3,4.3,4.1,4.0,4.4,3.8,4.4,3.8,4.2,3.8,4.8,4.7,4.3,3.5,3.9,4.2,4.6,4.7,4.5,3.8,4.5,3.7,3.5,4.1,3.9,4.1,4.6,4.4,4.5,4.4,4.6,4.0,4.4,4.4,4.4,4.0,3.8,3.9,null,3.7,4.2,4.1,4.3,4.3,4.1,4.4,3.8,4.3,4.4,3.8,4.5,3.8,3.9,4.0,4.3,4.5,4.4,4.6,null,5.0,4.4,4.4,4.2,4.0,null,4.2,null,4.6,4.1,null,3.9,4.6,null,4.4,3.9,4.6,4.5,3.0,null,3.6,4.4,4.6,null,4.3,5.0,4.5,4.1,4.1,4.5,null,4.8,4.5,null,4.0,4.8,3.7,null,4.5,4.7,2.7,2.9,4.2,4.4,4.2,3.4,2.6,4.1,4.3,4.5,4.2,4.4,null,4.0,4.4,4.1,4.8,2.2,3.8,3.1,3.1,3.8,3.8,4.3,3.6,4.0,4.4,4.6,null,4.5,1.8,4.7,3.9,4.4,3.6,4.5,4.4,3.9,3.9,3.8,null,4.2,4.1,4.4,4.4,null,null,5.0,4.1,4.5,4.3,null,3.9,3.5,null,3.2,null,null,null,null,3.3,4.8,4.5,3.7,4.8,4.7,4.3,3.8,4.1,4.7,null,4.2,null,null,4.6,4.2,4.6,4.6,4.2,4.1,3.5,4.1,4.4,4.5,4.1,4.5,4.3,4.4,4.3,4.3,3.8,3.9,4.1,4.8,4.4,4.0,4.7,4.6,4.3,4.0,4.4,3.7,3.7,3.3,4.1,3.0,4.1,3.0,3.8,4.0,4.5,4.6,4.1,3.6,4.7,3.5,3.1,3.9,3.7,4.2,4.4,4.4,3.3,4.8,4.2,4.5,3.8,4.1,4.2,4.2,4.0,4.2,3.8,4.5,3.7,4.3,4.5,4.1,4.2,4.5,4.0,4.4,4.2,4.3,4.7,4.1,3.2,3.9,4.1,3.4,3.0,4.6,4.6,4.1,3.1,3.4,4.2,4.2,3.0,2.4,4.1,2.9,4.0,4.0,3.8,2.4,4.4,3.7,4.3,4.6,4.2,4.8,3.6,3.2,4.0,3.5,4.4,2.5,3.9,4.4,4.2,4.2,4.3,4.1,4.3,4.2,4.2,3.9,3.9,4.4,3.8,4.5,4.2,3.7,4.3,4.3,4.6,3.3,3.6,4.1,3.8,3.3,4.5,4.8,4.6,null,4.3,4.5,4.2,3.8,4.7,4.2,4.3,4.7,4.7,3.6,4.2,4.0,4.3,4.7,4.2,4.6,4.8,4.6,3.8,4.6,4.3,4.2,4.5,3.2,4.3,4.3,4.5,4.4,1.9,4.4,2.5,4.2,4.3,4.0,4.5,4.8,4.2,4.7,4.4,4.4,4.4,4.6,4.6,4.2,4.5,4.0,4.4,4.2,4.5,4.6,4.4,4.7,4.2,4.4,3.2,4.1,4.0,4.7,4.6,4.6,4.7,4.8,4.6,4.2,4.3,3.3,4.7,4.5,4.0,4.5,4.2,4.6,4.2,4.7,4.7,4.2,4.3,4.3,null,4.5,4.4,4.5,4.6,4.3,3.8,4.5,4.5,3.9,4.0,2.7,4.5,4.0,2.9,4.6,4.4,4.5,4.6,4.4,4.3,4.4,4.2,4.8,4.3,4.3,4.6,4.6,4.2,4.2,4.1,4.4,4.5,4.4,4.4,4.2,4.5,4.6,4.5,4.6,4.0,4.5,4.2,3.9,4.7,4.4,4.5,4.3,4.4,4.2,3.9,4.1,2.2,4.2,4.2,2.8,3.9,4.3,4.8,4.3,4.1,4.2,4.4,4.1,4.6,4.3,4.3,3.8,4.8,null,3.8,3.9,null,4.3,4.3,4.3,4.1,4.2,4.9,4.5,4.6,3.8,4.7,4.5,4.7,4.5,4.8,4.6,4.6,4.3,4.8,3.4,4.6,4.4,4.5,4.4,4.4,4.6,4.2,4.3,4.3,3.8,3.9,4.3,4.8,4.2,4.5,4.8,null,4.6,4.2,4.2,4.0,null,4.3,4.8,4.1,4.7,null,4.8,4.0,3.5,3.8,3.5,3.3,3.7,3.3,3.4,1.8,1.6,1.9,3.6,3.4,3.2,2.5,4.7,2.6,2.8,3.9,4.2,3.9,4.0,3.5,3.1,3.7,3.6,3.4,4.0,3.7,1.7,2.4,4.3,4.2,3.3,4.1,4.1,3.4,3.0,3.0,2.2,3.7,3.7,4.8,3.7,3.6,3.7,4.4,3.8,3.7,3.7,4.8,4.2,4.1,4.6,4.1,4.3,3.9,3.8,4.0,4.5,4.6,4.1,4.4,3.7,3.9,3.9,4.5,4.5,4.4,4.3,4.5,4.7,4.7,4.1,3.3,4.2,4.1,3.4,4.3,4.9,4.5,4.1,4.4,4.3,4.4,3.4,4.1,4.1,3.5,3.8,4.6,4.6,5.0,4.6,4.2,4.0,3.9,3.7,4.3,1.9,4.2,4.2,4.0,4.4,4.2,4.5,4.3,4.4,4.0,4.2,4.3,4.0,4.3,3.9,4.0,3.7,4.1,3.9,4.2,4.4,4.5,3.9,3.9,4.2,4.5,4.1,4.7,null,4.4,4.7,4.7,4.0,3.9,null,3.8,3.9,4.4,4.5,null,3.8,3.5,4.2,4.7,2.0,4.3,2.8,4.0,3.9,4.2,3.4,4.5,4.7,2.0,4.4,null,null,null,4.7,3.3,4.1,null,4.2,4.4,null,3.7,null,4.3,3.9,5.0,4.1,4.8,4.0,null,4.1,3.8,4.6,null,4.3,4.1,4.6,4.1,4.4,4.2,4.1,4.3,4.3,4.0,4.5,4.1,3.8,null,4.5,null,4.1,null,3.9,3.7,null,4.5,4.4,null,3.4,null,null,null,null,2.3,4.7,3.4,4.7,null,null,5.0,null,null,null,null,null,null,null,null,3.6,5.0,null,null,4.3,null,null,null,5.0,null,null,4.1,4.1,4.5,null,null,3.4,null,null,null,2.9,4.6,5.0,null,null,null,3.9,3.9,5.0,4.1,null,5.0,3.0,4.0,1.0,null,4.0,null,null,4.0,null,3.8,null,null,null,null,null,null,null,null,3.5,null,null,null,null,null,2.6,null,3.4,null,null,4.5,3.4,3.8,3.0,4.4,4.0,3.9,4.6,3.8,3.8,4.0,4.6,3.6,4.4,3.1,4.2,4.6,4.0,5.0,3.3,4.1,3.6,3.2,4.4,4.0,4.4,4.5,4.3,4.7,4.4,null,4.4,4.4,3.7,3.3,null,3.7,3.0,2.6,null,null,3.5,3.9,4.6,3.8,4.6,4.4,4.5,4.5,4.7,4.4,null,5.0,null,null,2.8,null,4.6,2.8,5.0,5.0,2.8,null,3.8,4.1,null,4.8,5.0,5.0,null,4.4,null,null,5.0,4.1,null,4.8,null,null,4.8,4.0,null,5.0,4.6,null,5.0,null,null,null,4.5,5.0,null,null,null,4.4,4.0,null,3.9,4.1,4.8,4.3,3.9,4.5,null,3.7,4.3,4.2,3.7,3.8,4.6,null,null,null,3.3,3.0,3.9,4.2,3.9,null,4.1,null,4.6,null,null,null,null,4.4,3.8,4.4,null,4.9,3.6,4.3,3.6,4.1,3.4,4.5,4.7,4.5,4.4,4.3,4.6,4.2,4.8,4.6,4.8,4.6,4.6,4.6,4.1,4.7,4.7,4.8,3.6,4.7,4.6,4.5,4.7,4.5,4.3,4.5,4.8,4.7,4.7,4.7,4.7,4.7,4.7,4.7,4.6,4.7,4.7,4.6,3.8,3.9,4.0,4.0,3.8,4.1,2.9,3.8,3.5,4.2,4.6,4.4,4.4,4.1,3.9,3.6,4.0,3.8,4.3,4.6,3.6,3.9,4.0,4.2,4.2,4.2,4.5,4.7,3.5,4.5,4.0,4.6,4.2,4.3,4.1,4.5,4.2,4.5,4.4,3.7,4.4,4.3,4.3,4.3,4.5,4.5,3.8,4.5,4.5,4.4,4.7,3.5,4.9,4.0,4.1,4.2,null,4.4,4.1,4.6,4.6,4.7,4.5,null,4.6,4.4,4.4,4.2,4.4,4.0,4.2,4.2,4.2,4.8,3.7,3.4,4.3,4.3,4.6,4.2,4.6,4.1,4.4,4.6,4.3,4.4,4.7,4.2,3.8,4.3,3.7,4.3,2.9,4.3,4.3,4.0,3.3,4.5,4.1,5.0,3.9,4.6,4.0,3.6,4.0,4.5,null,2.9,4.2,4.5,null,4.6,4.7,4.2,4.7,4.7,3.9,4.7,3.7,4.8,4.0,4.6,4.4,4.3,4.7,3.6,4.4,4.6,2.9,null,4.5,5.0,3.7,null,3.7,null,4.2,3.0,5.0,4.4,4.7,4.3,3.9,null,4.4,4.3,null,null,null,null,4.6,4.5,3.9,4.7,4.3,5.0,5.0,null,5.0,null,null,4.4,null,2.7,4.6,4.4,4.4,4.1,3.8,4.4,4.6,4.1,4.5,4.2,4.7,4.3,4.3,4.2,3.8,4.0,4.3,4.6,4.3,4.3,4.3,4.7,4.6,4.4,3.8,4.6,4.6,4.5,4.5,3.9,4.4,3.8,4.3,4.3,3.7,3.2,4.0,3.8,4.4,3.8,3.4,2.9,4.5,3.7,3.8,4.1,4.1,3.7,3.6,null,3.0,4.1,3.8,4.2,4.4,4.5,3.6,3.6,3.7,3.9,null,4.2,4.1,4.5,2.8,2.6,4.3,4.4,4.1,4.0,4.3,3.9,3.5,3.7,4.3,4.3,4.1,4.2,4.3,4.2,4.6,4.3,4.1,4.4,4.4,4.1,4.2,4.4,4.3,2.4,4.5,4.3,4.5,4.5,4.3,4.4,4.3,4.4,4.6,3.4,3.9,4.3,4.4,4.5,4.4,4.2,4.0,4.3,4.4,4.2,4.0,4.4,4.6,4.0,4.4,3.5,4.6,4.0,4.0,4.1,4.1,3.3,3.9,4.1,4.2,4.0,4.5,3.8,3.5,4.3,4.6,4.7,3.8,4.7,4.8,3.2,4.5,3.9,3.6,3.7,4.4,4.1,4.0,3.1,4.0,2.8,3.7,2.7,3.9,3.8,3.6,4.5,3.5,4.0,null,3.8,3.6,4.2,4.4,4.0,4.7,null,null,4.1,4.0,null,4.7,null,null,3.8,5.0,4.4,null,null,4.0,null,3.8,4.1,4.3,null,4.5,4.4,3.4,4.1,4.1,3.8,4.3,4.4,4.4,4.8,3.3,3.3,4.4,3.7,3.4,2.3,3.3,2.7,null,4.6,3.5,3.4,4.3,4.1,4.7,4.4,3.8,3.0,4.4,4.2,4.5,3.5,4.5,4.3,4.5,null,4.5,4.0,4.8,null,4.3,1.7,4.3,4.2,null,4.2,4.3,null,4.0,4.2,4.6,4.1,4.6,4.1,4.0,null,3.3,4.1,null,null,4.0,null,null,4.4,4.2,3.8,3.1,null,5.0,4.2,4.7,4.4,4.6,4.4,2.9,2.7,null,4.6,4.0,3.8,4.8,5.0,3.9,4.2,4.1,4.7,4.2,4.2,3.7,4.1,4.1,3.8,4.6,null,4.4,4.2,4.4,null,null,4.6,5.0,null,4.5,null,3.5,null,3.9,4.4,3.0,null,3.1,4.4,null,3.0,null,null,3.7,null,3.7,3.9,4.8,null,null,4.6,4.6,4.5,4.3,5.0,4.3,null,4.7,4.0,3.8,5.0,4.8,4.5,4.3,null,null,null,null,3.7,null,null,null,null,null,4.3,null,3.8,null,null,4.5,4.6,4.1,4.2,null,5.0,null,null,null,4.3,null,3.3,3.6,4.0,4.0,4.0,4.3,4.2,4.3,4.2,4.5,4.3,4.6,4.4,4.2,4.2,4.2,3.4,3.2,4.0,4.6,3.2,4.4,4.0,4.7,null,3.7,3.9,4.2,4.1,3.5,4.8,4.3,3.9,null,3.5,4.3,4.4,4.8,3.9,3.8,4.2,4.0,4.0,4.4,4.7,4.5,4.3,3.3,4.3,4.1,2.1,3.7,4.2,4.4,4.2,2.1,2.4,4.1,3.1,5.0,null,3.5,4.2,null,4.7,null,null,null,4.8,null,4.5,4.6,4.6,4.9,4.8,4.0,3.9,4.1,4.1,4.5,4.2,4.0,4.4,1.9,null,null,3.7,null,4.2,4.0,4.3,2.5,4.4,null,3.7,4.7,4.6,4.4,4.3,4.4,2.6,3.6,3.8,4.4,4.4,3.0,4.2,3.7,5.0,null,4.2,4.8,4.4,4.1,4.7,4.7,3.3,4.0,null,null,1.0,4.4,4.2,4.4,4.6,4.3,4.4,null,3.7,2.9,4.0,4.4,3.3,null,null,4.2,4.5,2.3,5.0,3.6,null,3.9,4.4,4.2,4.8,4.3,4.2,4.4,4.3,4.0,1.4,3.3,4.3,null,4.6,4.7,4.2,3.9,3.4,4.3,4.8,4.8,4.5,3.3,4.2,4.9,4.2,4.6,4.1,4.6,4.0,4.2,5.0,4.1,3.7,4.1,3.8,4.7,3.5,4.0,4.2,3.3,3.7,3.4,3.7,5.0,4.4,5.0,4.8,4.4,4.9,4.0,4.4,4.5,4.9,4.4,4.4,5.0,4.8,4.6,4.3,3.8,4.3,4.3,4.1,4.5,4.2,3.8,4.3,4.4,4.2,4.2,3.8,4.2,4.0,4.2,4.3,4.3,4.4,4.7,4.1,4.5,4.2,4.3,4.4,4.5,4.3,null,4.2,4.0,3.4,4.4,3.8,3.0,4.1,4.4,4.1,4.1,4.1,4.5,4.1,2.2,3.9,4.0,4.3,3.9,4.0,4.2,4.2,3.6,4.3,null,null,4.4,2.6,4.1,null,3.5,4.2,null,null,3.7,4.5,2.4,null,2.9,4.2,4.2,4.0,2.6,4.4,4.8,4.7,4.4,4.6,2.7,3.8,1.7,4.6,3.3,null,null,4.6,2.3,4.5,null,4.8,null,5.0,null,4.1,null,null,null,null,null,null,4.9,3.0,null,null,4.8,4.5,3.4,null,null,null,null,4.0,3.7,2.2,4.8,null,5.0,null,null,null,4.5,null,4.3,3.8,null,4.5,4.5,null,4.8,4.5,4.4,null,3.9,4.3,4.3,null,4.0,null,4.1,4.6,3.7,3.4,4.5,4.4,null,4.4,2.4,4.1,4.6,4.6,4.3,4.3,4.7,null,4.2,4.3,4.3,3.9,4.7,4.2,4.1,4.6,4.7,4.3,4.5,4.6,2.9,4.0,3.0,3.9,null,4.8,3.9,4.0,null,null,null,5.0,null,null,null,4.0,null,5.0,null,null,4.5,4.8,null,4.6,4.2,null,3.4,2.6,2.4,null,4.5,4.6,3.3,4.1,4.6,3.9,null,null,null,null,null,4.0,3.4,4.5,4.0,5.0,3.6,3.5,4.6,4.9,3.7,5.0,4.0,3.9,5.0,4.0,null,null,4.9,4.4,3.6,4.7,4.3,3.9,4.5,4.2,4.6,4.1,4.3,4.6,null,null,4.2,4.6,4.5,4.4,4.2,4.5,4.0,4.2,4.7,4.1,4.4,4.3,4.6,4.2,4.0,2.3,4.5,3.6,4.4,3.9,3.9,4.8,4.2,3.7,4.0,null,1.0,null,4.4,4.2,4.7,3.6,null,4.1,3.3,null,null,5.0,4.3,4.7,null,null,null,null,null,4.0,null,4.4,4.6,5.0,4.3,4.3,null,3.8,4.1,4.6,4.0,4.7,3.6,4.5,4.0,4.1,4.0,3.8,null,4.5,2.8,null,4.2,4.8,5.0,5.0,null,null,null,4.3,4.3,4.5,4.5,5.0,3.8,4.4,5.0,4.7,null,4.7,2.2,4.6,4.6,4.7,4.6,4.4,3.8,3.6,4.9,4.8,null,4.4,5.0,4.8,null,null,4.6,5.0,4.6,5.0,null,4.0,4.3,4.5,4.0,3.2,4.6,4.2,4.8,3.0,4.3,3.9,3.2,3.9,4.8,3.5,4.4,4.1,4.2,4.7,4.0,4.4,4.2,5.0,3.5,3.8,null,4.5,4.1,null,4.3,null,4.3,4.4,null,null,null,null,null,4.0,4.3,4.0,4.9,4.7,null,null,null,4.3,4.2,4.1,4.3,4.7,3.2,3.9,4.2,4.1,4.9,null,3.7,3.5,4.9,null,3.3,4.9,3.4,null,4.5,4.3,5.0,3.5,null,null,4.4,3.7,null,4.8,null,4.3,4.9,null,null,null,null,null,null,5.0,4.3,4.3,null,null,4.4,1.0,4.5,null,4.0,5.0,4.9,4.7,4.5,3.9,null,3.2,3.5,null,3.7,3.0,4.2,4.0,4.1,null,4.7,4.0,3.1,4.4,3.2,3.9,4.2,4.7,4.0,null,null,4.0,3.7,4.1,4.4,4.0,3.9,3.6,null,null,4.6,null,4.4,1.9,4.3,4.5,4.1,3.8,4.1,4.6,3.7,3.9,4.4,null,4.5,null,null,4.3,4.4,3.5,4.3,4.5,4.5,4.4,4.2,4.3,null,3.6,4.0,3.8,null,null,4.4,3.8,3.9,4.1,4.3,3.5,null,4.3,null,4.7,4.5,3.8,4.5,4.2,4.3,4.1,4.6,4.6,4.5,4.5,3.0,2.6,3.4,4.4,4.2,4.0,4.7,3.4,3.7,3.7,4.5,3.9,5.0,4.3,4.2,null,4.0,null,4.5,4.0,4.4,1.8,4.3,5.0,5.0,null,3.2,4.2,4.6,3.8,3.9,4.2,null,4.0,3.8,4.1,3.9,4.4,2.1,1.8,4.2,2.0,null,null,3.4,4.3,3.6,3.7,4.7,4.5,4.6,3.6,null,null,4.4,4.6,null,null,null,2.3,null,null,3.8,null,3.0,5.0,4.5,4.4,4.5,4.8,4.3,3.8,null,4.3,3.7,4.5,null,4.3,null,4.4,3.4,4.5,1.6,null,null,4.5,null,null,null,null,null,null,4.4,3.8,4.3,4.3,3.0,4.0,4.2,4.8,4.0,4.5,null,4.7,1.9,4.9,4.4,4.7,null,4.9,4.8,null,null,4.5,null,null,4.6,4.5,null,5.0,null,3.9,null,null,4.3,null,4.8,4.3,4.6,null,null,4.1,4.5,4.3,3.8,2.4,4.3,2.8,4.5,4.6,4.1,4.2,4.6,4.3,4.6,5.0,5.0,3.9,4.2,3.9,4.2,null,null,null,3.5,null,4.0,null,3.7,3.8,4.3,null,null,4.5,4.6,null,4.5,4.3,4.4,null,null,4.6,null,3.9,null,3.9,3.1,3.9,4.4,4.4,4.4,4.6,3.9,4.6,2.5,4.6,2.8,4.0,3.4,3.8,4.5,4.8,3.3,3.9,3.5,4.5,4.0,null,3.6,null,4.7,3.9,5.0,4.6,3.9,4.9,3.6,3.7,3.9,2.7,3.8,2.8,3.5,4.1,null,4.7,4.3,4.5,4.1,null,null,4.8,null,null,null,3.4,5.0,null,null,4.3,4.4,1.8,4.2,3.3,null,5.0,null,null,null,4.8,null,4.5,5.0,4.5,4.7,null,4.6,null,null,4.5,null,null,3.5,null,null,3.5,2.9,null,null,5.0,null,null,null,null,4.3,null,4.8,4.7,4.3,4.1,5.0,5.0,null,null,null,4.0,null,4.3,null,4.1,5.0,null,5.0,null,null,null,4.0,null,null,3.5,null,null,null,4.1,null,null,4.6,null,null,null,4.1,4.2,4.2,2.2,4.3,4.7,3.8,null,4.1,null,3.1,4.2,null,3.0,4.8,3.7,3.1,4.6,2.9,4.2,4.7,4.5,2.8,null,4.4,4.4,4.1,4.6,3.0,4.1,4.2,null,4.4,3.9,null,null,null,null,4.3,4.5,4.5,3.6,2.0,4.0,4.5,4.0,4.3,null,4.5,4.8,4.5,null,null,4.2,4.5,4.6,null,null,3.9,null,null,4.3,3.9,4.3,3.7,4.7,4.3,1.7,4.5,null,4.7,null,5.0,null,null,null,4.6,2.9,null,4.8,2.3,null,3.8,4.2,null,4.4,null,4.0,4.1,3.4,4.3,4.0,4.2,4.1,4.7,4.2,3.9,3.8,4.1,4.2,3.8,4.7,3.7,4.3,4.0,4.2,4.6,4.7,4.7,4.3,4.2,3.5,4.7,4.7,4.5,4.5,4.7,4.6,4.6,4.9,4.2,4.3,4.4,4.4,4.5,4.3,4.4,4.4,3.0,4.8,4.7,4.6,4.0,3.7,3.5,2.7,4.7,4.1,4.5,4.6,4.5,4.4,4.3,4.4,4.5,4.6,4.7,4.6,3.1,3.9,4.7,4.6,4.7,null,5.0,4.4,4.8,null,4.1,null,4.3,4.4,4.7,4.0,3.4,4.6,null,2.8,null,3.1,null,3.9,null,4.2,4.5,null,4.1,null,4.2,null,null,3.3,4.4,null,4.4,4.6,4.4,4.5,4.1,2.2,4.2,4.8,null,null,3.2,4.3,4.0,4.6,4.4,4.5,null,3.4,null,null,3.3,4.2,null,2.4,3.2,3.1,3.8,null,4.8,3.7,4.2,3.7,3.0,3.9,4.0,5.0,null,4.0,2.7,3.1,4.1,4.5,4.0,3.8,3.8,4.3,3.5,4.5,3.9,null,4.5,null,null,3.3,4.1,null,null,5.0,null,3.7,4.8,1.5,5.0,4.6,null,null,5.0,4.7,null,4.7,null,5.0,4.5,null,5.0,null,null,5.0,4.2,1.0,4.5,4.2,5.0,4.2,4.4,3.9,4.6,3.8,null,null,4.0,null,null,null,4.6,null,null,3.4,null,5.0,4.6,null,null,null,null,5.0,null,null,null,null,3.0,null,3.8,4.2,4.3,null,null,null,null,null,null,4.4,3.2,null,null,null,3.5,4.4,4.5,3.7,5.0,4.5,4.5,4.1,null,3.4,4.1,null,null,5.0,4.2,4.1,4.1,null,4.2,4.3,null,5.0,4.4,null,4.3,4.5,null,4.8,4.4,null,null,null,4.4,null,null,null,null,null,4.7,null,null,null,null,null,4.3,4.4,4.6,2.8,5.0,4.4,4.4,2.0,5.0,4.4,5.0,null,3.4,4.4,null,3.4,null,null,3.3,1.5,null,null,null,5.0,null,4.3,4.3,null,null,null,null,2.2,4.6,null,null,5.0,null,null,4.7,null,null,null,null,null,null,4.7,3.5,4.3,3.6,4.3,3.6,2.6,4.7,4.5,4.0,4.6,5.0,4.2,null,null,4.2,null,4.7,4.5,3.6,3.8,4.2,3.8,3.5,4.1,null,null,5.0,null,4.2,4.1,null,null,3.6,4.3,4.1,4.4,null,null,4.0,5.0,5.0,null,3.8,4.3,4.7,4.5,4.4,4.7,4.4,3.7,4.3,null,4.0,3.9,null,4.9,3.5,3.5,null,4.4,4.2,null,null,null,4.3,null,4.7,4.5,4.4,4.2,4.4,3.3,4.4,4.9,4.5,4.7,4.7,3.9,4.7,4.7,null,4.4,4.8,4.8,4.0,3.7,5.0,3.0,3.9,null,null,4.6,4.6,4.3,4.2,null,5.0,null,4.5,null,4.2,null,1.0,null,4.6,null,null,null,null,null,null,4.1,4.7,null,null,null,4.4,4.8,4.2,null,null,5.0,4.6,4.5,5.0,2.9,null,4.4,null,null,3.0,4.5,2.4,4.3,3.9,1.9,4.4,5.0,4.0,4.7,3.9,5.0,4.2,4.2,2.8,4.2,1.0,3.9,4.1,4.1,3.2,null,5.0,null,5.0,4.3,4.1,3.8,4.0,null,4.2,5.0,4.1,5.0,null,3.7,null,null,4.1,3.5,3.9,4.2,3.8,3.7,4.7,2.8,4.7,4.3,4.1,null,4.7,4.2,4.0,3.2,4.6,5.0,4.4,4.5,4.0,4.6,4.7,null,4.1,4.5,4.3,null,5.0,5.0,4.2,4.0,null,5.0,2.7,4.1,null,null,4.4,null,4.3,4.1,4.7,4.4,null,null,3.6,4.0,4.1,4.0,4.1,4.0,4.6,null,null,null,null,5.0,3.6,4.1,4.3,4.1,2.6,2.7,3.8,5.0,4.2,null,5.0,2.6,4.4,4.3,null,null,4.7,2.8,4.1,null,3.6,null,null,4.0,null,null,5.0,5.0,4.7,4.7,4.6,4.7,4.6,4.6,4.6,4.6,4.6,4.4,3.8,4.1,3.4,4.5,4.5,4.5,4.0,4.7,4.4,4.4,4.7,4.7,4.2,4.2,4.0,3.6,4.7,4.4,4.3,4.4,4.4,4.4,4.3,3.3,3.6,4.5,4.5,4.6,4.3,3.6,4.3,4.4,4.1,4.2,4.8,4.2,null,4.0,3.7,4.5,4.1,4.6,4.5,4.7,4.3,4.3,4.6,4.1,4.2,4.3,4.2,4.3,3.6,4.2,4.2,4.0,4.6,4.3,4.4,4.5,4.3,3.7,4.2,4.7,4.6,4.5,4.1,4.5,4.3,3.4,4.2,3.9,4.4,4.1,4.3,3.9,4.0,null,5.0,4.2,4.3,4.5,4.5,3.9,null,4.5,3.5,3.6,1.9,4.3,3.2,1.6,4.2,4.9,4.4,3.6,3.4,null,4.7,2.9,4.3,4.4,4.3,4.6,4.6,4.2,3.5,null,2.9,4.4,4.7,4.5,4.4,2.0,4.7,4.4,4.4,4.4,null,4.5,3.5,4.2,3.7,4.4,3.4,4.3,3.6,4.6,4.6,4.2,4.3,3.8,1.4,4.4,null,4.0,null,4.6,3.9,3.8,4.7,4.2,4.3,4.1,4.3,4.2,null,3.6,4.6,null,4.3,5.0,5.0,5.0,4.5,3.8,3.9,null,null,4.8,4.1,4.0,4.8,4.8,4.4,null,4.1,null,null,null,4.4,4.3,3.7,4.3,null,null,4.3,2.7,4.4,null,4.5,null,4.2,null,3.7,null,5.0,null,4.2,3.9,null,4.5,null,3.5,4.7,4.2,4.4,4.7,4.6,4.0,null,2.5,null,null,3.8,4.7,4.5,4.6,4.6,5.0,3.9,5.0,null,2.3,null,3.6,4.0,3.7,4.2,4.1,4.4,4.6,4.2,4.4,4.3,4.0,4.5,3.9,3.7,4.6,null,3.8,4.7,null,3.4,4.5,4.1,4.3,4.6,4.3,4.3,4.0,null,3.5,2.3,null,3.9,4.1,4.5,4.6,4.4,3.1,4.3,3.3,5.0,null,4.2,3.8,3.3,null,5.0,1.0,4.5,4.6,4.3,4.4,4.1,4.5,4.2,3.7,4.1,3.9,4.5,3.6,3.2,3.5,3.7,4.6,4.8,4.1,4.4,4.3,null,4.0,3.1,4.2,4.1,null,3.5,4.3,3.8,4.3,4.8,2.3,4.3,4.4,3.6,5.0,null,4.3,4.2,4.3,4.7,3.9,4.4,4.4,4.3,2.6,4.3,null,3.8,4.2,4.2,4.1,4.0,4.4,4.7,null,2.6,4.3,5.0,3.7,4.3,4.1,4.3,3.8,4.5,5.0,null,null,3.9,3.8,4.6,null,4.6,4.7,5.0,null,4.5,null,4.3,3.5,3.3,null,4.8,3.9,null,4.5,null,3.4,5.0,5.0,null,null,4.8,3.6,null,4.3,4.0,4.5,4.6,4.7,3.8,3.4,4.7,4.0,4.6,2.0,4.3,2.0,3.6,4.7,3.5,4.0,3.5,4.3,4.1,4.6,3.8,4.3,3.8,1.0,3.8,3.3,4.8,3.0,4.0,3.6,3.8,4.3,3.9,4.2,4.6,4.0,4.5,4.6,4.6,4.5,3.7,4.4,4.6,3.9,4.4,4.5,4.5,4.3,3.7,3.9,3.9,4.3,4.1,4.1,4.4,4.4,4.2,4.5,4.6,4.4,4.4,4.4,3.8,2.6,4.2,4.4,4.2,4.0,4.2,4.0,4.4,4.5,3.2,4.3,3.4,2.3,4.4,4.3,null,4.3,3.6,4.6,4.2,4.0,4.4,4.5,3.2,1.7,2.2,3.8,4.8,null,4.4,4.5,4.8,4.6,3.7,4.4,3.5,3.8,3.8,4.3,null,4.6,null,4.5,null,3.7,null,4.8,4.3,5.0,3.9,3.0,null,5.0,null,4.4,4.6,3.9,3.3,4.1,3.0,4.2,4.2,4.2,4.0,4.0,3.2,4.6,3.2,4.1,3.3,4.4,4.0,4.2,4.1,4.3,3.3,4.7,4.4,3.1,3.1,3.3,3.9,3.4,3.9,4.4,3.9,3.7,4.5,4.7,null,4.6,null,5.0,3.0,null,3.9,null,5.0,3.9,null,null,null,null,null,null,3.8,null,3.6,3.9,3.8,null,4.8,null,null,null,null,4.4,4.5,4.0,4.7,4.8,4.7,4.7,4.5,4.0,null,3.2,null,null,4.7,4.5,null,4.5,4.9,4.2,5.0,5.0,null,5.0,null,null,4.2,4.7,null,null,4.5,null,null,null,4.5,4.5,3.8,4.5,null,4.3,3.9,3.9,4.2,4.5,4.1,4.4,4.1,4.6,3.3,4.5,2.2,4.4,3.9,4.5,2.8,3.3,null,4.5,null,null,3.1,3.2,4.4,4.1,null,5.0,null,null,3.8,null,null,4.3,4.6,null,null,3.7,4.9,4.3,5.0,null,null,2.9,4.4,4.4,null,4.6,4.5,4.0,null,3.5,4.8,4.8,3.5,4.7,4.6,4.4,4.3,4.7,4.4,4.0,3.5,4.6,3.9,3.5,4.6,4.2,4.4,4.6,4.0,4.2,3.8,4.1,4.3,4.4,4.5,4.1,4.2,4.0,3.6,3.3,4.7,4.6,4.5,3.9,4.3,null,3.9,4.3,null,null,3.1,4.4,3.7,4.6,4.6,2.7,null,null,4.1,4.2,1.9,4.6,null,4.2,null,4.4,4.2,3.9,2.4,5.0,3.9,null,3.7,5.0,4.0,3.0,4.1,4.8,4.5,3.5,null,null,null,4.5,4.5,4.2,4.3,4.4,4.4,4.3,4.2,4.5,4.3,4.3,4.2,4.9,4.1,1.4,4.0,5.0,4.3,null,4.2,4.3,3.8,4.1,4.2,4.3,4.1,4.3,3.6,4.3,4.6,4.4,5.0,4.4,4.5,null,4.7,null,5.0,null,null,3.4,3.1,4.5,5.0,4.3,4.4,4.3,4.2,4.0,4.5,4.0,4.1,3.8,4.3,4.6,4.1,4.3,4.3,4.2,4.3,4.4,4.4,3.9,4.3,4.5,4.3,3.5,4.2,4.1,4.1,4.7,4.5,3.3,4.2,null,null,4.2,4.6,null,4.3,4.3,4.0,4.7,5.0,null,null,null,null,null,null,null,5.0,4.9,null,null,null,null,null,null,4.3,null,null,null,4.0,null,null,4.5,null,4.1,4.3,null,null,null,4.5,null,null,3.9,3.7,4.2,3.6,3.6,2.1,4.7,3.2,3.0,4.3,3.0,4.3,3.9,3.3,4.3,4.0,3.7,2.8,4.4,5.0,3.9,4.2,4.8,4.0,null,3.0,4.5,2.6,5.0,null,null,5.0,4.1,null,4.5,5.0,4.7,4.5,4.4,4.4,4.3,4.2,3.0,4.1,4.2,4.2,4.0,4.3,4.1,3.6,4.3,5.0,4.2,3.9,null,4.1,3.8,5.0,3.7,4.3,4.2,4.3,2.5,4.3,4.4,null,4.3,4.2,4.6,4.0,2.9,null,4.5,4.7,3.8,null,4.7,3.9,4.5,4.7,4.5,4.2,4.3,4.4,4.8,4.2,4.1,4.5,4.5,4.6,4.4,4.1,4.3,4.7,4.4,4.2,4.3,4.5,4.3,4.8,4.5,4.6,4.7,4.4,4.1,4.3,4.2,4.2,3.6,2.8,3.9,3.8,4.4,3.7,2.7,3.8,3.2,3.9,2.3,4.1,4.3,3.1,4.6,4.1,4.4,3.2,4.5,3.7,null,null,null,4.4,4.5,5.0,4.8,null,4.6,4.0,4.1,null,4.1,null,null,4.8,null,null,null,4.3,2.8,null,null,4.7,4.5,4.2,4.3,3.8,3.8,4.2,3.8,4.0,4.0,4.6,4.0,4.3,4.3,3.9,5.0,4.0,4.1,3.9,4.2,4.3,4.5,4.4,4.1,4.2,4.5,4.6,4.1,3.9,4.7,3.9,4.3,2.9,4.4,3.7,4.4,4.1,null,2.8,4.9,3.4,2.8,2.5,4.7,3.1,null,3.2,4.3,3.9,3.6,3.2,null,3.5,3.3,null,null,null,null,2.4,4.4,2.8,5.0,null,4.4,null,null,null,null,null,null,null,5.0,null,3.3,2.9,4.1,4.6,null,2.2,4.3,5.0,2.5,null,3.0,3.7,5.0,null,null,null,null,5.0,null,null,4.1,null,null,null,4.1,2.6,4.6,4.5,null,4.5,null,3.3,null,4.4,4.7,4.7,4.0,4.5,4.3,4.6,4.7,4.4,4.0,4.2,4.3,4.1,4.5,4.3,4.3,4.7,4.1,4.3,4.4,3.1,4.0,4.5,4.5,4.4,4.2,4.6,4.4,4.6,4.0,4.6,4.3,4.3,3.9,4.5,4.7,4.3,4.6,4.6,4.2,4.3,4.6,4.2,4.1,4.6,4.4,3.7,4.4,3.9,4.3,4.3,4.3,4.5,4.5,4.5,4.5,4.7,4.3,4.4,4.5,4.3,4.3,4.2,4.2,4.3,4.2,4.7,4.1,4.3,4.1,3.8,4.5,4.1,null,4.3,4.5,4.1,4.4,4.3,4.4,4.3,null,4.1,4.6,4.7,4.2,3.7,4.7,4.4,4.7,4.2,4.6,4.5,4.8,3.7,4.3,4.2,3.6,4.1,2.3,4.3,4.6,4.5,4.0,4.2,4.6,4.2,4.5,4.3,4.4,3.6,4.0,null,2.8,3.8,4.1,3.8,3.4,4.5,4.3,3.1,4.6,3.3,3.9,4.2,4.9,3.9,3.4,3.7,4.2,3.8,4.6,4.4,4.0,4.2,null,4.2,4.5,4.6,4.4,4.6,4.5,3.7,4.1,4.2,4.0,4.5,4.6,4.5,4.4,3.3,4.2,4.2,4.0,4.0,4.0,3.5,4.5,3.9,3.9,4.1,4.4,4.2,4.4,4.3,4.1,4.0,4.3,4.4,4.5,4.6,3.7,3.8,3.4,4.3,3.8,4.7,4.4,4.4,4.1,4.4,4.0,3.9,4.3,4.2,3.3,4.0,4.6,4.1,4.1,3.4,3.4,4.1,4.0,3.4,3.2,3.8,3.8,3.9,3.6,3.8,3.9,3.2,1.0,4.6,null,3.6,4.9,null,2.6,3.9,null,3.5,3.2,null,3.3,null,null,3.8,3.9,4.6,1.8,null,4.3,3.9,null,4.8,3.7,4.0,4.1,4.6,4.0,null,4.8,null,4.0,3.5,null,3.0,4.6,1.6,3.8,1.7,4.6,5.0,4.6,4.4,4.5,3.8,4.0,4.1,null,5.0,null,null,null,null,5.0,1.0,null,null,4.4,4.7,4.6,2.4,null,4.5,null,null,4.4,4.3,5.0,4.1,3.8,3.9,3.1,4.7,4.5,3.5,4.5,4.6,4.5,4.5,4.4,4.3,4.4,4.2,4.6,4.5,3.8,4.3,4.6,4.3,3.6,4.2,4.7,4.3,4.7,4.8,3.1,4.5,4.4,4.5,4.5,null,4.7,4.1,4.4,4.3,4.6,3.4,null,4.7,3.6,3.7,2.1,2.0,3.5,4.3,2.4,4.5,2.8,null,4.5,null,2.8,3.9,3.2,3.1,2.4,4.6,2.9,4.0,3.7,2.3,2.9,4.6,4.3,5.0,4.2,4.6,4.5,4.2,4.8,3.5,4.6,3.5,3.6,null,5.0,3.0,null,null,2.9,3.7,4.6,null,4.2,3.2,2.5,4.4,4.3,2.7,4.0,4.5,3.4,4.3,4.3,null,4.3,null,null,4.0,4.9,3.4,4.9,4.3,4.7,4.8,4.3,4.3,4.0,null,3.5,null,5.0,4.7,null,4.2,4.4,4.2,5.0,null,5.0,2.0,null,3.7,null,null,null,3.9,4.5,null,null,null,3.1,4.5,4.7,null,4.4,3.8,4.2,4.5,null,4.5,4.6,4.2,4.5,4.2,4.2,4.1,4.3,5.0,4.6,4.0,4.4,null,4.5,3.6,4.6,null,4.0,4.6,4.5,4.5,null,null,null,4.8,5.0,4.4,null,4.0,3.5,5.0,4.0,4.2,4.0,3.9,4.5,3.6,4.2,3.0,3.0,4.0,3.4,4.9,null,null,null,null,4.0,4.4,4.1,4.4,4.0,null,4.5,4.2,3.9,null,3.6,5.0,4.4,3.6,4.7,4.2,4.5,4.7,null,null,4.3,4.2,4.4,null,4.7,4.4,null,4.1,4.5,4.1,4.0,null,null,4.3,4.2,null,4.2,null,4.1,4.2,null,5.0,4.0,4.0,4.5,null,4.1,null,4.7,4.4,4.9,3.6,4.2,null,4.4,null,4.5,4.2,null,null,4.2,null,4.5,4.4,4.4,4.5,4.5,3.9,4.3,4.4,null,4.5,4.0,4.5,4.0,4.4,4.3,2.5,4.4,3.8,4.4,4.2,4.1,4.2,3.9,4.5,4.1,4.4,4.3,4.5,3.4,3.4,4.4,4.2,4.4,3.5,4.1,4.6,1.7,3.3,5.0,4.8,null,4.6,3.3,null,4.2,null,3.5,3.7,5.0,null,null,4.6,4.1,3.5,5.0,null,3.7,4.0,null,null,4.2,null,4.5,3.8,2.5,4.0,null,4.0,4.1,null,null,3.4,3.6,3.4,3.9,4.6,4.3,4.7,5.0,3.9,3.9,4.2,4.3,3.5,null,4.1,4.2,4.4,4.5,3.8,3.4,null,3.9,4.5,null,null,3.0,null,4.1,4.6,null,3.9,4.7,4.5,3.4,5.0,5.0,5.0,4.0,null,null,4.0,null,4.9,5.0,null,4.6,null,4.8,4.1,4.1,null,null,4.7,null,5.0,4.4,3.3,4.0,3.5,2.8,null,3.6,3.2,3.6,3.7,3.3,3.1,4.1,3.1,3.5,3.6,5.0,2.3,null,3.1,2.9,3.0,2.9,3.9,5.0,null,3.4,5.0,null,4.8,null,4.2,null,null,null,5.0,null,4.3,4.6,4.7,null,4.4,4.8,null,null,4.1,null,4.6,4.3,4.6,4.0,2.9,4.1,null,null,null,null,4.2,null,4.3,4.4,2.4,4.2,null,null,null,3.1,null,3.0,4.7,3.4,null,4.7,4.7,4.2,5.0,4.5,4.3,3.3,4.4,null,4.2,4.2,4.7,4.3,4.8,4.2,4.0,4.2,4.1,4.6,4.6,3.8,4.5,4.4,4.1,4.0,3.9,3.5,5.0,4.6,null,3.6,4.2,null,null,3.8,null,3.4,3.8,4.2,4.2,3.7,4.0,4.4,4.5,3.7,4.2,3.9,4.0,3.7,4.2,4.0,3.9,4.1,4.3,4.5,4.5,3.3,4.4,4.2,4.2,4.1,4.1,4.4,4.1,3.9,3.9,4.4,3.8,3.0,3.4,4.3,null,null,5.0,null,4.1,null,2.4,3.9,null,null,null,4.0,null,3.0,null,4.4,3.4,2.9,5.0,4.5,3.7,3.0,null,4.0,3.2,3.6,3.2,3.7,4.7,4.4,3.9,4.4,4.3,4.9,2.6,5.0,4.1,4.0,4.1,null,3.3,4.2,4.0,4.3,null,4.4,5.0,4.3,4.4,null,null,null,3.9,4.3,4.0,3.8,4.5,null,3.8,4.4,4.3,4.7,3.9,4.2,3.8,4.3,3.8,4.2,4.5,4.2,3.6,4.0,null,3.5,4.4,3.5,4.1,4.8,4.4,4.3,4.0,4.2,4.4,3.5,4.3,4.4,4.7,5.0,3.8,5.0,4.8,4.9,4.3,null,5.0,null,4.9,4.9,4.9,4.5,null,4.5,5.0,5.0,3.0,null,null,4.9,5.0,5.0,null,4.1,null,4.1,4.3,4.3,4.1,4.7,null,4.9,4.0,5.0,5.0,null,4.6,4.2,3.7,5.0,4.3,4.0,4.3,4.0,4.0,3.1,3.4,4.2,4.2,4.1,3.4,null,4.0,null,3.9,4.8,4.1,4.3,4.3,4.4,null,4.4,4.5,4.5,4.8,4.4,4.5,4.6,4.6,4.5,null,4.2,4.4,4.2,4.7,4.5,4.2,4.5,4.2,4.7,4.1,4.1,4.6,4.4,4.5,3.8,3.9,3.5,3.8,4.2,4.6,3.7,4.4,3.6,3.4,4.0,4.3,4.3,4.5,4.4,4.5,4.1,4.4,4.3,4.5,4.5,4.2,4.5,4.3,4.1,4.6,4.3,4.0,4.4,4.4,null,4.6,4.6,4.3,4.3,4.2,4.5,4.0,4.6,4.5,3.8,4.3,4.3,4.9,4.0,4.5,4.1,4.5,4.2,4.4,4.4,4.0,4.3,4.3,4.4,4.4,4.0,4.7,4.2,4.5,4.1,4.4,4.1,4.3,3.5,4.7,null,2.6,4.2,null,null,null,null,null,null,null,null,5.0,null,4.3,null,null,null,null,null,4.4,4.3,null,null,4.1,null,4.3,4.5,null,4.6,4.6,4.7,null,4.3,4.2,4.5,4.3,4.5,3.5,4.3,4.6,4.5,4.3,4.4,null,null,null,3.4,4.3,3.8,4.5,null,null,null,5.0,4.9,null,null,5.0,null,null,4.2,4.3,4.4,2.3,4.7,null,null,null,4.4,4.3,4.4,null,4.0,3.6,null,4.1,4.6,3.9,4.4,null,3.7,3.9,null,4.3,4.1,3.6,3.5,3.9,3.9,3.8,4.0,null,4.5,3.6,3.9,4.3,4.0,4.2,3.7,3.9,4.2,3.5,4.0,3.8,4.1,4.2,4.1,4.4,3.7,null,4.7,3.8,4.0,4.2,3.8,3.9,4.0,3.1,5.0,3.5,4.1,4.5,4.7,4.1,null,3.9,4.0,4.3,3.1,null,4.2,4.1,4.4,3.2,null,3.3,4.3,4.7,4.3,4.2,4.7,4.3,4.2,4.2,4.2,4.1,4.2,4.3,4.4,4.3,3.5,4.3,1.8,4.2,4.2,4.6,4.0,4.3,5.0,3.8,4.3,3.0,5.0,4.7,4.6,4.4,4.7,5.0,4.8,3.0,4.6,4.6,null,4.1,4.6,4.5,4.3,4.2,3.9,4.7,4.9,4.3,4.4,3.6,4.6,4.5,null,3.9,4.3,4.8,3.7,4.4,4.2,4.3,4.6,4.5,3.9,4.3,4.4,4.0,4.7,4.3,4.5,4.2,4.2,4.8,4.6,4.5,4.0,4.2,4.1,4.7,4.2,4.6,4.5,3.9,3.6,4.6,null,3.4,4.2,3.4,3.6,4.2,3.5,4.3,null,3.9,4.3,3.6,null,3.9,4.3,3.7,null,3.8,null,4.1,4.1,4.7,4.1,null,1.9,3.6,3.8,null,4.5,2.7,null,4.5,null,5.0,4.0,4.2,null,null,4.4,null,4.0,null,3.1,null,null,5.0,null,null,null,null,null,null,null,null,null,4.7,3.7,3.9,null,null,3.0,null,null,null,null,null,4.2,3.0,null,null,4.2,null,null,4.2,3.7,4.6,4.5,4.6,4.7,4.3,2.3,2.8,2.8,3.6,3.0,3.2,3.5,3.8,3.5,4.2,null,4.5,3.4,3.0,4.4,4.0,null,4.3,null,4.1,3.6,3.7,4.2,3.7,4.3,null,null,3.3,4.4,4.8,3.5,4.0,4.9,4.0,null,4.6,4.3,3.6,3.9,3.9,4.0,4.2,4.4,null,null,4.3,null,null,null,null,3.7,null,4.3,null,null,3.4,null,3.5,null,4.2,4.2,null,3.6,null,3.9,3.8,3.8,4.0,4.5,3.8,4.9,3.8,4.1,3.5,3.0,4.5,4.7,3.8,3.3,4.0,4.1,3.7,3.9,3.5,4.4,4.0,4.0,4.6,4.4,4.5,4.3,4.4,4.3,4.1,4.2,2.7,4.2,2.3,3.9,4.1,2.9,3.3,4.2,4.3,2.9,3.5,2.8,null,4.3,3.5,4.6,4.2,4.2,3.7,4.7,3.9,4.3,4.4,4.0,4.4,3.7,4.3,3.5,null,4.3,4.0,4.5,4.2,4.3,4.1,2.5,2.7,null,null,null,null,1.2,null,null,null,4.7,4.9,4.7,null,null,4.4,4.7,4.0,null,4.7,4.3,null,4.7,null,4.4,null,null,null,null,null,null,4.6,null,null,null,4.4,4.4,4.4,4.6,3.1,4.3,3.7,4.6,null,4.1,4.2,4.4,4.1,3.6,4.4,3.8,4.0,3.2,2.8,3.1,2.9,4.1,3.3,3.5,4.2,2.8,2.1,4.4,4.4,4.2,4.1,3.3,3.5,4.7,3.1,4.3,4.1,4.2,2.5,3.9,3.0,3.2,4.3,4.3,4.2,4.3,2.2,3.9,2.8,4.4,4.6,4.4,3.9,2.9,4.1,5.0,4.6,3.7,null,4.4,4.2,4.4,3.9,3.6,3.4,null,4.3,4.3,4.4,null,4.3,4.3,null,null,null,4.4,null,4.0,4.5,4.6,4.3,4.1,4.4,3.5,4.1,3.8,4.2,4.3,4.5,4.0,4.0,4.3,4.1,3.4,4.0,4.3,4.7,4.5,4.3,4.1,4.1,4.4,4.6,null,3.8,3.9,4.2,4.2,3.7,4.3,4.2,3.6,4.3,4.3,4.3,4.5,4.3,4.7,3.8,4.0,4.1,null,3.9,4.3,3.4,null,4.2,4.5,4.4,4.2,4.7,4.6,4.4,4.4,4.8,4.6,4.3,4.4,4.4,3.3,4.5,4.6,4.3,4.9,4.3,null,4.5,4.9,3.7,4.5,4.6,4.5,4.1,4.8,null,5.0,3.4,4.5,4.8,4.5,4.5,4.5,4.5,4.5,4.1,4.1,3.6,4.7,4.6,4.9,4.6,4.1,4.5,3.9,3.9,4.6,3.8,4.7,3.9,4.1,3.9,4.0,4.3,4.0,4.4,4.1,5.0,4.8,null,4.6,5.0,4.2,4.7,4.0,4.4,4.9,3.5,4.1,4.2,4.4,null,4.5,3.1,null,4.5,4.6,4.3,4.4,4.6,4.3,4.8,2.8,4.1,1.0,3.0,5.0,4.5,null,null,null,null,null,null,null,5.0,4.1,null,null,null,4.4,3.0,null,3.8,null,3.9,null,null,null,5.0,null,null,null,4.5,null,null,null,5.0,null,null,3.3,null,4.5,4.9,null,null,null,null,null,null,4.3,4.5,4.1,4.8,3.8,4.1,3.9,null,4.2,4.2,4.8,4.1,4.1,4.0,3.9,4.1,4.1,4.2,3.7,3.9,3.9,3.6,3.7,3.6,4.3,3.9,4.5,2.6,4.4,null,1.0,null,null,null,null,4.2,4.8,5.0,4.3,4.4,4.5,null,4.9,null,null,null,5.0,null,null,4.2,4.2,null,null,4.0,2.1,null,4.2,null,2.5,4.4,4.4,4.6,null,null,4.4,4.2,4.5,3.3,3.9,null,4.5,4.1,4.8,4.6,4.4,3.8,3.7,4.2,3.7,4.3,4.5,3.5,4.0,4.5,2.9,3.9,3.6,4.6,2.1,4.7,4.5,4.1,4.5,3.7,2.9,4.0,4.2,3.7,3.6,3.9,3.4,3.5,4.2,3.4,3.9,3.0,3.6,3.2,4.1,4.1,4.2,4.2,null,4.7,null,4.6,4.5,null,4.3,4.5,4.5,4.4,4.3,null,null,null,null,4.2,null,3.7,null,4.1,4.3,4.0,3.5,4.2,4.4,4.2,4.4,null,3.8,3.9,4.0,3.8,3.6,4.2,null,3.8,null,3.7,4.0,4.2,4.4,null,null,4.4,4.9,null,5.0,null,4.8,null,null,null,null,null,null,null,null,4.0,null,null,null,null,null,null,null,null,4.0,null,null,4.9,null,3.8,null,4.9,null,null,null,null,null,1.5,null,5.0,null,4.8,null,3.9,3.7,4.6,4.7,4.6,4.3,4.2,4.6,4.7,4.6,2.0,3.6,3.2,3.8,4.0,3.8,3.8,4.4,4.4,4.4,3.8,4.3,4.6,1.0,3.2,4.7,4.3,4.5,4.1,4.9,4.1,4.2,3.5,4.2,5.0,3.8,4.7,null,null,4.5,null,5.0,3.3,5.0,null,4.0,4.5,3.2,4.5,4.2,null,3.7,3.8,5.0,null,4.1,2.9,null,null,null,4.7,5.0,3.2,null,3.8,3.8,4.6,4.6,4.4,4.8,4.2,3.3,3.9,4.5,3.9,4.3,4.4,3.9,4.6,3.9,3.4,4.6,null,null,4.2,null,null,4.8,5.0,null,null,5.0,null,null,null,3.8,null,2.9,4.6,3.8,null,null,null,4.1,null,4.5,null,4.2,null,2.5,3.5,4.6,4.4,4.6,4.3,4.2,4.2,4.1,4.2,4.3,4.5,4.4,5.0,4.6,null,null,null,null,null,5.0,null,null,null,null,null,3.4,null,null,4.6,4.5,null,null,3.8,4.1,4.4,4.4,4.4,3.0,4.2,4.2,3.9,4.2,4.4,5.0,4.0,4.3,4.6,3.6,4.4,4.1,4.2,4.3,4.5,3.9,4.3,3.5,null,null,null,4.0,3.8,3.6,4.3,4.2,5.0,3.4,null,null,null,3.5,null,3.7,4.2,null,3.6,4.5,4.2,4.3,4.4,2.7,4.1,null,4.4,null,null,4.5,null,3.4,2.9,4.8,3.8,null,4.0,3.9,null,null,null,null,5.0,3.9,4.0,3.6,4.1,4.3,3.8,4.2,4.3,4.2,4.2,4.1,null,4.0,4.1,4.0,4.2,4.4,null,4.2,4.7,4.6,null,4.7,4.1,4.9,4.0,4.3,4.2,4.3,null,null,null,4.7,4.8,null,4.1,null,4.0,4.2,null,4.0,null,3.3,5.0,null,null,null,null,null,4.0,4.2,3.4,4.6,3.8,null,3.8,4.8,4.0,null,4.5,5.0,null,4.5,4.5],\"xaxis\":\"x\",\"y\":[4.1,3.9,4.7,4.5,4.3,4.4,3.8,4.1,4.4,4.7,4.4,4.4,4.2,4.6,4.4,3.2,4.7,4.5,4.3,4.6,4.0,4.1,4.7,null,4.7,4.8,4.7,4.1,3.9,4.1,4.2,4.1,4.5,4.2,4.7,3.8,4.7,4.1,4.7,4.0,4.2,4.5,4.4,3.8,4.2,4.7,4.6,4.2,4.3,4.2,4.0,3.8,4.6,3.9,4.3,4.9,4.4,4.2,4.0,3.9,4.6,4.9,4.3,4.6,4.9,3.9,4.0,4.3,3.9,4.2,4.8,3.6,4.2,4.8,4.8,4.6,4.5,4.3,4.5,4.9,3.9,4.4,4.0,4.3,3.7,4.4,4.3,3.2,4.6,4.6,4.5,3.7,4.6,4.6,4.6,4.0,4.4,4.0,4.7,4.9,4.7,3.9,3.9,4.2,4.6,4.3,4.7,4.7,4.8,4.2,4.3,4.5,4.1,null,4.2,4.5,4.4,4.0,4.1,4.1,4.4,4.6,4.5,null,3.9,4.4,null,4.6,3.8,null,null,4.0,4.3,4.5,null,4.1,3.7,4.7,4.2,4.6,4.5,4.6,4.4,4.2,4.5,4.5,4.5,4.5,4.4,4.5,4.6,4.8,3.9,4.6,4.2,4.1,4.7,4.2,4.3,3.3,4.6,4.8,4.7,null,4.1,4.6,4.1,4.6,4.7,4.5,3.9,4.4,4.3,4.2,4.5,4.4,3.4,4.9,4.6,4.4,null,4.4,4.4,4.4,3.5,null,4.4,4.1,4.3,4.4,4.3,4.3,4.1,4.4,4.3,3.9,4.8,4.5,4.4,4.0,4.3,4.0,4.2,4.5,4.2,4.2,4.6,4.1,4.6,3.1,3.9,4.3,4.1,4.4,4.1,4.1,4.5,4.4,4.4,4.3,4.4,4.6,4.2,4.4,4.7,3.8,3.9,null,4.3,4.2,4.4,4.7,4.5,4.2,4.7,4.8,4.2,4.2,4.3,4.4,4.4,4.1,3.8,4.3,3.8,3.5,4.1,4.6,4.3,4.5,4.1,4.5,4.6,4.0,4.2,4.4,4.4,4.0,4.2,4.2,4.1,4.0,3.8,3.9,3.9,4.2,4.2,4.3,4.4,4.4,4.1,3.8,4.3,3.8,3.5,4.1,4.6,4.3,4.5,4.1,4.5,4.6,4.0,4.2,4.3,4.2,4.4,4.7,4.5,4.2,4.7,4.8,4.1,4.3,4.4,4.5,4.3,4.5,4.6,4.7,4.7,4.8,3.9,4.1,4.4,4.6,4.5,4.7,4.4,4.5,3.9,3.2,3.2,4.1,4.5,4.2,4.2,3.7,4.5,4.6,4.5,null,4.7,4.4,3.5,3.3,4.5,4.4,4.2,5.0,4.4,4.7,4.4,4.4,4.6,4.0,4.4,4.3,4.3,4.4,4.3,4.0,4.3,4.3,4.4,4.3,4.3,4.3,4.3,4.3,4.0,4.5,4.3,3.7,4.5,3.9,4.4,3.6,4.4,4.2,4.4,4.1,4.4,4.3,4.2,4.2,4.4,4.4,3.9,4.2,4.4,4.6,4.3,4.3,4.4,3.7,4.3,3.9,4.5,3.7,4.3,4.4,4.0,4.3,4.0,4.3,4.0,4.1,4.2,4.2,4.2,4.1,4.4,4.3,4.2,4.4,4.2,4.1,4.3,4.3,4.5,4.3,4.2,4.2,4.5,4.3,4.3,4.3,4.4,4.2,4.3,4.3,4.4,4.6,4.3,4.4,4.2,4.5,4.5,4.4,4.5,4.1,4.2,4.1,4.3,4.1,4.2,4.0,4.2,4.2,4.2,4.3,4.3,4.4,4.2,4.4,4.1,4.2,4.8,4.4,4.4,4.4,4.0,4.5,4.4,4.1,4.2,4.5,4.3,4.5,4.0,4.3,4.3,4.2,4.5,4.6,4.1,4.0,4.2,4.6,4.1,4.3,4.2,4.3,4.0,4.3,4.2,4.3,4.1,4.2,4.1,4.6,4.3,4.2,4.2,4.3,4.2,2.6,null,null,null,3.5,4.0,4.1,3.7,4.1,4.2,4.5,4.4,4.2,4.0,4.1,3.1,4.4,4.2,4.1,3.9,4.3,4.4,3.5,4.0,3.3,4.5,4.4,4.1,3.9,3.9,3.6,4.0,3.6,3.4,4.2,4.1,3.4,3.0,4.6,4.1,3.9,1.9,3.5,2.5,3.9,3.4,3.5,4.4,3.8,4.2,2.5,2.8,4.1,4.2,3.5,4.3,3.3,4.1,4.2,3.5,4.2,4.4,4.1,4.2,4.3,4.1,4.0,4.1,4.2,3.0,4.4,4.5,2.5,4.1,4.2,4.0,4.1,1.9,3.3,4.4,4.1,3.8,4.1,4.2,4.0,4.5,3.7,3.9,3.5,3.9,4.0,4.6,4.0,4.1,4.2,3.3,4.4,4.3,4.2,3.9,4.3,3.4,4.2,4.1,4.0,3.6,4.2,3.5,4.0,4.1,4.1,2.8,4.4,4.4,4.2,4.1,4.2,3.9,4.1,4.2,3.9,4.0,4.2,4.5,3.9,3.6,4.4,3.5,4.4,4.8,4.6,4.7,4.8,null,2.7,5.0,null,4.8,5.0,4.8,null,4.9,3.0,null,null,4.7,null,null,1.0,null,null,null,null,null,null,null,5.0,4.7,null,5.0,null,null,null,5.0,null,null,null,null,3.0,4.1,null,null,null,null,null,null,null,5.0,3.7,4.5,4.2,null,null,null,4.3,4.1,1.9,4.1,4.4,null,3.9,3.9,null,4.0,4.4,4.7,3.8,4.4,4.4,3.6,4.4,2.7,4.3,4.6,2.8,3.5,null,3.4,4.8,4.7,4.8,4.8,4.7,4.1,3.5,4.7,3.8,2.9,4.5,3.3,4.1,null,4.7,4.6,4.7,4.6,4.7,null,4.5,4.7,4.8,4.6,4.6,4.6,4.2,4.9,3.8,4.2,4.4,4.4,4.3,4.5,4.4,4.6,3.9,4.4,4.3,4.4,4.2,4.4,4.0,4.2,3.8,4.5,4.7,4.5,4.3,4.2,4.3,4.7,4.7,4.6,4.6,4.6,4.5,4.4,4.6,4.5,4.5,4.2,4.4,4.4,4.2,4.5,4.1,4.0,4.1,4.3,4.3,4.3,4.5,4.6,4.1,4.6,4.7,4.7,4.3,4.7,4.6,4.6,4.6,4.3,4.2,4.0,4.5,4.2,4.1,4.4,4.0,4.5,4.4,4.0,4.2,4.3,4.2,4.6,4.6,4.7,4.6,4.4,4.5,4.3,4.6,4.5,4.2,4.2,4.7,4.5,4.6,4.3,4.2,4.7,4.7,4.4,4.5,4.4,4.0,4.6,4.4,4.7,4.7,4.3,4.1,4.2,4.3,4.3,4.3,4.0,4.2,4.0,4.0,3.8,4.6,4.1,3.9,4.1,4.5,4.2,4.4,4.7,4.0,4.4,4.4,4.0,4.5,4.7,4.3,4.5,4.3,4.1,4.3,4.5,4.2,4.6,3.5,4.2,4.4,4.4,4.6,4.3,4.5,4.8,4.4,4.1,4.9,4.7,4.7,4.7,4.4,4.0,4.2,4.3,4.5,3.5,4.2,3.1,4.6,4.2,4.3,4.3,4.1,3.8,3.4,4.3,4.4,4.4,4.0,3.7,3.9,4.5,4.4,4.3,4.2,4.2,4.5,4.7,4.5,4.5,3.4,4.2,4.3,4.2,4.6,4.1,4.2,4.2,4.3,4.4,3.9,4.1,4.3,4.5,4.6,3.6,4.3,4.3,4.2,4.4,4.1,4.1,4.2,3.9,4.2,3.7,4.5,3.7,3.8,4.3,3.0,4.1,4.2,4.1,3.9,4.0,4.4,4.2,4.0,3.9,4.0,4.2,4.0,4.3,3.9,4.2,4.4,4.3,3.7,4.3,3.7,3.8,4.2,4.0,3.9,4.4,4.5,4.1,4.1,3.9,4.5,4.0,4.1,3.6,3.8,4.0,4.2,3.7,3.8,3.7,4.1,3.7,3.9,4.4,4.3,3.9,3.7,3.7,4.2,4.3,4.0,4.1,3.9,4.5,3.9,4.1,4.3,4.4,4.1,4.0,3.9,3.9,4.0,4.1,4.2,3.8,4.0,3.9,4.2,3.7,3.9,4.2,4.3,4.3,4.6,4.3,4.6,4.2,4.6,4.5,4.6,3.9,4.2,4.4,4.2,4.3,4.6,4.3,4.5,4.0,4.0,4.5,4.5,4.0,4.0,4.2,4.4,4.6,null,4.6,4.1,4.6,4.4,4.6,4.9,4.5,4.6,4.7,4.3,null,null,4.2,4.3,5.0,4.4,5.0,4.5,null,null,null,4.5,4.8,4.4,5.0,null,3.7,null,4.1,null,4.8,null,null,4.6,4.4,4.4,3.6,3.7,3.8,4.2,4.2,4.2,3.3,3.4,4.3,4.2,4.7,4.1,4.7,4.0,3.6,4.0,3.6,4.3,4.2,4.2,4.1,4.0,4.1,4.4,4.7,4.5,4.3,4.6,4.3,4.0,4.5,4.5,3.6,4.2,4.1,3.5,4.4,4.0,4.5,4.2,4.6,4.2,4.8,4.5,4.2,4.3,4.2,4.4,4.4,4.6,4.2,4.6,4.6,4.4,4.3,4.2,4.2,3.8,4.5,4.6,4.6,4.7,4.6,4.6,4.7,3.8,4.3,4.3,4.5,4.6,4.6,4.7,4.5,4.4,3.9,4.5,4.6,4.1,4.5,4.4,4.5,4.6,4.2,4.4,4.1,3.9,4.6,4.5,3.7,4.1,4.4,4.6,4.5,4.3,4.3,4.3,4.4,4.3,4.4,4.3,4.4,4.1,4.4,4.2,4.3,4.4,4.3,4.3,3.9,4.1,4.1,4.2,4.5,4.2,4.7,4.4,4.6,4.6,4.4,4.6,4.3,4.0,4.4,4.6,4.2,4.1,3.6,null,4.1,4.6,null,4.7,4.7,4.7,4.7,4.1,3.4,3.8,3.7,4.2,3.1,3.5,4.7,4.5,4.2,4.3,4.0,4.5,4.6,4.7,4.1,4.3,3.8,4.4,4.3,4.2,4.3,3.8,4.3,3.7,4.5,3.6,4.8,3.3,4.7,4.6,4.6,3.4,4.6,4.0,4.1,4.5,4.4,4.5,4.0,4.1,4.5,4.6,4.1,4.5,4.6,4.5,4.3,3.6,4.4,4.6,4.1,4.3,3.9,4.5,4.1,3.6,4.7,4.3,4.7,4.6,4.4,4.2,4.5,4.3,4.2,4.5,4.5,4.3,4.0,4.3,4.8,4.0,4.9,4.8,4.9,4.8,4.4,3.3,4.7,4.6,4.8,4.8,4.8,4.5,4.4,4.5,4.5,4.5,4.8,3.9,4.6,4.5,4.5,4.7,4.7,4.4,4.2,3.9,4.2,4.4,4.6,4.6,4.2,4.5,4.7,4.5,4.5,3.7,4.5,4.6,4.6,4.7,4.5,4.5,4.6,4.0,4.3,4.4,4.5,4.2,4.6,4.9,4.5,4.5,4.6,4.5,4.6,4.6,4.5,4.5,4.4,3.9,4.5,4.4,4.6,4.4,4.5,4.5,4.6,4.5,4.4,4.4,4.4,4.2,4.5,4.5,4.4,4.3,4.6,4.6,4.9,4.4,4.3,4.1,4.6,4.8,4.5,4.7,4.6,4.3,4.4,4.4,4.6,4.3,4.6,4.6,4.5,4.6,4.6,4.5,4.1,4.5,4.6,4.5,4.8,4.8,4.6,4.5,4.1,4.4,4.2,4.5,4.3,4.6,4.0,4.6,4.5,4.4,4.5,4.6,4.4,4.7,4.4,4.2,4.5,4.2,4.4,4.5,4.6,4.6,4.6,4.5,4.5,4.4,4.4,4.5,4.5,4.0,4.6,4.1,4.0,4.4,4.4,4.1,3.5,4.3,4.5,4.2,4.6,4.4,4.5,4.0,4.5,4.6,4.4,4.4,4.1,4.0,4.1,4.1,4.2,4.5,3.5,4.3,4.2,4.6,4.4,4.5,4.4,3.7,4.3,4.5,4.6,4.7,4.6,4.6,4.0,4.4,4.4,4.8,4.6,4.2,4.6,4.1,4.4,4.5,4.3,4.7,4.6,4.4,4.5,4.8,4.2,4.5,4.1,4.1,4.0,4.3,4.5,null,4.6,3.7,3.7,4.2,4.5,4.3,3.9,4.6,4.3,4.4,4.6,4.5,3.8,null,4.4,4.7,3.4,4.3,4.3,4.0,4.0,3.8,null,4.3,3.6,3.8,4.5,4.6,null,4.5,4.7,4.3,3.7,null,4.2,3.4,3.9,4.0,4.0,4.0,4.6,4.0,4.1,3.9,4.4,4.4,4.3,4.6,4.5,4.5,4.5,4.5,4.3,4.2,4.4,4.3,4.6,4.1,3.9,4.4,4.6,null,4.1,null,null,3.8,4.6,3.5,4.7,4.3,4.5,4.4,3.4,4.3,null,4.3,4.6,4.6,null,4.2,null,null,4.6,null,null,4.4,3.9,4.5,3.8,4.3,3.7,5.0,3.2,4.5,4.7,4.0,null,4.1,3.8,4.7,4.5,null,4.2,null,4.1,3.1,4.1,4.1,4.3,4.0,4.6,4.4,4.4,4.3,4.6,3.2,4.5,4.6,4.6,4.3,3.0,4.4,4.4,4.3,3.5,4.3,4.5,3.7,4.5,4.2,4.3,4.6,4.5,3.9,4.3,3.3,4.7,4.2,3.2,4.4,3.5,3.7,3.8,3.8,3.7,4.6,4.0,3.6,3.8,4.1,4.7,3.9,4.1,4.6,4.2,3.6,4.6,4.2,4.4,4.6,4.7,4.1,3.9,4.0,4.1,4.6,4.1,4.1,4.1,4.4,3.8,4.3,4.1,4.1,4.1,4.4,3.8,4.3,4.4,4.2,4.4,4.3,4.1,4.0,4.2,4.1,3.9,4.4,4.6,4.5,4.5,4.8,4.4,4.5,4.5,4.6,4.5,4.5,4.5,4.4,4.7,4.5,4.2,4.4,4.6,4.3,4.3,4.2,4.6,4.4,4.4,4.5,4.4,4.3,4.6,4.3,4.2,4.2,4.5,4.5,4.5,4.7,4.7,4.5,4.4,4.3,3.8,4.6,4.6,4.4,4.3,4.1,4.3,4.4,4.6,4.3,4.4,4.7,4.5,4.4,4.6,4.5,4.4,4.6,4.5,4.5,4.3,4.5,4.6,4.4,4.4,4.5,4.7,4.6,4.5,4.5,4.7,4.5,4.8,4.7,4.4,4.6,4.5,4.6,4.7,4.6,4.5,4.6,4.5,4.6,4.4,4.7,4.3,4.3,4.4,4.3,4.5,4.4,4.5,4.4,4.5,4.6,4.7,4.6,4.4,4.4,4.5,4.6,4.3,4.5,4.5,4.4,4.5,4.2,4.5,4.4,4.7,4.2,4.5,4.5,4.6,4.4,4.5,4.3,4.3,4.5,4.7,4.7,4.1,4.8,4.4,4.2,4.4,4.7,4.3,4.7,4.2,4.3,4.4,4.1,4.1,4.2,4.5,4.7,4.6,4.5,3.1,4.1,3.4,4.4,4.3,4.6,4.4,4.3,4.6,4.2,4.2,4.5,4.4,4.2,4.5,4.8,4.4,4.6,4.5,4.3,4.6,4.4,4.4,4.5,4.6,4.6,4.6,4.1,4.5,4.6,4.4,4.7,4.6,4.3,4.5,4.6,4.2,4.5,4.8,4.1,4.3,4.4,4.0,4.2,4.0,4.2,4.5,4.7,4.2,4.4,4.6,4.9,4.4,4.5,4.6,4.2,4.5,4.6,4.6,4.5,4.4,4.6,4.5,4.6,4.4,4.4,4.3,4.3,4.6,4.3,4.3,4.6,4.5,4.5,4.2,4.7,4.3,4.0,4.4,4.3,4.6,4.7,4.4,4.7,4.4,4.3,4.2,4.4,4.5,4.5,4.5,4.4,4.3,4.5,4.7,4.7,4.6,4.6,4.4,4.4,4.7,4.6,4.5,4.3,4.3,4.3,4.6,4.8,4.5,4.4,4.5,4.5,4.6,4.6,4.6,4.6,4.7,4.5,4.5,4.5,4.6,4.5,4.4,4.4,4.6,4.7,4.5,4.4,4.6,4.7,4.6,4.5,4.4,4.5,4.3,4.5,4.2,4.5,4.3,4.4,4.7,4.6,4.7,4.6,4.4,4.6,4.5,4.3,4.5,4.5,4.6,4.6,4.3,4.6,4.5,4.7,4.5,4.7,4.7,4.6,4.4,4.3,4.5,4.3,4.4,4.2,4.3,4.5,4.4,4.7,4.2,4.1,4.5,4.5,4.5,4.1,4.3,4.5,4.4,4.5,4.6,4.0,4.3,4.5,4.4,4.4,4.6,4.2,4.5,4.6,4.5,4.7,4.5,4.5,4.5,4.4,4.6,4.3,4.4,4.3,4.7,4.7,4.4,4.3,4.4,4.5,4.5,4.4,4.4,4.6,4.6,4.4,4.6,4.2,4.4,4.6,4.6,4.7,4.5,4.2,4.6,4.7,4.6,4.3,4.6,4.4,4.4,4.5,4.2,4.4,4.3,4.7,4.5,4.4,4.5,4.4,4.4,4.5,4.6,4.5,4.3,4.7,4.4,4.5,4.2,4.5,4.5,4.7,4.4,4.3,4.6,3.9,4.2,4.5,4.3,4.5,4.4,4.4,4.8,4.4,4.4,4.3,4.6,4.1,4.5,4.5,4.5,4.0,4.5,4.6,4.5,4.5,4.5,4.4,4.7,4.5,4.5,4.2,4.3,4.5,4.2,4.3,4.4,4.6,4.6,4.5,4.2,4.5,4.6,4.6,4.1,4.5,4.6,4.6,4.5,4.3,3.8,4.5,4.1,4.8,3.9,4.5,4.4,4.3,4.2,3.0,4.5,4.4,4.5,4.7,4.1,4.5,4.5,4.5,4.6,4.3,4.3,4.5,4.2,4.2,4.4,4.5,4.1,4.2,4.1,4.7,4.3,4.4,4.4,null,4.3,4.4,4.3,4.3,4.2,4.2,4.3,4.3,4.1,4.2,4.5,4.3,4.3,4.5,4.1,4.5,4.2,4.4,4.0,4.1,4.3,4.3,4.4,4.3,4.1,4.0,4.3,4.6,4.3,4.7,4.3,4.4,4.2,4.7,3.9,4.1,4.1,4.1,4.2,4.7,4.4,4.3,4.5,4.3,4.3,4.1,4.1,4.1,4.6,4.1,4.4,4.4,4.3,4.0,4.8,3.8,4.7,4.5,4.8,4.4,4.8,4.2,4.2,4.0,4.7,4.7,3.9,4.5,4.1,4.4,3.9,4.4,4.4,3.6,4.4,4.1,3.6,4.6,4.3,4.5,4.4,4.1,4.4,3.9,4.4,4.4,3.6,4.4,4.1,3.6,4.6,4.3,4.5,4.4,4.5,4.1,4.5,4.1,3.9,4.2,4.1,3.9,4.1,4.2,4.7,3.8,4.3,4.3,4.3,3.9,4.3,4.0,4.0,4.3,4.2,4.1,4.0,4.4,4.3,4.3,4.4,4.2,4.1,4.3,4.2,4.6,4.1,4.5,4.4,4.5,4.3,4.2,4.4,4.6,4.5,4.8,4.5,3.2,4.6,4.5,4.1,4.6,4.5,4.4,4.4,4.4,3.8,4.6,2.5,4.0,5.0,4.3,3.4,null,3.4,4.3,4.4,4.4,4.2,5.0,4.1,3.9,4.6,4.2,4.4,4.2,3.6,4.5,null,4.7,4.6,4.5,4.2,4.2,4.3,4.4,4.1,4.4,4.6,4.4,4.2,4.5,null,2.6,4.6,4.8,4.2,4.7,3.0,3.5,4.6,4.8,4.2,4.6,4.4,4.8,4.0,3.7,4.2,4.8,4.7,3.5,3.9,4.2,4.8,2.7,4.2,4.7,4.6,4.5,4.7,4.7,4.5,4.7,4.0,3.4,3.5,3.0,4.7,4.6,4.2,4.8,4.5,4.2,3.8,3.0,4.4,4.5,4.0,3.6,4.4,4.7,4.9,3.6,4.5,4.1,4.6,4.7,4.7,2.8,4.3,4.6,4.3,3.4,null,4.0,4.8,4.2,3.0,4.5,3.7,4.5,4.5,4.6,4.2,4.6,3.6,4.4,4.4,4.5,4.5,4.1,4.6,4.3,4.3,4.7,4.5,4.5,4.5,4.2,4.4,3.9,4.2,4.4,4.1,3.4,4.1,4.0,null,4.1,3.5,4.2,4.0,4.5,4.3,4.3,4.8,4.6,4.1,4.6,3.5,2.3,4.5,4.3,4.2,4.2,3.1,4.4,4.4,2.9,3.1,3.7,4.0,3.8,4.6,4.4,3.8,null,4.8,4.3,null,null,null,null,3.7,5.0,3.0,3.7,null,null,null,null,null,null,null,null,null,null,null,null,null,null,3.7,5.0,null,null,5.0,null,5.0,null,5.0,null,5.0,5.0,null,5.0,5.0,5.0,null,null,null,4.3,4.9,null,null,null,null,null,null,null,5.0,null,null,4.9,4.6,5.0,null,null,null,null,4.0,null,5.0,null,4.0,2.6,4.7,4.8,4.3,4.7,2.5,4.6,4.5,4.1,4.5,4.3,null,3.8,4.4,null,null,null,4.5,4.5,3.8,4.5,4.0,4.5,3.7,4.3,3.7,null,4.4,3.8,null,2.7,5.0,4.3,3.8,3.0,5.0,3.6,4.0,4.3,4.7,5.0,4.7,null,4.6,3.1,4.4,5.0,3.6,2.8,4.4,4.2,4.6,4.2,null,3.8,3.5,4.7,4.1,4.5,4.3,4.4,4.4,4.2,4.0,4.3,4.6,4.4,4.2,4.4,4.4,4.3,4.6,4.4,4.5,4.6,4.6,4.6,4.4,4.5,4.5,4.3,4.4,4.6,4.3,4.8,4.2,4.6,4.0,4.6,4.3,3.6,4.0,4.5,4.4,4.5,4.2,4.5,4.3,4.2,4.2,4.4,4.3,4.3,4.1,4.5,4.3,4.2,4.1,4.3,4.2,4.1,4.1,4.4,3.7,3.9,3.7,4.0,4.5,3.6,4.1,4.1,4.0,4.1,4.0,4.5,4.6,4.3,4.3,4.2,4.5,4.2,4.3,4.1,3.8,4.2,4.4,4.3,4.2,4.1,4.0,4.3,4.3,4.2,4.2,4.0,4.4,4.0,4.2,4.2,4.4,4.1,4.1,4.3,4.0,4.2,4.2,4.2,4.1,4.0,4.3,4.3,4.4,4.4,4.2,4.2,4.0,4.2,4.0,4.5,4.6,4.3,4.2,4.3,4.6,4.4,4.4,4.5,4.3,4.2,4.2,4.4,4.6,4.2,3.6,4.5,4.4,3.8,4.7,3.6,4.2,3.6,4.3,4.4,4.5,4.1,4.3,4.3,4.7,4.3,4.2,4.2,4.3,4.2,4.3,4.6,4.4,4.3,3.8,4.6,4.5,4.1,4.4,4.3,3.8,4.0,3.3,4.1,4.1,4.2,4.1,4.4,4.1,4.2,4.5,4.3,4.5,4.1,4.5,4.4,4.6,4.5,4.6,4.7,4.3,4.4,4.4,4.2,4.1,4.1,4.5,4.7,4.1,4.2,4.5,4.4,4.6,4.2,4.6,4.3,4.1,4.1,4.4,4.1,4.6,4.2,4.2,4.1,4.2,4.3,4.2,4.5,4.7,4.5,4.3,4.0,4.4,4.4,4.0,4.5,4.6,4.1,4.5,3.9,4.5,4.2,4.3,4.3,4.4,4.5,4.6,4.4,4.3,4.3,4.1,4.7,4.4,4.2,4.4,4.2,4.2,4.1,4.0,4.1,4.5,4.6,4.3,4.6,4.4,4.0,4.5,4.1,4.4,4.0,4.6,4.5,4.4,4.5,4.1,4.3,4.5,4.2,3.8,4.5,4.7,4.1,4.6,4.8,4.0,4.7,4.7,4.1,4.5,3.6,4.5,4.7,4.7,4.5,4.2,4.5,4.4,4.5,4.5,4.4,3.7,4.3,4.5,4.4,3.3,4.3,4.4,4.5,4.4,4.2,4.5,4.7,4.5,4.6,4.6,4.4,4.3,4.3,4.6,4.4,4.5,4.5,4.2,4.0,4.4,4.7,4.3,4.6,4.4,4.5,4.3,4.3,4.4,4.5,4.4,4.6,4.3,4.6,4.3,4.4,4.2,4.3,4.4,3.9,4.3,4.4,4.2,4.5,4.3,4.3,4.3,4.1,4.4,4.3,4.0,4.0,4.0,4.4,4.3,4.1,4.2,3.9,4.4,4.4,4.5,4.4,4.6,4.3,4.6,4.1,4.0,4.3,4.2,4.0,4.1,4.1,4.0,4.3,4.3,4.2,4.5,4.0,4.4,4.1,4.4,4.3,4.3,4.2,4.3,4.4,4.4,4.3,4.4,3.8,4.4,4.4,4.3,4.6,4.0,4.1,4.2,4.3,4.6,4.6,4.3,4.2,4.1,4.2,4.6,4.6,4.4,4.7,4.4,4.1,4.3,4.4,4.2,4.4,4.5,4.2,3.8,4.3,4.4,4.6,4.4,4.5,4.2,4.5,4.5,4.3,4.4,4.2,4.1,4.3,4.0,4.6,4.3,4.4,4.5,4.2,4.3,4.4,4.2,4.1,4.4,4.7,4.6,4.2,4.3,4.3,4.5,4.6,4.5,4.4,4.7,4.2,4.3,4.2,3.9,3.9,4.2,4.3,4.6,4.3,4.0,4.0,4.0,4.6,4.3,4.2,4.3,4.4,4.0,4.6,4.7,4.3,4.0,4.5,4.7,4.4,4.8,3.3,4.3,3.9,4.4,3.9,4.4,4.3,4.4,4.2,4.2,4.1,4.4,4.0,4.4,4.3,4.1,4.0,4.2,4.2,4.3,3.1,4.1,2.9,4.0,4.5,4.3,4.1,4.3,4.5,4.6,4.4,4.2,4.3,3.4,4.6,4.2,4.4,4.0,4.1,4.0,4.6,4.2,4.5,4.4,4.0,3.5,4.0,4.2,4.0,4.4,4.8,4.1,4.6,4.3,4.4,4.3,4.6,4.5,4.3,4.2,4.4,4.2,4.4,4.3,4.5,4.5,4.1,4.0,4.7,4.6,4.2,4.2,4.1,4.1,3.5,4.5,3.9,4.6,4.0,4.4,4.2,4.2,4.6,4.5,4.4,4.5,4.4,4.3,4.2,4.3,4.5,4.0,4.2,4.1,3.9,4.2,4.0,3.5,4.0,4.0,4.5,4.1,4.2,4.4,4.4,4.1,4.3,4.5,4.5,4.4,4.5,4.7,4.4,4.1,4.4,4.4,4.3,4.2,4.0,4.7,4.3,4.6,3.9,3.6,4.0,4.1,4.2,3.9,4.1,4.3,3.1,3.7,3.4,4.4,3.6,4.4,3.3,3.7,3.0,3.6,4.8,3.9,3.8,4.3,4.5,3.4,3.7,4.5,4.4,4.1,4.5,4.0,3.9,4.4,4.8,4.7,4.3,3.7,4.2,3.5,4.3,4.7,4.3,4.1,3.1,4.3,4.1,4.2,4.3,4.4,4.3,4.3,4.4,3.5,4.1,4.6,4.4,4.2,3.9,4.2,4.4,4.4,4.4,4.4,3.7,4.4,4.5,3.7,4.4,3.7,4.4,4.5,3.6,4.4,4.0,4.1,4.4,4.4,4.3,4.4,4.2,4.2,4.1,4.3,4.5,4.4,4.5,4.3,4.2,4.5,4.7,4.4,4.4,4.4,4.4,4.1,4.6,4.4,4.1,4.5,4.5,4.4,4.3,4.5,4.2,4.2,4.2,4.5,4.7,4.0,4.2,4.2,4.1,4.4,4.4,4.2,4.2,4.1,4.5,4.6,4.1,4.3,4.2,4.1,4.0,4.6,3.1,4.6,4.5,3.2,4.3,null,4.6,4.4,4.6,4.5,4.6,null,4.4,4.2,4.4,3.1,3.6,4.1,4.2,3.5,3.9,3.0,3.9,4.5,3.4,4.4,3.4,4.3,3.7,3.5,3.8,3.6,3.1,3.8,4.2,4.0,4.3,4.3,4.5,4.5,4.5,4.4,4.4,4.3,4.2,4.7,4.4,4.3,4.4,4.3,4.5,4.7,4.5,4.6,4.7,4.6,4.8,3.9,4.5,4.6,4.5,4.4,4.5,4.0,4.3,4.0,4.4,4.1,4.3,4.1,4.3,4.2,4.2,4.2,4.2,4.3,4.5,4.4,4.5,4.2,4.1,4.4,4.5,4.3,4.4,4.1,4.4,4.2,4.1,4.6,4.5,4.3,4.1,4.1,4.2,4.1,4.6,4.5,4.0,3.5,4.4,4.4,4.4,4.1,4.2,4.6,4.4,4.6,4.6,4.5,4.7,4.4,4.5,4.6,4.6,4.0,4.6,4.5,4.7,4.7,4.4,4.3,4.7,4.1,4.7,4.4,4.6,4.5,4.4,4.4,4.3,4.3,4.6,4.7,4.3,4.5,4.6,4.4,4.5,4.7,4.3,3.7,4.7,4.5,4.4,4.3,4.8,4.6,4.1,4.7,4.1,4.6,4.2,4.3,4.2,4.0,4.2,3.9,4.3,4.1,4.2,4.4,4.3,4.3,4.4,4.3,4.1,4.2,4.1,4.1,4.2,4.1,4.4,4.1,4.3,4.6,4.1,4.6,4.6,4.2,4.1,4.2,4.5,4.3,4.2,4.0,4.2,4.2,4.6,4.3,4.4,4.4,4.4,4.3,4.3,4.6,4.5,4.1,4.3,4.4,4.2,4.2,4.1,4.5,4.7,4.3,4.4,4.4,3.8,4.4,4.3,4.2,4.5,3.2,4.5,4.2,4.4,4.7,4.4,4.0,4.4,4.0,4.6,4.5,4.2,4.0,4.4,4.5,3.9,4.2,4.3,4.2,4.2,4.4,4.7,4.6,3.1,4.4,4.1,4.5,4.6,4.3,3.9,4.5,4.3,3.7,4.5,4.4,4.0,4.0,4.4,4.7,4.6,4.2,4.5,4.6,4.0,4.5,4.4,4.3,4.4,4.5,4.5,4.6,4.4,4.6,4.3,4.6,4.5,4.3,4.1,4.2,4.2,4.6,4.2,4.5,4.4,4.3,4.2,4.3,4.5,4.3,4.3,4.5,4.5,4.4,4.2,4.2,4.6,4.4,4.3,4.6,4.2,4.2,4.2,4.0,4.3,4.6,4.4,4.6,4.6,4.5,4.5,4.4,4.3,4.0,4.2,4.2,4.5,4.0,4.2,4.4,4.6,4.3,4.6,4.2,4.4,4.6,4.4,4.6,4.4,4.1,4.4,4.4,4.1,4.3,4.1,4.1,4.5,3.9,null,3.8,null,null,4.6,4.7,null,4.0,null,4.7,4.1,3.7,null,4.1,3.7,4.6,4.4,4.6,4.1,4.4,4.7,4.4,null,4.8,4.0,4.9,null,4.8,4.4,4.7,4.2,4.6,4.6,4.5,4.6,4.1,3.8,4.8,4.8,null,4.5,4.0,4.4,4.7,null,3.9,4.4,4.4,4.5,4.4,4.8,4.4,4.8,4.5,4.7,4.5,3.5,4.4,4.3,4.4,4.2,4.6,4.4,4.4,3.9,4.3,4.5,4.2,3.7,4.2,3.9,3.6,4.5,4.3,4.3,4.2,4.6,4.5,4.5,4.2,3.9,4.8,3.8,4.5,4.5,4.2,4.0,4.2,4.3,4.3,4.2,4.3,3.6,3.9,4.8,3.9,3.7,4.6,4.4,4.4,4.2,4.1,3.8,4.4,4.5,4.6,4.7,4.3,4.5,4.3,3.7,3.9,3.6,4.5,4.4,3.8,4.6,4.2,4.3,3.8,4.4,3.1,4.6,4.1,4.5,4.0,4.5,4.3,null,3.7,3.9,3.5,3.3,4.3,4.5,4.1,4.4,4.4,4.5,4.4,4.3,4.5,4.3,4.6,4.1,4.2,3.5,4.0,3.8,4.3,4.3,4.1,4.3,4.5,4.4,4.0,4.1,4.6,4.3,3.9,4.5,4.7,4.3,4.5,3.1,4.7,3.8,4.0,4.2,4.0,4.2,3.4,4.6,4.5,4.0,4.4,4.2,4.1,4.4,4.0,3.7,4.6,4.5,4.6,4.5,3.9,4.3,4.4,3.9,4.3,4.4,4.4,3.6,4.5,3.6,4.1,4.4,4.1,4.2,4.7,3.9,3.9,4.4,4.3,4.6,4.0,4.3,4.2,4.5,4.3,4.0,4.1,4.6,4.1,4.5,4.0,4.2,4.3,4.2,4.3,4.2,4.0,4.2,4.3,4.0,4.5,4.3,4.3,3.9,4.0,4.1,4.1,4.1,4.0,4.0,4.5,4.1,3.9,4.2,3.9,4.5,4.3,4.4,4.6,4.2,4.1,4.4,4.4,4.2,4.5,4.2,4.4,4.4,4.0,4.3,4.4,4.2,4.3,4.1,4.4,4.3,4.4,4.2,4.7,4.3,4.5,3.7,4.3,4.2,4.1,4.5,4.8,4.3,4.7,4.3,4.2,3.7,4.6,4.5,4.3,4.5,4.2,4.2,4.3,4.3,4.4,3.7,4.4,4.4,4.2,3.5,4.2,4.2,4.0,4.5,4.2,3.9,4.3,3.7,4.3,4.3,4.6,4.3,4.2,4.6,3.9,4.4,4.6,4.1,4.8,4.3,4.5,4.4,4.4,3.3,4.2,3.8,4.5,4.3,4.5,3.7,4.5,4.1,4.4,3.7,4.1,4.8,4.4,4.3,4.1,4.4,4.1,4.5,4.5,4.5,4.5,4.2,4.4,4.5,4.3,3.8,4.5,3.7,4.5,4.5,4.3,4.6,4.3,4.4,4.3,4.3,4.3,4.3,4.3,4.4,4.2,4.9,4.5,4.6,4.6,4.6,3.4,3.8,4.4,4.7,4.6,4.1,3.8,4.4,4.4,3.9,4.1,4.5,3.7,4.4,4.5,4.5,3.8,3.1,4.5,5.0,4.4,null,4.3,2.9,3.1,3.3,4.1,4.6,4.4,4.5,4.3,4.3,4.5,4.5,2.2,4.5,4.2,4.5,4.6,3.9,4.1,3.3,4.5,4.1,4.8,4.1,4.5,null,4.6,4.6,4.3,4.1,4.5,4.3,4.4,4.7,4.4,4.4,4.3,4.2,4.2,4.6,4.5,4.6,4.7,4.8,4.7,4.7,1.7,4.5,4.0,3.6,2.0,4.7,4.1,4.3,4.3,4.5,4.4,4.4,4.6,3.7,4.5,4.0,4.8,4.0,4.7,4.8,4.6,4.3,4.2,4.8,4.2,4.6,4.2,4.5,4.6,4.5,4.5,4.3,4.8,4.6,4.5,4.3,4.2,4.4,4.5,4.2,4.6,4.6,4.4,4.5,4.5,4.6,4.5,4.4,4.1,4.4,4.6,4.6,4.5,4.5,4.3,4.3,3.3,3.7,4.5,4.4,3.1,4.0,4.4,4.2,3.9,4.4,4.6,4.8,4.4,3.9,4.5,3.6,3.4,4.7,4.4,4.4,4.5,4.2,4.6,4.3,4.3,4.3,4.6,4.4,4.5,4.5,4.0,4.3,4.5,4.1,4.3,4.0,4.3,4.6,4.2,4.4,4.5,4.3,4.0,4.3,4.4,4.6,4.4,4.3,4.2,4.3,4.3,4.6,3.6,4.3,4.2,4.2,4.4,4.3,4.9,4.5,4.2,4.3,4.2,3.8,4.2,1.0,4.4,4.0,null,4.4,4.4,4.5,null,3.4,3.8,null,3.7,null,4.1,4.6,4.4,4.2,4.2,4.4,4.5,4.2,4.5,4.3,4.4,4.2,3.6,4.0,4.4,4.6,4.5,4.4,4.2,4.3,4.6,1.8,3.8,4.4,3.0,3.4,4.6,3.7,3.0,4.6,4.4,3.1,4.3,4.3,3.8,4.5,3.6,null,4.2,4.5,4.2,3.3,4.2,4.3,4.2,3.7,3.8,2.9,4.5,4.3,4.9,4.4,4.4,4.4,2.9,4.2,4.0,4.3,4.3,3.9,4.3,null,4.0,4.6,3.7,4.0,4.6,4.4,4.5,3.0,3.1,4.3,4.5,4.5,4.5,4.1,4.6,4.2,null,3.9,3.9,3.9,4.3,4.2,4.2,3.7,2.8,4.4,4.1,4.4,2.7,4.7,4.2,4.2,4.1,4.5,4.4,4.0,4.2,4.1,4.0,4.4,4.7,4.3,4.7,4.4,4.0,4.3,4.2,4.4,4.6,3.3,4.5,2.3,4.2,4.1,null,4.4,3.2,3.5,4.6,4.3,4.1,4.1,4.1,null,4.7,3.5,3.9,null,null,4.1,4.7,null,4.6,4.5,4.7,4.9,null,4.3,4.1,4.4,4.2,4.1,4.6,4.3,4.4,4.4,4.5,4.6,4.8,4.3,4.8,4.8,3.7,4.1,3.7,4.2,4.5,4.6,4.5,4.7,4.3,null,4.9,4.4,4.6,null,null,4.0,4.8,4.3,4.4,4.2,4.6,null,4.8,4.0,4.3,4.7,4.5,4.6,4.5,4.3,4.0,4.2,4.0,4.5,4.0,4.1,4.6,3.1,4.9,4.5,4.0,4.0,3.6,4.5,4.2,4.3,3.9,4.3,4.3,4.4,4.3,4.4,4.3,4.5,4.4,3.5,4.4,4.4,4.5,4.4,4.4,4.0,3.9,3.9,4.3,4.9,3.7,3.3,3.8,3.5,4.2,4.5,3.5,3.6,4.6,3.9,4.2,4.2,4.0,3.2,4.6,2.4,4.5,4.1,4.2,3.7,4.3,4.2,4.1,3.9,3.8,4.4,3.4,4.0,4.4,3.3,4.8,4.5,3.4,4.3,4.3,4.1,4.0,4.4,3.8,4.4,3.8,4.2,3.8,4.8,4.7,4.3,3.5,3.9,4.2,4.6,4.7,4.5,3.8,4.5,3.7,3.5,4.1,3.9,4.1,4.6,4.4,4.5,4.4,4.6,4.0,4.4,4.4,4.4,4.0,3.8,3.9,null,3.7,4.2,4.1,4.3,4.3,4.1,4.4,3.8,4.3,4.4,3.8,4.5,3.8,3.9,4.0,4.3,4.5,4.4,4.6,null,5.0,4.4,4.4,4.2,4.0,null,4.2,null,4.6,4.1,null,3.9,4.6,null,4.4,3.9,4.6,4.5,3.0,null,3.6,4.4,4.6,null,4.3,5.0,4.5,4.1,4.1,4.5,null,4.8,4.5,null,4.0,4.8,3.7,null,4.5,4.7,2.7,2.9,4.2,4.4,4.2,3.4,2.6,4.1,4.3,4.5,4.2,4.4,null,4.0,4.4,4.1,4.8,2.2,3.8,3.1,3.1,3.8,3.8,4.3,3.6,4.0,4.4,4.6,null,4.5,1.8,4.7,3.9,4.4,3.6,4.5,4.4,3.9,3.9,3.8,null,4.2,4.1,4.4,4.4,null,null,5.0,4.1,4.5,4.3,null,3.9,3.5,null,3.2,null,null,null,null,3.3,4.8,4.5,3.7,4.8,4.7,4.3,3.8,4.1,4.7,null,4.2,null,null,4.6,4.2,4.6,4.6,4.2,4.1,3.5,4.1,4.4,4.5,4.1,4.5,4.3,4.4,4.3,4.3,3.8,3.9,4.1,4.8,4.4,4.0,4.7,4.6,4.3,4.0,4.4,3.7,3.7,3.3,4.1,3.0,4.1,3.0,3.8,4.0,4.5,4.6,4.1,3.6,4.7,3.5,3.1,3.9,3.7,4.2,4.4,4.4,3.3,4.8,4.2,4.5,3.8,4.1,4.2,4.2,4.0,4.2,3.8,4.5,3.7,4.3,4.5,4.1,4.2,4.5,4.0,4.4,4.2,4.3,4.7,4.1,3.2,3.9,4.1,3.4,3.0,4.6,4.6,4.1,3.1,3.4,4.2,4.2,3.0,2.4,4.1,2.9,4.0,4.0,3.8,2.4,4.4,3.7,4.3,4.6,4.2,4.8,3.6,3.2,4.0,3.5,4.4,2.5,3.9,4.4,4.2,4.2,4.3,4.1,4.3,4.2,4.2,3.9,3.9,4.4,3.8,4.5,4.2,3.7,4.3,4.3,4.6,3.3,3.6,4.1,3.8,3.3,4.5,4.8,4.6,null,4.3,4.5,4.2,3.8,4.7,4.2,4.3,4.7,4.7,3.6,4.2,4.0,4.3,4.7,4.2,4.6,4.8,4.6,3.8,4.6,4.3,4.2,4.5,3.2,4.3,4.3,4.5,4.4,1.9,4.4,2.5,4.2,4.3,4.0,4.5,4.8,4.2,4.7,4.4,4.4,4.4,4.6,4.6,4.2,4.5,4.0,4.4,4.2,4.5,4.6,4.4,4.7,4.2,4.4,3.2,4.1,4.0,4.7,4.6,4.6,4.7,4.8,4.6,4.2,4.3,3.3,4.7,4.5,4.0,4.5,4.2,4.6,4.2,4.7,4.7,4.2,4.3,4.3,null,4.5,4.4,4.5,4.6,4.3,3.8,4.5,4.5,3.9,4.0,2.7,4.5,4.0,2.9,4.6,4.4,4.5,4.6,4.4,4.3,4.4,4.2,4.8,4.3,4.3,4.6,4.6,4.2,4.2,4.1,4.4,4.5,4.4,4.4,4.2,4.5,4.6,4.5,4.6,4.0,4.5,4.2,3.9,4.7,4.4,4.5,4.3,4.4,4.2,3.9,4.1,2.2,4.2,4.2,2.8,3.9,4.3,4.8,4.3,4.1,4.2,4.4,4.1,4.6,4.3,4.3,3.8,4.8,null,3.8,3.9,null,4.3,4.3,4.3,4.1,4.2,4.9,4.5,4.6,3.8,4.7,4.5,4.7,4.5,4.8,4.6,4.6,4.3,4.8,3.4,4.6,4.4,4.5,4.4,4.4,4.6,4.2,4.3,4.3,3.8,3.9,4.3,4.8,4.2,4.5,4.8,null,4.6,4.2,4.2,4.0,null,4.3,4.8,4.1,4.7,null,4.8,4.0,3.5,3.8,3.5,3.3,3.7,3.3,3.4,1.8,1.6,1.9,3.6,3.4,3.2,2.5,4.7,2.6,2.8,3.9,4.2,3.9,4.0,3.5,3.1,3.7,3.6,3.4,4.0,3.7,1.7,2.4,4.3,4.2,3.3,4.1,4.1,3.4,3.0,3.0,2.2,3.7,3.7,4.8,3.7,3.6,3.7,4.4,3.8,3.7,3.7,4.8,4.2,4.1,4.6,4.1,4.3,3.9,3.8,4.0,4.5,4.6,4.1,4.4,3.7,3.9,3.9,4.5,4.5,4.4,4.3,4.5,4.7,4.7,4.1,3.3,4.2,4.1,3.4,4.3,4.9,4.5,4.1,4.4,4.3,4.4,3.4,4.1,4.1,3.5,3.8,4.6,4.6,5.0,4.6,4.2,4.0,3.9,3.7,4.3,1.9,4.2,4.2,4.0,4.4,4.2,4.5,4.3,4.4,4.0,4.2,4.3,4.0,4.3,3.9,4.0,3.7,4.1,3.9,4.2,4.4,4.5,3.9,3.9,4.2,4.5,4.1,4.7,null,4.4,4.7,4.7,4.0,3.9,null,3.8,3.9,4.4,4.5,null,3.8,3.5,4.2,4.7,2.0,4.3,2.8,4.0,3.9,4.2,3.4,4.5,4.7,2.0,4.4,null,null,null,4.7,3.3,4.1,null,4.2,4.4,null,3.7,null,4.3,3.9,5.0,4.1,4.8,4.0,null,4.1,3.8,4.6,null,4.3,4.1,4.6,4.1,4.4,4.2,4.1,4.3,4.3,4.0,4.5,4.1,3.8,null,4.5,null,4.1,null,3.9,3.7,null,4.5,4.4,null,3.4,null,null,null,null,2.3,4.7,3.4,4.7,null,null,5.0,null,null,null,null,null,null,null,null,3.6,5.0,null,null,4.3,null,null,null,5.0,null,null,4.1,4.1,4.5,null,null,3.4,null,null,null,2.9,4.6,5.0,null,null,null,3.9,3.9,5.0,4.1,null,5.0,3.0,4.0,1.0,null,4.0,null,null,4.0,null,3.8,null,null,null,null,null,null,null,null,3.5,null,null,null,null,null,2.6,null,3.4,null,null,4.5,3.4,3.8,3.0,4.4,4.0,3.9,4.6,3.8,3.8,4.0,4.6,3.6,4.4,3.1,4.2,4.6,4.0,5.0,3.3,4.1,3.6,3.2,4.4,4.0,4.4,4.5,4.3,4.7,4.4,null,4.4,4.4,3.7,3.3,null,3.7,3.0,2.6,null,null,3.5,3.9,4.6,3.8,4.6,4.4,4.5,4.5,4.7,4.4,null,5.0,null,null,2.8,null,4.6,2.8,5.0,5.0,2.8,null,3.8,4.1,null,4.8,5.0,5.0,null,4.4,null,null,5.0,4.1,null,4.8,null,null,4.8,4.0,null,5.0,4.6,null,5.0,null,null,null,4.5,5.0,null,null,null,4.4,4.0,null,3.9,4.1,4.8,4.3,3.9,4.5,null,3.7,4.3,4.2,3.7,3.8,4.6,null,null,null,3.3,3.0,3.9,4.2,3.9,null,4.1,null,4.6,null,null,null,null,4.4,3.8,4.4,null,4.9,3.6,4.3,3.6,4.1,3.4,4.5,4.7,4.5,4.4,4.3,4.6,4.2,4.8,4.6,4.8,4.6,4.6,4.6,4.1,4.7,4.7,4.8,3.6,4.7,4.6,4.5,4.7,4.5,4.3,4.5,4.8,4.7,4.7,4.7,4.7,4.7,4.7,4.7,4.6,4.7,4.7,4.6,3.8,3.9,4.0,4.0,3.8,4.1,2.9,3.8,3.5,4.2,4.6,4.4,4.4,4.1,3.9,3.6,4.0,3.8,4.3,4.6,3.6,3.9,4.0,4.2,4.2,4.2,4.5,4.7,3.5,4.5,4.0,4.6,4.2,4.3,4.1,4.5,4.2,4.5,4.4,3.7,4.4,4.3,4.3,4.3,4.5,4.5,3.8,4.5,4.5,4.4,4.7,3.5,4.9,4.0,4.1,4.2,null,4.4,4.1,4.6,4.6,4.7,4.5,null,4.6,4.4,4.4,4.2,4.4,4.0,4.2,4.2,4.2,4.8,3.7,3.4,4.3,4.3,4.6,4.2,4.6,4.1,4.4,4.6,4.3,4.4,4.7,4.2,3.8,4.3,3.7,4.3,2.9,4.3,4.3,4.0,3.3,4.5,4.1,5.0,3.9,4.6,4.0,3.6,4.0,4.5,null,2.9,4.2,4.5,null,4.6,4.7,4.2,4.7,4.7,3.9,4.7,3.7,4.8,4.0,4.6,4.4,4.3,4.7,3.6,4.4,4.6,2.9,null,4.5,5.0,3.7,null,3.7,null,4.2,3.0,5.0,4.4,4.7,4.3,3.9,null,4.4,4.3,null,null,null,null,4.6,4.5,3.9,4.7,4.3,5.0,5.0,null,5.0,null,null,4.4,null,2.7,4.6,4.4,4.4,4.1,3.8,4.4,4.6,4.1,4.5,4.2,4.7,4.3,4.3,4.2,3.8,4.0,4.3,4.6,4.3,4.3,4.3,4.7,4.6,4.4,3.8,4.6,4.6,4.5,4.5,3.9,4.4,3.8,4.3,4.3,3.7,3.2,4.0,3.8,4.4,3.8,3.4,2.9,4.5,3.7,3.8,4.1,4.1,3.7,3.6,null,3.0,4.1,3.8,4.2,4.4,4.5,3.6,3.6,3.7,3.9,null,4.2,4.1,4.5,2.8,2.6,4.3,4.4,4.1,4.0,4.3,3.9,3.5,3.7,4.3,4.3,4.1,4.2,4.3,4.2,4.6,4.3,4.1,4.4,4.4,4.1,4.2,4.4,4.3,2.4,4.5,4.3,4.5,4.5,4.3,4.4,4.3,4.4,4.6,3.4,3.9,4.3,4.4,4.5,4.4,4.2,4.0,4.3,4.4,4.2,4.0,4.4,4.6,4.0,4.4,3.5,4.6,4.0,4.0,4.1,4.1,3.3,3.9,4.1,4.2,4.0,4.5,3.8,3.5,4.3,4.6,4.7,3.8,4.7,4.8,3.2,4.5,3.9,3.6,3.7,4.4,4.1,4.0,3.1,4.0,2.8,3.7,2.7,3.9,3.8,3.6,4.5,3.5,4.0,null,3.8,3.6,4.2,4.4,4.0,4.7,null,null,4.1,4.0,null,4.7,null,null,3.8,5.0,4.4,null,null,4.0,null,3.8,4.1,4.3,null,4.5,4.4,3.4,4.1,4.1,3.8,4.3,4.4,4.4,4.8,3.3,3.3,4.4,3.7,3.4,2.3,3.3,2.7,null,4.6,3.5,3.4,4.3,4.1,4.7,4.4,3.8,3.0,4.4,4.2,4.5,3.5,4.5,4.3,4.5,null,4.5,4.0,4.8,null,4.3,1.7,4.3,4.2,null,4.2,4.3,null,4.0,4.2,4.6,4.1,4.6,4.1,4.0,null,3.3,4.1,null,null,4.0,null,null,4.4,4.2,3.8,3.1,null,5.0,4.2,4.7,4.4,4.6,4.4,2.9,2.7,null,4.6,4.0,3.8,4.8,5.0,3.9,4.2,4.1,4.7,4.2,4.2,3.7,4.1,4.1,3.8,4.6,null,4.4,4.2,4.4,null,null,4.6,5.0,null,4.5,null,3.5,null,3.9,4.4,3.0,null,3.1,4.4,null,3.0,null,null,3.7,null,3.7,3.9,4.8,null,null,4.6,4.6,4.5,4.3,5.0,4.3,null,4.7,4.0,3.8,5.0,4.8,4.5,4.3,null,null,null,null,3.7,null,null,null,null,null,4.3,null,3.8,null,null,4.5,4.6,4.1,4.2,null,5.0,null,null,null,4.3,null,3.3,3.6,4.0,4.0,4.0,4.3,4.2,4.3,4.2,4.5,4.3,4.6,4.4,4.2,4.2,4.2,3.4,3.2,4.0,4.6,3.2,4.4,4.0,4.7,null,3.7,3.9,4.2,4.1,3.5,4.8,4.3,3.9,null,3.5,4.3,4.4,4.8,3.9,3.8,4.2,4.0,4.0,4.4,4.7,4.5,4.3,3.3,4.3,4.1,2.1,3.7,4.2,4.4,4.2,2.1,2.4,4.1,3.1,5.0,null,3.5,4.2,null,4.7,null,null,null,4.8,null,4.5,4.6,4.6,4.9,4.8,4.0,3.9,4.1,4.1,4.5,4.2,4.0,4.4,1.9,null,null,3.7,null,4.2,4.0,4.3,2.5,4.4,null,3.7,4.7,4.6,4.4,4.3,4.4,2.6,3.6,3.8,4.4,4.4,3.0,4.2,3.7,5.0,null,4.2,4.8,4.4,4.1,4.7,4.7,3.3,4.0,null,null,1.0,4.4,4.2,4.4,4.6,4.3,4.4,null,3.7,2.9,4.0,4.4,3.3,null,null,4.2,4.5,2.3,5.0,3.6,null,3.9,4.4,4.2,4.8,4.3,4.2,4.4,4.3,4.0,1.4,3.3,4.3,null,4.6,4.7,4.2,3.9,3.4,4.3,4.8,4.8,4.5,3.3,4.2,4.9,4.2,4.6,4.1,4.6,4.0,4.2,5.0,4.1,3.7,4.1,3.8,4.7,3.5,4.0,4.2,3.3,3.7,3.4,3.7,5.0,4.4,5.0,4.8,4.4,4.9,4.0,4.4,4.5,4.9,4.4,4.4,5.0,4.8,4.6,4.3,3.8,4.3,4.3,4.1,4.5,4.2,3.8,4.3,4.4,4.2,4.2,3.8,4.2,4.0,4.2,4.3,4.3,4.4,4.7,4.1,4.5,4.2,4.3,4.4,4.5,4.3,null,4.2,4.0,3.4,4.4,3.8,3.0,4.1,4.4,4.1,4.1,4.1,4.5,4.1,2.2,3.9,4.0,4.3,3.9,4.0,4.2,4.2,3.6,4.3,null,null,4.4,2.6,4.1,null,3.5,4.2,null,null,3.7,4.5,2.4,null,2.9,4.2,4.2,4.0,2.6,4.4,4.8,4.7,4.4,4.6,2.7,3.8,1.7,4.6,3.3,null,null,4.6,2.3,4.5,null,4.8,null,5.0,null,4.1,null,null,null,null,null,null,4.9,3.0,null,null,4.8,4.5,3.4,null,null,null,null,4.0,3.7,2.2,4.8,null,5.0,null,null,null,4.5,null,4.3,3.8,null,4.5,4.5,null,4.8,4.5,4.4,null,3.9,4.3,4.3,null,4.0,null,4.1,4.6,3.7,3.4,4.5,4.4,null,4.4,2.4,4.1,4.6,4.6,4.3,4.3,4.7,null,4.2,4.3,4.3,3.9,4.7,4.2,4.1,4.6,4.7,4.3,4.5,4.6,2.9,4.0,3.0,3.9,null,4.8,3.9,4.0,null,null,null,5.0,null,null,null,4.0,null,5.0,null,null,4.5,4.8,null,4.6,4.2,null,3.4,2.6,2.4,null,4.5,4.6,3.3,4.1,4.6,3.9,null,null,null,null,null,4.0,3.4,4.5,4.0,5.0,3.6,3.5,4.6,4.9,3.7,5.0,4.0,3.9,5.0,4.0,null,null,4.9,4.4,3.6,4.7,4.3,3.9,4.5,4.2,4.6,4.1,4.3,4.6,null,null,4.2,4.6,4.5,4.4,4.2,4.5,4.0,4.2,4.7,4.1,4.4,4.3,4.6,4.2,4.0,2.3,4.5,3.6,4.4,3.9,3.9,4.8,4.2,3.7,4.0,null,1.0,null,4.4,4.2,4.7,3.6,null,4.1,3.3,null,null,5.0,4.3,4.7,null,null,null,null,null,4.0,null,4.4,4.6,5.0,4.3,4.3,null,3.8,4.1,4.6,4.0,4.7,3.6,4.5,4.0,4.1,4.0,3.8,null,4.5,2.8,null,4.2,4.8,5.0,5.0,null,null,null,4.3,4.3,4.5,4.5,5.0,3.8,4.4,5.0,4.7,null,4.7,2.2,4.6,4.6,4.7,4.6,4.4,3.8,3.6,4.9,4.8,null,4.4,5.0,4.8,null,null,4.6,5.0,4.6,5.0,null,4.0,4.3,4.5,4.0,3.2,4.6,4.2,4.8,3.0,4.3,3.9,3.2,3.9,4.8,3.5,4.4,4.1,4.2,4.7,4.0,4.4,4.2,5.0,3.5,3.8,null,4.5,4.1,null,4.3,null,4.3,4.4,null,null,null,null,null,4.0,4.3,4.0,4.9,4.7,null,null,null,4.3,4.2,4.1,4.3,4.7,3.2,3.9,4.2,4.1,4.9,null,3.7,3.5,4.9,null,3.3,4.9,3.4,null,4.5,4.3,5.0,3.5,null,null,4.4,3.7,null,4.8,null,4.3,4.9,null,null,null,null,null,null,5.0,4.3,4.3,null,null,4.4,1.0,4.5,null,4.0,5.0,4.9,4.7,4.5,3.9,null,3.2,3.5,null,3.7,3.0,4.2,4.0,4.1,null,4.7,4.0,3.1,4.4,3.2,3.9,4.2,4.7,4.0,null,null,4.0,3.7,4.1,4.4,4.0,3.9,3.6,null,null,4.6,null,4.4,1.9,4.3,4.5,4.1,3.8,4.1,4.6,3.7,3.9,4.4,null,4.5,null,null,4.3,4.4,3.5,4.3,4.5,4.5,4.4,4.2,4.3,null,3.6,4.0,3.8,null,null,4.4,3.8,3.9,4.1,4.3,3.5,null,4.3,null,4.7,4.5,3.8,4.5,4.2,4.3,4.1,4.6,4.6,4.5,4.5,3.0,2.6,3.4,4.4,4.2,4.0,4.7,3.4,3.7,3.7,4.5,3.9,5.0,4.3,4.2,null,4.0,null,4.5,4.0,4.4,1.8,4.3,5.0,5.0,null,3.2,4.2,4.6,3.8,3.9,4.2,null,4.0,3.8,4.1,3.9,4.4,2.1,1.8,4.2,2.0,null,null,3.4,4.3,3.6,3.7,4.7,4.5,4.6,3.6,null,null,4.4,4.6,null,null,null,2.3,null,null,3.8,null,3.0,5.0,4.5,4.4,4.5,4.8,4.3,3.8,null,4.3,3.7,4.5,null,4.3,null,4.4,3.4,4.5,1.6,null,null,4.5,null,null,null,null,null,null,4.4,3.8,4.3,4.3,3.0,4.0,4.2,4.8,4.0,4.5,null,4.7,1.9,4.9,4.4,4.7,null,4.9,4.8,null,null,4.5,null,null,4.6,4.5,null,5.0,null,3.9,null,null,4.3,null,4.8,4.3,4.6,null,null,4.1,4.5,4.3,3.8,2.4,4.3,2.8,4.5,4.6,4.1,4.2,4.6,4.3,4.6,5.0,5.0,3.9,4.2,3.9,4.2,null,null,null,3.5,null,4.0,null,3.7,3.8,4.3,null,null,4.5,4.6,null,4.5,4.3,4.4,null,null,4.6,null,3.9,null,3.9,3.1,3.9,4.4,4.4,4.4,4.6,3.9,4.6,2.5,4.6,2.8,4.0,3.4,3.8,4.5,4.8,3.3,3.9,3.5,4.5,4.0,null,3.6,null,4.7,3.9,5.0,4.6,3.9,4.9,3.6,3.7,3.9,2.7,3.8,2.8,3.5,4.1,null,4.7,4.3,4.5,4.1,null,null,4.8,null,null,null,3.4,5.0,null,null,4.3,4.4,1.8,4.2,3.3,null,5.0,null,null,null,4.8,null,4.5,5.0,4.5,4.7,null,4.6,null,null,4.5,null,null,3.5,null,null,3.5,2.9,null,null,5.0,null,null,null,null,4.3,null,4.8,4.7,4.3,4.1,5.0,5.0,null,null,null,4.0,null,4.3,null,4.1,5.0,null,5.0,null,null,null,4.0,null,null,3.5,null,null,null,4.1,null,null,4.6,null,null,null,4.1,4.2,4.2,2.2,4.3,4.7,3.8,null,4.1,null,3.1,4.2,null,3.0,4.8,3.7,3.1,4.6,2.9,4.2,4.7,4.5,2.8,null,4.4,4.4,4.1,4.6,3.0,4.1,4.2,null,4.4,3.9,null,null,null,null,4.3,4.5,4.5,3.6,2.0,4.0,4.5,4.0,4.3,null,4.5,4.8,4.5,null,null,4.2,4.5,4.6,null,null,3.9,null,null,4.3,3.9,4.3,3.7,4.7,4.3,1.7,4.5,null,4.7,null,5.0,null,null,null,4.6,2.9,null,4.8,2.3,null,3.8,4.2,null,4.4,null,4.0,4.1,3.4,4.3,4.0,4.2,4.1,4.7,4.2,3.9,3.8,4.1,4.2,3.8,4.7,3.7,4.3,4.0,4.2,4.6,4.7,4.7,4.3,4.2,3.5,4.7,4.7,4.5,4.5,4.7,4.6,4.6,4.9,4.2,4.3,4.4,4.4,4.5,4.3,4.4,4.4,3.0,4.8,4.7,4.6,4.0,3.7,3.5,2.7,4.7,4.1,4.5,4.6,4.5,4.4,4.3,4.4,4.5,4.6,4.7,4.6,3.1,3.9,4.7,4.6,4.7,null,5.0,4.4,4.8,null,4.1,null,4.3,4.4,4.7,4.0,3.4,4.6,null,2.8,null,3.1,null,3.9,null,4.2,4.5,null,4.1,null,4.2,null,null,3.3,4.4,null,4.4,4.6,4.4,4.5,4.1,2.2,4.2,4.8,null,null,3.2,4.3,4.0,4.6,4.4,4.5,null,3.4,null,null,3.3,4.2,null,2.4,3.2,3.1,3.8,null,4.8,3.7,4.2,3.7,3.0,3.9,4.0,5.0,null,4.0,2.7,3.1,4.1,4.5,4.0,3.8,3.8,4.3,3.5,4.5,3.9,null,4.5,null,null,3.3,4.1,null,null,5.0,null,3.7,4.8,1.5,5.0,4.6,null,null,5.0,4.7,null,4.7,null,5.0,4.5,null,5.0,null,null,5.0,4.2,1.0,4.5,4.2,5.0,4.2,4.4,3.9,4.6,3.8,null,null,4.0,null,null,null,4.6,null,null,3.4,null,5.0,4.6,null,null,null,null,5.0,null,null,null,null,3.0,null,3.8,4.2,4.3,null,null,null,null,null,null,4.4,3.2,null,null,null,3.5,4.4,4.5,3.7,5.0,4.5,4.5,4.1,null,3.4,4.1,null,null,5.0,4.2,4.1,4.1,null,4.2,4.3,null,5.0,4.4,null,4.3,4.5,null,4.8,4.4,null,null,null,4.4,null,null,null,null,null,4.7,null,null,null,null,null,4.3,4.4,4.6,2.8,5.0,4.4,4.4,2.0,5.0,4.4,5.0,null,3.4,4.4,null,3.4,null,null,3.3,1.5,null,null,null,5.0,null,4.3,4.3,null,null,null,null,2.2,4.6,null,null,5.0,null,null,4.7,null,null,null,null,null,null,4.7,3.5,4.3,3.6,4.3,3.6,2.6,4.7,4.5,4.0,4.6,5.0,4.2,null,null,4.2,null,4.7,4.5,3.6,3.8,4.2,3.8,3.5,4.1,null,null,5.0,null,4.2,4.1,null,null,3.6,4.3,4.1,4.4,null,null,4.0,5.0,5.0,null,3.8,4.3,4.7,4.5,4.4,4.7,4.4,3.7,4.3,null,4.0,3.9,null,4.9,3.5,3.5,null,4.4,4.2,null,null,null,4.3,null,4.7,4.5,4.4,4.2,4.4,3.3,4.4,4.9,4.5,4.7,4.7,3.9,4.7,4.7,null,4.4,4.8,4.8,4.0,3.7,5.0,3.0,3.9,null,null,4.6,4.6,4.3,4.2,null,5.0,null,4.5,null,4.2,null,1.0,null,4.6,null,null,null,null,null,null,4.1,4.7,null,null,null,4.4,4.8,4.2,null,null,5.0,4.6,4.5,5.0,2.9,null,4.4,null,null,3.0,4.5,2.4,4.3,3.9,1.9,4.4,5.0,4.0,4.7,3.9,5.0,4.2,4.2,2.8,4.2,1.0,3.9,4.1,4.1,3.2,null,5.0,null,5.0,4.3,4.1,3.8,4.0,null,4.2,5.0,4.1,5.0,null,3.7,null,null,4.1,3.5,3.9,4.2,3.8,3.7,4.7,2.8,4.7,4.3,4.1,null,4.7,4.2,4.0,3.2,4.6,5.0,4.4,4.5,4.0,4.6,4.7,null,4.1,4.5,4.3,null,5.0,5.0,4.2,4.0,null,5.0,2.7,4.1,null,null,4.4,null,4.3,4.1,4.7,4.4,null,null,3.6,4.0,4.1,4.0,4.1,4.0,4.6,null,null,null,null,5.0,3.6,4.1,4.3,4.1,2.6,2.7,3.8,5.0,4.2,null,5.0,2.6,4.4,4.3,null,null,4.7,2.8,4.1,null,3.6,null,null,4.0,null,null,5.0,5.0,4.7,4.7,4.6,4.7,4.6,4.6,4.6,4.6,4.6,4.4,3.8,4.1,3.4,4.5,4.5,4.5,4.0,4.7,4.4,4.4,4.7,4.7,4.2,4.2,4.0,3.6,4.7,4.4,4.3,4.4,4.4,4.4,4.3,3.3,3.6,4.5,4.5,4.6,4.3,3.6,4.3,4.4,4.1,4.2,4.8,4.2,null,4.0,3.7,4.5,4.1,4.6,4.5,4.7,4.3,4.3,4.6,4.1,4.2,4.3,4.2,4.3,3.6,4.2,4.2,4.0,4.6,4.3,4.4,4.5,4.3,3.7,4.2,4.7,4.6,4.5,4.1,4.5,4.3,3.4,4.2,3.9,4.4,4.1,4.3,3.9,4.0,null,5.0,4.2,4.3,4.5,4.5,3.9,null,4.5,3.5,3.6,1.9,4.3,3.2,1.6,4.2,4.9,4.4,3.6,3.4,null,4.7,2.9,4.3,4.4,4.3,4.6,4.6,4.2,3.5,null,2.9,4.4,4.7,4.5,4.4,2.0,4.7,4.4,4.4,4.4,null,4.5,3.5,4.2,3.7,4.4,3.4,4.3,3.6,4.6,4.6,4.2,4.3,3.8,1.4,4.4,null,4.0,null,4.6,3.9,3.8,4.7,4.2,4.3,4.1,4.3,4.2,null,3.6,4.6,null,4.3,5.0,5.0,5.0,4.5,3.8,3.9,null,null,4.8,4.1,4.0,4.8,4.8,4.4,null,4.1,null,null,null,4.4,4.3,3.7,4.3,null,null,4.3,2.7,4.4,null,4.5,null,4.2,null,3.7,null,5.0,null,4.2,3.9,null,4.5,null,3.5,4.7,4.2,4.4,4.7,4.6,4.0,null,2.5,null,null,3.8,4.7,4.5,4.6,4.6,5.0,3.9,5.0,null,2.3,null,3.6,4.0,3.7,4.2,4.1,4.4,4.6,4.2,4.4,4.3,4.0,4.5,3.9,3.7,4.6,null,3.8,4.7,null,3.4,4.5,4.1,4.3,4.6,4.3,4.3,4.0,null,3.5,2.3,null,3.9,4.1,4.5,4.6,4.4,3.1,4.3,3.3,5.0,null,4.2,3.8,3.3,null,5.0,1.0,4.5,4.6,4.3,4.4,4.1,4.5,4.2,3.7,4.1,3.9,4.5,3.6,3.2,3.5,3.7,4.6,4.8,4.1,4.4,4.3,null,4.0,3.1,4.2,4.1,null,3.5,4.3,3.8,4.3,4.8,2.3,4.3,4.4,3.6,5.0,null,4.3,4.2,4.3,4.7,3.9,4.4,4.4,4.3,2.6,4.3,null,3.8,4.2,4.2,4.1,4.0,4.4,4.7,null,2.6,4.3,5.0,3.7,4.3,4.1,4.3,3.8,4.5,5.0,null,null,3.9,3.8,4.6,null,4.6,4.7,5.0,null,4.5,null,4.3,3.5,3.3,null,4.8,3.9,null,4.5,null,3.4,5.0,5.0,null,null,4.8,3.6,null,4.3,4.0,4.5,4.6,4.7,3.8,3.4,4.7,4.0,4.6,2.0,4.3,2.0,3.6,4.7,3.5,4.0,3.5,4.3,4.1,4.6,3.8,4.3,3.8,1.0,3.8,3.3,4.8,3.0,4.0,3.6,3.8,4.3,3.9,4.2,4.6,4.0,4.5,4.6,4.6,4.5,3.7,4.4,4.6,3.9,4.4,4.5,4.5,4.3,3.7,3.9,3.9,4.3,4.1,4.1,4.4,4.4,4.2,4.5,4.6,4.4,4.4,4.4,3.8,2.6,4.2,4.4,4.2,4.0,4.2,4.0,4.4,4.5,3.2,4.3,3.4,2.3,4.4,4.3,null,4.3,3.6,4.6,4.2,4.0,4.4,4.5,3.2,1.7,2.2,3.8,4.8,null,4.4,4.5,4.8,4.6,3.7,4.4,3.5,3.8,3.8,4.3,null,4.6,null,4.5,null,3.7,null,4.8,4.3,5.0,3.9,3.0,null,5.0,null,4.4,4.6,3.9,3.3,4.1,3.0,4.2,4.2,4.2,4.0,4.0,3.2,4.6,3.2,4.1,3.3,4.4,4.0,4.2,4.1,4.3,3.3,4.7,4.4,3.1,3.1,3.3,3.9,3.4,3.9,4.4,3.9,3.7,4.5,4.7,null,4.6,null,5.0,3.0,null,3.9,null,5.0,3.9,null,null,null,null,null,null,3.8,null,3.6,3.9,3.8,null,4.8,null,null,null,null,4.4,4.5,4.0,4.7,4.8,4.7,4.7,4.5,4.0,null,3.2,null,null,4.7,4.5,null,4.5,4.9,4.2,5.0,5.0,null,5.0,null,null,4.2,4.7,null,null,4.5,null,null,null,4.5,4.5,3.8,4.5,null,4.3,3.9,3.9,4.2,4.5,4.1,4.4,4.1,4.6,3.3,4.5,2.2,4.4,3.9,4.5,2.8,3.3,null,4.5,null,null,3.1,3.2,4.4,4.1,null,5.0,null,null,3.8,null,null,4.3,4.6,null,null,3.7,4.9,4.3,5.0,null,null,2.9,4.4,4.4,null,4.6,4.5,4.0,null,3.5,4.8,4.8,3.5,4.7,4.6,4.4,4.3,4.7,4.4,4.0,3.5,4.6,3.9,3.5,4.6,4.2,4.4,4.6,4.0,4.2,3.8,4.1,4.3,4.4,4.5,4.1,4.2,4.0,3.6,3.3,4.7,4.6,4.5,3.9,4.3,null,3.9,4.3,null,null,3.1,4.4,3.7,4.6,4.6,2.7,null,null,4.1,4.2,1.9,4.6,null,4.2,null,4.4,4.2,3.9,2.4,5.0,3.9,null,3.7,5.0,4.0,3.0,4.1,4.8,4.5,3.5,null,null,null,4.5,4.5,4.2,4.3,4.4,4.4,4.3,4.2,4.5,4.3,4.3,4.2,4.9,4.1,1.4,4.0,5.0,4.3,null,4.2,4.3,3.8,4.1,4.2,4.3,4.1,4.3,3.6,4.3,4.6,4.4,5.0,4.4,4.5,null,4.7,null,5.0,null,null,3.4,3.1,4.5,5.0,4.3,4.4,4.3,4.2,4.0,4.5,4.0,4.1,3.8,4.3,4.6,4.1,4.3,4.3,4.2,4.3,4.4,4.4,3.9,4.3,4.5,4.3,3.5,4.2,4.1,4.1,4.7,4.5,3.3,4.2,null,null,4.2,4.6,null,4.3,4.3,4.0,4.7,5.0,null,null,null,null,null,null,null,5.0,4.9,null,null,null,null,null,null,4.3,null,null,null,4.0,null,null,4.5,null,4.1,4.3,null,null,null,4.5,null,null,3.9,3.7,4.2,3.6,3.6,2.1,4.7,3.2,3.0,4.3,3.0,4.3,3.9,3.3,4.3,4.0,3.7,2.8,4.4,5.0,3.9,4.2,4.8,4.0,null,3.0,4.5,2.6,5.0,null,null,5.0,4.1,null,4.5,5.0,4.7,4.5,4.4,4.4,4.3,4.2,3.0,4.1,4.2,4.2,4.0,4.3,4.1,3.6,4.3,5.0,4.2,3.9,null,4.1,3.8,5.0,3.7,4.3,4.2,4.3,2.5,4.3,4.4,null,4.3,4.2,4.6,4.0,2.9,null,4.5,4.7,3.8,null,4.7,3.9,4.5,4.7,4.5,4.2,4.3,4.4,4.8,4.2,4.1,4.5,4.5,4.6,4.4,4.1,4.3,4.7,4.4,4.2,4.3,4.5,4.3,4.8,4.5,4.6,4.7,4.4,4.1,4.3,4.2,4.2,3.6,2.8,3.9,3.8,4.4,3.7,2.7,3.8,3.2,3.9,2.3,4.1,4.3,3.1,4.6,4.1,4.4,3.2,4.5,3.7,null,null,null,4.4,4.5,5.0,4.8,null,4.6,4.0,4.1,null,4.1,null,null,4.8,null,null,null,4.3,2.8,null,null,4.7,4.5,4.2,4.3,3.8,3.8,4.2,3.8,4.0,4.0,4.6,4.0,4.3,4.3,3.9,5.0,4.0,4.1,3.9,4.2,4.3,4.5,4.4,4.1,4.2,4.5,4.6,4.1,3.9,4.7,3.9,4.3,2.9,4.4,3.7,4.4,4.1,null,2.8,4.9,3.4,2.8,2.5,4.7,3.1,null,3.2,4.3,3.9,3.6,3.2,null,3.5,3.3,null,null,null,null,2.4,4.4,2.8,5.0,null,4.4,null,null,null,null,null,null,null,5.0,null,3.3,2.9,4.1,4.6,null,2.2,4.3,5.0,2.5,null,3.0,3.7,5.0,null,null,null,null,5.0,null,null,4.1,null,null,null,4.1,2.6,4.6,4.5,null,4.5,null,3.3,null,4.4,4.7,4.7,4.0,4.5,4.3,4.6,4.7,4.4,4.0,4.2,4.3,4.1,4.5,4.3,4.3,4.7,4.1,4.3,4.4,3.1,4.0,4.5,4.5,4.4,4.2,4.6,4.4,4.6,4.0,4.6,4.3,4.3,3.9,4.5,4.7,4.3,4.6,4.6,4.2,4.3,4.6,4.2,4.1,4.6,4.4,3.7,4.4,3.9,4.3,4.3,4.3,4.5,4.5,4.5,4.5,4.7,4.3,4.4,4.5,4.3,4.3,4.2,4.2,4.3,4.2,4.7,4.1,4.3,4.1,3.8,4.5,4.1,null,4.3,4.5,4.1,4.4,4.3,4.4,4.3,null,4.1,4.6,4.7,4.2,3.7,4.7,4.4,4.7,4.2,4.6,4.5,4.8,3.7,4.3,4.2,3.6,4.1,2.3,4.3,4.6,4.5,4.0,4.2,4.6,4.2,4.5,4.3,4.4,3.6,4.0,null,2.8,3.8,4.1,3.8,3.4,4.5,4.3,3.1,4.6,3.3,3.9,4.2,4.9,3.9,3.4,3.7,4.2,3.8,4.6,4.4,4.0,4.2,null,4.2,4.5,4.6,4.4,4.6,4.5,3.7,4.1,4.2,4.0,4.5,4.6,4.5,4.4,3.3,4.2,4.2,4.0,4.0,4.0,3.5,4.5,3.9,3.9,4.1,4.4,4.2,4.4,4.3,4.1,4.0,4.3,4.4,4.5,4.6,3.7,3.8,3.4,4.3,3.8,4.7,4.4,4.4,4.1,4.4,4.0,3.9,4.3,4.2,3.3,4.0,4.6,4.1,4.1,3.4,3.4,4.1,4.0,3.4,3.2,3.8,3.8,3.9,3.6,3.8,3.9,3.2,1.0,4.6,null,3.6,4.9,null,2.6,3.9,null,3.5,3.2,null,3.3,null,null,3.8,3.9,4.6,1.8,null,4.3,3.9,null,4.8,3.7,4.0,4.1,4.6,4.0,null,4.8,null,4.0,3.5,null,3.0,4.6,1.6,3.8,1.7,4.6,5.0,4.6,4.4,4.5,3.8,4.0,4.1,null,5.0,null,null,null,null,5.0,1.0,null,null,4.4,4.7,4.6,2.4,null,4.5,null,null,4.4,4.3,5.0,4.1,3.8,3.9,3.1,4.7,4.5,3.5,4.5,4.6,4.5,4.5,4.4,4.3,4.4,4.2,4.6,4.5,3.8,4.3,4.6,4.3,3.6,4.2,4.7,4.3,4.7,4.8,3.1,4.5,4.4,4.5,4.5,null,4.7,4.1,4.4,4.3,4.6,3.4,null,4.7,3.6,3.7,2.1,2.0,3.5,4.3,2.4,4.5,2.8,null,4.5,null,2.8,3.9,3.2,3.1,2.4,4.6,2.9,4.0,3.7,2.3,2.9,4.6,4.3,5.0,4.2,4.6,4.5,4.2,4.8,3.5,4.6,3.5,3.6,null,5.0,3.0,null,null,2.9,3.7,4.6,null,4.2,3.2,2.5,4.4,4.3,2.7,4.0,4.5,3.4,4.3,4.3,null,4.3,null,null,4.0,4.9,3.4,4.9,4.3,4.7,4.8,4.3,4.3,4.0,null,3.5,null,5.0,4.7,null,4.2,4.4,4.2,5.0,null,5.0,2.0,null,3.7,null,null,null,3.9,4.5,null,null,null,3.1,4.5,4.7,null,4.4,3.8,4.2,4.5,null,4.5,4.6,4.2,4.5,4.2,4.2,4.1,4.3,5.0,4.6,4.0,4.4,null,4.5,3.6,4.6,null,4.0,4.6,4.5,4.5,null,null,null,4.8,5.0,4.4,null,4.0,3.5,5.0,4.0,4.2,4.0,3.9,4.5,3.6,4.2,3.0,3.0,4.0,3.4,4.9,null,null,null,null,4.0,4.4,4.1,4.4,4.0,null,4.5,4.2,3.9,null,3.6,5.0,4.4,3.6,4.7,4.2,4.5,4.7,null,null,4.3,4.2,4.4,null,4.7,4.4,null,4.1,4.5,4.1,4.0,null,null,4.3,4.2,null,4.2,null,4.1,4.2,null,5.0,4.0,4.0,4.5,null,4.1,null,4.7,4.4,4.9,3.6,4.2,null,4.4,null,4.5,4.2,null,null,4.2,null,4.5,4.4,4.4,4.5,4.5,3.9,4.3,4.4,null,4.5,4.0,4.5,4.0,4.4,4.3,2.5,4.4,3.8,4.4,4.2,4.1,4.2,3.9,4.5,4.1,4.4,4.3,4.5,3.4,3.4,4.4,4.2,4.4,3.5,4.1,4.6,1.7,3.3,5.0,4.8,null,4.6,3.3,null,4.2,null,3.5,3.7,5.0,null,null,4.6,4.1,3.5,5.0,null,3.7,4.0,null,null,4.2,null,4.5,3.8,2.5,4.0,null,4.0,4.1,null,null,3.4,3.6,3.4,3.9,4.6,4.3,4.7,5.0,3.9,3.9,4.2,4.3,3.5,null,4.1,4.2,4.4,4.5,3.8,3.4,null,3.9,4.5,null,null,3.0,null,4.1,4.6,null,3.9,4.7,4.5,3.4,5.0,5.0,5.0,4.0,null,null,4.0,null,4.9,5.0,null,4.6,null,4.8,4.1,4.1,null,null,4.7,null,5.0,4.4,3.3,4.0,3.5,2.8,null,3.6,3.2,3.6,3.7,3.3,3.1,4.1,3.1,3.5,3.6,5.0,2.3,null,3.1,2.9,3.0,2.9,3.9,5.0,null,3.4,5.0,null,4.8,null,4.2,null,null,null,5.0,null,4.3,4.6,4.7,null,4.4,4.8,null,null,4.1,null,4.6,4.3,4.6,4.0,2.9,4.1,null,null,null,null,4.2,null,4.3,4.4,2.4,4.2,null,null,null,3.1,null,3.0,4.7,3.4,null,4.7,4.7,4.2,5.0,4.5,4.3,3.3,4.4,null,4.2,4.2,4.7,4.3,4.8,4.2,4.0,4.2,4.1,4.6,4.6,3.8,4.5,4.4,4.1,4.0,3.9,3.5,5.0,4.6,null,3.6,4.2,null,null,3.8,null,3.4,3.8,4.2,4.2,3.7,4.0,4.4,4.5,3.7,4.2,3.9,4.0,3.7,4.2,4.0,3.9,4.1,4.3,4.5,4.5,3.3,4.4,4.2,4.2,4.1,4.1,4.4,4.1,3.9,3.9,4.4,3.8,3.0,3.4,4.3,null,null,5.0,null,4.1,null,2.4,3.9,null,null,null,4.0,null,3.0,null,4.4,3.4,2.9,5.0,4.5,3.7,3.0,null,4.0,3.2,3.6,3.2,3.7,4.7,4.4,3.9,4.4,4.3,4.9,2.6,5.0,4.1,4.0,4.1,null,3.3,4.2,4.0,4.3,null,4.4,5.0,4.3,4.4,null,null,null,3.9,4.3,4.0,3.8,4.5,null,3.8,4.4,4.3,4.7,3.9,4.2,3.8,4.3,3.8,4.2,4.5,4.2,3.6,4.0,null,3.5,4.4,3.5,4.1,4.8,4.4,4.3,4.0,4.2,4.4,3.5,4.3,4.4,4.7,5.0,3.8,5.0,4.8,4.9,4.3,null,5.0,null,4.9,4.9,4.9,4.5,null,4.5,5.0,5.0,3.0,null,null,4.9,5.0,5.0,null,4.1,null,4.1,4.3,4.3,4.1,4.7,null,4.9,4.0,5.0,5.0,null,4.6,4.2,3.7,5.0,4.3,4.0,4.3,4.0,4.0,3.1,3.4,4.2,4.2,4.1,3.4,null,4.0,null,3.9,4.8,4.1,4.3,4.3,4.4,null,4.4,4.5,4.5,4.8,4.4,4.5,4.6,4.6,4.5,null,4.2,4.4,4.2,4.7,4.5,4.2,4.5,4.2,4.7,4.1,4.1,4.6,4.4,4.5,3.8,3.9,3.5,3.8,4.2,4.6,3.7,4.4,3.6,3.4,4.0,4.3,4.3,4.5,4.4,4.5,4.1,4.4,4.3,4.5,4.5,4.2,4.5,4.3,4.1,4.6,4.3,4.0,4.4,4.4,null,4.6,4.6,4.3,4.3,4.2,4.5,4.0,4.6,4.5,3.8,4.3,4.3,4.9,4.0,4.5,4.1,4.5,4.2,4.4,4.4,4.0,4.3,4.3,4.4,4.4,4.0,4.7,4.2,4.5,4.1,4.4,4.1,4.3,3.5,4.7,null,2.6,4.2,null,null,null,null,null,null,null,null,5.0,null,4.3,null,null,null,null,null,4.4,4.3,null,null,4.1,null,4.3,4.5,null,4.6,4.6,4.7,null,4.3,4.2,4.5,4.3,4.5,3.5,4.3,4.6,4.5,4.3,4.4,null,null,null,3.4,4.3,3.8,4.5,null,null,null,5.0,4.9,null,null,5.0,null,null,4.2,4.3,4.4,2.3,4.7,null,null,null,4.4,4.3,4.4,null,4.0,3.6,null,4.1,4.6,3.9,4.4,null,3.7,3.9,null,4.3,4.1,3.6,3.5,3.9,3.9,3.8,4.0,null,4.5,3.6,3.9,4.3,4.0,4.2,3.7,3.9,4.2,3.5,4.0,3.8,4.1,4.2,4.1,4.4,3.7,null,4.7,3.8,4.0,4.2,3.8,3.9,4.0,3.1,5.0,3.5,4.1,4.5,4.7,4.1,null,3.9,4.0,4.3,3.1,null,4.2,4.1,4.4,3.2,null,3.3,4.3,4.7,4.3,4.2,4.7,4.3,4.2,4.2,4.2,4.1,4.2,4.3,4.4,4.3,3.5,4.3,1.8,4.2,4.2,4.6,4.0,4.3,5.0,3.8,4.3,3.0,5.0,4.7,4.6,4.4,4.7,5.0,4.8,3.0,4.6,4.6,null,4.1,4.6,4.5,4.3,4.2,3.9,4.7,4.9,4.3,4.4,3.6,4.6,4.5,null,3.9,4.3,4.8,3.7,4.4,4.2,4.3,4.6,4.5,3.9,4.3,4.4,4.0,4.7,4.3,4.5,4.2,4.2,4.8,4.6,4.5,4.0,4.2,4.1,4.7,4.2,4.6,4.5,3.9,3.6,4.6,null,3.4,4.2,3.4,3.6,4.2,3.5,4.3,null,3.9,4.3,3.6,null,3.9,4.3,3.7,null,3.8,null,4.1,4.1,4.7,4.1,null,1.9,3.6,3.8,null,4.5,2.7,null,4.5,null,5.0,4.0,4.2,null,null,4.4,null,4.0,null,3.1,null,null,5.0,null,null,null,null,null,null,null,null,null,4.7,3.7,3.9,null,null,3.0,null,null,null,null,null,4.2,3.0,null,null,4.2,null,null,4.2,3.7,4.6,4.5,4.6,4.7,4.3,2.3,2.8,2.8,3.6,3.0,3.2,3.5,3.8,3.5,4.2,null,4.5,3.4,3.0,4.4,4.0,null,4.3,null,4.1,3.6,3.7,4.2,3.7,4.3,null,null,3.3,4.4,4.8,3.5,4.0,4.9,4.0,null,4.6,4.3,3.6,3.9,3.9,4.0,4.2,4.4,null,null,4.3,null,null,null,null,3.7,null,4.3,null,null,3.4,null,3.5,null,4.2,4.2,null,3.6,null,3.9,3.8,3.8,4.0,4.5,3.8,4.9,3.8,4.1,3.5,3.0,4.5,4.7,3.8,3.3,4.0,4.1,3.7,3.9,3.5,4.4,4.0,4.0,4.6,4.4,4.5,4.3,4.4,4.3,4.1,4.2,2.7,4.2,2.3,3.9,4.1,2.9,3.3,4.2,4.3,2.9,3.5,2.8,null,4.3,3.5,4.6,4.2,4.2,3.7,4.7,3.9,4.3,4.4,4.0,4.4,3.7,4.3,3.5,null,4.3,4.0,4.5,4.2,4.3,4.1,2.5,2.7,null,null,null,null,1.2,null,null,null,4.7,4.9,4.7,null,null,4.4,4.7,4.0,null,4.7,4.3,null,4.7,null,4.4,null,null,null,null,null,null,4.6,null,null,null,4.4,4.4,4.4,4.6,3.1,4.3,3.7,4.6,null,4.1,4.2,4.4,4.1,3.6,4.4,3.8,4.0,3.2,2.8,3.1,2.9,4.1,3.3,3.5,4.2,2.8,2.1,4.4,4.4,4.2,4.1,3.3,3.5,4.7,3.1,4.3,4.1,4.2,2.5,3.9,3.0,3.2,4.3,4.3,4.2,4.3,2.2,3.9,2.8,4.4,4.6,4.4,3.9,2.9,4.1,5.0,4.6,3.7,null,4.4,4.2,4.4,3.9,3.6,3.4,null,4.3,4.3,4.4,null,4.3,4.3,null,null,null,4.4,null,4.0,4.5,4.6,4.3,4.1,4.4,3.5,4.1,3.8,4.2,4.3,4.5,4.0,4.0,4.3,4.1,3.4,4.0,4.3,4.7,4.5,4.3,4.1,4.1,4.4,4.6,null,3.8,3.9,4.2,4.2,3.7,4.3,4.2,3.6,4.3,4.3,4.3,4.5,4.3,4.7,3.8,4.0,4.1,null,3.9,4.3,3.4,null,4.2,4.5,4.4,4.2,4.7,4.6,4.4,4.4,4.8,4.6,4.3,4.4,4.4,3.3,4.5,4.6,4.3,4.9,4.3,null,4.5,4.9,3.7,4.5,4.6,4.5,4.1,4.8,null,5.0,3.4,4.5,4.8,4.5,4.5,4.5,4.5,4.5,4.1,4.1,3.6,4.7,4.6,4.9,4.6,4.1,4.5,3.9,3.9,4.6,3.8,4.7,3.9,4.1,3.9,4.0,4.3,4.0,4.4,4.1,5.0,4.8,null,4.6,5.0,4.2,4.7,4.0,4.4,4.9,3.5,4.1,4.2,4.4,null,4.5,3.1,null,4.5,4.6,4.3,4.4,4.6,4.3,4.8,2.8,4.1,1.0,3.0,5.0,4.5,null,null,null,null,null,null,null,5.0,4.1,null,null,null,4.4,3.0,null,3.8,null,3.9,null,null,null,5.0,null,null,null,4.5,null,null,null,5.0,null,null,3.3,null,4.5,4.9,null,null,null,null,null,null,4.3,4.5,4.1,4.8,3.8,4.1,3.9,null,4.2,4.2,4.8,4.1,4.1,4.0,3.9,4.1,4.1,4.2,3.7,3.9,3.9,3.6,3.7,3.6,4.3,3.9,4.5,2.6,4.4,null,1.0,null,null,null,null,4.2,4.8,5.0,4.3,4.4,4.5,null,4.9,null,null,null,5.0,null,null,4.2,4.2,null,null,4.0,2.1,null,4.2,null,2.5,4.4,4.4,4.6,null,null,4.4,4.2,4.5,3.3,3.9,null,4.5,4.1,4.8,4.6,4.4,3.8,3.7,4.2,3.7,4.3,4.5,3.5,4.0,4.5,2.9,3.9,3.6,4.6,2.1,4.7,4.5,4.1,4.5,3.7,2.9,4.0,4.2,3.7,3.6,3.9,3.4,3.5,4.2,3.4,3.9,3.0,3.6,3.2,4.1,4.1,4.2,4.2,null,4.7,null,4.6,4.5,null,4.3,4.5,4.5,4.4,4.3,null,null,null,null,4.2,null,3.7,null,4.1,4.3,4.0,3.5,4.2,4.4,4.2,4.4,null,3.8,3.9,4.0,3.8,3.6,4.2,null,3.8,null,3.7,4.0,4.2,4.4,null,null,4.4,4.9,null,5.0,null,4.8,null,null,null,null,null,null,null,null,4.0,null,null,null,null,null,null,null,null,4.0,null,null,4.9,null,3.8,null,4.9,null,null,null,null,null,1.5,null,5.0,null,4.8,null,3.9,3.7,4.6,4.7,4.6,4.3,4.2,4.6,4.7,4.6,2.0,3.6,3.2,3.8,4.0,3.8,3.8,4.4,4.4,4.4,3.8,4.3,4.6,1.0,3.2,4.7,4.3,4.5,4.1,4.9,4.1,4.2,3.5,4.2,5.0,3.8,4.7,null,null,4.5,null,5.0,3.3,5.0,null,4.0,4.5,3.2,4.5,4.2,null,3.7,3.8,5.0,null,4.1,2.9,null,null,null,4.7,5.0,3.2,null,3.8,3.8,4.6,4.6,4.4,4.8,4.2,3.3,3.9,4.5,3.9,4.3,4.4,3.9,4.6,3.9,3.4,4.6,null,null,4.2,null,null,4.8,5.0,null,null,5.0,null,null,null,3.8,null,2.9,4.6,3.8,null,null,null,4.1,null,4.5,null,4.2,null,2.5,3.5,4.6,4.4,4.6,4.3,4.2,4.2,4.1,4.2,4.3,4.5,4.4,5.0,4.6,null,null,null,null,null,5.0,null,null,null,null,null,3.4,null,null,4.6,4.5,null,null,3.8,4.1,4.4,4.4,4.4,3.0,4.2,4.2,3.9,4.2,4.4,5.0,4.0,4.3,4.6,3.6,4.4,4.1,4.2,4.3,4.5,3.9,4.3,3.5,null,null,null,4.0,3.8,3.6,4.3,4.2,5.0,3.4,null,null,null,3.5,null,3.7,4.2,null,3.6,4.5,4.2,4.3,4.4,2.7,4.1,null,4.4,null,null,4.5,null,3.4,2.9,4.8,3.8,null,4.0,3.9,null,null,null,null,5.0,3.9,4.0,3.6,4.1,4.3,3.8,4.2,4.3,4.2,4.2,4.1,null,4.0,4.1,4.0,4.2,4.4,null,4.2,4.7,4.6,null,4.7,4.1,4.9,4.0,4.3,4.2,4.3,null,null,null,4.7,4.8,null,4.1,null,4.0,4.2,null,4.0,null,3.3,5.0,null,null,null,null,null,4.0,4.2,3.4,4.6,3.8,null,3.8,4.8,4.0,null,4.5,5.0,null,4.5,4.5],\"yaxis\":\"y\",\"type\":\"histogram\"}],                        {\"template\":{\"data\":{\"bar\":[{\"error_x\":{\"color\":\"#2a3f5f\"},\"error_y\":{\"color\":\"#2a3f5f\"},\"marker\":{\"line\":{\"color\":\"#E5ECF6\",\"width\":0.5},\"pattern\":{\"fillmode\":\"overlay\",\"size\":10,\"solidity\":0.2}},\"type\":\"bar\"}],\"barpolar\":[{\"marker\":{\"line\":{\"color\":\"#E5ECF6\",\"width\":0.5},\"pattern\":{\"fillmode\":\"overlay\",\"size\":10,\"solidity\":0.2}},\"type\":\"barpolar\"}],\"carpet\":[{\"aaxis\":{\"endlinecolor\":\"#2a3f5f\",\"gridcolor\":\"white\",\"linecolor\":\"white\",\"minorgridcolor\":\"white\",\"startlinecolor\":\"#2a3f5f\"},\"baxis\":{\"endlinecolor\":\"#2a3f5f\",\"gridcolor\":\"white\",\"linecolor\":\"white\",\"minorgridcolor\":\"white\",\"startlinecolor\":\"#2a3f5f\"},\"type\":\"carpet\"}],\"choropleth\":[{\"colorbar\":{\"outlinewidth\":0,\"ticks\":\"\"},\"type\":\"choropleth\"}],\"contour\":[{\"colorbar\":{\"outlinewidth\":0,\"ticks\":\"\"},\"colorscale\":[[0.0,\"#0d0887\"],[0.1111111111111111,\"#46039f\"],[0.2222222222222222,\"#7201a8\"],[0.3333333333333333,\"#9c179e\"],[0.4444444444444444,\"#bd3786\"],[0.5555555555555556,\"#d8576b\"],[0.6666666666666666,\"#ed7953\"],[0.7777777777777778,\"#fb9f3a\"],[0.8888888888888888,\"#fdca26\"],[1.0,\"#f0f921\"]],\"type\":\"contour\"}],\"contourcarpet\":[{\"colorbar\":{\"outlinewidth\":0,\"ticks\":\"\"},\"type\":\"contourcarpet\"}],\"heatmap\":[{\"colorbar\":{\"outlinewidth\":0,\"ticks\":\"\"},\"colorscale\":[[0.0,\"#0d0887\"],[0.1111111111111111,\"#46039f\"],[0.2222222222222222,\"#7201a8\"],[0.3333333333333333,\"#9c179e\"],[0.4444444444444444,\"#bd3786\"],[0.5555555555555556,\"#d8576b\"],[0.6666666666666666,\"#ed7953\"],[0.7777777777777778,\"#fb9f3a\"],[0.8888888888888888,\"#fdca26\"],[1.0,\"#f0f921\"]],\"type\":\"heatmap\"}],\"heatmapgl\":[{\"colorbar\":{\"outlinewidth\":0,\"ticks\":\"\"},\"colorscale\":[[0.0,\"#0d0887\"],[0.1111111111111111,\"#46039f\"],[0.2222222222222222,\"#7201a8\"],[0.3333333333333333,\"#9c179e\"],[0.4444444444444444,\"#bd3786\"],[0.5555555555555556,\"#d8576b\"],[0.6666666666666666,\"#ed7953\"],[0.7777777777777778,\"#fb9f3a\"],[0.8888888888888888,\"#fdca26\"],[1.0,\"#f0f921\"]],\"type\":\"heatmapgl\"}],\"histogram\":[{\"marker\":{\"pattern\":{\"fillmode\":\"overlay\",\"size\":10,\"solidity\":0.2}},\"type\":\"histogram\"}],\"histogram2d\":[{\"colorbar\":{\"outlinewidth\":0,\"ticks\":\"\"},\"colorscale\":[[0.0,\"#0d0887\"],[0.1111111111111111,\"#46039f\"],[0.2222222222222222,\"#7201a8\"],[0.3333333333333333,\"#9c179e\"],[0.4444444444444444,\"#bd3786\"],[0.5555555555555556,\"#d8576b\"],[0.6666666666666666,\"#ed7953\"],[0.7777777777777778,\"#fb9f3a\"],[0.8888888888888888,\"#fdca26\"],[1.0,\"#f0f921\"]],\"type\":\"histogram2d\"}],\"histogram2dcontour\":[{\"colorbar\":{\"outlinewidth\":0,\"ticks\":\"\"},\"colorscale\":[[0.0,\"#0d0887\"],[0.1111111111111111,\"#46039f\"],[0.2222222222222222,\"#7201a8\"],[0.3333333333333333,\"#9c179e\"],[0.4444444444444444,\"#bd3786\"],[0.5555555555555556,\"#d8576b\"],[0.6666666666666666,\"#ed7953\"],[0.7777777777777778,\"#fb9f3a\"],[0.8888888888888888,\"#fdca26\"],[1.0,\"#f0f921\"]],\"type\":\"histogram2dcontour\"}],\"mesh3d\":[{\"colorbar\":{\"outlinewidth\":0,\"ticks\":\"\"},\"type\":\"mesh3d\"}],\"parcoords\":[{\"line\":{\"colorbar\":{\"outlinewidth\":0,\"ticks\":\"\"}},\"type\":\"parcoords\"}],\"pie\":[{\"automargin\":true,\"type\":\"pie\"}],\"scatter\":[{\"marker\":{\"colorbar\":{\"outlinewidth\":0,\"ticks\":\"\"}},\"type\":\"scatter\"}],\"scatter3d\":[{\"line\":{\"colorbar\":{\"outlinewidth\":0,\"ticks\":\"\"}},\"marker\":{\"colorbar\":{\"outlinewidth\":0,\"ticks\":\"\"}},\"type\":\"scatter3d\"}],\"scattercarpet\":[{\"marker\":{\"colorbar\":{\"outlinewidth\":0,\"ticks\":\"\"}},\"type\":\"scattercarpet\"}],\"scattergeo\":[{\"marker\":{\"colorbar\":{\"outlinewidth\":0,\"ticks\":\"\"}},\"type\":\"scattergeo\"}],\"scattergl\":[{\"marker\":{\"colorbar\":{\"outlinewidth\":0,\"ticks\":\"\"}},\"type\":\"scattergl\"}],\"scattermapbox\":[{\"marker\":{\"colorbar\":{\"outlinewidth\":0,\"ticks\":\"\"}},\"type\":\"scattermapbox\"}],\"scatterpolar\":[{\"marker\":{\"colorbar\":{\"outlinewidth\":0,\"ticks\":\"\"}},\"type\":\"scatterpolar\"}],\"scatterpolargl\":[{\"marker\":{\"colorbar\":{\"outlinewidth\":0,\"ticks\":\"\"}},\"type\":\"scatterpolargl\"}],\"scatterternary\":[{\"marker\":{\"colorbar\":{\"outlinewidth\":0,\"ticks\":\"\"}},\"type\":\"scatterternary\"}],\"surface\":[{\"colorbar\":{\"outlinewidth\":0,\"ticks\":\"\"},\"colorscale\":[[0.0,\"#0d0887\"],[0.1111111111111111,\"#46039f\"],[0.2222222222222222,\"#7201a8\"],[0.3333333333333333,\"#9c179e\"],[0.4444444444444444,\"#bd3786\"],[0.5555555555555556,\"#d8576b\"],[0.6666666666666666,\"#ed7953\"],[0.7777777777777778,\"#fb9f3a\"],[0.8888888888888888,\"#fdca26\"],[1.0,\"#f0f921\"]],\"type\":\"surface\"}],\"table\":[{\"cells\":{\"fill\":{\"color\":\"#EBF0F8\"},\"line\":{\"color\":\"white\"}},\"header\":{\"fill\":{\"color\":\"#C8D4E3\"},\"line\":{\"color\":\"white\"}},\"type\":\"table\"}]},\"layout\":{\"annotationdefaults\":{\"arrowcolor\":\"#2a3f5f\",\"arrowhead\":0,\"arrowwidth\":1},\"autotypenumbers\":\"strict\",\"coloraxis\":{\"colorbar\":{\"outlinewidth\":0,\"ticks\":\"\"}},\"colorscale\":{\"diverging\":[[0,\"#8e0152\"],[0.1,\"#c51b7d\"],[0.2,\"#de77ae\"],[0.3,\"#f1b6da\"],[0.4,\"#fde0ef\"],[0.5,\"#f7f7f7\"],[0.6,\"#e6f5d0\"],[0.7,\"#b8e186\"],[0.8,\"#7fbc41\"],[0.9,\"#4d9221\"],[1,\"#276419\"]],\"sequential\":[[0.0,\"#0d0887\"],[0.1111111111111111,\"#46039f\"],[0.2222222222222222,\"#7201a8\"],[0.3333333333333333,\"#9c179e\"],[0.4444444444444444,\"#bd3786\"],[0.5555555555555556,\"#d8576b\"],[0.6666666666666666,\"#ed7953\"],[0.7777777777777778,\"#fb9f3a\"],[0.8888888888888888,\"#fdca26\"],[1.0,\"#f0f921\"]],\"sequentialminus\":[[0.0,\"#0d0887\"],[0.1111111111111111,\"#46039f\"],[0.2222222222222222,\"#7201a8\"],[0.3333333333333333,\"#9c179e\"],[0.4444444444444444,\"#bd3786\"],[0.5555555555555556,\"#d8576b\"],[0.6666666666666666,\"#ed7953\"],[0.7777777777777778,\"#fb9f3a\"],[0.8888888888888888,\"#fdca26\"],[1.0,\"#f0f921\"]]},\"colorway\":[\"#636efa\",\"#EF553B\",\"#00cc96\",\"#ab63fa\",\"#FFA15A\",\"#19d3f3\",\"#FF6692\",\"#B6E880\",\"#FF97FF\",\"#FECB52\"],\"font\":{\"color\":\"#2a3f5f\"},\"geo\":{\"bgcolor\":\"white\",\"lakecolor\":\"white\",\"landcolor\":\"#E5ECF6\",\"showlakes\":true,\"showland\":true,\"subunitcolor\":\"white\"},\"hoverlabel\":{\"align\":\"left\"},\"hovermode\":\"closest\",\"mapbox\":{\"style\":\"light\"},\"paper_bgcolor\":\"white\",\"plot_bgcolor\":\"#E5ECF6\",\"polar\":{\"angularaxis\":{\"gridcolor\":\"white\",\"linecolor\":\"white\",\"ticks\":\"\"},\"bgcolor\":\"#E5ECF6\",\"radialaxis\":{\"gridcolor\":\"white\",\"linecolor\":\"white\",\"ticks\":\"\"}},\"scene\":{\"xaxis\":{\"backgroundcolor\":\"#E5ECF6\",\"gridcolor\":\"white\",\"gridwidth\":2,\"linecolor\":\"white\",\"showbackground\":true,\"ticks\":\"\",\"zerolinecolor\":\"white\"},\"yaxis\":{\"backgroundcolor\":\"#E5ECF6\",\"gridcolor\":\"white\",\"gridwidth\":2,\"linecolor\":\"white\",\"showbackground\":true,\"ticks\":\"\",\"zerolinecolor\":\"white\"},\"zaxis\":{\"backgroundcolor\":\"#E5ECF6\",\"gridcolor\":\"white\",\"gridwidth\":2,\"linecolor\":\"white\",\"showbackground\":true,\"ticks\":\"\",\"zerolinecolor\":\"white\"}},\"shapedefaults\":{\"line\":{\"color\":\"#2a3f5f\"}},\"ternary\":{\"aaxis\":{\"gridcolor\":\"white\",\"linecolor\":\"white\",\"ticks\":\"\"},\"baxis\":{\"gridcolor\":\"white\",\"linecolor\":\"white\",\"ticks\":\"\"},\"bgcolor\":\"#E5ECF6\",\"caxis\":{\"gridcolor\":\"white\",\"linecolor\":\"white\",\"ticks\":\"\"}},\"title\":{\"x\":0.05},\"xaxis\":{\"automargin\":true,\"gridcolor\":\"white\",\"linecolor\":\"white\",\"ticks\":\"\",\"title\":{\"standoff\":15},\"zerolinecolor\":\"white\",\"zerolinewidth\":2},\"yaxis\":{\"automargin\":true,\"gridcolor\":\"white\",\"linecolor\":\"white\",\"ticks\":\"\",\"title\":{\"standoff\":15},\"zerolinecolor\":\"white\",\"zerolinewidth\":2}}},\"xaxis\":{\"anchor\":\"y\",\"domain\":[0.0,1.0],\"title\":{\"text\":\"Rating\"}},\"yaxis\":{\"anchor\":\"x\",\"domain\":[0.0,1.0],\"title\":{\"text\":\"sum of Rating\"}},\"legend\":{\"tracegroupgap\":0},\"margin\":{\"t\":60},\"barmode\":\"relative\"},                        {\"responsive\": true}                    ).then(function(){\n",
              "                            \n",
              "var gd = document.getElementById('19097bf9-4927-4bb3-9cb1-8aa157dedbe0');\n",
              "var x = new MutationObserver(function (mutations, observer) {{\n",
              "        var display = window.getComputedStyle(gd).display;\n",
              "        if (!display || display === 'none') {{\n",
              "            console.log([gd, 'removed!']);\n",
              "            Plotly.purge(gd);\n",
              "            observer.disconnect();\n",
              "        }}\n",
              "}});\n",
              "\n",
              "// Listen for the removal of the full notebook cells\n",
              "var notebookContainer = gd.closest('#notebook-container');\n",
              "if (notebookContainer) {{\n",
              "    x.observe(notebookContainer, {childList: true});\n",
              "}}\n",
              "\n",
              "// Listen for the clearing of the current output cell\n",
              "var outputEl = gd.closest('.output');\n",
              "if (outputEl) {{\n",
              "    x.observe(outputEl, {childList: true});\n",
              "}}\n",
              "\n",
              "                        })                };                            </script>        </div>\n",
              "</body>\n",
              "</html>"
            ]
          },
          "metadata": {}
        }
      ]
    },
    {
      "cell_type": "markdown",
      "source": [
        "##Cleaning 'Install'\n",
        "\n",
        "> Checking data in installs - value_counts()\n",
        "\n",
        "\n",
        "\n",
        "\n",
        "1.   Remove + sign\n",
        "2.   Remove ',' sign\n",
        "1.   Convert series to numerical value (int/Float)\n",
        "\n",
        "\n",
        "\n",
        "\n",
        "\n",
        "\n"
      ],
      "metadata": {
        "id": "15fwvMhh3-S3"
      }
    },
    {
      "cell_type": "code",
      "source": [
        "data['Installs'].value_counts()"
      ],
      "metadata": {
        "colab": {
          "base_uri": "https://localhost:8080/"
        },
        "id": "_LG_AZwJ4rnd",
        "outputId": "cb6de7b0-b646-4993-a2aa-773712c478ee"
      },
      "execution_count": null,
      "outputs": [
        {
          "output_type": "execute_result",
          "data": {
            "text/plain": [
              "1,000,000+        1579\n",
              "10,000,000+       1252\n",
              "100,000+          1169\n",
              "10,000+           1054\n",
              "1,000+             907\n",
              "5,000,000+         752\n",
              "100+               719\n",
              "500,000+           539\n",
              "50,000+            479\n",
              "5,000+             477\n",
              "100,000,000+       409\n",
              "10+                386\n",
              "500+               330\n",
              "50,000,000+        289\n",
              "50+                205\n",
              "5+                  82\n",
              "500,000,000+        72\n",
              "1+                  67\n",
              "1,000,000,000+      58\n",
              "0+                  14\n",
              "0                    1\n",
              "Name: Installs, dtype: int64"
            ]
          },
          "metadata": {},
          "execution_count": 14
        }
      ]
    },
    {
      "cell_type": "code",
      "source": [
        "data['Installs'] = data['Installs'].apply(lambda x : str(x).replace('+',''))\n",
        "data['Installs'] = data['Installs'].apply(lambda x : str(x).replace(',',''))\n",
        "data['Installs'] = pd.to_numeric(data['Installs'])\n",
        "data['Installs'].dtype"
      ],
      "metadata": {
        "id": "giJg9GGlBcJv",
        "colab": {
          "base_uri": "https://localhost:8080/"
        },
        "outputId": "4dac287b-01a7-4e27-d826-145e183a9640"
      },
      "execution_count": null,
      "outputs": [
        {
          "output_type": "execute_result",
          "data": {
            "text/plain": [
              "dtype('int64')"
            ]
          },
          "metadata": {},
          "execution_count": 15
        }
      ]
    },
    {
      "cell_type": "code",
      "source": [
        "data['Installs'].value_counts()"
      ],
      "metadata": {
        "colab": {
          "base_uri": "https://localhost:8080/"
        },
        "id": "2hFSduqU5xSc",
        "outputId": "7a9382f0-f8e2-43b5-95d4-f14ef3681274"
      },
      "execution_count": null,
      "outputs": [
        {
          "output_type": "execute_result",
          "data": {
            "text/plain": [
              "1000000       1579\n",
              "10000000      1252\n",
              "100000        1169\n",
              "10000         1054\n",
              "1000           907\n",
              "5000000        752\n",
              "100            719\n",
              "500000         539\n",
              "50000          479\n",
              "5000           477\n",
              "100000000      409\n",
              "10             386\n",
              "500            330\n",
              "50000000       289\n",
              "50             205\n",
              "5               82\n",
              "500000000       72\n",
              "1               67\n",
              "1000000000      58\n",
              "0               15\n",
              "Name: Installs, dtype: int64"
            ]
          },
          "metadata": {},
          "execution_count": 16
        }
      ]
    },
    {
      "cell_type": "markdown",
      "source": [
        "##Filling NA Value in 'Ratings' with mode value."
      ],
      "metadata": {
        "id": "KU9dwi23ydl5"
      }
    },
    {
      "cell_type": "code",
      "source": [
        "data['Rating'].fillna(data['Rating'].mode().values[0],inplace=True)\n",
        "data['Rating'] = np.where(data['Installs']==0 , 0 ,data['Rating'])\n",
        "data['Rating'] = pd.to_numeric(data['Rating'], errors='coerce')\n",
        "data[data['Installs']==0]['Rating']"
      ],
      "metadata": {
        "colab": {
          "base_uri": "https://localhost:8080/"
        },
        "id": "u_bbDRgc2rpZ",
        "outputId": "4979233a-93a6-4b37-db73-244a796bed5d"
      },
      "execution_count": null,
      "outputs": [
        {
          "output_type": "execute_result",
          "data": {
            "text/plain": [
              "4465    0.0\n",
              "5307    0.0\n",
              "5486    0.0\n",
              "5945    0.0\n",
              "6692    0.0\n",
              "7434    0.0\n",
              "8081    0.0\n",
              "8614    0.0\n",
              "8871    0.0\n",
              "9148    0.0\n",
              "9337    0.0\n",
              "9719    0.0\n",
              "9905    0.0\n",
              "9917    0.0\n",
              "9934    0.0\n",
              "Name: Rating, dtype: float64"
            ]
          },
          "metadata": {},
          "execution_count": 17
        }
      ]
    },
    {
      "cell_type": "code",
      "source": [
        "data['Rating'].isnull().sum()"
      ],
      "metadata": {
        "colab": {
          "base_uri": "https://localhost:8080/"
        },
        "id": "0wTyUxK7cvNY",
        "outputId": "964e9404-3fb2-42f1-dd58-15b59ce995dc"
      },
      "execution_count": null,
      "outputs": [
        {
          "output_type": "execute_result",
          "data": {
            "text/plain": [
              "0"
            ]
          },
          "metadata": {},
          "execution_count": 18
        }
      ]
    },
    {
      "cell_type": "code",
      "source": [
        "data.isnull().sum()"
      ],
      "metadata": {
        "colab": {
          "base_uri": "https://localhost:8080/"
        },
        "id": "J1C0DTLo3Wg-",
        "outputId": "241bca75-663f-46a9-bd19-13c3d6853ef3"
      },
      "execution_count": null,
      "outputs": [
        {
          "output_type": "execute_result",
          "data": {
            "text/plain": [
              "App               0\n",
              "Category          0\n",
              "Rating            0\n",
              "Reviews           0\n",
              "Size              0\n",
              "Installs          0\n",
              "Type              1\n",
              "Price             0\n",
              "Content_Rating    0\n",
              "Genres            0\n",
              "Last_Updated      0\n",
              "Current_Ver       8\n",
              "Android_Ver       2\n",
              "dtype: int64"
            ]
          },
          "metadata": {},
          "execution_count": 19
        }
      ]
    },
    {
      "cell_type": "markdown",
      "source": [
        "##Checking and fixing 'null' value in 'Type'\n",
        "\n",
        "\n",
        "*   A quick check from play store tell us the app is 'Free' type"
      ],
      "metadata": {
        "id": "vJopAdQzzpva"
      }
    },
    {
      "cell_type": "code",
      "source": [
        "data[data.Type.isnull()]"
      ],
      "metadata": {
        "colab": {
          "base_uri": "https://localhost:8080/",
          "height": 81
        },
        "id": "G6zFgMwtoH4E",
        "outputId": "8928f419-61cd-4790-983e-5db6fc37f307"
      },
      "execution_count": null,
      "outputs": [
        {
          "output_type": "execute_result",
          "data": {
            "text/plain": [
              "                            App Category  Rating Reviews                Size  \\\n",
              "9148  Command & Conquer: Rivals   FAMILY     0.0       0  Varies with device   \n",
              "\n",
              "      Installs Type Price Content_Rating    Genres   Last_Updated  \\\n",
              "9148         0  NaN     0   Everyone 10+  Strategy  June 28, 2018   \n",
              "\n",
              "             Current_Ver         Android_Ver  \n",
              "9148  Varies with device  Varies with device  "
            ],
            "text/html": [
              "\n",
              "  <div id=\"df-68cd1141-affb-4499-b1cb-0da4285685d0\">\n",
              "    <div class=\"colab-df-container\">\n",
              "      <div>\n",
              "<style scoped>\n",
              "    .dataframe tbody tr th:only-of-type {\n",
              "        vertical-align: middle;\n",
              "    }\n",
              "\n",
              "    .dataframe tbody tr th {\n",
              "        vertical-align: top;\n",
              "    }\n",
              "\n",
              "    .dataframe thead th {\n",
              "        text-align: right;\n",
              "    }\n",
              "</style>\n",
              "<table border=\"1\" class=\"dataframe\">\n",
              "  <thead>\n",
              "    <tr style=\"text-align: right;\">\n",
              "      <th></th>\n",
              "      <th>App</th>\n",
              "      <th>Category</th>\n",
              "      <th>Rating</th>\n",
              "      <th>Reviews</th>\n",
              "      <th>Size</th>\n",
              "      <th>Installs</th>\n",
              "      <th>Type</th>\n",
              "      <th>Price</th>\n",
              "      <th>Content_Rating</th>\n",
              "      <th>Genres</th>\n",
              "      <th>Last_Updated</th>\n",
              "      <th>Current_Ver</th>\n",
              "      <th>Android_Ver</th>\n",
              "    </tr>\n",
              "  </thead>\n",
              "  <tbody>\n",
              "    <tr>\n",
              "      <th>9148</th>\n",
              "      <td>Command &amp; Conquer: Rivals</td>\n",
              "      <td>FAMILY</td>\n",
              "      <td>0.0</td>\n",
              "      <td>0</td>\n",
              "      <td>Varies with device</td>\n",
              "      <td>0</td>\n",
              "      <td>NaN</td>\n",
              "      <td>0</td>\n",
              "      <td>Everyone 10+</td>\n",
              "      <td>Strategy</td>\n",
              "      <td>June 28, 2018</td>\n",
              "      <td>Varies with device</td>\n",
              "      <td>Varies with device</td>\n",
              "    </tr>\n",
              "  </tbody>\n",
              "</table>\n",
              "</div>\n",
              "      <button class=\"colab-df-convert\" onclick=\"convertToInteractive('df-68cd1141-affb-4499-b1cb-0da4285685d0')\"\n",
              "              title=\"Convert this dataframe to an interactive table.\"\n",
              "              style=\"display:none;\">\n",
              "        \n",
              "  <svg xmlns=\"http://www.w3.org/2000/svg\" height=\"24px\"viewBox=\"0 0 24 24\"\n",
              "       width=\"24px\">\n",
              "    <path d=\"M0 0h24v24H0V0z\" fill=\"none\"/>\n",
              "    <path d=\"M18.56 5.44l.94 2.06.94-2.06 2.06-.94-2.06-.94-.94-2.06-.94 2.06-2.06.94zm-11 1L8.5 8.5l.94-2.06 2.06-.94-2.06-.94L8.5 2.5l-.94 2.06-2.06.94zm10 10l.94 2.06.94-2.06 2.06-.94-2.06-.94-.94-2.06-.94 2.06-2.06.94z\"/><path d=\"M17.41 7.96l-1.37-1.37c-.4-.4-.92-.59-1.43-.59-.52 0-1.04.2-1.43.59L10.3 9.45l-7.72 7.72c-.78.78-.78 2.05 0 2.83L4 21.41c.39.39.9.59 1.41.59.51 0 1.02-.2 1.41-.59l7.78-7.78 2.81-2.81c.8-.78.8-2.07 0-2.86zM5.41 20L4 18.59l7.72-7.72 1.47 1.35L5.41 20z\"/>\n",
              "  </svg>\n",
              "      </button>\n",
              "      \n",
              "  <style>\n",
              "    .colab-df-container {\n",
              "      display:flex;\n",
              "      flex-wrap:wrap;\n",
              "      gap: 12px;\n",
              "    }\n",
              "\n",
              "    .colab-df-convert {\n",
              "      background-color: #E8F0FE;\n",
              "      border: none;\n",
              "      border-radius: 50%;\n",
              "      cursor: pointer;\n",
              "      display: none;\n",
              "      fill: #1967D2;\n",
              "      height: 32px;\n",
              "      padding: 0 0 0 0;\n",
              "      width: 32px;\n",
              "    }\n",
              "\n",
              "    .colab-df-convert:hover {\n",
              "      background-color: #E2EBFA;\n",
              "      box-shadow: 0px 1px 2px rgba(60, 64, 67, 0.3), 0px 1px 3px 1px rgba(60, 64, 67, 0.15);\n",
              "      fill: #174EA6;\n",
              "    }\n",
              "\n",
              "    [theme=dark] .colab-df-convert {\n",
              "      background-color: #3B4455;\n",
              "      fill: #D2E3FC;\n",
              "    }\n",
              "\n",
              "    [theme=dark] .colab-df-convert:hover {\n",
              "      background-color: #434B5C;\n",
              "      box-shadow: 0px 1px 3px 1px rgba(0, 0, 0, 0.15);\n",
              "      filter: drop-shadow(0px 1px 2px rgba(0, 0, 0, 0.3));\n",
              "      fill: #FFFFFF;\n",
              "    }\n",
              "  </style>\n",
              "\n",
              "      <script>\n",
              "        const buttonEl =\n",
              "          document.querySelector('#df-68cd1141-affb-4499-b1cb-0da4285685d0 button.colab-df-convert');\n",
              "        buttonEl.style.display =\n",
              "          google.colab.kernel.accessAllowed ? 'block' : 'none';\n",
              "\n",
              "        async function convertToInteractive(key) {\n",
              "          const element = document.querySelector('#df-68cd1141-affb-4499-b1cb-0da4285685d0');\n",
              "          const dataTable =\n",
              "            await google.colab.kernel.invokeFunction('convertToInteractive',\n",
              "                                                     [key], {});\n",
              "          if (!dataTable) return;\n",
              "\n",
              "          const docLinkHtml = 'Like what you see? Visit the ' +\n",
              "            '<a target=\"_blank\" href=https://colab.research.google.com/notebooks/data_table.ipynb>data table notebook</a>'\n",
              "            + ' to learn more about interactive tables.';\n",
              "          element.innerHTML = '';\n",
              "          dataTable['output_type'] = 'display_data';\n",
              "          await google.colab.output.renderOutput(dataTable, element);\n",
              "          const docLink = document.createElement('div');\n",
              "          docLink.innerHTML = docLinkHtml;\n",
              "          element.appendChild(docLink);\n",
              "        }\n",
              "      </script>\n",
              "    </div>\n",
              "  </div>\n",
              "  "
            ]
          },
          "metadata": {},
          "execution_count": 20
        }
      ]
    },
    {
      "cell_type": "code",
      "source": [
        "data['Type'].fillna(\"Free\", inplace = True)"
      ],
      "metadata": {
        "id": "O62Muf1dovVo"
      },
      "execution_count": null,
      "outputs": []
    },
    {
      "cell_type": "markdown",
      "source": [
        "## Checking overall null values in data"
      ],
      "metadata": {
        "id": "UQZ6ZE3nyoQ_"
      }
    },
    {
      "cell_type": "code",
      "source": [
        "data.isnull().sum()"
      ],
      "metadata": {
        "colab": {
          "base_uri": "https://localhost:8080/"
        },
        "id": "Yc3u-iHXz0WR",
        "outputId": "fb54fd73-4028-4018-d0b7-a4b5d79f0d1b"
      },
      "execution_count": null,
      "outputs": [
        {
          "output_type": "execute_result",
          "data": {
            "text/plain": [
              "App               0\n",
              "Category          0\n",
              "Rating            0\n",
              "Reviews           0\n",
              "Size              0\n",
              "Installs          0\n",
              "Type              0\n",
              "Price             0\n",
              "Content_Rating    0\n",
              "Genres            0\n",
              "Last_Updated      0\n",
              "Current_Ver       8\n",
              "Android_Ver       2\n",
              "dtype: int64"
            ]
          },
          "metadata": {},
          "execution_count": 22
        }
      ]
    },
    {
      "cell_type": "markdown",
      "source": [
        "##Fixing NA value in 'Type', 'Current_Ver', 'Android_Ver' with mode()0"
      ],
      "metadata": {
        "id": "NMLOIdZyvJlL"
      }
    },
    {
      "cell_type": "code",
      "source": [
        "data['Type'].fillna(str(data['Type'].mode().values[0]),inplace=True)\n",
        "data['Current_Ver'].fillna(str(data['Current_Ver'].mode().values[0]),inplace=True)\n",
        "data['Android_Ver'].fillna(str(data['Android_Ver'].mode().values[0]),inplace=True)"
      ],
      "metadata": {
        "id": "_yZ3gThe9FRG"
      },
      "execution_count": null,
      "outputs": []
    },
    {
      "cell_type": "code",
      "source": [
        "data.isnull().sum()"
      ],
      "metadata": {
        "colab": {
          "base_uri": "https://localhost:8080/"
        },
        "id": "kfbS6CY4_J6u",
        "outputId": "f0e88418-4927-4a1f-b900-3e4e77ada985"
      },
      "execution_count": null,
      "outputs": [
        {
          "output_type": "execute_result",
          "data": {
            "text/plain": [
              "App               0\n",
              "Category          0\n",
              "Rating            0\n",
              "Reviews           0\n",
              "Size              0\n",
              "Installs          0\n",
              "Type              0\n",
              "Price             0\n",
              "Content_Rating    0\n",
              "Genres            0\n",
              "Last_Updated      0\n",
              "Current_Ver       0\n",
              "Android_Ver       0\n",
              "dtype: int64"
            ]
          },
          "metadata": {},
          "execution_count": 24
        }
      ]
    },
    {
      "cell_type": "code",
      "source": [
        "data.head(5)"
      ],
      "metadata": {
        "colab": {
          "base_uri": "https://localhost:8080/",
          "height": 319
        },
        "id": "M2je8CnJDuOe",
        "outputId": "04ae4e92-878d-40e7-a995-14d4e829dbdb"
      },
      "execution_count": null,
      "outputs": [
        {
          "output_type": "execute_result",
          "data": {
            "text/plain": [
              "                                                 App        Category  Rating  \\\n",
              "0     Photo Editor & Candy Camera & Grid & ScrapBook  ART_AND_DESIGN     4.1   \n",
              "1                                Coloring book moana  ART_AND_DESIGN     3.9   \n",
              "2  U Launcher Lite – FREE Live Cool Themes, Hide ...  ART_AND_DESIGN     4.7   \n",
              "3                              Sketch - Draw & Paint  ART_AND_DESIGN     4.5   \n",
              "4              Pixel Draw - Number Art Coloring Book  ART_AND_DESIGN     4.3   \n",
              "\n",
              "  Reviews  Size  Installs  Type Price Content_Rating  \\\n",
              "0     159   19M     10000  Free     0       Everyone   \n",
              "1     967   14M    500000  Free     0       Everyone   \n",
              "2   87510  8.7M   5000000  Free     0       Everyone   \n",
              "3  215644   25M  50000000  Free     0           Teen   \n",
              "4     967  2.8M    100000  Free     0       Everyone   \n",
              "\n",
              "                      Genres      Last_Updated         Current_Ver  \\\n",
              "0               Art & Design   January 7, 2018               1.0.0   \n",
              "1  Art & Design;Pretend Play  January 15, 2018               2.0.0   \n",
              "2               Art & Design    August 1, 2018               1.2.4   \n",
              "3               Art & Design      June 8, 2018  Varies with device   \n",
              "4    Art & Design;Creativity     June 20, 2018                 1.1   \n",
              "\n",
              "    Android_Ver  \n",
              "0  4.0.3 and up  \n",
              "1  4.0.3 and up  \n",
              "2  4.0.3 and up  \n",
              "3    4.2 and up  \n",
              "4    4.4 and up  "
            ],
            "text/html": [
              "\n",
              "  <div id=\"df-04b74876-3dce-4903-a8ea-0483455ebd90\">\n",
              "    <div class=\"colab-df-container\">\n",
              "      <div>\n",
              "<style scoped>\n",
              "    .dataframe tbody tr th:only-of-type {\n",
              "        vertical-align: middle;\n",
              "    }\n",
              "\n",
              "    .dataframe tbody tr th {\n",
              "        vertical-align: top;\n",
              "    }\n",
              "\n",
              "    .dataframe thead th {\n",
              "        text-align: right;\n",
              "    }\n",
              "</style>\n",
              "<table border=\"1\" class=\"dataframe\">\n",
              "  <thead>\n",
              "    <tr style=\"text-align: right;\">\n",
              "      <th></th>\n",
              "      <th>App</th>\n",
              "      <th>Category</th>\n",
              "      <th>Rating</th>\n",
              "      <th>Reviews</th>\n",
              "      <th>Size</th>\n",
              "      <th>Installs</th>\n",
              "      <th>Type</th>\n",
              "      <th>Price</th>\n",
              "      <th>Content_Rating</th>\n",
              "      <th>Genres</th>\n",
              "      <th>Last_Updated</th>\n",
              "      <th>Current_Ver</th>\n",
              "      <th>Android_Ver</th>\n",
              "    </tr>\n",
              "  </thead>\n",
              "  <tbody>\n",
              "    <tr>\n",
              "      <th>0</th>\n",
              "      <td>Photo Editor &amp; Candy Camera &amp; Grid &amp; ScrapBook</td>\n",
              "      <td>ART_AND_DESIGN</td>\n",
              "      <td>4.1</td>\n",
              "      <td>159</td>\n",
              "      <td>19M</td>\n",
              "      <td>10000</td>\n",
              "      <td>Free</td>\n",
              "      <td>0</td>\n",
              "      <td>Everyone</td>\n",
              "      <td>Art &amp; Design</td>\n",
              "      <td>January 7, 2018</td>\n",
              "      <td>1.0.0</td>\n",
              "      <td>4.0.3 and up</td>\n",
              "    </tr>\n",
              "    <tr>\n",
              "      <th>1</th>\n",
              "      <td>Coloring book moana</td>\n",
              "      <td>ART_AND_DESIGN</td>\n",
              "      <td>3.9</td>\n",
              "      <td>967</td>\n",
              "      <td>14M</td>\n",
              "      <td>500000</td>\n",
              "      <td>Free</td>\n",
              "      <td>0</td>\n",
              "      <td>Everyone</td>\n",
              "      <td>Art &amp; Design;Pretend Play</td>\n",
              "      <td>January 15, 2018</td>\n",
              "      <td>2.0.0</td>\n",
              "      <td>4.0.3 and up</td>\n",
              "    </tr>\n",
              "    <tr>\n",
              "      <th>2</th>\n",
              "      <td>U Launcher Lite – FREE Live Cool Themes, Hide ...</td>\n",
              "      <td>ART_AND_DESIGN</td>\n",
              "      <td>4.7</td>\n",
              "      <td>87510</td>\n",
              "      <td>8.7M</td>\n",
              "      <td>5000000</td>\n",
              "      <td>Free</td>\n",
              "      <td>0</td>\n",
              "      <td>Everyone</td>\n",
              "      <td>Art &amp; Design</td>\n",
              "      <td>August 1, 2018</td>\n",
              "      <td>1.2.4</td>\n",
              "      <td>4.0.3 and up</td>\n",
              "    </tr>\n",
              "    <tr>\n",
              "      <th>3</th>\n",
              "      <td>Sketch - Draw &amp; Paint</td>\n",
              "      <td>ART_AND_DESIGN</td>\n",
              "      <td>4.5</td>\n",
              "      <td>215644</td>\n",
              "      <td>25M</td>\n",
              "      <td>50000000</td>\n",
              "      <td>Free</td>\n",
              "      <td>0</td>\n",
              "      <td>Teen</td>\n",
              "      <td>Art &amp; Design</td>\n",
              "      <td>June 8, 2018</td>\n",
              "      <td>Varies with device</td>\n",
              "      <td>4.2 and up</td>\n",
              "    </tr>\n",
              "    <tr>\n",
              "      <th>4</th>\n",
              "      <td>Pixel Draw - Number Art Coloring Book</td>\n",
              "      <td>ART_AND_DESIGN</td>\n",
              "      <td>4.3</td>\n",
              "      <td>967</td>\n",
              "      <td>2.8M</td>\n",
              "      <td>100000</td>\n",
              "      <td>Free</td>\n",
              "      <td>0</td>\n",
              "      <td>Everyone</td>\n",
              "      <td>Art &amp; Design;Creativity</td>\n",
              "      <td>June 20, 2018</td>\n",
              "      <td>1.1</td>\n",
              "      <td>4.4 and up</td>\n",
              "    </tr>\n",
              "  </tbody>\n",
              "</table>\n",
              "</div>\n",
              "      <button class=\"colab-df-convert\" onclick=\"convertToInteractive('df-04b74876-3dce-4903-a8ea-0483455ebd90')\"\n",
              "              title=\"Convert this dataframe to an interactive table.\"\n",
              "              style=\"display:none;\">\n",
              "        \n",
              "  <svg xmlns=\"http://www.w3.org/2000/svg\" height=\"24px\"viewBox=\"0 0 24 24\"\n",
              "       width=\"24px\">\n",
              "    <path d=\"M0 0h24v24H0V0z\" fill=\"none\"/>\n",
              "    <path d=\"M18.56 5.44l.94 2.06.94-2.06 2.06-.94-2.06-.94-.94-2.06-.94 2.06-2.06.94zm-11 1L8.5 8.5l.94-2.06 2.06-.94-2.06-.94L8.5 2.5l-.94 2.06-2.06.94zm10 10l.94 2.06.94-2.06 2.06-.94-2.06-.94-.94-2.06-.94 2.06-2.06.94z\"/><path d=\"M17.41 7.96l-1.37-1.37c-.4-.4-.92-.59-1.43-.59-.52 0-1.04.2-1.43.59L10.3 9.45l-7.72 7.72c-.78.78-.78 2.05 0 2.83L4 21.41c.39.39.9.59 1.41.59.51 0 1.02-.2 1.41-.59l7.78-7.78 2.81-2.81c.8-.78.8-2.07 0-2.86zM5.41 20L4 18.59l7.72-7.72 1.47 1.35L5.41 20z\"/>\n",
              "  </svg>\n",
              "      </button>\n",
              "      \n",
              "  <style>\n",
              "    .colab-df-container {\n",
              "      display:flex;\n",
              "      flex-wrap:wrap;\n",
              "      gap: 12px;\n",
              "    }\n",
              "\n",
              "    .colab-df-convert {\n",
              "      background-color: #E8F0FE;\n",
              "      border: none;\n",
              "      border-radius: 50%;\n",
              "      cursor: pointer;\n",
              "      display: none;\n",
              "      fill: #1967D2;\n",
              "      height: 32px;\n",
              "      padding: 0 0 0 0;\n",
              "      width: 32px;\n",
              "    }\n",
              "\n",
              "    .colab-df-convert:hover {\n",
              "      background-color: #E2EBFA;\n",
              "      box-shadow: 0px 1px 2px rgba(60, 64, 67, 0.3), 0px 1px 3px 1px rgba(60, 64, 67, 0.15);\n",
              "      fill: #174EA6;\n",
              "    }\n",
              "\n",
              "    [theme=dark] .colab-df-convert {\n",
              "      background-color: #3B4455;\n",
              "      fill: #D2E3FC;\n",
              "    }\n",
              "\n",
              "    [theme=dark] .colab-df-convert:hover {\n",
              "      background-color: #434B5C;\n",
              "      box-shadow: 0px 1px 3px 1px rgba(0, 0, 0, 0.15);\n",
              "      filter: drop-shadow(0px 1px 2px rgba(0, 0, 0, 0.3));\n",
              "      fill: #FFFFFF;\n",
              "    }\n",
              "  </style>\n",
              "\n",
              "      <script>\n",
              "        const buttonEl =\n",
              "          document.querySelector('#df-04b74876-3dce-4903-a8ea-0483455ebd90 button.colab-df-convert');\n",
              "        buttonEl.style.display =\n",
              "          google.colab.kernel.accessAllowed ? 'block' : 'none';\n",
              "\n",
              "        async function convertToInteractive(key) {\n",
              "          const element = document.querySelector('#df-04b74876-3dce-4903-a8ea-0483455ebd90');\n",
              "          const dataTable =\n",
              "            await google.colab.kernel.invokeFunction('convertToInteractive',\n",
              "                                                     [key], {});\n",
              "          if (!dataTable) return;\n",
              "\n",
              "          const docLinkHtml = 'Like what you see? Visit the ' +\n",
              "            '<a target=\"_blank\" href=https://colab.research.google.com/notebooks/data_table.ipynb>data table notebook</a>'\n",
              "            + ' to learn more about interactive tables.';\n",
              "          element.innerHTML = '';\n",
              "          dataTable['output_type'] = 'display_data';\n",
              "          await google.colab.output.renderOutput(dataTable, element);\n",
              "          const docLink = document.createElement('div');\n",
              "          docLink.innerHTML = docLinkHtml;\n",
              "          element.appendChild(docLink);\n",
              "        }\n",
              "      </script>\n",
              "    </div>\n",
              "  </div>\n",
              "  "
            ]
          },
          "metadata": {},
          "execution_count": 25
        }
      ]
    },
    {
      "cell_type": "markdown",
      "source": [
        "##Cleaning 'Price'\n",
        "\n",
        "1.   Remove '$' currency symbol\n",
        "2.   Converting series to numerical value (int/float)\n",
        "\n",
        "\n",
        "\n"
      ],
      "metadata": {
        "id": "YHJxNtn-wXra"
      }
    },
    {
      "cell_type": "code",
      "source": [
        "data['Price'] = data['Price'].apply(lambda x : str(x).replace('$',''))\n",
        "data['Price'] = pd.to_numeric(data['Price'])\n",
        "data['Price'].dtype"
      ],
      "metadata": {
        "colab": {
          "base_uri": "https://localhost:8080/"
        },
        "id": "oA1ABintwmCp",
        "outputId": "d2959680-ad0c-4e32-8068-84f63ce4008c"
      },
      "execution_count": null,
      "outputs": [
        {
          "output_type": "execute_result",
          "data": {
            "text/plain": [
              "dtype('float64')"
            ]
          },
          "metadata": {},
          "execution_count": 26
        }
      ]
    },
    {
      "cell_type": "markdown",
      "source": [
        "##Cleaning 'Size' :\n",
        "\n",
        "\n",
        "> size analysis - value_counts()\n",
        "\n",
        "\n",
        "1. Replace 'Varies with...' with np.NaN\n",
        "2. Replace 'M' to e+6 or 000000\n",
        "3. Replace 'K' to e+3 or 000\n",
        "4. Remove '+' \n",
        "5. remove ',' \n",
        "6. Convert all Sizes to numeric value"
      ],
      "metadata": {
        "id": "NVT23L7or_Ro"
      }
    },
    {
      "cell_type": "code",
      "source": [
        "data['Size'].value_counts()"
      ],
      "metadata": {
        "colab": {
          "base_uri": "https://localhost:8080/"
        },
        "id": "WeXCB3f87Ey3",
        "outputId": "d6defc50-2d45-4858-98f9-56386bc44287"
      },
      "execution_count": null,
      "outputs": [
        {
          "output_type": "execute_result",
          "data": {
            "text/plain": [
              "Varies with device    1695\n",
              "11M                    198\n",
              "12M                    196\n",
              "14M                    194\n",
              "13M                    191\n",
              "                      ... \n",
              "430k                     1\n",
              "429k                     1\n",
              "200k                     1\n",
              "460k                     1\n",
              "619k                     1\n",
              "Name: Size, Length: 461, dtype: int64"
            ]
          },
          "metadata": {},
          "execution_count": 27
        }
      ]
    },
    {
      "cell_type": "code",
      "source": [
        "data['Size'] = data.Size.replace(\"Varies with device\",np.nan)\n",
        "data['Size'] = data.Size.str.replace(\"M\",\"e+6\")\n",
        "data['Size'] = data.Size.str.replace(\"k\",\"e+3\")\n",
        "data['Size'] = data.Size.replace(\"1,000+\",1000)\n",
        "data['Size'] = pd.to_numeric(data['Size'])\n",
        "data['Size'].dtype"
      ],
      "metadata": {
        "colab": {
          "base_uri": "https://localhost:8080/"
        },
        "id": "EggLx4XmO7L-",
        "outputId": "ad1e422b-fab9-4c7e-f269-da26f29df102"
      },
      "execution_count": null,
      "outputs": [
        {
          "output_type": "execute_result",
          "data": {
            "text/plain": [
              "dtype('float64')"
            ]
          },
          "metadata": {},
          "execution_count": 28
        }
      ]
    },
    {
      "cell_type": "code",
      "source": [
        "data['Size'].value_counts()"
      ],
      "metadata": {
        "colab": {
          "base_uri": "https://localhost:8080/"
        },
        "id": "V2dVPwoc6dej",
        "outputId": "cc106877-3a38-4c04-a776-7a8180a85668"
      },
      "execution_count": null,
      "outputs": [
        {
          "output_type": "execute_result",
          "data": {
            "text/plain": [
              "11000000.0    198\n",
              "12000000.0    196\n",
              "14000000.0    194\n",
              "13000000.0    191\n",
              "15000000.0    184\n",
              "             ... \n",
              "430000.0        1\n",
              "429000.0        1\n",
              "200000.0        1\n",
              "460000.0        1\n",
              "619000.0        1\n",
              "Name: Size, Length: 459, dtype: int64"
            ]
          },
          "metadata": {},
          "execution_count": 29
        }
      ]
    },
    {
      "cell_type": "markdown",
      "source": [
        "##Dropping rows with Duplicate APP data"
      ],
      "metadata": {
        "id": "AdrdCLaGPnBb"
      }
    },
    {
      "cell_type": "code",
      "source": [
        "data['App'].value_counts()"
      ],
      "metadata": {
        "colab": {
          "base_uri": "https://localhost:8080/"
        },
        "id": "1rcJOnjUPuB6",
        "outputId": "baba1189-0c50-4fdb-f498-f832eac6df11"
      },
      "execution_count": null,
      "outputs": [
        {
          "output_type": "execute_result",
          "data": {
            "text/plain": [
              "ROBLOX                                                9\n",
              "CBS Sports App - Scores, News, Stats & Watch Live     8\n",
              "ESPN                                                  7\n",
              "Duolingo: Learn Languages Free                        7\n",
              "Candy Crush Saga                                      7\n",
              "                                                     ..\n",
              "Meet U - Get Friends for Snapchat, Kik & Instagram    1\n",
              "U-Report                                              1\n",
              "U of I Community Credit Union                         1\n",
              "Waiting For U Launcher Theme                          1\n",
              "iHoroscope - 2018 Daily Horoscope & Astrology         1\n",
              "Name: App, Length: 9659, dtype: int64"
            ]
          },
          "metadata": {},
          "execution_count": 30
        }
      ]
    },
    {
      "cell_type": "code",
      "source": [
        "data.App.count()"
      ],
      "metadata": {
        "colab": {
          "base_uri": "https://localhost:8080/"
        },
        "id": "uVrICXi4RtfV",
        "outputId": "a681779a-e0d9-4764-fcd3-86110e55d5a2"
      },
      "execution_count": null,
      "outputs": [
        {
          "output_type": "execute_result",
          "data": {
            "text/plain": [
              "10840"
            ]
          },
          "metadata": {},
          "execution_count": 31
        }
      ]
    },
    {
      "cell_type": "code",
      "source": [
        "data = data.drop_duplicates(subset='App', keep=\"first\")"
      ],
      "metadata": {
        "id": "_kyRh9xUQpZz"
      },
      "execution_count": null,
      "outputs": []
    },
    {
      "cell_type": "code",
      "source": [
        "data.App.count()"
      ],
      "metadata": {
        "colab": {
          "base_uri": "https://localhost:8080/"
        },
        "id": "21Z_i7nMRqU-",
        "outputId": "58146102-4e0d-4c26-9a63-f0781f284008"
      },
      "execution_count": null,
      "outputs": [
        {
          "output_type": "execute_result",
          "data": {
            "text/plain": [
              "9659"
            ]
          },
          "metadata": {},
          "execution_count": 33
        }
      ]
    },
    {
      "cell_type": "code",
      "source": [
        "data['App'].value_counts()"
      ],
      "metadata": {
        "colab": {
          "base_uri": "https://localhost:8080/"
        },
        "id": "krE_-UiEQZSw",
        "outputId": "064599c5-8932-42b1-f156-389bff1cf6b2"
      },
      "execution_count": null,
      "outputs": [
        {
          "output_type": "execute_result",
          "data": {
            "text/plain": [
              "Photo Editor & Candy Camera & Grid & ScrapBook    1\n",
              "Tic Tac CK                                        1\n",
              "INFAMY RO                                         1\n",
              "CK Call NEW                                       1\n",
              "Ck Coif                                           1\n",
              "                                                 ..\n",
              "Bike Race Free - Top Motorcycle Racing Games      1\n",
              "Dance School Stories - Dance Dreams Come True     1\n",
              "3D Bowling                                        1\n",
              "Mind Games Pro                                    1\n",
              "iHoroscope - 2018 Daily Horoscope & Astrology     1\n",
              "Name: App, Length: 9659, dtype: int64"
            ]
          },
          "metadata": {},
          "execution_count": 34
        }
      ]
    },
    {
      "cell_type": "markdown",
      "source": [
        "##Fixing 'Reviews' data type"
      ],
      "metadata": {
        "id": "7mf9T1pHBuBB"
      }
    },
    {
      "cell_type": "code",
      "source": [
        "type(data.Reviews[1000])"
      ],
      "metadata": {
        "colab": {
          "base_uri": "https://localhost:8080/"
        },
        "id": "sSpRDHlpB2ie",
        "outputId": "e08a7f9a-ba6e-463e-a70d-ae3e3bf47bf1"
      },
      "execution_count": null,
      "outputs": [
        {
          "output_type": "execute_result",
          "data": {
            "text/plain": [
              "str"
            ]
          },
          "metadata": {},
          "execution_count": 36
        }
      ]
    },
    {
      "cell_type": "code",
      "source": [
        "data['Reviews'] = pd.to_numeric(data['Reviews'])"
      ],
      "metadata": {
        "id": "rQsHMEVYCAYb"
      },
      "execution_count": null,
      "outputs": []
    },
    {
      "cell_type": "code",
      "source": [
        "type(data.Reviews[1000])"
      ],
      "metadata": {
        "colab": {
          "base_uri": "https://localhost:8080/"
        },
        "id": "wZ3gPRZvCs_D",
        "outputId": "77999911-b60b-4e07-8b8a-7844ed6c3975"
      },
      "execution_count": null,
      "outputs": [
        {
          "output_type": "execute_result",
          "data": {
            "text/plain": [
              "numpy.int64"
            ]
          },
          "metadata": {},
          "execution_count": 38
        }
      ]
    },
    {
      "cell_type": "markdown",
      "source": [
        "##Fixing 'Genres' by spliting at ';' and converting into list"
      ],
      "metadata": {
        "id": "92QgAw-ZjqP7"
      }
    },
    {
      "cell_type": "code",
      "source": [
        "data['Genres']"
      ],
      "metadata": {
        "colab": {
          "base_uri": "https://localhost:8080/"
        },
        "id": "8W_OaPr9j06L",
        "outputId": "887a09b4-4a83-4241-bf06-1a4154b1be49"
      },
      "execution_count": null,
      "outputs": [
        {
          "output_type": "execute_result",
          "data": {
            "text/plain": [
              "0                     Art & Design\n",
              "1        Art & Design;Pretend Play\n",
              "2                     Art & Design\n",
              "3                     Art & Design\n",
              "4          Art & Design;Creativity\n",
              "                   ...            \n",
              "10836                    Education\n",
              "10837                    Education\n",
              "10838                      Medical\n",
              "10839            Books & Reference\n",
              "10840                    Lifestyle\n",
              "Name: Genres, Length: 9659, dtype: object"
            ]
          },
          "metadata": {},
          "execution_count": 48
        }
      ]
    },
    {
      "cell_type": "code",
      "source": [
        "data['Genres'] = data['Genres'].apply(lambda x : list(x.split(';')))"
      ],
      "metadata": {
        "id": "I-HHTM6Sj4h3"
      },
      "execution_count": null,
      "outputs": []
    },
    {
      "cell_type": "code",
      "source": [
        "data['Genres']"
      ],
      "metadata": {
        "colab": {
          "base_uri": "https://localhost:8080/"
        },
        "id": "rVLLrkGWj5S0",
        "outputId": "a08f94e0-8c16-428b-b584-c7645b028db5"
      },
      "execution_count": null,
      "outputs": [
        {
          "output_type": "execute_result",
          "data": {
            "text/plain": [
              "0                      [Art & Design]\n",
              "1        [Art & Design, Pretend Play]\n",
              "2                      [Art & Design]\n",
              "3                      [Art & Design]\n",
              "4          [Art & Design, Creativity]\n",
              "                     ...             \n",
              "10836                     [Education]\n",
              "10837                     [Education]\n",
              "10838                       [Medical]\n",
              "10839             [Books & Reference]\n",
              "10840                     [Lifestyle]\n",
              "Name: Genres, Length: 9659, dtype: object"
            ]
          },
          "metadata": {},
          "execution_count": 50
        }
      ]
    }
  ]
}