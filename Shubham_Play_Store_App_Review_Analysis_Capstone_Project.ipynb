{
  "nbformat": 4,
  "nbformat_minor": 0,
  "metadata": {
    "kernelspec": {
      "display_name": "Python 3",
      "language": "python",
      "name": "python3"
    },
    "language_info": {
      "codemirror_mode": {
        "name": "ipython",
        "version": 3
      },
      "file_extension": ".py",
      "mimetype": "text/x-python",
      "name": "python",
      "nbconvert_exporter": "python",
      "pygments_lexer": "ipython3",
      "version": "3.6.6"
    },
    "colab": {
      "name": "Shubham_Play Store App Review Analysis - Capstone Project.ipynb",
      "provenance": [],
      "collapsed_sections": [
        "_CJaz5dcwW94",
        "15fwvMhh3-S3",
        "KU9dwi23ydl5",
        "vJopAdQzzpva",
        "UQZ6ZE3nyoQ_",
        "NMLOIdZyvJlL",
        "YHJxNtn-wXra",
        "NVT23L7or_Ro",
        "AdrdCLaGPnBb"
      ],
      "include_colab_link": true
    }
  },
  "cells": [
    {
      "cell_type": "markdown",
      "metadata": {
        "id": "view-in-github",
        "colab_type": "text"
      },
      "source": [
        "<a href=\"https://colab.research.google.com/github/shubhamsartape/Play-Store-App-Review-Analysis---Capstone-Project/blob/main/Shubham_Play_Store_App_Review_Analysis_Capstone_Project.ipynb\" target=\"_parent\"><img src=\"https://colab.research.google.com/assets/colab-badge.svg\" alt=\"Open In Colab\"/></a>"
      ]
    },
    {
      "cell_type": "markdown",
      "metadata": {
        "id": "Y06xIdG26kRF"
      },
      "source": [
        "## <b> The Play Store apps data has enormous potential to drive app-making businesses to success. Actionable insights can be drawn for developers to work on and capture the Android market. </b>\n",
        "\n",
        "## <b> Each app (row) has values for catergory, rating, size, and more. Another dataset contains customer reviews of the android apps.</b>\n",
        "\n",
        "## <b> Explore and analyze the data to discover key factors responsible for app engagement and success. </b>"
      ]
    },
    {
      "cell_type": "markdown",
      "source": [
        "#Importing lib/Modules, reading data Files into DataFrame"
      ],
      "metadata": {
        "id": "BwLqsp2mAaoQ"
      }
    },
    {
      "cell_type": "code",
      "source": [
        "import pandas as pd\n",
        "import numpy as np\n",
        "\n",
        "import plotly.express as px\n",
        "import plotly.graph_objects as go\n",
        "from plotly.subplots import make_subplots\n",
        "\n",
        "import matplotlib.pyplot as plt\n",
        "import seaborn as sns\n",
        "\n",
        "from ast import literal_eval as le"
      ],
      "metadata": {
        "id": "GAqeDOEG9_J-"
      },
      "execution_count": null,
      "outputs": []
    },
    {
      "cell_type": "code",
      "source": [
        "from google.colab import drive\n",
        "drive.mount('/content/drive')"
      ],
      "metadata": {
        "colab": {
          "base_uri": "https://localhost:8080/"
        },
        "id": "WWmCr6bu8_TK",
        "outputId": "b3de88e3-3a28-4e61-9a15-cf3440d7f91f"
      },
      "execution_count": null,
      "outputs": [
        {
          "output_type": "stream",
          "name": "stdout",
          "text": [
            "Drive already mounted at /content/drive; to attempt to forcibly remount, call drive.mount(\"/content/drive\", force_remount=True).\n"
          ]
        }
      ]
    },
    {
      "cell_type": "code",
      "source": [
        "data = pd.read_csv('/content/drive/MyDrive/Copy of Play Store Data.csv')\n",
        "reviews = pd.read_csv('/content/drive/MyDrive/Copy of User Reviews.csv')"
      ],
      "metadata": {
        "id": "Lnqf9r-a9HEF"
      },
      "execution_count": null,
      "outputs": []
    },
    {
      "cell_type": "markdown",
      "source": [
        "# Play Store data wrangling"
      ],
      "metadata": {
        "id": "2UyPG2hGyKq9"
      }
    },
    {
      "cell_type": "code",
      "source": [
        "data.shape"
      ],
      "metadata": {
        "colab": {
          "base_uri": "https://localhost:8080/"
        },
        "id": "1kGxhZLQ13v2",
        "outputId": "6f0d4eeb-7c29-472a-c0fa-99a3dd941fee"
      },
      "execution_count": null,
      "outputs": [
        {
          "output_type": "execute_result",
          "data": {
            "text/plain": [
              "(10841, 13)"
            ]
          },
          "metadata": {},
          "execution_count": 8
        }
      ]
    },
    {
      "cell_type": "code",
      "source": [
        "data.info()"
      ],
      "metadata": {
        "colab": {
          "base_uri": "https://localhost:8080/"
        },
        "id": "VN6NeAmV92AN",
        "outputId": "a9e27cf1-c6df-4112-f97e-8a4440a84c89"
      },
      "execution_count": null,
      "outputs": [
        {
          "output_type": "stream",
          "name": "stdout",
          "text": [
            "<class 'pandas.core.frame.DataFrame'>\n",
            "RangeIndex: 10841 entries, 0 to 10840\n",
            "Data columns (total 13 columns):\n",
            " #   Column          Non-Null Count  Dtype  \n",
            "---  ------          --------------  -----  \n",
            " 0   App             10841 non-null  object \n",
            " 1   Category        10841 non-null  object \n",
            " 2   Rating          9367 non-null   float64\n",
            " 3   Reviews         10841 non-null  object \n",
            " 4   Size            10841 non-null  object \n",
            " 5   Installs        10841 non-null  object \n",
            " 6   Type            10840 non-null  object \n",
            " 7   Price           10841 non-null  object \n",
            " 8   Content Rating  10840 non-null  object \n",
            " 9   Genres          10841 non-null  object \n",
            " 10  Last Updated    10841 non-null  object \n",
            " 11  Current Ver     10833 non-null  object \n",
            " 12  Android Ver     10838 non-null  object \n",
            "dtypes: float64(1), object(12)\n",
            "memory usage: 1.1+ MB\n"
          ]
        }
      ]
    },
    {
      "cell_type": "code",
      "source": [
        "data.rename(columns={'Content Rating' : 'Content_Rating','Last Updated' : 'Last_Updated','Current Ver' : 'Current_Ver','Android Ver' : 'Android_Ver'},inplace=True)"
      ],
      "metadata": {
        "id": "o8Ck9gdXpLL9"
      },
      "execution_count": null,
      "outputs": []
    },
    {
      "cell_type": "code",
      "source": [
        "data.columns"
      ],
      "metadata": {
        "colab": {
          "base_uri": "https://localhost:8080/"
        },
        "id": "UDutHtwypnBd",
        "outputId": "1208e786-81a4-4062-89d8-96486dfd9cb2"
      },
      "execution_count": null,
      "outputs": [
        {
          "output_type": "execute_result",
          "data": {
            "text/plain": [
              "Index(['App', 'Category', 'Rating', 'Reviews', 'Size', 'Installs', 'Type',\n",
              "       'Price', 'Content_Rating', 'Genres', 'Last_Updated', 'Current_Ver',\n",
              "       'Android_Ver'],\n",
              "      dtype='object')"
            ]
          },
          "metadata": {},
          "execution_count": 11
        }
      ]
    },
    {
      "cell_type": "code",
      "source": [
        "data.boxplot()"
      ],
      "metadata": {
        "colab": {
          "base_uri": "https://localhost:8080/",
          "height": 283
        },
        "id": "ZEjH33Mg0pC_",
        "outputId": "d863928a-8823-4534-8be0-52610f451fa9"
      },
      "execution_count": null,
      "outputs": [
        {
          "output_type": "execute_result",
          "data": {
            "text/plain": [
              "<matplotlib.axes._subplots.AxesSubplot at 0x7fb81ae4db50>"
            ]
          },
          "metadata": {},
          "execution_count": 12
        },
        {
          "output_type": "display_data",
          "data": {
            "text/plain": [
              "<Figure size 432x288 with 1 Axes>"
            ],
            "image/png": "[encoded data removed]"
          },
          "metadata": {
            "needs_background": "light"
          }
        }
      ]
    },
    {
      "cell_type": "markdown",
      "source": [
        "## Fixing 'Rating'"
      ],
      "metadata": {
        "id": "_CJaz5dcwW94"
      }
    },
    {
      "cell_type": "code",
      "source": [
        "data[data.Rating>5.0]"
      ],
      "metadata": {
        "colab": {
          "base_uri": "https://localhost:8080/"
        },
        "id": "s2fvlDRowjtc",
        "outputId": "07974b81-2734-4f82-d1c1-30a27df92792"
      },
      "execution_count": null,
      "outputs": [
        {
          "output_type": "execute_result",
          "data": {
            "text/plain": [
              "                                           App Category  Rating Reviews  \\\n",
              "10472  Life Made WI-Fi Touchscreen Photo Frame      1.9    19.0    3.0M   \n",
              "\n",
              "         Size Installs Type     Price Content_Rating             Genres  \\\n",
              "10472  1,000+     Free    0  Everyone            NaN  February 11, 2018   \n",
              "\n",
              "      Last_Updated Current_Ver Android_Ver  \n",
              "10472       1.0.19  4.0 and up         NaN  "
            ],
            "text/html": [
              "\n",
              "  <div id=\"df-efa2b093-93c9-4b02-8320-e297ee5d4382\">\n",
              "    <div class=\"colab-df-container\">\n",
              "      <div>\n",
              "<style scoped>\n",
              "    .dataframe tbody tr th:only-of-type {\n",
              "        vertical-align: middle;\n",
              "    }\n",
              "\n",
              "    .dataframe tbody tr th {\n",
              "        vertical-align: top;\n",
              "    }\n",
              "\n",
              "    .dataframe thead th {\n",
              "        text-align: right;\n",
              "    }\n",
              "</style>\n",
              "<table border=\"1\" class=\"dataframe\">\n",
              "  <thead>\n",
              "    <tr style=\"text-align: right;\">\n",
              "      <th></th>\n",
              "      <th>App</th>\n",
              "      <th>Category</th>\n",
              "      <th>Rating</th>\n",
              "      <th>Reviews</th>\n",
              "      <th>Size</th>\n",
              "      <th>Installs</th>\n",
              "      <th>Type</th>\n",
              "      <th>Price</th>\n",
              "      <th>Content_Rating</th>\n",
              "      <th>Genres</th>\n",
              "      <th>Last_Updated</th>\n",
              "      <th>Current_Ver</th>\n",
              "      <th>Android_Ver</th>\n",
              "    </tr>\n",
              "  </thead>\n",
              "  <tbody>\n",
              "    <tr>\n",
              "      <th>10472</th>\n",
              "      <td>Life Made WI-Fi Touchscreen Photo Frame</td>\n",
              "      <td>1.9</td>\n",
              "      <td>19.0</td>\n",
              "      <td>3.0M</td>\n",
              "      <td>1,000+</td>\n",
              "      <td>Free</td>\n",
              "      <td>0</td>\n",
              "      <td>Everyone</td>\n",
              "      <td>NaN</td>\n",
              "      <td>February 11, 2018</td>\n",
              "      <td>1.0.19</td>\n",
              "      <td>4.0 and up</td>\n",
              "      <td>NaN</td>\n",
              "    </tr>\n",
              "  </tbody>\n",
              "</table>\n",
              "</div>\n",
              "      <button class=\"colab-df-convert\" onclick=\"convertToInteractive('df-efa2b093-93c9-4b02-8320-e297ee5d4382')\"\n",
              "              title=\"Convert this dataframe to an interactive table.\"\n",
              "              style=\"display:none;\">\n",
              "        \n",
              "  <svg xmlns=\"http://www.w3.org/2000/svg\" height=\"24px\"viewBox=\"0 0 24 24\"\n",
              "       width=\"24px\">\n",
              "    <path d=\"M0 0h24v24H0V0z\" fill=\"none\"/>\n",
              "    <path d=\"M18.56 5.44l.94 2.06.94-2.06 2.06-.94-2.06-.94-.94-2.06-.94 2.06-2.06.94zm-11 1L8.5 8.5l.94-2.06 2.06-.94-2.06-.94L8.5 2.5l-.94 2.06-2.06.94zm10 10l.94 2.06.94-2.06 2.06-.94-2.06-.94-.94-2.06-.94 2.06-2.06.94z\"/><path d=\"M17.41 7.96l-1.37-1.37c-.4-.4-.92-.59-1.43-.59-.52 0-1.04.2-1.43.59L10.3 9.45l-7.72 7.72c-.78.78-.78 2.05 0 2.83L4 21.41c.39.39.9.59 1.41.59.51 0 1.02-.2 1.41-.59l7.78-7.78 2.81-2.81c.8-.78.8-2.07 0-2.86zM5.41 20L4 18.59l7.72-7.72 1.47 1.35L5.41 20z\"/>\n",
              "  </svg>\n",
              "      </button>\n",
              "      \n",
              "  <style>\n",
              "    .colab-df-container {\n",
              "      display:flex;\n",
              "      flex-wrap:wrap;\n",
              "      gap: 12px;\n",
              "    }\n",
              "\n",
              "    .colab-df-convert {\n",
              "      background-color: #E8F0FE;\n",
              "      border: none;\n",
              "      border-radius: 50%;\n",
              "      cursor: pointer;\n",
              "      display: none;\n",
              "      fill: #1967D2;\n",
              "      height: 32px;\n",
              "      padding: 0 0 0 0;\n",
              "      width: 32px;\n",
              "    }\n",
              "\n",
              "    .colab-df-convert:hover {\n",
              "      background-color: #E2EBFA;\n",
              "      box-shadow: 0px 1px 2px rgba(60, 64, 67, 0.3), 0px 1px 3px 1px rgba(60, 64, 67, 0.15);\n",
              "      fill: #174EA6;\n",
              "    }\n",
              "\n",
              "    [theme=dark] .colab-df-convert {\n",
              "      background-color: #3B4455;\n",
              "      fill: #D2E3FC;\n",
              "    }\n",
              "\n",
              "    [theme=dark] .colab-df-convert:hover {\n",
              "      background-color: #434B5C;\n",
              "      box-shadow: 0px 1px 3px 1px rgba(0, 0, 0, 0.15);\n",
              "      filter: drop-shadow(0px 1px 2px rgba(0, 0, 0, 0.3));\n",
              "      fill: #FFFFFF;\n",
              "    }\n",
              "  </style>\n",
              "\n",
              "      <script>\n",
              "        const buttonEl =\n",
              "          document.querySelector('#df-efa2b093-93c9-4b02-8320-e297ee5d4382 button.colab-df-convert');\n",
              "        buttonEl.style.display =\n",
              "          google.colab.kernel.accessAllowed ? 'block' : 'none';\n",
              "\n",
              "        async function convertToInteractive(key) {\n",
              "          const element = document.querySelector('#df-efa2b093-93c9-4b02-8320-e297ee5d4382');\n",
              "          const dataTable =\n",
              "            await google.colab.kernel.invokeFunction('convertToInteractive',\n",
              "                                                     [key], {});\n",
              "          if (!dataTable) return;\n",
              "\n",
              "          const docLinkHtml = 'Like what you see? Visit the ' +\n",
              "            '<a target=\"_blank\" href=https://colab.research.google.com/notebooks/data_table.ipynb>data table notebook</a>'\n",
              "            + ' to learn more about interactive tables.';\n",
              "          element.innerHTML = '';\n",
              "          dataTable['output_type'] = 'display_data';\n",
              "          await google.colab.output.renderOutput(dataTable, element);\n",
              "          const docLink = document.createElement('div');\n",
              "          docLink.innerHTML = docLinkHtml;\n",
              "          element.appendChild(docLink);\n",
              "        }\n",
              "      </script>\n",
              "    </div>\n",
              "  </div>\n",
              "  "
            ]
          },
          "metadata": {},
          "execution_count": 13
        }
      ]
    },
    {
      "cell_type": "code",
      "source": [
        "data.drop([10472],inplace=True)\n",
        "data[10471:10473]"
      ],
      "metadata": {
        "colab": {
          "base_uri": "https://localhost:8080/"
        },
        "id": "Lb4YxDGywrfm",
        "outputId": "7f9b33f5-94dc-426f-9069-e51c1c3df9a5"
      },
      "execution_count": null,
      "outputs": [
        {
          "output_type": "execute_result",
          "data": {
            "text/plain": [
              "                           App         Category  Rating Reviews  Size  \\\n",
              "10471         Xposed Wi-Fi-Pwd  PERSONALIZATION     3.5    1042  404k   \n",
              "10473  osmino Wi-Fi: free WiFi            TOOLS     4.2  134203  4.1M   \n",
              "\n",
              "          Installs  Type Price Content_Rating           Genres  \\\n",
              "10471     100,000+  Free     0       Everyone  Personalization   \n",
              "10473  10,000,000+  Free     0       Everyone            Tools   \n",
              "\n",
              "         Last_Updated Current_Ver   Android_Ver  \n",
              "10471  August 5, 2014       3.0.0  4.0.3 and up  \n",
              "10473  August 7, 2018     6.06.14    4.4 and up  "
            ],
            "text/html": [
              "\n",
              "  <div id=\"df-bd0445ab-db6a-4f36-bbc1-336fd32996cd\">\n",
              "    <div class=\"colab-df-container\">\n",
              "      <div>\n",
              "<style scoped>\n",
              "    .dataframe tbody tr th:only-of-type {\n",
              "        vertical-align: middle;\n",
              "    }\n",
              "\n",
              "    .dataframe tbody tr th {\n",
              "        vertical-align: top;\n",
              "    }\n",
              "\n",
              "    .dataframe thead th {\n",
              "        text-align: right;\n",
              "    }\n",
              "</style>\n",
              "<table border=\"1\" class=\"dataframe\">\n",
              "  <thead>\n",
              "    <tr style=\"text-align: right;\">\n",
              "      <th></th>\n",
              "      <th>App</th>\n",
              "      <th>Category</th>\n",
              "      <th>Rating</th>\n",
              "      <th>Reviews</th>\n",
              "      <th>Size</th>\n",
              "      <th>Installs</th>\n",
              "      <th>Type</th>\n",
              "      <th>Price</th>\n",
              "      <th>Content_Rating</th>\n",
              "      <th>Genres</th>\n",
              "      <th>Last_Updated</th>\n",
              "      <th>Current_Ver</th>\n",
              "      <th>Android_Ver</th>\n",
              "    </tr>\n",
              "  </thead>\n",
              "  <tbody>\n",
              "    <tr>\n",
              "      <th>10471</th>\n",
              "      <td>Xposed Wi-Fi-Pwd</td>\n",
              "      <td>PERSONALIZATION</td>\n",
              "      <td>3.5</td>\n",
              "      <td>1042</td>\n",
              "      <td>404k</td>\n",
              "      <td>100,000+</td>\n",
              "      <td>Free</td>\n",
              "      <td>0</td>\n",
              "      <td>Everyone</td>\n",
              "      <td>Personalization</td>\n",
              "      <td>August 5, 2014</td>\n",
              "      <td>3.0.0</td>\n",
              "      <td>4.0.3 and up</td>\n",
              "    </tr>\n",
              "    <tr>\n",
              "      <th>10473</th>\n",
              "      <td>osmino Wi-Fi: free WiFi</td>\n",
              "      <td>TOOLS</td>\n",
              "      <td>4.2</td>\n",
              "      <td>134203</td>\n",
              "      <td>4.1M</td>\n",
              "      <td>10,000,000+</td>\n",
              "      <td>Free</td>\n",
              "      <td>0</td>\n",
              "      <td>Everyone</td>\n",
              "      <td>Tools</td>\n",
              "      <td>August 7, 2018</td>\n",
              "      <td>6.06.14</td>\n",
              "      <td>4.4 and up</td>\n",
              "    </tr>\n",
              "  </tbody>\n",
              "</table>\n",
              "</div>\n",
              "      <button class=\"colab-df-convert\" onclick=\"convertToInteractive('df-bd0445ab-db6a-4f36-bbc1-336fd32996cd')\"\n",
              "              title=\"Convert this dataframe to an interactive table.\"\n",
              "              style=\"display:none;\">\n",
              "        \n",
              "  <svg xmlns=\"http://www.w3.org/2000/svg\" height=\"24px\"viewBox=\"0 0 24 24\"\n",
              "       width=\"24px\">\n",
              "    <path d=\"M0 0h24v24H0V0z\" fill=\"none\"/>\n",
              "    <path d=\"M18.56 5.44l.94 2.06.94-2.06 2.06-.94-2.06-.94-.94-2.06-.94 2.06-2.06.94zm-11 1L8.5 8.5l.94-2.06 2.06-.94-2.06-.94L8.5 2.5l-.94 2.06-2.06.94zm10 10l.94 2.06.94-2.06 2.06-.94-2.06-.94-.94-2.06-.94 2.06-2.06.94z\"/><path d=\"M17.41 7.96l-1.37-1.37c-.4-.4-.92-.59-1.43-.59-.52 0-1.04.2-1.43.59L10.3 9.45l-7.72 7.72c-.78.78-.78 2.05 0 2.83L4 21.41c.39.39.9.59 1.41.59.51 0 1.02-.2 1.41-.59l7.78-7.78 2.81-2.81c.8-.78.8-2.07 0-2.86zM5.41 20L4 18.59l7.72-7.72 1.47 1.35L5.41 20z\"/>\n",
              "  </svg>\n",
              "      </button>\n",
              "      \n",
              "  <style>\n",
              "    .colab-df-container {\n",
              "      display:flex;\n",
              "      flex-wrap:wrap;\n",
              "      gap: 12px;\n",
              "    }\n",
              "\n",
              "    .colab-df-convert {\n",
              "      background-color: #E8F0FE;\n",
              "      border: none;\n",
              "      border-radius: 50%;\n",
              "      cursor: pointer;\n",
              "      display: none;\n",
              "      fill: #1967D2;\n",
              "      height: 32px;\n",
              "      padding: 0 0 0 0;\n",
              "      width: 32px;\n",
              "    }\n",
              "\n",
              "    .colab-df-convert:hover {\n",
              "      background-color: #E2EBFA;\n",
              "      box-shadow: 0px 1px 2px rgba(60, 64, 67, 0.3), 0px 1px 3px 1px rgba(60, 64, 67, 0.15);\n",
              "      fill: #174EA6;\n",
              "    }\n",
              "\n",
              "    [theme=dark] .colab-df-convert {\n",
              "      background-color: #3B4455;\n",
              "      fill: #D2E3FC;\n",
              "    }\n",
              "\n",
              "    [theme=dark] .colab-df-convert:hover {\n",
              "      background-color: #434B5C;\n",
              "      box-shadow: 0px 1px 3px 1px rgba(0, 0, 0, 0.15);\n",
              "      filter: drop-shadow(0px 1px 2px rgba(0, 0, 0, 0.3));\n",
              "      fill: #FFFFFF;\n",
              "    }\n",
              "  </style>\n",
              "\n",
              "      <script>\n",
              "        const buttonEl =\n",
              "          document.querySelector('#df-bd0445ab-db6a-4f36-bbc1-336fd32996cd button.colab-df-convert');\n",
              "        buttonEl.style.display =\n",
              "          google.colab.kernel.accessAllowed ? 'block' : 'none';\n",
              "\n",
              "        async function convertToInteractive(key) {\n",
              "          const element = document.querySelector('#df-bd0445ab-db6a-4f36-bbc1-336fd32996cd');\n",
              "          const dataTable =\n",
              "            await google.colab.kernel.invokeFunction('convertToInteractive',\n",
              "                                                     [key], {});\n",
              "          if (!dataTable) return;\n",
              "\n",
              "          const docLinkHtml = 'Like what you see? Visit the ' +\n",
              "            '<a target=\"_blank\" href=https://colab.research.google.com/notebooks/data_table.ipynb>data table notebook</a>'\n",
              "            + ' to learn more about interactive tables.';\n",
              "          element.innerHTML = '';\n",
              "          dataTable['output_type'] = 'display_data';\n",
              "          await google.colab.output.renderOutput(dataTable, element);\n",
              "          const docLink = document.createElement('div');\n",
              "          docLink.innerHTML = docLinkHtml;\n",
              "          element.appendChild(docLink);\n",
              "        }\n",
              "      </script>\n",
              "    </div>\n",
              "  </div>\n",
              "  "
            ]
          },
          "metadata": {},
          "execution_count": 14
        }
      ]
    },
    {
      "cell_type": "code",
      "source": [
        "px.box(data,y=\"Rating\")"
      ],
      "metadata": {
        "colab": {
          "base_uri": "https://localhost:8080/"
        },
        "id": "dGeZ8Z3wxfR9",
        "outputId": "5b9078a7-b3c8-4975-c876-7be2ff5cd7fa"
      },
      "execution_count": null,
      "outputs": [
        {
          "output_type": "display_data",
          "data": {
            "text/html": [
              "<html>\n",
              "<head><meta charset=\"utf-8\" /></head>\n",
              "<body>\n",
              "    <div>            <script src=\"https://cdnjs.cloudflare.com/ajax/libs/mathjax/2.7.5/MathJax.js?config=TeX-AMS-MML_SVG\"></script><script type=\"text/javascript\">if (window.MathJax) {MathJax.Hub.Config({SVG: {font: \"STIX-Web\"}});}</script>                <script type=\"text/javascript\">window.PlotlyConfig = {MathJaxConfig: 'local'};</script>\n",
              "        <script src=\"https://cdn.plot.ly/plotly-2.8.3.min.js\"></script>                <div id=\"23115815-3ee6-45e7-9e2d-1b22794f6f52\" class=\"plotly-graph-div\" style=\"height:525px; width:100%;\"></div>            <script type=\"text/javascript\">                                    window.PLOTLYENV=window.PLOTLYENV || {};                                    if (document.getElementById(\"23115815-3ee6-45e7-9e2d-1b22794f6f52\")) {                    Plotly.newPlot(                        \"23115815-3ee6-45e7-9e2d-1b22794f6f52\",                        [{\"alignmentgroup\":\"True\",\"hovertemplate\":\"Rating=%{y}<extra></extra>\",\"legendgroup\":\"\",\"marker\":{\"color\":\"#636efa\"},\"name\":\"\",\"notched\":false,\"offsetgroup\":\"\",\"orientation\":\"v\",\"showlegend\":false,\"x0\":\" \",\"xaxis\":\"x\",\"y\":[4.1,3.9,4.7,4.5,4.3,4.4,3.8,4.1,4.4,4.7,4.4,4.4,4.2,4.6,4.4,3.2,4.7,4.5,4.3,4.6,4.0,4.1,4.7,null,4.7,4.8,4.7,4.1,3.9,4.1,4.2,4.1,4.5,4.2,4.7,3.8,4.7,4.1,4.7,4.0,4.2,4.5,4.4,3.8,4.2,4.7,4.6,4.2,4.3,4.2,4.0,3.8,4.6,3.9,4.3,4.9,4.4,4.2,4.0,3.9,4.6,4.9,4.3,4.6,4.9,3.9,4.0,4.3,3.9,4.2,4.8,3.6,4.2,4.8,4.8,4.6,4.5,4.3,4.5,4.9,3.9,4.4,4.0,4.3,3.7,4.4,4.3,3.2,4.6,4.6,4.5,3.7,4.6,4.6,4.6,4.0,4.4,4.0,4.7,4.9,4.7,3.9,3.9,4.2,4.6,4.3,4.7,4.7,4.8,4.2,4.3,4.5,4.1,null,4.2,4.5,4.4,4.0,4.1,4.1,4.4,4.6,4.5,null,3.9,4.4,null,4.6,3.8,null,null,4.0,4.3,4.5,null,4.1,3.7,4.7,4.2,4.6,4.5,4.6,4.4,4.2,4.5,4.5,4.5,4.5,4.4,4.5,4.6,4.8,3.9,4.6,4.2,4.1,4.7,4.2,4.3,3.3,4.6,4.8,4.7,null,4.1,4.6,4.1,4.6,4.7,4.5,3.9,4.4,4.3,4.2,4.5,4.4,3.4,4.9,4.6,4.4,null,4.4,4.4,4.4,3.5,null,4.4,4.1,4.3,4.4,4.3,4.3,4.1,4.4,4.3,3.9,4.8,4.5,4.4,4.0,4.3,4.0,4.2,4.5,4.2,4.2,4.6,4.1,4.6,3.1,3.9,4.3,4.1,4.4,4.1,4.1,4.5,4.4,4.4,4.3,4.4,4.6,4.2,4.4,4.7,3.8,3.9,null,4.3,4.2,4.4,4.7,4.5,4.2,4.7,4.8,4.2,4.2,4.3,4.4,4.4,4.1,3.8,4.3,3.8,3.5,4.1,4.6,4.3,4.5,4.1,4.5,4.6,4.0,4.2,4.4,4.4,4.0,4.2,4.2,4.1,4.0,3.8,3.9,3.9,4.2,4.2,4.3,4.4,4.4,4.1,3.8,4.3,3.8,3.5,4.1,4.6,4.3,4.5,4.1,4.5,4.6,4.0,4.2,4.3,4.2,4.4,4.7,4.5,4.2,4.7,4.8,4.1,4.3,4.4,4.5,4.3,4.5,4.6,4.7,4.7,4.8,3.9,4.1,4.4,4.6,4.5,4.7,4.4,4.5,3.9,3.2,3.2,4.1,4.5,4.2,4.2,3.7,4.5,4.6,4.5,null,4.7,4.4,3.5,3.3,4.5,4.4,4.2,5.0,4.4,4.7,4.4,4.4,4.6,4.0,4.4,4.3,4.3,4.4,4.3,4.0,4.3,4.3,4.4,4.3,4.3,4.3,4.3,4.3,4.0,4.5,4.3,3.7,4.5,3.9,4.4,3.6,4.4,4.2,4.4,4.1,4.4,4.3,4.2,4.2,4.4,4.4,3.9,4.2,4.4,4.6,4.3,4.3,4.4,3.7,4.3,3.9,4.5,3.7,4.3,4.4,4.0,4.3,4.0,4.3,4.0,4.1,4.2,4.2,4.2,4.1,4.4,4.3,4.2,4.4,4.2,4.1,4.3,4.3,4.5,4.3,4.2,4.2,4.5,4.3,4.3,4.3,4.4,4.2,4.3,4.3,4.4,4.6,4.3,4.4,4.2,4.5,4.5,4.4,4.5,4.1,4.2,4.1,4.3,4.1,4.2,4.0,4.2,4.2,4.2,4.3,4.3,4.4,4.2,4.4,4.1,4.2,4.8,4.4,4.4,4.4,4.0,4.5,4.4,4.1,4.2,4.5,4.3,4.5,4.0,4.3,4.3,4.2,4.5,4.6,4.1,4.0,4.2,4.6,4.1,4.3,4.2,4.3,4.0,4.3,4.2,4.3,4.1,4.2,4.1,4.6,4.3,4.2,4.2,4.3,4.2,2.6,null,null,null,3.5,4.0,4.1,3.7,4.1,4.2,4.5,4.4,4.2,4.0,4.1,3.1,4.4,4.2,4.1,3.9,4.3,4.4,3.5,4.0,3.3,4.5,4.4,4.1,3.9,3.9,3.6,4.0,3.6,3.4,4.2,4.1,3.4,3.0,4.6,4.1,3.9,1.9,3.5,2.5,3.9,3.4,3.5,4.4,3.8,4.2,2.5,2.8,4.1,4.2,3.5,4.3,3.3,4.1,4.2,3.5,4.2,4.4,4.1,4.2,4.3,4.1,4.0,4.1,4.2,3.0,4.4,4.5,2.5,4.1,4.2,4.0,4.1,1.9,3.3,4.4,4.1,3.8,4.1,4.2,4.0,4.5,3.7,3.9,3.5,3.9,4.0,4.6,4.0,4.1,4.2,3.3,4.4,4.3,4.2,3.9,4.3,3.4,4.2,4.1,4.0,3.6,4.2,3.5,4.0,4.1,4.1,2.8,4.4,4.4,4.2,4.1,4.2,3.9,4.1,4.2,3.9,4.0,4.2,4.5,3.9,3.6,4.4,3.5,4.4,4.8,4.6,4.7,4.8,null,2.7,5.0,null,4.8,5.0,4.8,null,4.9,3.0,null,null,4.7,null,null,1.0,null,null,null,null,null,null,null,5.0,4.7,null,5.0,null,null,null,5.0,null,null,null,null,3.0,4.1,null,null,null,null,null,null,null,5.0,3.7,4.5,4.2,null,null,null,4.3,4.1,1.9,4.1,4.4,null,3.9,3.9,null,4.0,4.4,4.7,3.8,4.4,4.4,3.6,4.4,2.7,4.3,4.6,2.8,3.5,null,3.4,4.8,4.7,4.8,4.8,4.7,4.1,3.5,4.7,3.8,2.9,4.5,3.3,4.1,null,4.7,4.6,4.7,4.6,4.7,null,4.5,4.7,4.8,4.6,4.6,4.6,4.2,4.9,3.8,4.2,4.4,4.4,4.3,4.5,4.4,4.6,3.9,4.4,4.3,4.4,4.2,4.4,4.0,4.2,3.8,4.5,4.7,4.5,4.3,4.2,4.3,4.7,4.7,4.6,4.6,4.6,4.5,4.4,4.6,4.5,4.5,4.2,4.4,4.4,4.2,4.5,4.1,4.0,4.1,4.3,4.3,4.3,4.5,4.6,4.1,4.6,4.7,4.7,4.3,4.7,4.6,4.6,4.6,4.3,4.2,4.0,4.5,4.2,4.1,4.4,4.0,4.5,4.4,4.0,4.2,4.3,4.2,4.6,4.6,4.7,4.6,4.4,4.5,4.3,4.6,4.5,4.2,4.2,4.7,4.5,4.6,4.3,4.2,4.7,4.7,4.4,4.5,4.4,4.0,4.6,4.4,4.7,4.7,4.3,4.1,4.2,4.3,4.3,4.3,4.0,4.2,4.0,4.0,3.8,4.6,4.1,3.9,4.1,4.5,4.2,4.4,4.7,4.0,4.4,4.4,4.0,4.5,4.7,4.3,4.5,4.3,4.1,4.3,4.5,4.2,4.6,3.5,4.2,4.4,4.4,4.6,4.3,4.5,4.8,4.4,4.1,4.9,4.7,4.7,4.7,4.4,4.0,4.2,4.3,4.5,3.5,4.2,3.1,4.6,4.2,4.3,4.3,4.1,3.8,3.4,4.3,4.4,4.4,4.0,3.7,3.9,4.5,4.4,4.3,4.2,4.2,4.5,4.7,4.5,4.5,3.4,4.2,4.3,4.2,4.6,4.1,4.2,4.2,4.3,4.4,3.9,4.1,4.3,4.5,4.6,3.6,4.3,4.3,4.2,4.4,4.1,4.1,4.2,3.9,4.2,3.7,4.5,3.7,3.8,4.3,3.0,4.1,4.2,4.1,3.9,4.0,4.4,4.2,4.0,3.9,4.0,4.2,4.0,4.3,3.9,4.2,4.4,4.3,3.7,4.3,3.7,3.8,4.2,4.0,3.9,4.4,4.5,4.1,4.1,3.9,4.5,4.0,4.1,3.6,3.8,4.0,4.2,3.7,3.8,3.7,4.1,3.7,3.9,4.4,4.3,3.9,3.7,3.7,4.2,4.3,4.0,4.1,3.9,4.5,3.9,4.1,4.3,4.4,4.1,4.0,3.9,3.9,4.0,4.1,4.2,3.8,4.0,3.9,4.2,3.7,3.9,4.2,4.3,4.3,4.6,4.3,4.6,4.2,4.6,4.5,4.6,3.9,4.2,4.4,4.2,4.3,4.6,4.3,4.5,4.0,4.0,4.5,4.5,4.0,4.0,4.2,4.4,4.6,null,4.6,4.1,4.6,4.4,4.6,4.9,4.5,4.6,4.7,4.3,null,null,4.2,4.3,5.0,4.4,5.0,4.5,null,null,null,4.5,4.8,4.4,5.0,null,3.7,null,4.1,null,4.8,null,null,4.6,4.4,4.4,3.6,3.7,3.8,4.2,4.2,4.2,3.3,3.4,4.3,4.2,4.7,4.1,4.7,4.0,3.6,4.0,3.6,4.3,4.2,4.2,4.1,4.0,4.1,4.4,4.7,4.5,4.3,4.6,4.3,4.0,4.5,4.5,3.6,4.2,4.1,3.5,4.4,4.0,4.5,4.2,4.6,4.2,4.8,4.5,4.2,4.3,4.2,4.4,4.4,4.6,4.2,4.6,4.6,4.4,4.3,4.2,4.2,3.8,4.5,4.6,4.6,4.7,4.6,4.6,4.7,3.8,4.3,4.3,4.5,4.6,4.6,4.7,4.5,4.4,3.9,4.5,4.6,4.1,4.5,4.4,4.5,4.6,4.2,4.4,4.1,3.9,4.6,4.5,3.7,4.1,4.4,4.6,4.5,4.3,4.3,4.3,4.4,4.3,4.4,4.3,4.4,4.1,4.4,4.2,4.3,4.4,4.3,4.3,3.9,4.1,4.1,4.2,4.5,4.2,4.7,4.4,4.6,4.6,4.4,4.6,4.3,4.0,4.4,4.6,4.2,4.1,3.6,null,4.1,4.6,null,4.7,4.7,4.7,4.7,4.1,3.4,3.8,3.7,4.2,3.1,3.5,4.7,4.5,4.2,4.3,4.0,4.5,4.6,4.7,4.1,4.3,3.8,4.4,4.3,4.2,4.3,3.8,4.3,3.7,4.5,3.6,4.8,3.3,4.7,4.6,4.6,3.4,4.6,4.0,4.1,4.5,4.4,4.5,4.0,4.1,4.5,4.6,4.1,4.5,4.6,4.5,4.3,3.6,4.4,4.6,4.1,4.3,3.9,4.5,4.1,3.6,4.7,4.3,4.7,4.6,4.4,4.2,4.5,4.3,4.2,4.5,4.5,4.3,4.0,4.3,4.8,4.0,4.9,4.8,4.9,4.8,4.4,3.3,4.7,4.6,4.8,4.8,4.8,4.5,4.4,4.5,4.5,4.5,4.8,3.9,4.6,4.5,4.5,4.7,4.7,4.4,4.2,3.9,4.2,4.4,4.6,4.6,4.2,4.5,4.7,4.5,4.5,3.7,4.5,4.6,4.6,4.7,4.5,4.5,4.6,4.0,4.3,4.4,4.5,4.2,4.6,4.9,4.5,4.5,4.6,4.5,4.6,4.6,4.5,4.5,4.4,3.9,4.5,4.4,4.6,4.4,4.5,4.5,4.6,4.5,4.4,4.4,4.4,4.2,4.5,4.5,4.4,4.3,4.6,4.6,4.9,4.4,4.3,4.1,4.6,4.8,4.5,4.7,4.6,4.3,4.4,4.4,4.6,4.3,4.6,4.6,4.5,4.6,4.6,4.5,4.1,4.5,4.6,4.5,4.8,4.8,4.6,4.5,4.1,4.4,4.2,4.5,4.3,4.6,4.0,4.6,4.5,4.4,4.5,4.6,4.4,4.7,4.4,4.2,4.5,4.2,4.4,4.5,4.6,4.6,4.6,4.5,4.5,4.4,4.4,4.5,4.5,4.0,4.6,4.1,4.0,4.4,4.4,4.1,3.5,4.3,4.5,4.2,4.6,4.4,4.5,4.0,4.5,4.6,4.4,4.4,4.1,4.0,4.1,4.1,4.2,4.5,3.5,4.3,4.2,4.6,4.4,4.5,4.4,3.7,4.3,4.5,4.6,4.7,4.6,4.6,4.0,4.4,4.4,4.8,4.6,4.2,4.6,4.1,4.4,4.5,4.3,4.7,4.6,4.4,4.5,4.8,4.2,4.5,4.1,4.1,4.0,4.3,4.5,null,4.6,3.7,3.7,4.2,4.5,4.3,3.9,4.6,4.3,4.4,4.6,4.5,3.8,null,4.4,4.7,3.4,4.3,4.3,4.0,4.0,3.8,null,4.3,3.6,3.8,4.5,4.6,null,4.5,4.7,4.3,3.7,null,4.2,3.4,3.9,4.0,4.0,4.0,4.6,4.0,4.1,3.9,4.4,4.4,4.3,4.6,4.5,4.5,4.5,4.5,4.3,4.2,4.4,4.3,4.6,4.1,3.9,4.4,4.6,null,4.1,null,null,3.8,4.6,3.5,4.7,4.3,4.5,4.4,3.4,4.3,null,4.3,4.6,4.6,null,4.2,null,null,4.6,null,null,4.4,3.9,4.5,3.8,4.3,3.7,5.0,3.2,4.5,4.7,4.0,null,4.1,3.8,4.7,4.5,null,4.2,null,4.1,3.1,4.1,4.1,4.3,4.0,4.6,4.4,4.4,4.3,4.6,3.2,4.5,4.6,4.6,4.3,3.0,4.4,4.4,4.3,3.5,4.3,4.5,3.7,4.5,4.2,4.3,4.6,4.5,3.9,4.3,3.3,4.7,4.2,3.2,4.4,3.5,3.7,3.8,3.8,3.7,4.6,4.0,3.6,3.8,4.1,4.7,3.9,4.1,4.6,4.2,3.6,4.6,4.2,4.4,4.6,4.7,4.1,3.9,4.0,4.1,4.6,4.1,4.1,4.1,4.4,3.8,4.3,4.1,4.1,4.1,4.4,3.8,4.3,4.4,4.2,4.4,4.3,4.1,4.0,4.2,4.1,3.9,4.4,4.6,4.5,4.5,4.8,4.4,4.5,4.5,4.6,4.5,4.5,4.5,4.4,4.7,4.5,4.2,4.4,4.6,4.3,4.3,4.2,4.6,4.4,4.4,4.5,4.4,4.3,4.6,4.3,4.2,4.2,4.5,4.5,4.5,4.7,4.7,4.5,4.4,4.3,3.8,4.6,4.6,4.4,4.3,4.1,4.3,4.4,4.6,4.3,4.4,4.7,4.5,4.4,4.6,4.5,4.4,4.6,4.5,4.5,4.3,4.5,4.6,4.4,4.4,4.5,4.7,4.6,4.5,4.5,4.7,4.5,4.8,4.7,4.4,4.6,4.5,4.6,4.7,4.6,4.5,4.6,4.5,4.6,4.4,4.7,4.3,4.3,4.4,4.3,4.5,4.4,4.5,4.4,4.5,4.6,4.7,4.6,4.4,4.4,4.5,4.6,4.3,4.5,4.5,4.4,4.5,4.2,4.5,4.4,4.7,4.2,4.5,4.5,4.6,4.4,4.5,4.3,4.3,4.5,4.7,4.7,4.1,4.8,4.4,4.2,4.4,4.7,4.3,4.7,4.2,4.3,4.4,4.1,4.1,4.2,4.5,4.7,4.6,4.5,3.1,4.1,3.4,4.4,4.3,4.6,4.4,4.3,4.6,4.2,4.2,4.5,4.4,4.2,4.5,4.8,4.4,4.6,4.5,4.3,4.6,4.4,4.4,4.5,4.6,4.6,4.6,4.1,4.5,4.6,4.4,4.7,4.6,4.3,4.5,4.6,4.2,4.5,4.8,4.1,4.3,4.4,4.0,4.2,4.0,4.2,4.5,4.7,4.2,4.4,4.6,4.9,4.4,4.5,4.6,4.2,4.5,4.6,4.6,4.5,4.4,4.6,4.5,4.6,4.4,4.4,4.3,4.3,4.6,4.3,4.3,4.6,4.5,4.5,4.2,4.7,4.3,4.0,4.4,4.3,4.6,4.7,4.4,4.7,4.4,4.3,4.2,4.4,4.5,4.5,4.5,4.4,4.3,4.5,4.7,4.7,4.6,4.6,4.4,4.4,4.7,4.6,4.5,4.3,4.3,4.3,4.6,4.8,4.5,4.4,4.5,4.5,4.6,4.6,4.6,4.6,4.7,4.5,4.5,4.5,4.6,4.5,4.4,4.4,4.6,4.7,4.5,4.4,4.6,4.7,4.6,4.5,4.4,4.5,4.3,4.5,4.2,4.5,4.3,4.4,4.7,4.6,4.7,4.6,4.4,4.6,4.5,4.3,4.5,4.5,4.6,4.6,4.3,4.6,4.5,4.7,4.5,4.7,4.7,4.6,4.4,4.3,4.5,4.3,4.4,4.2,4.3,4.5,4.4,4.7,4.2,4.1,4.5,4.5,4.5,4.1,4.3,4.5,4.4,4.5,4.6,4.0,4.3,4.5,4.4,4.4,4.6,4.2,4.5,4.6,4.5,4.7,4.5,4.5,4.5,4.4,4.6,4.3,4.4,4.3,4.7,4.7,4.4,4.3,4.4,4.5,4.5,4.4,4.4,4.6,4.6,4.4,4.6,4.2,4.4,4.6,4.6,4.7,4.5,4.2,4.6,4.7,4.6,4.3,4.6,4.4,4.4,4.5,4.2,4.4,4.3,4.7,4.5,4.4,4.5,4.4,4.4,4.5,4.6,4.5,4.3,4.7,4.4,4.5,4.2,4.5,4.5,4.7,4.4,4.3,4.6,3.9,4.2,4.5,4.3,4.5,4.4,4.4,4.8,4.4,4.4,4.3,4.6,4.1,4.5,4.5,4.5,4.0,4.5,4.6,4.5,4.5,4.5,4.4,4.7,4.5,4.5,4.2,4.3,4.5,4.2,4.3,4.4,4.6,4.6,4.5,4.2,4.5,4.6,4.6,4.1,4.5,4.6,4.6,4.5,4.3,3.8,4.5,4.1,4.8,3.9,4.5,4.4,4.3,4.2,3.0,4.5,4.4,4.5,4.7,4.1,4.5,4.5,4.5,4.6,4.3,4.3,4.5,4.2,4.2,4.4,4.5,4.1,4.2,4.1,4.7,4.3,4.4,4.4,null,4.3,4.4,4.3,4.3,4.2,4.2,4.3,4.3,4.1,4.2,4.5,4.3,4.3,4.5,4.1,4.5,4.2,4.4,4.0,4.1,4.3,4.3,4.4,4.3,4.1,4.0,4.3,4.6,4.3,4.7,4.3,4.4,4.2,4.7,3.9,4.1,4.1,4.1,4.2,4.7,4.4,4.3,4.5,4.3,4.3,4.1,4.1,4.1,4.6,4.1,4.4,4.4,4.3,4.0,4.8,3.8,4.7,4.5,4.8,4.4,4.8,4.2,4.2,4.0,4.7,4.7,3.9,4.5,4.1,4.4,3.9,4.4,4.4,3.6,4.4,4.1,3.6,4.6,4.3,4.5,4.4,4.1,4.4,3.9,4.4,4.4,3.6,4.4,4.1,3.6,4.6,4.3,4.5,4.4,4.5,4.1,4.5,4.1,3.9,4.2,4.1,3.9,4.1,4.2,4.7,3.8,4.3,4.3,4.3,3.9,4.3,4.0,4.0,4.3,4.2,4.1,4.0,4.4,4.3,4.3,4.4,4.2,4.1,4.3,4.2,4.6,4.1,4.5,4.4,4.5,4.3,4.2,4.4,4.6,4.5,4.8,4.5,3.2,4.6,4.5,4.1,4.6,4.5,4.4,4.4,4.4,3.8,4.6,2.5,4.0,5.0,4.3,3.4,null,3.4,4.3,4.4,4.4,4.2,5.0,4.1,3.9,4.6,4.2,4.4,4.2,3.6,4.5,null,4.7,4.6,4.5,4.2,4.2,4.3,4.4,4.1,4.4,4.6,4.4,4.2,4.5,null,2.6,4.6,4.8,4.2,4.7,3.0,3.5,4.6,4.8,4.2,4.6,4.4,4.8,4.0,3.7,4.2,4.8,4.7,3.5,3.9,4.2,4.8,2.7,4.2,4.7,4.6,4.5,4.7,4.7,4.5,4.7,4.0,3.4,3.5,3.0,4.7,4.6,4.2,4.8,4.5,4.2,3.8,3.0,4.4,4.5,4.0,3.6,4.4,4.7,4.9,3.6,4.5,4.1,4.6,4.7,4.7,2.8,4.3,4.6,4.3,3.4,null,4.0,4.8,4.2,3.0,4.5,3.7,4.5,4.5,4.6,4.2,4.6,3.6,4.4,4.4,4.5,4.5,4.1,4.6,4.3,4.3,4.7,4.5,4.5,4.5,4.2,4.4,3.9,4.2,4.4,4.1,3.4,4.1,4.0,null,4.1,3.5,4.2,4.0,4.5,4.3,4.3,4.8,4.6,4.1,4.6,3.5,2.3,4.5,4.3,4.2,4.2,3.1,4.4,4.4,2.9,3.1,3.7,4.0,3.8,4.6,4.4,3.8,null,4.8,4.3,null,null,null,null,3.7,5.0,3.0,3.7,null,null,null,null,null,null,null,null,null,null,null,null,null,null,3.7,5.0,null,null,5.0,null,5.0,null,5.0,null,5.0,5.0,null,5.0,5.0,5.0,null,null,null,4.3,4.9,null,null,null,null,null,null,null,5.0,null,null,4.9,4.6,5.0,null,null,null,null,4.0,null,5.0,null,4.0,2.6,4.7,4.8,4.3,4.7,2.5,4.6,4.5,4.1,4.5,4.3,null,3.8,4.4,null,null,null,4.5,4.5,3.8,4.5,4.0,4.5,3.7,4.3,3.7,null,4.4,3.8,null,2.7,5.0,4.3,3.8,3.0,5.0,3.6,4.0,4.3,4.7,5.0,4.7,null,4.6,3.1,4.4,5.0,3.6,2.8,4.4,4.2,4.6,4.2,null,3.8,3.5,4.7,4.1,4.5,4.3,4.4,4.4,4.2,4.0,4.3,4.6,4.4,4.2,4.4,4.4,4.3,4.6,4.4,4.5,4.6,4.6,4.6,4.4,4.5,4.5,4.3,4.4,4.6,4.3,4.8,4.2,4.6,4.0,4.6,4.3,3.6,4.0,4.5,4.4,4.5,4.2,4.5,4.3,4.2,4.2,4.4,4.3,4.3,4.1,4.5,4.3,4.2,4.1,4.3,4.2,4.1,4.1,4.4,3.7,3.9,3.7,4.0,4.5,3.6,4.1,4.1,4.0,4.1,4.0,4.5,4.6,4.3,4.3,4.2,4.5,4.2,4.3,4.1,3.8,4.2,4.4,4.3,4.2,4.1,4.0,4.3,4.3,4.2,4.2,4.0,4.4,4.0,4.2,4.2,4.4,4.1,4.1,4.3,4.0,4.2,4.2,4.2,4.1,4.0,4.3,4.3,4.4,4.4,4.2,4.2,4.0,4.2,4.0,4.5,4.6,4.3,4.2,4.3,4.6,4.4,4.4,4.5,4.3,4.2,4.2,4.4,4.6,4.2,3.6,4.5,4.4,3.8,4.7,3.6,4.2,3.6,4.3,4.4,4.5,4.1,4.3,4.3,4.7,4.3,4.2,4.2,4.3,4.2,4.3,4.6,4.4,4.3,3.8,4.6,4.5,4.1,4.4,4.3,3.8,4.0,3.3,4.1,4.1,4.2,4.1,4.4,4.1,4.2,4.5,4.3,4.5,4.1,4.5,4.4,4.6,4.5,4.6,4.7,4.3,4.4,4.4,4.2,4.1,4.1,4.5,4.7,4.1,4.2,4.5,4.4,4.6,4.2,4.6,4.3,4.1,4.1,4.4,4.1,4.6,4.2,4.2,4.1,4.2,4.3,4.2,4.5,4.7,4.5,4.3,4.0,4.4,4.4,4.0,4.5,4.6,4.1,4.5,3.9,4.5,4.2,4.3,4.3,4.4,4.5,4.6,4.4,4.3,4.3,4.1,4.7,4.4,4.2,4.4,4.2,4.2,4.1,4.0,4.1,4.5,4.6,4.3,4.6,4.4,4.0,4.5,4.1,4.4,4.0,4.6,4.5,4.4,4.5,4.1,4.3,4.5,4.2,3.8,4.5,4.7,4.1,4.6,4.8,4.0,4.7,4.7,4.1,4.5,3.6,4.5,4.7,4.7,4.5,4.2,4.5,4.4,4.5,4.5,4.4,3.7,4.3,4.5,4.4,3.3,4.3,4.4,4.5,4.4,4.2,4.5,4.7,4.5,4.6,4.6,4.4,4.3,4.3,4.6,4.4,4.5,4.5,4.2,4.0,4.4,4.7,4.3,4.6,4.4,4.5,4.3,4.3,4.4,4.5,4.4,4.6,4.3,4.6,4.3,4.4,4.2,4.3,4.4,3.9,4.3,4.4,4.2,4.5,4.3,4.3,4.3,4.1,4.4,4.3,4.0,4.0,4.0,4.4,4.3,4.1,4.2,3.9,4.4,4.4,4.5,4.4,4.6,4.3,4.6,4.1,4.0,4.3,4.2,4.0,4.1,4.1,4.0,4.3,4.3,4.2,4.5,4.0,4.4,4.1,4.4,4.3,4.3,4.2,4.3,4.4,4.4,4.3,4.4,3.8,4.4,4.4,4.3,4.6,4.0,4.1,4.2,4.3,4.6,4.6,4.3,4.2,4.1,4.2,4.6,4.6,4.4,4.7,4.4,4.1,4.3,4.4,4.2,4.4,4.5,4.2,3.8,4.3,4.4,4.6,4.4,4.5,4.2,4.5,4.5,4.3,4.4,4.2,4.1,4.3,4.0,4.6,4.3,4.4,4.5,4.2,4.3,4.4,4.2,4.1,4.4,4.7,4.6,4.2,4.3,4.3,4.5,4.6,4.5,4.4,4.7,4.2,4.3,4.2,3.9,3.9,4.2,4.3,4.6,4.3,4.0,4.0,4.0,4.6,4.3,4.2,4.3,4.4,4.0,4.6,4.7,4.3,4.0,4.5,4.7,4.4,4.8,3.3,4.3,3.9,4.4,3.9,4.4,4.3,4.4,4.2,4.2,4.1,4.4,4.0,4.4,4.3,4.1,4.0,4.2,4.2,4.3,3.1,4.1,2.9,4.0,4.5,4.3,4.1,4.3,4.5,4.6,4.4,4.2,4.3,3.4,4.6,4.2,4.4,4.0,4.1,4.0,4.6,4.2,4.5,4.4,4.0,3.5,4.0,4.2,4.0,4.4,4.8,4.1,4.6,4.3,4.4,4.3,4.6,4.5,4.3,4.2,4.4,4.2,4.4,4.3,4.5,4.5,4.1,4.0,4.7,4.6,4.2,4.2,4.1,4.1,3.5,4.5,3.9,4.6,4.0,4.4,4.2,4.2,4.6,4.5,4.4,4.5,4.4,4.3,4.2,4.3,4.5,4.0,4.2,4.1,3.9,4.2,4.0,3.5,4.0,4.0,4.5,4.1,4.2,4.4,4.4,4.1,4.3,4.5,4.5,4.4,4.5,4.7,4.4,4.1,4.4,4.4,4.3,4.2,4.0,4.7,4.3,4.6,3.9,3.6,4.0,4.1,4.2,3.9,4.1,4.3,3.1,3.7,3.4,4.4,3.6,4.4,3.3,3.7,3.0,3.6,4.8,3.9,3.8,4.3,4.5,3.4,3.7,4.5,4.4,4.1,4.5,4.0,3.9,4.4,4.8,4.7,4.3,3.7,4.2,3.5,4.3,4.7,4.3,4.1,3.1,4.3,4.1,4.2,4.3,4.4,4.3,4.3,4.4,3.5,4.1,4.6,4.4,4.2,3.9,4.2,4.4,4.4,4.4,4.4,3.7,4.4,4.5,3.7,4.4,3.7,4.4,4.5,3.6,4.4,4.0,4.1,4.4,4.4,4.3,4.4,4.2,4.2,4.1,4.3,4.5,4.4,4.5,4.3,4.2,4.5,4.7,4.4,4.4,4.4,4.4,4.1,4.6,4.4,4.1,4.5,4.5,4.4,4.3,4.5,4.2,4.2,4.2,4.5,4.7,4.0,4.2,4.2,4.1,4.4,4.4,4.2,4.2,4.1,4.5,4.6,4.1,4.3,4.2,4.1,4.0,4.6,3.1,4.6,4.5,3.2,4.3,null,4.6,4.4,4.6,4.5,4.6,null,4.4,4.2,4.4,3.1,3.6,4.1,4.2,3.5,3.9,3.0,3.9,4.5,3.4,4.4,3.4,4.3,3.7,3.5,3.8,3.6,3.1,3.8,4.2,4.0,4.3,4.3,4.5,4.5,4.5,4.4,4.4,4.3,4.2,4.7,4.4,4.3,4.4,4.3,4.5,4.7,4.5,4.6,4.7,4.6,4.8,3.9,4.5,4.6,4.5,4.4,4.5,4.0,4.3,4.0,4.4,4.1,4.3,4.1,4.3,4.2,4.2,4.2,4.2,4.3,4.5,4.4,4.5,4.2,4.1,4.4,4.5,4.3,4.4,4.1,4.4,4.2,4.1,4.6,4.5,4.3,4.1,4.1,4.2,4.1,4.6,4.5,4.0,3.5,4.4,4.4,4.4,4.1,4.2,4.6,4.4,4.6,4.6,4.5,4.7,4.4,4.5,4.6,4.6,4.0,4.6,4.5,4.7,4.7,4.4,4.3,4.7,4.1,4.7,4.4,4.6,4.5,4.4,4.4,4.3,4.3,4.6,4.7,4.3,4.5,4.6,4.4,4.5,4.7,4.3,3.7,4.7,4.5,4.4,4.3,4.8,4.6,4.1,4.7,4.1,4.6,4.2,4.3,4.2,4.0,4.2,3.9,4.3,4.1,4.2,4.4,4.3,4.3,4.4,4.3,4.1,4.2,4.1,4.1,4.2,4.1,4.4,4.1,4.3,4.6,4.1,4.6,4.6,4.2,4.1,4.2,4.5,4.3,4.2,4.0,4.2,4.2,4.6,4.3,4.4,4.4,4.4,4.3,4.3,4.6,4.5,4.1,4.3,4.4,4.2,4.2,4.1,4.5,4.7,4.3,4.4,4.4,3.8,4.4,4.3,4.2,4.5,3.2,4.5,4.2,4.4,4.7,4.4,4.0,4.4,4.0,4.6,4.5,4.2,4.0,4.4,4.5,3.9,4.2,4.3,4.2,4.2,4.4,4.7,4.6,3.1,4.4,4.1,4.5,4.6,4.3,3.9,4.5,4.3,3.7,4.5,4.4,4.0,4.0,4.4,4.7,4.6,4.2,4.5,4.6,4.0,4.5,4.4,4.3,4.4,4.5,4.5,4.6,4.4,4.6,4.3,4.6,4.5,4.3,4.1,4.2,4.2,4.6,4.2,4.5,4.4,4.3,4.2,4.3,4.5,4.3,4.3,4.5,4.5,4.4,4.2,4.2,4.6,4.4,4.3,4.6,4.2,4.2,4.2,4.0,4.3,4.6,4.4,4.6,4.6,4.5,4.5,4.4,4.3,4.0,4.2,4.2,4.5,4.0,4.2,4.4,4.6,4.3,4.6,4.2,4.4,4.6,4.4,4.6,4.4,4.1,4.4,4.4,4.1,4.3,4.1,4.1,4.5,3.9,null,3.8,null,null,4.6,4.7,null,4.0,null,4.7,4.1,3.7,null,4.1,3.7,4.6,4.4,4.6,4.1,4.4,4.7,4.4,null,4.8,4.0,4.9,null,4.8,4.4,4.7,4.2,4.6,4.6,4.5,4.6,4.1,3.8,4.8,4.8,null,4.5,4.0,4.4,4.7,null,3.9,4.4,4.4,4.5,4.4,4.8,4.4,4.8,4.5,4.7,4.5,3.5,4.4,4.3,4.4,4.2,4.6,4.4,4.4,3.9,4.3,4.5,4.2,3.7,4.2,3.9,3.6,4.5,4.3,4.3,4.2,4.6,4.5,4.5,4.2,3.9,4.8,3.8,4.5,4.5,4.2,4.0,4.2,4.3,4.3,4.2,4.3,3.6,3.9,4.8,3.9,3.7,4.6,4.4,4.4,4.2,4.1,3.8,4.4,4.5,4.6,4.7,4.3,4.5,4.3,3.7,3.9,3.6,4.5,4.4,3.8,4.6,4.2,4.3,3.8,4.4,3.1,4.6,4.1,4.5,4.0,4.5,4.3,null,3.7,3.9,3.5,3.3,4.3,4.5,4.1,4.4,4.4,4.5,4.4,4.3,4.5,4.3,4.6,4.1,4.2,3.5,4.0,3.8,4.3,4.3,4.1,4.3,4.5,4.4,4.0,4.1,4.6,4.3,3.9,4.5,4.7,4.3,4.5,3.1,4.7,3.8,4.0,4.2,4.0,4.2,3.4,4.6,4.5,4.0,4.4,4.2,4.1,4.4,4.0,3.7,4.6,4.5,4.6,4.5,3.9,4.3,4.4,3.9,4.3,4.4,4.4,3.6,4.5,3.6,4.1,4.4,4.1,4.2,4.7,3.9,3.9,4.4,4.3,4.6,4.0,4.3,4.2,4.5,4.3,4.0,4.1,4.6,4.1,4.5,4.0,4.2,4.3,4.2,4.3,4.2,4.0,4.2,4.3,4.0,4.5,4.3,4.3,3.9,4.0,4.1,4.1,4.1,4.0,4.0,4.5,4.1,3.9,4.2,3.9,4.5,4.3,4.4,4.6,4.2,4.1,4.4,4.4,4.2,4.5,4.2,4.4,4.4,4.0,4.3,4.4,4.2,4.3,4.1,4.4,4.3,4.4,4.2,4.7,4.3,4.5,3.7,4.3,4.2,4.1,4.5,4.8,4.3,4.7,4.3,4.2,3.7,4.6,4.5,4.3,4.5,4.2,4.2,4.3,4.3,4.4,3.7,4.4,4.4,4.2,3.5,4.2,4.2,4.0,4.5,4.2,3.9,4.3,3.7,4.3,4.3,4.6,4.3,4.2,4.6,3.9,4.4,4.6,4.1,4.8,4.3,4.5,4.4,4.4,3.3,4.2,3.8,4.5,4.3,4.5,3.7,4.5,4.1,4.4,3.7,4.1,4.8,4.4,4.3,4.1,4.4,4.1,4.5,4.5,4.5,4.5,4.2,4.4,4.5,4.3,3.8,4.5,3.7,4.5,4.5,4.3,4.6,4.3,4.4,4.3,4.3,4.3,4.3,4.3,4.4,4.2,4.9,4.5,4.6,4.6,4.6,3.4,3.8,4.4,4.7,4.6,4.1,3.8,4.4,4.4,3.9,4.1,4.5,3.7,4.4,4.5,4.5,3.8,3.1,4.5,5.0,4.4,null,4.3,2.9,3.1,3.3,4.1,4.6,4.4,4.5,4.3,4.3,4.5,4.5,2.2,4.5,4.2,4.5,4.6,3.9,4.1,3.3,4.5,4.1,4.8,4.1,4.5,null,4.6,4.6,4.3,4.1,4.5,4.3,4.4,4.7,4.4,4.4,4.3,4.2,4.2,4.6,4.5,4.6,4.7,4.8,4.7,4.7,1.7,4.5,4.0,3.6,2.0,4.7,4.1,4.3,4.3,4.5,4.4,4.4,4.6,3.7,4.5,4.0,4.8,4.0,4.7,4.8,4.6,4.3,4.2,4.8,4.2,4.6,4.2,4.5,4.6,4.5,4.5,4.3,4.8,4.6,4.5,4.3,4.2,4.4,4.5,4.2,4.6,4.6,4.4,4.5,4.5,4.6,4.5,4.4,4.1,4.4,4.6,4.6,4.5,4.5,4.3,4.3,3.3,3.7,4.5,4.4,3.1,4.0,4.4,4.2,3.9,4.4,4.6,4.8,4.4,3.9,4.5,3.6,3.4,4.7,4.4,4.4,4.5,4.2,4.6,4.3,4.3,4.3,4.6,4.4,4.5,4.5,4.0,4.3,4.5,4.1,4.3,4.0,4.3,4.6,4.2,4.4,4.5,4.3,4.0,4.3,4.4,4.6,4.4,4.3,4.2,4.3,4.3,4.6,3.6,4.3,4.2,4.2,4.4,4.3,4.9,4.5,4.2,4.3,4.2,3.8,4.2,1.0,4.4,4.0,null,4.4,4.4,4.5,null,3.4,3.8,null,3.7,null,4.1,4.6,4.4,4.2,4.2,4.4,4.5,4.2,4.5,4.3,4.4,4.2,3.6,4.0,4.4,4.6,4.5,4.4,4.2,4.3,4.6,1.8,3.8,4.4,3.0,3.4,4.6,3.7,3.0,4.6,4.4,3.1,4.3,4.3,3.8,4.5,3.6,null,4.2,4.5,4.2,3.3,4.2,4.3,4.2,3.7,3.8,2.9,4.5,4.3,4.9,4.4,4.4,4.4,2.9,4.2,4.0,4.3,4.3,3.9,4.3,null,4.0,4.6,3.7,4.0,4.6,4.4,4.5,3.0,3.1,4.3,4.5,4.5,4.5,4.1,4.6,4.2,null,3.9,3.9,3.9,4.3,4.2,4.2,3.7,2.8,4.4,4.1,4.4,2.7,4.7,4.2,4.2,4.1,4.5,4.4,4.0,4.2,4.1,4.0,4.4,4.7,4.3,4.7,4.4,4.0,4.3,4.2,4.4,4.6,3.3,4.5,2.3,4.2,4.1,null,4.4,3.2,3.5,4.6,4.3,4.1,4.1,4.1,null,4.7,3.5,3.9,null,null,4.1,4.7,null,4.6,4.5,4.7,4.9,null,4.3,4.1,4.4,4.2,4.1,4.6,4.3,4.4,4.4,4.5,4.6,4.8,4.3,4.8,4.8,3.7,4.1,3.7,4.2,4.5,4.6,4.5,4.7,4.3,null,4.9,4.4,4.6,null,null,4.0,4.8,4.3,4.4,4.2,4.6,null,4.8,4.0,4.3,4.7,4.5,4.6,4.5,4.3,4.0,4.2,4.0,4.5,4.0,4.1,4.6,3.1,4.9,4.5,4.0,4.0,3.6,4.5,4.2,4.3,3.9,4.3,4.3,4.4,4.3,4.4,4.3,4.5,4.4,3.5,4.4,4.4,4.5,4.4,4.4,4.0,3.9,3.9,4.3,4.9,3.7,3.3,3.8,3.5,4.2,4.5,3.5,3.6,4.6,3.9,4.2,4.2,4.0,3.2,4.6,2.4,4.5,4.1,4.2,3.7,4.3,4.2,4.1,3.9,3.8,4.4,3.4,4.0,4.4,3.3,4.8,4.5,3.4,4.3,4.3,4.1,4.0,4.4,3.8,4.4,3.8,4.2,3.8,4.8,4.7,4.3,3.5,3.9,4.2,4.6,4.7,4.5,3.8,4.5,3.7,3.5,4.1,3.9,4.1,4.6,4.4,4.5,4.4,4.6,4.0,4.4,4.4,4.4,4.0,3.8,3.9,null,3.7,4.2,4.1,4.3,4.3,4.1,4.4,3.8,4.3,4.4,3.8,4.5,3.8,3.9,4.0,4.3,4.5,4.4,4.6,null,5.0,4.4,4.4,4.2,4.0,null,4.2,null,4.6,4.1,null,3.9,4.6,null,4.4,3.9,4.6,4.5,3.0,null,3.6,4.4,4.6,null,4.3,5.0,4.5,4.1,4.1,4.5,null,4.8,4.5,null,4.0,4.8,3.7,null,4.5,4.7,2.7,2.9,4.2,4.4,4.2,3.4,2.6,4.1,4.3,4.5,4.2,4.4,null,4.0,4.4,4.1,4.8,2.2,3.8,3.1,3.1,3.8,3.8,4.3,3.6,4.0,4.4,4.6,null,4.5,1.8,4.7,3.9,4.4,3.6,4.5,4.4,3.9,3.9,3.8,null,4.2,4.1,4.4,4.4,null,null,5.0,4.1,4.5,4.3,null,3.9,3.5,null,3.2,null,null,null,null,3.3,4.8,4.5,3.7,4.8,4.7,4.3,3.8,4.1,4.7,null,4.2,null,null,4.6,4.2,4.6,4.6,4.2,4.1,3.5,4.1,4.4,4.5,4.1,4.5,4.3,4.4,4.3,4.3,3.8,3.9,4.1,4.8,4.4,4.0,4.7,4.6,4.3,4.0,4.4,3.7,3.7,3.3,4.1,3.0,4.1,3.0,3.8,4.0,4.5,4.6,4.1,3.6,4.7,3.5,3.1,3.9,3.7,4.2,4.4,4.4,3.3,4.8,4.2,4.5,3.8,4.1,4.2,4.2,4.0,4.2,3.8,4.5,3.7,4.3,4.5,4.1,4.2,4.5,4.0,4.4,4.2,4.3,4.7,4.1,3.2,3.9,4.1,3.4,3.0,4.6,4.6,4.1,3.1,3.4,4.2,4.2,3.0,2.4,4.1,2.9,4.0,4.0,3.8,2.4,4.4,3.7,4.3,4.6,4.2,4.8,3.6,3.2,4.0,3.5,4.4,2.5,3.9,4.4,4.2,4.2,4.3,4.1,4.3,4.2,4.2,3.9,3.9,4.4,3.8,4.5,4.2,3.7,4.3,4.3,4.6,3.3,3.6,4.1,3.8,3.3,4.5,4.8,4.6,null,4.3,4.5,4.2,3.8,4.7,4.2,4.3,4.7,4.7,3.6,4.2,4.0,4.3,4.7,4.2,4.6,4.8,4.6,3.8,4.6,4.3,4.2,4.5,3.2,4.3,4.3,4.5,4.4,1.9,4.4,2.5,4.2,4.3,4.0,4.5,4.8,4.2,4.7,4.4,4.4,4.4,4.6,4.6,4.2,4.5,4.0,4.4,4.2,4.5,4.6,4.4,4.7,4.2,4.4,3.2,4.1,4.0,4.7,4.6,4.6,4.7,4.8,4.6,4.2,4.3,3.3,4.7,4.5,4.0,4.5,4.2,4.6,4.2,4.7,4.7,4.2,4.3,4.3,null,4.5,4.4,4.5,4.6,4.3,3.8,4.5,4.5,3.9,4.0,2.7,4.5,4.0,2.9,4.6,4.4,4.5,4.6,4.4,4.3,4.4,4.2,4.8,4.3,4.3,4.6,4.6,4.2,4.2,4.1,4.4,4.5,4.4,4.4,4.2,4.5,4.6,4.5,4.6,4.0,4.5,4.2,3.9,4.7,4.4,4.5,4.3,4.4,4.2,3.9,4.1,2.2,4.2,4.2,2.8,3.9,4.3,4.8,4.3,4.1,4.2,4.4,4.1,4.6,4.3,4.3,3.8,4.8,null,3.8,3.9,null,4.3,4.3,4.3,4.1,4.2,4.9,4.5,4.6,3.8,4.7,4.5,4.7,4.5,4.8,4.6,4.6,4.3,4.8,3.4,4.6,4.4,4.5,4.4,4.4,4.6,4.2,4.3,4.3,3.8,3.9,4.3,4.8,4.2,4.5,4.8,null,4.6,4.2,4.2,4.0,null,4.3,4.8,4.1,4.7,null,4.8,4.0,3.5,3.8,3.5,3.3,3.7,3.3,3.4,1.8,1.6,1.9,3.6,3.4,3.2,2.5,4.7,2.6,2.8,3.9,4.2,3.9,4.0,3.5,3.1,3.7,3.6,3.4,4.0,3.7,1.7,2.4,4.3,4.2,3.3,4.1,4.1,3.4,3.0,3.0,2.2,3.7,3.7,4.8,3.7,3.6,3.7,4.4,3.8,3.7,3.7,4.8,4.2,4.1,4.6,4.1,4.3,3.9,3.8,4.0,4.5,4.6,4.1,4.4,3.7,3.9,3.9,4.5,4.5,4.4,4.3,4.5,4.7,4.7,4.1,3.3,4.2,4.1,3.4,4.3,4.9,4.5,4.1,4.4,4.3,4.4,3.4,4.1,4.1,3.5,3.8,4.6,4.6,5.0,4.6,4.2,4.0,3.9,3.7,4.3,1.9,4.2,4.2,4.0,4.4,4.2,4.5,4.3,4.4,4.0,4.2,4.3,4.0,4.3,3.9,4.0,3.7,4.1,3.9,4.2,4.4,4.5,3.9,3.9,4.2,4.5,4.1,4.7,null,4.4,4.7,4.7,4.0,3.9,null,3.8,3.9,4.4,4.5,null,3.8,3.5,4.2,4.7,2.0,4.3,2.8,4.0,3.9,4.2,3.4,4.5,4.7,2.0,4.4,null,null,null,4.7,3.3,4.1,null,4.2,4.4,null,3.7,null,4.3,3.9,5.0,4.1,4.8,4.0,null,4.1,3.8,4.6,null,4.3,4.1,4.6,4.1,4.4,4.2,4.1,4.3,4.3,4.0,4.5,4.1,3.8,null,4.5,null,4.1,null,3.9,3.7,null,4.5,4.4,null,3.4,null,null,null,null,2.3,4.7,3.4,4.7,null,null,5.0,null,null,null,null,null,null,null,null,3.6,5.0,null,null,4.3,null,null,null,5.0,null,null,4.1,4.1,4.5,null,null,3.4,null,null,null,2.9,4.6,5.0,null,null,null,3.9,3.9,5.0,4.1,null,5.0,3.0,4.0,1.0,null,4.0,null,null,4.0,null,3.8,null,null,null,null,null,null,null,null,3.5,null,null,null,null,null,2.6,null,3.4,null,null,4.5,3.4,3.8,3.0,4.4,4.0,3.9,4.6,3.8,3.8,4.0,4.6,3.6,4.4,3.1,4.2,4.6,4.0,5.0,3.3,4.1,3.6,3.2,4.4,4.0,4.4,4.5,4.3,4.7,4.4,null,4.4,4.4,3.7,3.3,null,3.7,3.0,2.6,null,null,3.5,3.9,4.6,3.8,4.6,4.4,4.5,4.5,4.7,4.4,null,5.0,null,null,2.8,null,4.6,2.8,5.0,5.0,2.8,null,3.8,4.1,null,4.8,5.0,5.0,null,4.4,null,null,5.0,4.1,null,4.8,null,null,4.8,4.0,null,5.0,4.6,null,5.0,null,null,null,4.5,5.0,null,null,null,4.4,4.0,null,3.9,4.1,4.8,4.3,3.9,4.5,null,3.7,4.3,4.2,3.7,3.8,4.6,null,null,null,3.3,3.0,3.9,4.2,3.9,null,4.1,null,4.6,null,null,null,null,4.4,3.8,4.4,null,4.9,3.6,4.3,3.6,4.1,3.4,4.5,4.7,4.5,4.4,4.3,4.6,4.2,4.8,4.6,4.8,4.6,4.6,4.6,4.1,4.7,4.7,4.8,3.6,4.7,4.6,4.5,4.7,4.5,4.3,4.5,4.8,4.7,4.7,4.7,4.7,4.7,4.7,4.7,4.6,4.7,4.7,4.6,3.8,3.9,4.0,4.0,3.8,4.1,2.9,3.8,3.5,4.2,4.6,4.4,4.4,4.1,3.9,3.6,4.0,3.8,4.3,4.6,3.6,3.9,4.0,4.2,4.2,4.2,4.5,4.7,3.5,4.5,4.0,4.6,4.2,4.3,4.1,4.5,4.2,4.5,4.4,3.7,4.4,4.3,4.3,4.3,4.5,4.5,3.8,4.5,4.5,4.4,4.7,3.5,4.9,4.0,4.1,4.2,null,4.4,4.1,4.6,4.6,4.7,4.5,null,4.6,4.4,4.4,4.2,4.4,4.0,4.2,4.2,4.2,4.8,3.7,3.4,4.3,4.3,4.6,4.2,4.6,4.1,4.4,4.6,4.3,4.4,4.7,4.2,3.8,4.3,3.7,4.3,2.9,4.3,4.3,4.0,3.3,4.5,4.1,5.0,3.9,4.6,4.0,3.6,4.0,4.5,null,2.9,4.2,4.5,null,4.6,4.7,4.2,4.7,4.7,3.9,4.7,3.7,4.8,4.0,4.6,4.4,4.3,4.7,3.6,4.4,4.6,2.9,null,4.5,5.0,3.7,null,3.7,null,4.2,3.0,5.0,4.4,4.7,4.3,3.9,null,4.4,4.3,null,null,null,null,4.6,4.5,3.9,4.7,4.3,5.0,5.0,null,5.0,null,null,4.4,null,2.7,4.6,4.4,4.4,4.1,3.8,4.4,4.6,4.1,4.5,4.2,4.7,4.3,4.3,4.2,3.8,4.0,4.3,4.6,4.3,4.3,4.3,4.7,4.6,4.4,3.8,4.6,4.6,4.5,4.5,3.9,4.4,3.8,4.3,4.3,3.7,3.2,4.0,3.8,4.4,3.8,3.4,2.9,4.5,3.7,3.8,4.1,4.1,3.7,3.6,null,3.0,4.1,3.8,4.2,4.4,4.5,3.6,3.6,3.7,3.9,null,4.2,4.1,4.5,2.8,2.6,4.3,4.4,4.1,4.0,4.3,3.9,3.5,3.7,4.3,4.3,4.1,4.2,4.3,4.2,4.6,4.3,4.1,4.4,4.4,4.1,4.2,4.4,4.3,2.4,4.5,4.3,4.5,4.5,4.3,4.4,4.3,4.4,4.6,3.4,3.9,4.3,4.4,4.5,4.4,4.2,4.0,4.3,4.4,4.2,4.0,4.4,4.6,4.0,4.4,3.5,4.6,4.0,4.0,4.1,4.1,3.3,3.9,4.1,4.2,4.0,4.5,3.8,3.5,4.3,4.6,4.7,3.8,4.7,4.8,3.2,4.5,3.9,3.6,3.7,4.4,4.1,4.0,3.1,4.0,2.8,3.7,2.7,3.9,3.8,3.6,4.5,3.5,4.0,null,3.8,3.6,4.2,4.4,4.0,4.7,null,null,4.1,4.0,null,4.7,null,null,3.8,5.0,4.4,null,null,4.0,null,3.8,4.1,4.3,null,4.5,4.4,3.4,4.1,4.1,3.8,4.3,4.4,4.4,4.8,3.3,3.3,4.4,3.7,3.4,2.3,3.3,2.7,null,4.6,3.5,3.4,4.3,4.1,4.7,4.4,3.8,3.0,4.4,4.2,4.5,3.5,4.5,4.3,4.5,null,4.5,4.0,4.8,null,4.3,1.7,4.3,4.2,null,4.2,4.3,null,4.0,4.2,4.6,4.1,4.6,4.1,4.0,null,3.3,4.1,null,null,4.0,null,null,4.4,4.2,3.8,3.1,null,5.0,4.2,4.7,4.4,4.6,4.4,2.9,2.7,null,4.6,4.0,3.8,4.8,5.0,3.9,4.2,4.1,4.7,4.2,4.2,3.7,4.1,4.1,3.8,4.6,null,4.4,4.2,4.4,null,null,4.6,5.0,null,4.5,null,3.5,null,3.9,4.4,3.0,null,3.1,4.4,null,3.0,null,null,3.7,null,3.7,3.9,4.8,null,null,4.6,4.6,4.5,4.3,5.0,4.3,null,4.7,4.0,3.8,5.0,4.8,4.5,4.3,null,null,null,null,3.7,null,null,null,null,null,4.3,null,3.8,null,null,4.5,4.6,4.1,4.2,null,5.0,null,null,null,4.3,null,3.3,3.6,4.0,4.0,4.0,4.3,4.2,4.3,4.2,4.5,4.3,4.6,4.4,4.2,4.2,4.2,3.4,3.2,4.0,4.6,3.2,4.4,4.0,4.7,null,3.7,3.9,4.2,4.1,3.5,4.8,4.3,3.9,null,3.5,4.3,4.4,4.8,3.9,3.8,4.2,4.0,4.0,4.4,4.7,4.5,4.3,3.3,4.3,4.1,2.1,3.7,4.2,4.4,4.2,2.1,2.4,4.1,3.1,5.0,null,3.5,4.2,null,4.7,null,null,null,4.8,null,4.5,4.6,4.6,4.9,4.8,4.0,3.9,4.1,4.1,4.5,4.2,4.0,4.4,1.9,null,null,3.7,null,4.2,4.0,4.3,2.5,4.4,null,3.7,4.7,4.6,4.4,4.3,4.4,2.6,3.6,3.8,4.4,4.4,3.0,4.2,3.7,5.0,null,4.2,4.8,4.4,4.1,4.7,4.7,3.3,4.0,null,null,1.0,4.4,4.2,4.4,4.6,4.3,4.4,null,3.7,2.9,4.0,4.4,3.3,null,null,4.2,4.5,2.3,5.0,3.6,null,3.9,4.4,4.2,4.8,4.3,4.2,4.4,4.3,4.0,1.4,3.3,4.3,null,4.6,4.7,4.2,3.9,3.4,4.3,4.8,4.8,4.5,3.3,4.2,4.9,4.2,4.6,4.1,4.6,4.0,4.2,5.0,4.1,3.7,4.1,3.8,4.7,3.5,4.0,4.2,3.3,3.7,3.4,3.7,5.0,4.4,5.0,4.8,4.4,4.9,4.0,4.4,4.5,4.9,4.4,4.4,5.0,4.8,4.6,4.3,3.8,4.3,4.3,4.1,4.5,4.2,3.8,4.3,4.4,4.2,4.2,3.8,4.2,4.0,4.2,4.3,4.3,4.4,4.7,4.1,4.5,4.2,4.3,4.4,4.5,4.3,null,4.2,4.0,3.4,4.4,3.8,3.0,4.1,4.4,4.1,4.1,4.1,4.5,4.1,2.2,3.9,4.0,4.3,3.9,4.0,4.2,4.2,3.6,4.3,null,null,4.4,2.6,4.1,null,3.5,4.2,null,null,3.7,4.5,2.4,null,2.9,4.2,4.2,4.0,2.6,4.4,4.8,4.7,4.4,4.6,2.7,3.8,1.7,4.6,3.3,null,null,4.6,2.3,4.5,null,4.8,null,5.0,null,4.1,null,null,null,null,null,null,4.9,3.0,null,null,4.8,4.5,3.4,null,null,null,null,4.0,3.7,2.2,4.8,null,5.0,null,null,null,4.5,null,4.3,3.8,null,4.5,4.5,null,4.8,4.5,4.4,null,3.9,4.3,4.3,null,4.0,null,4.1,4.6,3.7,3.4,4.5,4.4,null,4.4,2.4,4.1,4.6,4.6,4.3,4.3,4.7,null,4.2,4.3,4.3,3.9,4.7,4.2,4.1,4.6,4.7,4.3,4.5,4.6,2.9,4.0,3.0,3.9,null,4.8,3.9,4.0,null,null,null,5.0,null,null,null,4.0,null,5.0,null,null,4.5,4.8,null,4.6,4.2,null,3.4,2.6,2.4,null,4.5,4.6,3.3,4.1,4.6,3.9,null,null,null,null,null,4.0,3.4,4.5,4.0,5.0,3.6,3.5,4.6,4.9,3.7,5.0,4.0,3.9,5.0,4.0,null,null,4.9,4.4,3.6,4.7,4.3,3.9,4.5,4.2,4.6,4.1,4.3,4.6,null,null,4.2,4.6,4.5,4.4,4.2,4.5,4.0,4.2,4.7,4.1,4.4,4.3,4.6,4.2,4.0,2.3,4.5,3.6,4.4,3.9,3.9,4.8,4.2,3.7,4.0,null,1.0,null,4.4,4.2,4.7,3.6,null,4.1,3.3,null,null,5.0,4.3,4.7,null,null,null,null,null,4.0,null,4.4,4.6,5.0,4.3,4.3,null,3.8,4.1,4.6,4.0,4.7,3.6,4.5,4.0,4.1,4.0,3.8,null,4.5,2.8,null,4.2,4.8,5.0,5.0,null,null,null,4.3,4.3,4.5,4.5,5.0,3.8,4.4,5.0,4.7,null,4.7,2.2,4.6,4.6,4.7,4.6,4.4,3.8,3.6,4.9,4.8,null,4.4,5.0,4.8,null,null,4.6,5.0,4.6,5.0,null,4.0,4.3,4.5,4.0,3.2,4.6,4.2,4.8,3.0,4.3,3.9,3.2,3.9,4.8,3.5,4.4,4.1,4.2,4.7,4.0,4.4,4.2,5.0,3.5,3.8,null,4.5,4.1,null,4.3,null,4.3,4.4,null,null,null,null,null,4.0,4.3,4.0,4.9,4.7,null,null,null,4.3,4.2,4.1,4.3,4.7,3.2,3.9,4.2,4.1,4.9,null,3.7,3.5,4.9,null,3.3,4.9,3.4,null,4.5,4.3,5.0,3.5,null,null,4.4,3.7,null,4.8,null,4.3,4.9,null,null,null,null,null,null,5.0,4.3,4.3,null,null,4.4,1.0,4.5,null,4.0,5.0,4.9,4.7,4.5,3.9,null,3.2,3.5,null,3.7,3.0,4.2,4.0,4.1,null,4.7,4.0,3.1,4.4,3.2,3.9,4.2,4.7,4.0,null,null,4.0,3.7,4.1,4.4,4.0,3.9,3.6,null,null,4.6,null,4.4,1.9,4.3,4.5,4.1,3.8,4.1,4.6,3.7,3.9,4.4,null,4.5,null,null,4.3,4.4,3.5,4.3,4.5,4.5,4.4,4.2,4.3,null,3.6,4.0,3.8,null,null,4.4,3.8,3.9,4.1,4.3,3.5,null,4.3,null,4.7,4.5,3.8,4.5,4.2,4.3,4.1,4.6,4.6,4.5,4.5,3.0,2.6,3.4,4.4,4.2,4.0,4.7,3.4,3.7,3.7,4.5,3.9,5.0,4.3,4.2,null,4.0,null,4.5,4.0,4.4,1.8,4.3,5.0,5.0,null,3.2,4.2,4.6,3.8,3.9,4.2,null,4.0,3.8,4.1,3.9,4.4,2.1,1.8,4.2,2.0,null,null,3.4,4.3,3.6,3.7,4.7,4.5,4.6,3.6,null,null,4.4,4.6,null,null,null,2.3,null,null,3.8,null,3.0,5.0,4.5,4.4,4.5,4.8,4.3,3.8,null,4.3,3.7,4.5,null,4.3,null,4.4,3.4,4.5,1.6,null,null,4.5,null,null,null,null,null,null,4.4,3.8,4.3,4.3,3.0,4.0,4.2,4.8,4.0,4.5,null,4.7,1.9,4.9,4.4,4.7,null,4.9,4.8,null,null,4.5,null,null,4.6,4.5,null,5.0,null,3.9,null,null,4.3,null,4.8,4.3,4.6,null,null,4.1,4.5,4.3,3.8,2.4,4.3,2.8,4.5,4.6,4.1,4.2,4.6,4.3,4.6,5.0,5.0,3.9,4.2,3.9,4.2,null,null,null,3.5,null,4.0,null,3.7,3.8,4.3,null,null,4.5,4.6,null,4.5,4.3,4.4,null,null,4.6,null,3.9,null,3.9,3.1,3.9,4.4,4.4,4.4,4.6,3.9,4.6,2.5,4.6,2.8,4.0,3.4,3.8,4.5,4.8,3.3,3.9,3.5,4.5,4.0,null,3.6,null,4.7,3.9,5.0,4.6,3.9,4.9,3.6,3.7,3.9,2.7,3.8,2.8,3.5,4.1,null,4.7,4.3,4.5,4.1,null,null,4.8,null,null,null,3.4,5.0,null,null,4.3,4.4,1.8,4.2,3.3,null,5.0,null,null,null,4.8,null,4.5,5.0,4.5,4.7,null,4.6,null,null,4.5,null,null,3.5,null,null,3.5,2.9,null,null,5.0,null,null,null,null,4.3,null,4.8,4.7,4.3,4.1,5.0,5.0,null,null,null,4.0,null,4.3,null,4.1,5.0,null,5.0,null,null,null,4.0,null,null,3.5,null,null,null,4.1,null,null,4.6,null,null,null,4.1,4.2,4.2,2.2,4.3,4.7,3.8,null,4.1,null,3.1,4.2,null,3.0,4.8,3.7,3.1,4.6,2.9,4.2,4.7,4.5,2.8,null,4.4,4.4,4.1,4.6,3.0,4.1,4.2,null,4.4,3.9,null,null,null,null,4.3,4.5,4.5,3.6,2.0,4.0,4.5,4.0,4.3,null,4.5,4.8,4.5,null,null,4.2,4.5,4.6,null,null,3.9,null,null,4.3,3.9,4.3,3.7,4.7,4.3,1.7,4.5,null,4.7,null,5.0,null,null,null,4.6,2.9,null,4.8,2.3,null,3.8,4.2,null,4.4,null,4.0,4.1,3.4,4.3,4.0,4.2,4.1,4.7,4.2,3.9,3.8,4.1,4.2,3.8,4.7,3.7,4.3,4.0,4.2,4.6,4.7,4.7,4.3,4.2,3.5,4.7,4.7,4.5,4.5,4.7,4.6,4.6,4.9,4.2,4.3,4.4,4.4,4.5,4.3,4.4,4.4,3.0,4.8,4.7,4.6,4.0,3.7,3.5,2.7,4.7,4.1,4.5,4.6,4.5,4.4,4.3,4.4,4.5,4.6,4.7,4.6,3.1,3.9,4.7,4.6,4.7,null,5.0,4.4,4.8,null,4.1,null,4.3,4.4,4.7,4.0,3.4,4.6,null,2.8,null,3.1,null,3.9,null,4.2,4.5,null,4.1,null,4.2,null,null,3.3,4.4,null,4.4,4.6,4.4,4.5,4.1,2.2,4.2,4.8,null,null,3.2,4.3,4.0,4.6,4.4,4.5,null,3.4,null,null,3.3,4.2,null,2.4,3.2,3.1,3.8,null,4.8,3.7,4.2,3.7,3.0,3.9,4.0,5.0,null,4.0,2.7,3.1,4.1,4.5,4.0,3.8,3.8,4.3,3.5,4.5,3.9,null,4.5,null,null,3.3,4.1,null,null,5.0,null,3.7,4.8,1.5,5.0,4.6,null,null,5.0,4.7,null,4.7,null,5.0,4.5,null,5.0,null,null,5.0,4.2,1.0,4.5,4.2,5.0,4.2,4.4,3.9,4.6,3.8,null,null,4.0,null,null,null,4.6,null,null,3.4,null,5.0,4.6,null,null,null,null,5.0,null,null,null,null,3.0,null,3.8,4.2,4.3,null,null,null,null,null,null,4.4,3.2,null,null,null,3.5,4.4,4.5,3.7,5.0,4.5,4.5,4.1,null,3.4,4.1,null,null,5.0,4.2,4.1,4.1,null,4.2,4.3,null,5.0,4.4,null,4.3,4.5,null,4.8,4.4,null,null,null,4.4,null,null,null,null,null,4.7,null,null,null,null,null,4.3,4.4,4.6,2.8,5.0,4.4,4.4,2.0,5.0,4.4,5.0,null,3.4,4.4,null,3.4,null,null,3.3,1.5,null,null,null,5.0,null,4.3,4.3,null,null,null,null,2.2,4.6,null,null,5.0,null,null,4.7,null,null,null,null,null,null,4.7,3.5,4.3,3.6,4.3,3.6,2.6,4.7,4.5,4.0,4.6,5.0,4.2,null,null,4.2,null,4.7,4.5,3.6,3.8,4.2,3.8,3.5,4.1,null,null,5.0,null,4.2,4.1,null,null,3.6,4.3,4.1,4.4,null,null,4.0,5.0,5.0,null,3.8,4.3,4.7,4.5,4.4,4.7,4.4,3.7,4.3,null,4.0,3.9,null,4.9,3.5,3.5,null,4.4,4.2,null,null,null,4.3,null,4.7,4.5,4.4,4.2,4.4,3.3,4.4,4.9,4.5,4.7,4.7,3.9,4.7,4.7,null,4.4,4.8,4.8,4.0,3.7,5.0,3.0,3.9,null,null,4.6,4.6,4.3,4.2,null,5.0,null,4.5,null,4.2,null,1.0,null,4.6,null,null,null,null,null,null,4.1,4.7,null,null,null,4.4,4.8,4.2,null,null,5.0,4.6,4.5,5.0,2.9,null,4.4,null,null,3.0,4.5,2.4,4.3,3.9,1.9,4.4,5.0,4.0,4.7,3.9,5.0,4.2,4.2,2.8,4.2,1.0,3.9,4.1,4.1,3.2,null,5.0,null,5.0,4.3,4.1,3.8,4.0,null,4.2,5.0,4.1,5.0,null,3.7,null,null,4.1,3.5,3.9,4.2,3.8,3.7,4.7,2.8,4.7,4.3,4.1,null,4.7,4.2,4.0,3.2,4.6,5.0,4.4,4.5,4.0,4.6,4.7,null,4.1,4.5,4.3,null,5.0,5.0,4.2,4.0,null,5.0,2.7,4.1,null,null,4.4,null,4.3,4.1,4.7,4.4,null,null,3.6,4.0,4.1,4.0,4.1,4.0,4.6,null,null,null,null,5.0,3.6,4.1,4.3,4.1,2.6,2.7,3.8,5.0,4.2,null,5.0,2.6,4.4,4.3,null,null,4.7,2.8,4.1,null,3.6,null,null,4.0,null,null,5.0,5.0,4.7,4.7,4.6,4.7,4.6,4.6,4.6,4.6,4.6,4.4,3.8,4.1,3.4,4.5,4.5,4.5,4.0,4.7,4.4,4.4,4.7,4.7,4.2,4.2,4.0,3.6,4.7,4.4,4.3,4.4,4.4,4.4,4.3,3.3,3.6,4.5,4.5,4.6,4.3,3.6,4.3,4.4,4.1,4.2,4.8,4.2,null,4.0,3.7,4.5,4.1,4.6,4.5,4.7,4.3,4.3,4.6,4.1,4.2,4.3,4.2,4.3,3.6,4.2,4.2,4.0,4.6,4.3,4.4,4.5,4.3,3.7,4.2,4.7,4.6,4.5,4.1,4.5,4.3,3.4,4.2,3.9,4.4,4.1,4.3,3.9,4.0,null,5.0,4.2,4.3,4.5,4.5,3.9,null,4.5,3.5,3.6,1.9,4.3,3.2,1.6,4.2,4.9,4.4,3.6,3.4,null,4.7,2.9,4.3,4.4,4.3,4.6,4.6,4.2,3.5,null,2.9,4.4,4.7,4.5,4.4,2.0,4.7,4.4,4.4,4.4,null,4.5,3.5,4.2,3.7,4.4,3.4,4.3,3.6,4.6,4.6,4.2,4.3,3.8,1.4,4.4,null,4.0,null,4.6,3.9,3.8,4.7,4.2,4.3,4.1,4.3,4.2,null,3.6,4.6,null,4.3,5.0,5.0,5.0,4.5,3.8,3.9,null,null,4.8,4.1,4.0,4.8,4.8,4.4,null,4.1,null,null,null,4.4,4.3,3.7,4.3,null,null,4.3,2.7,4.4,null,4.5,null,4.2,null,3.7,null,5.0,null,4.2,3.9,null,4.5,null,3.5,4.7,4.2,4.4,4.7,4.6,4.0,null,2.5,null,null,3.8,4.7,4.5,4.6,4.6,5.0,3.9,5.0,null,2.3,null,3.6,4.0,3.7,4.2,4.1,4.4,4.6,4.2,4.4,4.3,4.0,4.5,3.9,3.7,4.6,null,3.8,4.7,null,3.4,4.5,4.1,4.3,4.6,4.3,4.3,4.0,null,3.5,2.3,null,3.9,4.1,4.5,4.6,4.4,3.1,4.3,3.3,5.0,null,4.2,3.8,3.3,null,5.0,1.0,4.5,4.6,4.3,4.4,4.1,4.5,4.2,3.7,4.1,3.9,4.5,3.6,3.2,3.5,3.7,4.6,4.8,4.1,4.4,4.3,null,4.0,3.1,4.2,4.1,null,3.5,4.3,3.8,4.3,4.8,2.3,4.3,4.4,3.6,5.0,null,4.3,4.2,4.3,4.7,3.9,4.4,4.4,4.3,2.6,4.3,null,3.8,4.2,4.2,4.1,4.0,4.4,4.7,null,2.6,4.3,5.0,3.7,4.3,4.1,4.3,3.8,4.5,5.0,null,null,3.9,3.8,4.6,null,4.6,4.7,5.0,null,4.5,null,4.3,3.5,3.3,null,4.8,3.9,null,4.5,null,3.4,5.0,5.0,null,null,4.8,3.6,null,4.3,4.0,4.5,4.6,4.7,3.8,3.4,4.7,4.0,4.6,2.0,4.3,2.0,3.6,4.7,3.5,4.0,3.5,4.3,4.1,4.6,3.8,4.3,3.8,1.0,3.8,3.3,4.8,3.0,4.0,3.6,3.8,4.3,3.9,4.2,4.6,4.0,4.5,4.6,4.6,4.5,3.7,4.4,4.6,3.9,4.4,4.5,4.5,4.3,3.7,3.9,3.9,4.3,4.1,4.1,4.4,4.4,4.2,4.5,4.6,4.4,4.4,4.4,3.8,2.6,4.2,4.4,4.2,4.0,4.2,4.0,4.4,4.5,3.2,4.3,3.4,2.3,4.4,4.3,null,4.3,3.6,4.6,4.2,4.0,4.4,4.5,3.2,1.7,2.2,3.8,4.8,null,4.4,4.5,4.8,4.6,3.7,4.4,3.5,3.8,3.8,4.3,null,4.6,null,4.5,null,3.7,null,4.8,4.3,5.0,3.9,3.0,null,5.0,null,4.4,4.6,3.9,3.3,4.1,3.0,4.2,4.2,4.2,4.0,4.0,3.2,4.6,3.2,4.1,3.3,4.4,4.0,4.2,4.1,4.3,3.3,4.7,4.4,3.1,3.1,3.3,3.9,3.4,3.9,4.4,3.9,3.7,4.5,4.7,null,4.6,null,5.0,3.0,null,3.9,null,5.0,3.9,null,null,null,null,null,null,3.8,null,3.6,3.9,3.8,null,4.8,null,null,null,null,4.4,4.5,4.0,4.7,4.8,4.7,4.7,4.5,4.0,null,3.2,null,null,4.7,4.5,null,4.5,4.9,4.2,5.0,5.0,null,5.0,null,null,4.2,4.7,null,null,4.5,null,null,null,4.5,4.5,3.8,4.5,null,4.3,3.9,3.9,4.2,4.5,4.1,4.4,4.1,4.6,3.3,4.5,2.2,4.4,3.9,4.5,2.8,3.3,null,4.5,null,null,3.1,3.2,4.4,4.1,null,5.0,null,null,3.8,null,null,4.3,4.6,null,null,3.7,4.9,4.3,5.0,null,null,2.9,4.4,4.4,null,4.6,4.5,4.0,null,3.5,4.8,4.8,3.5,4.7,4.6,4.4,4.3,4.7,4.4,4.0,3.5,4.6,3.9,3.5,4.6,4.2,4.4,4.6,4.0,4.2,3.8,4.1,4.3,4.4,4.5,4.1,4.2,4.0,3.6,3.3,4.7,4.6,4.5,3.9,4.3,null,3.9,4.3,null,null,3.1,4.4,3.7,4.6,4.6,2.7,null,null,4.1,4.2,1.9,4.6,null,4.2,null,4.4,4.2,3.9,2.4,5.0,3.9,null,3.7,5.0,4.0,3.0,4.1,4.8,4.5,3.5,null,null,null,4.5,4.5,4.2,4.3,4.4,4.4,4.3,4.2,4.5,4.3,4.3,4.2,4.9,4.1,1.4,4.0,5.0,4.3,null,4.2,4.3,3.8,4.1,4.2,4.3,4.1,4.3,3.6,4.3,4.6,4.4,5.0,4.4,4.5,null,4.7,null,5.0,null,null,3.4,3.1,4.5,5.0,4.3,4.4,4.3,4.2,4.0,4.5,4.0,4.1,3.8,4.3,4.6,4.1,4.3,4.3,4.2,4.3,4.4,4.4,3.9,4.3,4.5,4.3,3.5,4.2,4.1,4.1,4.7,4.5,3.3,4.2,null,null,4.2,4.6,null,4.3,4.3,4.0,4.7,5.0,null,null,null,null,null,null,null,5.0,4.9,null,null,null,null,null,null,4.3,null,null,null,4.0,null,null,4.5,null,4.1,4.3,null,null,null,4.5,null,null,3.9,3.7,4.2,3.6,3.6,2.1,4.7,3.2,3.0,4.3,3.0,4.3,3.9,3.3,4.3,4.0,3.7,2.8,4.4,5.0,3.9,4.2,4.8,4.0,null,3.0,4.5,2.6,5.0,null,null,5.0,4.1,null,4.5,5.0,4.7,4.5,4.4,4.4,4.3,4.2,3.0,4.1,4.2,4.2,4.0,4.3,4.1,3.6,4.3,5.0,4.2,3.9,null,4.1,3.8,5.0,3.7,4.3,4.2,4.3,2.5,4.3,4.4,null,4.3,4.2,4.6,4.0,2.9,null,4.5,4.7,3.8,null,4.7,3.9,4.5,4.7,4.5,4.2,4.3,4.4,4.8,4.2,4.1,4.5,4.5,4.6,4.4,4.1,4.3,4.7,4.4,4.2,4.3,4.5,4.3,4.8,4.5,4.6,4.7,4.4,4.1,4.3,4.2,4.2,3.6,2.8,3.9,3.8,4.4,3.7,2.7,3.8,3.2,3.9,2.3,4.1,4.3,3.1,4.6,4.1,4.4,3.2,4.5,3.7,null,null,null,4.4,4.5,5.0,4.8,null,4.6,4.0,4.1,null,4.1,null,null,4.8,null,null,null,4.3,2.8,null,null,4.7,4.5,4.2,4.3,3.8,3.8,4.2,3.8,4.0,4.0,4.6,4.0,4.3,4.3,3.9,5.0,4.0,4.1,3.9,4.2,4.3,4.5,4.4,4.1,4.2,4.5,4.6,4.1,3.9,4.7,3.9,4.3,2.9,4.4,3.7,4.4,4.1,null,2.8,4.9,3.4,2.8,2.5,4.7,3.1,null,3.2,4.3,3.9,3.6,3.2,null,3.5,3.3,null,null,null,null,2.4,4.4,2.8,5.0,null,4.4,null,null,null,null,null,null,null,5.0,null,3.3,2.9,4.1,4.6,null,2.2,4.3,5.0,2.5,null,3.0,3.7,5.0,null,null,null,null,5.0,null,null,4.1,null,null,null,4.1,2.6,4.6,4.5,null,4.5,null,3.3,null,4.4,4.7,4.7,4.0,4.5,4.3,4.6,4.7,4.4,4.0,4.2,4.3,4.1,4.5,4.3,4.3,4.7,4.1,4.3,4.4,3.1,4.0,4.5,4.5,4.4,4.2,4.6,4.4,4.6,4.0,4.6,4.3,4.3,3.9,4.5,4.7,4.3,4.6,4.6,4.2,4.3,4.6,4.2,4.1,4.6,4.4,3.7,4.4,3.9,4.3,4.3,4.3,4.5,4.5,4.5,4.5,4.7,4.3,4.4,4.5,4.3,4.3,4.2,4.2,4.3,4.2,4.7,4.1,4.3,4.1,3.8,4.5,4.1,null,4.3,4.5,4.1,4.4,4.3,4.4,4.3,null,4.1,4.6,4.7,4.2,3.7,4.7,4.4,4.7,4.2,4.6,4.5,4.8,3.7,4.3,4.2,3.6,4.1,2.3,4.3,4.6,4.5,4.0,4.2,4.6,4.2,4.5,4.3,4.4,3.6,4.0,null,2.8,3.8,4.1,3.8,3.4,4.5,4.3,3.1,4.6,3.3,3.9,4.2,4.9,3.9,3.4,3.7,4.2,3.8,4.6,4.4,4.0,4.2,null,4.2,4.5,4.6,4.4,4.6,4.5,3.7,4.1,4.2,4.0,4.5,4.6,4.5,4.4,3.3,4.2,4.2,4.0,4.0,4.0,3.5,4.5,3.9,3.9,4.1,4.4,4.2,4.4,4.3,4.1,4.0,4.3,4.4,4.5,4.6,3.7,3.8,3.4,4.3,3.8,4.7,4.4,4.4,4.1,4.4,4.0,3.9,4.3,4.2,3.3,4.0,4.6,4.1,4.1,3.4,3.4,4.1,4.0,3.4,3.2,3.8,3.8,3.9,3.6,3.8,3.9,3.2,1.0,4.6,null,3.6,4.9,null,2.6,3.9,null,3.5,3.2,null,3.3,null,null,3.8,3.9,4.6,1.8,null,4.3,3.9,null,4.8,3.7,4.0,4.1,4.6,4.0,null,4.8,null,4.0,3.5,null,3.0,4.6,1.6,3.8,1.7,4.6,5.0,4.6,4.4,4.5,3.8,4.0,4.1,null,5.0,null,null,null,null,5.0,1.0,null,null,4.4,4.7,4.6,2.4,null,4.5,null,null,4.4,4.3,5.0,4.1,3.8,3.9,3.1,4.7,4.5,3.5,4.5,4.6,4.5,4.5,4.4,4.3,4.4,4.2,4.6,4.5,3.8,4.3,4.6,4.3,3.6,4.2,4.7,4.3,4.7,4.8,3.1,4.5,4.4,4.5,4.5,null,4.7,4.1,4.4,4.3,4.6,3.4,null,4.7,3.6,3.7,2.1,2.0,3.5,4.3,2.4,4.5,2.8,null,4.5,null,2.8,3.9,3.2,3.1,2.4,4.6,2.9,4.0,3.7,2.3,2.9,4.6,4.3,5.0,4.2,4.6,4.5,4.2,4.8,3.5,4.6,3.5,3.6,null,5.0,3.0,null,null,2.9,3.7,4.6,null,4.2,3.2,2.5,4.4,4.3,2.7,4.0,4.5,3.4,4.3,4.3,null,4.3,null,null,4.0,4.9,3.4,4.9,4.3,4.7,4.8,4.3,4.3,4.0,null,3.5,null,5.0,4.7,null,4.2,4.4,4.2,5.0,null,5.0,2.0,null,3.7,null,null,null,3.9,4.5,null,null,null,3.1,4.5,4.7,null,4.4,3.8,4.2,4.5,null,4.5,4.6,4.2,4.5,4.2,4.2,4.1,4.3,5.0,4.6,4.0,4.4,null,4.5,3.6,4.6,null,4.0,4.6,4.5,4.5,null,null,null,4.8,5.0,4.4,null,4.0,3.5,5.0,4.0,4.2,4.0,3.9,4.5,3.6,4.2,3.0,3.0,4.0,3.4,4.9,null,null,null,null,4.0,4.4,4.1,4.4,4.0,null,4.5,4.2,3.9,null,3.6,5.0,4.4,3.6,4.7,4.2,4.5,4.7,null,null,4.3,4.2,4.4,null,4.7,4.4,null,4.1,4.5,4.1,4.0,null,null,4.3,4.2,null,4.2,null,4.1,4.2,null,5.0,4.0,4.0,4.5,null,4.1,null,4.7,4.4,4.9,3.6,4.2,null,4.4,null,4.5,4.2,null,null,4.2,null,4.5,4.4,4.4,4.5,4.5,3.9,4.3,4.4,null,4.5,4.0,4.5,4.0,4.4,4.3,2.5,4.4,3.8,4.4,4.2,4.1,4.2,3.9,4.5,4.1,4.4,4.3,4.5,3.4,3.4,4.4,4.2,4.4,3.5,4.1,4.6,1.7,3.3,5.0,4.8,null,4.6,3.3,null,4.2,null,3.5,3.7,5.0,null,null,4.6,4.1,3.5,5.0,null,3.7,4.0,null,null,4.2,null,4.5,3.8,2.5,4.0,null,4.0,4.1,null,null,3.4,3.6,3.4,3.9,4.6,4.3,4.7,5.0,3.9,3.9,4.2,4.3,3.5,null,4.1,4.2,4.4,4.5,3.8,3.4,null,3.9,4.5,null,null,3.0,null,4.1,4.6,null,3.9,4.7,4.5,3.4,5.0,5.0,5.0,4.0,null,null,4.0,null,4.9,5.0,null,4.6,null,4.8,4.1,4.1,null,null,4.7,null,5.0,4.4,3.3,4.0,3.5,2.8,null,3.6,3.2,3.6,3.7,3.3,3.1,4.1,3.1,3.5,3.6,5.0,2.3,null,3.1,2.9,3.0,2.9,3.9,5.0,null,3.4,5.0,null,4.8,null,4.2,null,null,null,5.0,null,4.3,4.6,4.7,null,4.4,4.8,null,null,4.1,null,4.6,4.3,4.6,4.0,2.9,4.1,null,null,null,null,4.2,null,4.3,4.4,2.4,4.2,null,null,null,3.1,null,3.0,4.7,3.4,null,4.7,4.7,4.2,5.0,4.5,4.3,3.3,4.4,null,4.2,4.2,4.7,4.3,4.8,4.2,4.0,4.2,4.1,4.6,4.6,3.8,4.5,4.4,4.1,4.0,3.9,3.5,5.0,4.6,null,3.6,4.2,null,null,3.8,null,3.4,3.8,4.2,4.2,3.7,4.0,4.4,4.5,3.7,4.2,3.9,4.0,3.7,4.2,4.0,3.9,4.1,4.3,4.5,4.5,3.3,4.4,4.2,4.2,4.1,4.1,4.4,4.1,3.9,3.9,4.4,3.8,3.0,3.4,4.3,null,null,5.0,null,4.1,null,2.4,3.9,null,null,null,4.0,null,3.0,null,4.4,3.4,2.9,5.0,4.5,3.7,3.0,null,4.0,3.2,3.6,3.2,3.7,4.7,4.4,3.9,4.4,4.3,4.9,2.6,5.0,4.1,4.0,4.1,null,3.3,4.2,4.0,4.3,null,4.4,5.0,4.3,4.4,null,null,null,3.9,4.3,4.0,3.8,4.5,null,3.8,4.4,4.3,4.7,3.9,4.2,3.8,4.3,3.8,4.2,4.5,4.2,3.6,4.0,null,3.5,4.4,3.5,4.1,4.8,4.4,4.3,4.0,4.2,4.4,3.5,4.3,4.4,4.7,5.0,3.8,5.0,4.8,4.9,4.3,null,5.0,null,4.9,4.9,4.9,4.5,null,4.5,5.0,5.0,3.0,null,null,4.9,5.0,5.0,null,4.1,null,4.1,4.3,4.3,4.1,4.7,null,4.9,4.0,5.0,5.0,null,4.6,4.2,3.7,5.0,4.3,4.0,4.3,4.0,4.0,3.1,3.4,4.2,4.2,4.1,3.4,null,4.0,null,3.9,4.8,4.1,4.3,4.3,4.4,null,4.4,4.5,4.5,4.8,4.4,4.5,4.6,4.6,4.5,null,4.2,4.4,4.2,4.7,4.5,4.2,4.5,4.2,4.7,4.1,4.1,4.6,4.4,4.5,3.8,3.9,3.5,3.8,4.2,4.6,3.7,4.4,3.6,3.4,4.0,4.3,4.3,4.5,4.4,4.5,4.1,4.4,4.3,4.5,4.5,4.2,4.5,4.3,4.1,4.6,4.3,4.0,4.4,4.4,null,4.6,4.6,4.3,4.3,4.2,4.5,4.0,4.6,4.5,3.8,4.3,4.3,4.9,4.0,4.5,4.1,4.5,4.2,4.4,4.4,4.0,4.3,4.3,4.4,4.4,4.0,4.7,4.2,4.5,4.1,4.4,4.1,4.3,3.5,4.7,null,2.6,4.2,null,null,null,null,null,null,null,null,5.0,null,4.3,null,null,null,null,null,4.4,4.3,null,null,4.1,null,4.3,4.5,null,4.6,4.6,4.7,null,4.3,4.2,4.5,4.3,4.5,3.5,4.3,4.6,4.5,4.3,4.4,null,null,null,3.4,4.3,3.8,4.5,null,null,null,5.0,4.9,null,null,5.0,null,null,4.2,4.3,4.4,2.3,4.7,null,null,null,4.4,4.3,4.4,null,4.0,3.6,null,4.1,4.6,3.9,4.4,null,3.7,3.9,null,4.3,4.1,3.6,3.5,3.9,3.9,3.8,4.0,null,4.5,3.6,3.9,4.3,4.0,4.2,3.7,3.9,4.2,3.5,4.0,3.8,4.1,4.2,4.1,4.4,3.7,null,4.7,3.8,4.0,4.2,3.8,3.9,4.0,3.1,5.0,3.5,4.1,4.5,4.7,4.1,null,3.9,4.0,4.3,3.1,null,4.2,4.1,4.4,3.2,null,3.3,4.3,4.7,4.3,4.2,4.7,4.3,4.2,4.2,4.2,4.1,4.2,4.3,4.4,4.3,3.5,4.3,1.8,4.2,4.2,4.6,4.0,4.3,5.0,3.8,4.3,3.0,5.0,4.7,4.6,4.4,4.7,5.0,4.8,3.0,4.6,4.6,null,4.1,4.6,4.5,4.3,4.2,3.9,4.7,4.9,4.3,4.4,3.6,4.6,4.5,null,3.9,4.3,4.8,3.7,4.4,4.2,4.3,4.6,4.5,3.9,4.3,4.4,4.0,4.7,4.3,4.5,4.2,4.2,4.8,4.6,4.5,4.0,4.2,4.1,4.7,4.2,4.6,4.5,3.9,3.6,4.6,null,3.4,4.2,3.4,3.6,4.2,3.5,4.3,null,3.9,4.3,3.6,null,3.9,4.3,3.7,null,3.8,null,4.1,4.1,4.7,4.1,null,1.9,3.6,3.8,null,4.5,2.7,null,4.5,null,5.0,4.0,4.2,null,null,4.4,null,4.0,null,3.1,null,null,5.0,null,null,null,null,null,null,null,null,null,4.7,3.7,3.9,null,null,3.0,null,null,null,null,null,4.2,3.0,null,null,4.2,null,null,4.2,3.7,4.6,4.5,4.6,4.7,4.3,2.3,2.8,2.8,3.6,3.0,3.2,3.5,3.8,3.5,4.2,null,4.5,3.4,3.0,4.4,4.0,null,4.3,null,4.1,3.6,3.7,4.2,3.7,4.3,null,null,3.3,4.4,4.8,3.5,4.0,4.9,4.0,null,4.6,4.3,3.6,3.9,3.9,4.0,4.2,4.4,null,null,4.3,null,null,null,null,3.7,null,4.3,null,null,3.4,null,3.5,null,4.2,4.2,null,3.6,null,3.9,3.8,3.8,4.0,4.5,3.8,4.9,3.8,4.1,3.5,3.0,4.5,4.7,3.8,3.3,4.0,4.1,3.7,3.9,3.5,4.4,4.0,4.0,4.6,4.4,4.5,4.3,4.4,4.3,4.1,4.2,2.7,4.2,2.3,3.9,4.1,2.9,3.3,4.2,4.3,2.9,3.5,2.8,null,4.3,3.5,4.6,4.2,4.2,3.7,4.7,3.9,4.3,4.4,4.0,4.4,3.7,4.3,3.5,null,4.3,4.0,4.5,4.2,4.3,4.1,2.5,2.7,null,null,null,null,1.2,null,null,null,4.7,4.9,4.7,null,null,4.4,4.7,4.0,null,4.7,4.3,null,4.7,null,4.4,null,null,null,null,null,null,4.6,null,null,null,4.4,4.4,4.4,4.6,3.1,4.3,3.7,4.6,null,4.1,4.2,4.4,4.1,3.6,4.4,3.8,4.0,3.2,2.8,3.1,2.9,4.1,3.3,3.5,4.2,2.8,2.1,4.4,4.4,4.2,4.1,3.3,3.5,4.7,3.1,4.3,4.1,4.2,2.5,3.9,3.0,3.2,4.3,4.3,4.2,4.3,2.2,3.9,2.8,4.4,4.6,4.4,3.9,2.9,4.1,5.0,4.6,3.7,null,4.4,4.2,4.4,3.9,3.6,3.4,null,4.3,4.3,4.4,null,4.3,4.3,null,null,null,4.4,null,4.0,4.5,4.6,4.3,4.1,4.4,3.5,4.1,3.8,4.2,4.3,4.5,4.0,4.0,4.3,4.1,3.4,4.0,4.3,4.7,4.5,4.3,4.1,4.1,4.4,4.6,null,3.8,3.9,4.2,4.2,3.7,4.3,4.2,3.6,4.3,4.3,4.3,4.5,4.3,4.7,3.8,4.0,4.1,null,3.9,4.3,3.4,null,4.2,4.5,4.4,4.2,4.7,4.6,4.4,4.4,4.8,4.6,4.3,4.4,4.4,3.3,4.5,4.6,4.3,4.9,4.3,null,4.5,4.9,3.7,4.5,4.6,4.5,4.1,4.8,null,5.0,3.4,4.5,4.8,4.5,4.5,4.5,4.5,4.5,4.1,4.1,3.6,4.7,4.6,4.9,4.6,4.1,4.5,3.9,3.9,4.6,3.8,4.7,3.9,4.1,3.9,4.0,4.3,4.0,4.4,4.1,5.0,4.8,null,4.6,5.0,4.2,4.7,4.0,4.4,4.9,3.5,4.1,4.2,4.4,null,4.5,3.1,null,4.5,4.6,4.3,4.4,4.6,4.3,4.8,2.8,4.1,1.0,3.0,5.0,4.5,null,null,null,null,null,null,null,5.0,4.1,null,null,null,4.4,3.0,null,3.8,null,3.9,null,null,null,5.0,null,null,null,4.5,null,null,null,5.0,null,null,3.3,null,4.5,4.9,null,null,null,null,null,null,4.3,4.5,4.1,4.8,3.8,4.1,3.9,null,4.2,4.2,4.8,4.1,4.1,4.0,3.9,4.1,4.1,4.2,3.7,3.9,3.9,3.6,3.7,3.6,4.3,3.9,4.5,2.6,4.4,null,1.0,null,null,null,null,4.2,4.8,5.0,4.3,4.4,4.5,null,4.9,null,null,null,5.0,null,null,4.2,4.2,null,null,4.0,2.1,null,4.2,null,2.5,4.4,4.4,4.6,null,null,4.4,4.2,4.5,3.3,3.9,null,4.5,4.1,4.8,4.6,4.4,3.8,3.7,4.2,3.7,4.3,4.5,3.5,4.0,4.5,2.9,3.9,3.6,4.6,2.1,4.7,4.5,4.1,4.5,3.7,2.9,4.0,4.2,3.7,3.6,3.9,3.4,3.5,4.2,3.4,3.9,3.0,3.6,3.2,4.1,4.1,4.2,4.2,null,4.7,null,4.6,4.5,null,4.3,4.5,4.5,4.4,4.3,null,null,null,null,4.2,null,3.7,null,4.1,4.3,4.0,3.5,4.2,4.4,4.2,4.4,null,3.8,3.9,4.0,3.8,3.6,4.2,null,3.8,null,3.7,4.0,4.2,4.4,null,null,4.4,4.9,null,5.0,null,4.8,null,null,null,null,null,null,null,null,4.0,null,null,null,null,null,null,null,null,4.0,null,null,4.9,null,3.8,null,4.9,null,null,null,null,null,1.5,null,5.0,null,4.8,null,3.9,3.7,4.6,4.7,4.6,4.3,4.2,4.6,4.7,4.6,2.0,3.6,3.2,3.8,4.0,3.8,3.8,4.4,4.4,4.4,3.8,4.3,4.6,1.0,3.2,4.7,4.3,4.5,4.1,4.9,4.1,4.2,3.5,4.2,5.0,3.8,4.7,null,null,4.5,null,5.0,3.3,5.0,null,4.0,4.5,3.2,4.5,4.2,null,3.7,3.8,5.0,null,4.1,2.9,null,null,null,4.7,5.0,3.2,null,3.8,3.8,4.6,4.6,4.4,4.8,4.2,3.3,3.9,4.5,3.9,4.3,4.4,3.9,4.6,3.9,3.4,4.6,null,null,4.2,null,null,4.8,5.0,null,null,5.0,null,null,null,3.8,null,2.9,4.6,3.8,null,null,null,4.1,null,4.5,null,4.2,null,2.5,3.5,4.6,4.4,4.6,4.3,4.2,4.2,4.1,4.2,4.3,4.5,4.4,5.0,4.6,null,null,null,null,null,5.0,null,null,null,null,null,3.4,null,null,4.6,4.5,null,null,3.8,4.1,4.4,4.4,4.4,3.0,4.2,4.2,3.9,4.2,4.4,5.0,4.0,4.3,4.6,3.6,4.4,4.1,4.2,4.3,4.5,3.9,4.3,3.5,null,null,null,4.0,3.8,3.6,4.3,4.2,5.0,3.4,null,null,null,3.5,null,3.7,4.2,null,3.6,4.5,4.2,4.3,4.4,2.7,4.1,null,4.4,null,null,4.5,null,3.4,2.9,4.8,3.8,null,4.0,3.9,null,null,null,null,5.0,3.9,4.0,3.6,4.1,4.3,3.8,4.2,4.3,4.2,4.2,4.1,null,4.0,4.1,4.0,4.2,4.4,null,4.2,4.7,4.6,null,4.7,4.1,4.9,4.0,4.3,4.2,4.3,null,null,null,4.7,4.8,null,4.1,null,4.0,4.2,null,4.0,null,3.3,5.0,null,null,null,null,null,4.0,4.2,3.4,4.6,3.8,null,3.8,4.8,4.0,null,4.5,5.0,null,4.5,4.5],\"y0\":\" \",\"yaxis\":\"y\",\"type\":\"box\"}],                        {\"template\":{\"data\":{\"bar\":[{\"error_x\":{\"color\":\"#2a3f5f\"},\"error_y\":{\"color\":\"#2a3f5f\"},\"marker\":{\"line\":{\"color\":\"#E5ECF6\",\"width\":0.5},\"pattern\":{\"fillmode\":\"overlay\",\"size\":10,\"solidity\":0.2}},\"type\":\"bar\"}],\"barpolar\":[{\"marker\":{\"line\":{\"color\":\"#E5ECF6\",\"width\":0.5},\"pattern\":{\"fillmode\":\"overlay\",\"size\":10,\"solidity\":0.2}},\"type\":\"barpolar\"}],\"carpet\":[{\"aaxis\":{\"endlinecolor\":\"#2a3f5f\",\"gridcolor\":\"white\",\"linecolor\":\"white\",\"minorgridcolor\":\"white\",\"startlinecolor\":\"#2a3f5f\"},\"baxis\":{\"endlinecolor\":\"#2a3f5f\",\"gridcolor\":\"white\",\"linecolor\":\"white\",\"minorgridcolor\":\"white\",\"startlinecolor\":\"#2a3f5f\"},\"type\":\"carpet\"}],\"choropleth\":[{\"colorbar\":{\"outlinewidth\":0,\"ticks\":\"\"},\"type\":\"choropleth\"}],\"contour\":[{\"colorbar\":{\"outlinewidth\":0,\"ticks\":\"\"},\"colorscale\":[[0.0,\"#0d0887\"],[0.1111111111111111,\"#46039f\"],[0.2222222222222222,\"#7201a8\"],[0.3333333333333333,\"#9c179e\"],[0.4444444444444444,\"#bd3786\"],[0.5555555555555556,\"#d8576b\"],[0.6666666666666666,\"#ed7953\"],[0.7777777777777778,\"#fb9f3a\"],[0.8888888888888888,\"#fdca26\"],[1.0,\"#f0f921\"]],\"type\":\"contour\"}],\"contourcarpet\":[{\"colorbar\":{\"outlinewidth\":0,\"ticks\":\"\"},\"type\":\"contourcarpet\"}],\"heatmap\":[{\"colorbar\":{\"outlinewidth\":0,\"ticks\":\"\"},\"colorscale\":[[0.0,\"#0d0887\"],[0.1111111111111111,\"#46039f\"],[0.2222222222222222,\"#7201a8\"],[0.3333333333333333,\"#9c179e\"],[0.4444444444444444,\"#bd3786\"],[0.5555555555555556,\"#d8576b\"],[0.6666666666666666,\"#ed7953\"],[0.7777777777777778,\"#fb9f3a\"],[0.8888888888888888,\"#fdca26\"],[1.0,\"#f0f921\"]],\"type\":\"heatmap\"}],\"heatmapgl\":[{\"colorbar\":{\"outlinewidth\":0,\"ticks\":\"\"},\"colorscale\":[[0.0,\"#0d0887\"],[0.1111111111111111,\"#46039f\"],[0.2222222222222222,\"#7201a8\"],[0.3333333333333333,\"#9c179e\"],[0.4444444444444444,\"#bd3786\"],[0.5555555555555556,\"#d8576b\"],[0.6666666666666666,\"#ed7953\"],[0.7777777777777778,\"#fb9f3a\"],[0.8888888888888888,\"#fdca26\"],[1.0,\"#f0f921\"]],\"type\":\"heatmapgl\"}],\"histogram\":[{\"marker\":{\"pattern\":{\"fillmode\":\"overlay\",\"size\":10,\"solidity\":0.2}},\"type\":\"histogram\"}],\"histogram2d\":[{\"colorbar\":{\"outlinewidth\":0,\"ticks\":\"\"},\"colorscale\":[[0.0,\"#0d0887\"],[0.1111111111111111,\"#46039f\"],[0.2222222222222222,\"#7201a8\"],[0.3333333333333333,\"#9c179e\"],[0.4444444444444444,\"#bd3786\"],[0.5555555555555556,\"#d8576b\"],[0.6666666666666666,\"#ed7953\"],[0.7777777777777778,\"#fb9f3a\"],[0.8888888888888888,\"#fdca26\"],[1.0,\"#f0f921\"]],\"type\":\"histogram2d\"}],\"histogram2dcontour\":[{\"colorbar\":{\"outlinewidth\":0,\"ticks\":\"\"},\"colorscale\":[[0.0,\"#0d0887\"],[0.1111111111111111,\"#46039f\"],[0.2222222222222222,\"#7201a8\"],[0.3333333333333333,\"#9c179e\"],[0.4444444444444444,\"#bd3786\"],[0.5555555555555556,\"#d8576b\"],[0.6666666666666666,\"#ed7953\"],[0.7777777777777778,\"#fb9f3a\"],[0.8888888888888888,\"#fdca26\"],[1.0,\"#f0f921\"]],\"type\":\"histogram2dcontour\"}],\"mesh3d\":[{\"colorbar\":{\"outlinewidth\":0,\"ticks\":\"\"},\"type\":\"mesh3d\"}],\"parcoords\":[{\"line\":{\"colorbar\":{\"outlinewidth\":0,\"ticks\":\"\"}},\"type\":\"parcoords\"}],\"pie\":[{\"automargin\":true,\"type\":\"pie\"}],\"scatter\":[{\"marker\":{\"colorbar\":{\"outlinewidth\":0,\"ticks\":\"\"}},\"type\":\"scatter\"}],\"scatter3d\":[{\"line\":{\"colorbar\":{\"outlinewidth\":0,\"ticks\":\"\"}},\"marker\":{\"colorbar\":{\"outlinewidth\":0,\"ticks\":\"\"}},\"type\":\"scatter3d\"}],\"scattercarpet\":[{\"marker\":{\"colorbar\":{\"outlinewidth\":0,\"ticks\":\"\"}},\"type\":\"scattercarpet\"}],\"scattergeo\":[{\"marker\":{\"colorbar\":{\"outlinewidth\":0,\"ticks\":\"\"}},\"type\":\"scattergeo\"}],\"scattergl\":[{\"marker\":{\"colorbar\":{\"outlinewidth\":0,\"ticks\":\"\"}},\"type\":\"scattergl\"}],\"scattermapbox\":[{\"marker\":{\"colorbar\":{\"outlinewidth\":0,\"ticks\":\"\"}},\"type\":\"scattermapbox\"}],\"scatterpolar\":[{\"marker\":{\"colorbar\":{\"outlinewidth\":0,\"ticks\":\"\"}},\"type\":\"scatterpolar\"}],\"scatterpolargl\":[{\"marker\":{\"colorbar\":{\"outlinewidth\":0,\"ticks\":\"\"}},\"type\":\"scatterpolargl\"}],\"scatterternary\":[{\"marker\":{\"colorbar\":{\"outlinewidth\":0,\"ticks\":\"\"}},\"type\":\"scatterternary\"}],\"surface\":[{\"colorbar\":{\"outlinewidth\":0,\"ticks\":\"\"},\"colorscale\":[[0.0,\"#0d0887\"],[0.1111111111111111,\"#46039f\"],[0.2222222222222222,\"#7201a8\"],[0.3333333333333333,\"#9c179e\"],[0.4444444444444444,\"#bd3786\"],[0.5555555555555556,\"#d8576b\"],[0.6666666666666666,\"#ed7953\"],[0.7777777777777778,\"#fb9f3a\"],[0.8888888888888888,\"#fdca26\"],[1.0,\"#f0f921\"]],\"type\":\"surface\"}],\"table\":[{\"cells\":{\"fill\":{\"color\":\"#EBF0F8\"},\"line\":{\"color\":\"white\"}},\"header\":{\"fill\":{\"color\":\"#C8D4E3\"},\"line\":{\"color\":\"white\"}},\"type\":\"table\"}]},\"layout\":{\"annotationdefaults\":{\"arrowcolor\":\"#2a3f5f\",\"arrowhead\":0,\"arrowwidth\":1},\"autotypenumbers\":\"strict\",\"coloraxis\":{\"colorbar\":{\"outlinewidth\":0,\"ticks\":\"\"}},\"colorscale\":{\"diverging\":[[0,\"#8e0152\"],[0.1,\"#c51b7d\"],[0.2,\"#de77ae\"],[0.3,\"#f1b6da\"],[0.4,\"#fde0ef\"],[0.5,\"#f7f7f7\"],[0.6,\"#e6f5d0\"],[0.7,\"#b8e186\"],[0.8,\"#7fbc41\"],[0.9,\"#4d9221\"],[1,\"#276419\"]],\"sequential\":[[0.0,\"#0d0887\"],[0.1111111111111111,\"#46039f\"],[0.2222222222222222,\"#7201a8\"],[0.3333333333333333,\"#9c179e\"],[0.4444444444444444,\"#bd3786\"],[0.5555555555555556,\"#d8576b\"],[0.6666666666666666,\"#ed7953\"],[0.7777777777777778,\"#fb9f3a\"],[0.8888888888888888,\"#fdca26\"],[1.0,\"#f0f921\"]],\"sequentialminus\":[[0.0,\"#0d0887\"],[0.1111111111111111,\"#46039f\"],[0.2222222222222222,\"#7201a8\"],[0.3333333333333333,\"#9c179e\"],[0.4444444444444444,\"#bd3786\"],[0.5555555555555556,\"#d8576b\"],[0.6666666666666666,\"#ed7953\"],[0.7777777777777778,\"#fb9f3a\"],[0.8888888888888888,\"#fdca26\"],[1.0,\"#f0f921\"]]},\"colorway\":[\"#636efa\",\"#EF553B\",\"#00cc96\",\"#ab63fa\",\"#FFA15A\",\"#19d3f3\",\"#FF6692\",\"#B6E880\",\"#FF97FF\",\"#FECB52\"],\"font\":{\"color\":\"#2a3f5f\"},\"geo\":{\"bgcolor\":\"white\",\"lakecolor\":\"white\",\"landcolor\":\"#E5ECF6\",\"showlakes\":true,\"showland\":true,\"subunitcolor\":\"white\"},\"hoverlabel\":{\"align\":\"left\"},\"hovermode\":\"closest\",\"mapbox\":{\"style\":\"light\"},\"paper_bgcolor\":\"white\",\"plot_bgcolor\":\"#E5ECF6\",\"polar\":{\"angularaxis\":{\"gridcolor\":\"white\",\"linecolor\":\"white\",\"ticks\":\"\"},\"bgcolor\":\"#E5ECF6\",\"radialaxis\":{\"gridcolor\":\"white\",\"linecolor\":\"white\",\"ticks\":\"\"}},\"scene\":{\"xaxis\":{\"backgroundcolor\":\"#E5ECF6\",\"gridcolor\":\"white\",\"gridwidth\":2,\"linecolor\":\"white\",\"showbackground\":true,\"ticks\":\"\",\"zerolinecolor\":\"white\"},\"yaxis\":{\"backgroundcolor\":\"#E5ECF6\",\"gridcolor\":\"white\",\"gridwidth\":2,\"linecolor\":\"white\",\"showbackground\":true,\"ticks\":\"\",\"zerolinecolor\":\"white\"},\"zaxis\":{\"backgroundcolor\":\"#E5ECF6\",\"gridcolor\":\"white\",\"gridwidth\":2,\"linecolor\":\"white\",\"showbackground\":true,\"ticks\":\"\",\"zerolinecolor\":\"white\"}},\"shapedefaults\":{\"line\":{\"color\":\"#2a3f5f\"}},\"ternary\":{\"aaxis\":{\"gridcolor\":\"white\",\"linecolor\":\"white\",\"ticks\":\"\"},\"baxis\":{\"gridcolor\":\"white\",\"linecolor\":\"white\",\"ticks\":\"\"},\"bgcolor\":\"#E5ECF6\",\"caxis\":{\"gridcolor\":\"white\",\"linecolor\":\"white\",\"ticks\":\"\"}},\"title\":{\"x\":0.05},\"xaxis\":{\"automargin\":true,\"gridcolor\":\"white\",\"linecolor\":\"white\",\"ticks\":\"\",\"title\":{\"standoff\":15},\"zerolinecolor\":\"white\",\"zerolinewidth\":2},\"yaxis\":{\"automargin\":true,\"gridcolor\":\"white\",\"linecolor\":\"white\",\"ticks\":\"\",\"title\":{\"standoff\":15},\"zerolinecolor\":\"white\",\"zerolinewidth\":2}}},\"xaxis\":{\"anchor\":\"y\",\"domain\":[0.0,1.0]},\"yaxis\":{\"anchor\":\"x\",\"domain\":[0.0,1.0],\"title\":{\"text\":\"Rating\"}},\"legend\":{\"tracegroupgap\":0},\"margin\":{\"t\":60},\"boxmode\":\"group\"},                        {\"responsive\": true}                    ).then(function(){\n",
              "                            \n",
              "var gd = document.getElementById('23115815-3ee6-45e7-9e2d-1b22794f6f52');\n",
              "var x = new MutationObserver(function (mutations, observer) {{\n",
              "        var display = window.getComputedStyle(gd).display;\n",
              "        if (!display || display === 'none') {{\n",
              "            console.log([gd, 'removed!']);\n",
              "            Plotly.purge(gd);\n",
              "            observer.disconnect();\n",
              "        }}\n",
              "}});\n",
              "\n",
              "// Listen for the removal of the full notebook cells\n",
              "var notebookContainer = gd.closest('#notebook-container');\n",
              "if (notebookContainer) {{\n",
              "    x.observe(notebookContainer, {childList: true});\n",
              "}}\n",
              "\n",
              "// Listen for the clearing of the current output cell\n",
              "var outputEl = gd.closest('.output');\n",
              "if (outputEl) {{\n",
              "    x.observe(outputEl, {childList: true});\n",
              "}}\n",
              "\n",
              "                        })                };                            </script>        </div>\n",
              "</body>\n",
              "</html>"
            ]
          },
          "metadata": {}
        }
      ]
    },
    {
      "cell_type": "code",
      "source": [
        "px.histogram(data, x = 'Rating', y = 'Rating' )"
      ],
      "metadata": {
        "colab": {
          "base_uri": "https://localhost:8080/"
        },
        "id": "CidnlT4QyiIW",
        "outputId": "54a751ed-e048-43f2-b55d-62aba7cca4ab"
      },
      "execution_count": null,
      "outputs": [
        {
          "output_type": "display_data",
          "data": {
            "text/html": [
              "<html>\n",
              "<head><meta charset=\"utf-8\" /></head>\n",
              "<body>\n",
              "    <div>            <script src=\"https://cdnjs.cloudflare.com/ajax/libs/mathjax/2.7.5/MathJax.js?config=TeX-AMS-MML_SVG\"></script><script type=\"text/javascript\">if (window.MathJax) {MathJax.Hub.Config({SVG: {font: \"STIX-Web\"}});}</script>                <script type=\"text/javascript\">window.PlotlyConfig = {MathJaxConfig: 'local'};</script>\n",
              "        <script src=\"https://cdn.plot.ly/plotly-2.8.3.min.js\"></script>                <div id=\"02d30002-37b5-4bfb-8b5a-944a53c7b0b3\" class=\"plotly-graph-div\" style=\"height:525px; width:100%;\"></div>            <script type=\"text/javascript\">                                    window.PLOTLYENV=window.PLOTLYENV || {};                                    if (document.getElementById(\"02d30002-37b5-4bfb-8b5a-944a53c7b0b3\")) {                    Plotly.newPlot(                        \"02d30002-37b5-4bfb-8b5a-944a53c7b0b3\",                        [{\"alignmentgroup\":\"True\",\"bingroup\":\"x\",\"histfunc\":\"sum\",\"hovertemplate\":\"Rating=%{x}<br>sum of Rating=%{y}<extra></extra>\",\"legendgroup\":\"\",\"marker\":{\"color\":\"#636efa\",\"pattern\":{\"shape\":\"\"}},\"name\":\"\",\"offsetgroup\":\"\",\"orientation\":\"v\",\"showlegend\":false,\"x\":[4.1,3.9,4.7,4.5,4.3,4.4,3.8,4.1,4.4,4.7,4.4,4.4,4.2,4.6,4.4,3.2,4.7,4.5,4.3,4.6,4.0,4.1,4.7,null,4.7,4.8,4.7,4.1,3.9,4.1,4.2,4.1,4.5,4.2,4.7,3.8,4.7,4.1,4.7,4.0,4.2,4.5,4.4,3.8,4.2,4.7,4.6,4.2,4.3,4.2,4.0,3.8,4.6,3.9,4.3,4.9,4.4,4.2,4.0,3.9,4.6,4.9,4.3,4.6,4.9,3.9,4.0,4.3,3.9,4.2,4.8,3.6,4.2,4.8,4.8,4.6,4.5,4.3,4.5,4.9,3.9,4.4,4.0,4.3,3.7,4.4,4.3,3.2,4.6,4.6,4.5,3.7,4.6,4.6,4.6,4.0,4.4,4.0,4.7,4.9,4.7,3.9,3.9,4.2,4.6,4.3,4.7,4.7,4.8,4.2,4.3,4.5,4.1,null,4.2,4.5,4.4,4.0,4.1,4.1,4.4,4.6,4.5,null,3.9,4.4,null,4.6,3.8,null,null,4.0,4.3,4.5,null,4.1,3.7,4.7,4.2,4.6,4.5,4.6,4.4,4.2,4.5,4.5,4.5,4.5,4.4,4.5,4.6,4.8,3.9,4.6,4.2,4.1,4.7,4.2,4.3,3.3,4.6,4.8,4.7,null,4.1,4.6,4.1,4.6,4.7,4.5,3.9,4.4,4.3,4.2,4.5,4.4,3.4,4.9,4.6,4.4,null,4.4,4.4,4.4,3.5,null,4.4,4.1,4.3,4.4,4.3,4.3,4.1,4.4,4.3,3.9,4.8,4.5,4.4,4.0,4.3,4.0,4.2,4.5,4.2,4.2,4.6,4.1,4.6,3.1,3.9,4.3,4.1,4.4,4.1,4.1,4.5,4.4,4.4,4.3,4.4,4.6,4.2,4.4,4.7,3.8,3.9,null,4.3,4.2,4.4,4.7,4.5,4.2,4.7,4.8,4.2,4.2,4.3,4.4,4.4,4.1,3.8,4.3,3.8,3.5,4.1,4.6,4.3,4.5,4.1,4.5,4.6,4.0,4.2,4.4,4.4,4.0,4.2,4.2,4.1,4.0,3.8,3.9,3.9,4.2,4.2,4.3,4.4,4.4,4.1,3.8,4.3,3.8,3.5,4.1,4.6,4.3,4.5,4.1,4.5,4.6,4.0,4.2,4.3,4.2,4.4,4.7,4.5,4.2,4.7,4.8,4.1,4.3,4.4,4.5,4.3,4.5,4.6,4.7,4.7,4.8,3.9,4.1,4.4,4.6,4.5,4.7,4.4,4.5,3.9,3.2,3.2,4.1,4.5,4.2,4.2,3.7,4.5,4.6,4.5,null,4.7,4.4,3.5,3.3,4.5,4.4,4.2,5.0,4.4,4.7,4.4,4.4,4.6,4.0,4.4,4.3,4.3,4.4,4.3,4.0,4.3,4.3,4.4,4.3,4.3,4.3,4.3,4.3,4.0,4.5,4.3,3.7,4.5,3.9,4.4,3.6,4.4,4.2,4.4,4.1,4.4,4.3,4.2,4.2,4.4,4.4,3.9,4.2,4.4,4.6,4.3,4.3,4.4,3.7,4.3,3.9,4.5,3.7,4.3,4.4,4.0,4.3,4.0,4.3,4.0,4.1,4.2,4.2,4.2,4.1,4.4,4.3,4.2,4.4,4.2,4.1,4.3,4.3,4.5,4.3,4.2,4.2,4.5,4.3,4.3,4.3,4.4,4.2,4.3,4.3,4.4,4.6,4.3,4.4,4.2,4.5,4.5,4.4,4.5,4.1,4.2,4.1,4.3,4.1,4.2,4.0,4.2,4.2,4.2,4.3,4.3,4.4,4.2,4.4,4.1,4.2,4.8,4.4,4.4,4.4,4.0,4.5,4.4,4.1,4.2,4.5,4.3,4.5,4.0,4.3,4.3,4.2,4.5,4.6,4.1,4.0,4.2,4.6,4.1,4.3,4.2,4.3,4.0,4.3,4.2,4.3,4.1,4.2,4.1,4.6,4.3,4.2,4.2,4.3,4.2,2.6,null,null,null,3.5,4.0,4.1,3.7,4.1,4.2,4.5,4.4,4.2,4.0,4.1,3.1,4.4,4.2,4.1,3.9,4.3,4.4,3.5,4.0,3.3,4.5,4.4,4.1,3.9,3.9,3.6,4.0,3.6,3.4,4.2,4.1,3.4,3.0,4.6,4.1,3.9,1.9,3.5,2.5,3.9,3.4,3.5,4.4,3.8,4.2,2.5,2.8,4.1,4.2,3.5,4.3,3.3,4.1,4.2,3.5,4.2,4.4,4.1,4.2,4.3,4.1,4.0,4.1,4.2,3.0,4.4,4.5,2.5,4.1,4.2,4.0,4.1,1.9,3.3,4.4,4.1,3.8,4.1,4.2,4.0,4.5,3.7,3.9,3.5,3.9,4.0,4.6,4.0,4.1,4.2,3.3,4.4,4.3,4.2,3.9,4.3,3.4,4.2,4.1,4.0,3.6,4.2,3.5,4.0,4.1,4.1,2.8,4.4,4.4,4.2,4.1,4.2,3.9,4.1,4.2,3.9,4.0,4.2,4.5,3.9,3.6,4.4,3.5,4.4,4.8,4.6,4.7,4.8,null,2.7,5.0,null,4.8,5.0,4.8,null,4.9,3.0,null,null,4.7,null,null,1.0,null,null,null,null,null,null,null,5.0,4.7,null,5.0,null,null,null,5.0,null,null,null,null,3.0,4.1,null,null,null,null,null,null,null,5.0,3.7,4.5,4.2,null,null,null,4.3,4.1,1.9,4.1,4.4,null,3.9,3.9,null,4.0,4.4,4.7,3.8,4.4,4.4,3.6,4.4,2.7,4.3,4.6,2.8,3.5,null,3.4,4.8,4.7,4.8,4.8,4.7,4.1,3.5,4.7,3.8,2.9,4.5,3.3,4.1,null,4.7,4.6,4.7,4.6,4.7,null,4.5,4.7,4.8,4.6,4.6,4.6,4.2,4.9,3.8,4.2,4.4,4.4,4.3,4.5,4.4,4.6,3.9,4.4,4.3,4.4,4.2,4.4,4.0,4.2,3.8,4.5,4.7,4.5,4.3,4.2,4.3,4.7,4.7,4.6,4.6,4.6,4.5,4.4,4.6,4.5,4.5,4.2,4.4,4.4,4.2,4.5,4.1,4.0,4.1,4.3,4.3,4.3,4.5,4.6,4.1,4.6,4.7,4.7,4.3,4.7,4.6,4.6,4.6,4.3,4.2,4.0,4.5,4.2,4.1,4.4,4.0,4.5,4.4,4.0,4.2,4.3,4.2,4.6,4.6,4.7,4.6,4.4,4.5,4.3,4.6,4.5,4.2,4.2,4.7,4.5,4.6,4.3,4.2,4.7,4.7,4.4,4.5,4.4,4.0,4.6,4.4,4.7,4.7,4.3,4.1,4.2,4.3,4.3,4.3,4.0,4.2,4.0,4.0,3.8,4.6,4.1,3.9,4.1,4.5,4.2,4.4,4.7,4.0,4.4,4.4,4.0,4.5,4.7,4.3,4.5,4.3,4.1,4.3,4.5,4.2,4.6,3.5,4.2,4.4,4.4,4.6,4.3,4.5,4.8,4.4,4.1,4.9,4.7,4.7,4.7,4.4,4.0,4.2,4.3,4.5,3.5,4.2,3.1,4.6,4.2,4.3,4.3,4.1,3.8,3.4,4.3,4.4,4.4,4.0,3.7,3.9,4.5,4.4,4.3,4.2,4.2,4.5,4.7,4.5,4.5,3.4,4.2,4.3,4.2,4.6,4.1,4.2,4.2,4.3,4.4,3.9,4.1,4.3,4.5,4.6,3.6,4.3,4.3,4.2,4.4,4.1,4.1,4.2,3.9,4.2,3.7,4.5,3.7,3.8,4.3,3.0,4.1,4.2,4.1,3.9,4.0,4.4,4.2,4.0,3.9,4.0,4.2,4.0,4.3,3.9,4.2,4.4,4.3,3.7,4.3,3.7,3.8,4.2,4.0,3.9,4.4,4.5,4.1,4.1,3.9,4.5,4.0,4.1,3.6,3.8,4.0,4.2,3.7,3.8,3.7,4.1,3.7,3.9,4.4,4.3,3.9,3.7,3.7,4.2,4.3,4.0,4.1,3.9,4.5,3.9,4.1,4.3,4.4,4.1,4.0,3.9,3.9,4.0,4.1,4.2,3.8,4.0,3.9,4.2,3.7,3.9,4.2,4.3,4.3,4.6,4.3,4.6,4.2,4.6,4.5,4.6,3.9,4.2,4.4,4.2,4.3,4.6,4.3,4.5,4.0,4.0,4.5,4.5,4.0,4.0,4.2,4.4,4.6,null,4.6,4.1,4.6,4.4,4.6,4.9,4.5,4.6,4.7,4.3,null,null,4.2,4.3,5.0,4.4,5.0,4.5,null,null,null,4.5,4.8,4.4,5.0,null,3.7,null,4.1,null,4.8,null,null,4.6,4.4,4.4,3.6,3.7,3.8,4.2,4.2,4.2,3.3,3.4,4.3,4.2,4.7,4.1,4.7,4.0,3.6,4.0,3.6,4.3,4.2,4.2,4.1,4.0,4.1,4.4,4.7,4.5,4.3,4.6,4.3,4.0,4.5,4.5,3.6,4.2,4.1,3.5,4.4,4.0,4.5,4.2,4.6,4.2,4.8,4.5,4.2,4.3,4.2,4.4,4.4,4.6,4.2,4.6,4.6,4.4,4.3,4.2,4.2,3.8,4.5,4.6,4.6,4.7,4.6,4.6,4.7,3.8,4.3,4.3,4.5,4.6,4.6,4.7,4.5,4.4,3.9,4.5,4.6,4.1,4.5,4.4,4.5,4.6,4.2,4.4,4.1,3.9,4.6,4.5,3.7,4.1,4.4,4.6,4.5,4.3,4.3,4.3,4.4,4.3,4.4,4.3,4.4,4.1,4.4,4.2,4.3,4.4,4.3,4.3,3.9,4.1,4.1,4.2,4.5,4.2,4.7,4.4,4.6,4.6,4.4,4.6,4.3,4.0,4.4,4.6,4.2,4.1,3.6,null,4.1,4.6,null,4.7,4.7,4.7,4.7,4.1,3.4,3.8,3.7,4.2,3.1,3.5,4.7,4.5,4.2,4.3,4.0,4.5,4.6,4.7,4.1,4.3,3.8,4.4,4.3,4.2,4.3,3.8,4.3,3.7,4.5,3.6,4.8,3.3,4.7,4.6,4.6,3.4,4.6,4.0,4.1,4.5,4.4,4.5,4.0,4.1,4.5,4.6,4.1,4.5,4.6,4.5,4.3,3.6,4.4,4.6,4.1,4.3,3.9,4.5,4.1,3.6,4.7,4.3,4.7,4.6,4.4,4.2,4.5,4.3,4.2,4.5,4.5,4.3,4.0,4.3,4.8,4.0,4.9,4.8,4.9,4.8,4.4,3.3,4.7,4.6,4.8,4.8,4.8,4.5,4.4,4.5,4.5,4.5,4.8,3.9,4.6,4.5,4.5,4.7,4.7,4.4,4.2,3.9,4.2,4.4,4.6,4.6,4.2,4.5,4.7,4.5,4.5,3.7,4.5,4.6,4.6,4.7,4.5,4.5,4.6,4.0,4.3,4.4,4.5,4.2,4.6,4.9,4.5,4.5,4.6,4.5,4.6,4.6,4.5,4.5,4.4,3.9,4.5,4.4,4.6,4.4,4.5,4.5,4.6,4.5,4.4,4.4,4.4,4.2,4.5,4.5,4.4,4.3,4.6,4.6,4.9,4.4,4.3,4.1,4.6,4.8,4.5,4.7,4.6,4.3,4.4,4.4,4.6,4.3,4.6,4.6,4.5,4.6,4.6,4.5,4.1,4.5,4.6,4.5,4.8,4.8,4.6,4.5,4.1,4.4,4.2,4.5,4.3,4.6,4.0,4.6,4.5,4.4,4.5,4.6,4.4,4.7,4.4,4.2,4.5,4.2,4.4,4.5,4.6,4.6,4.6,4.5,4.5,4.4,4.4,4.5,4.5,4.0,4.6,4.1,4.0,4.4,4.4,4.1,3.5,4.3,4.5,4.2,4.6,4.4,4.5,4.0,4.5,4.6,4.4,4.4,4.1,4.0,4.1,4.1,4.2,4.5,3.5,4.3,4.2,4.6,4.4,4.5,4.4,3.7,4.3,4.5,4.6,4.7,4.6,4.6,4.0,4.4,4.4,4.8,4.6,4.2,4.6,4.1,4.4,4.5,4.3,4.7,4.6,4.4,4.5,4.8,4.2,4.5,4.1,4.1,4.0,4.3,4.5,null,4.6,3.7,3.7,4.2,4.5,4.3,3.9,4.6,4.3,4.4,4.6,4.5,3.8,null,4.4,4.7,3.4,4.3,4.3,4.0,4.0,3.8,null,4.3,3.6,3.8,4.5,4.6,null,4.5,4.7,4.3,3.7,null,4.2,3.4,3.9,4.0,4.0,4.0,4.6,4.0,4.1,3.9,4.4,4.4,4.3,4.6,4.5,4.5,4.5,4.5,4.3,4.2,4.4,4.3,4.6,4.1,3.9,4.4,4.6,null,4.1,null,null,3.8,4.6,3.5,4.7,4.3,4.5,4.4,3.4,4.3,null,4.3,4.6,4.6,null,4.2,null,null,4.6,null,null,4.4,3.9,4.5,3.8,4.3,3.7,5.0,3.2,4.5,4.7,4.0,null,4.1,3.8,4.7,4.5,null,4.2,null,4.1,3.1,4.1,4.1,4.3,4.0,4.6,4.4,4.4,4.3,4.6,3.2,4.5,4.6,4.6,4.3,3.0,4.4,4.4,4.3,3.5,4.3,4.5,3.7,4.5,4.2,4.3,4.6,4.5,3.9,4.3,3.3,4.7,4.2,3.2,4.4,3.5,3.7,3.8,3.8,3.7,4.6,4.0,3.6,3.8,4.1,4.7,3.9,4.1,4.6,4.2,3.6,4.6,4.2,4.4,4.6,4.7,4.1,3.9,4.0,4.1,4.6,4.1,4.1,4.1,4.4,3.8,4.3,4.1,4.1,4.1,4.4,3.8,4.3,4.4,4.2,4.4,4.3,4.1,4.0,4.2,4.1,3.9,4.4,4.6,4.5,4.5,4.8,4.4,4.5,4.5,4.6,4.5,4.5,4.5,4.4,4.7,4.5,4.2,4.4,4.6,4.3,4.3,4.2,4.6,4.4,4.4,4.5,4.4,4.3,4.6,4.3,4.2,4.2,4.5,4.5,4.5,4.7,4.7,4.5,4.4,4.3,3.8,4.6,4.6,4.4,4.3,4.1,4.3,4.4,4.6,4.3,4.4,4.7,4.5,4.4,4.6,4.5,4.4,4.6,4.5,4.5,4.3,4.5,4.6,4.4,4.4,4.5,4.7,4.6,4.5,4.5,4.7,4.5,4.8,4.7,4.4,4.6,4.5,4.6,4.7,4.6,4.5,4.6,4.5,4.6,4.4,4.7,4.3,4.3,4.4,4.3,4.5,4.4,4.5,4.4,4.5,4.6,4.7,4.6,4.4,4.4,4.5,4.6,4.3,4.5,4.5,4.4,4.5,4.2,4.5,4.4,4.7,4.2,4.5,4.5,4.6,4.4,4.5,4.3,4.3,4.5,4.7,4.7,4.1,4.8,4.4,4.2,4.4,4.7,4.3,4.7,4.2,4.3,4.4,4.1,4.1,4.2,4.5,4.7,4.6,4.5,3.1,4.1,3.4,4.4,4.3,4.6,4.4,4.3,4.6,4.2,4.2,4.5,4.4,4.2,4.5,4.8,4.4,4.6,4.5,4.3,4.6,4.4,4.4,4.5,4.6,4.6,4.6,4.1,4.5,4.6,4.4,4.7,4.6,4.3,4.5,4.6,4.2,4.5,4.8,4.1,4.3,4.4,4.0,4.2,4.0,4.2,4.5,4.7,4.2,4.4,4.6,4.9,4.4,4.5,4.6,4.2,4.5,4.6,4.6,4.5,4.4,4.6,4.5,4.6,4.4,4.4,4.3,4.3,4.6,4.3,4.3,4.6,4.5,4.5,4.2,4.7,4.3,4.0,4.4,4.3,4.6,4.7,4.4,4.7,4.4,4.3,4.2,4.4,4.5,4.5,4.5,4.4,4.3,4.5,4.7,4.7,4.6,4.6,4.4,4.4,4.7,4.6,4.5,4.3,4.3,4.3,4.6,4.8,4.5,4.4,4.5,4.5,4.6,4.6,4.6,4.6,4.7,4.5,4.5,4.5,4.6,4.5,4.4,4.4,4.6,4.7,4.5,4.4,4.6,4.7,4.6,4.5,4.4,4.5,4.3,4.5,4.2,4.5,4.3,4.4,4.7,4.6,4.7,4.6,4.4,4.6,4.5,4.3,4.5,4.5,4.6,4.6,4.3,4.6,4.5,4.7,4.5,4.7,4.7,4.6,4.4,4.3,4.5,4.3,4.4,4.2,4.3,4.5,4.4,4.7,4.2,4.1,4.5,4.5,4.5,4.1,4.3,4.5,4.4,4.5,4.6,4.0,4.3,4.5,4.4,4.4,4.6,4.2,4.5,4.6,4.5,4.7,4.5,4.5,4.5,4.4,4.6,4.3,4.4,4.3,4.7,4.7,4.4,4.3,4.4,4.5,4.5,4.4,4.4,4.6,4.6,4.4,4.6,4.2,4.4,4.6,4.6,4.7,4.5,4.2,4.6,4.7,4.6,4.3,4.6,4.4,4.4,4.5,4.2,4.4,4.3,4.7,4.5,4.4,4.5,4.4,4.4,4.5,4.6,4.5,4.3,4.7,4.4,4.5,4.2,4.5,4.5,4.7,4.4,4.3,4.6,3.9,4.2,4.5,4.3,4.5,4.4,4.4,4.8,4.4,4.4,4.3,4.6,4.1,4.5,4.5,4.5,4.0,4.5,4.6,4.5,4.5,4.5,4.4,4.7,4.5,4.5,4.2,4.3,4.5,4.2,4.3,4.4,4.6,4.6,4.5,4.2,4.5,4.6,4.6,4.1,4.5,4.6,4.6,4.5,4.3,3.8,4.5,4.1,4.8,3.9,4.5,4.4,4.3,4.2,3.0,4.5,4.4,4.5,4.7,4.1,4.5,4.5,4.5,4.6,4.3,4.3,4.5,4.2,4.2,4.4,4.5,4.1,4.2,4.1,4.7,4.3,4.4,4.4,null,4.3,4.4,4.3,4.3,4.2,4.2,4.3,4.3,4.1,4.2,4.5,4.3,4.3,4.5,4.1,4.5,4.2,4.4,4.0,4.1,4.3,4.3,4.4,4.3,4.1,4.0,4.3,4.6,4.3,4.7,4.3,4.4,4.2,4.7,3.9,4.1,4.1,4.1,4.2,4.7,4.4,4.3,4.5,4.3,4.3,4.1,4.1,4.1,4.6,4.1,4.4,4.4,4.3,4.0,4.8,3.8,4.7,4.5,4.8,4.4,4.8,4.2,4.2,4.0,4.7,4.7,3.9,4.5,4.1,4.4,3.9,4.4,4.4,3.6,4.4,4.1,3.6,4.6,4.3,4.5,4.4,4.1,4.4,3.9,4.4,4.4,3.6,4.4,4.1,3.6,4.6,4.3,4.5,4.4,4.5,4.1,4.5,4.1,3.9,4.2,4.1,3.9,4.1,4.2,4.7,3.8,4.3,4.3,4.3,3.9,4.3,4.0,4.0,4.3,4.2,4.1,4.0,4.4,4.3,4.3,4.4,4.2,4.1,4.3,4.2,4.6,4.1,4.5,4.4,4.5,4.3,4.2,4.4,4.6,4.5,4.8,4.5,3.2,4.6,4.5,4.1,4.6,4.5,4.4,4.4,4.4,3.8,4.6,2.5,4.0,5.0,4.3,3.4,null,3.4,4.3,4.4,4.4,4.2,5.0,4.1,3.9,4.6,4.2,4.4,4.2,3.6,4.5,null,4.7,4.6,4.5,4.2,4.2,4.3,4.4,4.1,4.4,4.6,4.4,4.2,4.5,null,2.6,4.6,4.8,4.2,4.7,3.0,3.5,4.6,4.8,4.2,4.6,4.4,4.8,4.0,3.7,4.2,4.8,4.7,3.5,3.9,4.2,4.8,2.7,4.2,4.7,4.6,4.5,4.7,4.7,4.5,4.7,4.0,3.4,3.5,3.0,4.7,4.6,4.2,4.8,4.5,4.2,3.8,3.0,4.4,4.5,4.0,3.6,4.4,4.7,4.9,3.6,4.5,4.1,4.6,4.7,4.7,2.8,4.3,4.6,4.3,3.4,null,4.0,4.8,4.2,3.0,4.5,3.7,4.5,4.5,4.6,4.2,4.6,3.6,4.4,4.4,4.5,4.5,4.1,4.6,4.3,4.3,4.7,4.5,4.5,4.5,4.2,4.4,3.9,4.2,4.4,4.1,3.4,4.1,4.0,null,4.1,3.5,4.2,4.0,4.5,4.3,4.3,4.8,4.6,4.1,4.6,3.5,2.3,4.5,4.3,4.2,4.2,3.1,4.4,4.4,2.9,3.1,3.7,4.0,3.8,4.6,4.4,3.8,null,4.8,4.3,null,null,null,null,3.7,5.0,3.0,3.7,null,null,null,null,null,null,null,null,null,null,null,null,null,null,3.7,5.0,null,null,5.0,null,5.0,null,5.0,null,5.0,5.0,null,5.0,5.0,5.0,null,null,null,4.3,4.9,null,null,null,null,null,null,null,5.0,null,null,4.9,4.6,5.0,null,null,null,null,4.0,null,5.0,null,4.0,2.6,4.7,4.8,4.3,4.7,2.5,4.6,4.5,4.1,4.5,4.3,null,3.8,4.4,null,null,null,4.5,4.5,3.8,4.5,4.0,4.5,3.7,4.3,3.7,null,4.4,3.8,null,2.7,5.0,4.3,3.8,3.0,5.0,3.6,4.0,4.3,4.7,5.0,4.7,null,4.6,3.1,4.4,5.0,3.6,2.8,4.4,4.2,4.6,4.2,null,3.8,3.5,4.7,4.1,4.5,4.3,4.4,4.4,4.2,4.0,4.3,4.6,4.4,4.2,4.4,4.4,4.3,4.6,4.4,4.5,4.6,4.6,4.6,4.4,4.5,4.5,4.3,4.4,4.6,4.3,4.8,4.2,4.6,4.0,4.6,4.3,3.6,4.0,4.5,4.4,4.5,4.2,4.5,4.3,4.2,4.2,4.4,4.3,4.3,4.1,4.5,4.3,4.2,4.1,4.3,4.2,4.1,4.1,4.4,3.7,3.9,3.7,4.0,4.5,3.6,4.1,4.1,4.0,4.1,4.0,4.5,4.6,4.3,4.3,4.2,4.5,4.2,4.3,4.1,3.8,4.2,4.4,4.3,4.2,4.1,4.0,4.3,4.3,4.2,4.2,4.0,4.4,4.0,4.2,4.2,4.4,4.1,4.1,4.3,4.0,4.2,4.2,4.2,4.1,4.0,4.3,4.3,4.4,4.4,4.2,4.2,4.0,4.2,4.0,4.5,4.6,4.3,4.2,4.3,4.6,4.4,4.4,4.5,4.3,4.2,4.2,4.4,4.6,4.2,3.6,4.5,4.4,3.8,4.7,3.6,4.2,3.6,4.3,4.4,4.5,4.1,4.3,4.3,4.7,4.3,4.2,4.2,4.3,4.2,4.3,4.6,4.4,4.3,3.8,4.6,4.5,4.1,4.4,4.3,3.8,4.0,3.3,4.1,4.1,4.2,4.1,4.4,4.1,4.2,4.5,4.3,4.5,4.1,4.5,4.4,4.6,4.5,4.6,4.7,4.3,4.4,4.4,4.2,4.1,4.1,4.5,4.7,4.1,4.2,4.5,4.4,4.6,4.2,4.6,4.3,4.1,4.1,4.4,4.1,4.6,4.2,4.2,4.1,4.2,4.3,4.2,4.5,4.7,4.5,4.3,4.0,4.4,4.4,4.0,4.5,4.6,4.1,4.5,3.9,4.5,4.2,4.3,4.3,4.4,4.5,4.6,4.4,4.3,4.3,4.1,4.7,4.4,4.2,4.4,4.2,4.2,4.1,4.0,4.1,4.5,4.6,4.3,4.6,4.4,4.0,4.5,4.1,4.4,4.0,4.6,4.5,4.4,4.5,4.1,4.3,4.5,4.2,3.8,4.5,4.7,4.1,4.6,4.8,4.0,4.7,4.7,4.1,4.5,3.6,4.5,4.7,4.7,4.5,4.2,4.5,4.4,4.5,4.5,4.4,3.7,4.3,4.5,4.4,3.3,4.3,4.4,4.5,4.4,4.2,4.5,4.7,4.5,4.6,4.6,4.4,4.3,4.3,4.6,4.4,4.5,4.5,4.2,4.0,4.4,4.7,4.3,4.6,4.4,4.5,4.3,4.3,4.4,4.5,4.4,4.6,4.3,4.6,4.3,4.4,4.2,4.3,4.4,3.9,4.3,4.4,4.2,4.5,4.3,4.3,4.3,4.1,4.4,4.3,4.0,4.0,4.0,4.4,4.3,4.1,4.2,3.9,4.4,4.4,4.5,4.4,4.6,4.3,4.6,4.1,4.0,4.3,4.2,4.0,4.1,4.1,4.0,4.3,4.3,4.2,4.5,4.0,4.4,4.1,4.4,4.3,4.3,4.2,4.3,4.4,4.4,4.3,4.4,3.8,4.4,4.4,4.3,4.6,4.0,4.1,4.2,4.3,4.6,4.6,4.3,4.2,4.1,4.2,4.6,4.6,4.4,4.7,4.4,4.1,4.3,4.4,4.2,4.4,4.5,4.2,3.8,4.3,4.4,4.6,4.4,4.5,4.2,4.5,4.5,4.3,4.4,4.2,4.1,4.3,4.0,4.6,4.3,4.4,4.5,4.2,4.3,4.4,4.2,4.1,4.4,4.7,4.6,4.2,4.3,4.3,4.5,4.6,4.5,4.4,4.7,4.2,4.3,4.2,3.9,3.9,4.2,4.3,4.6,4.3,4.0,4.0,4.0,4.6,4.3,4.2,4.3,4.4,4.0,4.6,4.7,4.3,4.0,4.5,4.7,4.4,4.8,3.3,4.3,3.9,4.4,3.9,4.4,4.3,4.4,4.2,4.2,4.1,4.4,4.0,4.4,4.3,4.1,4.0,4.2,4.2,4.3,3.1,4.1,2.9,4.0,4.5,4.3,4.1,4.3,4.5,4.6,4.4,4.2,4.3,3.4,4.6,4.2,4.4,4.0,4.1,4.0,4.6,4.2,4.5,4.4,4.0,3.5,4.0,4.2,4.0,4.4,4.8,4.1,4.6,4.3,4.4,4.3,4.6,4.5,4.3,4.2,4.4,4.2,4.4,4.3,4.5,4.5,4.1,4.0,4.7,4.6,4.2,4.2,4.1,4.1,3.5,4.5,3.9,4.6,4.0,4.4,4.2,4.2,4.6,4.5,4.4,4.5,4.4,4.3,4.2,4.3,4.5,4.0,4.2,4.1,3.9,4.2,4.0,3.5,4.0,4.0,4.5,4.1,4.2,4.4,4.4,4.1,4.3,4.5,4.5,4.4,4.5,4.7,4.4,4.1,4.4,4.4,4.3,4.2,4.0,4.7,4.3,4.6,3.9,3.6,4.0,4.1,4.2,3.9,4.1,4.3,3.1,3.7,3.4,4.4,3.6,4.4,3.3,3.7,3.0,3.6,4.8,3.9,3.8,4.3,4.5,3.4,3.7,4.5,4.4,4.1,4.5,4.0,3.9,4.4,4.8,4.7,4.3,3.7,4.2,3.5,4.3,4.7,4.3,4.1,3.1,4.3,4.1,4.2,4.3,4.4,4.3,4.3,4.4,3.5,4.1,4.6,4.4,4.2,3.9,4.2,4.4,4.4,4.4,4.4,3.7,4.4,4.5,3.7,4.4,3.7,4.4,4.5,3.6,4.4,4.0,4.1,4.4,4.4,4.3,4.4,4.2,4.2,4.1,4.3,4.5,4.4,4.5,4.3,4.2,4.5,4.7,4.4,4.4,4.4,4.4,4.1,4.6,4.4,4.1,4.5,4.5,4.4,4.3,4.5,4.2,4.2,4.2,4.5,4.7,4.0,4.2,4.2,4.1,4.4,4.4,4.2,4.2,4.1,4.5,4.6,4.1,4.3,4.2,4.1,4.0,4.6,3.1,4.6,4.5,3.2,4.3,null,4.6,4.4,4.6,4.5,4.6,null,4.4,4.2,4.4,3.1,3.6,4.1,4.2,3.5,3.9,3.0,3.9,4.5,3.4,4.4,3.4,4.3,3.7,3.5,3.8,3.6,3.1,3.8,4.2,4.0,4.3,4.3,4.5,4.5,4.5,4.4,4.4,4.3,4.2,4.7,4.4,4.3,4.4,4.3,4.5,4.7,4.5,4.6,4.7,4.6,4.8,3.9,4.5,4.6,4.5,4.4,4.5,4.0,4.3,4.0,4.4,4.1,4.3,4.1,4.3,4.2,4.2,4.2,4.2,4.3,4.5,4.4,4.5,4.2,4.1,4.4,4.5,4.3,4.4,4.1,4.4,4.2,4.1,4.6,4.5,4.3,4.1,4.1,4.2,4.1,4.6,4.5,4.0,3.5,4.4,4.4,4.4,4.1,4.2,4.6,4.4,4.6,4.6,4.5,4.7,4.4,4.5,4.6,4.6,4.0,4.6,4.5,4.7,4.7,4.4,4.3,4.7,4.1,4.7,4.4,4.6,4.5,4.4,4.4,4.3,4.3,4.6,4.7,4.3,4.5,4.6,4.4,4.5,4.7,4.3,3.7,4.7,4.5,4.4,4.3,4.8,4.6,4.1,4.7,4.1,4.6,4.2,4.3,4.2,4.0,4.2,3.9,4.3,4.1,4.2,4.4,4.3,4.3,4.4,4.3,4.1,4.2,4.1,4.1,4.2,4.1,4.4,4.1,4.3,4.6,4.1,4.6,4.6,4.2,4.1,4.2,4.5,4.3,4.2,4.0,4.2,4.2,4.6,4.3,4.4,4.4,4.4,4.3,4.3,4.6,4.5,4.1,4.3,4.4,4.2,4.2,4.1,4.5,4.7,4.3,4.4,4.4,3.8,4.4,4.3,4.2,4.5,3.2,4.5,4.2,4.4,4.7,4.4,4.0,4.4,4.0,4.6,4.5,4.2,4.0,4.4,4.5,3.9,4.2,4.3,4.2,4.2,4.4,4.7,4.6,3.1,4.4,4.1,4.5,4.6,4.3,3.9,4.5,4.3,3.7,4.5,4.4,4.0,4.0,4.4,4.7,4.6,4.2,4.5,4.6,4.0,4.5,4.4,4.3,4.4,4.5,4.5,4.6,4.4,4.6,4.3,4.6,4.5,4.3,4.1,4.2,4.2,4.6,4.2,4.5,4.4,4.3,4.2,4.3,4.5,4.3,4.3,4.5,4.5,4.4,4.2,4.2,4.6,4.4,4.3,4.6,4.2,4.2,4.2,4.0,4.3,4.6,4.4,4.6,4.6,4.5,4.5,4.4,4.3,4.0,4.2,4.2,4.5,4.0,4.2,4.4,4.6,4.3,4.6,4.2,4.4,4.6,4.4,4.6,4.4,4.1,4.4,4.4,4.1,4.3,4.1,4.1,4.5,3.9,null,3.8,null,null,4.6,4.7,null,4.0,null,4.7,4.1,3.7,null,4.1,3.7,4.6,4.4,4.6,4.1,4.4,4.7,4.4,null,4.8,4.0,4.9,null,4.8,4.4,4.7,4.2,4.6,4.6,4.5,4.6,4.1,3.8,4.8,4.8,null,4.5,4.0,4.4,4.7,null,3.9,4.4,4.4,4.5,4.4,4.8,4.4,4.8,4.5,4.7,4.5,3.5,4.4,4.3,4.4,4.2,4.6,4.4,4.4,3.9,4.3,4.5,4.2,3.7,4.2,3.9,3.6,4.5,4.3,4.3,4.2,4.6,4.5,4.5,4.2,3.9,4.8,3.8,4.5,4.5,4.2,4.0,4.2,4.3,4.3,4.2,4.3,3.6,3.9,4.8,3.9,3.7,4.6,4.4,4.4,4.2,4.1,3.8,4.4,4.5,4.6,4.7,4.3,4.5,4.3,3.7,3.9,3.6,4.5,4.4,3.8,4.6,4.2,4.3,3.8,4.4,3.1,4.6,4.1,4.5,4.0,4.5,4.3,null,3.7,3.9,3.5,3.3,4.3,4.5,4.1,4.4,4.4,4.5,4.4,4.3,4.5,4.3,4.6,4.1,4.2,3.5,4.0,3.8,4.3,4.3,4.1,4.3,4.5,4.4,4.0,4.1,4.6,4.3,3.9,4.5,4.7,4.3,4.5,3.1,4.7,3.8,4.0,4.2,4.0,4.2,3.4,4.6,4.5,4.0,4.4,4.2,4.1,4.4,4.0,3.7,4.6,4.5,4.6,4.5,3.9,4.3,4.4,3.9,4.3,4.4,4.4,3.6,4.5,3.6,4.1,4.4,4.1,4.2,4.7,3.9,3.9,4.4,4.3,4.6,4.0,4.3,4.2,4.5,4.3,4.0,4.1,4.6,4.1,4.5,4.0,4.2,4.3,4.2,4.3,4.2,4.0,4.2,4.3,4.0,4.5,4.3,4.3,3.9,4.0,4.1,4.1,4.1,4.0,4.0,4.5,4.1,3.9,4.2,3.9,4.5,4.3,4.4,4.6,4.2,4.1,4.4,4.4,4.2,4.5,4.2,4.4,4.4,4.0,4.3,4.4,4.2,4.3,4.1,4.4,4.3,4.4,4.2,4.7,4.3,4.5,3.7,4.3,4.2,4.1,4.5,4.8,4.3,4.7,4.3,4.2,3.7,4.6,4.5,4.3,4.5,4.2,4.2,4.3,4.3,4.4,3.7,4.4,4.4,4.2,3.5,4.2,4.2,4.0,4.5,4.2,3.9,4.3,3.7,4.3,4.3,4.6,4.3,4.2,4.6,3.9,4.4,4.6,4.1,4.8,4.3,4.5,4.4,4.4,3.3,4.2,3.8,4.5,4.3,4.5,3.7,4.5,4.1,4.4,3.7,4.1,4.8,4.4,4.3,4.1,4.4,4.1,4.5,4.5,4.5,4.5,4.2,4.4,4.5,4.3,3.8,4.5,3.7,4.5,4.5,4.3,4.6,4.3,4.4,4.3,4.3,4.3,4.3,4.3,4.4,4.2,4.9,4.5,4.6,4.6,4.6,3.4,3.8,4.4,4.7,4.6,4.1,3.8,4.4,4.4,3.9,4.1,4.5,3.7,4.4,4.5,4.5,3.8,3.1,4.5,5.0,4.4,null,4.3,2.9,3.1,3.3,4.1,4.6,4.4,4.5,4.3,4.3,4.5,4.5,2.2,4.5,4.2,4.5,4.6,3.9,4.1,3.3,4.5,4.1,4.8,4.1,4.5,null,4.6,4.6,4.3,4.1,4.5,4.3,4.4,4.7,4.4,4.4,4.3,4.2,4.2,4.6,4.5,4.6,4.7,4.8,4.7,4.7,1.7,4.5,4.0,3.6,2.0,4.7,4.1,4.3,4.3,4.5,4.4,4.4,4.6,3.7,4.5,4.0,4.8,4.0,4.7,4.8,4.6,4.3,4.2,4.8,4.2,4.6,4.2,4.5,4.6,4.5,4.5,4.3,4.8,4.6,4.5,4.3,4.2,4.4,4.5,4.2,4.6,4.6,4.4,4.5,4.5,4.6,4.5,4.4,4.1,4.4,4.6,4.6,4.5,4.5,4.3,4.3,3.3,3.7,4.5,4.4,3.1,4.0,4.4,4.2,3.9,4.4,4.6,4.8,4.4,3.9,4.5,3.6,3.4,4.7,4.4,4.4,4.5,4.2,4.6,4.3,4.3,4.3,4.6,4.4,4.5,4.5,4.0,4.3,4.5,4.1,4.3,4.0,4.3,4.6,4.2,4.4,4.5,4.3,4.0,4.3,4.4,4.6,4.4,4.3,4.2,4.3,4.3,4.6,3.6,4.3,4.2,4.2,4.4,4.3,4.9,4.5,4.2,4.3,4.2,3.8,4.2,1.0,4.4,4.0,null,4.4,4.4,4.5,null,3.4,3.8,null,3.7,null,4.1,4.6,4.4,4.2,4.2,4.4,4.5,4.2,4.5,4.3,4.4,4.2,3.6,4.0,4.4,4.6,4.5,4.4,4.2,4.3,4.6,1.8,3.8,4.4,3.0,3.4,4.6,3.7,3.0,4.6,4.4,3.1,4.3,4.3,3.8,4.5,3.6,null,4.2,4.5,4.2,3.3,4.2,4.3,4.2,3.7,3.8,2.9,4.5,4.3,4.9,4.4,4.4,4.4,2.9,4.2,4.0,4.3,4.3,3.9,4.3,null,4.0,4.6,3.7,4.0,4.6,4.4,4.5,3.0,3.1,4.3,4.5,4.5,4.5,4.1,4.6,4.2,null,3.9,3.9,3.9,4.3,4.2,4.2,3.7,2.8,4.4,4.1,4.4,2.7,4.7,4.2,4.2,4.1,4.5,4.4,4.0,4.2,4.1,4.0,4.4,4.7,4.3,4.7,4.4,4.0,4.3,4.2,4.4,4.6,3.3,4.5,2.3,4.2,4.1,null,4.4,3.2,3.5,4.6,4.3,4.1,4.1,4.1,null,4.7,3.5,3.9,null,null,4.1,4.7,null,4.6,4.5,4.7,4.9,null,4.3,4.1,4.4,4.2,4.1,4.6,4.3,4.4,4.4,4.5,4.6,4.8,4.3,4.8,4.8,3.7,4.1,3.7,4.2,4.5,4.6,4.5,4.7,4.3,null,4.9,4.4,4.6,null,null,4.0,4.8,4.3,4.4,4.2,4.6,null,4.8,4.0,4.3,4.7,4.5,4.6,4.5,4.3,4.0,4.2,4.0,4.5,4.0,4.1,4.6,3.1,4.9,4.5,4.0,4.0,3.6,4.5,4.2,4.3,3.9,4.3,4.3,4.4,4.3,4.4,4.3,4.5,4.4,3.5,4.4,4.4,4.5,4.4,4.4,4.0,3.9,3.9,4.3,4.9,3.7,3.3,3.8,3.5,4.2,4.5,3.5,3.6,4.6,3.9,4.2,4.2,4.0,3.2,4.6,2.4,4.5,4.1,4.2,3.7,4.3,4.2,4.1,3.9,3.8,4.4,3.4,4.0,4.4,3.3,4.8,4.5,3.4,4.3,4.3,4.1,4.0,4.4,3.8,4.4,3.8,4.2,3.8,4.8,4.7,4.3,3.5,3.9,4.2,4.6,4.7,4.5,3.8,4.5,3.7,3.5,4.1,3.9,4.1,4.6,4.4,4.5,4.4,4.6,4.0,4.4,4.4,4.4,4.0,3.8,3.9,null,3.7,4.2,4.1,4.3,4.3,4.1,4.4,3.8,4.3,4.4,3.8,4.5,3.8,3.9,4.0,4.3,4.5,4.4,4.6,null,5.0,4.4,4.4,4.2,4.0,null,4.2,null,4.6,4.1,null,3.9,4.6,null,4.4,3.9,4.6,4.5,3.0,null,3.6,4.4,4.6,null,4.3,5.0,4.5,4.1,4.1,4.5,null,4.8,4.5,null,4.0,4.8,3.7,null,4.5,4.7,2.7,2.9,4.2,4.4,4.2,3.4,2.6,4.1,4.3,4.5,4.2,4.4,null,4.0,4.4,4.1,4.8,2.2,3.8,3.1,3.1,3.8,3.8,4.3,3.6,4.0,4.4,4.6,null,4.5,1.8,4.7,3.9,4.4,3.6,4.5,4.4,3.9,3.9,3.8,null,4.2,4.1,4.4,4.4,null,null,5.0,4.1,4.5,4.3,null,3.9,3.5,null,3.2,null,null,null,null,3.3,4.8,4.5,3.7,4.8,4.7,4.3,3.8,4.1,4.7,null,4.2,null,null,4.6,4.2,4.6,4.6,4.2,4.1,3.5,4.1,4.4,4.5,4.1,4.5,4.3,4.4,4.3,4.3,3.8,3.9,4.1,4.8,4.4,4.0,4.7,4.6,4.3,4.0,4.4,3.7,3.7,3.3,4.1,3.0,4.1,3.0,3.8,4.0,4.5,4.6,4.1,3.6,4.7,3.5,3.1,3.9,3.7,4.2,4.4,4.4,3.3,4.8,4.2,4.5,3.8,4.1,4.2,4.2,4.0,4.2,3.8,4.5,3.7,4.3,4.5,4.1,4.2,4.5,4.0,4.4,4.2,4.3,4.7,4.1,3.2,3.9,4.1,3.4,3.0,4.6,4.6,4.1,3.1,3.4,4.2,4.2,3.0,2.4,4.1,2.9,4.0,4.0,3.8,2.4,4.4,3.7,4.3,4.6,4.2,4.8,3.6,3.2,4.0,3.5,4.4,2.5,3.9,4.4,4.2,4.2,4.3,4.1,4.3,4.2,4.2,3.9,3.9,4.4,3.8,4.5,4.2,3.7,4.3,4.3,4.6,3.3,3.6,4.1,3.8,3.3,4.5,4.8,4.6,null,4.3,4.5,4.2,3.8,4.7,4.2,4.3,4.7,4.7,3.6,4.2,4.0,4.3,4.7,4.2,4.6,4.8,4.6,3.8,4.6,4.3,4.2,4.5,3.2,4.3,4.3,4.5,4.4,1.9,4.4,2.5,4.2,4.3,4.0,4.5,4.8,4.2,4.7,4.4,4.4,4.4,4.6,4.6,4.2,4.5,4.0,4.4,4.2,4.5,4.6,4.4,4.7,4.2,4.4,3.2,4.1,4.0,4.7,4.6,4.6,4.7,4.8,4.6,4.2,4.3,3.3,4.7,4.5,4.0,4.5,4.2,4.6,4.2,4.7,4.7,4.2,4.3,4.3,null,4.5,4.4,4.5,4.6,4.3,3.8,4.5,4.5,3.9,4.0,2.7,4.5,4.0,2.9,4.6,4.4,4.5,4.6,4.4,4.3,4.4,4.2,4.8,4.3,4.3,4.6,4.6,4.2,4.2,4.1,4.4,4.5,4.4,4.4,4.2,4.5,4.6,4.5,4.6,4.0,4.5,4.2,3.9,4.7,4.4,4.5,4.3,4.4,4.2,3.9,4.1,2.2,4.2,4.2,2.8,3.9,4.3,4.8,4.3,4.1,4.2,4.4,4.1,4.6,4.3,4.3,3.8,4.8,null,3.8,3.9,null,4.3,4.3,4.3,4.1,4.2,4.9,4.5,4.6,3.8,4.7,4.5,4.7,4.5,4.8,4.6,4.6,4.3,4.8,3.4,4.6,4.4,4.5,4.4,4.4,4.6,4.2,4.3,4.3,3.8,3.9,4.3,4.8,4.2,4.5,4.8,null,4.6,4.2,4.2,4.0,null,4.3,4.8,4.1,4.7,null,4.8,4.0,3.5,3.8,3.5,3.3,3.7,3.3,3.4,1.8,1.6,1.9,3.6,3.4,3.2,2.5,4.7,2.6,2.8,3.9,4.2,3.9,4.0,3.5,3.1,3.7,3.6,3.4,4.0,3.7,1.7,2.4,4.3,4.2,3.3,4.1,4.1,3.4,3.0,3.0,2.2,3.7,3.7,4.8,3.7,3.6,3.7,4.4,3.8,3.7,3.7,4.8,4.2,4.1,4.6,4.1,4.3,3.9,3.8,4.0,4.5,4.6,4.1,4.4,3.7,3.9,3.9,4.5,4.5,4.4,4.3,4.5,4.7,4.7,4.1,3.3,4.2,4.1,3.4,4.3,4.9,4.5,4.1,4.4,4.3,4.4,3.4,4.1,4.1,3.5,3.8,4.6,4.6,5.0,4.6,4.2,4.0,3.9,3.7,4.3,1.9,4.2,4.2,4.0,4.4,4.2,4.5,4.3,4.4,4.0,4.2,4.3,4.0,4.3,3.9,4.0,3.7,4.1,3.9,4.2,4.4,4.5,3.9,3.9,4.2,4.5,4.1,4.7,null,4.4,4.7,4.7,4.0,3.9,null,3.8,3.9,4.4,4.5,null,3.8,3.5,4.2,4.7,2.0,4.3,2.8,4.0,3.9,4.2,3.4,4.5,4.7,2.0,4.4,null,null,null,4.7,3.3,4.1,null,4.2,4.4,null,3.7,null,4.3,3.9,5.0,4.1,4.8,4.0,null,4.1,3.8,4.6,null,4.3,4.1,4.6,4.1,4.4,4.2,4.1,4.3,4.3,4.0,4.5,4.1,3.8,null,4.5,null,4.1,null,3.9,3.7,null,4.5,4.4,null,3.4,null,null,null,null,2.3,4.7,3.4,4.7,null,null,5.0,null,null,null,null,null,null,null,null,3.6,5.0,null,null,4.3,null,null,null,5.0,null,null,4.1,4.1,4.5,null,null,3.4,null,null,null,2.9,4.6,5.0,null,null,null,3.9,3.9,5.0,4.1,null,5.0,3.0,4.0,1.0,null,4.0,null,null,4.0,null,3.8,null,null,null,null,null,null,null,null,3.5,null,null,null,null,null,2.6,null,3.4,null,null,4.5,3.4,3.8,3.0,4.4,4.0,3.9,4.6,3.8,3.8,4.0,4.6,3.6,4.4,3.1,4.2,4.6,4.0,5.0,3.3,4.1,3.6,3.2,4.4,4.0,4.4,4.5,4.3,4.7,4.4,null,4.4,4.4,3.7,3.3,null,3.7,3.0,2.6,null,null,3.5,3.9,4.6,3.8,4.6,4.4,4.5,4.5,4.7,4.4,null,5.0,null,null,2.8,null,4.6,2.8,5.0,5.0,2.8,null,3.8,4.1,null,4.8,5.0,5.0,null,4.4,null,null,5.0,4.1,null,4.8,null,null,4.8,4.0,null,5.0,4.6,null,5.0,null,null,null,4.5,5.0,null,null,null,4.4,4.0,null,3.9,4.1,4.8,4.3,3.9,4.5,null,3.7,4.3,4.2,3.7,3.8,4.6,null,null,null,3.3,3.0,3.9,4.2,3.9,null,4.1,null,4.6,null,null,null,null,4.4,3.8,4.4,null,4.9,3.6,4.3,3.6,4.1,3.4,4.5,4.7,4.5,4.4,4.3,4.6,4.2,4.8,4.6,4.8,4.6,4.6,4.6,4.1,4.7,4.7,4.8,3.6,4.7,4.6,4.5,4.7,4.5,4.3,4.5,4.8,4.7,4.7,4.7,4.7,4.7,4.7,4.7,4.6,4.7,4.7,4.6,3.8,3.9,4.0,4.0,3.8,4.1,2.9,3.8,3.5,4.2,4.6,4.4,4.4,4.1,3.9,3.6,4.0,3.8,4.3,4.6,3.6,3.9,4.0,4.2,4.2,4.2,4.5,4.7,3.5,4.5,4.0,4.6,4.2,4.3,4.1,4.5,4.2,4.5,4.4,3.7,4.4,4.3,4.3,4.3,4.5,4.5,3.8,4.5,4.5,4.4,4.7,3.5,4.9,4.0,4.1,4.2,null,4.4,4.1,4.6,4.6,4.7,4.5,null,4.6,4.4,4.4,4.2,4.4,4.0,4.2,4.2,4.2,4.8,3.7,3.4,4.3,4.3,4.6,4.2,4.6,4.1,4.4,4.6,4.3,4.4,4.7,4.2,3.8,4.3,3.7,4.3,2.9,4.3,4.3,4.0,3.3,4.5,4.1,5.0,3.9,4.6,4.0,3.6,4.0,4.5,null,2.9,4.2,4.5,null,4.6,4.7,4.2,4.7,4.7,3.9,4.7,3.7,4.8,4.0,4.6,4.4,4.3,4.7,3.6,4.4,4.6,2.9,null,4.5,5.0,3.7,null,3.7,null,4.2,3.0,5.0,4.4,4.7,4.3,3.9,null,4.4,4.3,null,null,null,null,4.6,4.5,3.9,4.7,4.3,5.0,5.0,null,5.0,null,null,4.4,null,2.7,4.6,4.4,4.4,4.1,3.8,4.4,4.6,4.1,4.5,4.2,4.7,4.3,4.3,4.2,3.8,4.0,4.3,4.6,4.3,4.3,4.3,4.7,4.6,4.4,3.8,4.6,4.6,4.5,4.5,3.9,4.4,3.8,4.3,4.3,3.7,3.2,4.0,3.8,4.4,3.8,3.4,2.9,4.5,3.7,3.8,4.1,4.1,3.7,3.6,null,3.0,4.1,3.8,4.2,4.4,4.5,3.6,3.6,3.7,3.9,null,4.2,4.1,4.5,2.8,2.6,4.3,4.4,4.1,4.0,4.3,3.9,3.5,3.7,4.3,4.3,4.1,4.2,4.3,4.2,4.6,4.3,4.1,4.4,4.4,4.1,4.2,4.4,4.3,2.4,4.5,4.3,4.5,4.5,4.3,4.4,4.3,4.4,4.6,3.4,3.9,4.3,4.4,4.5,4.4,4.2,4.0,4.3,4.4,4.2,4.0,4.4,4.6,4.0,4.4,3.5,4.6,4.0,4.0,4.1,4.1,3.3,3.9,4.1,4.2,4.0,4.5,3.8,3.5,4.3,4.6,4.7,3.8,4.7,4.8,3.2,4.5,3.9,3.6,3.7,4.4,4.1,4.0,3.1,4.0,2.8,3.7,2.7,3.9,3.8,3.6,4.5,3.5,4.0,null,3.8,3.6,4.2,4.4,4.0,4.7,null,null,4.1,4.0,null,4.7,null,null,3.8,5.0,4.4,null,null,4.0,null,3.8,4.1,4.3,null,4.5,4.4,3.4,4.1,4.1,3.8,4.3,4.4,4.4,4.8,3.3,3.3,4.4,3.7,3.4,2.3,3.3,2.7,null,4.6,3.5,3.4,4.3,4.1,4.7,4.4,3.8,3.0,4.4,4.2,4.5,3.5,4.5,4.3,4.5,null,4.5,4.0,4.8,null,4.3,1.7,4.3,4.2,null,4.2,4.3,null,4.0,4.2,4.6,4.1,4.6,4.1,4.0,null,3.3,4.1,null,null,4.0,null,null,4.4,4.2,3.8,3.1,null,5.0,4.2,4.7,4.4,4.6,4.4,2.9,2.7,null,4.6,4.0,3.8,4.8,5.0,3.9,4.2,4.1,4.7,4.2,4.2,3.7,4.1,4.1,3.8,4.6,null,4.4,4.2,4.4,null,null,4.6,5.0,null,4.5,null,3.5,null,3.9,4.4,3.0,null,3.1,4.4,null,3.0,null,null,3.7,null,3.7,3.9,4.8,null,null,4.6,4.6,4.5,4.3,5.0,4.3,null,4.7,4.0,3.8,5.0,4.8,4.5,4.3,null,null,null,null,3.7,null,null,null,null,null,4.3,null,3.8,null,null,4.5,4.6,4.1,4.2,null,5.0,null,null,null,4.3,null,3.3,3.6,4.0,4.0,4.0,4.3,4.2,4.3,4.2,4.5,4.3,4.6,4.4,4.2,4.2,4.2,3.4,3.2,4.0,4.6,3.2,4.4,4.0,4.7,null,3.7,3.9,4.2,4.1,3.5,4.8,4.3,3.9,null,3.5,4.3,4.4,4.8,3.9,3.8,4.2,4.0,4.0,4.4,4.7,4.5,4.3,3.3,4.3,4.1,2.1,3.7,4.2,4.4,4.2,2.1,2.4,4.1,3.1,5.0,null,3.5,4.2,null,4.7,null,null,null,4.8,null,4.5,4.6,4.6,4.9,4.8,4.0,3.9,4.1,4.1,4.5,4.2,4.0,4.4,1.9,null,null,3.7,null,4.2,4.0,4.3,2.5,4.4,null,3.7,4.7,4.6,4.4,4.3,4.4,2.6,3.6,3.8,4.4,4.4,3.0,4.2,3.7,5.0,null,4.2,4.8,4.4,4.1,4.7,4.7,3.3,4.0,null,null,1.0,4.4,4.2,4.4,4.6,4.3,4.4,null,3.7,2.9,4.0,4.4,3.3,null,null,4.2,4.5,2.3,5.0,3.6,null,3.9,4.4,4.2,4.8,4.3,4.2,4.4,4.3,4.0,1.4,3.3,4.3,null,4.6,4.7,4.2,3.9,3.4,4.3,4.8,4.8,4.5,3.3,4.2,4.9,4.2,4.6,4.1,4.6,4.0,4.2,5.0,4.1,3.7,4.1,3.8,4.7,3.5,4.0,4.2,3.3,3.7,3.4,3.7,5.0,4.4,5.0,4.8,4.4,4.9,4.0,4.4,4.5,4.9,4.4,4.4,5.0,4.8,4.6,4.3,3.8,4.3,4.3,4.1,4.5,4.2,3.8,4.3,4.4,4.2,4.2,3.8,4.2,4.0,4.2,4.3,4.3,4.4,4.7,4.1,4.5,4.2,4.3,4.4,4.5,4.3,null,4.2,4.0,3.4,4.4,3.8,3.0,4.1,4.4,4.1,4.1,4.1,4.5,4.1,2.2,3.9,4.0,4.3,3.9,4.0,4.2,4.2,3.6,4.3,null,null,4.4,2.6,4.1,null,3.5,4.2,null,null,3.7,4.5,2.4,null,2.9,4.2,4.2,4.0,2.6,4.4,4.8,4.7,4.4,4.6,2.7,3.8,1.7,4.6,3.3,null,null,4.6,2.3,4.5,null,4.8,null,5.0,null,4.1,null,null,null,null,null,null,4.9,3.0,null,null,4.8,4.5,3.4,null,null,null,null,4.0,3.7,2.2,4.8,null,5.0,null,null,null,4.5,null,4.3,3.8,null,4.5,4.5,null,4.8,4.5,4.4,null,3.9,4.3,4.3,null,4.0,null,4.1,4.6,3.7,3.4,4.5,4.4,null,4.4,2.4,4.1,4.6,4.6,4.3,4.3,4.7,null,4.2,4.3,4.3,3.9,4.7,4.2,4.1,4.6,4.7,4.3,4.5,4.6,2.9,4.0,3.0,3.9,null,4.8,3.9,4.0,null,null,null,5.0,null,null,null,4.0,null,5.0,null,null,4.5,4.8,null,4.6,4.2,null,3.4,2.6,2.4,null,4.5,4.6,3.3,4.1,4.6,3.9,null,null,null,null,null,4.0,3.4,4.5,4.0,5.0,3.6,3.5,4.6,4.9,3.7,5.0,4.0,3.9,5.0,4.0,null,null,4.9,4.4,3.6,4.7,4.3,3.9,4.5,4.2,4.6,4.1,4.3,4.6,null,null,4.2,4.6,4.5,4.4,4.2,4.5,4.0,4.2,4.7,4.1,4.4,4.3,4.6,4.2,4.0,2.3,4.5,3.6,4.4,3.9,3.9,4.8,4.2,3.7,4.0,null,1.0,null,4.4,4.2,4.7,3.6,null,4.1,3.3,null,null,5.0,4.3,4.7,null,null,null,null,null,4.0,null,4.4,4.6,5.0,4.3,4.3,null,3.8,4.1,4.6,4.0,4.7,3.6,4.5,4.0,4.1,4.0,3.8,null,4.5,2.8,null,4.2,4.8,5.0,5.0,null,null,null,4.3,4.3,4.5,4.5,5.0,3.8,4.4,5.0,4.7,null,4.7,2.2,4.6,4.6,4.7,4.6,4.4,3.8,3.6,4.9,4.8,null,4.4,5.0,4.8,null,null,4.6,5.0,4.6,5.0,null,4.0,4.3,4.5,4.0,3.2,4.6,4.2,4.8,3.0,4.3,3.9,3.2,3.9,4.8,3.5,4.4,4.1,4.2,4.7,4.0,4.4,4.2,5.0,3.5,3.8,null,4.5,4.1,null,4.3,null,4.3,4.4,null,null,null,null,null,4.0,4.3,4.0,4.9,4.7,null,null,null,4.3,4.2,4.1,4.3,4.7,3.2,3.9,4.2,4.1,4.9,null,3.7,3.5,4.9,null,3.3,4.9,3.4,null,4.5,4.3,5.0,3.5,null,null,4.4,3.7,null,4.8,null,4.3,4.9,null,null,null,null,null,null,5.0,4.3,4.3,null,null,4.4,1.0,4.5,null,4.0,5.0,4.9,4.7,4.5,3.9,null,3.2,3.5,null,3.7,3.0,4.2,4.0,4.1,null,4.7,4.0,3.1,4.4,3.2,3.9,4.2,4.7,4.0,null,null,4.0,3.7,4.1,4.4,4.0,3.9,3.6,null,null,4.6,null,4.4,1.9,4.3,4.5,4.1,3.8,4.1,4.6,3.7,3.9,4.4,null,4.5,null,null,4.3,4.4,3.5,4.3,4.5,4.5,4.4,4.2,4.3,null,3.6,4.0,3.8,null,null,4.4,3.8,3.9,4.1,4.3,3.5,null,4.3,null,4.7,4.5,3.8,4.5,4.2,4.3,4.1,4.6,4.6,4.5,4.5,3.0,2.6,3.4,4.4,4.2,4.0,4.7,3.4,3.7,3.7,4.5,3.9,5.0,4.3,4.2,null,4.0,null,4.5,4.0,4.4,1.8,4.3,5.0,5.0,null,3.2,4.2,4.6,3.8,3.9,4.2,null,4.0,3.8,4.1,3.9,4.4,2.1,1.8,4.2,2.0,null,null,3.4,4.3,3.6,3.7,4.7,4.5,4.6,3.6,null,null,4.4,4.6,null,null,null,2.3,null,null,3.8,null,3.0,5.0,4.5,4.4,4.5,4.8,4.3,3.8,null,4.3,3.7,4.5,null,4.3,null,4.4,3.4,4.5,1.6,null,null,4.5,null,null,null,null,null,null,4.4,3.8,4.3,4.3,3.0,4.0,4.2,4.8,4.0,4.5,null,4.7,1.9,4.9,4.4,4.7,null,4.9,4.8,null,null,4.5,null,null,4.6,4.5,null,5.0,null,3.9,null,null,4.3,null,4.8,4.3,4.6,null,null,4.1,4.5,4.3,3.8,2.4,4.3,2.8,4.5,4.6,4.1,4.2,4.6,4.3,4.6,5.0,5.0,3.9,4.2,3.9,4.2,null,null,null,3.5,null,4.0,null,3.7,3.8,4.3,null,null,4.5,4.6,null,4.5,4.3,4.4,null,null,4.6,null,3.9,null,3.9,3.1,3.9,4.4,4.4,4.4,4.6,3.9,4.6,2.5,4.6,2.8,4.0,3.4,3.8,4.5,4.8,3.3,3.9,3.5,4.5,4.0,null,3.6,null,4.7,3.9,5.0,4.6,3.9,4.9,3.6,3.7,3.9,2.7,3.8,2.8,3.5,4.1,null,4.7,4.3,4.5,4.1,null,null,4.8,null,null,null,3.4,5.0,null,null,4.3,4.4,1.8,4.2,3.3,null,5.0,null,null,null,4.8,null,4.5,5.0,4.5,4.7,null,4.6,null,null,4.5,null,null,3.5,null,null,3.5,2.9,null,null,5.0,null,null,null,null,4.3,null,4.8,4.7,4.3,4.1,5.0,5.0,null,null,null,4.0,null,4.3,null,4.1,5.0,null,5.0,null,null,null,4.0,null,null,3.5,null,null,null,4.1,null,null,4.6,null,null,null,4.1,4.2,4.2,2.2,4.3,4.7,3.8,null,4.1,null,3.1,4.2,null,3.0,4.8,3.7,3.1,4.6,2.9,4.2,4.7,4.5,2.8,null,4.4,4.4,4.1,4.6,3.0,4.1,4.2,null,4.4,3.9,null,null,null,null,4.3,4.5,4.5,3.6,2.0,4.0,4.5,4.0,4.3,null,4.5,4.8,4.5,null,null,4.2,4.5,4.6,null,null,3.9,null,null,4.3,3.9,4.3,3.7,4.7,4.3,1.7,4.5,null,4.7,null,5.0,null,null,null,4.6,2.9,null,4.8,2.3,null,3.8,4.2,null,4.4,null,4.0,4.1,3.4,4.3,4.0,4.2,4.1,4.7,4.2,3.9,3.8,4.1,4.2,3.8,4.7,3.7,4.3,4.0,4.2,4.6,4.7,4.7,4.3,4.2,3.5,4.7,4.7,4.5,4.5,4.7,4.6,4.6,4.9,4.2,4.3,4.4,4.4,4.5,4.3,4.4,4.4,3.0,4.8,4.7,4.6,4.0,3.7,3.5,2.7,4.7,4.1,4.5,4.6,4.5,4.4,4.3,4.4,4.5,4.6,4.7,4.6,3.1,3.9,4.7,4.6,4.7,null,5.0,4.4,4.8,null,4.1,null,4.3,4.4,4.7,4.0,3.4,4.6,null,2.8,null,3.1,null,3.9,null,4.2,4.5,null,4.1,null,4.2,null,null,3.3,4.4,null,4.4,4.6,4.4,4.5,4.1,2.2,4.2,4.8,null,null,3.2,4.3,4.0,4.6,4.4,4.5,null,3.4,null,null,3.3,4.2,null,2.4,3.2,3.1,3.8,null,4.8,3.7,4.2,3.7,3.0,3.9,4.0,5.0,null,4.0,2.7,3.1,4.1,4.5,4.0,3.8,3.8,4.3,3.5,4.5,3.9,null,4.5,null,null,3.3,4.1,null,null,5.0,null,3.7,4.8,1.5,5.0,4.6,null,null,5.0,4.7,null,4.7,null,5.0,4.5,null,5.0,null,null,5.0,4.2,1.0,4.5,4.2,5.0,4.2,4.4,3.9,4.6,3.8,null,null,4.0,null,null,null,4.6,null,null,3.4,null,5.0,4.6,null,null,null,null,5.0,null,null,null,null,3.0,null,3.8,4.2,4.3,null,null,null,null,null,null,4.4,3.2,null,null,null,3.5,4.4,4.5,3.7,5.0,4.5,4.5,4.1,null,3.4,4.1,null,null,5.0,4.2,4.1,4.1,null,4.2,4.3,null,5.0,4.4,null,4.3,4.5,null,4.8,4.4,null,null,null,4.4,null,null,null,null,null,4.7,null,null,null,null,null,4.3,4.4,4.6,2.8,5.0,4.4,4.4,2.0,5.0,4.4,5.0,null,3.4,4.4,null,3.4,null,null,3.3,1.5,null,null,null,5.0,null,4.3,4.3,null,null,null,null,2.2,4.6,null,null,5.0,null,null,4.7,null,null,null,null,null,null,4.7,3.5,4.3,3.6,4.3,3.6,2.6,4.7,4.5,4.0,4.6,5.0,4.2,null,null,4.2,null,4.7,4.5,3.6,3.8,4.2,3.8,3.5,4.1,null,null,5.0,null,4.2,4.1,null,null,3.6,4.3,4.1,4.4,null,null,4.0,5.0,5.0,null,3.8,4.3,4.7,4.5,4.4,4.7,4.4,3.7,4.3,null,4.0,3.9,null,4.9,3.5,3.5,null,4.4,4.2,null,null,null,4.3,null,4.7,4.5,4.4,4.2,4.4,3.3,4.4,4.9,4.5,4.7,4.7,3.9,4.7,4.7,null,4.4,4.8,4.8,4.0,3.7,5.0,3.0,3.9,null,null,4.6,4.6,4.3,4.2,null,5.0,null,4.5,null,4.2,null,1.0,null,4.6,null,null,null,null,null,null,4.1,4.7,null,null,null,4.4,4.8,4.2,null,null,5.0,4.6,4.5,5.0,2.9,null,4.4,null,null,3.0,4.5,2.4,4.3,3.9,1.9,4.4,5.0,4.0,4.7,3.9,5.0,4.2,4.2,2.8,4.2,1.0,3.9,4.1,4.1,3.2,null,5.0,null,5.0,4.3,4.1,3.8,4.0,null,4.2,5.0,4.1,5.0,null,3.7,null,null,4.1,3.5,3.9,4.2,3.8,3.7,4.7,2.8,4.7,4.3,4.1,null,4.7,4.2,4.0,3.2,4.6,5.0,4.4,4.5,4.0,4.6,4.7,null,4.1,4.5,4.3,null,5.0,5.0,4.2,4.0,null,5.0,2.7,4.1,null,null,4.4,null,4.3,4.1,4.7,4.4,null,null,3.6,4.0,4.1,4.0,4.1,4.0,4.6,null,null,null,null,5.0,3.6,4.1,4.3,4.1,2.6,2.7,3.8,5.0,4.2,null,5.0,2.6,4.4,4.3,null,null,4.7,2.8,4.1,null,3.6,null,null,4.0,null,null,5.0,5.0,4.7,4.7,4.6,4.7,4.6,4.6,4.6,4.6,4.6,4.4,3.8,4.1,3.4,4.5,4.5,4.5,4.0,4.7,4.4,4.4,4.7,4.7,4.2,4.2,4.0,3.6,4.7,4.4,4.3,4.4,4.4,4.4,4.3,3.3,3.6,4.5,4.5,4.6,4.3,3.6,4.3,4.4,4.1,4.2,4.8,4.2,null,4.0,3.7,4.5,4.1,4.6,4.5,4.7,4.3,4.3,4.6,4.1,4.2,4.3,4.2,4.3,3.6,4.2,4.2,4.0,4.6,4.3,4.4,4.5,4.3,3.7,4.2,4.7,4.6,4.5,4.1,4.5,4.3,3.4,4.2,3.9,4.4,4.1,4.3,3.9,4.0,null,5.0,4.2,4.3,4.5,4.5,3.9,null,4.5,3.5,3.6,1.9,4.3,3.2,1.6,4.2,4.9,4.4,3.6,3.4,null,4.7,2.9,4.3,4.4,4.3,4.6,4.6,4.2,3.5,null,2.9,4.4,4.7,4.5,4.4,2.0,4.7,4.4,4.4,4.4,null,4.5,3.5,4.2,3.7,4.4,3.4,4.3,3.6,4.6,4.6,4.2,4.3,3.8,1.4,4.4,null,4.0,null,4.6,3.9,3.8,4.7,4.2,4.3,4.1,4.3,4.2,null,3.6,4.6,null,4.3,5.0,5.0,5.0,4.5,3.8,3.9,null,null,4.8,4.1,4.0,4.8,4.8,4.4,null,4.1,null,null,null,4.4,4.3,3.7,4.3,null,null,4.3,2.7,4.4,null,4.5,null,4.2,null,3.7,null,5.0,null,4.2,3.9,null,4.5,null,3.5,4.7,4.2,4.4,4.7,4.6,4.0,null,2.5,null,null,3.8,4.7,4.5,4.6,4.6,5.0,3.9,5.0,null,2.3,null,3.6,4.0,3.7,4.2,4.1,4.4,4.6,4.2,4.4,4.3,4.0,4.5,3.9,3.7,4.6,null,3.8,4.7,null,3.4,4.5,4.1,4.3,4.6,4.3,4.3,4.0,null,3.5,2.3,null,3.9,4.1,4.5,4.6,4.4,3.1,4.3,3.3,5.0,null,4.2,3.8,3.3,null,5.0,1.0,4.5,4.6,4.3,4.4,4.1,4.5,4.2,3.7,4.1,3.9,4.5,3.6,3.2,3.5,3.7,4.6,4.8,4.1,4.4,4.3,null,4.0,3.1,4.2,4.1,null,3.5,4.3,3.8,4.3,4.8,2.3,4.3,4.4,3.6,5.0,null,4.3,4.2,4.3,4.7,3.9,4.4,4.4,4.3,2.6,4.3,null,3.8,4.2,4.2,4.1,4.0,4.4,4.7,null,2.6,4.3,5.0,3.7,4.3,4.1,4.3,3.8,4.5,5.0,null,null,3.9,3.8,4.6,null,4.6,4.7,5.0,null,4.5,null,4.3,3.5,3.3,null,4.8,3.9,null,4.5,null,3.4,5.0,5.0,null,null,4.8,3.6,null,4.3,4.0,4.5,4.6,4.7,3.8,3.4,4.7,4.0,4.6,2.0,4.3,2.0,3.6,4.7,3.5,4.0,3.5,4.3,4.1,4.6,3.8,4.3,3.8,1.0,3.8,3.3,4.8,3.0,4.0,3.6,3.8,4.3,3.9,4.2,4.6,4.0,4.5,4.6,4.6,4.5,3.7,4.4,4.6,3.9,4.4,4.5,4.5,4.3,3.7,3.9,3.9,4.3,4.1,4.1,4.4,4.4,4.2,4.5,4.6,4.4,4.4,4.4,3.8,2.6,4.2,4.4,4.2,4.0,4.2,4.0,4.4,4.5,3.2,4.3,3.4,2.3,4.4,4.3,null,4.3,3.6,4.6,4.2,4.0,4.4,4.5,3.2,1.7,2.2,3.8,4.8,null,4.4,4.5,4.8,4.6,3.7,4.4,3.5,3.8,3.8,4.3,null,4.6,null,4.5,null,3.7,null,4.8,4.3,5.0,3.9,3.0,null,5.0,null,4.4,4.6,3.9,3.3,4.1,3.0,4.2,4.2,4.2,4.0,4.0,3.2,4.6,3.2,4.1,3.3,4.4,4.0,4.2,4.1,4.3,3.3,4.7,4.4,3.1,3.1,3.3,3.9,3.4,3.9,4.4,3.9,3.7,4.5,4.7,null,4.6,null,5.0,3.0,null,3.9,null,5.0,3.9,null,null,null,null,null,null,3.8,null,3.6,3.9,3.8,null,4.8,null,null,null,null,4.4,4.5,4.0,4.7,4.8,4.7,4.7,4.5,4.0,null,3.2,null,null,4.7,4.5,null,4.5,4.9,4.2,5.0,5.0,null,5.0,null,null,4.2,4.7,null,null,4.5,null,null,null,4.5,4.5,3.8,4.5,null,4.3,3.9,3.9,4.2,4.5,4.1,4.4,4.1,4.6,3.3,4.5,2.2,4.4,3.9,4.5,2.8,3.3,null,4.5,null,null,3.1,3.2,4.4,4.1,null,5.0,null,null,3.8,null,null,4.3,4.6,null,null,3.7,4.9,4.3,5.0,null,null,2.9,4.4,4.4,null,4.6,4.5,4.0,null,3.5,4.8,4.8,3.5,4.7,4.6,4.4,4.3,4.7,4.4,4.0,3.5,4.6,3.9,3.5,4.6,4.2,4.4,4.6,4.0,4.2,3.8,4.1,4.3,4.4,4.5,4.1,4.2,4.0,3.6,3.3,4.7,4.6,4.5,3.9,4.3,null,3.9,4.3,null,null,3.1,4.4,3.7,4.6,4.6,2.7,null,null,4.1,4.2,1.9,4.6,null,4.2,null,4.4,4.2,3.9,2.4,5.0,3.9,null,3.7,5.0,4.0,3.0,4.1,4.8,4.5,3.5,null,null,null,4.5,4.5,4.2,4.3,4.4,4.4,4.3,4.2,4.5,4.3,4.3,4.2,4.9,4.1,1.4,4.0,5.0,4.3,null,4.2,4.3,3.8,4.1,4.2,4.3,4.1,4.3,3.6,4.3,4.6,4.4,5.0,4.4,4.5,null,4.7,null,5.0,null,null,3.4,3.1,4.5,5.0,4.3,4.4,4.3,4.2,4.0,4.5,4.0,4.1,3.8,4.3,4.6,4.1,4.3,4.3,4.2,4.3,4.4,4.4,3.9,4.3,4.5,4.3,3.5,4.2,4.1,4.1,4.7,4.5,3.3,4.2,null,null,4.2,4.6,null,4.3,4.3,4.0,4.7,5.0,null,null,null,null,null,null,null,5.0,4.9,null,null,null,null,null,null,4.3,null,null,null,4.0,null,null,4.5,null,4.1,4.3,null,null,null,4.5,null,null,3.9,3.7,4.2,3.6,3.6,2.1,4.7,3.2,3.0,4.3,3.0,4.3,3.9,3.3,4.3,4.0,3.7,2.8,4.4,5.0,3.9,4.2,4.8,4.0,null,3.0,4.5,2.6,5.0,null,null,5.0,4.1,null,4.5,5.0,4.7,4.5,4.4,4.4,4.3,4.2,3.0,4.1,4.2,4.2,4.0,4.3,4.1,3.6,4.3,5.0,4.2,3.9,null,4.1,3.8,5.0,3.7,4.3,4.2,4.3,2.5,4.3,4.4,null,4.3,4.2,4.6,4.0,2.9,null,4.5,4.7,3.8,null,4.7,3.9,4.5,4.7,4.5,4.2,4.3,4.4,4.8,4.2,4.1,4.5,4.5,4.6,4.4,4.1,4.3,4.7,4.4,4.2,4.3,4.5,4.3,4.8,4.5,4.6,4.7,4.4,4.1,4.3,4.2,4.2,3.6,2.8,3.9,3.8,4.4,3.7,2.7,3.8,3.2,3.9,2.3,4.1,4.3,3.1,4.6,4.1,4.4,3.2,4.5,3.7,null,null,null,4.4,4.5,5.0,4.8,null,4.6,4.0,4.1,null,4.1,null,null,4.8,null,null,null,4.3,2.8,null,null,4.7,4.5,4.2,4.3,3.8,3.8,4.2,3.8,4.0,4.0,4.6,4.0,4.3,4.3,3.9,5.0,4.0,4.1,3.9,4.2,4.3,4.5,4.4,4.1,4.2,4.5,4.6,4.1,3.9,4.7,3.9,4.3,2.9,4.4,3.7,4.4,4.1,null,2.8,4.9,3.4,2.8,2.5,4.7,3.1,null,3.2,4.3,3.9,3.6,3.2,null,3.5,3.3,null,null,null,null,2.4,4.4,2.8,5.0,null,4.4,null,null,null,null,null,null,null,5.0,null,3.3,2.9,4.1,4.6,null,2.2,4.3,5.0,2.5,null,3.0,3.7,5.0,null,null,null,null,5.0,null,null,4.1,null,null,null,4.1,2.6,4.6,4.5,null,4.5,null,3.3,null,4.4,4.7,4.7,4.0,4.5,4.3,4.6,4.7,4.4,4.0,4.2,4.3,4.1,4.5,4.3,4.3,4.7,4.1,4.3,4.4,3.1,4.0,4.5,4.5,4.4,4.2,4.6,4.4,4.6,4.0,4.6,4.3,4.3,3.9,4.5,4.7,4.3,4.6,4.6,4.2,4.3,4.6,4.2,4.1,4.6,4.4,3.7,4.4,3.9,4.3,4.3,4.3,4.5,4.5,4.5,4.5,4.7,4.3,4.4,4.5,4.3,4.3,4.2,4.2,4.3,4.2,4.7,4.1,4.3,4.1,3.8,4.5,4.1,null,4.3,4.5,4.1,4.4,4.3,4.4,4.3,null,4.1,4.6,4.7,4.2,3.7,4.7,4.4,4.7,4.2,4.6,4.5,4.8,3.7,4.3,4.2,3.6,4.1,2.3,4.3,4.6,4.5,4.0,4.2,4.6,4.2,4.5,4.3,4.4,3.6,4.0,null,2.8,3.8,4.1,3.8,3.4,4.5,4.3,3.1,4.6,3.3,3.9,4.2,4.9,3.9,3.4,3.7,4.2,3.8,4.6,4.4,4.0,4.2,null,4.2,4.5,4.6,4.4,4.6,4.5,3.7,4.1,4.2,4.0,4.5,4.6,4.5,4.4,3.3,4.2,4.2,4.0,4.0,4.0,3.5,4.5,3.9,3.9,4.1,4.4,4.2,4.4,4.3,4.1,4.0,4.3,4.4,4.5,4.6,3.7,3.8,3.4,4.3,3.8,4.7,4.4,4.4,4.1,4.4,4.0,3.9,4.3,4.2,3.3,4.0,4.6,4.1,4.1,3.4,3.4,4.1,4.0,3.4,3.2,3.8,3.8,3.9,3.6,3.8,3.9,3.2,1.0,4.6,null,3.6,4.9,null,2.6,3.9,null,3.5,3.2,null,3.3,null,null,3.8,3.9,4.6,1.8,null,4.3,3.9,null,4.8,3.7,4.0,4.1,4.6,4.0,null,4.8,null,4.0,3.5,null,3.0,4.6,1.6,3.8,1.7,4.6,5.0,4.6,4.4,4.5,3.8,4.0,4.1,null,5.0,null,null,null,null,5.0,1.0,null,null,4.4,4.7,4.6,2.4,null,4.5,null,null,4.4,4.3,5.0,4.1,3.8,3.9,3.1,4.7,4.5,3.5,4.5,4.6,4.5,4.5,4.4,4.3,4.4,4.2,4.6,4.5,3.8,4.3,4.6,4.3,3.6,4.2,4.7,4.3,4.7,4.8,3.1,4.5,4.4,4.5,4.5,null,4.7,4.1,4.4,4.3,4.6,3.4,null,4.7,3.6,3.7,2.1,2.0,3.5,4.3,2.4,4.5,2.8,null,4.5,null,2.8,3.9,3.2,3.1,2.4,4.6,2.9,4.0,3.7,2.3,2.9,4.6,4.3,5.0,4.2,4.6,4.5,4.2,4.8,3.5,4.6,3.5,3.6,null,5.0,3.0,null,null,2.9,3.7,4.6,null,4.2,3.2,2.5,4.4,4.3,2.7,4.0,4.5,3.4,4.3,4.3,null,4.3,null,null,4.0,4.9,3.4,4.9,4.3,4.7,4.8,4.3,4.3,4.0,null,3.5,null,5.0,4.7,null,4.2,4.4,4.2,5.0,null,5.0,2.0,null,3.7,null,null,null,3.9,4.5,null,null,null,3.1,4.5,4.7,null,4.4,3.8,4.2,4.5,null,4.5,4.6,4.2,4.5,4.2,4.2,4.1,4.3,5.0,4.6,4.0,4.4,null,4.5,3.6,4.6,null,4.0,4.6,4.5,4.5,null,null,null,4.8,5.0,4.4,null,4.0,3.5,5.0,4.0,4.2,4.0,3.9,4.5,3.6,4.2,3.0,3.0,4.0,3.4,4.9,null,null,null,null,4.0,4.4,4.1,4.4,4.0,null,4.5,4.2,3.9,null,3.6,5.0,4.4,3.6,4.7,4.2,4.5,4.7,null,null,4.3,4.2,4.4,null,4.7,4.4,null,4.1,4.5,4.1,4.0,null,null,4.3,4.2,null,4.2,null,4.1,4.2,null,5.0,4.0,4.0,4.5,null,4.1,null,4.7,4.4,4.9,3.6,4.2,null,4.4,null,4.5,4.2,null,null,4.2,null,4.5,4.4,4.4,4.5,4.5,3.9,4.3,4.4,null,4.5,4.0,4.5,4.0,4.4,4.3,2.5,4.4,3.8,4.4,4.2,4.1,4.2,3.9,4.5,4.1,4.4,4.3,4.5,3.4,3.4,4.4,4.2,4.4,3.5,4.1,4.6,1.7,3.3,5.0,4.8,null,4.6,3.3,null,4.2,null,3.5,3.7,5.0,null,null,4.6,4.1,3.5,5.0,null,3.7,4.0,null,null,4.2,null,4.5,3.8,2.5,4.0,null,4.0,4.1,null,null,3.4,3.6,3.4,3.9,4.6,4.3,4.7,5.0,3.9,3.9,4.2,4.3,3.5,null,4.1,4.2,4.4,4.5,3.8,3.4,null,3.9,4.5,null,null,3.0,null,4.1,4.6,null,3.9,4.7,4.5,3.4,5.0,5.0,5.0,4.0,null,null,4.0,null,4.9,5.0,null,4.6,null,4.8,4.1,4.1,null,null,4.7,null,5.0,4.4,3.3,4.0,3.5,2.8,null,3.6,3.2,3.6,3.7,3.3,3.1,4.1,3.1,3.5,3.6,5.0,2.3,null,3.1,2.9,3.0,2.9,3.9,5.0,null,3.4,5.0,null,4.8,null,4.2,null,null,null,5.0,null,4.3,4.6,4.7,null,4.4,4.8,null,null,4.1,null,4.6,4.3,4.6,4.0,2.9,4.1,null,null,null,null,4.2,null,4.3,4.4,2.4,4.2,null,null,null,3.1,null,3.0,4.7,3.4,null,4.7,4.7,4.2,5.0,4.5,4.3,3.3,4.4,null,4.2,4.2,4.7,4.3,4.8,4.2,4.0,4.2,4.1,4.6,4.6,3.8,4.5,4.4,4.1,4.0,3.9,3.5,5.0,4.6,null,3.6,4.2,null,null,3.8,null,3.4,3.8,4.2,4.2,3.7,4.0,4.4,4.5,3.7,4.2,3.9,4.0,3.7,4.2,4.0,3.9,4.1,4.3,4.5,4.5,3.3,4.4,4.2,4.2,4.1,4.1,4.4,4.1,3.9,3.9,4.4,3.8,3.0,3.4,4.3,null,null,5.0,null,4.1,null,2.4,3.9,null,null,null,4.0,null,3.0,null,4.4,3.4,2.9,5.0,4.5,3.7,3.0,null,4.0,3.2,3.6,3.2,3.7,4.7,4.4,3.9,4.4,4.3,4.9,2.6,5.0,4.1,4.0,4.1,null,3.3,4.2,4.0,4.3,null,4.4,5.0,4.3,4.4,null,null,null,3.9,4.3,4.0,3.8,4.5,null,3.8,4.4,4.3,4.7,3.9,4.2,3.8,4.3,3.8,4.2,4.5,4.2,3.6,4.0,null,3.5,4.4,3.5,4.1,4.8,4.4,4.3,4.0,4.2,4.4,3.5,4.3,4.4,4.7,5.0,3.8,5.0,4.8,4.9,4.3,null,5.0,null,4.9,4.9,4.9,4.5,null,4.5,5.0,5.0,3.0,null,null,4.9,5.0,5.0,null,4.1,null,4.1,4.3,4.3,4.1,4.7,null,4.9,4.0,5.0,5.0,null,4.6,4.2,3.7,5.0,4.3,4.0,4.3,4.0,4.0,3.1,3.4,4.2,4.2,4.1,3.4,null,4.0,null,3.9,4.8,4.1,4.3,4.3,4.4,null,4.4,4.5,4.5,4.8,4.4,4.5,4.6,4.6,4.5,null,4.2,4.4,4.2,4.7,4.5,4.2,4.5,4.2,4.7,4.1,4.1,4.6,4.4,4.5,3.8,3.9,3.5,3.8,4.2,4.6,3.7,4.4,3.6,3.4,4.0,4.3,4.3,4.5,4.4,4.5,4.1,4.4,4.3,4.5,4.5,4.2,4.5,4.3,4.1,4.6,4.3,4.0,4.4,4.4,null,4.6,4.6,4.3,4.3,4.2,4.5,4.0,4.6,4.5,3.8,4.3,4.3,4.9,4.0,4.5,4.1,4.5,4.2,4.4,4.4,4.0,4.3,4.3,4.4,4.4,4.0,4.7,4.2,4.5,4.1,4.4,4.1,4.3,3.5,4.7,null,2.6,4.2,null,null,null,null,null,null,null,null,5.0,null,4.3,null,null,null,null,null,4.4,4.3,null,null,4.1,null,4.3,4.5,null,4.6,4.6,4.7,null,4.3,4.2,4.5,4.3,4.5,3.5,4.3,4.6,4.5,4.3,4.4,null,null,null,3.4,4.3,3.8,4.5,null,null,null,5.0,4.9,null,null,5.0,null,null,4.2,4.3,4.4,2.3,4.7,null,null,null,4.4,4.3,4.4,null,4.0,3.6,null,4.1,4.6,3.9,4.4,null,3.7,3.9,null,4.3,4.1,3.6,3.5,3.9,3.9,3.8,4.0,null,4.5,3.6,3.9,4.3,4.0,4.2,3.7,3.9,4.2,3.5,4.0,3.8,4.1,4.2,4.1,4.4,3.7,null,4.7,3.8,4.0,4.2,3.8,3.9,4.0,3.1,5.0,3.5,4.1,4.5,4.7,4.1,null,3.9,4.0,4.3,3.1,null,4.2,4.1,4.4,3.2,null,3.3,4.3,4.7,4.3,4.2,4.7,4.3,4.2,4.2,4.2,4.1,4.2,4.3,4.4,4.3,3.5,4.3,1.8,4.2,4.2,4.6,4.0,4.3,5.0,3.8,4.3,3.0,5.0,4.7,4.6,4.4,4.7,5.0,4.8,3.0,4.6,4.6,null,4.1,4.6,4.5,4.3,4.2,3.9,4.7,4.9,4.3,4.4,3.6,4.6,4.5,null,3.9,4.3,4.8,3.7,4.4,4.2,4.3,4.6,4.5,3.9,4.3,4.4,4.0,4.7,4.3,4.5,4.2,4.2,4.8,4.6,4.5,4.0,4.2,4.1,4.7,4.2,4.6,4.5,3.9,3.6,4.6,null,3.4,4.2,3.4,3.6,4.2,3.5,4.3,null,3.9,4.3,3.6,null,3.9,4.3,3.7,null,3.8,null,4.1,4.1,4.7,4.1,null,1.9,3.6,3.8,null,4.5,2.7,null,4.5,null,5.0,4.0,4.2,null,null,4.4,null,4.0,null,3.1,null,null,5.0,null,null,null,null,null,null,null,null,null,4.7,3.7,3.9,null,null,3.0,null,null,null,null,null,4.2,3.0,null,null,4.2,null,null,4.2,3.7,4.6,4.5,4.6,4.7,4.3,2.3,2.8,2.8,3.6,3.0,3.2,3.5,3.8,3.5,4.2,null,4.5,3.4,3.0,4.4,4.0,null,4.3,null,4.1,3.6,3.7,4.2,3.7,4.3,null,null,3.3,4.4,4.8,3.5,4.0,4.9,4.0,null,4.6,4.3,3.6,3.9,3.9,4.0,4.2,4.4,null,null,4.3,null,null,null,null,3.7,null,4.3,null,null,3.4,null,3.5,null,4.2,4.2,null,3.6,null,3.9,3.8,3.8,4.0,4.5,3.8,4.9,3.8,4.1,3.5,3.0,4.5,4.7,3.8,3.3,4.0,4.1,3.7,3.9,3.5,4.4,4.0,4.0,4.6,4.4,4.5,4.3,4.4,4.3,4.1,4.2,2.7,4.2,2.3,3.9,4.1,2.9,3.3,4.2,4.3,2.9,3.5,2.8,null,4.3,3.5,4.6,4.2,4.2,3.7,4.7,3.9,4.3,4.4,4.0,4.4,3.7,4.3,3.5,null,4.3,4.0,4.5,4.2,4.3,4.1,2.5,2.7,null,null,null,null,1.2,null,null,null,4.7,4.9,4.7,null,null,4.4,4.7,4.0,null,4.7,4.3,null,4.7,null,4.4,null,null,null,null,null,null,4.6,null,null,null,4.4,4.4,4.4,4.6,3.1,4.3,3.7,4.6,null,4.1,4.2,4.4,4.1,3.6,4.4,3.8,4.0,3.2,2.8,3.1,2.9,4.1,3.3,3.5,4.2,2.8,2.1,4.4,4.4,4.2,4.1,3.3,3.5,4.7,3.1,4.3,4.1,4.2,2.5,3.9,3.0,3.2,4.3,4.3,4.2,4.3,2.2,3.9,2.8,4.4,4.6,4.4,3.9,2.9,4.1,5.0,4.6,3.7,null,4.4,4.2,4.4,3.9,3.6,3.4,null,4.3,4.3,4.4,null,4.3,4.3,null,null,null,4.4,null,4.0,4.5,4.6,4.3,4.1,4.4,3.5,4.1,3.8,4.2,4.3,4.5,4.0,4.0,4.3,4.1,3.4,4.0,4.3,4.7,4.5,4.3,4.1,4.1,4.4,4.6,null,3.8,3.9,4.2,4.2,3.7,4.3,4.2,3.6,4.3,4.3,4.3,4.5,4.3,4.7,3.8,4.0,4.1,null,3.9,4.3,3.4,null,4.2,4.5,4.4,4.2,4.7,4.6,4.4,4.4,4.8,4.6,4.3,4.4,4.4,3.3,4.5,4.6,4.3,4.9,4.3,null,4.5,4.9,3.7,4.5,4.6,4.5,4.1,4.8,null,5.0,3.4,4.5,4.8,4.5,4.5,4.5,4.5,4.5,4.1,4.1,3.6,4.7,4.6,4.9,4.6,4.1,4.5,3.9,3.9,4.6,3.8,4.7,3.9,4.1,3.9,4.0,4.3,4.0,4.4,4.1,5.0,4.8,null,4.6,5.0,4.2,4.7,4.0,4.4,4.9,3.5,4.1,4.2,4.4,null,4.5,3.1,null,4.5,4.6,4.3,4.4,4.6,4.3,4.8,2.8,4.1,1.0,3.0,5.0,4.5,null,null,null,null,null,null,null,5.0,4.1,null,null,null,4.4,3.0,null,3.8,null,3.9,null,null,null,5.0,null,null,null,4.5,null,null,null,5.0,null,null,3.3,null,4.5,4.9,null,null,null,null,null,null,4.3,4.5,4.1,4.8,3.8,4.1,3.9,null,4.2,4.2,4.8,4.1,4.1,4.0,3.9,4.1,4.1,4.2,3.7,3.9,3.9,3.6,3.7,3.6,4.3,3.9,4.5,2.6,4.4,null,1.0,null,null,null,null,4.2,4.8,5.0,4.3,4.4,4.5,null,4.9,null,null,null,5.0,null,null,4.2,4.2,null,null,4.0,2.1,null,4.2,null,2.5,4.4,4.4,4.6,null,null,4.4,4.2,4.5,3.3,3.9,null,4.5,4.1,4.8,4.6,4.4,3.8,3.7,4.2,3.7,4.3,4.5,3.5,4.0,4.5,2.9,3.9,3.6,4.6,2.1,4.7,4.5,4.1,4.5,3.7,2.9,4.0,4.2,3.7,3.6,3.9,3.4,3.5,4.2,3.4,3.9,3.0,3.6,3.2,4.1,4.1,4.2,4.2,null,4.7,null,4.6,4.5,null,4.3,4.5,4.5,4.4,4.3,null,null,null,null,4.2,null,3.7,null,4.1,4.3,4.0,3.5,4.2,4.4,4.2,4.4,null,3.8,3.9,4.0,3.8,3.6,4.2,null,3.8,null,3.7,4.0,4.2,4.4,null,null,4.4,4.9,null,5.0,null,4.8,null,null,null,null,null,null,null,null,4.0,null,null,null,null,null,null,null,null,4.0,null,null,4.9,null,3.8,null,4.9,null,null,null,null,null,1.5,null,5.0,null,4.8,null,3.9,3.7,4.6,4.7,4.6,4.3,4.2,4.6,4.7,4.6,2.0,3.6,3.2,3.8,4.0,3.8,3.8,4.4,4.4,4.4,3.8,4.3,4.6,1.0,3.2,4.7,4.3,4.5,4.1,4.9,4.1,4.2,3.5,4.2,5.0,3.8,4.7,null,null,4.5,null,5.0,3.3,5.0,null,4.0,4.5,3.2,4.5,4.2,null,3.7,3.8,5.0,null,4.1,2.9,null,null,null,4.7,5.0,3.2,null,3.8,3.8,4.6,4.6,4.4,4.8,4.2,3.3,3.9,4.5,3.9,4.3,4.4,3.9,4.6,3.9,3.4,4.6,null,null,4.2,null,null,4.8,5.0,null,null,5.0,null,null,null,3.8,null,2.9,4.6,3.8,null,null,null,4.1,null,4.5,null,4.2,null,2.5,3.5,4.6,4.4,4.6,4.3,4.2,4.2,4.1,4.2,4.3,4.5,4.4,5.0,4.6,null,null,null,null,null,5.0,null,null,null,null,null,3.4,null,null,4.6,4.5,null,null,3.8,4.1,4.4,4.4,4.4,3.0,4.2,4.2,3.9,4.2,4.4,5.0,4.0,4.3,4.6,3.6,4.4,4.1,4.2,4.3,4.5,3.9,4.3,3.5,null,null,null,4.0,3.8,3.6,4.3,4.2,5.0,3.4,null,null,null,3.5,null,3.7,4.2,null,3.6,4.5,4.2,4.3,4.4,2.7,4.1,null,4.4,null,null,4.5,null,3.4,2.9,4.8,3.8,null,4.0,3.9,null,null,null,null,5.0,3.9,4.0,3.6,4.1,4.3,3.8,4.2,4.3,4.2,4.2,4.1,null,4.0,4.1,4.0,4.2,4.4,null,4.2,4.7,4.6,null,4.7,4.1,4.9,4.0,4.3,4.2,4.3,null,null,null,4.7,4.8,null,4.1,null,4.0,4.2,null,4.0,null,3.3,5.0,null,null,null,null,null,4.0,4.2,3.4,4.6,3.8,null,3.8,4.8,4.0,null,4.5,5.0,null,4.5,4.5],\"xaxis\":\"x\",\"y\":[4.1,3.9,4.7,4.5,4.3,4.4,3.8,4.1,4.4,4.7,4.4,4.4,4.2,4.6,4.4,3.2,4.7,4.5,4.3,4.6,4.0,4.1,4.7,null,4.7,4.8,4.7,4.1,3.9,4.1,4.2,4.1,4.5,4.2,4.7,3.8,4.7,4.1,4.7,4.0,4.2,4.5,4.4,3.8,4.2,4.7,4.6,4.2,4.3,4.2,4.0,3.8,4.6,3.9,4.3,4.9,4.4,4.2,4.0,3.9,4.6,4.9,4.3,4.6,4.9,3.9,4.0,4.3,3.9,4.2,4.8,3.6,4.2,4.8,4.8,4.6,4.5,4.3,4.5,4.9,3.9,4.4,4.0,4.3,3.7,4.4,4.3,3.2,4.6,4.6,4.5,3.7,4.6,4.6,4.6,4.0,4.4,4.0,4.7,4.9,4.7,3.9,3.9,4.2,4.6,4.3,4.7,4.7,4.8,4.2,4.3,4.5,4.1,null,4.2,4.5,4.4,4.0,4.1,4.1,4.4,4.6,4.5,null,3.9,4.4,null,4.6,3.8,null,null,4.0,4.3,4.5,null,4.1,3.7,4.7,4.2,4.6,4.5,4.6,4.4,4.2,4.5,4.5,4.5,4.5,4.4,4.5,4.6,4.8,3.9,4.6,4.2,4.1,4.7,4.2,4.3,3.3,4.6,4.8,4.7,null,4.1,4.6,4.1,4.6,4.7,4.5,3.9,4.4,4.3,4.2,4.5,4.4,3.4,4.9,4.6,4.4,null,4.4,4.4,4.4,3.5,null,4.4,4.1,4.3,4.4,4.3,4.3,4.1,4.4,4.3,3.9,4.8,4.5,4.4,4.0,4.3,4.0,4.2,4.5,4.2,4.2,4.6,4.1,4.6,3.1,3.9,4.3,4.1,4.4,4.1,4.1,4.5,4.4,4.4,4.3,4.4,4.6,4.2,4.4,4.7,3.8,3.9,null,4.3,4.2,4.4,4.7,4.5,4.2,4.7,4.8,4.2,4.2,4.3,4.4,4.4,4.1,3.8,4.3,3.8,3.5,4.1,4.6,4.3,4.5,4.1,4.5,4.6,4.0,4.2,4.4,4.4,4.0,4.2,4.2,4.1,4.0,3.8,3.9,3.9,4.2,4.2,4.3,4.4,4.4,4.1,3.8,4.3,3.8,3.5,4.1,4.6,4.3,4.5,4.1,4.5,4.6,4.0,4.2,4.3,4.2,4.4,4.7,4.5,4.2,4.7,4.8,4.1,4.3,4.4,4.5,4.3,4.5,4.6,4.7,4.7,4.8,3.9,4.1,4.4,4.6,4.5,4.7,4.4,4.5,3.9,3.2,3.2,4.1,4.5,4.2,4.2,3.7,4.5,4.6,4.5,null,4.7,4.4,3.5,3.3,4.5,4.4,4.2,5.0,4.4,4.7,4.4,4.4,4.6,4.0,4.4,4.3,4.3,4.4,4.3,4.0,4.3,4.3,4.4,4.3,4.3,4.3,4.3,4.3,4.0,4.5,4.3,3.7,4.5,3.9,4.4,3.6,4.4,4.2,4.4,4.1,4.4,4.3,4.2,4.2,4.4,4.4,3.9,4.2,4.4,4.6,4.3,4.3,4.4,3.7,4.3,3.9,4.5,3.7,4.3,4.4,4.0,4.3,4.0,4.3,4.0,4.1,4.2,4.2,4.2,4.1,4.4,4.3,4.2,4.4,4.2,4.1,4.3,4.3,4.5,4.3,4.2,4.2,4.5,4.3,4.3,4.3,4.4,4.2,4.3,4.3,4.4,4.6,4.3,4.4,4.2,4.5,4.5,4.4,4.5,4.1,4.2,4.1,4.3,4.1,4.2,4.0,4.2,4.2,4.2,4.3,4.3,4.4,4.2,4.4,4.1,4.2,4.8,4.4,4.4,4.4,4.0,4.5,4.4,4.1,4.2,4.5,4.3,4.5,4.0,4.3,4.3,4.2,4.5,4.6,4.1,4.0,4.2,4.6,4.1,4.3,4.2,4.3,4.0,4.3,4.2,4.3,4.1,4.2,4.1,4.6,4.3,4.2,4.2,4.3,4.2,2.6,null,null,null,3.5,4.0,4.1,3.7,4.1,4.2,4.5,4.4,4.2,4.0,4.1,3.1,4.4,4.2,4.1,3.9,4.3,4.4,3.5,4.0,3.3,4.5,4.4,4.1,3.9,3.9,3.6,4.0,3.6,3.4,4.2,4.1,3.4,3.0,4.6,4.1,3.9,1.9,3.5,2.5,3.9,3.4,3.5,4.4,3.8,4.2,2.5,2.8,4.1,4.2,3.5,4.3,3.3,4.1,4.2,3.5,4.2,4.4,4.1,4.2,4.3,4.1,4.0,4.1,4.2,3.0,4.4,4.5,2.5,4.1,4.2,4.0,4.1,1.9,3.3,4.4,4.1,3.8,4.1,4.2,4.0,4.5,3.7,3.9,3.5,3.9,4.0,4.6,4.0,4.1,4.2,3.3,4.4,4.3,4.2,3.9,4.3,3.4,4.2,4.1,4.0,3.6,4.2,3.5,4.0,4.1,4.1,2.8,4.4,4.4,4.2,4.1,4.2,3.9,4.1,4.2,3.9,4.0,4.2,4.5,3.9,3.6,4.4,3.5,4.4,4.8,4.6,4.7,4.8,null,2.7,5.0,null,4.8,5.0,4.8,null,4.9,3.0,null,null,4.7,null,null,1.0,null,null,null,null,null,null,null,5.0,4.7,null,5.0,null,null,null,5.0,null,null,null,null,3.0,4.1,null,null,null,null,null,null,null,5.0,3.7,4.5,4.2,null,null,null,4.3,4.1,1.9,4.1,4.4,null,3.9,3.9,null,4.0,4.4,4.7,3.8,4.4,4.4,3.6,4.4,2.7,4.3,4.6,2.8,3.5,null,3.4,4.8,4.7,4.8,4.8,4.7,4.1,3.5,4.7,3.8,2.9,4.5,3.3,4.1,null,4.7,4.6,4.7,4.6,4.7,null,4.5,4.7,4.8,4.6,4.6,4.6,4.2,4.9,3.8,4.2,4.4,4.4,4.3,4.5,4.4,4.6,3.9,4.4,4.3,4.4,4.2,4.4,4.0,4.2,3.8,4.5,4.7,4.5,4.3,4.2,4.3,4.7,4.7,4.6,4.6,4.6,4.5,4.4,4.6,4.5,4.5,4.2,4.4,4.4,4.2,4.5,4.1,4.0,4.1,4.3,4.3,4.3,4.5,4.6,4.1,4.6,4.7,4.7,4.3,4.7,4.6,4.6,4.6,4.3,4.2,4.0,4.5,4.2,4.1,4.4,4.0,4.5,4.4,4.0,4.2,4.3,4.2,4.6,4.6,4.7,4.6,4.4,4.5,4.3,4.6,4.5,4.2,4.2,4.7,4.5,4.6,4.3,4.2,4.7,4.7,4.4,4.5,4.4,4.0,4.6,4.4,4.7,4.7,4.3,4.1,4.2,4.3,4.3,4.3,4.0,4.2,4.0,4.0,3.8,4.6,4.1,3.9,4.1,4.5,4.2,4.4,4.7,4.0,4.4,4.4,4.0,4.5,4.7,4.3,4.5,4.3,4.1,4.3,4.5,4.2,4.6,3.5,4.2,4.4,4.4,4.6,4.3,4.5,4.8,4.4,4.1,4.9,4.7,4.7,4.7,4.4,4.0,4.2,4.3,4.5,3.5,4.2,3.1,4.6,4.2,4.3,4.3,4.1,3.8,3.4,4.3,4.4,4.4,4.0,3.7,3.9,4.5,4.4,4.3,4.2,4.2,4.5,4.7,4.5,4.5,3.4,4.2,4.3,4.2,4.6,4.1,4.2,4.2,4.3,4.4,3.9,4.1,4.3,4.5,4.6,3.6,4.3,4.3,4.2,4.4,4.1,4.1,4.2,3.9,4.2,3.7,4.5,3.7,3.8,4.3,3.0,4.1,4.2,4.1,3.9,4.0,4.4,4.2,4.0,3.9,4.0,4.2,4.0,4.3,3.9,4.2,4.4,4.3,3.7,4.3,3.7,3.8,4.2,4.0,3.9,4.4,4.5,4.1,4.1,3.9,4.5,4.0,4.1,3.6,3.8,4.0,4.2,3.7,3.8,3.7,4.1,3.7,3.9,4.4,4.3,3.9,3.7,3.7,4.2,4.3,4.0,4.1,3.9,4.5,3.9,4.1,4.3,4.4,4.1,4.0,3.9,3.9,4.0,4.1,4.2,3.8,4.0,3.9,4.2,3.7,3.9,4.2,4.3,4.3,4.6,4.3,4.6,4.2,4.6,4.5,4.6,3.9,4.2,4.4,4.2,4.3,4.6,4.3,4.5,4.0,4.0,4.5,4.5,4.0,4.0,4.2,4.4,4.6,null,4.6,4.1,4.6,4.4,4.6,4.9,4.5,4.6,4.7,4.3,null,null,4.2,4.3,5.0,4.4,5.0,4.5,null,null,null,4.5,4.8,4.4,5.0,null,3.7,null,4.1,null,4.8,null,null,4.6,4.4,4.4,3.6,3.7,3.8,4.2,4.2,4.2,3.3,3.4,4.3,4.2,4.7,4.1,4.7,4.0,3.6,4.0,3.6,4.3,4.2,4.2,4.1,4.0,4.1,4.4,4.7,4.5,4.3,4.6,4.3,4.0,4.5,4.5,3.6,4.2,4.1,3.5,4.4,4.0,4.5,4.2,4.6,4.2,4.8,4.5,4.2,4.3,4.2,4.4,4.4,4.6,4.2,4.6,4.6,4.4,4.3,4.2,4.2,3.8,4.5,4.6,4.6,4.7,4.6,4.6,4.7,3.8,4.3,4.3,4.5,4.6,4.6,4.7,4.5,4.4,3.9,4.5,4.6,4.1,4.5,4.4,4.5,4.6,4.2,4.4,4.1,3.9,4.6,4.5,3.7,4.1,4.4,4.6,4.5,4.3,4.3,4.3,4.4,4.3,4.4,4.3,4.4,4.1,4.4,4.2,4.3,4.4,4.3,4.3,3.9,4.1,4.1,4.2,4.5,4.2,4.7,4.4,4.6,4.6,4.4,4.6,4.3,4.0,4.4,4.6,4.2,4.1,3.6,null,4.1,4.6,null,4.7,4.7,4.7,4.7,4.1,3.4,3.8,3.7,4.2,3.1,3.5,4.7,4.5,4.2,4.3,4.0,4.5,4.6,4.7,4.1,4.3,3.8,4.4,4.3,4.2,4.3,3.8,4.3,3.7,4.5,3.6,4.8,3.3,4.7,4.6,4.6,3.4,4.6,4.0,4.1,4.5,4.4,4.5,4.0,4.1,4.5,4.6,4.1,4.5,4.6,4.5,4.3,3.6,4.4,4.6,4.1,4.3,3.9,4.5,4.1,3.6,4.7,4.3,4.7,4.6,4.4,4.2,4.5,4.3,4.2,4.5,4.5,4.3,4.0,4.3,4.8,4.0,4.9,4.8,4.9,4.8,4.4,3.3,4.7,4.6,4.8,4.8,4.8,4.5,4.4,4.5,4.5,4.5,4.8,3.9,4.6,4.5,4.5,4.7,4.7,4.4,4.2,3.9,4.2,4.4,4.6,4.6,4.2,4.5,4.7,4.5,4.5,3.7,4.5,4.6,4.6,4.7,4.5,4.5,4.6,4.0,4.3,4.4,4.5,4.2,4.6,4.9,4.5,4.5,4.6,4.5,4.6,4.6,4.5,4.5,4.4,3.9,4.5,4.4,4.6,4.4,4.5,4.5,4.6,4.5,4.4,4.4,4.4,4.2,4.5,4.5,4.4,4.3,4.6,4.6,4.9,4.4,4.3,4.1,4.6,4.8,4.5,4.7,4.6,4.3,4.4,4.4,4.6,4.3,4.6,4.6,4.5,4.6,4.6,4.5,4.1,4.5,4.6,4.5,4.8,4.8,4.6,4.5,4.1,4.4,4.2,4.5,4.3,4.6,4.0,4.6,4.5,4.4,4.5,4.6,4.4,4.7,4.4,4.2,4.5,4.2,4.4,4.5,4.6,4.6,4.6,4.5,4.5,4.4,4.4,4.5,4.5,4.0,4.6,4.1,4.0,4.4,4.4,4.1,3.5,4.3,4.5,4.2,4.6,4.4,4.5,4.0,4.5,4.6,4.4,4.4,4.1,4.0,4.1,4.1,4.2,4.5,3.5,4.3,4.2,4.6,4.4,4.5,4.4,3.7,4.3,4.5,4.6,4.7,4.6,4.6,4.0,4.4,4.4,4.8,4.6,4.2,4.6,4.1,4.4,4.5,4.3,4.7,4.6,4.4,4.5,4.8,4.2,4.5,4.1,4.1,4.0,4.3,4.5,null,4.6,3.7,3.7,4.2,4.5,4.3,3.9,4.6,4.3,4.4,4.6,4.5,3.8,null,4.4,4.7,3.4,4.3,4.3,4.0,4.0,3.8,null,4.3,3.6,3.8,4.5,4.6,null,4.5,4.7,4.3,3.7,null,4.2,3.4,3.9,4.0,4.0,4.0,4.6,4.0,4.1,3.9,4.4,4.4,4.3,4.6,4.5,4.5,4.5,4.5,4.3,4.2,4.4,4.3,4.6,4.1,3.9,4.4,4.6,null,4.1,null,null,3.8,4.6,3.5,4.7,4.3,4.5,4.4,3.4,4.3,null,4.3,4.6,4.6,null,4.2,null,null,4.6,null,null,4.4,3.9,4.5,3.8,4.3,3.7,5.0,3.2,4.5,4.7,4.0,null,4.1,3.8,4.7,4.5,null,4.2,null,4.1,3.1,4.1,4.1,4.3,4.0,4.6,4.4,4.4,4.3,4.6,3.2,4.5,4.6,4.6,4.3,3.0,4.4,4.4,4.3,3.5,4.3,4.5,3.7,4.5,4.2,4.3,4.6,4.5,3.9,4.3,3.3,4.7,4.2,3.2,4.4,3.5,3.7,3.8,3.8,3.7,4.6,4.0,3.6,3.8,4.1,4.7,3.9,4.1,4.6,4.2,3.6,4.6,4.2,4.4,4.6,4.7,4.1,3.9,4.0,4.1,4.6,4.1,4.1,4.1,4.4,3.8,4.3,4.1,4.1,4.1,4.4,3.8,4.3,4.4,4.2,4.4,4.3,4.1,4.0,4.2,4.1,3.9,4.4,4.6,4.5,4.5,4.8,4.4,4.5,4.5,4.6,4.5,4.5,4.5,4.4,4.7,4.5,4.2,4.4,4.6,4.3,4.3,4.2,4.6,4.4,4.4,4.5,4.4,4.3,4.6,4.3,4.2,4.2,4.5,4.5,4.5,4.7,4.7,4.5,4.4,4.3,3.8,4.6,4.6,4.4,4.3,4.1,4.3,4.4,4.6,4.3,4.4,4.7,4.5,4.4,4.6,4.5,4.4,4.6,4.5,4.5,4.3,4.5,4.6,4.4,4.4,4.5,4.7,4.6,4.5,4.5,4.7,4.5,4.8,4.7,4.4,4.6,4.5,4.6,4.7,4.6,4.5,4.6,4.5,4.6,4.4,4.7,4.3,4.3,4.4,4.3,4.5,4.4,4.5,4.4,4.5,4.6,4.7,4.6,4.4,4.4,4.5,4.6,4.3,4.5,4.5,4.4,4.5,4.2,4.5,4.4,4.7,4.2,4.5,4.5,4.6,4.4,4.5,4.3,4.3,4.5,4.7,4.7,4.1,4.8,4.4,4.2,4.4,4.7,4.3,4.7,4.2,4.3,4.4,4.1,4.1,4.2,4.5,4.7,4.6,4.5,3.1,4.1,3.4,4.4,4.3,4.6,4.4,4.3,4.6,4.2,4.2,4.5,4.4,4.2,4.5,4.8,4.4,4.6,4.5,4.3,4.6,4.4,4.4,4.5,4.6,4.6,4.6,4.1,4.5,4.6,4.4,4.7,4.6,4.3,4.5,4.6,4.2,4.5,4.8,4.1,4.3,4.4,4.0,4.2,4.0,4.2,4.5,4.7,4.2,4.4,4.6,4.9,4.4,4.5,4.6,4.2,4.5,4.6,4.6,4.5,4.4,4.6,4.5,4.6,4.4,4.4,4.3,4.3,4.6,4.3,4.3,4.6,4.5,4.5,4.2,4.7,4.3,4.0,4.4,4.3,4.6,4.7,4.4,4.7,4.4,4.3,4.2,4.4,4.5,4.5,4.5,4.4,4.3,4.5,4.7,4.7,4.6,4.6,4.4,4.4,4.7,4.6,4.5,4.3,4.3,4.3,4.6,4.8,4.5,4.4,4.5,4.5,4.6,4.6,4.6,4.6,4.7,4.5,4.5,4.5,4.6,4.5,4.4,4.4,4.6,4.7,4.5,4.4,4.6,4.7,4.6,4.5,4.4,4.5,4.3,4.5,4.2,4.5,4.3,4.4,4.7,4.6,4.7,4.6,4.4,4.6,4.5,4.3,4.5,4.5,4.6,4.6,4.3,4.6,4.5,4.7,4.5,4.7,4.7,4.6,4.4,4.3,4.5,4.3,4.4,4.2,4.3,4.5,4.4,4.7,4.2,4.1,4.5,4.5,4.5,4.1,4.3,4.5,4.4,4.5,4.6,4.0,4.3,4.5,4.4,4.4,4.6,4.2,4.5,4.6,4.5,4.7,4.5,4.5,4.5,4.4,4.6,4.3,4.4,4.3,4.7,4.7,4.4,4.3,4.4,4.5,4.5,4.4,4.4,4.6,4.6,4.4,4.6,4.2,4.4,4.6,4.6,4.7,4.5,4.2,4.6,4.7,4.6,4.3,4.6,4.4,4.4,4.5,4.2,4.4,4.3,4.7,4.5,4.4,4.5,4.4,4.4,4.5,4.6,4.5,4.3,4.7,4.4,4.5,4.2,4.5,4.5,4.7,4.4,4.3,4.6,3.9,4.2,4.5,4.3,4.5,4.4,4.4,4.8,4.4,4.4,4.3,4.6,4.1,4.5,4.5,4.5,4.0,4.5,4.6,4.5,4.5,4.5,4.4,4.7,4.5,4.5,4.2,4.3,4.5,4.2,4.3,4.4,4.6,4.6,4.5,4.2,4.5,4.6,4.6,4.1,4.5,4.6,4.6,4.5,4.3,3.8,4.5,4.1,4.8,3.9,4.5,4.4,4.3,4.2,3.0,4.5,4.4,4.5,4.7,4.1,4.5,4.5,4.5,4.6,4.3,4.3,4.5,4.2,4.2,4.4,4.5,4.1,4.2,4.1,4.7,4.3,4.4,4.4,null,4.3,4.4,4.3,4.3,4.2,4.2,4.3,4.3,4.1,4.2,4.5,4.3,4.3,4.5,4.1,4.5,4.2,4.4,4.0,4.1,4.3,4.3,4.4,4.3,4.1,4.0,4.3,4.6,4.3,4.7,4.3,4.4,4.2,4.7,3.9,4.1,4.1,4.1,4.2,4.7,4.4,4.3,4.5,4.3,4.3,4.1,4.1,4.1,4.6,4.1,4.4,4.4,4.3,4.0,4.8,3.8,4.7,4.5,4.8,4.4,4.8,4.2,4.2,4.0,4.7,4.7,3.9,4.5,4.1,4.4,3.9,4.4,4.4,3.6,4.4,4.1,3.6,4.6,4.3,4.5,4.4,4.1,4.4,3.9,4.4,4.4,3.6,4.4,4.1,3.6,4.6,4.3,4.5,4.4,4.5,4.1,4.5,4.1,3.9,4.2,4.1,3.9,4.1,4.2,4.7,3.8,4.3,4.3,4.3,3.9,4.3,4.0,4.0,4.3,4.2,4.1,4.0,4.4,4.3,4.3,4.4,4.2,4.1,4.3,4.2,4.6,4.1,4.5,4.4,4.5,4.3,4.2,4.4,4.6,4.5,4.8,4.5,3.2,4.6,4.5,4.1,4.6,4.5,4.4,4.4,4.4,3.8,4.6,2.5,4.0,5.0,4.3,3.4,null,3.4,4.3,4.4,4.4,4.2,5.0,4.1,3.9,4.6,4.2,4.4,4.2,3.6,4.5,null,4.7,4.6,4.5,4.2,4.2,4.3,4.4,4.1,4.4,4.6,4.4,4.2,4.5,null,2.6,4.6,4.8,4.2,4.7,3.0,3.5,4.6,4.8,4.2,4.6,4.4,4.8,4.0,3.7,4.2,4.8,4.7,3.5,3.9,4.2,4.8,2.7,4.2,4.7,4.6,4.5,4.7,4.7,4.5,4.7,4.0,3.4,3.5,3.0,4.7,4.6,4.2,4.8,4.5,4.2,3.8,3.0,4.4,4.5,4.0,3.6,4.4,4.7,4.9,3.6,4.5,4.1,4.6,4.7,4.7,2.8,4.3,4.6,4.3,3.4,null,4.0,4.8,4.2,3.0,4.5,3.7,4.5,4.5,4.6,4.2,4.6,3.6,4.4,4.4,4.5,4.5,4.1,4.6,4.3,4.3,4.7,4.5,4.5,4.5,4.2,4.4,3.9,4.2,4.4,4.1,3.4,4.1,4.0,null,4.1,3.5,4.2,4.0,4.5,4.3,4.3,4.8,4.6,4.1,4.6,3.5,2.3,4.5,4.3,4.2,4.2,3.1,4.4,4.4,2.9,3.1,3.7,4.0,3.8,4.6,4.4,3.8,null,4.8,4.3,null,null,null,null,3.7,5.0,3.0,3.7,null,null,null,null,null,null,null,null,null,null,null,null,null,null,3.7,5.0,null,null,5.0,null,5.0,null,5.0,null,5.0,5.0,null,5.0,5.0,5.0,null,null,null,4.3,4.9,null,null,null,null,null,null,null,5.0,null,null,4.9,4.6,5.0,null,null,null,null,4.0,null,5.0,null,4.0,2.6,4.7,4.8,4.3,4.7,2.5,4.6,4.5,4.1,4.5,4.3,null,3.8,4.4,null,null,null,4.5,4.5,3.8,4.5,4.0,4.5,3.7,4.3,3.7,null,4.4,3.8,null,2.7,5.0,4.3,3.8,3.0,5.0,3.6,4.0,4.3,4.7,5.0,4.7,null,4.6,3.1,4.4,5.0,3.6,2.8,4.4,4.2,4.6,4.2,null,3.8,3.5,4.7,4.1,4.5,4.3,4.4,4.4,4.2,4.0,4.3,4.6,4.4,4.2,4.4,4.4,4.3,4.6,4.4,4.5,4.6,4.6,4.6,4.4,4.5,4.5,4.3,4.4,4.6,4.3,4.8,4.2,4.6,4.0,4.6,4.3,3.6,4.0,4.5,4.4,4.5,4.2,4.5,4.3,4.2,4.2,4.4,4.3,4.3,4.1,4.5,4.3,4.2,4.1,4.3,4.2,4.1,4.1,4.4,3.7,3.9,3.7,4.0,4.5,3.6,4.1,4.1,4.0,4.1,4.0,4.5,4.6,4.3,4.3,4.2,4.5,4.2,4.3,4.1,3.8,4.2,4.4,4.3,4.2,4.1,4.0,4.3,4.3,4.2,4.2,4.0,4.4,4.0,4.2,4.2,4.4,4.1,4.1,4.3,4.0,4.2,4.2,4.2,4.1,4.0,4.3,4.3,4.4,4.4,4.2,4.2,4.0,4.2,4.0,4.5,4.6,4.3,4.2,4.3,4.6,4.4,4.4,4.5,4.3,4.2,4.2,4.4,4.6,4.2,3.6,4.5,4.4,3.8,4.7,3.6,4.2,3.6,4.3,4.4,4.5,4.1,4.3,4.3,4.7,4.3,4.2,4.2,4.3,4.2,4.3,4.6,4.4,4.3,3.8,4.6,4.5,4.1,4.4,4.3,3.8,4.0,3.3,4.1,4.1,4.2,4.1,4.4,4.1,4.2,4.5,4.3,4.5,4.1,4.5,4.4,4.6,4.5,4.6,4.7,4.3,4.4,4.4,4.2,4.1,4.1,4.5,4.7,4.1,4.2,4.5,4.4,4.6,4.2,4.6,4.3,4.1,4.1,4.4,4.1,4.6,4.2,4.2,4.1,4.2,4.3,4.2,4.5,4.7,4.5,4.3,4.0,4.4,4.4,4.0,4.5,4.6,4.1,4.5,3.9,4.5,4.2,4.3,4.3,4.4,4.5,4.6,4.4,4.3,4.3,4.1,4.7,4.4,4.2,4.4,4.2,4.2,4.1,4.0,4.1,4.5,4.6,4.3,4.6,4.4,4.0,4.5,4.1,4.4,4.0,4.6,4.5,4.4,4.5,4.1,4.3,4.5,4.2,3.8,4.5,4.7,4.1,4.6,4.8,4.0,4.7,4.7,4.1,4.5,3.6,4.5,4.7,4.7,4.5,4.2,4.5,4.4,4.5,4.5,4.4,3.7,4.3,4.5,4.4,3.3,4.3,4.4,4.5,4.4,4.2,4.5,4.7,4.5,4.6,4.6,4.4,4.3,4.3,4.6,4.4,4.5,4.5,4.2,4.0,4.4,4.7,4.3,4.6,4.4,4.5,4.3,4.3,4.4,4.5,4.4,4.6,4.3,4.6,4.3,4.4,4.2,4.3,4.4,3.9,4.3,4.4,4.2,4.5,4.3,4.3,4.3,4.1,4.4,4.3,4.0,4.0,4.0,4.4,4.3,4.1,4.2,3.9,4.4,4.4,4.5,4.4,4.6,4.3,4.6,4.1,4.0,4.3,4.2,4.0,4.1,4.1,4.0,4.3,4.3,4.2,4.5,4.0,4.4,4.1,4.4,4.3,4.3,4.2,4.3,4.4,4.4,4.3,4.4,3.8,4.4,4.4,4.3,4.6,4.0,4.1,4.2,4.3,4.6,4.6,4.3,4.2,4.1,4.2,4.6,4.6,4.4,4.7,4.4,4.1,4.3,4.4,4.2,4.4,4.5,4.2,3.8,4.3,4.4,4.6,4.4,4.5,4.2,4.5,4.5,4.3,4.4,4.2,4.1,4.3,4.0,4.6,4.3,4.4,4.5,4.2,4.3,4.4,4.2,4.1,4.4,4.7,4.6,4.2,4.3,4.3,4.5,4.6,4.5,4.4,4.7,4.2,4.3,4.2,3.9,3.9,4.2,4.3,4.6,4.3,4.0,4.0,4.0,4.6,4.3,4.2,4.3,4.4,4.0,4.6,4.7,4.3,4.0,4.5,4.7,4.4,4.8,3.3,4.3,3.9,4.4,3.9,4.4,4.3,4.4,4.2,4.2,4.1,4.4,4.0,4.4,4.3,4.1,4.0,4.2,4.2,4.3,3.1,4.1,2.9,4.0,4.5,4.3,4.1,4.3,4.5,4.6,4.4,4.2,4.3,3.4,4.6,4.2,4.4,4.0,4.1,4.0,4.6,4.2,4.5,4.4,4.0,3.5,4.0,4.2,4.0,4.4,4.8,4.1,4.6,4.3,4.4,4.3,4.6,4.5,4.3,4.2,4.4,4.2,4.4,4.3,4.5,4.5,4.1,4.0,4.7,4.6,4.2,4.2,4.1,4.1,3.5,4.5,3.9,4.6,4.0,4.4,4.2,4.2,4.6,4.5,4.4,4.5,4.4,4.3,4.2,4.3,4.5,4.0,4.2,4.1,3.9,4.2,4.0,3.5,4.0,4.0,4.5,4.1,4.2,4.4,4.4,4.1,4.3,4.5,4.5,4.4,4.5,4.7,4.4,4.1,4.4,4.4,4.3,4.2,4.0,4.7,4.3,4.6,3.9,3.6,4.0,4.1,4.2,3.9,4.1,4.3,3.1,3.7,3.4,4.4,3.6,4.4,3.3,3.7,3.0,3.6,4.8,3.9,3.8,4.3,4.5,3.4,3.7,4.5,4.4,4.1,4.5,4.0,3.9,4.4,4.8,4.7,4.3,3.7,4.2,3.5,4.3,4.7,4.3,4.1,3.1,4.3,4.1,4.2,4.3,4.4,4.3,4.3,4.4,3.5,4.1,4.6,4.4,4.2,3.9,4.2,4.4,4.4,4.4,4.4,3.7,4.4,4.5,3.7,4.4,3.7,4.4,4.5,3.6,4.4,4.0,4.1,4.4,4.4,4.3,4.4,4.2,4.2,4.1,4.3,4.5,4.4,4.5,4.3,4.2,4.5,4.7,4.4,4.4,4.4,4.4,4.1,4.6,4.4,4.1,4.5,4.5,4.4,4.3,4.5,4.2,4.2,4.2,4.5,4.7,4.0,4.2,4.2,4.1,4.4,4.4,4.2,4.2,4.1,4.5,4.6,4.1,4.3,4.2,4.1,4.0,4.6,3.1,4.6,4.5,3.2,4.3,null,4.6,4.4,4.6,4.5,4.6,null,4.4,4.2,4.4,3.1,3.6,4.1,4.2,3.5,3.9,3.0,3.9,4.5,3.4,4.4,3.4,4.3,3.7,3.5,3.8,3.6,3.1,3.8,4.2,4.0,4.3,4.3,4.5,4.5,4.5,4.4,4.4,4.3,4.2,4.7,4.4,4.3,4.4,4.3,4.5,4.7,4.5,4.6,4.7,4.6,4.8,3.9,4.5,4.6,4.5,4.4,4.5,4.0,4.3,4.0,4.4,4.1,4.3,4.1,4.3,4.2,4.2,4.2,4.2,4.3,4.5,4.4,4.5,4.2,4.1,4.4,4.5,4.3,4.4,4.1,4.4,4.2,4.1,4.6,4.5,4.3,4.1,4.1,4.2,4.1,4.6,4.5,4.0,3.5,4.4,4.4,4.4,4.1,4.2,4.6,4.4,4.6,4.6,4.5,4.7,4.4,4.5,4.6,4.6,4.0,4.6,4.5,4.7,4.7,4.4,4.3,4.7,4.1,4.7,4.4,4.6,4.5,4.4,4.4,4.3,4.3,4.6,4.7,4.3,4.5,4.6,4.4,4.5,4.7,4.3,3.7,4.7,4.5,4.4,4.3,4.8,4.6,4.1,4.7,4.1,4.6,4.2,4.3,4.2,4.0,4.2,3.9,4.3,4.1,4.2,4.4,4.3,4.3,4.4,4.3,4.1,4.2,4.1,4.1,4.2,4.1,4.4,4.1,4.3,4.6,4.1,4.6,4.6,4.2,4.1,4.2,4.5,4.3,4.2,4.0,4.2,4.2,4.6,4.3,4.4,4.4,4.4,4.3,4.3,4.6,4.5,4.1,4.3,4.4,4.2,4.2,4.1,4.5,4.7,4.3,4.4,4.4,3.8,4.4,4.3,4.2,4.5,3.2,4.5,4.2,4.4,4.7,4.4,4.0,4.4,4.0,4.6,4.5,4.2,4.0,4.4,4.5,3.9,4.2,4.3,4.2,4.2,4.4,4.7,4.6,3.1,4.4,4.1,4.5,4.6,4.3,3.9,4.5,4.3,3.7,4.5,4.4,4.0,4.0,4.4,4.7,4.6,4.2,4.5,4.6,4.0,4.5,4.4,4.3,4.4,4.5,4.5,4.6,4.4,4.6,4.3,4.6,4.5,4.3,4.1,4.2,4.2,4.6,4.2,4.5,4.4,4.3,4.2,4.3,4.5,4.3,4.3,4.5,4.5,4.4,4.2,4.2,4.6,4.4,4.3,4.6,4.2,4.2,4.2,4.0,4.3,4.6,4.4,4.6,4.6,4.5,4.5,4.4,4.3,4.0,4.2,4.2,4.5,4.0,4.2,4.4,4.6,4.3,4.6,4.2,4.4,4.6,4.4,4.6,4.4,4.1,4.4,4.4,4.1,4.3,4.1,4.1,4.5,3.9,null,3.8,null,null,4.6,4.7,null,4.0,null,4.7,4.1,3.7,null,4.1,3.7,4.6,4.4,4.6,4.1,4.4,4.7,4.4,null,4.8,4.0,4.9,null,4.8,4.4,4.7,4.2,4.6,4.6,4.5,4.6,4.1,3.8,4.8,4.8,null,4.5,4.0,4.4,4.7,null,3.9,4.4,4.4,4.5,4.4,4.8,4.4,4.8,4.5,4.7,4.5,3.5,4.4,4.3,4.4,4.2,4.6,4.4,4.4,3.9,4.3,4.5,4.2,3.7,4.2,3.9,3.6,4.5,4.3,4.3,4.2,4.6,4.5,4.5,4.2,3.9,4.8,3.8,4.5,4.5,4.2,4.0,4.2,4.3,4.3,4.2,4.3,3.6,3.9,4.8,3.9,3.7,4.6,4.4,4.4,4.2,4.1,3.8,4.4,4.5,4.6,4.7,4.3,4.5,4.3,3.7,3.9,3.6,4.5,4.4,3.8,4.6,4.2,4.3,3.8,4.4,3.1,4.6,4.1,4.5,4.0,4.5,4.3,null,3.7,3.9,3.5,3.3,4.3,4.5,4.1,4.4,4.4,4.5,4.4,4.3,4.5,4.3,4.6,4.1,4.2,3.5,4.0,3.8,4.3,4.3,4.1,4.3,4.5,4.4,4.0,4.1,4.6,4.3,3.9,4.5,4.7,4.3,4.5,3.1,4.7,3.8,4.0,4.2,4.0,4.2,3.4,4.6,4.5,4.0,4.4,4.2,4.1,4.4,4.0,3.7,4.6,4.5,4.6,4.5,3.9,4.3,4.4,3.9,4.3,4.4,4.4,3.6,4.5,3.6,4.1,4.4,4.1,4.2,4.7,3.9,3.9,4.4,4.3,4.6,4.0,4.3,4.2,4.5,4.3,4.0,4.1,4.6,4.1,4.5,4.0,4.2,4.3,4.2,4.3,4.2,4.0,4.2,4.3,4.0,4.5,4.3,4.3,3.9,4.0,4.1,4.1,4.1,4.0,4.0,4.5,4.1,3.9,4.2,3.9,4.5,4.3,4.4,4.6,4.2,4.1,4.4,4.4,4.2,4.5,4.2,4.4,4.4,4.0,4.3,4.4,4.2,4.3,4.1,4.4,4.3,4.4,4.2,4.7,4.3,4.5,3.7,4.3,4.2,4.1,4.5,4.8,4.3,4.7,4.3,4.2,3.7,4.6,4.5,4.3,4.5,4.2,4.2,4.3,4.3,4.4,3.7,4.4,4.4,4.2,3.5,4.2,4.2,4.0,4.5,4.2,3.9,4.3,3.7,4.3,4.3,4.6,4.3,4.2,4.6,3.9,4.4,4.6,4.1,4.8,4.3,4.5,4.4,4.4,3.3,4.2,3.8,4.5,4.3,4.5,3.7,4.5,4.1,4.4,3.7,4.1,4.8,4.4,4.3,4.1,4.4,4.1,4.5,4.5,4.5,4.5,4.2,4.4,4.5,4.3,3.8,4.5,3.7,4.5,4.5,4.3,4.6,4.3,4.4,4.3,4.3,4.3,4.3,4.3,4.4,4.2,4.9,4.5,4.6,4.6,4.6,3.4,3.8,4.4,4.7,4.6,4.1,3.8,4.4,4.4,3.9,4.1,4.5,3.7,4.4,4.5,4.5,3.8,3.1,4.5,5.0,4.4,null,4.3,2.9,3.1,3.3,4.1,4.6,4.4,4.5,4.3,4.3,4.5,4.5,2.2,4.5,4.2,4.5,4.6,3.9,4.1,3.3,4.5,4.1,4.8,4.1,4.5,null,4.6,4.6,4.3,4.1,4.5,4.3,4.4,4.7,4.4,4.4,4.3,4.2,4.2,4.6,4.5,4.6,4.7,4.8,4.7,4.7,1.7,4.5,4.0,3.6,2.0,4.7,4.1,4.3,4.3,4.5,4.4,4.4,4.6,3.7,4.5,4.0,4.8,4.0,4.7,4.8,4.6,4.3,4.2,4.8,4.2,4.6,4.2,4.5,4.6,4.5,4.5,4.3,4.8,4.6,4.5,4.3,4.2,4.4,4.5,4.2,4.6,4.6,4.4,4.5,4.5,4.6,4.5,4.4,4.1,4.4,4.6,4.6,4.5,4.5,4.3,4.3,3.3,3.7,4.5,4.4,3.1,4.0,4.4,4.2,3.9,4.4,4.6,4.8,4.4,3.9,4.5,3.6,3.4,4.7,4.4,4.4,4.5,4.2,4.6,4.3,4.3,4.3,4.6,4.4,4.5,4.5,4.0,4.3,4.5,4.1,4.3,4.0,4.3,4.6,4.2,4.4,4.5,4.3,4.0,4.3,4.4,4.6,4.4,4.3,4.2,4.3,4.3,4.6,3.6,4.3,4.2,4.2,4.4,4.3,4.9,4.5,4.2,4.3,4.2,3.8,4.2,1.0,4.4,4.0,null,4.4,4.4,4.5,null,3.4,3.8,null,3.7,null,4.1,4.6,4.4,4.2,4.2,4.4,4.5,4.2,4.5,4.3,4.4,4.2,3.6,4.0,4.4,4.6,4.5,4.4,4.2,4.3,4.6,1.8,3.8,4.4,3.0,3.4,4.6,3.7,3.0,4.6,4.4,3.1,4.3,4.3,3.8,4.5,3.6,null,4.2,4.5,4.2,3.3,4.2,4.3,4.2,3.7,3.8,2.9,4.5,4.3,4.9,4.4,4.4,4.4,2.9,4.2,4.0,4.3,4.3,3.9,4.3,null,4.0,4.6,3.7,4.0,4.6,4.4,4.5,3.0,3.1,4.3,4.5,4.5,4.5,4.1,4.6,4.2,null,3.9,3.9,3.9,4.3,4.2,4.2,3.7,2.8,4.4,4.1,4.4,2.7,4.7,4.2,4.2,4.1,4.5,4.4,4.0,4.2,4.1,4.0,4.4,4.7,4.3,4.7,4.4,4.0,4.3,4.2,4.4,4.6,3.3,4.5,2.3,4.2,4.1,null,4.4,3.2,3.5,4.6,4.3,4.1,4.1,4.1,null,4.7,3.5,3.9,null,null,4.1,4.7,null,4.6,4.5,4.7,4.9,null,4.3,4.1,4.4,4.2,4.1,4.6,4.3,4.4,4.4,4.5,4.6,4.8,4.3,4.8,4.8,3.7,4.1,3.7,4.2,4.5,4.6,4.5,4.7,4.3,null,4.9,4.4,4.6,null,null,4.0,4.8,4.3,4.4,4.2,4.6,null,4.8,4.0,4.3,4.7,4.5,4.6,4.5,4.3,4.0,4.2,4.0,4.5,4.0,4.1,4.6,3.1,4.9,4.5,4.0,4.0,3.6,4.5,4.2,4.3,3.9,4.3,4.3,4.4,4.3,4.4,4.3,4.5,4.4,3.5,4.4,4.4,4.5,4.4,4.4,4.0,3.9,3.9,4.3,4.9,3.7,3.3,3.8,3.5,4.2,4.5,3.5,3.6,4.6,3.9,4.2,4.2,4.0,3.2,4.6,2.4,4.5,4.1,4.2,3.7,4.3,4.2,4.1,3.9,3.8,4.4,3.4,4.0,4.4,3.3,4.8,4.5,3.4,4.3,4.3,4.1,4.0,4.4,3.8,4.4,3.8,4.2,3.8,4.8,4.7,4.3,3.5,3.9,4.2,4.6,4.7,4.5,3.8,4.5,3.7,3.5,4.1,3.9,4.1,4.6,4.4,4.5,4.4,4.6,4.0,4.4,4.4,4.4,4.0,3.8,3.9,null,3.7,4.2,4.1,4.3,4.3,4.1,4.4,3.8,4.3,4.4,3.8,4.5,3.8,3.9,4.0,4.3,4.5,4.4,4.6,null,5.0,4.4,4.4,4.2,4.0,null,4.2,null,4.6,4.1,null,3.9,4.6,null,4.4,3.9,4.6,4.5,3.0,null,3.6,4.4,4.6,null,4.3,5.0,4.5,4.1,4.1,4.5,null,4.8,4.5,null,4.0,4.8,3.7,null,4.5,4.7,2.7,2.9,4.2,4.4,4.2,3.4,2.6,4.1,4.3,4.5,4.2,4.4,null,4.0,4.4,4.1,4.8,2.2,3.8,3.1,3.1,3.8,3.8,4.3,3.6,4.0,4.4,4.6,null,4.5,1.8,4.7,3.9,4.4,3.6,4.5,4.4,3.9,3.9,3.8,null,4.2,4.1,4.4,4.4,null,null,5.0,4.1,4.5,4.3,null,3.9,3.5,null,3.2,null,null,null,null,3.3,4.8,4.5,3.7,4.8,4.7,4.3,3.8,4.1,4.7,null,4.2,null,null,4.6,4.2,4.6,4.6,4.2,4.1,3.5,4.1,4.4,4.5,4.1,4.5,4.3,4.4,4.3,4.3,3.8,3.9,4.1,4.8,4.4,4.0,4.7,4.6,4.3,4.0,4.4,3.7,3.7,3.3,4.1,3.0,4.1,3.0,3.8,4.0,4.5,4.6,4.1,3.6,4.7,3.5,3.1,3.9,3.7,4.2,4.4,4.4,3.3,4.8,4.2,4.5,3.8,4.1,4.2,4.2,4.0,4.2,3.8,4.5,3.7,4.3,4.5,4.1,4.2,4.5,4.0,4.4,4.2,4.3,4.7,4.1,3.2,3.9,4.1,3.4,3.0,4.6,4.6,4.1,3.1,3.4,4.2,4.2,3.0,2.4,4.1,2.9,4.0,4.0,3.8,2.4,4.4,3.7,4.3,4.6,4.2,4.8,3.6,3.2,4.0,3.5,4.4,2.5,3.9,4.4,4.2,4.2,4.3,4.1,4.3,4.2,4.2,3.9,3.9,4.4,3.8,4.5,4.2,3.7,4.3,4.3,4.6,3.3,3.6,4.1,3.8,3.3,4.5,4.8,4.6,null,4.3,4.5,4.2,3.8,4.7,4.2,4.3,4.7,4.7,3.6,4.2,4.0,4.3,4.7,4.2,4.6,4.8,4.6,3.8,4.6,4.3,4.2,4.5,3.2,4.3,4.3,4.5,4.4,1.9,4.4,2.5,4.2,4.3,4.0,4.5,4.8,4.2,4.7,4.4,4.4,4.4,4.6,4.6,4.2,4.5,4.0,4.4,4.2,4.5,4.6,4.4,4.7,4.2,4.4,3.2,4.1,4.0,4.7,4.6,4.6,4.7,4.8,4.6,4.2,4.3,3.3,4.7,4.5,4.0,4.5,4.2,4.6,4.2,4.7,4.7,4.2,4.3,4.3,null,4.5,4.4,4.5,4.6,4.3,3.8,4.5,4.5,3.9,4.0,2.7,4.5,4.0,2.9,4.6,4.4,4.5,4.6,4.4,4.3,4.4,4.2,4.8,4.3,4.3,4.6,4.6,4.2,4.2,4.1,4.4,4.5,4.4,4.4,4.2,4.5,4.6,4.5,4.6,4.0,4.5,4.2,3.9,4.7,4.4,4.5,4.3,4.4,4.2,3.9,4.1,2.2,4.2,4.2,2.8,3.9,4.3,4.8,4.3,4.1,4.2,4.4,4.1,4.6,4.3,4.3,3.8,4.8,null,3.8,3.9,null,4.3,4.3,4.3,4.1,4.2,4.9,4.5,4.6,3.8,4.7,4.5,4.7,4.5,4.8,4.6,4.6,4.3,4.8,3.4,4.6,4.4,4.5,4.4,4.4,4.6,4.2,4.3,4.3,3.8,3.9,4.3,4.8,4.2,4.5,4.8,null,4.6,4.2,4.2,4.0,null,4.3,4.8,4.1,4.7,null,4.8,4.0,3.5,3.8,3.5,3.3,3.7,3.3,3.4,1.8,1.6,1.9,3.6,3.4,3.2,2.5,4.7,2.6,2.8,3.9,4.2,3.9,4.0,3.5,3.1,3.7,3.6,3.4,4.0,3.7,1.7,2.4,4.3,4.2,3.3,4.1,4.1,3.4,3.0,3.0,2.2,3.7,3.7,4.8,3.7,3.6,3.7,4.4,3.8,3.7,3.7,4.8,4.2,4.1,4.6,4.1,4.3,3.9,3.8,4.0,4.5,4.6,4.1,4.4,3.7,3.9,3.9,4.5,4.5,4.4,4.3,4.5,4.7,4.7,4.1,3.3,4.2,4.1,3.4,4.3,4.9,4.5,4.1,4.4,4.3,4.4,3.4,4.1,4.1,3.5,3.8,4.6,4.6,5.0,4.6,4.2,4.0,3.9,3.7,4.3,1.9,4.2,4.2,4.0,4.4,4.2,4.5,4.3,4.4,4.0,4.2,4.3,4.0,4.3,3.9,4.0,3.7,4.1,3.9,4.2,4.4,4.5,3.9,3.9,4.2,4.5,4.1,4.7,null,4.4,4.7,4.7,4.0,3.9,null,3.8,3.9,4.4,4.5,null,3.8,3.5,4.2,4.7,2.0,4.3,2.8,4.0,3.9,4.2,3.4,4.5,4.7,2.0,4.4,null,null,null,4.7,3.3,4.1,null,4.2,4.4,null,3.7,null,4.3,3.9,5.0,4.1,4.8,4.0,null,4.1,3.8,4.6,null,4.3,4.1,4.6,4.1,4.4,4.2,4.1,4.3,4.3,4.0,4.5,4.1,3.8,null,4.5,null,4.1,null,3.9,3.7,null,4.5,4.4,null,3.4,null,null,null,null,2.3,4.7,3.4,4.7,null,null,5.0,null,null,null,null,null,null,null,null,3.6,5.0,null,null,4.3,null,null,null,5.0,null,null,4.1,4.1,4.5,null,null,3.4,null,null,null,2.9,4.6,5.0,null,null,null,3.9,3.9,5.0,4.1,null,5.0,3.0,4.0,1.0,null,4.0,null,null,4.0,null,3.8,null,null,null,null,null,null,null,null,3.5,null,null,null,null,null,2.6,null,3.4,null,null,4.5,3.4,3.8,3.0,4.4,4.0,3.9,4.6,3.8,3.8,4.0,4.6,3.6,4.4,3.1,4.2,4.6,4.0,5.0,3.3,4.1,3.6,3.2,4.4,4.0,4.4,4.5,4.3,4.7,4.4,null,4.4,4.4,3.7,3.3,null,3.7,3.0,2.6,null,null,3.5,3.9,4.6,3.8,4.6,4.4,4.5,4.5,4.7,4.4,null,5.0,null,null,2.8,null,4.6,2.8,5.0,5.0,2.8,null,3.8,4.1,null,4.8,5.0,5.0,null,4.4,null,null,5.0,4.1,null,4.8,null,null,4.8,4.0,null,5.0,4.6,null,5.0,null,null,null,4.5,5.0,null,null,null,4.4,4.0,null,3.9,4.1,4.8,4.3,3.9,4.5,null,3.7,4.3,4.2,3.7,3.8,4.6,null,null,null,3.3,3.0,3.9,4.2,3.9,null,4.1,null,4.6,null,null,null,null,4.4,3.8,4.4,null,4.9,3.6,4.3,3.6,4.1,3.4,4.5,4.7,4.5,4.4,4.3,4.6,4.2,4.8,4.6,4.8,4.6,4.6,4.6,4.1,4.7,4.7,4.8,3.6,4.7,4.6,4.5,4.7,4.5,4.3,4.5,4.8,4.7,4.7,4.7,4.7,4.7,4.7,4.7,4.6,4.7,4.7,4.6,3.8,3.9,4.0,4.0,3.8,4.1,2.9,3.8,3.5,4.2,4.6,4.4,4.4,4.1,3.9,3.6,4.0,3.8,4.3,4.6,3.6,3.9,4.0,4.2,4.2,4.2,4.5,4.7,3.5,4.5,4.0,4.6,4.2,4.3,4.1,4.5,4.2,4.5,4.4,3.7,4.4,4.3,4.3,4.3,4.5,4.5,3.8,4.5,4.5,4.4,4.7,3.5,4.9,4.0,4.1,4.2,null,4.4,4.1,4.6,4.6,4.7,4.5,null,4.6,4.4,4.4,4.2,4.4,4.0,4.2,4.2,4.2,4.8,3.7,3.4,4.3,4.3,4.6,4.2,4.6,4.1,4.4,4.6,4.3,4.4,4.7,4.2,3.8,4.3,3.7,4.3,2.9,4.3,4.3,4.0,3.3,4.5,4.1,5.0,3.9,4.6,4.0,3.6,4.0,4.5,null,2.9,4.2,4.5,null,4.6,4.7,4.2,4.7,4.7,3.9,4.7,3.7,4.8,4.0,4.6,4.4,4.3,4.7,3.6,4.4,4.6,2.9,null,4.5,5.0,3.7,null,3.7,null,4.2,3.0,5.0,4.4,4.7,4.3,3.9,null,4.4,4.3,null,null,null,null,4.6,4.5,3.9,4.7,4.3,5.0,5.0,null,5.0,null,null,4.4,null,2.7,4.6,4.4,4.4,4.1,3.8,4.4,4.6,4.1,4.5,4.2,4.7,4.3,4.3,4.2,3.8,4.0,4.3,4.6,4.3,4.3,4.3,4.7,4.6,4.4,3.8,4.6,4.6,4.5,4.5,3.9,4.4,3.8,4.3,4.3,3.7,3.2,4.0,3.8,4.4,3.8,3.4,2.9,4.5,3.7,3.8,4.1,4.1,3.7,3.6,null,3.0,4.1,3.8,4.2,4.4,4.5,3.6,3.6,3.7,3.9,null,4.2,4.1,4.5,2.8,2.6,4.3,4.4,4.1,4.0,4.3,3.9,3.5,3.7,4.3,4.3,4.1,4.2,4.3,4.2,4.6,4.3,4.1,4.4,4.4,4.1,4.2,4.4,4.3,2.4,4.5,4.3,4.5,4.5,4.3,4.4,4.3,4.4,4.6,3.4,3.9,4.3,4.4,4.5,4.4,4.2,4.0,4.3,4.4,4.2,4.0,4.4,4.6,4.0,4.4,3.5,4.6,4.0,4.0,4.1,4.1,3.3,3.9,4.1,4.2,4.0,4.5,3.8,3.5,4.3,4.6,4.7,3.8,4.7,4.8,3.2,4.5,3.9,3.6,3.7,4.4,4.1,4.0,3.1,4.0,2.8,3.7,2.7,3.9,3.8,3.6,4.5,3.5,4.0,null,3.8,3.6,4.2,4.4,4.0,4.7,null,null,4.1,4.0,null,4.7,null,null,3.8,5.0,4.4,null,null,4.0,null,3.8,4.1,4.3,null,4.5,4.4,3.4,4.1,4.1,3.8,4.3,4.4,4.4,4.8,3.3,3.3,4.4,3.7,3.4,2.3,3.3,2.7,null,4.6,3.5,3.4,4.3,4.1,4.7,4.4,3.8,3.0,4.4,4.2,4.5,3.5,4.5,4.3,4.5,null,4.5,4.0,4.8,null,4.3,1.7,4.3,4.2,null,4.2,4.3,null,4.0,4.2,4.6,4.1,4.6,4.1,4.0,null,3.3,4.1,null,null,4.0,null,null,4.4,4.2,3.8,3.1,null,5.0,4.2,4.7,4.4,4.6,4.4,2.9,2.7,null,4.6,4.0,3.8,4.8,5.0,3.9,4.2,4.1,4.7,4.2,4.2,3.7,4.1,4.1,3.8,4.6,null,4.4,4.2,4.4,null,null,4.6,5.0,null,4.5,null,3.5,null,3.9,4.4,3.0,null,3.1,4.4,null,3.0,null,null,3.7,null,3.7,3.9,4.8,null,null,4.6,4.6,4.5,4.3,5.0,4.3,null,4.7,4.0,3.8,5.0,4.8,4.5,4.3,null,null,null,null,3.7,null,null,null,null,null,4.3,null,3.8,null,null,4.5,4.6,4.1,4.2,null,5.0,null,null,null,4.3,null,3.3,3.6,4.0,4.0,4.0,4.3,4.2,4.3,4.2,4.5,4.3,4.6,4.4,4.2,4.2,4.2,3.4,3.2,4.0,4.6,3.2,4.4,4.0,4.7,null,3.7,3.9,4.2,4.1,3.5,4.8,4.3,3.9,null,3.5,4.3,4.4,4.8,3.9,3.8,4.2,4.0,4.0,4.4,4.7,4.5,4.3,3.3,4.3,4.1,2.1,3.7,4.2,4.4,4.2,2.1,2.4,4.1,3.1,5.0,null,3.5,4.2,null,4.7,null,null,null,4.8,null,4.5,4.6,4.6,4.9,4.8,4.0,3.9,4.1,4.1,4.5,4.2,4.0,4.4,1.9,null,null,3.7,null,4.2,4.0,4.3,2.5,4.4,null,3.7,4.7,4.6,4.4,4.3,4.4,2.6,3.6,3.8,4.4,4.4,3.0,4.2,3.7,5.0,null,4.2,4.8,4.4,4.1,4.7,4.7,3.3,4.0,null,null,1.0,4.4,4.2,4.4,4.6,4.3,4.4,null,3.7,2.9,4.0,4.4,3.3,null,null,4.2,4.5,2.3,5.0,3.6,null,3.9,4.4,4.2,4.8,4.3,4.2,4.4,4.3,4.0,1.4,3.3,4.3,null,4.6,4.7,4.2,3.9,3.4,4.3,4.8,4.8,4.5,3.3,4.2,4.9,4.2,4.6,4.1,4.6,4.0,4.2,5.0,4.1,3.7,4.1,3.8,4.7,3.5,4.0,4.2,3.3,3.7,3.4,3.7,5.0,4.4,5.0,4.8,4.4,4.9,4.0,4.4,4.5,4.9,4.4,4.4,5.0,4.8,4.6,4.3,3.8,4.3,4.3,4.1,4.5,4.2,3.8,4.3,4.4,4.2,4.2,3.8,4.2,4.0,4.2,4.3,4.3,4.4,4.7,4.1,4.5,4.2,4.3,4.4,4.5,4.3,null,4.2,4.0,3.4,4.4,3.8,3.0,4.1,4.4,4.1,4.1,4.1,4.5,4.1,2.2,3.9,4.0,4.3,3.9,4.0,4.2,4.2,3.6,4.3,null,null,4.4,2.6,4.1,null,3.5,4.2,null,null,3.7,4.5,2.4,null,2.9,4.2,4.2,4.0,2.6,4.4,4.8,4.7,4.4,4.6,2.7,3.8,1.7,4.6,3.3,null,null,4.6,2.3,4.5,null,4.8,null,5.0,null,4.1,null,null,null,null,null,null,4.9,3.0,null,null,4.8,4.5,3.4,null,null,null,null,4.0,3.7,2.2,4.8,null,5.0,null,null,null,4.5,null,4.3,3.8,null,4.5,4.5,null,4.8,4.5,4.4,null,3.9,4.3,4.3,null,4.0,null,4.1,4.6,3.7,3.4,4.5,4.4,null,4.4,2.4,4.1,4.6,4.6,4.3,4.3,4.7,null,4.2,4.3,4.3,3.9,4.7,4.2,4.1,4.6,4.7,4.3,4.5,4.6,2.9,4.0,3.0,3.9,null,4.8,3.9,4.0,null,null,null,5.0,null,null,null,4.0,null,5.0,null,null,4.5,4.8,null,4.6,4.2,null,3.4,2.6,2.4,null,4.5,4.6,3.3,4.1,4.6,3.9,null,null,null,null,null,4.0,3.4,4.5,4.0,5.0,3.6,3.5,4.6,4.9,3.7,5.0,4.0,3.9,5.0,4.0,null,null,4.9,4.4,3.6,4.7,4.3,3.9,4.5,4.2,4.6,4.1,4.3,4.6,null,null,4.2,4.6,4.5,4.4,4.2,4.5,4.0,4.2,4.7,4.1,4.4,4.3,4.6,4.2,4.0,2.3,4.5,3.6,4.4,3.9,3.9,4.8,4.2,3.7,4.0,null,1.0,null,4.4,4.2,4.7,3.6,null,4.1,3.3,null,null,5.0,4.3,4.7,null,null,null,null,null,4.0,null,4.4,4.6,5.0,4.3,4.3,null,3.8,4.1,4.6,4.0,4.7,3.6,4.5,4.0,4.1,4.0,3.8,null,4.5,2.8,null,4.2,4.8,5.0,5.0,null,null,null,4.3,4.3,4.5,4.5,5.0,3.8,4.4,5.0,4.7,null,4.7,2.2,4.6,4.6,4.7,4.6,4.4,3.8,3.6,4.9,4.8,null,4.4,5.0,4.8,null,null,4.6,5.0,4.6,5.0,null,4.0,4.3,4.5,4.0,3.2,4.6,4.2,4.8,3.0,4.3,3.9,3.2,3.9,4.8,3.5,4.4,4.1,4.2,4.7,4.0,4.4,4.2,5.0,3.5,3.8,null,4.5,4.1,null,4.3,null,4.3,4.4,null,null,null,null,null,4.0,4.3,4.0,4.9,4.7,null,null,null,4.3,4.2,4.1,4.3,4.7,3.2,3.9,4.2,4.1,4.9,null,3.7,3.5,4.9,null,3.3,4.9,3.4,null,4.5,4.3,5.0,3.5,null,null,4.4,3.7,null,4.8,null,4.3,4.9,null,null,null,null,null,null,5.0,4.3,4.3,null,null,4.4,1.0,4.5,null,4.0,5.0,4.9,4.7,4.5,3.9,null,3.2,3.5,null,3.7,3.0,4.2,4.0,4.1,null,4.7,4.0,3.1,4.4,3.2,3.9,4.2,4.7,4.0,null,null,4.0,3.7,4.1,4.4,4.0,3.9,3.6,null,null,4.6,null,4.4,1.9,4.3,4.5,4.1,3.8,4.1,4.6,3.7,3.9,4.4,null,4.5,null,null,4.3,4.4,3.5,4.3,4.5,4.5,4.4,4.2,4.3,null,3.6,4.0,3.8,null,null,4.4,3.8,3.9,4.1,4.3,3.5,null,4.3,null,4.7,4.5,3.8,4.5,4.2,4.3,4.1,4.6,4.6,4.5,4.5,3.0,2.6,3.4,4.4,4.2,4.0,4.7,3.4,3.7,3.7,4.5,3.9,5.0,4.3,4.2,null,4.0,null,4.5,4.0,4.4,1.8,4.3,5.0,5.0,null,3.2,4.2,4.6,3.8,3.9,4.2,null,4.0,3.8,4.1,3.9,4.4,2.1,1.8,4.2,2.0,null,null,3.4,4.3,3.6,3.7,4.7,4.5,4.6,3.6,null,null,4.4,4.6,null,null,null,2.3,null,null,3.8,null,3.0,5.0,4.5,4.4,4.5,4.8,4.3,3.8,null,4.3,3.7,4.5,null,4.3,null,4.4,3.4,4.5,1.6,null,null,4.5,null,null,null,null,null,null,4.4,3.8,4.3,4.3,3.0,4.0,4.2,4.8,4.0,4.5,null,4.7,1.9,4.9,4.4,4.7,null,4.9,4.8,null,null,4.5,null,null,4.6,4.5,null,5.0,null,3.9,null,null,4.3,null,4.8,4.3,4.6,null,null,4.1,4.5,4.3,3.8,2.4,4.3,2.8,4.5,4.6,4.1,4.2,4.6,4.3,4.6,5.0,5.0,3.9,4.2,3.9,4.2,null,null,null,3.5,null,4.0,null,3.7,3.8,4.3,null,null,4.5,4.6,null,4.5,4.3,4.4,null,null,4.6,null,3.9,null,3.9,3.1,3.9,4.4,4.4,4.4,4.6,3.9,4.6,2.5,4.6,2.8,4.0,3.4,3.8,4.5,4.8,3.3,3.9,3.5,4.5,4.0,null,3.6,null,4.7,3.9,5.0,4.6,3.9,4.9,3.6,3.7,3.9,2.7,3.8,2.8,3.5,4.1,null,4.7,4.3,4.5,4.1,null,null,4.8,null,null,null,3.4,5.0,null,null,4.3,4.4,1.8,4.2,3.3,null,5.0,null,null,null,4.8,null,4.5,5.0,4.5,4.7,null,4.6,null,null,4.5,null,null,3.5,null,null,3.5,2.9,null,null,5.0,null,null,null,null,4.3,null,4.8,4.7,4.3,4.1,5.0,5.0,null,null,null,4.0,null,4.3,null,4.1,5.0,null,5.0,null,null,null,4.0,null,null,3.5,null,null,null,4.1,null,null,4.6,null,null,null,4.1,4.2,4.2,2.2,4.3,4.7,3.8,null,4.1,null,3.1,4.2,null,3.0,4.8,3.7,3.1,4.6,2.9,4.2,4.7,4.5,2.8,null,4.4,4.4,4.1,4.6,3.0,4.1,4.2,null,4.4,3.9,null,null,null,null,4.3,4.5,4.5,3.6,2.0,4.0,4.5,4.0,4.3,null,4.5,4.8,4.5,null,null,4.2,4.5,4.6,null,null,3.9,null,null,4.3,3.9,4.3,3.7,4.7,4.3,1.7,4.5,null,4.7,null,5.0,null,null,null,4.6,2.9,null,4.8,2.3,null,3.8,4.2,null,4.4,null,4.0,4.1,3.4,4.3,4.0,4.2,4.1,4.7,4.2,3.9,3.8,4.1,4.2,3.8,4.7,3.7,4.3,4.0,4.2,4.6,4.7,4.7,4.3,4.2,3.5,4.7,4.7,4.5,4.5,4.7,4.6,4.6,4.9,4.2,4.3,4.4,4.4,4.5,4.3,4.4,4.4,3.0,4.8,4.7,4.6,4.0,3.7,3.5,2.7,4.7,4.1,4.5,4.6,4.5,4.4,4.3,4.4,4.5,4.6,4.7,4.6,3.1,3.9,4.7,4.6,4.7,null,5.0,4.4,4.8,null,4.1,null,4.3,4.4,4.7,4.0,3.4,4.6,null,2.8,null,3.1,null,3.9,null,4.2,4.5,null,4.1,null,4.2,null,null,3.3,4.4,null,4.4,4.6,4.4,4.5,4.1,2.2,4.2,4.8,null,null,3.2,4.3,4.0,4.6,4.4,4.5,null,3.4,null,null,3.3,4.2,null,2.4,3.2,3.1,3.8,null,4.8,3.7,4.2,3.7,3.0,3.9,4.0,5.0,null,4.0,2.7,3.1,4.1,4.5,4.0,3.8,3.8,4.3,3.5,4.5,3.9,null,4.5,null,null,3.3,4.1,null,null,5.0,null,3.7,4.8,1.5,5.0,4.6,null,null,5.0,4.7,null,4.7,null,5.0,4.5,null,5.0,null,null,5.0,4.2,1.0,4.5,4.2,5.0,4.2,4.4,3.9,4.6,3.8,null,null,4.0,null,null,null,4.6,null,null,3.4,null,5.0,4.6,null,null,null,null,5.0,null,null,null,null,3.0,null,3.8,4.2,4.3,null,null,null,null,null,null,4.4,3.2,null,null,null,3.5,4.4,4.5,3.7,5.0,4.5,4.5,4.1,null,3.4,4.1,null,null,5.0,4.2,4.1,4.1,null,4.2,4.3,null,5.0,4.4,null,4.3,4.5,null,4.8,4.4,null,null,null,4.4,null,null,null,null,null,4.7,null,null,null,null,null,4.3,4.4,4.6,2.8,5.0,4.4,4.4,2.0,5.0,4.4,5.0,null,3.4,4.4,null,3.4,null,null,3.3,1.5,null,null,null,5.0,null,4.3,4.3,null,null,null,null,2.2,4.6,null,null,5.0,null,null,4.7,null,null,null,null,null,null,4.7,3.5,4.3,3.6,4.3,3.6,2.6,4.7,4.5,4.0,4.6,5.0,4.2,null,null,4.2,null,4.7,4.5,3.6,3.8,4.2,3.8,3.5,4.1,null,null,5.0,null,4.2,4.1,null,null,3.6,4.3,4.1,4.4,null,null,4.0,5.0,5.0,null,3.8,4.3,4.7,4.5,4.4,4.7,4.4,3.7,4.3,null,4.0,3.9,null,4.9,3.5,3.5,null,4.4,4.2,null,null,null,4.3,null,4.7,4.5,4.4,4.2,4.4,3.3,4.4,4.9,4.5,4.7,4.7,3.9,4.7,4.7,null,4.4,4.8,4.8,4.0,3.7,5.0,3.0,3.9,null,null,4.6,4.6,4.3,4.2,null,5.0,null,4.5,null,4.2,null,1.0,null,4.6,null,null,null,null,null,null,4.1,4.7,null,null,null,4.4,4.8,4.2,null,null,5.0,4.6,4.5,5.0,2.9,null,4.4,null,null,3.0,4.5,2.4,4.3,3.9,1.9,4.4,5.0,4.0,4.7,3.9,5.0,4.2,4.2,2.8,4.2,1.0,3.9,4.1,4.1,3.2,null,5.0,null,5.0,4.3,4.1,3.8,4.0,null,4.2,5.0,4.1,5.0,null,3.7,null,null,4.1,3.5,3.9,4.2,3.8,3.7,4.7,2.8,4.7,4.3,4.1,null,4.7,4.2,4.0,3.2,4.6,5.0,4.4,4.5,4.0,4.6,4.7,null,4.1,4.5,4.3,null,5.0,5.0,4.2,4.0,null,5.0,2.7,4.1,null,null,4.4,null,4.3,4.1,4.7,4.4,null,null,3.6,4.0,4.1,4.0,4.1,4.0,4.6,null,null,null,null,5.0,3.6,4.1,4.3,4.1,2.6,2.7,3.8,5.0,4.2,null,5.0,2.6,4.4,4.3,null,null,4.7,2.8,4.1,null,3.6,null,null,4.0,null,null,5.0,5.0,4.7,4.7,4.6,4.7,4.6,4.6,4.6,4.6,4.6,4.4,3.8,4.1,3.4,4.5,4.5,4.5,4.0,4.7,4.4,4.4,4.7,4.7,4.2,4.2,4.0,3.6,4.7,4.4,4.3,4.4,4.4,4.4,4.3,3.3,3.6,4.5,4.5,4.6,4.3,3.6,4.3,4.4,4.1,4.2,4.8,4.2,null,4.0,3.7,4.5,4.1,4.6,4.5,4.7,4.3,4.3,4.6,4.1,4.2,4.3,4.2,4.3,3.6,4.2,4.2,4.0,4.6,4.3,4.4,4.5,4.3,3.7,4.2,4.7,4.6,4.5,4.1,4.5,4.3,3.4,4.2,3.9,4.4,4.1,4.3,3.9,4.0,null,5.0,4.2,4.3,4.5,4.5,3.9,null,4.5,3.5,3.6,1.9,4.3,3.2,1.6,4.2,4.9,4.4,3.6,3.4,null,4.7,2.9,4.3,4.4,4.3,4.6,4.6,4.2,3.5,null,2.9,4.4,4.7,4.5,4.4,2.0,4.7,4.4,4.4,4.4,null,4.5,3.5,4.2,3.7,4.4,3.4,4.3,3.6,4.6,4.6,4.2,4.3,3.8,1.4,4.4,null,4.0,null,4.6,3.9,3.8,4.7,4.2,4.3,4.1,4.3,4.2,null,3.6,4.6,null,4.3,5.0,5.0,5.0,4.5,3.8,3.9,null,null,4.8,4.1,4.0,4.8,4.8,4.4,null,4.1,null,null,null,4.4,4.3,3.7,4.3,null,null,4.3,2.7,4.4,null,4.5,null,4.2,null,3.7,null,5.0,null,4.2,3.9,null,4.5,null,3.5,4.7,4.2,4.4,4.7,4.6,4.0,null,2.5,null,null,3.8,4.7,4.5,4.6,4.6,5.0,3.9,5.0,null,2.3,null,3.6,4.0,3.7,4.2,4.1,4.4,4.6,4.2,4.4,4.3,4.0,4.5,3.9,3.7,4.6,null,3.8,4.7,null,3.4,4.5,4.1,4.3,4.6,4.3,4.3,4.0,null,3.5,2.3,null,3.9,4.1,4.5,4.6,4.4,3.1,4.3,3.3,5.0,null,4.2,3.8,3.3,null,5.0,1.0,4.5,4.6,4.3,4.4,4.1,4.5,4.2,3.7,4.1,3.9,4.5,3.6,3.2,3.5,3.7,4.6,4.8,4.1,4.4,4.3,null,4.0,3.1,4.2,4.1,null,3.5,4.3,3.8,4.3,4.8,2.3,4.3,4.4,3.6,5.0,null,4.3,4.2,4.3,4.7,3.9,4.4,4.4,4.3,2.6,4.3,null,3.8,4.2,4.2,4.1,4.0,4.4,4.7,null,2.6,4.3,5.0,3.7,4.3,4.1,4.3,3.8,4.5,5.0,null,null,3.9,3.8,4.6,null,4.6,4.7,5.0,null,4.5,null,4.3,3.5,3.3,null,4.8,3.9,null,4.5,null,3.4,5.0,5.0,null,null,4.8,3.6,null,4.3,4.0,4.5,4.6,4.7,3.8,3.4,4.7,4.0,4.6,2.0,4.3,2.0,3.6,4.7,3.5,4.0,3.5,4.3,4.1,4.6,3.8,4.3,3.8,1.0,3.8,3.3,4.8,3.0,4.0,3.6,3.8,4.3,3.9,4.2,4.6,4.0,4.5,4.6,4.6,4.5,3.7,4.4,4.6,3.9,4.4,4.5,4.5,4.3,3.7,3.9,3.9,4.3,4.1,4.1,4.4,4.4,4.2,4.5,4.6,4.4,4.4,4.4,3.8,2.6,4.2,4.4,4.2,4.0,4.2,4.0,4.4,4.5,3.2,4.3,3.4,2.3,4.4,4.3,null,4.3,3.6,4.6,4.2,4.0,4.4,4.5,3.2,1.7,2.2,3.8,4.8,null,4.4,4.5,4.8,4.6,3.7,4.4,3.5,3.8,3.8,4.3,null,4.6,null,4.5,null,3.7,null,4.8,4.3,5.0,3.9,3.0,null,5.0,null,4.4,4.6,3.9,3.3,4.1,3.0,4.2,4.2,4.2,4.0,4.0,3.2,4.6,3.2,4.1,3.3,4.4,4.0,4.2,4.1,4.3,3.3,4.7,4.4,3.1,3.1,3.3,3.9,3.4,3.9,4.4,3.9,3.7,4.5,4.7,null,4.6,null,5.0,3.0,null,3.9,null,5.0,3.9,null,null,null,null,null,null,3.8,null,3.6,3.9,3.8,null,4.8,null,null,null,null,4.4,4.5,4.0,4.7,4.8,4.7,4.7,4.5,4.0,null,3.2,null,null,4.7,4.5,null,4.5,4.9,4.2,5.0,5.0,null,5.0,null,null,4.2,4.7,null,null,4.5,null,null,null,4.5,4.5,3.8,4.5,null,4.3,3.9,3.9,4.2,4.5,4.1,4.4,4.1,4.6,3.3,4.5,2.2,4.4,3.9,4.5,2.8,3.3,null,4.5,null,null,3.1,3.2,4.4,4.1,null,5.0,null,null,3.8,null,null,4.3,4.6,null,null,3.7,4.9,4.3,5.0,null,null,2.9,4.4,4.4,null,4.6,4.5,4.0,null,3.5,4.8,4.8,3.5,4.7,4.6,4.4,4.3,4.7,4.4,4.0,3.5,4.6,3.9,3.5,4.6,4.2,4.4,4.6,4.0,4.2,3.8,4.1,4.3,4.4,4.5,4.1,4.2,4.0,3.6,3.3,4.7,4.6,4.5,3.9,4.3,null,3.9,4.3,null,null,3.1,4.4,3.7,4.6,4.6,2.7,null,null,4.1,4.2,1.9,4.6,null,4.2,null,4.4,4.2,3.9,2.4,5.0,3.9,null,3.7,5.0,4.0,3.0,4.1,4.8,4.5,3.5,null,null,null,4.5,4.5,4.2,4.3,4.4,4.4,4.3,4.2,4.5,4.3,4.3,4.2,4.9,4.1,1.4,4.0,5.0,4.3,null,4.2,4.3,3.8,4.1,4.2,4.3,4.1,4.3,3.6,4.3,4.6,4.4,5.0,4.4,4.5,null,4.7,null,5.0,null,null,3.4,3.1,4.5,5.0,4.3,4.4,4.3,4.2,4.0,4.5,4.0,4.1,3.8,4.3,4.6,4.1,4.3,4.3,4.2,4.3,4.4,4.4,3.9,4.3,4.5,4.3,3.5,4.2,4.1,4.1,4.7,4.5,3.3,4.2,null,null,4.2,4.6,null,4.3,4.3,4.0,4.7,5.0,null,null,null,null,null,null,null,5.0,4.9,null,null,null,null,null,null,4.3,null,null,null,4.0,null,null,4.5,null,4.1,4.3,null,null,null,4.5,null,null,3.9,3.7,4.2,3.6,3.6,2.1,4.7,3.2,3.0,4.3,3.0,4.3,3.9,3.3,4.3,4.0,3.7,2.8,4.4,5.0,3.9,4.2,4.8,4.0,null,3.0,4.5,2.6,5.0,null,null,5.0,4.1,null,4.5,5.0,4.7,4.5,4.4,4.4,4.3,4.2,3.0,4.1,4.2,4.2,4.0,4.3,4.1,3.6,4.3,5.0,4.2,3.9,null,4.1,3.8,5.0,3.7,4.3,4.2,4.3,2.5,4.3,4.4,null,4.3,4.2,4.6,4.0,2.9,null,4.5,4.7,3.8,null,4.7,3.9,4.5,4.7,4.5,4.2,4.3,4.4,4.8,4.2,4.1,4.5,4.5,4.6,4.4,4.1,4.3,4.7,4.4,4.2,4.3,4.5,4.3,4.8,4.5,4.6,4.7,4.4,4.1,4.3,4.2,4.2,3.6,2.8,3.9,3.8,4.4,3.7,2.7,3.8,3.2,3.9,2.3,4.1,4.3,3.1,4.6,4.1,4.4,3.2,4.5,3.7,null,null,null,4.4,4.5,5.0,4.8,null,4.6,4.0,4.1,null,4.1,null,null,4.8,null,null,null,4.3,2.8,null,null,4.7,4.5,4.2,4.3,3.8,3.8,4.2,3.8,4.0,4.0,4.6,4.0,4.3,4.3,3.9,5.0,4.0,4.1,3.9,4.2,4.3,4.5,4.4,4.1,4.2,4.5,4.6,4.1,3.9,4.7,3.9,4.3,2.9,4.4,3.7,4.4,4.1,null,2.8,4.9,3.4,2.8,2.5,4.7,3.1,null,3.2,4.3,3.9,3.6,3.2,null,3.5,3.3,null,null,null,null,2.4,4.4,2.8,5.0,null,4.4,null,null,null,null,null,null,null,5.0,null,3.3,2.9,4.1,4.6,null,2.2,4.3,5.0,2.5,null,3.0,3.7,5.0,null,null,null,null,5.0,null,null,4.1,null,null,null,4.1,2.6,4.6,4.5,null,4.5,null,3.3,null,4.4,4.7,4.7,4.0,4.5,4.3,4.6,4.7,4.4,4.0,4.2,4.3,4.1,4.5,4.3,4.3,4.7,4.1,4.3,4.4,3.1,4.0,4.5,4.5,4.4,4.2,4.6,4.4,4.6,4.0,4.6,4.3,4.3,3.9,4.5,4.7,4.3,4.6,4.6,4.2,4.3,4.6,4.2,4.1,4.6,4.4,3.7,4.4,3.9,4.3,4.3,4.3,4.5,4.5,4.5,4.5,4.7,4.3,4.4,4.5,4.3,4.3,4.2,4.2,4.3,4.2,4.7,4.1,4.3,4.1,3.8,4.5,4.1,null,4.3,4.5,4.1,4.4,4.3,4.4,4.3,null,4.1,4.6,4.7,4.2,3.7,4.7,4.4,4.7,4.2,4.6,4.5,4.8,3.7,4.3,4.2,3.6,4.1,2.3,4.3,4.6,4.5,4.0,4.2,4.6,4.2,4.5,4.3,4.4,3.6,4.0,null,2.8,3.8,4.1,3.8,3.4,4.5,4.3,3.1,4.6,3.3,3.9,4.2,4.9,3.9,3.4,3.7,4.2,3.8,4.6,4.4,4.0,4.2,null,4.2,4.5,4.6,4.4,4.6,4.5,3.7,4.1,4.2,4.0,4.5,4.6,4.5,4.4,3.3,4.2,4.2,4.0,4.0,4.0,3.5,4.5,3.9,3.9,4.1,4.4,4.2,4.4,4.3,4.1,4.0,4.3,4.4,4.5,4.6,3.7,3.8,3.4,4.3,3.8,4.7,4.4,4.4,4.1,4.4,4.0,3.9,4.3,4.2,3.3,4.0,4.6,4.1,4.1,3.4,3.4,4.1,4.0,3.4,3.2,3.8,3.8,3.9,3.6,3.8,3.9,3.2,1.0,4.6,null,3.6,4.9,null,2.6,3.9,null,3.5,3.2,null,3.3,null,null,3.8,3.9,4.6,1.8,null,4.3,3.9,null,4.8,3.7,4.0,4.1,4.6,4.0,null,4.8,null,4.0,3.5,null,3.0,4.6,1.6,3.8,1.7,4.6,5.0,4.6,4.4,4.5,3.8,4.0,4.1,null,5.0,null,null,null,null,5.0,1.0,null,null,4.4,4.7,4.6,2.4,null,4.5,null,null,4.4,4.3,5.0,4.1,3.8,3.9,3.1,4.7,4.5,3.5,4.5,4.6,4.5,4.5,4.4,4.3,4.4,4.2,4.6,4.5,3.8,4.3,4.6,4.3,3.6,4.2,4.7,4.3,4.7,4.8,3.1,4.5,4.4,4.5,4.5,null,4.7,4.1,4.4,4.3,4.6,3.4,null,4.7,3.6,3.7,2.1,2.0,3.5,4.3,2.4,4.5,2.8,null,4.5,null,2.8,3.9,3.2,3.1,2.4,4.6,2.9,4.0,3.7,2.3,2.9,4.6,4.3,5.0,4.2,4.6,4.5,4.2,4.8,3.5,4.6,3.5,3.6,null,5.0,3.0,null,null,2.9,3.7,4.6,null,4.2,3.2,2.5,4.4,4.3,2.7,4.0,4.5,3.4,4.3,4.3,null,4.3,null,null,4.0,4.9,3.4,4.9,4.3,4.7,4.8,4.3,4.3,4.0,null,3.5,null,5.0,4.7,null,4.2,4.4,4.2,5.0,null,5.0,2.0,null,3.7,null,null,null,3.9,4.5,null,null,null,3.1,4.5,4.7,null,4.4,3.8,4.2,4.5,null,4.5,4.6,4.2,4.5,4.2,4.2,4.1,4.3,5.0,4.6,4.0,4.4,null,4.5,3.6,4.6,null,4.0,4.6,4.5,4.5,null,null,null,4.8,5.0,4.4,null,4.0,3.5,5.0,4.0,4.2,4.0,3.9,4.5,3.6,4.2,3.0,3.0,4.0,3.4,4.9,null,null,null,null,4.0,4.4,4.1,4.4,4.0,null,4.5,4.2,3.9,null,3.6,5.0,4.4,3.6,4.7,4.2,4.5,4.7,null,null,4.3,4.2,4.4,null,4.7,4.4,null,4.1,4.5,4.1,4.0,null,null,4.3,4.2,null,4.2,null,4.1,4.2,null,5.0,4.0,4.0,4.5,null,4.1,null,4.7,4.4,4.9,3.6,4.2,null,4.4,null,4.5,4.2,null,null,4.2,null,4.5,4.4,4.4,4.5,4.5,3.9,4.3,4.4,null,4.5,4.0,4.5,4.0,4.4,4.3,2.5,4.4,3.8,4.4,4.2,4.1,4.2,3.9,4.5,4.1,4.4,4.3,4.5,3.4,3.4,4.4,4.2,4.4,3.5,4.1,4.6,1.7,3.3,5.0,4.8,null,4.6,3.3,null,4.2,null,3.5,3.7,5.0,null,null,4.6,4.1,3.5,5.0,null,3.7,4.0,null,null,4.2,null,4.5,3.8,2.5,4.0,null,4.0,4.1,null,null,3.4,3.6,3.4,3.9,4.6,4.3,4.7,5.0,3.9,3.9,4.2,4.3,3.5,null,4.1,4.2,4.4,4.5,3.8,3.4,null,3.9,4.5,null,null,3.0,null,4.1,4.6,null,3.9,4.7,4.5,3.4,5.0,5.0,5.0,4.0,null,null,4.0,null,4.9,5.0,null,4.6,null,4.8,4.1,4.1,null,null,4.7,null,5.0,4.4,3.3,4.0,3.5,2.8,null,3.6,3.2,3.6,3.7,3.3,3.1,4.1,3.1,3.5,3.6,5.0,2.3,null,3.1,2.9,3.0,2.9,3.9,5.0,null,3.4,5.0,null,4.8,null,4.2,null,null,null,5.0,null,4.3,4.6,4.7,null,4.4,4.8,null,null,4.1,null,4.6,4.3,4.6,4.0,2.9,4.1,null,null,null,null,4.2,null,4.3,4.4,2.4,4.2,null,null,null,3.1,null,3.0,4.7,3.4,null,4.7,4.7,4.2,5.0,4.5,4.3,3.3,4.4,null,4.2,4.2,4.7,4.3,4.8,4.2,4.0,4.2,4.1,4.6,4.6,3.8,4.5,4.4,4.1,4.0,3.9,3.5,5.0,4.6,null,3.6,4.2,null,null,3.8,null,3.4,3.8,4.2,4.2,3.7,4.0,4.4,4.5,3.7,4.2,3.9,4.0,3.7,4.2,4.0,3.9,4.1,4.3,4.5,4.5,3.3,4.4,4.2,4.2,4.1,4.1,4.4,4.1,3.9,3.9,4.4,3.8,3.0,3.4,4.3,null,null,5.0,null,4.1,null,2.4,3.9,null,null,null,4.0,null,3.0,null,4.4,3.4,2.9,5.0,4.5,3.7,3.0,null,4.0,3.2,3.6,3.2,3.7,4.7,4.4,3.9,4.4,4.3,4.9,2.6,5.0,4.1,4.0,4.1,null,3.3,4.2,4.0,4.3,null,4.4,5.0,4.3,4.4,null,null,null,3.9,4.3,4.0,3.8,4.5,null,3.8,4.4,4.3,4.7,3.9,4.2,3.8,4.3,3.8,4.2,4.5,4.2,3.6,4.0,null,3.5,4.4,3.5,4.1,4.8,4.4,4.3,4.0,4.2,4.4,3.5,4.3,4.4,4.7,5.0,3.8,5.0,4.8,4.9,4.3,null,5.0,null,4.9,4.9,4.9,4.5,null,4.5,5.0,5.0,3.0,null,null,4.9,5.0,5.0,null,4.1,null,4.1,4.3,4.3,4.1,4.7,null,4.9,4.0,5.0,5.0,null,4.6,4.2,3.7,5.0,4.3,4.0,4.3,4.0,4.0,3.1,3.4,4.2,4.2,4.1,3.4,null,4.0,null,3.9,4.8,4.1,4.3,4.3,4.4,null,4.4,4.5,4.5,4.8,4.4,4.5,4.6,4.6,4.5,null,4.2,4.4,4.2,4.7,4.5,4.2,4.5,4.2,4.7,4.1,4.1,4.6,4.4,4.5,3.8,3.9,3.5,3.8,4.2,4.6,3.7,4.4,3.6,3.4,4.0,4.3,4.3,4.5,4.4,4.5,4.1,4.4,4.3,4.5,4.5,4.2,4.5,4.3,4.1,4.6,4.3,4.0,4.4,4.4,null,4.6,4.6,4.3,4.3,4.2,4.5,4.0,4.6,4.5,3.8,4.3,4.3,4.9,4.0,4.5,4.1,4.5,4.2,4.4,4.4,4.0,4.3,4.3,4.4,4.4,4.0,4.7,4.2,4.5,4.1,4.4,4.1,4.3,3.5,4.7,null,2.6,4.2,null,null,null,null,null,null,null,null,5.0,null,4.3,null,null,null,null,null,4.4,4.3,null,null,4.1,null,4.3,4.5,null,4.6,4.6,4.7,null,4.3,4.2,4.5,4.3,4.5,3.5,4.3,4.6,4.5,4.3,4.4,null,null,null,3.4,4.3,3.8,4.5,null,null,null,5.0,4.9,null,null,5.0,null,null,4.2,4.3,4.4,2.3,4.7,null,null,null,4.4,4.3,4.4,null,4.0,3.6,null,4.1,4.6,3.9,4.4,null,3.7,3.9,null,4.3,4.1,3.6,3.5,3.9,3.9,3.8,4.0,null,4.5,3.6,3.9,4.3,4.0,4.2,3.7,3.9,4.2,3.5,4.0,3.8,4.1,4.2,4.1,4.4,3.7,null,4.7,3.8,4.0,4.2,3.8,3.9,4.0,3.1,5.0,3.5,4.1,4.5,4.7,4.1,null,3.9,4.0,4.3,3.1,null,4.2,4.1,4.4,3.2,null,3.3,4.3,4.7,4.3,4.2,4.7,4.3,4.2,4.2,4.2,4.1,4.2,4.3,4.4,4.3,3.5,4.3,1.8,4.2,4.2,4.6,4.0,4.3,5.0,3.8,4.3,3.0,5.0,4.7,4.6,4.4,4.7,5.0,4.8,3.0,4.6,4.6,null,4.1,4.6,4.5,4.3,4.2,3.9,4.7,4.9,4.3,4.4,3.6,4.6,4.5,null,3.9,4.3,4.8,3.7,4.4,4.2,4.3,4.6,4.5,3.9,4.3,4.4,4.0,4.7,4.3,4.5,4.2,4.2,4.8,4.6,4.5,4.0,4.2,4.1,4.7,4.2,4.6,4.5,3.9,3.6,4.6,null,3.4,4.2,3.4,3.6,4.2,3.5,4.3,null,3.9,4.3,3.6,null,3.9,4.3,3.7,null,3.8,null,4.1,4.1,4.7,4.1,null,1.9,3.6,3.8,null,4.5,2.7,null,4.5,null,5.0,4.0,4.2,null,null,4.4,null,4.0,null,3.1,null,null,5.0,null,null,null,null,null,null,null,null,null,4.7,3.7,3.9,null,null,3.0,null,null,null,null,null,4.2,3.0,null,null,4.2,null,null,4.2,3.7,4.6,4.5,4.6,4.7,4.3,2.3,2.8,2.8,3.6,3.0,3.2,3.5,3.8,3.5,4.2,null,4.5,3.4,3.0,4.4,4.0,null,4.3,null,4.1,3.6,3.7,4.2,3.7,4.3,null,null,3.3,4.4,4.8,3.5,4.0,4.9,4.0,null,4.6,4.3,3.6,3.9,3.9,4.0,4.2,4.4,null,null,4.3,null,null,null,null,3.7,null,4.3,null,null,3.4,null,3.5,null,4.2,4.2,null,3.6,null,3.9,3.8,3.8,4.0,4.5,3.8,4.9,3.8,4.1,3.5,3.0,4.5,4.7,3.8,3.3,4.0,4.1,3.7,3.9,3.5,4.4,4.0,4.0,4.6,4.4,4.5,4.3,4.4,4.3,4.1,4.2,2.7,4.2,2.3,3.9,4.1,2.9,3.3,4.2,4.3,2.9,3.5,2.8,null,4.3,3.5,4.6,4.2,4.2,3.7,4.7,3.9,4.3,4.4,4.0,4.4,3.7,4.3,3.5,null,4.3,4.0,4.5,4.2,4.3,4.1,2.5,2.7,null,null,null,null,1.2,null,null,null,4.7,4.9,4.7,null,null,4.4,4.7,4.0,null,4.7,4.3,null,4.7,null,4.4,null,null,null,null,null,null,4.6,null,null,null,4.4,4.4,4.4,4.6,3.1,4.3,3.7,4.6,null,4.1,4.2,4.4,4.1,3.6,4.4,3.8,4.0,3.2,2.8,3.1,2.9,4.1,3.3,3.5,4.2,2.8,2.1,4.4,4.4,4.2,4.1,3.3,3.5,4.7,3.1,4.3,4.1,4.2,2.5,3.9,3.0,3.2,4.3,4.3,4.2,4.3,2.2,3.9,2.8,4.4,4.6,4.4,3.9,2.9,4.1,5.0,4.6,3.7,null,4.4,4.2,4.4,3.9,3.6,3.4,null,4.3,4.3,4.4,null,4.3,4.3,null,null,null,4.4,null,4.0,4.5,4.6,4.3,4.1,4.4,3.5,4.1,3.8,4.2,4.3,4.5,4.0,4.0,4.3,4.1,3.4,4.0,4.3,4.7,4.5,4.3,4.1,4.1,4.4,4.6,null,3.8,3.9,4.2,4.2,3.7,4.3,4.2,3.6,4.3,4.3,4.3,4.5,4.3,4.7,3.8,4.0,4.1,null,3.9,4.3,3.4,null,4.2,4.5,4.4,4.2,4.7,4.6,4.4,4.4,4.8,4.6,4.3,4.4,4.4,3.3,4.5,4.6,4.3,4.9,4.3,null,4.5,4.9,3.7,4.5,4.6,4.5,4.1,4.8,null,5.0,3.4,4.5,4.8,4.5,4.5,4.5,4.5,4.5,4.1,4.1,3.6,4.7,4.6,4.9,4.6,4.1,4.5,3.9,3.9,4.6,3.8,4.7,3.9,4.1,3.9,4.0,4.3,4.0,4.4,4.1,5.0,4.8,null,4.6,5.0,4.2,4.7,4.0,4.4,4.9,3.5,4.1,4.2,4.4,null,4.5,3.1,null,4.5,4.6,4.3,4.4,4.6,4.3,4.8,2.8,4.1,1.0,3.0,5.0,4.5,null,null,null,null,null,null,null,5.0,4.1,null,null,null,4.4,3.0,null,3.8,null,3.9,null,null,null,5.0,null,null,null,4.5,null,null,null,5.0,null,null,3.3,null,4.5,4.9,null,null,null,null,null,null,4.3,4.5,4.1,4.8,3.8,4.1,3.9,null,4.2,4.2,4.8,4.1,4.1,4.0,3.9,4.1,4.1,4.2,3.7,3.9,3.9,3.6,3.7,3.6,4.3,3.9,4.5,2.6,4.4,null,1.0,null,null,null,null,4.2,4.8,5.0,4.3,4.4,4.5,null,4.9,null,null,null,5.0,null,null,4.2,4.2,null,null,4.0,2.1,null,4.2,null,2.5,4.4,4.4,4.6,null,null,4.4,4.2,4.5,3.3,3.9,null,4.5,4.1,4.8,4.6,4.4,3.8,3.7,4.2,3.7,4.3,4.5,3.5,4.0,4.5,2.9,3.9,3.6,4.6,2.1,4.7,4.5,4.1,4.5,3.7,2.9,4.0,4.2,3.7,3.6,3.9,3.4,3.5,4.2,3.4,3.9,3.0,3.6,3.2,4.1,4.1,4.2,4.2,null,4.7,null,4.6,4.5,null,4.3,4.5,4.5,4.4,4.3,null,null,null,null,4.2,null,3.7,null,4.1,4.3,4.0,3.5,4.2,4.4,4.2,4.4,null,3.8,3.9,4.0,3.8,3.6,4.2,null,3.8,null,3.7,4.0,4.2,4.4,null,null,4.4,4.9,null,5.0,null,4.8,null,null,null,null,null,null,null,null,4.0,null,null,null,null,null,null,null,null,4.0,null,null,4.9,null,3.8,null,4.9,null,null,null,null,null,1.5,null,5.0,null,4.8,null,3.9,3.7,4.6,4.7,4.6,4.3,4.2,4.6,4.7,4.6,2.0,3.6,3.2,3.8,4.0,3.8,3.8,4.4,4.4,4.4,3.8,4.3,4.6,1.0,3.2,4.7,4.3,4.5,4.1,4.9,4.1,4.2,3.5,4.2,5.0,3.8,4.7,null,null,4.5,null,5.0,3.3,5.0,null,4.0,4.5,3.2,4.5,4.2,null,3.7,3.8,5.0,null,4.1,2.9,null,null,null,4.7,5.0,3.2,null,3.8,3.8,4.6,4.6,4.4,4.8,4.2,3.3,3.9,4.5,3.9,4.3,4.4,3.9,4.6,3.9,3.4,4.6,null,null,4.2,null,null,4.8,5.0,null,null,5.0,null,null,null,3.8,null,2.9,4.6,3.8,null,null,null,4.1,null,4.5,null,4.2,null,2.5,3.5,4.6,4.4,4.6,4.3,4.2,4.2,4.1,4.2,4.3,4.5,4.4,5.0,4.6,null,null,null,null,null,5.0,null,null,null,null,null,3.4,null,null,4.6,4.5,null,null,3.8,4.1,4.4,4.4,4.4,3.0,4.2,4.2,3.9,4.2,4.4,5.0,4.0,4.3,4.6,3.6,4.4,4.1,4.2,4.3,4.5,3.9,4.3,3.5,null,null,null,4.0,3.8,3.6,4.3,4.2,5.0,3.4,null,null,null,3.5,null,3.7,4.2,null,3.6,4.5,4.2,4.3,4.4,2.7,4.1,null,4.4,null,null,4.5,null,3.4,2.9,4.8,3.8,null,4.0,3.9,null,null,null,null,5.0,3.9,4.0,3.6,4.1,4.3,3.8,4.2,4.3,4.2,4.2,4.1,null,4.0,4.1,4.0,4.2,4.4,null,4.2,4.7,4.6,null,4.7,4.1,4.9,4.0,4.3,4.2,4.3,null,null,null,4.7,4.8,null,4.1,null,4.0,4.2,null,4.0,null,3.3,5.0,null,null,null,null,null,4.0,4.2,3.4,4.6,3.8,null,3.8,4.8,4.0,null,4.5,5.0,null,4.5,4.5],\"yaxis\":\"y\",\"type\":\"histogram\"}],                        {\"template\":{\"data\":{\"bar\":[{\"error_x\":{\"color\":\"#2a3f5f\"},\"error_y\":{\"color\":\"#2a3f5f\"},\"marker\":{\"line\":{\"color\":\"#E5ECF6\",\"width\":0.5},\"pattern\":{\"fillmode\":\"overlay\",\"size\":10,\"solidity\":0.2}},\"type\":\"bar\"}],\"barpolar\":[{\"marker\":{\"line\":{\"color\":\"#E5ECF6\",\"width\":0.5},\"pattern\":{\"fillmode\":\"overlay\",\"size\":10,\"solidity\":0.2}},\"type\":\"barpolar\"}],\"carpet\":[{\"aaxis\":{\"endlinecolor\":\"#2a3f5f\",\"gridcolor\":\"white\",\"linecolor\":\"white\",\"minorgridcolor\":\"white\",\"startlinecolor\":\"#2a3f5f\"},\"baxis\":{\"endlinecolor\":\"#2a3f5f\",\"gridcolor\":\"white\",\"linecolor\":\"white\",\"minorgridcolor\":\"white\",\"startlinecolor\":\"#2a3f5f\"},\"type\":\"carpet\"}],\"choropleth\":[{\"colorbar\":{\"outlinewidth\":0,\"ticks\":\"\"},\"type\":\"choropleth\"}],\"contour\":[{\"colorbar\":{\"outlinewidth\":0,\"ticks\":\"\"},\"colorscale\":[[0.0,\"#0d0887\"],[0.1111111111111111,\"#46039f\"],[0.2222222222222222,\"#7201a8\"],[0.3333333333333333,\"#9c179e\"],[0.4444444444444444,\"#bd3786\"],[0.5555555555555556,\"#d8576b\"],[0.6666666666666666,\"#ed7953\"],[0.7777777777777778,\"#fb9f3a\"],[0.8888888888888888,\"#fdca26\"],[1.0,\"#f0f921\"]],\"type\":\"contour\"}],\"contourcarpet\":[{\"colorbar\":{\"outlinewidth\":0,\"ticks\":\"\"},\"type\":\"contourcarpet\"}],\"heatmap\":[{\"colorbar\":{\"outlinewidth\":0,\"ticks\":\"\"},\"colorscale\":[[0.0,\"#0d0887\"],[0.1111111111111111,\"#46039f\"],[0.2222222222222222,\"#7201a8\"],[0.3333333333333333,\"#9c179e\"],[0.4444444444444444,\"#bd3786\"],[0.5555555555555556,\"#d8576b\"],[0.6666666666666666,\"#ed7953\"],[0.7777777777777778,\"#fb9f3a\"],[0.8888888888888888,\"#fdca26\"],[1.0,\"#f0f921\"]],\"type\":\"heatmap\"}],\"heatmapgl\":[{\"colorbar\":{\"outlinewidth\":0,\"ticks\":\"\"},\"colorscale\":[[0.0,\"#0d0887\"],[0.1111111111111111,\"#46039f\"],[0.2222222222222222,\"#7201a8\"],[0.3333333333333333,\"#9c179e\"],[0.4444444444444444,\"#bd3786\"],[0.5555555555555556,\"#d8576b\"],[0.6666666666666666,\"#ed7953\"],[0.7777777777777778,\"#fb9f3a\"],[0.8888888888888888,\"#fdca26\"],[1.0,\"#f0f921\"]],\"type\":\"heatmapgl\"}],\"histogram\":[{\"marker\":{\"pattern\":{\"fillmode\":\"overlay\",\"size\":10,\"solidity\":0.2}},\"type\":\"histogram\"}],\"histogram2d\":[{\"colorbar\":{\"outlinewidth\":0,\"ticks\":\"\"},\"colorscale\":[[0.0,\"#0d0887\"],[0.1111111111111111,\"#46039f\"],[0.2222222222222222,\"#7201a8\"],[0.3333333333333333,\"#9c179e\"],[0.4444444444444444,\"#bd3786\"],[0.5555555555555556,\"#d8576b\"],[0.6666666666666666,\"#ed7953\"],[0.7777777777777778,\"#fb9f3a\"],[0.8888888888888888,\"#fdca26\"],[1.0,\"#f0f921\"]],\"type\":\"histogram2d\"}],\"histogram2dcontour\":[{\"colorbar\":{\"outlinewidth\":0,\"ticks\":\"\"},\"colorscale\":[[0.0,\"#0d0887\"],[0.1111111111111111,\"#46039f\"],[0.2222222222222222,\"#7201a8\"],[0.3333333333333333,\"#9c179e\"],[0.4444444444444444,\"#bd3786\"],[0.5555555555555556,\"#d8576b\"],[0.6666666666666666,\"#ed7953\"],[0.7777777777777778,\"#fb9f3a\"],[0.8888888888888888,\"#fdca26\"],[1.0,\"#f0f921\"]],\"type\":\"histogram2dcontour\"}],\"mesh3d\":[{\"colorbar\":{\"outlinewidth\":0,\"ticks\":\"\"},\"type\":\"mesh3d\"}],\"parcoords\":[{\"line\":{\"colorbar\":{\"outlinewidth\":0,\"ticks\":\"\"}},\"type\":\"parcoords\"}],\"pie\":[{\"automargin\":true,\"type\":\"pie\"}],\"scatter\":[{\"marker\":{\"colorbar\":{\"outlinewidth\":0,\"ticks\":\"\"}},\"type\":\"scatter\"}],\"scatter3d\":[{\"line\":{\"colorbar\":{\"outlinewidth\":0,\"ticks\":\"\"}},\"marker\":{\"colorbar\":{\"outlinewidth\":0,\"ticks\":\"\"}},\"type\":\"scatter3d\"}],\"scattercarpet\":[{\"marker\":{\"colorbar\":{\"outlinewidth\":0,\"ticks\":\"\"}},\"type\":\"scattercarpet\"}],\"scattergeo\":[{\"marker\":{\"colorbar\":{\"outlinewidth\":0,\"ticks\":\"\"}},\"type\":\"scattergeo\"}],\"scattergl\":[{\"marker\":{\"colorbar\":{\"outlinewidth\":0,\"ticks\":\"\"}},\"type\":\"scattergl\"}],\"scattermapbox\":[{\"marker\":{\"colorbar\":{\"outlinewidth\":0,\"ticks\":\"\"}},\"type\":\"scattermapbox\"}],\"scatterpolar\":[{\"marker\":{\"colorbar\":{\"outlinewidth\":0,\"ticks\":\"\"}},\"type\":\"scatterpolar\"}],\"scatterpolargl\":[{\"marker\":{\"colorbar\":{\"outlinewidth\":0,\"ticks\":\"\"}},\"type\":\"scatterpolargl\"}],\"scatterternary\":[{\"marker\":{\"colorbar\":{\"outlinewidth\":0,\"ticks\":\"\"}},\"type\":\"scatterternary\"}],\"surface\":[{\"colorbar\":{\"outlinewidth\":0,\"ticks\":\"\"},\"colorscale\":[[0.0,\"#0d0887\"],[0.1111111111111111,\"#46039f\"],[0.2222222222222222,\"#7201a8\"],[0.3333333333333333,\"#9c179e\"],[0.4444444444444444,\"#bd3786\"],[0.5555555555555556,\"#d8576b\"],[0.6666666666666666,\"#ed7953\"],[0.7777777777777778,\"#fb9f3a\"],[0.8888888888888888,\"#fdca26\"],[1.0,\"#f0f921\"]],\"type\":\"surface\"}],\"table\":[{\"cells\":{\"fill\":{\"color\":\"#EBF0F8\"},\"line\":{\"color\":\"white\"}},\"header\":{\"fill\":{\"color\":\"#C8D4E3\"},\"line\":{\"color\":\"white\"}},\"type\":\"table\"}]},\"layout\":{\"annotationdefaults\":{\"arrowcolor\":\"#2a3f5f\",\"arrowhead\":0,\"arrowwidth\":1},\"autotypenumbers\":\"strict\",\"coloraxis\":{\"colorbar\":{\"outlinewidth\":0,\"ticks\":\"\"}},\"colorscale\":{\"diverging\":[[0,\"#8e0152\"],[0.1,\"#c51b7d\"],[0.2,\"#de77ae\"],[0.3,\"#f1b6da\"],[0.4,\"#fde0ef\"],[0.5,\"#f7f7f7\"],[0.6,\"#e6f5d0\"],[0.7,\"#b8e186\"],[0.8,\"#7fbc41\"],[0.9,\"#4d9221\"],[1,\"#276419\"]],\"sequential\":[[0.0,\"#0d0887\"],[0.1111111111111111,\"#46039f\"],[0.2222222222222222,\"#7201a8\"],[0.3333333333333333,\"#9c179e\"],[0.4444444444444444,\"#bd3786\"],[0.5555555555555556,\"#d8576b\"],[0.6666666666666666,\"#ed7953\"],[0.7777777777777778,\"#fb9f3a\"],[0.8888888888888888,\"#fdca26\"],[1.0,\"#f0f921\"]],\"sequentialminus\":[[0.0,\"#0d0887\"],[0.1111111111111111,\"#46039f\"],[0.2222222222222222,\"#7201a8\"],[0.3333333333333333,\"#9c179e\"],[0.4444444444444444,\"#bd3786\"],[0.5555555555555556,\"#d8576b\"],[0.6666666666666666,\"#ed7953\"],[0.7777777777777778,\"#fb9f3a\"],[0.8888888888888888,\"#fdca26\"],[1.0,\"#f0f921\"]]},\"colorway\":[\"#636efa\",\"#EF553B\",\"#00cc96\",\"#ab63fa\",\"#FFA15A\",\"#19d3f3\",\"#FF6692\",\"#B6E880\",\"#FF97FF\",\"#FECB52\"],\"font\":{\"color\":\"#2a3f5f\"},\"geo\":{\"bgcolor\":\"white\",\"lakecolor\":\"white\",\"landcolor\":\"#E5ECF6\",\"showlakes\":true,\"showland\":true,\"subunitcolor\":\"white\"},\"hoverlabel\":{\"align\":\"left\"},\"hovermode\":\"closest\",\"mapbox\":{\"style\":\"light\"},\"paper_bgcolor\":\"white\",\"plot_bgcolor\":\"#E5ECF6\",\"polar\":{\"angularaxis\":{\"gridcolor\":\"white\",\"linecolor\":\"white\",\"ticks\":\"\"},\"bgcolor\":\"#E5ECF6\",\"radialaxis\":{\"gridcolor\":\"white\",\"linecolor\":\"white\",\"ticks\":\"\"}},\"scene\":{\"xaxis\":{\"backgroundcolor\":\"#E5ECF6\",\"gridcolor\":\"white\",\"gridwidth\":2,\"linecolor\":\"white\",\"showbackground\":true,\"ticks\":\"\",\"zerolinecolor\":\"white\"},\"yaxis\":{\"backgroundcolor\":\"#E5ECF6\",\"gridcolor\":\"white\",\"gridwidth\":2,\"linecolor\":\"white\",\"showbackground\":true,\"ticks\":\"\",\"zerolinecolor\":\"white\"},\"zaxis\":{\"backgroundcolor\":\"#E5ECF6\",\"gridcolor\":\"white\",\"gridwidth\":2,\"linecolor\":\"white\",\"showbackground\":true,\"ticks\":\"\",\"zerolinecolor\":\"white\"}},\"shapedefaults\":{\"line\":{\"color\":\"#2a3f5f\"}},\"ternary\":{\"aaxis\":{\"gridcolor\":\"white\",\"linecolor\":\"white\",\"ticks\":\"\"},\"baxis\":{\"gridcolor\":\"white\",\"linecolor\":\"white\",\"ticks\":\"\"},\"bgcolor\":\"#E5ECF6\",\"caxis\":{\"gridcolor\":\"white\",\"linecolor\":\"white\",\"ticks\":\"\"}},\"title\":{\"x\":0.05},\"xaxis\":{\"automargin\":true,\"gridcolor\":\"white\",\"linecolor\":\"white\",\"ticks\":\"\",\"title\":{\"standoff\":15},\"zerolinecolor\":\"white\",\"zerolinewidth\":2},\"yaxis\":{\"automargin\":true,\"gridcolor\":\"white\",\"linecolor\":\"white\",\"ticks\":\"\",\"title\":{\"standoff\":15},\"zerolinecolor\":\"white\",\"zerolinewidth\":2}}},\"xaxis\":{\"anchor\":\"y\",\"domain\":[0.0,1.0],\"title\":{\"text\":\"Rating\"}},\"yaxis\":{\"anchor\":\"x\",\"domain\":[0.0,1.0],\"title\":{\"text\":\"sum of Rating\"}},\"legend\":{\"tracegroupgap\":0},\"margin\":{\"t\":60},\"barmode\":\"relative\"},                        {\"responsive\": true}                    ).then(function(){\n",
              "                            \n",
              "var gd = document.getElementById('02d30002-37b5-4bfb-8b5a-944a53c7b0b3');\n",
              "var x = new MutationObserver(function (mutations, observer) {{\n",
              "        var display = window.getComputedStyle(gd).display;\n",
              "        if (!display || display === 'none') {{\n",
              "            console.log([gd, 'removed!']);\n",
              "            Plotly.purge(gd);\n",
              "            observer.disconnect();\n",
              "        }}\n",
              "}});\n",
              "\n",
              "// Listen for the removal of the full notebook cells\n",
              "var notebookContainer = gd.closest('#notebook-container');\n",
              "if (notebookContainer) {{\n",
              "    x.observe(notebookContainer, {childList: true});\n",
              "}}\n",
              "\n",
              "// Listen for the clearing of the current output cell\n",
              "var outputEl = gd.closest('.output');\n",
              "if (outputEl) {{\n",
              "    x.observe(outputEl, {childList: true});\n",
              "}}\n",
              "\n",
              "                        })                };                            </script>        </div>\n",
              "</body>\n",
              "</html>"
            ]
          },
          "metadata": {}
        }
      ]
    },
    {
      "cell_type": "markdown",
      "source": [
        "##Cleaning 'Install'\n",
        "\n",
        "> Checking data in installs - value_counts()\n",
        "\n",
        "\n",
        "\n",
        "\n",
        "1.   Remove + sign\n",
        "2.   Remove ',' sign\n",
        "1.   Convert series to numerical value (int/Float)\n",
        "\n",
        "\n",
        "\n",
        "\n",
        "\n",
        "\n"
      ],
      "metadata": {
        "id": "15fwvMhh3-S3"
      }
    },
    {
      "cell_type": "code",
      "source": [
        "data['Installs'].value_counts()"
      ],
      "metadata": {
        "colab": {
          "base_uri": "https://localhost:8080/"
        },
        "id": "_LG_AZwJ4rnd",
        "outputId": "df6c6f0a-3be6-4254-aab8-639dbba026e8"
      },
      "execution_count": null,
      "outputs": [
        {
          "output_type": "execute_result",
          "data": {
            "text/plain": [
              "1,000,000+        1579\n",
              "10,000,000+       1252\n",
              "100,000+          1169\n",
              "10,000+           1054\n",
              "1,000+             907\n",
              "5,000,000+         752\n",
              "100+               719\n",
              "500,000+           539\n",
              "50,000+            479\n",
              "5,000+             477\n",
              "100,000,000+       409\n",
              "10+                386\n",
              "500+               330\n",
              "50,000,000+        289\n",
              "50+                205\n",
              "5+                  82\n",
              "500,000,000+        72\n",
              "1+                  67\n",
              "1,000,000,000+      58\n",
              "0+                  14\n",
              "0                    1\n",
              "Name: Installs, dtype: int64"
            ]
          },
          "metadata": {},
          "execution_count": 17
        }
      ]
    },
    {
      "cell_type": "code",
      "source": [
        "data['Installs'] = data['Installs'].apply(lambda x : str(x).replace('+',''))\n",
        "data['Installs'] = data['Installs'].apply(lambda x : str(x).replace(',',''))\n",
        "data['Installs'] = pd.to_numeric(data['Installs'])\n",
        "data['Installs'].dtype"
      ],
      "metadata": {
        "id": "giJg9GGlBcJv",
        "colab": {
          "base_uri": "https://localhost:8080/"
        },
        "outputId": "d94baf71-57c4-48d1-da68-483fec5272bb"
      },
      "execution_count": null,
      "outputs": [
        {
          "output_type": "execute_result",
          "data": {
            "text/plain": [
              "dtype('int64')"
            ]
          },
          "metadata": {},
          "execution_count": 18
        }
      ]
    },
    {
      "cell_type": "code",
      "source": [
        "data['Installs'].value_counts()"
      ],
      "metadata": {
        "colab": {
          "base_uri": "https://localhost:8080/"
        },
        "id": "2hFSduqU5xSc",
        "outputId": "6318f180-155c-4c80-99b2-652afe900dcc"
      },
      "execution_count": null,
      "outputs": [
        {
          "output_type": "execute_result",
          "data": {
            "text/plain": [
              "1000000       1579\n",
              "10000000      1252\n",
              "100000        1169\n",
              "10000         1054\n",
              "1000           907\n",
              "5000000        752\n",
              "100            719\n",
              "500000         539\n",
              "50000          479\n",
              "5000           477\n",
              "100000000      409\n",
              "10             386\n",
              "500            330\n",
              "50000000       289\n",
              "50             205\n",
              "5               82\n",
              "500000000       72\n",
              "1               67\n",
              "1000000000      58\n",
              "0               15\n",
              "Name: Installs, dtype: int64"
            ]
          },
          "metadata": {},
          "execution_count": 19
        }
      ]
    },
    {
      "cell_type": "markdown",
      "source": [
        "##Filling NA Value in 'Ratings' with mode value."
      ],
      "metadata": {
        "id": "KU9dwi23ydl5"
      }
    },
    {
      "cell_type": "code",
      "source": [
        "data['Rating'].fillna(data['Rating'].mode().values[0],inplace=True)\n",
        "data['Rating'] = np.where(data['Installs']==0 , 0 ,data['Rating'])\n",
        "data['Rating'] = pd.to_numeric(data['Rating'], errors='coerce')\n",
        "data[data['Installs']==0]['Rating']"
      ],
      "metadata": {
        "colab": {
          "base_uri": "https://localhost:8080/"
        },
        "id": "u_bbDRgc2rpZ",
        "outputId": "b08ba7e7-b340-4e8b-efac-cd34cb2fba4b"
      },
      "execution_count": null,
      "outputs": [
        {
          "output_type": "execute_result",
          "data": {
            "text/plain": [
              "4465    0.0\n",
              "5307    0.0\n",
              "5486    0.0\n",
              "5945    0.0\n",
              "6692    0.0\n",
              "7434    0.0\n",
              "8081    0.0\n",
              "8614    0.0\n",
              "8871    0.0\n",
              "9148    0.0\n",
              "9337    0.0\n",
              "9719    0.0\n",
              "9905    0.0\n",
              "9917    0.0\n",
              "9934    0.0\n",
              "Name: Rating, dtype: float64"
            ]
          },
          "metadata": {},
          "execution_count": 20
        }
      ]
    },
    {
      "cell_type": "code",
      "source": [
        "data['Rating'].isnull().sum()"
      ],
      "metadata": {
        "colab": {
          "base_uri": "https://localhost:8080/"
        },
        "id": "0wTyUxK7cvNY",
        "outputId": "ae82eca4-4f56-4e2b-c92c-ffeb93117c06"
      },
      "execution_count": null,
      "outputs": [
        {
          "output_type": "execute_result",
          "data": {
            "text/plain": [
              "0"
            ]
          },
          "metadata": {},
          "execution_count": 21
        }
      ]
    },
    {
      "cell_type": "code",
      "source": [
        "data.isnull().sum()"
      ],
      "metadata": {
        "colab": {
          "base_uri": "https://localhost:8080/"
        },
        "id": "J1C0DTLo3Wg-",
        "outputId": "3ac12743-acdd-4d5d-f8d7-98c6d18a0a9f"
      },
      "execution_count": null,
      "outputs": [
        {
          "output_type": "execute_result",
          "data": {
            "text/plain": [
              "App               0\n",
              "Category          0\n",
              "Rating            0\n",
              "Reviews           0\n",
              "Size              0\n",
              "Installs          0\n",
              "Type              1\n",
              "Price             0\n",
              "Content_Rating    0\n",
              "Genres            0\n",
              "Last_Updated      0\n",
              "Current_Ver       8\n",
              "Android_Ver       2\n",
              "dtype: int64"
            ]
          },
          "metadata": {},
          "execution_count": 22
        }
      ]
    },
    {
      "cell_type": "markdown",
      "source": [
        "##Checking and fixing 'null' value in 'Type'\n",
        "\n",
        "\n",
        "*   A quick check from play store tell us the app is 'Free' type"
      ],
      "metadata": {
        "id": "vJopAdQzzpva"
      }
    },
    {
      "cell_type": "code",
      "source": [
        "data[data.Type.isnull()]"
      ],
      "metadata": {
        "colab": {
          "base_uri": "https://localhost:8080/"
        },
        "id": "G6zFgMwtoH4E",
        "outputId": "b2a64258-c364-41f3-9f4f-79dcee9ca09d"
      },
      "execution_count": null,
      "outputs": [
        {
          "output_type": "execute_result",
          "data": {
            "text/plain": [
              "                            App Category  Rating Reviews                Size  \\\n",
              "9148  Command & Conquer: Rivals   FAMILY     0.0       0  Varies with device   \n",
              "\n",
              "      Installs Type Price Content_Rating    Genres   Last_Updated  \\\n",
              "9148         0  NaN     0   Everyone 10+  Strategy  June 28, 2018   \n",
              "\n",
              "             Current_Ver         Android_Ver  \n",
              "9148  Varies with device  Varies with device  "
            ],
            "text/html": [
              "\n",
              "  <div id=\"df-074f43d4-d8d6-425a-bcee-69d2e7f3e50e\">\n",
              "    <div class=\"colab-df-container\">\n",
              "      <div>\n",
              "<style scoped>\n",
              "    .dataframe tbody tr th:only-of-type {\n",
              "        vertical-align: middle;\n",
              "    }\n",
              "\n",
              "    .dataframe tbody tr th {\n",
              "        vertical-align: top;\n",
              "    }\n",
              "\n",
              "    .dataframe thead th {\n",
              "        text-align: right;\n",
              "    }\n",
              "</style>\n",
              "<table border=\"1\" class=\"dataframe\">\n",
              "  <thead>\n",
              "    <tr style=\"text-align: right;\">\n",
              "      <th></th>\n",
              "      <th>App</th>\n",
              "      <th>Category</th>\n",
              "      <th>Rating</th>\n",
              "      <th>Reviews</th>\n",
              "      <th>Size</th>\n",
              "      <th>Installs</th>\n",
              "      <th>Type</th>\n",
              "      <th>Price</th>\n",
              "      <th>Content_Rating</th>\n",
              "      <th>Genres</th>\n",
              "      <th>Last_Updated</th>\n",
              "      <th>Current_Ver</th>\n",
              "      <th>Android_Ver</th>\n",
              "    </tr>\n",
              "  </thead>\n",
              "  <tbody>\n",
              "    <tr>\n",
              "      <th>9148</th>\n",
              "      <td>Command &amp; Conquer: Rivals</td>\n",
              "      <td>FAMILY</td>\n",
              "      <td>0.0</td>\n",
              "      <td>0</td>\n",
              "      <td>Varies with device</td>\n",
              "      <td>0</td>\n",
              "      <td>NaN</td>\n",
              "      <td>0</td>\n",
              "      <td>Everyone 10+</td>\n",
              "      <td>Strategy</td>\n",
              "      <td>June 28, 2018</td>\n",
              "      <td>Varies with device</td>\n",
              "      <td>Varies with device</td>\n",
              "    </tr>\n",
              "  </tbody>\n",
              "</table>\n",
              "</div>\n",
              "      <button class=\"colab-df-convert\" onclick=\"convertToInteractive('df-074f43d4-d8d6-425a-bcee-69d2e7f3e50e')\"\n",
              "              title=\"Convert this dataframe to an interactive table.\"\n",
              "              style=\"display:none;\">\n",
              "        \n",
              "  <svg xmlns=\"http://www.w3.org/2000/svg\" height=\"24px\"viewBox=\"0 0 24 24\"\n",
              "       width=\"24px\">\n",
              "    <path d=\"M0 0h24v24H0V0z\" fill=\"none\"/>\n",
              "    <path d=\"M18.56 5.44l.94 2.06.94-2.06 2.06-.94-2.06-.94-.94-2.06-.94 2.06-2.06.94zm-11 1L8.5 8.5l.94-2.06 2.06-.94-2.06-.94L8.5 2.5l-.94 2.06-2.06.94zm10 10l.94 2.06.94-2.06 2.06-.94-2.06-.94-.94-2.06-.94 2.06-2.06.94z\"/><path d=\"M17.41 7.96l-1.37-1.37c-.4-.4-.92-.59-1.43-.59-.52 0-1.04.2-1.43.59L10.3 9.45l-7.72 7.72c-.78.78-.78 2.05 0 2.83L4 21.41c.39.39.9.59 1.41.59.51 0 1.02-.2 1.41-.59l7.78-7.78 2.81-2.81c.8-.78.8-2.07 0-2.86zM5.41 20L4 18.59l7.72-7.72 1.47 1.35L5.41 20z\"/>\n",
              "  </svg>\n",
              "      </button>\n",
              "      \n",
              "  <style>\n",
              "    .colab-df-container {\n",
              "      display:flex;\n",
              "      flex-wrap:wrap;\n",
              "      gap: 12px;\n",
              "    }\n",
              "\n",
              "    .colab-df-convert {\n",
              "      background-color: #E8F0FE;\n",
              "      border: none;\n",
              "      border-radius: 50%;\n",
              "      cursor: pointer;\n",
              "      display: none;\n",
              "      fill: #1967D2;\n",
              "      height: 32px;\n",
              "      padding: 0 0 0 0;\n",
              "      width: 32px;\n",
              "    }\n",
              "\n",
              "    .colab-df-convert:hover {\n",
              "      background-color: #E2EBFA;\n",
              "      box-shadow: 0px 1px 2px rgba(60, 64, 67, 0.3), 0px 1px 3px 1px rgba(60, 64, 67, 0.15);\n",
              "      fill: #174EA6;\n",
              "    }\n",
              "\n",
              "    [theme=dark] .colab-df-convert {\n",
              "      background-color: #3B4455;\n",
              "      fill: #D2E3FC;\n",
              "    }\n",
              "\n",
              "    [theme=dark] .colab-df-convert:hover {\n",
              "      background-color: #434B5C;\n",
              "      box-shadow: 0px 1px 3px 1px rgba(0, 0, 0, 0.15);\n",
              "      filter: drop-shadow(0px 1px 2px rgba(0, 0, 0, 0.3));\n",
              "      fill: #FFFFFF;\n",
              "    }\n",
              "  </style>\n",
              "\n",
              "      <script>\n",
              "        const buttonEl =\n",
              "          document.querySelector('#df-074f43d4-d8d6-425a-bcee-69d2e7f3e50e button.colab-df-convert');\n",
              "        buttonEl.style.display =\n",
              "          google.colab.kernel.accessAllowed ? 'block' : 'none';\n",
              "\n",
              "        async function convertToInteractive(key) {\n",
              "          const element = document.querySelector('#df-074f43d4-d8d6-425a-bcee-69d2e7f3e50e');\n",
              "          const dataTable =\n",
              "            await google.colab.kernel.invokeFunction('convertToInteractive',\n",
              "                                                     [key], {});\n",
              "          if (!dataTable) return;\n",
              "\n",
              "          const docLinkHtml = 'Like what you see? Visit the ' +\n",
              "            '<a target=\"_blank\" href=https://colab.research.google.com/notebooks/data_table.ipynb>data table notebook</a>'\n",
              "            + ' to learn more about interactive tables.';\n",
              "          element.innerHTML = '';\n",
              "          dataTable['output_type'] = 'display_data';\n",
              "          await google.colab.output.renderOutput(dataTable, element);\n",
              "          const docLink = document.createElement('div');\n",
              "          docLink.innerHTML = docLinkHtml;\n",
              "          element.appendChild(docLink);\n",
              "        }\n",
              "      </script>\n",
              "    </div>\n",
              "  </div>\n",
              "  "
            ]
          },
          "metadata": {},
          "execution_count": 23
        }
      ]
    },
    {
      "cell_type": "code",
      "source": [
        "data['Type'].fillna(\"Free\", inplace = True)"
      ],
      "metadata": {
        "id": "O62Muf1dovVo"
      },
      "execution_count": null,
      "outputs": []
    },
    {
      "cell_type": "markdown",
      "source": [
        "## Checking overall null values in data"
      ],
      "metadata": {
        "id": "UQZ6ZE3nyoQ_"
      }
    },
    {
      "cell_type": "code",
      "source": [
        "data.isnull().sum()"
      ],
      "metadata": {
        "colab": {
          "base_uri": "https://localhost:8080/"
        },
        "id": "Yc3u-iHXz0WR",
        "outputId": "893b8bbb-eb9f-42f0-9bf8-473312a2b858"
      },
      "execution_count": null,
      "outputs": [
        {
          "output_type": "execute_result",
          "data": {
            "text/plain": [
              "App               0\n",
              "Category          0\n",
              "Rating            0\n",
              "Reviews           0\n",
              "Size              0\n",
              "Installs          0\n",
              "Type              0\n",
              "Price             0\n",
              "Content_Rating    0\n",
              "Genres            0\n",
              "Last_Updated      0\n",
              "Current_Ver       8\n",
              "Android_Ver       2\n",
              "dtype: int64"
            ]
          },
          "metadata": {},
          "execution_count": 25
        }
      ]
    },
    {
      "cell_type": "markdown",
      "source": [
        "##Fixing NA value in 'Type', 'Current_Ver', 'Android_Ver' with mode()0"
      ],
      "metadata": {
        "id": "NMLOIdZyvJlL"
      }
    },
    {
      "cell_type": "code",
      "source": [
        "data['Type'].fillna(str(data['Type'].mode().values[0]),inplace=True)\n",
        "data['Current_Ver'].fillna(str(data['Current_Ver'].mode().values[0]),inplace=True)\n",
        "data['Android_Ver'].fillna(str(data['Android_Ver'].mode().values[0]),inplace=True)"
      ],
      "metadata": {
        "id": "_yZ3gThe9FRG"
      },
      "execution_count": null,
      "outputs": []
    },
    {
      "cell_type": "code",
      "source": [
        "data.isnull().sum()"
      ],
      "metadata": {
        "colab": {
          "base_uri": "https://localhost:8080/"
        },
        "id": "kfbS6CY4_J6u",
        "outputId": "bc941687-f8ea-488b-c6df-0a6933478a55"
      },
      "execution_count": null,
      "outputs": [
        {
          "output_type": "execute_result",
          "data": {
            "text/plain": [
              "App               0\n",
              "Category          0\n",
              "Rating            0\n",
              "Reviews           0\n",
              "Size              0\n",
              "Installs          0\n",
              "Type              0\n",
              "Price             0\n",
              "Content_Rating    0\n",
              "Genres            0\n",
              "Last_Updated      0\n",
              "Current_Ver       0\n",
              "Android_Ver       0\n",
              "dtype: int64"
            ]
          },
          "metadata": {},
          "execution_count": 27
        }
      ]
    },
    {
      "cell_type": "code",
      "source": [
        "data.head(5)"
      ],
      "metadata": {
        "colab": {
          "base_uri": "https://localhost:8080/"
        },
        "id": "M2je8CnJDuOe",
        "outputId": "ecf8a73a-9bcc-4205-9be8-f2ba3b8a9d5b"
      },
      "execution_count": null,
      "outputs": [
        {
          "output_type": "execute_result",
          "data": {
            "text/plain": [
              "                                                 App        Category  Rating  \\\n",
              "0     Photo Editor & Candy Camera & Grid & ScrapBook  ART_AND_DESIGN     4.1   \n",
              "1                                Coloring book moana  ART_AND_DESIGN     3.9   \n",
              "2  U Launcher Lite – FREE Live Cool Themes, Hide ...  ART_AND_DESIGN     4.7   \n",
              "3                              Sketch - Draw & Paint  ART_AND_DESIGN     4.5   \n",
              "4              Pixel Draw - Number Art Coloring Book  ART_AND_DESIGN     4.3   \n",
              "\n",
              "  Reviews  Size  Installs  Type Price Content_Rating  \\\n",
              "0     159   19M     10000  Free     0       Everyone   \n",
              "1     967   14M    500000  Free     0       Everyone   \n",
              "2   87510  8.7M   5000000  Free     0       Everyone   \n",
              "3  215644   25M  50000000  Free     0           Teen   \n",
              "4     967  2.8M    100000  Free     0       Everyone   \n",
              "\n",
              "                      Genres      Last_Updated         Current_Ver  \\\n",
              "0               Art & Design   January 7, 2018               1.0.0   \n",
              "1  Art & Design;Pretend Play  January 15, 2018               2.0.0   \n",
              "2               Art & Design    August 1, 2018               1.2.4   \n",
              "3               Art & Design      June 8, 2018  Varies with device   \n",
              "4    Art & Design;Creativity     June 20, 2018                 1.1   \n",
              "\n",
              "    Android_Ver  \n",
              "0  4.0.3 and up  \n",
              "1  4.0.3 and up  \n",
              "2  4.0.3 and up  \n",
              "3    4.2 and up  \n",
              "4    4.4 and up  "
            ],
            "text/html": [
              "\n",
              "  <div id=\"df-4d537e1b-76eb-4096-9aa9-173ab69d86a7\">\n",
              "    <div class=\"colab-df-container\">\n",
              "      <div>\n",
              "<style scoped>\n",
              "    .dataframe tbody tr th:only-of-type {\n",
              "        vertical-align: middle;\n",
              "    }\n",
              "\n",
              "    .dataframe tbody tr th {\n",
              "        vertical-align: top;\n",
              "    }\n",
              "\n",
              "    .dataframe thead th {\n",
              "        text-align: right;\n",
              "    }\n",
              "</style>\n",
              "<table border=\"1\" class=\"dataframe\">\n",
              "  <thead>\n",
              "    <tr style=\"text-align: right;\">\n",
              "      <th></th>\n",
              "      <th>App</th>\n",
              "      <th>Category</th>\n",
              "      <th>Rating</th>\n",
              "      <th>Reviews</th>\n",
              "      <th>Size</th>\n",
              "      <th>Installs</th>\n",
              "      <th>Type</th>\n",
              "      <th>Price</th>\n",
              "      <th>Content_Rating</th>\n",
              "      <th>Genres</th>\n",
              "      <th>Last_Updated</th>\n",
              "      <th>Current_Ver</th>\n",
              "      <th>Android_Ver</th>\n",
              "    </tr>\n",
              "  </thead>\n",
              "  <tbody>\n",
              "    <tr>\n",
              "      <th>0</th>\n",
              "      <td>Photo Editor &amp; Candy Camera &amp; Grid &amp; ScrapBook</td>\n",
              "      <td>ART_AND_DESIGN</td>\n",
              "      <td>4.1</td>\n",
              "      <td>159</td>\n",
              "      <td>19M</td>\n",
              "      <td>10000</td>\n",
              "      <td>Free</td>\n",
              "      <td>0</td>\n",
              "      <td>Everyone</td>\n",
              "      <td>Art &amp; Design</td>\n",
              "      <td>January 7, 2018</td>\n",
              "      <td>1.0.0</td>\n",
              "      <td>4.0.3 and up</td>\n",
              "    </tr>\n",
              "    <tr>\n",
              "      <th>1</th>\n",
              "      <td>Coloring book moana</td>\n",
              "      <td>ART_AND_DESIGN</td>\n",
              "      <td>3.9</td>\n",
              "      <td>967</td>\n",
              "      <td>14M</td>\n",
              "      <td>500000</td>\n",
              "      <td>Free</td>\n",
              "      <td>0</td>\n",
              "      <td>Everyone</td>\n",
              "      <td>Art &amp; Design;Pretend Play</td>\n",
              "      <td>January 15, 2018</td>\n",
              "      <td>2.0.0</td>\n",
              "      <td>4.0.3 and up</td>\n",
              "    </tr>\n",
              "    <tr>\n",
              "      <th>2</th>\n",
              "      <td>U Launcher Lite – FREE Live Cool Themes, Hide ...</td>\n",
              "      <td>ART_AND_DESIGN</td>\n",
              "      <td>4.7</td>\n",
              "      <td>87510</td>\n",
              "      <td>8.7M</td>\n",
              "      <td>5000000</td>\n",
              "      <td>Free</td>\n",
              "      <td>0</td>\n",
              "      <td>Everyone</td>\n",
              "      <td>Art &amp; Design</td>\n",
              "      <td>August 1, 2018</td>\n",
              "      <td>1.2.4</td>\n",
              "      <td>4.0.3 and up</td>\n",
              "    </tr>\n",
              "    <tr>\n",
              "      <th>3</th>\n",
              "      <td>Sketch - Draw &amp; Paint</td>\n",
              "      <td>ART_AND_DESIGN</td>\n",
              "      <td>4.5</td>\n",
              "      <td>215644</td>\n",
              "      <td>25M</td>\n",
              "      <td>50000000</td>\n",
              "      <td>Free</td>\n",
              "      <td>0</td>\n",
              "      <td>Teen</td>\n",
              "      <td>Art &amp; Design</td>\n",
              "      <td>June 8, 2018</td>\n",
              "      <td>Varies with device</td>\n",
              "      <td>4.2 and up</td>\n",
              "    </tr>\n",
              "    <tr>\n",
              "      <th>4</th>\n",
              "      <td>Pixel Draw - Number Art Coloring Book</td>\n",
              "      <td>ART_AND_DESIGN</td>\n",
              "      <td>4.3</td>\n",
              "      <td>967</td>\n",
              "      <td>2.8M</td>\n",
              "      <td>100000</td>\n",
              "      <td>Free</td>\n",
              "      <td>0</td>\n",
              "      <td>Everyone</td>\n",
              "      <td>Art &amp; Design;Creativity</td>\n",
              "      <td>June 20, 2018</td>\n",
              "      <td>1.1</td>\n",
              "      <td>4.4 and up</td>\n",
              "    </tr>\n",
              "  </tbody>\n",
              "</table>\n",
              "</div>\n",
              "      <button class=\"colab-df-convert\" onclick=\"convertToInteractive('df-4d537e1b-76eb-4096-9aa9-173ab69d86a7')\"\n",
              "              title=\"Convert this dataframe to an interactive table.\"\n",
              "              style=\"display:none;\">\n",
              "        \n",
              "  <svg xmlns=\"http://www.w3.org/2000/svg\" height=\"24px\"viewBox=\"0 0 24 24\"\n",
              "       width=\"24px\">\n",
              "    <path d=\"M0 0h24v24H0V0z\" fill=\"none\"/>\n",
              "    <path d=\"M18.56 5.44l.94 2.06.94-2.06 2.06-.94-2.06-.94-.94-2.06-.94 2.06-2.06.94zm-11 1L8.5 8.5l.94-2.06 2.06-.94-2.06-.94L8.5 2.5l-.94 2.06-2.06.94zm10 10l.94 2.06.94-2.06 2.06-.94-2.06-.94-.94-2.06-.94 2.06-2.06.94z\"/><path d=\"M17.41 7.96l-1.37-1.37c-.4-.4-.92-.59-1.43-.59-.52 0-1.04.2-1.43.59L10.3 9.45l-7.72 7.72c-.78.78-.78 2.05 0 2.83L4 21.41c.39.39.9.59 1.41.59.51 0 1.02-.2 1.41-.59l7.78-7.78 2.81-2.81c.8-.78.8-2.07 0-2.86zM5.41 20L4 18.59l7.72-7.72 1.47 1.35L5.41 20z\"/>\n",
              "  </svg>\n",
              "      </button>\n",
              "      \n",
              "  <style>\n",
              "    .colab-df-container {\n",
              "      display:flex;\n",
              "      flex-wrap:wrap;\n",
              "      gap: 12px;\n",
              "    }\n",
              "\n",
              "    .colab-df-convert {\n",
              "      background-color: #E8F0FE;\n",
              "      border: none;\n",
              "      border-radius: 50%;\n",
              "      cursor: pointer;\n",
              "      display: none;\n",
              "      fill: #1967D2;\n",
              "      height: 32px;\n",
              "      padding: 0 0 0 0;\n",
              "      width: 32px;\n",
              "    }\n",
              "\n",
              "    .colab-df-convert:hover {\n",
              "      background-color: #E2EBFA;\n",
              "      box-shadow: 0px 1px 2px rgba(60, 64, 67, 0.3), 0px 1px 3px 1px rgba(60, 64, 67, 0.15);\n",
              "      fill: #174EA6;\n",
              "    }\n",
              "\n",
              "    [theme=dark] .colab-df-convert {\n",
              "      background-color: #3B4455;\n",
              "      fill: #D2E3FC;\n",
              "    }\n",
              "\n",
              "    [theme=dark] .colab-df-convert:hover {\n",
              "      background-color: #434B5C;\n",
              "      box-shadow: 0px 1px 3px 1px rgba(0, 0, 0, 0.15);\n",
              "      filter: drop-shadow(0px 1px 2px rgba(0, 0, 0, 0.3));\n",
              "      fill: #FFFFFF;\n",
              "    }\n",
              "  </style>\n",
              "\n",
              "      <script>\n",
              "        const buttonEl =\n",
              "          document.querySelector('#df-4d537e1b-76eb-4096-9aa9-173ab69d86a7 button.colab-df-convert');\n",
              "        buttonEl.style.display =\n",
              "          google.colab.kernel.accessAllowed ? 'block' : 'none';\n",
              "\n",
              "        async function convertToInteractive(key) {\n",
              "          const element = document.querySelector('#df-4d537e1b-76eb-4096-9aa9-173ab69d86a7');\n",
              "          const dataTable =\n",
              "            await google.colab.kernel.invokeFunction('convertToInteractive',\n",
              "                                                     [key], {});\n",
              "          if (!dataTable) return;\n",
              "\n",
              "          const docLinkHtml = 'Like what you see? Visit the ' +\n",
              "            '<a target=\"_blank\" href=https://colab.research.google.com/notebooks/data_table.ipynb>data table notebook</a>'\n",
              "            + ' to learn more about interactive tables.';\n",
              "          element.innerHTML = '';\n",
              "          dataTable['output_type'] = 'display_data';\n",
              "          await google.colab.output.renderOutput(dataTable, element);\n",
              "          const docLink = document.createElement('div');\n",
              "          docLink.innerHTML = docLinkHtml;\n",
              "          element.appendChild(docLink);\n",
              "        }\n",
              "      </script>\n",
              "    </div>\n",
              "  </div>\n",
              "  "
            ]
          },
          "metadata": {},
          "execution_count": 28
        }
      ]
    },
    {
      "cell_type": "markdown",
      "source": [
        "##Cleaning 'Price'\n",
        "\n",
        "1.   Remove '$' currency symbol\n",
        "2.   Converting series to numerical value (int/float)\n",
        "\n",
        "\n",
        "\n"
      ],
      "metadata": {
        "id": "YHJxNtn-wXra"
      }
    },
    {
      "cell_type": "code",
      "source": [
        "data['Price'] = data['Price'].apply(lambda x : str(x).replace('$',''))\n",
        "data['Price'] = pd.to_numeric(data['Price'])\n",
        "data['Price'].dtype"
      ],
      "metadata": {
        "colab": {
          "base_uri": "https://localhost:8080/"
        },
        "id": "oA1ABintwmCp",
        "outputId": "876eed3b-1168-4a31-f961-db0f23cf5ab3"
      },
      "execution_count": null,
      "outputs": [
        {
          "output_type": "execute_result",
          "data": {
            "text/plain": [
              "dtype('float64')"
            ]
          },
          "metadata": {},
          "execution_count": 29
        }
      ]
    },
    {
      "cell_type": "markdown",
      "source": [
        "##Cleaning 'Size' :\n",
        "\n",
        "\n",
        "> size analysis - value_counts()\n",
        "\n",
        "\n",
        "1. Replace 'Varies with...' with np.NaN\n",
        "2. Replace 'M' to e+6 or 000000\n",
        "3. Replace 'K' to e+3 or 000\n",
        "4. Remove '+' \n",
        "5. remove ',' \n",
        "6. Convert all Sizes to numeric value"
      ],
      "metadata": {
        "id": "NVT23L7or_Ro"
      }
    },
    {
      "cell_type": "code",
      "source": [
        "data['Size'].value_counts()"
      ],
      "metadata": {
        "colab": {
          "base_uri": "https://localhost:8080/"
        },
        "id": "WeXCB3f87Ey3",
        "outputId": "1ffbe5b5-c2cc-4ade-f926-3c7d4bdb188f"
      },
      "execution_count": null,
      "outputs": [
        {
          "output_type": "execute_result",
          "data": {
            "text/plain": [
              "Varies with device    1695\n",
              "11M                    198\n",
              "12M                    196\n",
              "14M                    194\n",
              "13M                    191\n",
              "                      ... \n",
              "430k                     1\n",
              "429k                     1\n",
              "200k                     1\n",
              "460k                     1\n",
              "619k                     1\n",
              "Name: Size, Length: 461, dtype: int64"
            ]
          },
          "metadata": {},
          "execution_count": 30
        }
      ]
    },
    {
      "cell_type": "code",
      "source": [
        "data['Size'] = data.Size.replace(\"Varies with device\",np.nan)\n",
        "data['Size'] = data.Size.str.replace(\"M\",\"e+6\")\n",
        "data['Size'] = data.Size.str.replace(\"k\",\"e+3\")\n",
        "data['Size'] = data.Size.replace(\"1,000+\",1000)\n",
        "data['Size'] = pd.to_numeric(data['Size'])\n",
        "data['Size'].dtype"
      ],
      "metadata": {
        "colab": {
          "base_uri": "https://localhost:8080/"
        },
        "id": "EggLx4XmO7L-",
        "outputId": "6cc46539-edc7-4460-e9ce-bd266b8227d6"
      },
      "execution_count": null,
      "outputs": [
        {
          "output_type": "execute_result",
          "data": {
            "text/plain": [
              "dtype('float64')"
            ]
          },
          "metadata": {},
          "execution_count": 31
        }
      ]
    },
    {
      "cell_type": "code",
      "source": [
        "data['Size'].value_counts()"
      ],
      "metadata": {
        "colab": {
          "base_uri": "https://localhost:8080/"
        },
        "id": "V2dVPwoc6dej",
        "outputId": "b5d345be-6125-4cb9-8ecb-a56c3ab84d7e"
      },
      "execution_count": null,
      "outputs": [
        {
          "output_type": "execute_result",
          "data": {
            "text/plain": [
              "11000000.0    198\n",
              "12000000.0    196\n",
              "14000000.0    194\n",
              "13000000.0    191\n",
              "15000000.0    184\n",
              "             ... \n",
              "430000.0        1\n",
              "429000.0        1\n",
              "200000.0        1\n",
              "460000.0        1\n",
              "619000.0        1\n",
              "Name: Size, Length: 459, dtype: int64"
            ]
          },
          "metadata": {},
          "execution_count": 32
        }
      ]
    },
    {
      "cell_type": "markdown",
      "source": [
        "##Dropping rows with Duplicate APP data"
      ],
      "metadata": {
        "id": "AdrdCLaGPnBb"
      }
    },
    {
      "cell_type": "code",
      "source": [
        "data['App'].value_counts()"
      ],
      "metadata": {
        "colab": {
          "base_uri": "https://localhost:8080/"
        },
        "id": "1rcJOnjUPuB6",
        "outputId": "4326d147-004f-4869-e082-3515b394b488"
      },
      "execution_count": null,
      "outputs": [
        {
          "output_type": "execute_result",
          "data": {
            "text/plain": [
              "ROBLOX                                                9\n",
              "CBS Sports App - Scores, News, Stats & Watch Live     8\n",
              "ESPN                                                  7\n",
              "Duolingo: Learn Languages Free                        7\n",
              "Candy Crush Saga                                      7\n",
              "                                                     ..\n",
              "Meet U - Get Friends for Snapchat, Kik & Instagram    1\n",
              "U-Report                                              1\n",
              "U of I Community Credit Union                         1\n",
              "Waiting For U Launcher Theme                          1\n",
              "iHoroscope - 2018 Daily Horoscope & Astrology         1\n",
              "Name: App, Length: 9659, dtype: int64"
            ]
          },
          "metadata": {},
          "execution_count": 33
        }
      ]
    },
    {
      "cell_type": "code",
      "source": [
        "data.App.count()"
      ],
      "metadata": {
        "colab": {
          "base_uri": "https://localhost:8080/"
        },
        "id": "uVrICXi4RtfV",
        "outputId": "f0272ceb-c23a-42fe-fcdc-68c88f473e93"
      },
      "execution_count": null,
      "outputs": [
        {
          "output_type": "execute_result",
          "data": {
            "text/plain": [
              "10840"
            ]
          },
          "metadata": {},
          "execution_count": 34
        }
      ]
    },
    {
      "cell_type": "code",
      "source": [
        "data = data.drop_duplicates(subset='App', keep=\"first\")"
      ],
      "metadata": {
        "id": "_kyRh9xUQpZz"
      },
      "execution_count": null,
      "outputs": []
    },
    {
      "cell_type": "code",
      "source": [
        "data.App.count()"
      ],
      "metadata": {
        "colab": {
          "base_uri": "https://localhost:8080/"
        },
        "id": "21Z_i7nMRqU-",
        "outputId": "5095dcc5-2aac-4f3f-a588-36ae90b8f7f2"
      },
      "execution_count": null,
      "outputs": [
        {
          "output_type": "execute_result",
          "data": {
            "text/plain": [
              "9659"
            ]
          },
          "metadata": {},
          "execution_count": 36
        }
      ]
    },
    {
      "cell_type": "code",
      "source": [
        "data['App'].value_counts()"
      ],
      "metadata": {
        "colab": {
          "base_uri": "https://localhost:8080/"
        },
        "id": "krE_-UiEQZSw",
        "outputId": "1702a92d-cd8f-459b-8477-7796c51bb49c"
      },
      "execution_count": null,
      "outputs": [
        {
          "output_type": "execute_result",
          "data": {
            "text/plain": [
              "Photo Editor & Candy Camera & Grid & ScrapBook    1\n",
              "Tic Tac CK                                        1\n",
              "INFAMY RO                                         1\n",
              "CK Call NEW                                       1\n",
              "Ck Coif                                           1\n",
              "                                                 ..\n",
              "Bike Race Free - Top Motorcycle Racing Games      1\n",
              "Dance School Stories - Dance Dreams Come True     1\n",
              "3D Bowling                                        1\n",
              "Mind Games Pro                                    1\n",
              "iHoroscope - 2018 Daily Horoscope & Astrology     1\n",
              "Name: App, Length: 9659, dtype: int64"
            ]
          },
          "metadata": {},
          "execution_count": 37
        }
      ]
    },
    {
      "cell_type": "markdown",
      "source": [
        "##Fixing 'Reviews' data type"
      ],
      "metadata": {
        "id": "7mf9T1pHBuBB"
      }
    },
    {
      "cell_type": "code",
      "source": [
        "type(data.Reviews[1000])"
      ],
      "metadata": {
        "colab": {
          "base_uri": "https://localhost:8080/"
        },
        "id": "sSpRDHlpB2ie",
        "outputId": "aa7f339e-1db6-4683-8491-65cebce516e6"
      },
      "execution_count": null,
      "outputs": [
        {
          "output_type": "execute_result",
          "data": {
            "text/plain": [
              "str"
            ]
          },
          "metadata": {},
          "execution_count": 38
        }
      ]
    },
    {
      "cell_type": "code",
      "source": [
        "data['Reviews'] = pd.to_numeric(data['Reviews'])"
      ],
      "metadata": {
        "id": "rQsHMEVYCAYb"
      },
      "execution_count": null,
      "outputs": []
    },
    {
      "cell_type": "code",
      "source": [
        "type(data.Reviews[1000])"
      ],
      "metadata": {
        "colab": {
          "base_uri": "https://localhost:8080/"
        },
        "id": "wZ3gPRZvCs_D",
        "outputId": "201f8b54-1e6a-4d44-e32c-a9e194db26fb"
      },
      "execution_count": null,
      "outputs": [
        {
          "output_type": "execute_result",
          "data": {
            "text/plain": [
              "numpy.int64"
            ]
          },
          "metadata": {},
          "execution_count": 40
        }
      ]
    },
    {
      "cell_type": "markdown",
      "source": [
        "##Fixing 'Genres' by spliting at ';' and converting into list"
      ],
      "metadata": {
        "id": "92QgAw-ZjqP7"
      }
    },
    {
      "cell_type": "code",
      "source": [
        "data['Genres']"
      ],
      "metadata": {
        "colab": {
          "base_uri": "https://localhost:8080/"
        },
        "id": "8W_OaPr9j06L",
        "outputId": "5b4a9ac4-7427-4627-d4db-4c261c0b9e56"
      },
      "execution_count": null,
      "outputs": [
        {
          "output_type": "execute_result",
          "data": {
            "text/plain": [
              "0                     Art & Design\n",
              "1        Art & Design;Pretend Play\n",
              "2                     Art & Design\n",
              "3                     Art & Design\n",
              "4          Art & Design;Creativity\n",
              "                   ...            \n",
              "10836                    Education\n",
              "10837                    Education\n",
              "10838                      Medical\n",
              "10839            Books & Reference\n",
              "10840                    Lifestyle\n",
              "Name: Genres, Length: 9659, dtype: object"
            ]
          },
          "metadata": {},
          "execution_count": 41
        }
      ]
    },
    {
      "cell_type": "code",
      "source": [
        "data['Genres'] = data['Genres'].apply(lambda x : list(x.split(';')))"
      ],
      "metadata": {
        "id": "I-HHTM6Sj4h3"
      },
      "execution_count": null,
      "outputs": []
    },
    {
      "cell_type": "code",
      "source": [
        "data['Genres']"
      ],
      "metadata": {
        "colab": {
          "base_uri": "https://localhost:8080/"
        },
        "id": "rVLLrkGWj5S0",
        "outputId": "5cd95d7d-f893-4d73-a0ab-ccd2845e895e"
      },
      "execution_count": null,
      "outputs": [
        {
          "output_type": "execute_result",
          "data": {
            "text/plain": [
              "0                      [Art & Design]\n",
              "1        [Art & Design, Pretend Play]\n",
              "2                      [Art & Design]\n",
              "3                      [Art & Design]\n",
              "4          [Art & Design, Creativity]\n",
              "                     ...             \n",
              "10836                     [Education]\n",
              "10837                     [Education]\n",
              "10838                       [Medical]\n",
              "10839             [Books & Reference]\n",
              "10840                     [Lifestyle]\n",
              "Name: Genres, Length: 9659, dtype: object"
            ]
          },
          "metadata": {},
          "execution_count": 43
        }
      ]
    },
    {
      "cell_type": "markdown",
      "source": [
        "# Data Exploration\n",
        "1. Top Category in play store.\n",
        "2. Top 3 Categories in Play Store by Content Rating.\n",
        "3. Top 10 most installed paid app and their ratings.\n",
        "4. Paid vs Free app in Play Store.\n",
        "5. Paid and free app by category in play store.\n",
        "6. App installs in each category.\n",
        "7. Top 10 category with Rating 4.0 and above.\n",
        "8. Top 10 category with highest no of reviews.\n",
        "9. Paid app in each category by Price and no of installation.\n",
        "10. App installation and rating by Size.\n",
        "11. Top App category with most reviews.\n",
        "12. Total Installed Apps by top 10 Genres having rating above 4.0"
      ],
      "metadata": {
        "id": "edisG6_BcEEU"
      }
    },
    {
      "cell_type": "markdown",
      "source": [
        "##1.Top Category in Play Store."
      ],
      "metadata": {
        "id": "_mlL-K4i8tr1"
      }
    },
    {
      "cell_type": "code",
      "source": [
        "top_cat = data.groupby(['Category']).size().sort_values(ascending=False).reset_index(name='No_of_Apps')\n",
        "top_cat"
      ],
      "metadata": {
        "colab": {
          "base_uri": "https://localhost:8080/",
          "height": 1000
        },
        "id": "2kyOexRX-5UI",
        "outputId": "f7bc2432-8328-48f4-9a87-a3fb287ad616"
      },
      "execution_count": null,
      "outputs": [
        {
          "output_type": "execute_result",
          "data": {
            "text/plain": [
              "               Category  No_of_Apps\n",
              "0                FAMILY        1832\n",
              "1                  GAME         959\n",
              "2                 TOOLS         827\n",
              "3              BUSINESS         420\n",
              "4               MEDICAL         395\n",
              "5       PERSONALIZATION         376\n",
              "6          PRODUCTIVITY         374\n",
              "7             LIFESTYLE         369\n",
              "8               FINANCE         345\n",
              "9                SPORTS         325\n",
              "10        COMMUNICATION         315\n",
              "11   HEALTH_AND_FITNESS         288\n",
              "12          PHOTOGRAPHY         281\n",
              "13   NEWS_AND_MAGAZINES         254\n",
              "14               SOCIAL         239\n",
              "15  BOOKS_AND_REFERENCE         222\n",
              "16     TRAVEL_AND_LOCAL         219\n",
              "17             SHOPPING         202\n",
              "18               DATING         171\n",
              "19        VIDEO_PLAYERS         163\n",
              "20  MAPS_AND_NAVIGATION         131\n",
              "21            EDUCATION         119\n",
              "22       FOOD_AND_DRINK         112\n",
              "23        ENTERTAINMENT         102\n",
              "24    AUTO_AND_VEHICLES          85\n",
              "25   LIBRARIES_AND_DEMO          84\n",
              "26              WEATHER          79\n",
              "27       HOUSE_AND_HOME          74\n",
              "28               EVENTS          64\n",
              "29       ART_AND_DESIGN          64\n",
              "30            PARENTING          60\n",
              "31               COMICS          56\n",
              "32               BEAUTY          53"
            ],
            "text/html": [
              "\n",
              "  <div id=\"df-dd0bd3c9-2a85-48ba-aeac-143ade5bf4ac\">\n",
              "    <div class=\"colab-df-container\">\n",
              "      <div>\n",
              "<style scoped>\n",
              "    .dataframe tbody tr th:only-of-type {\n",
              "        vertical-align: middle;\n",
              "    }\n",
              "\n",
              "    .dataframe tbody tr th {\n",
              "        vertical-align: top;\n",
              "    }\n",
              "\n",
              "    .dataframe thead th {\n",
              "        text-align: right;\n",
              "    }\n",
              "</style>\n",
              "<table border=\"1\" class=\"dataframe\">\n",
              "  <thead>\n",
              "    <tr style=\"text-align: right;\">\n",
              "      <th></th>\n",
              "      <th>Category</th>\n",
              "      <th>No_of_Apps</th>\n",
              "    </tr>\n",
              "  </thead>\n",
              "  <tbody>\n",
              "    <tr>\n",
              "      <th>0</th>\n",
              "      <td>FAMILY</td>\n",
              "      <td>1832</td>\n",
              "    </tr>\n",
              "    <tr>\n",
              "      <th>1</th>\n",
              "      <td>GAME</td>\n",
              "      <td>959</td>\n",
              "    </tr>\n",
              "    <tr>\n",
              "      <th>2</th>\n",
              "      <td>TOOLS</td>\n",
              "      <td>827</td>\n",
              "    </tr>\n",
              "    <tr>\n",
              "      <th>3</th>\n",
              "      <td>BUSINESS</td>\n",
              "      <td>420</td>\n",
              "    </tr>\n",
              "    <tr>\n",
              "      <th>4</th>\n",
              "      <td>MEDICAL</td>\n",
              "      <td>395</td>\n",
              "    </tr>\n",
              "    <tr>\n",
              "      <th>5</th>\n",
              "      <td>PERSONALIZATION</td>\n",
              "      <td>376</td>\n",
              "    </tr>\n",
              "    <tr>\n",
              "      <th>6</th>\n",
              "      <td>PRODUCTIVITY</td>\n",
              "      <td>374</td>\n",
              "    </tr>\n",
              "    <tr>\n",
              "      <th>7</th>\n",
              "      <td>LIFESTYLE</td>\n",
              "      <td>369</td>\n",
              "    </tr>\n",
              "    <tr>\n",
              "      <th>8</th>\n",
              "      <td>FINANCE</td>\n",
              "      <td>345</td>\n",
              "    </tr>\n",
              "    <tr>\n",
              "      <th>9</th>\n",
              "      <td>SPORTS</td>\n",
              "      <td>325</td>\n",
              "    </tr>\n",
              "    <tr>\n",
              "      <th>10</th>\n",
              "      <td>COMMUNICATION</td>\n",
              "      <td>315</td>\n",
              "    </tr>\n",
              "    <tr>\n",
              "      <th>11</th>\n",
              "      <td>HEALTH_AND_FITNESS</td>\n",
              "      <td>288</td>\n",
              "    </tr>\n",
              "    <tr>\n",
              "      <th>12</th>\n",
              "      <td>PHOTOGRAPHY</td>\n",
              "      <td>281</td>\n",
              "    </tr>\n",
              "    <tr>\n",
              "      <th>13</th>\n",
              "      <td>NEWS_AND_MAGAZINES</td>\n",
              "      <td>254</td>\n",
              "    </tr>\n",
              "    <tr>\n",
              "      <th>14</th>\n",
              "      <td>SOCIAL</td>\n",
              "      <td>239</td>\n",
              "    </tr>\n",
              "    <tr>\n",
              "      <th>15</th>\n",
              "      <td>BOOKS_AND_REFERENCE</td>\n",
              "      <td>222</td>\n",
              "    </tr>\n",
              "    <tr>\n",
              "      <th>16</th>\n",
              "      <td>TRAVEL_AND_LOCAL</td>\n",
              "      <td>219</td>\n",
              "    </tr>\n",
              "    <tr>\n",
              "      <th>17</th>\n",
              "      <td>SHOPPING</td>\n",
              "      <td>202</td>\n",
              "    </tr>\n",
              "    <tr>\n",
              "      <th>18</th>\n",
              "      <td>DATING</td>\n",
              "      <td>171</td>\n",
              "    </tr>\n",
              "    <tr>\n",
              "      <th>19</th>\n",
              "      <td>VIDEO_PLAYERS</td>\n",
              "      <td>163</td>\n",
              "    </tr>\n",
              "    <tr>\n",
              "      <th>20</th>\n",
              "      <td>MAPS_AND_NAVIGATION</td>\n",
              "      <td>131</td>\n",
              "    </tr>\n",
              "    <tr>\n",
              "      <th>21</th>\n",
              "      <td>EDUCATION</td>\n",
              "      <td>119</td>\n",
              "    </tr>\n",
              "    <tr>\n",
              "      <th>22</th>\n",
              "      <td>FOOD_AND_DRINK</td>\n",
              "      <td>112</td>\n",
              "    </tr>\n",
              "    <tr>\n",
              "      <th>23</th>\n",
              "      <td>ENTERTAINMENT</td>\n",
              "      <td>102</td>\n",
              "    </tr>\n",
              "    <tr>\n",
              "      <th>24</th>\n",
              "      <td>AUTO_AND_VEHICLES</td>\n",
              "      <td>85</td>\n",
              "    </tr>\n",
              "    <tr>\n",
              "      <th>25</th>\n",
              "      <td>LIBRARIES_AND_DEMO</td>\n",
              "      <td>84</td>\n",
              "    </tr>\n",
              "    <tr>\n",
              "      <th>26</th>\n",
              "      <td>WEATHER</td>\n",
              "      <td>79</td>\n",
              "    </tr>\n",
              "    <tr>\n",
              "      <th>27</th>\n",
              "      <td>HOUSE_AND_HOME</td>\n",
              "      <td>74</td>\n",
              "    </tr>\n",
              "    <tr>\n",
              "      <th>28</th>\n",
              "      <td>EVENTS</td>\n",
              "      <td>64</td>\n",
              "    </tr>\n",
              "    <tr>\n",
              "      <th>29</th>\n",
              "      <td>ART_AND_DESIGN</td>\n",
              "      <td>64</td>\n",
              "    </tr>\n",
              "    <tr>\n",
              "      <th>30</th>\n",
              "      <td>PARENTING</td>\n",
              "      <td>60</td>\n",
              "    </tr>\n",
              "    <tr>\n",
              "      <th>31</th>\n",
              "      <td>COMICS</td>\n",
              "      <td>56</td>\n",
              "    </tr>\n",
              "    <tr>\n",
              "      <th>32</th>\n",
              "      <td>BEAUTY</td>\n",
              "      <td>53</td>\n",
              "    </tr>\n",
              "  </tbody>\n",
              "</table>\n",
              "</div>\n",
              "      <button class=\"colab-df-convert\" onclick=\"convertToInteractive('df-dd0bd3c9-2a85-48ba-aeac-143ade5bf4ac')\"\n",
              "              title=\"Convert this dataframe to an interactive table.\"\n",
              "              style=\"display:none;\">\n",
              "        \n",
              "  <svg xmlns=\"http://www.w3.org/2000/svg\" height=\"24px\"viewBox=\"0 0 24 24\"\n",
              "       width=\"24px\">\n",
              "    <path d=\"M0 0h24v24H0V0z\" fill=\"none\"/>\n",
              "    <path d=\"M18.56 5.44l.94 2.06.94-2.06 2.06-.94-2.06-.94-.94-2.06-.94 2.06-2.06.94zm-11 1L8.5 8.5l.94-2.06 2.06-.94-2.06-.94L8.5 2.5l-.94 2.06-2.06.94zm10 10l.94 2.06.94-2.06 2.06-.94-2.06-.94-.94-2.06-.94 2.06-2.06.94z\"/><path d=\"M17.41 7.96l-1.37-1.37c-.4-.4-.92-.59-1.43-.59-.52 0-1.04.2-1.43.59L10.3 9.45l-7.72 7.72c-.78.78-.78 2.05 0 2.83L4 21.41c.39.39.9.59 1.41.59.51 0 1.02-.2 1.41-.59l7.78-7.78 2.81-2.81c.8-.78.8-2.07 0-2.86zM5.41 20L4 18.59l7.72-7.72 1.47 1.35L5.41 20z\"/>\n",
              "  </svg>\n",
              "      </button>\n",
              "      \n",
              "  <style>\n",
              "    .colab-df-container {\n",
              "      display:flex;\n",
              "      flex-wrap:wrap;\n",
              "      gap: 12px;\n",
              "    }\n",
              "\n",
              "    .colab-df-convert {\n",
              "      background-color: #E8F0FE;\n",
              "      border: none;\n",
              "      border-radius: 50%;\n",
              "      cursor: pointer;\n",
              "      display: none;\n",
              "      fill: #1967D2;\n",
              "      height: 32px;\n",
              "      padding: 0 0 0 0;\n",
              "      width: 32px;\n",
              "    }\n",
              "\n",
              "    .colab-df-convert:hover {\n",
              "      background-color: #E2EBFA;\n",
              "      box-shadow: 0px 1px 2px rgba(60, 64, 67, 0.3), 0px 1px 3px 1px rgba(60, 64, 67, 0.15);\n",
              "      fill: #174EA6;\n",
              "    }\n",
              "\n",
              "    [theme=dark] .colab-df-convert {\n",
              "      background-color: #3B4455;\n",
              "      fill: #D2E3FC;\n",
              "    }\n",
              "\n",
              "    [theme=dark] .colab-df-convert:hover {\n",
              "      background-color: #434B5C;\n",
              "      box-shadow: 0px 1px 3px 1px rgba(0, 0, 0, 0.15);\n",
              "      filter: drop-shadow(0px 1px 2px rgba(0, 0, 0, 0.3));\n",
              "      fill: #FFFFFF;\n",
              "    }\n",
              "  </style>\n",
              "\n",
              "      <script>\n",
              "        const buttonEl =\n",
              "          document.querySelector('#df-dd0bd3c9-2a85-48ba-aeac-143ade5bf4ac button.colab-df-convert');\n",
              "        buttonEl.style.display =\n",
              "          google.colab.kernel.accessAllowed ? 'block' : 'none';\n",
              "\n",
              "        async function convertToInteractive(key) {\n",
              "          const element = document.querySelector('#df-dd0bd3c9-2a85-48ba-aeac-143ade5bf4ac');\n",
              "          const dataTable =\n",
              "            await google.colab.kernel.invokeFunction('convertToInteractive',\n",
              "                                                     [key], {});\n",
              "          if (!dataTable) return;\n",
              "\n",
              "          const docLinkHtml = 'Like what you see? Visit the ' +\n",
              "            '<a target=\"_blank\" href=https://colab.research.google.com/notebooks/data_table.ipynb>data table notebook</a>'\n",
              "            + ' to learn more about interactive tables.';\n",
              "          element.innerHTML = '';\n",
              "          dataTable['output_type'] = 'display_data';\n",
              "          await google.colab.output.renderOutput(dataTable, element);\n",
              "          const docLink = document.createElement('div');\n",
              "          docLink.innerHTML = docLinkHtml;\n",
              "          element.appendChild(docLink);\n",
              "        }\n",
              "      </script>\n",
              "    </div>\n",
              "  </div>\n",
              "  "
            ]
          },
          "metadata": {},
          "execution_count": 44
        }
      ]
    },
    {
      "cell_type": "code",
      "source": [
        "fig = px.bar(top_cat, \n",
        "       x = 'No_of_Apps',\n",
        "       y = 'Category',\n",
        "       title = 'Top category in Play Store',\n",
        "       labels = {'No_of_Apps' : 'No of Apps'},\n",
        "       color = 'No_of_Apps',\n",
        "       color_continuous_scale=px.colors.qualitative.Plotly)\n",
        "fig.update_layout(yaxis={'categoryorder':'total ascending'},\n",
        "                  autosize=False,\n",
        "                  width=900,\n",
        "                  height=700,)\n",
        "fig.update_traces(text=top_cat['No_of_Apps'],textposition='outside')\n",
        "fig.show()"
      ],
      "metadata": {
        "colab": {
          "base_uri": "https://localhost:8080/",
          "height": 717
        },
        "id": "5iqlYx28DwKt",
        "outputId": "1d22e562-99f1-4ae9-872a-ce6dc8789d1d"
      },
      "execution_count": null,
      "outputs": [
        {
          "output_type": "display_data",
          "data": {
            "text/html": [
              "<html>\n",
              "<head><meta charset=\"utf-8\" /></head>\n",
              "<body>\n",
              "    <div>            <script src=\"https://cdnjs.cloudflare.com/ajax/libs/mathjax/2.7.5/MathJax.js?config=TeX-AMS-MML_SVG\"></script><script type=\"text/javascript\">if (window.MathJax) {MathJax.Hub.Config({SVG: {font: \"STIX-Web\"}});}</script>                <script type=\"text/javascript\">window.PlotlyConfig = {MathJaxConfig: 'local'};</script>\n",
              "        <script src=\"https://cdn.plot.ly/plotly-2.8.3.min.js\"></script>                <div id=\"883bde80-27b3-45e5-a396-d17dd7c52c69\" class=\"plotly-graph-div\" style=\"height:700px; width:900px;\"></div>            <script type=\"text/javascript\">                                    window.PLOTLYENV=window.PLOTLYENV || {};                                    if (document.getElementById(\"883bde80-27b3-45e5-a396-d17dd7c52c69\")) {                    Plotly.newPlot(                        \"883bde80-27b3-45e5-a396-d17dd7c52c69\",                        [{\"alignmentgroup\":\"True\",\"hovertemplate\":\"No of Apps=%{marker.color}<br>Category=%{y}<extra></extra>\",\"legendgroup\":\"\",\"marker\":{\"color\":[1832,959,827,420,395,376,374,369,345,325,315,288,281,254,239,222,219,202,171,163,131,119,112,102,85,84,79,74,64,64,60,56,53],\"coloraxis\":\"coloraxis\",\"pattern\":{\"shape\":\"\"}},\"name\":\"\",\"offsetgroup\":\"\",\"orientation\":\"h\",\"showlegend\":false,\"textposition\":\"outside\",\"x\":[1832,959,827,420,395,376,374,369,345,325,315,288,281,254,239,222,219,202,171,163,131,119,112,102,85,84,79,74,64,64,60,56,53],\"xaxis\":\"x\",\"y\":[\"FAMILY\",\"GAME\",\"TOOLS\",\"BUSINESS\",\"MEDICAL\",\"PERSONALIZATION\",\"PRODUCTIVITY\",\"LIFESTYLE\",\"FINANCE\",\"SPORTS\",\"COMMUNICATION\",\"HEALTH_AND_FITNESS\",\"PHOTOGRAPHY\",\"NEWS_AND_MAGAZINES\",\"SOCIAL\",\"BOOKS_AND_REFERENCE\",\"TRAVEL_AND_LOCAL\",\"SHOPPING\",\"DATING\",\"VIDEO_PLAYERS\",\"MAPS_AND_NAVIGATION\",\"EDUCATION\",\"FOOD_AND_DRINK\",\"ENTERTAINMENT\",\"AUTO_AND_VEHICLES\",\"LIBRARIES_AND_DEMO\",\"WEATHER\",\"HOUSE_AND_HOME\",\"EVENTS\",\"ART_AND_DESIGN\",\"PARENTING\",\"COMICS\",\"BEAUTY\"],\"yaxis\":\"y\",\"type\":\"bar\",\"text\":[1832.0,959.0,827.0,420.0,395.0,376.0,374.0,369.0,345.0,325.0,315.0,288.0,281.0,254.0,239.0,222.0,219.0,202.0,171.0,163.0,131.0,119.0,112.0,102.0,85.0,84.0,79.0,74.0,64.0,64.0,60.0,56.0,53.0]}],                        {\"template\":{\"data\":{\"bar\":[{\"error_x\":{\"color\":\"#2a3f5f\"},\"error_y\":{\"color\":\"#2a3f5f\"},\"marker\":{\"line\":{\"color\":\"#E5ECF6\",\"width\":0.5},\"pattern\":{\"fillmode\":\"overlay\",\"size\":10,\"solidity\":0.2}},\"type\":\"bar\"}],\"barpolar\":[{\"marker\":{\"line\":{\"color\":\"#E5ECF6\",\"width\":0.5},\"pattern\":{\"fillmode\":\"overlay\",\"size\":10,\"solidity\":0.2}},\"type\":\"barpolar\"}],\"carpet\":[{\"aaxis\":{\"endlinecolor\":\"#2a3f5f\",\"gridcolor\":\"white\",\"linecolor\":\"white\",\"minorgridcolor\":\"white\",\"startlinecolor\":\"#2a3f5f\"},\"baxis\":{\"endlinecolor\":\"#2a3f5f\",\"gridcolor\":\"white\",\"linecolor\":\"white\",\"minorgridcolor\":\"white\",\"startlinecolor\":\"#2a3f5f\"},\"type\":\"carpet\"}],\"choropleth\":[{\"colorbar\":{\"outlinewidth\":0,\"ticks\":\"\"},\"type\":\"choropleth\"}],\"contour\":[{\"colorbar\":{\"outlinewidth\":0,\"ticks\":\"\"},\"colorscale\":[[0.0,\"#0d0887\"],[0.1111111111111111,\"#46039f\"],[0.2222222222222222,\"#7201a8\"],[0.3333333333333333,\"#9c179e\"],[0.4444444444444444,\"#bd3786\"],[0.5555555555555556,\"#d8576b\"],[0.6666666666666666,\"#ed7953\"],[0.7777777777777778,\"#fb9f3a\"],[0.8888888888888888,\"#fdca26\"],[1.0,\"#f0f921\"]],\"type\":\"contour\"}],\"contourcarpet\":[{\"colorbar\":{\"outlinewidth\":0,\"ticks\":\"\"},\"type\":\"contourcarpet\"}],\"heatmap\":[{\"colorbar\":{\"outlinewidth\":0,\"ticks\":\"\"},\"colorscale\":[[0.0,\"#0d0887\"],[0.1111111111111111,\"#46039f\"],[0.2222222222222222,\"#7201a8\"],[0.3333333333333333,\"#9c179e\"],[0.4444444444444444,\"#bd3786\"],[0.5555555555555556,\"#d8576b\"],[0.6666666666666666,\"#ed7953\"],[0.7777777777777778,\"#fb9f3a\"],[0.8888888888888888,\"#fdca26\"],[1.0,\"#f0f921\"]],\"type\":\"heatmap\"}],\"heatmapgl\":[{\"colorbar\":{\"outlinewidth\":0,\"ticks\":\"\"},\"colorscale\":[[0.0,\"#0d0887\"],[0.1111111111111111,\"#46039f\"],[0.2222222222222222,\"#7201a8\"],[0.3333333333333333,\"#9c179e\"],[0.4444444444444444,\"#bd3786\"],[0.5555555555555556,\"#d8576b\"],[0.6666666666666666,\"#ed7953\"],[0.7777777777777778,\"#fb9f3a\"],[0.8888888888888888,\"#fdca26\"],[1.0,\"#f0f921\"]],\"type\":\"heatmapgl\"}],\"histogram\":[{\"marker\":{\"pattern\":{\"fillmode\":\"overlay\",\"size\":10,\"solidity\":0.2}},\"type\":\"histogram\"}],\"histogram2d\":[{\"colorbar\":{\"outlinewidth\":0,\"ticks\":\"\"},\"colorscale\":[[0.0,\"#0d0887\"],[0.1111111111111111,\"#46039f\"],[0.2222222222222222,\"#7201a8\"],[0.3333333333333333,\"#9c179e\"],[0.4444444444444444,\"#bd3786\"],[0.5555555555555556,\"#d8576b\"],[0.6666666666666666,\"#ed7953\"],[0.7777777777777778,\"#fb9f3a\"],[0.8888888888888888,\"#fdca26\"],[1.0,\"#f0f921\"]],\"type\":\"histogram2d\"}],\"histogram2dcontour\":[{\"colorbar\":{\"outlinewidth\":0,\"ticks\":\"\"},\"colorscale\":[[0.0,\"#0d0887\"],[0.1111111111111111,\"#46039f\"],[0.2222222222222222,\"#7201a8\"],[0.3333333333333333,\"#9c179e\"],[0.4444444444444444,\"#bd3786\"],[0.5555555555555556,\"#d8576b\"],[0.6666666666666666,\"#ed7953\"],[0.7777777777777778,\"#fb9f3a\"],[0.8888888888888888,\"#fdca26\"],[1.0,\"#f0f921\"]],\"type\":\"histogram2dcontour\"}],\"mesh3d\":[{\"colorbar\":{\"outlinewidth\":0,\"ticks\":\"\"},\"type\":\"mesh3d\"}],\"parcoords\":[{\"line\":{\"colorbar\":{\"outlinewidth\":0,\"ticks\":\"\"}},\"type\":\"parcoords\"}],\"pie\":[{\"automargin\":true,\"type\":\"pie\"}],\"scatter\":[{\"marker\":{\"colorbar\":{\"outlinewidth\":0,\"ticks\":\"\"}},\"type\":\"scatter\"}],\"scatter3d\":[{\"line\":{\"colorbar\":{\"outlinewidth\":0,\"ticks\":\"\"}},\"marker\":{\"colorbar\":{\"outlinewidth\":0,\"ticks\":\"\"}},\"type\":\"scatter3d\"}],\"scattercarpet\":[{\"marker\":{\"colorbar\":{\"outlinewidth\":0,\"ticks\":\"\"}},\"type\":\"scattercarpet\"}],\"scattergeo\":[{\"marker\":{\"colorbar\":{\"outlinewidth\":0,\"ticks\":\"\"}},\"type\":\"scattergeo\"}],\"scattergl\":[{\"marker\":{\"colorbar\":{\"outlinewidth\":0,\"ticks\":\"\"}},\"type\":\"scattergl\"}],\"scattermapbox\":[{\"marker\":{\"colorbar\":{\"outlinewidth\":0,\"ticks\":\"\"}},\"type\":\"scattermapbox\"}],\"scatterpolar\":[{\"marker\":{\"colorbar\":{\"outlinewidth\":0,\"ticks\":\"\"}},\"type\":\"scatterpolar\"}],\"scatterpolargl\":[{\"marker\":{\"colorbar\":{\"outlinewidth\":0,\"ticks\":\"\"}},\"type\":\"scatterpolargl\"}],\"scatterternary\":[{\"marker\":{\"colorbar\":{\"outlinewidth\":0,\"ticks\":\"\"}},\"type\":\"scatterternary\"}],\"surface\":[{\"colorbar\":{\"outlinewidth\":0,\"ticks\":\"\"},\"colorscale\":[[0.0,\"#0d0887\"],[0.1111111111111111,\"#46039f\"],[0.2222222222222222,\"#7201a8\"],[0.3333333333333333,\"#9c179e\"],[0.4444444444444444,\"#bd3786\"],[0.5555555555555556,\"#d8576b\"],[0.6666666666666666,\"#ed7953\"],[0.7777777777777778,\"#fb9f3a\"],[0.8888888888888888,\"#fdca26\"],[1.0,\"#f0f921\"]],\"type\":\"surface\"}],\"table\":[{\"cells\":{\"fill\":{\"color\":\"#EBF0F8\"},\"line\":{\"color\":\"white\"}},\"header\":{\"fill\":{\"color\":\"#C8D4E3\"},\"line\":{\"color\":\"white\"}},\"type\":\"table\"}]},\"layout\":{\"annotationdefaults\":{\"arrowcolor\":\"#2a3f5f\",\"arrowhead\":0,\"arrowwidth\":1},\"autotypenumbers\":\"strict\",\"coloraxis\":{\"colorbar\":{\"outlinewidth\":0,\"ticks\":\"\"}},\"colorscale\":{\"diverging\":[[0,\"#8e0152\"],[0.1,\"#c51b7d\"],[0.2,\"#de77ae\"],[0.3,\"#f1b6da\"],[0.4,\"#fde0ef\"],[0.5,\"#f7f7f7\"],[0.6,\"#e6f5d0\"],[0.7,\"#b8e186\"],[0.8,\"#7fbc41\"],[0.9,\"#4d9221\"],[1,\"#276419\"]],\"sequential\":[[0.0,\"#0d0887\"],[0.1111111111111111,\"#46039f\"],[0.2222222222222222,\"#7201a8\"],[0.3333333333333333,\"#9c179e\"],[0.4444444444444444,\"#bd3786\"],[0.5555555555555556,\"#d8576b\"],[0.6666666666666666,\"#ed7953\"],[0.7777777777777778,\"#fb9f3a\"],[0.8888888888888888,\"#fdca26\"],[1.0,\"#f0f921\"]],\"sequentialminus\":[[0.0,\"#0d0887\"],[0.1111111111111111,\"#46039f\"],[0.2222222222222222,\"#7201a8\"],[0.3333333333333333,\"#9c179e\"],[0.4444444444444444,\"#bd3786\"],[0.5555555555555556,\"#d8576b\"],[0.6666666666666666,\"#ed7953\"],[0.7777777777777778,\"#fb9f3a\"],[0.8888888888888888,\"#fdca26\"],[1.0,\"#f0f921\"]]},\"colorway\":[\"#636efa\",\"#EF553B\",\"#00cc96\",\"#ab63fa\",\"#FFA15A\",\"#19d3f3\",\"#FF6692\",\"#B6E880\",\"#FF97FF\",\"#FECB52\"],\"font\":{\"color\":\"#2a3f5f\"},\"geo\":{\"bgcolor\":\"white\",\"lakecolor\":\"white\",\"landcolor\":\"#E5ECF6\",\"showlakes\":true,\"showland\":true,\"subunitcolor\":\"white\"},\"hoverlabel\":{\"align\":\"left\"},\"hovermode\":\"closest\",\"mapbox\":{\"style\":\"light\"},\"paper_bgcolor\":\"white\",\"plot_bgcolor\":\"#E5ECF6\",\"polar\":{\"angularaxis\":{\"gridcolor\":\"white\",\"linecolor\":\"white\",\"ticks\":\"\"},\"bgcolor\":\"#E5ECF6\",\"radialaxis\":{\"gridcolor\":\"white\",\"linecolor\":\"white\",\"ticks\":\"\"}},\"scene\":{\"xaxis\":{\"backgroundcolor\":\"#E5ECF6\",\"gridcolor\":\"white\",\"gridwidth\":2,\"linecolor\":\"white\",\"showbackground\":true,\"ticks\":\"\",\"zerolinecolor\":\"white\"},\"yaxis\":{\"backgroundcolor\":\"#E5ECF6\",\"gridcolor\":\"white\",\"gridwidth\":2,\"linecolor\":\"white\",\"showbackground\":true,\"ticks\":\"\",\"zerolinecolor\":\"white\"},\"zaxis\":{\"backgroundcolor\":\"#E5ECF6\",\"gridcolor\":\"white\",\"gridwidth\":2,\"linecolor\":\"white\",\"showbackground\":true,\"ticks\":\"\",\"zerolinecolor\":\"white\"}},\"shapedefaults\":{\"line\":{\"color\":\"#2a3f5f\"}},\"ternary\":{\"aaxis\":{\"gridcolor\":\"white\",\"linecolor\":\"white\",\"ticks\":\"\"},\"baxis\":{\"gridcolor\":\"white\",\"linecolor\":\"white\",\"ticks\":\"\"},\"bgcolor\":\"#E5ECF6\",\"caxis\":{\"gridcolor\":\"white\",\"linecolor\":\"white\",\"ticks\":\"\"}},\"title\":{\"x\":0.05},\"xaxis\":{\"automargin\":true,\"gridcolor\":\"white\",\"linecolor\":\"white\",\"ticks\":\"\",\"title\":{\"standoff\":15},\"zerolinecolor\":\"white\",\"zerolinewidth\":2},\"yaxis\":{\"automargin\":true,\"gridcolor\":\"white\",\"linecolor\":\"white\",\"ticks\":\"\",\"title\":{\"standoff\":15},\"zerolinecolor\":\"white\",\"zerolinewidth\":2}}},\"xaxis\":{\"anchor\":\"y\",\"domain\":[0.0,1.0],\"title\":{\"text\":\"No of Apps\"}},\"yaxis\":{\"anchor\":\"x\",\"domain\":[0.0,1.0],\"title\":{\"text\":\"Category\"},\"categoryorder\":\"total ascending\"},\"coloraxis\":{\"colorbar\":{\"title\":{\"text\":\"No of Apps\"}},\"colorscale\":[[0.0,\"#636EFA\"],[0.1111111111111111,\"#EF553B\"],[0.2222222222222222,\"#00CC96\"],[0.3333333333333333,\"#AB63FA\"],[0.4444444444444444,\"#FFA15A\"],[0.5555555555555556,\"#19D3F3\"],[0.6666666666666666,\"#FF6692\"],[0.7777777777777778,\"#B6E880\"],[0.8888888888888888,\"#FF97FF\"],[1.0,\"#FECB52\"]]},\"legend\":{\"tracegroupgap\":0},\"title\":{\"text\":\"Top category in Play Store\"},\"barmode\":\"relative\",\"autosize\":false,\"width\":900,\"height\":700},                        {\"responsive\": true}                    ).then(function(){\n",
              "                            \n",
              "var gd = document.getElementById('883bde80-27b3-45e5-a396-d17dd7c52c69');\n",
              "var x = new MutationObserver(function (mutations, observer) {{\n",
              "        var display = window.getComputedStyle(gd).display;\n",
              "        if (!display || display === 'none') {{\n",
              "            console.log([gd, 'removed!']);\n",
              "            Plotly.purge(gd);\n",
              "            observer.disconnect();\n",
              "        }}\n",
              "}});\n",
              "\n",
              "// Listen for the removal of the full notebook cells\n",
              "var notebookContainer = gd.closest('#notebook-container');\n",
              "if (notebookContainer) {{\n",
              "    x.observe(notebookContainer, {childList: true});\n",
              "}}\n",
              "\n",
              "// Listen for the clearing of the current output cell\n",
              "var outputEl = gd.closest('.output');\n",
              "if (outputEl) {{\n",
              "    x.observe(outputEl, {childList: true});\n",
              "}}\n",
              "\n",
              "                        })                };                            </script>        </div>\n",
              "</body>\n",
              "</html>"
            ]
          },
          "metadata": {}
        }
      ]
    },
    {
      "cell_type": "markdown",
      "source": [
        "##2.Top 3 Categories in Play Store by Content Rating"
      ],
      "metadata": {
        "id": "tq73Qc3oNU1-"
      }
    },
    {
      "cell_type": "code",
      "source": [
        "ratingbycategory = data.groupby(['Content_Rating'])['Category'].value_counts().groupby(level=0).head(3).sort_values(ascending=False).reset_index(name='count')"
      ],
      "metadata": {
        "id": "URt5zfswjGmJ"
      },
      "execution_count": null,
      "outputs": []
    },
    {
      "cell_type": "code",
      "source": [
        "ratingbycategory"
      ],
      "metadata": {
        "colab": {
          "base_uri": "https://localhost:8080/",
          "height": 551
        },
        "id": "y6rvvF6tPbZu",
        "outputId": "fbde41d5-25be-4c1a-8464-d9f6870adf65"
      },
      "execution_count": null,
      "outputs": [
        {
          "output_type": "execute_result",
          "data": {
            "text/plain": [
              "     Content_Rating            Category  count\n",
              "0          Everyone              FAMILY   1431\n",
              "1          Everyone               TOOLS    819\n",
              "2          Everyone                GAME    493\n",
              "3              Teen                GAME    295\n",
              "4              Teen              FAMILY    240\n",
              "5        Mature 17+              DATING    145\n",
              "6      Everyone 10+              FAMILY    110\n",
              "7      Everyone 10+                GAME    106\n",
              "8              Teen              SOCIAL    105\n",
              "9        Mature 17+                GAME     65\n",
              "10       Mature 17+              FAMILY     50\n",
              "11     Everyone 10+  NEWS_AND_MAGAZINES     46\n",
              "12  Adults only 18+              COMICS      2\n",
              "13  Adults only 18+              SPORTS      1\n",
              "14          Unrated              FAMILY      1\n",
              "15          Unrated               TOOLS      1"
            ],
            "text/html": [
              "\n",
              "  <div id=\"df-2238ee65-0b69-4151-bd7b-6dc61cfec169\">\n",
              "    <div class=\"colab-df-container\">\n",
              "      <div>\n",
              "<style scoped>\n",
              "    .dataframe tbody tr th:only-of-type {\n",
              "        vertical-align: middle;\n",
              "    }\n",
              "\n",
              "    .dataframe tbody tr th {\n",
              "        vertical-align: top;\n",
              "    }\n",
              "\n",
              "    .dataframe thead th {\n",
              "        text-align: right;\n",
              "    }\n",
              "</style>\n",
              "<table border=\"1\" class=\"dataframe\">\n",
              "  <thead>\n",
              "    <tr style=\"text-align: right;\">\n",
              "      <th></th>\n",
              "      <th>Content_Rating</th>\n",
              "      <th>Category</th>\n",
              "      <th>count</th>\n",
              "    </tr>\n",
              "  </thead>\n",
              "  <tbody>\n",
              "    <tr>\n",
              "      <th>0</th>\n",
              "      <td>Everyone</td>\n",
              "      <td>FAMILY</td>\n",
              "      <td>1431</td>\n",
              "    </tr>\n",
              "    <tr>\n",
              "      <th>1</th>\n",
              "      <td>Everyone</td>\n",
              "      <td>TOOLS</td>\n",
              "      <td>819</td>\n",
              "    </tr>\n",
              "    <tr>\n",
              "      <th>2</th>\n",
              "      <td>Everyone</td>\n",
              "      <td>GAME</td>\n",
              "      <td>493</td>\n",
              "    </tr>\n",
              "    <tr>\n",
              "      <th>3</th>\n",
              "      <td>Teen</td>\n",
              "      <td>GAME</td>\n",
              "      <td>295</td>\n",
              "    </tr>\n",
              "    <tr>\n",
              "      <th>4</th>\n",
              "      <td>Teen</td>\n",
              "      <td>FAMILY</td>\n",
              "      <td>240</td>\n",
              "    </tr>\n",
              "    <tr>\n",
              "      <th>5</th>\n",
              "      <td>Mature 17+</td>\n",
              "      <td>DATING</td>\n",
              "      <td>145</td>\n",
              "    </tr>\n",
              "    <tr>\n",
              "      <th>6</th>\n",
              "      <td>Everyone 10+</td>\n",
              "      <td>FAMILY</td>\n",
              "      <td>110</td>\n",
              "    </tr>\n",
              "    <tr>\n",
              "      <th>7</th>\n",
              "      <td>Everyone 10+</td>\n",
              "      <td>GAME</td>\n",
              "      <td>106</td>\n",
              "    </tr>\n",
              "    <tr>\n",
              "      <th>8</th>\n",
              "      <td>Teen</td>\n",
              "      <td>SOCIAL</td>\n",
              "      <td>105</td>\n",
              "    </tr>\n",
              "    <tr>\n",
              "      <th>9</th>\n",
              "      <td>Mature 17+</td>\n",
              "      <td>GAME</td>\n",
              "      <td>65</td>\n",
              "    </tr>\n",
              "    <tr>\n",
              "      <th>10</th>\n",
              "      <td>Mature 17+</td>\n",
              "      <td>FAMILY</td>\n",
              "      <td>50</td>\n",
              "    </tr>\n",
              "    <tr>\n",
              "      <th>11</th>\n",
              "      <td>Everyone 10+</td>\n",
              "      <td>NEWS_AND_MAGAZINES</td>\n",
              "      <td>46</td>\n",
              "    </tr>\n",
              "    <tr>\n",
              "      <th>12</th>\n",
              "      <td>Adults only 18+</td>\n",
              "      <td>COMICS</td>\n",
              "      <td>2</td>\n",
              "    </tr>\n",
              "    <tr>\n",
              "      <th>13</th>\n",
              "      <td>Adults only 18+</td>\n",
              "      <td>SPORTS</td>\n",
              "      <td>1</td>\n",
              "    </tr>\n",
              "    <tr>\n",
              "      <th>14</th>\n",
              "      <td>Unrated</td>\n",
              "      <td>FAMILY</td>\n",
              "      <td>1</td>\n",
              "    </tr>\n",
              "    <tr>\n",
              "      <th>15</th>\n",
              "      <td>Unrated</td>\n",
              "      <td>TOOLS</td>\n",
              "      <td>1</td>\n",
              "    </tr>\n",
              "  </tbody>\n",
              "</table>\n",
              "</div>\n",
              "      <button class=\"colab-df-convert\" onclick=\"convertToInteractive('df-2238ee65-0b69-4151-bd7b-6dc61cfec169')\"\n",
              "              title=\"Convert this dataframe to an interactive table.\"\n",
              "              style=\"display:none;\">\n",
              "        \n",
              "  <svg xmlns=\"http://www.w3.org/2000/svg\" height=\"24px\"viewBox=\"0 0 24 24\"\n",
              "       width=\"24px\">\n",
              "    <path d=\"M0 0h24v24H0V0z\" fill=\"none\"/>\n",
              "    <path d=\"M18.56 5.44l.94 2.06.94-2.06 2.06-.94-2.06-.94-.94-2.06-.94 2.06-2.06.94zm-11 1L8.5 8.5l.94-2.06 2.06-.94-2.06-.94L8.5 2.5l-.94 2.06-2.06.94zm10 10l.94 2.06.94-2.06 2.06-.94-2.06-.94-.94-2.06-.94 2.06-2.06.94z\"/><path d=\"M17.41 7.96l-1.37-1.37c-.4-.4-.92-.59-1.43-.59-.52 0-1.04.2-1.43.59L10.3 9.45l-7.72 7.72c-.78.78-.78 2.05 0 2.83L4 21.41c.39.39.9.59 1.41.59.51 0 1.02-.2 1.41-.59l7.78-7.78 2.81-2.81c.8-.78.8-2.07 0-2.86zM5.41 20L4 18.59l7.72-7.72 1.47 1.35L5.41 20z\"/>\n",
              "  </svg>\n",
              "      </button>\n",
              "      \n",
              "  <style>\n",
              "    .colab-df-container {\n",
              "      display:flex;\n",
              "      flex-wrap:wrap;\n",
              "      gap: 12px;\n",
              "    }\n",
              "\n",
              "    .colab-df-convert {\n",
              "      background-color: #E8F0FE;\n",
              "      border: none;\n",
              "      border-radius: 50%;\n",
              "      cursor: pointer;\n",
              "      display: none;\n",
              "      fill: #1967D2;\n",
              "      height: 32px;\n",
              "      padding: 0 0 0 0;\n",
              "      width: 32px;\n",
              "    }\n",
              "\n",
              "    .colab-df-convert:hover {\n",
              "      background-color: #E2EBFA;\n",
              "      box-shadow: 0px 1px 2px rgba(60, 64, 67, 0.3), 0px 1px 3px 1px rgba(60, 64, 67, 0.15);\n",
              "      fill: #174EA6;\n",
              "    }\n",
              "\n",
              "    [theme=dark] .colab-df-convert {\n",
              "      background-color: #3B4455;\n",
              "      fill: #D2E3FC;\n",
              "    }\n",
              "\n",
              "    [theme=dark] .colab-df-convert:hover {\n",
              "      background-color: #434B5C;\n",
              "      box-shadow: 0px 1px 3px 1px rgba(0, 0, 0, 0.15);\n",
              "      filter: drop-shadow(0px 1px 2px rgba(0, 0, 0, 0.3));\n",
              "      fill: #FFFFFF;\n",
              "    }\n",
              "  </style>\n",
              "\n",
              "      <script>\n",
              "        const buttonEl =\n",
              "          document.querySelector('#df-2238ee65-0b69-4151-bd7b-6dc61cfec169 button.colab-df-convert');\n",
              "        buttonEl.style.display =\n",
              "          google.colab.kernel.accessAllowed ? 'block' : 'none';\n",
              "\n",
              "        async function convertToInteractive(key) {\n",
              "          const element = document.querySelector('#df-2238ee65-0b69-4151-bd7b-6dc61cfec169');\n",
              "          const dataTable =\n",
              "            await google.colab.kernel.invokeFunction('convertToInteractive',\n",
              "                                                     [key], {});\n",
              "          if (!dataTable) return;\n",
              "\n",
              "          const docLinkHtml = 'Like what you see? Visit the ' +\n",
              "            '<a target=\"_blank\" href=https://colab.research.google.com/notebooks/data_table.ipynb>data table notebook</a>'\n",
              "            + ' to learn more about interactive tables.';\n",
              "          element.innerHTML = '';\n",
              "          dataTable['output_type'] = 'display_data';\n",
              "          await google.colab.output.renderOutput(dataTable, element);\n",
              "          const docLink = document.createElement('div');\n",
              "          docLink.innerHTML = docLinkHtml;\n",
              "          element.appendChild(docLink);\n",
              "        }\n",
              "      </script>\n",
              "    </div>\n",
              "  </div>\n",
              "  "
            ]
          },
          "metadata": {},
          "execution_count": 47
        }
      ]
    },
    {
      "cell_type": "code",
      "source": [
        "fig = px.sunburst(ratingbycategory, path = ['Content_Rating','Category'] , values = 'count')\n",
        "fig.show()"
      ],
      "metadata": {
        "colab": {
          "base_uri": "https://localhost:8080/",
          "height": 542
        },
        "id": "ftzKJb6Qklnl",
        "outputId": "b75e90de-5c9d-4bdd-db86-7b20f60afa32"
      },
      "execution_count": null,
      "outputs": [
        {
          "output_type": "display_data",
          "data": {
            "text/html": [
              "<html>\n",
              "<head><meta charset=\"utf-8\" /></head>\n",
              "<body>\n",
              "    <div>            <script src=\"https://cdnjs.cloudflare.com/ajax/libs/mathjax/2.7.5/MathJax.js?config=TeX-AMS-MML_SVG\"></script><script type=\"text/javascript\">if (window.MathJax) {MathJax.Hub.Config({SVG: {font: \"STIX-Web\"}});}</script>                <script type=\"text/javascript\">window.PlotlyConfig = {MathJaxConfig: 'local'};</script>\n",
              "        <script src=\"https://cdn.plot.ly/plotly-2.8.3.min.js\"></script>                <div id=\"fbea2f50-8410-49e7-932d-2341a0ea79a3\" class=\"plotly-graph-div\" style=\"height:525px; width:100%;\"></div>            <script type=\"text/javascript\">                                    window.PLOTLYENV=window.PLOTLYENV || {};                                    if (document.getElementById(\"fbea2f50-8410-49e7-932d-2341a0ea79a3\")) {                    Plotly.newPlot(                        \"fbea2f50-8410-49e7-932d-2341a0ea79a3\",                        [{\"branchvalues\":\"total\",\"domain\":{\"x\":[0.0,1.0],\"y\":[0.0,1.0]},\"hovertemplate\":\"labels=%{label}<br>count=%{value}<br>parent=%{parent}<br>id=%{id}<extra></extra>\",\"ids\":[\"Adults only 18+/COMICS\",\"Mature 17+/DATING\",\"Everyone/FAMILY\",\"Everyone 10+/FAMILY\",\"Mature 17+/FAMILY\",\"Teen/FAMILY\",\"Unrated/FAMILY\",\"Everyone/GAME\",\"Everyone 10+/GAME\",\"Mature 17+/GAME\",\"Teen/GAME\",\"Everyone 10+/NEWS_AND_MAGAZINES\",\"Teen/SOCIAL\",\"Adults only 18+/SPORTS\",\"Everyone/TOOLS\",\"Unrated/TOOLS\",\"Adults only 18+\",\"Everyone\",\"Everyone 10+\",\"Mature 17+\",\"Teen\",\"Unrated\"],\"labels\":[\"COMICS\",\"DATING\",\"FAMILY\",\"FAMILY\",\"FAMILY\",\"FAMILY\",\"FAMILY\",\"GAME\",\"GAME\",\"GAME\",\"GAME\",\"NEWS_AND_MAGAZINES\",\"SOCIAL\",\"SPORTS\",\"TOOLS\",\"TOOLS\",\"Adults only 18+\",\"Everyone\",\"Everyone 10+\",\"Mature 17+\",\"Teen\",\"Unrated\"],\"name\":\"\",\"parents\":[\"Adults only 18+\",\"Mature 17+\",\"Everyone\",\"Everyone 10+\",\"Mature 17+\",\"Teen\",\"Unrated\",\"Everyone\",\"Everyone 10+\",\"Mature 17+\",\"Teen\",\"Everyone 10+\",\"Teen\",\"Adults only 18+\",\"Everyone\",\"Unrated\",\"\",\"\",\"\",\"\",\"\",\"\"],\"values\":[2,145,1431,110,50,240,1,493,106,65,295,46,105,1,819,1,3,2743,262,260,640,2],\"type\":\"sunburst\"}],                        {\"template\":{\"data\":{\"bar\":[{\"error_x\":{\"color\":\"#2a3f5f\"},\"error_y\":{\"color\":\"#2a3f5f\"},\"marker\":{\"line\":{\"color\":\"#E5ECF6\",\"width\":0.5},\"pattern\":{\"fillmode\":\"overlay\",\"size\":10,\"solidity\":0.2}},\"type\":\"bar\"}],\"barpolar\":[{\"marker\":{\"line\":{\"color\":\"#E5ECF6\",\"width\":0.5},\"pattern\":{\"fillmode\":\"overlay\",\"size\":10,\"solidity\":0.2}},\"type\":\"barpolar\"}],\"carpet\":[{\"aaxis\":{\"endlinecolor\":\"#2a3f5f\",\"gridcolor\":\"white\",\"linecolor\":\"white\",\"minorgridcolor\":\"white\",\"startlinecolor\":\"#2a3f5f\"},\"baxis\":{\"endlinecolor\":\"#2a3f5f\",\"gridcolor\":\"white\",\"linecolor\":\"white\",\"minorgridcolor\":\"white\",\"startlinecolor\":\"#2a3f5f\"},\"type\":\"carpet\"}],\"choropleth\":[{\"colorbar\":{\"outlinewidth\":0,\"ticks\":\"\"},\"type\":\"choropleth\"}],\"contour\":[{\"colorbar\":{\"outlinewidth\":0,\"ticks\":\"\"},\"colorscale\":[[0.0,\"#0d0887\"],[0.1111111111111111,\"#46039f\"],[0.2222222222222222,\"#7201a8\"],[0.3333333333333333,\"#9c179e\"],[0.4444444444444444,\"#bd3786\"],[0.5555555555555556,\"#d8576b\"],[0.6666666666666666,\"#ed7953\"],[0.7777777777777778,\"#fb9f3a\"],[0.8888888888888888,\"#fdca26\"],[1.0,\"#f0f921\"]],\"type\":\"contour\"}],\"contourcarpet\":[{\"colorbar\":{\"outlinewidth\":0,\"ticks\":\"\"},\"type\":\"contourcarpet\"}],\"heatmap\":[{\"colorbar\":{\"outlinewidth\":0,\"ticks\":\"\"},\"colorscale\":[[0.0,\"#0d0887\"],[0.1111111111111111,\"#46039f\"],[0.2222222222222222,\"#7201a8\"],[0.3333333333333333,\"#9c179e\"],[0.4444444444444444,\"#bd3786\"],[0.5555555555555556,\"#d8576b\"],[0.6666666666666666,\"#ed7953\"],[0.7777777777777778,\"#fb9f3a\"],[0.8888888888888888,\"#fdca26\"],[1.0,\"#f0f921\"]],\"type\":\"heatmap\"}],\"heatmapgl\":[{\"colorbar\":{\"outlinewidth\":0,\"ticks\":\"\"},\"colorscale\":[[0.0,\"#0d0887\"],[0.1111111111111111,\"#46039f\"],[0.2222222222222222,\"#7201a8\"],[0.3333333333333333,\"#9c179e\"],[0.4444444444444444,\"#bd3786\"],[0.5555555555555556,\"#d8576b\"],[0.6666666666666666,\"#ed7953\"],[0.7777777777777778,\"#fb9f3a\"],[0.8888888888888888,\"#fdca26\"],[1.0,\"#f0f921\"]],\"type\":\"heatmapgl\"}],\"histogram\":[{\"marker\":{\"pattern\":{\"fillmode\":\"overlay\",\"size\":10,\"solidity\":0.2}},\"type\":\"histogram\"}],\"histogram2d\":[{\"colorbar\":{\"outlinewidth\":0,\"ticks\":\"\"},\"colorscale\":[[0.0,\"#0d0887\"],[0.1111111111111111,\"#46039f\"],[0.2222222222222222,\"#7201a8\"],[0.3333333333333333,\"#9c179e\"],[0.4444444444444444,\"#bd3786\"],[0.5555555555555556,\"#d8576b\"],[0.6666666666666666,\"#ed7953\"],[0.7777777777777778,\"#fb9f3a\"],[0.8888888888888888,\"#fdca26\"],[1.0,\"#f0f921\"]],\"type\":\"histogram2d\"}],\"histogram2dcontour\":[{\"colorbar\":{\"outlinewidth\":0,\"ticks\":\"\"},\"colorscale\":[[0.0,\"#0d0887\"],[0.1111111111111111,\"#46039f\"],[0.2222222222222222,\"#7201a8\"],[0.3333333333333333,\"#9c179e\"],[0.4444444444444444,\"#bd3786\"],[0.5555555555555556,\"#d8576b\"],[0.6666666666666666,\"#ed7953\"],[0.7777777777777778,\"#fb9f3a\"],[0.8888888888888888,\"#fdca26\"],[1.0,\"#f0f921\"]],\"type\":\"histogram2dcontour\"}],\"mesh3d\":[{\"colorbar\":{\"outlinewidth\":0,\"ticks\":\"\"},\"type\":\"mesh3d\"}],\"parcoords\":[{\"line\":{\"colorbar\":{\"outlinewidth\":0,\"ticks\":\"\"}},\"type\":\"parcoords\"}],\"pie\":[{\"automargin\":true,\"type\":\"pie\"}],\"scatter\":[{\"marker\":{\"colorbar\":{\"outlinewidth\":0,\"ticks\":\"\"}},\"type\":\"scatter\"}],\"scatter3d\":[{\"line\":{\"colorbar\":{\"outlinewidth\":0,\"ticks\":\"\"}},\"marker\":{\"colorbar\":{\"outlinewidth\":0,\"ticks\":\"\"}},\"type\":\"scatter3d\"}],\"scattercarpet\":[{\"marker\":{\"colorbar\":{\"outlinewidth\":0,\"ticks\":\"\"}},\"type\":\"scattercarpet\"}],\"scattergeo\":[{\"marker\":{\"colorbar\":{\"outlinewidth\":0,\"ticks\":\"\"}},\"type\":\"scattergeo\"}],\"scattergl\":[{\"marker\":{\"colorbar\":{\"outlinewidth\":0,\"ticks\":\"\"}},\"type\":\"scattergl\"}],\"scattermapbox\":[{\"marker\":{\"colorbar\":{\"outlinewidth\":0,\"ticks\":\"\"}},\"type\":\"scattermapbox\"}],\"scatterpolar\":[{\"marker\":{\"colorbar\":{\"outlinewidth\":0,\"ticks\":\"\"}},\"type\":\"scatterpolar\"}],\"scatterpolargl\":[{\"marker\":{\"colorbar\":{\"outlinewidth\":0,\"ticks\":\"\"}},\"type\":\"scatterpolargl\"}],\"scatterternary\":[{\"marker\":{\"colorbar\":{\"outlinewidth\":0,\"ticks\":\"\"}},\"type\":\"scatterternary\"}],\"surface\":[{\"colorbar\":{\"outlinewidth\":0,\"ticks\":\"\"},\"colorscale\":[[0.0,\"#0d0887\"],[0.1111111111111111,\"#46039f\"],[0.2222222222222222,\"#7201a8\"],[0.3333333333333333,\"#9c179e\"],[0.4444444444444444,\"#bd3786\"],[0.5555555555555556,\"#d8576b\"],[0.6666666666666666,\"#ed7953\"],[0.7777777777777778,\"#fb9f3a\"],[0.8888888888888888,\"#fdca26\"],[1.0,\"#f0f921\"]],\"type\":\"surface\"}],\"table\":[{\"cells\":{\"fill\":{\"color\":\"#EBF0F8\"},\"line\":{\"color\":\"white\"}},\"header\":{\"fill\":{\"color\":\"#C8D4E3\"},\"line\":{\"color\":\"white\"}},\"type\":\"table\"}]},\"layout\":{\"annotationdefaults\":{\"arrowcolor\":\"#2a3f5f\",\"arrowhead\":0,\"arrowwidth\":1},\"autotypenumbers\":\"strict\",\"coloraxis\":{\"colorbar\":{\"outlinewidth\":0,\"ticks\":\"\"}},\"colorscale\":{\"diverging\":[[0,\"#8e0152\"],[0.1,\"#c51b7d\"],[0.2,\"#de77ae\"],[0.3,\"#f1b6da\"],[0.4,\"#fde0ef\"],[0.5,\"#f7f7f7\"],[0.6,\"#e6f5d0\"],[0.7,\"#b8e186\"],[0.8,\"#7fbc41\"],[0.9,\"#4d9221\"],[1,\"#276419\"]],\"sequential\":[[0.0,\"#0d0887\"],[0.1111111111111111,\"#46039f\"],[0.2222222222222222,\"#7201a8\"],[0.3333333333333333,\"#9c179e\"],[0.4444444444444444,\"#bd3786\"],[0.5555555555555556,\"#d8576b\"],[0.6666666666666666,\"#ed7953\"],[0.7777777777777778,\"#fb9f3a\"],[0.8888888888888888,\"#fdca26\"],[1.0,\"#f0f921\"]],\"sequentialminus\":[[0.0,\"#0d0887\"],[0.1111111111111111,\"#46039f\"],[0.2222222222222222,\"#7201a8\"],[0.3333333333333333,\"#9c179e\"],[0.4444444444444444,\"#bd3786\"],[0.5555555555555556,\"#d8576b\"],[0.6666666666666666,\"#ed7953\"],[0.7777777777777778,\"#fb9f3a\"],[0.8888888888888888,\"#fdca26\"],[1.0,\"#f0f921\"]]},\"colorway\":[\"#636efa\",\"#EF553B\",\"#00cc96\",\"#ab63fa\",\"#FFA15A\",\"#19d3f3\",\"#FF6692\",\"#B6E880\",\"#FF97FF\",\"#FECB52\"],\"font\":{\"color\":\"#2a3f5f\"},\"geo\":{\"bgcolor\":\"white\",\"lakecolor\":\"white\",\"landcolor\":\"#E5ECF6\",\"showlakes\":true,\"showland\":true,\"subunitcolor\":\"white\"},\"hoverlabel\":{\"align\":\"left\"},\"hovermode\":\"closest\",\"mapbox\":{\"style\":\"light\"},\"paper_bgcolor\":\"white\",\"plot_bgcolor\":\"#E5ECF6\",\"polar\":{\"angularaxis\":{\"gridcolor\":\"white\",\"linecolor\":\"white\",\"ticks\":\"\"},\"bgcolor\":\"#E5ECF6\",\"radialaxis\":{\"gridcolor\":\"white\",\"linecolor\":\"white\",\"ticks\":\"\"}},\"scene\":{\"xaxis\":{\"backgroundcolor\":\"#E5ECF6\",\"gridcolor\":\"white\",\"gridwidth\":2,\"linecolor\":\"white\",\"showbackground\":true,\"ticks\":\"\",\"zerolinecolor\":\"white\"},\"yaxis\":{\"backgroundcolor\":\"#E5ECF6\",\"gridcolor\":\"white\",\"gridwidth\":2,\"linecolor\":\"white\",\"showbackground\":true,\"ticks\":\"\",\"zerolinecolor\":\"white\"},\"zaxis\":{\"backgroundcolor\":\"#E5ECF6\",\"gridcolor\":\"white\",\"gridwidth\":2,\"linecolor\":\"white\",\"showbackground\":true,\"ticks\":\"\",\"zerolinecolor\":\"white\"}},\"shapedefaults\":{\"line\":{\"color\":\"#2a3f5f\"}},\"ternary\":{\"aaxis\":{\"gridcolor\":\"white\",\"linecolor\":\"white\",\"ticks\":\"\"},\"baxis\":{\"gridcolor\":\"white\",\"linecolor\":\"white\",\"ticks\":\"\"},\"bgcolor\":\"#E5ECF6\",\"caxis\":{\"gridcolor\":\"white\",\"linecolor\":\"white\",\"ticks\":\"\"}},\"title\":{\"x\":0.05},\"xaxis\":{\"automargin\":true,\"gridcolor\":\"white\",\"linecolor\":\"white\",\"ticks\":\"\",\"title\":{\"standoff\":15},\"zerolinecolor\":\"white\",\"zerolinewidth\":2},\"yaxis\":{\"automargin\":true,\"gridcolor\":\"white\",\"linecolor\":\"white\",\"ticks\":\"\",\"title\":{\"standoff\":15},\"zerolinecolor\":\"white\",\"zerolinewidth\":2}}},\"legend\":{\"tracegroupgap\":0},\"margin\":{\"t\":60}},                        {\"responsive\": true}                    ).then(function(){\n",
              "                            \n",
              "var gd = document.getElementById('fbea2f50-8410-49e7-932d-2341a0ea79a3');\n",
              "var x = new MutationObserver(function (mutations, observer) {{\n",
              "        var display = window.getComputedStyle(gd).display;\n",
              "        if (!display || display === 'none') {{\n",
              "            console.log([gd, 'removed!']);\n",
              "            Plotly.purge(gd);\n",
              "            observer.disconnect();\n",
              "        }}\n",
              "}});\n",
              "\n",
              "// Listen for the removal of the full notebook cells\n",
              "var notebookContainer = gd.closest('#notebook-container');\n",
              "if (notebookContainer) {{\n",
              "    x.observe(notebookContainer, {childList: true});\n",
              "}}\n",
              "\n",
              "// Listen for the clearing of the current output cell\n",
              "var outputEl = gd.closest('.output');\n",
              "if (outputEl) {{\n",
              "    x.observe(outputEl, {childList: true});\n",
              "}}\n",
              "\n",
              "                        })                };                            </script>        </div>\n",
              "</body>\n",
              "</html>"
            ]
          },
          "metadata": {}
        }
      ]
    },
    {
      "cell_type": "code",
      "source": [
        "fig = px.treemap(ratingbycategory, path = ['Content_Rating','Category'] , values = 'count')\n",
        "fig.show()"
      ],
      "metadata": {
        "colab": {
          "base_uri": "https://localhost:8080/",
          "height": 542
        },
        "id": "22xFqdKHE6cp",
        "outputId": "4686764d-93e4-4588-9083-dbdb8825340b"
      },
      "execution_count": null,
      "outputs": [
        {
          "output_type": "display_data",
          "data": {
            "text/html": [
              "<html>\n",
              "<head><meta charset=\"utf-8\" /></head>\n",
              "<body>\n",
              "    <div>            <script src=\"https://cdnjs.cloudflare.com/ajax/libs/mathjax/2.7.5/MathJax.js?config=TeX-AMS-MML_SVG\"></script><script type=\"text/javascript\">if (window.MathJax) {MathJax.Hub.Config({SVG: {font: \"STIX-Web\"}});}</script>                <script type=\"text/javascript\">window.PlotlyConfig = {MathJaxConfig: 'local'};</script>\n",
              "        <script src=\"https://cdn.plot.ly/plotly-2.8.3.min.js\"></script>                <div id=\"16f897dd-6903-4457-88de-8c5cb7f16e07\" class=\"plotly-graph-div\" style=\"height:525px; width:100%;\"></div>            <script type=\"text/javascript\">                                    window.PLOTLYENV=window.PLOTLYENV || {};                                    if (document.getElementById(\"16f897dd-6903-4457-88de-8c5cb7f16e07\")) {                    Plotly.newPlot(                        \"16f897dd-6903-4457-88de-8c5cb7f16e07\",                        [{\"branchvalues\":\"total\",\"domain\":{\"x\":[0.0,1.0],\"y\":[0.0,1.0]},\"hovertemplate\":\"labels=%{label}<br>count=%{value}<br>parent=%{parent}<br>id=%{id}<extra></extra>\",\"ids\":[\"Adults only 18+/COMICS\",\"Mature 17+/DATING\",\"Everyone/FAMILY\",\"Everyone 10+/FAMILY\",\"Mature 17+/FAMILY\",\"Teen/FAMILY\",\"Unrated/FAMILY\",\"Everyone/GAME\",\"Everyone 10+/GAME\",\"Mature 17+/GAME\",\"Teen/GAME\",\"Everyone 10+/NEWS_AND_MAGAZINES\",\"Teen/SOCIAL\",\"Adults only 18+/SPORTS\",\"Everyone/TOOLS\",\"Unrated/TOOLS\",\"Adults only 18+\",\"Everyone\",\"Everyone 10+\",\"Mature 17+\",\"Teen\",\"Unrated\"],\"labels\":[\"COMICS\",\"DATING\",\"FAMILY\",\"FAMILY\",\"FAMILY\",\"FAMILY\",\"FAMILY\",\"GAME\",\"GAME\",\"GAME\",\"GAME\",\"NEWS_AND_MAGAZINES\",\"SOCIAL\",\"SPORTS\",\"TOOLS\",\"TOOLS\",\"Adults only 18+\",\"Everyone\",\"Everyone 10+\",\"Mature 17+\",\"Teen\",\"Unrated\"],\"name\":\"\",\"parents\":[\"Adults only 18+\",\"Mature 17+\",\"Everyone\",\"Everyone 10+\",\"Mature 17+\",\"Teen\",\"Unrated\",\"Everyone\",\"Everyone 10+\",\"Mature 17+\",\"Teen\",\"Everyone 10+\",\"Teen\",\"Adults only 18+\",\"Everyone\",\"Unrated\",\"\",\"\",\"\",\"\",\"\",\"\"],\"values\":[2,145,1431,110,50,240,1,493,106,65,295,46,105,1,819,1,3,2743,262,260,640,2],\"type\":\"treemap\"}],                        {\"template\":{\"data\":{\"bar\":[{\"error_x\":{\"color\":\"#2a3f5f\"},\"error_y\":{\"color\":\"#2a3f5f\"},\"marker\":{\"line\":{\"color\":\"#E5ECF6\",\"width\":0.5},\"pattern\":{\"fillmode\":\"overlay\",\"size\":10,\"solidity\":0.2}},\"type\":\"bar\"}],\"barpolar\":[{\"marker\":{\"line\":{\"color\":\"#E5ECF6\",\"width\":0.5},\"pattern\":{\"fillmode\":\"overlay\",\"size\":10,\"solidity\":0.2}},\"type\":\"barpolar\"}],\"carpet\":[{\"aaxis\":{\"endlinecolor\":\"#2a3f5f\",\"gridcolor\":\"white\",\"linecolor\":\"white\",\"minorgridcolor\":\"white\",\"startlinecolor\":\"#2a3f5f\"},\"baxis\":{\"endlinecolor\":\"#2a3f5f\",\"gridcolor\":\"white\",\"linecolor\":\"white\",\"minorgridcolor\":\"white\",\"startlinecolor\":\"#2a3f5f\"},\"type\":\"carpet\"}],\"choropleth\":[{\"colorbar\":{\"outlinewidth\":0,\"ticks\":\"\"},\"type\":\"choropleth\"}],\"contour\":[{\"colorbar\":{\"outlinewidth\":0,\"ticks\":\"\"},\"colorscale\":[[0.0,\"#0d0887\"],[0.1111111111111111,\"#46039f\"],[0.2222222222222222,\"#7201a8\"],[0.3333333333333333,\"#9c179e\"],[0.4444444444444444,\"#bd3786\"],[0.5555555555555556,\"#d8576b\"],[0.6666666666666666,\"#ed7953\"],[0.7777777777777778,\"#fb9f3a\"],[0.8888888888888888,\"#fdca26\"],[1.0,\"#f0f921\"]],\"type\":\"contour\"}],\"contourcarpet\":[{\"colorbar\":{\"outlinewidth\":0,\"ticks\":\"\"},\"type\":\"contourcarpet\"}],\"heatmap\":[{\"colorbar\":{\"outlinewidth\":0,\"ticks\":\"\"},\"colorscale\":[[0.0,\"#0d0887\"],[0.1111111111111111,\"#46039f\"],[0.2222222222222222,\"#7201a8\"],[0.3333333333333333,\"#9c179e\"],[0.4444444444444444,\"#bd3786\"],[0.5555555555555556,\"#d8576b\"],[0.6666666666666666,\"#ed7953\"],[0.7777777777777778,\"#fb9f3a\"],[0.8888888888888888,\"#fdca26\"],[1.0,\"#f0f921\"]],\"type\":\"heatmap\"}],\"heatmapgl\":[{\"colorbar\":{\"outlinewidth\":0,\"ticks\":\"\"},\"colorscale\":[[0.0,\"#0d0887\"],[0.1111111111111111,\"#46039f\"],[0.2222222222222222,\"#7201a8\"],[0.3333333333333333,\"#9c179e\"],[0.4444444444444444,\"#bd3786\"],[0.5555555555555556,\"#d8576b\"],[0.6666666666666666,\"#ed7953\"],[0.7777777777777778,\"#fb9f3a\"],[0.8888888888888888,\"#fdca26\"],[1.0,\"#f0f921\"]],\"type\":\"heatmapgl\"}],\"histogram\":[{\"marker\":{\"pattern\":{\"fillmode\":\"overlay\",\"size\":10,\"solidity\":0.2}},\"type\":\"histogram\"}],\"histogram2d\":[{\"colorbar\":{\"outlinewidth\":0,\"ticks\":\"\"},\"colorscale\":[[0.0,\"#0d0887\"],[0.1111111111111111,\"#46039f\"],[0.2222222222222222,\"#7201a8\"],[0.3333333333333333,\"#9c179e\"],[0.4444444444444444,\"#bd3786\"],[0.5555555555555556,\"#d8576b\"],[0.6666666666666666,\"#ed7953\"],[0.7777777777777778,\"#fb9f3a\"],[0.8888888888888888,\"#fdca26\"],[1.0,\"#f0f921\"]],\"type\":\"histogram2d\"}],\"histogram2dcontour\":[{\"colorbar\":{\"outlinewidth\":0,\"ticks\":\"\"},\"colorscale\":[[0.0,\"#0d0887\"],[0.1111111111111111,\"#46039f\"],[0.2222222222222222,\"#7201a8\"],[0.3333333333333333,\"#9c179e\"],[0.4444444444444444,\"#bd3786\"],[0.5555555555555556,\"#d8576b\"],[0.6666666666666666,\"#ed7953\"],[0.7777777777777778,\"#fb9f3a\"],[0.8888888888888888,\"#fdca26\"],[1.0,\"#f0f921\"]],\"type\":\"histogram2dcontour\"}],\"mesh3d\":[{\"colorbar\":{\"outlinewidth\":0,\"ticks\":\"\"},\"type\":\"mesh3d\"}],\"parcoords\":[{\"line\":{\"colorbar\":{\"outlinewidth\":0,\"ticks\":\"\"}},\"type\":\"parcoords\"}],\"pie\":[{\"automargin\":true,\"type\":\"pie\"}],\"scatter\":[{\"marker\":{\"colorbar\":{\"outlinewidth\":0,\"ticks\":\"\"}},\"type\":\"scatter\"}],\"scatter3d\":[{\"line\":{\"colorbar\":{\"outlinewidth\":0,\"ticks\":\"\"}},\"marker\":{\"colorbar\":{\"outlinewidth\":0,\"ticks\":\"\"}},\"type\":\"scatter3d\"}],\"scattercarpet\":[{\"marker\":{\"colorbar\":{\"outlinewidth\":0,\"ticks\":\"\"}},\"type\":\"scattercarpet\"}],\"scattergeo\":[{\"marker\":{\"colorbar\":{\"outlinewidth\":0,\"ticks\":\"\"}},\"type\":\"scattergeo\"}],\"scattergl\":[{\"marker\":{\"colorbar\":{\"outlinewidth\":0,\"ticks\":\"\"}},\"type\":\"scattergl\"}],\"scattermapbox\":[{\"marker\":{\"colorbar\":{\"outlinewidth\":0,\"ticks\":\"\"}},\"type\":\"scattermapbox\"}],\"scatterpolar\":[{\"marker\":{\"colorbar\":{\"outlinewidth\":0,\"ticks\":\"\"}},\"type\":\"scatterpolar\"}],\"scatterpolargl\":[{\"marker\":{\"colorbar\":{\"outlinewidth\":0,\"ticks\":\"\"}},\"type\":\"scatterpolargl\"}],\"scatterternary\":[{\"marker\":{\"colorbar\":{\"outlinewidth\":0,\"ticks\":\"\"}},\"type\":\"scatterternary\"}],\"surface\":[{\"colorbar\":{\"outlinewidth\":0,\"ticks\":\"\"},\"colorscale\":[[0.0,\"#0d0887\"],[0.1111111111111111,\"#46039f\"],[0.2222222222222222,\"#7201a8\"],[0.3333333333333333,\"#9c179e\"],[0.4444444444444444,\"#bd3786\"],[0.5555555555555556,\"#d8576b\"],[0.6666666666666666,\"#ed7953\"],[0.7777777777777778,\"#fb9f3a\"],[0.8888888888888888,\"#fdca26\"],[1.0,\"#f0f921\"]],\"type\":\"surface\"}],\"table\":[{\"cells\":{\"fill\":{\"color\":\"#EBF0F8\"},\"line\":{\"color\":\"white\"}},\"header\":{\"fill\":{\"color\":\"#C8D4E3\"},\"line\":{\"color\":\"white\"}},\"type\":\"table\"}]},\"layout\":{\"annotationdefaults\":{\"arrowcolor\":\"#2a3f5f\",\"arrowhead\":0,\"arrowwidth\":1},\"autotypenumbers\":\"strict\",\"coloraxis\":{\"colorbar\":{\"outlinewidth\":0,\"ticks\":\"\"}},\"colorscale\":{\"diverging\":[[0,\"#8e0152\"],[0.1,\"#c51b7d\"],[0.2,\"#de77ae\"],[0.3,\"#f1b6da\"],[0.4,\"#fde0ef\"],[0.5,\"#f7f7f7\"],[0.6,\"#e6f5d0\"],[0.7,\"#b8e186\"],[0.8,\"#7fbc41\"],[0.9,\"#4d9221\"],[1,\"#276419\"]],\"sequential\":[[0.0,\"#0d0887\"],[0.1111111111111111,\"#46039f\"],[0.2222222222222222,\"#7201a8\"],[0.3333333333333333,\"#9c179e\"],[0.4444444444444444,\"#bd3786\"],[0.5555555555555556,\"#d8576b\"],[0.6666666666666666,\"#ed7953\"],[0.7777777777777778,\"#fb9f3a\"],[0.8888888888888888,\"#fdca26\"],[1.0,\"#f0f921\"]],\"sequentialminus\":[[0.0,\"#0d0887\"],[0.1111111111111111,\"#46039f\"],[0.2222222222222222,\"#7201a8\"],[0.3333333333333333,\"#9c179e\"],[0.4444444444444444,\"#bd3786\"],[0.5555555555555556,\"#d8576b\"],[0.6666666666666666,\"#ed7953\"],[0.7777777777777778,\"#fb9f3a\"],[0.8888888888888888,\"#fdca26\"],[1.0,\"#f0f921\"]]},\"colorway\":[\"#636efa\",\"#EF553B\",\"#00cc96\",\"#ab63fa\",\"#FFA15A\",\"#19d3f3\",\"#FF6692\",\"#B6E880\",\"#FF97FF\",\"#FECB52\"],\"font\":{\"color\":\"#2a3f5f\"},\"geo\":{\"bgcolor\":\"white\",\"lakecolor\":\"white\",\"landcolor\":\"#E5ECF6\",\"showlakes\":true,\"showland\":true,\"subunitcolor\":\"white\"},\"hoverlabel\":{\"align\":\"left\"},\"hovermode\":\"closest\",\"mapbox\":{\"style\":\"light\"},\"paper_bgcolor\":\"white\",\"plot_bgcolor\":\"#E5ECF6\",\"polar\":{\"angularaxis\":{\"gridcolor\":\"white\",\"linecolor\":\"white\",\"ticks\":\"\"},\"bgcolor\":\"#E5ECF6\",\"radialaxis\":{\"gridcolor\":\"white\",\"linecolor\":\"white\",\"ticks\":\"\"}},\"scene\":{\"xaxis\":{\"backgroundcolor\":\"#E5ECF6\",\"gridcolor\":\"white\",\"gridwidth\":2,\"linecolor\":\"white\",\"showbackground\":true,\"ticks\":\"\",\"zerolinecolor\":\"white\"},\"yaxis\":{\"backgroundcolor\":\"#E5ECF6\",\"gridcolor\":\"white\",\"gridwidth\":2,\"linecolor\":\"white\",\"showbackground\":true,\"ticks\":\"\",\"zerolinecolor\":\"white\"},\"zaxis\":{\"backgroundcolor\":\"#E5ECF6\",\"gridcolor\":\"white\",\"gridwidth\":2,\"linecolor\":\"white\",\"showbackground\":true,\"ticks\":\"\",\"zerolinecolor\":\"white\"}},\"shapedefaults\":{\"line\":{\"color\":\"#2a3f5f\"}},\"ternary\":{\"aaxis\":{\"gridcolor\":\"white\",\"linecolor\":\"white\",\"ticks\":\"\"},\"baxis\":{\"gridcolor\":\"white\",\"linecolor\":\"white\",\"ticks\":\"\"},\"bgcolor\":\"#E5ECF6\",\"caxis\":{\"gridcolor\":\"white\",\"linecolor\":\"white\",\"ticks\":\"\"}},\"title\":{\"x\":0.05},\"xaxis\":{\"automargin\":true,\"gridcolor\":\"white\",\"linecolor\":\"white\",\"ticks\":\"\",\"title\":{\"standoff\":15},\"zerolinecolor\":\"white\",\"zerolinewidth\":2},\"yaxis\":{\"automargin\":true,\"gridcolor\":\"white\",\"linecolor\":\"white\",\"ticks\":\"\",\"title\":{\"standoff\":15},\"zerolinecolor\":\"white\",\"zerolinewidth\":2}}},\"legend\":{\"tracegroupgap\":0},\"margin\":{\"t\":60}},                        {\"responsive\": true}                    ).then(function(){\n",
              "                            \n",
              "var gd = document.getElementById('16f897dd-6903-4457-88de-8c5cb7f16e07');\n",
              "var x = new MutationObserver(function (mutations, observer) {{\n",
              "        var display = window.getComputedStyle(gd).display;\n",
              "        if (!display || display === 'none') {{\n",
              "            console.log([gd, 'removed!']);\n",
              "            Plotly.purge(gd);\n",
              "            observer.disconnect();\n",
              "        }}\n",
              "}});\n",
              "\n",
              "// Listen for the removal of the full notebook cells\n",
              "var notebookContainer = gd.closest('#notebook-container');\n",
              "if (notebookContainer) {{\n",
              "    x.observe(notebookContainer, {childList: true});\n",
              "}}\n",
              "\n",
              "// Listen for the clearing of the current output cell\n",
              "var outputEl = gd.closest('.output');\n",
              "if (outputEl) {{\n",
              "    x.observe(outputEl, {childList: true});\n",
              "}}\n",
              "\n",
              "                        })                };                            </script>        </div>\n",
              "</body>\n",
              "</html>"
            ]
          },
          "metadata": {}
        }
      ]
    },
    {
      "cell_type": "markdown",
      "source": [
        "##3.Top 10 most installed paid app by installation nos and their ratings."
      ],
      "metadata": {
        "id": "83Cx42HlXMtS"
      }
    },
    {
      "cell_type": "code",
      "source": [
        "top_paid = data[data['Type']=='Paid'][['App','Rating','Installs']].sort_values(by='Installs', ascending=False).head(10)"
      ],
      "metadata": {
        "id": "vInFPfJlXMAV"
      },
      "execution_count": null,
      "outputs": []
    },
    {
      "cell_type": "code",
      "source": [
        "top_paid"
      ],
      "metadata": {
        "colab": {
          "base_uri": "https://localhost:8080/",
          "height": 363
        },
        "id": "7wCngbxDcTur",
        "outputId": "2a920248-9fc3-43f9-8ca0-bf554c5eb55e"
      },
      "execution_count": null,
      "outputs": [
        {
          "output_type": "execute_result",
          "data": {
            "text/plain": [
              "                                           App  Rating  Installs\n",
              "4034                             Hitman Sniper     4.6  10000000\n",
              "2241                                 Minecraft     4.5  10000000\n",
              "5631                   Five Nights at Freddy's     4.6   1000000\n",
              "8860                               Bloons TD 5     4.6   1000000\n",
              "3405                                HD Widgets     4.3   1000000\n",
              "2883                       Facetune - For Free     4.4   1000000\n",
              "7417             Grand Theft Auto: San Andreas     4.4   1000000\n",
              "6675                      Infinity Dungeon VIP     4.3   1000000\n",
              "2242                Card Wars - Adventure Time     4.3   1000000\n",
              "4842  Zombie Avengers:(Dreamsky)Stickman War Z     4.3   1000000"
            ],
            "text/html": [
              "\n",
              "  <div id=\"df-15750598-ef3d-497d-9a6e-537d68509922\">\n",
              "    <div class=\"colab-df-container\">\n",
              "      <div>\n",
              "<style scoped>\n",
              "    .dataframe tbody tr th:only-of-type {\n",
              "        vertical-align: middle;\n",
              "    }\n",
              "\n",
              "    .dataframe tbody tr th {\n",
              "        vertical-align: top;\n",
              "    }\n",
              "\n",
              "    .dataframe thead th {\n",
              "        text-align: right;\n",
              "    }\n",
              "</style>\n",
              "<table border=\"1\" class=\"dataframe\">\n",
              "  <thead>\n",
              "    <tr style=\"text-align: right;\">\n",
              "      <th></th>\n",
              "      <th>App</th>\n",
              "      <th>Rating</th>\n",
              "      <th>Installs</th>\n",
              "    </tr>\n",
              "  </thead>\n",
              "  <tbody>\n",
              "    <tr>\n",
              "      <th>4034</th>\n",
              "      <td>Hitman Sniper</td>\n",
              "      <td>4.6</td>\n",
              "      <td>10000000</td>\n",
              "    </tr>\n",
              "    <tr>\n",
              "      <th>2241</th>\n",
              "      <td>Minecraft</td>\n",
              "      <td>4.5</td>\n",
              "      <td>10000000</td>\n",
              "    </tr>\n",
              "    <tr>\n",
              "      <th>5631</th>\n",
              "      <td>Five Nights at Freddy's</td>\n",
              "      <td>4.6</td>\n",
              "      <td>1000000</td>\n",
              "    </tr>\n",
              "    <tr>\n",
              "      <th>8860</th>\n",
              "      <td>Bloons TD 5</td>\n",
              "      <td>4.6</td>\n",
              "      <td>1000000</td>\n",
              "    </tr>\n",
              "    <tr>\n",
              "      <th>3405</th>\n",
              "      <td>HD Widgets</td>\n",
              "      <td>4.3</td>\n",
              "      <td>1000000</td>\n",
              "    </tr>\n",
              "    <tr>\n",
              "      <th>2883</th>\n",
              "      <td>Facetune - For Free</td>\n",
              "      <td>4.4</td>\n",
              "      <td>1000000</td>\n",
              "    </tr>\n",
              "    <tr>\n",
              "      <th>7417</th>\n",
              "      <td>Grand Theft Auto: San Andreas</td>\n",
              "      <td>4.4</td>\n",
              "      <td>1000000</td>\n",
              "    </tr>\n",
              "    <tr>\n",
              "      <th>6675</th>\n",
              "      <td>Infinity Dungeon VIP</td>\n",
              "      <td>4.3</td>\n",
              "      <td>1000000</td>\n",
              "    </tr>\n",
              "    <tr>\n",
              "      <th>2242</th>\n",
              "      <td>Card Wars - Adventure Time</td>\n",
              "      <td>4.3</td>\n",
              "      <td>1000000</td>\n",
              "    </tr>\n",
              "    <tr>\n",
              "      <th>4842</th>\n",
              "      <td>Zombie Avengers:(Dreamsky)Stickman War Z</td>\n",
              "      <td>4.3</td>\n",
              "      <td>1000000</td>\n",
              "    </tr>\n",
              "  </tbody>\n",
              "</table>\n",
              "</div>\n",
              "      <button class=\"colab-df-convert\" onclick=\"convertToInteractive('df-15750598-ef3d-497d-9a6e-537d68509922')\"\n",
              "              title=\"Convert this dataframe to an interactive table.\"\n",
              "              style=\"display:none;\">\n",
              "        \n",
              "  <svg xmlns=\"http://www.w3.org/2000/svg\" height=\"24px\"viewBox=\"0 0 24 24\"\n",
              "       width=\"24px\">\n",
              "    <path d=\"M0 0h24v24H0V0z\" fill=\"none\"/>\n",
              "    <path d=\"M18.56 5.44l.94 2.06.94-2.06 2.06-.94-2.06-.94-.94-2.06-.94 2.06-2.06.94zm-11 1L8.5 8.5l.94-2.06 2.06-.94-2.06-.94L8.5 2.5l-.94 2.06-2.06.94zm10 10l.94 2.06.94-2.06 2.06-.94-2.06-.94-.94-2.06-.94 2.06-2.06.94z\"/><path d=\"M17.41 7.96l-1.37-1.37c-.4-.4-.92-.59-1.43-.59-.52 0-1.04.2-1.43.59L10.3 9.45l-7.72 7.72c-.78.78-.78 2.05 0 2.83L4 21.41c.39.39.9.59 1.41.59.51 0 1.02-.2 1.41-.59l7.78-7.78 2.81-2.81c.8-.78.8-2.07 0-2.86zM5.41 20L4 18.59l7.72-7.72 1.47 1.35L5.41 20z\"/>\n",
              "  </svg>\n",
              "      </button>\n",
              "      \n",
              "  <style>\n",
              "    .colab-df-container {\n",
              "      display:flex;\n",
              "      flex-wrap:wrap;\n",
              "      gap: 12px;\n",
              "    }\n",
              "\n",
              "    .colab-df-convert {\n",
              "      background-color: #E8F0FE;\n",
              "      border: none;\n",
              "      border-radius: 50%;\n",
              "      cursor: pointer;\n",
              "      display: none;\n",
              "      fill: #1967D2;\n",
              "      height: 32px;\n",
              "      padding: 0 0 0 0;\n",
              "      width: 32px;\n",
              "    }\n",
              "\n",
              "    .colab-df-convert:hover {\n",
              "      background-color: #E2EBFA;\n",
              "      box-shadow: 0px 1px 2px rgba(60, 64, 67, 0.3), 0px 1px 3px 1px rgba(60, 64, 67, 0.15);\n",
              "      fill: #174EA6;\n",
              "    }\n",
              "\n",
              "    [theme=dark] .colab-df-convert {\n",
              "      background-color: #3B4455;\n",
              "      fill: #D2E3FC;\n",
              "    }\n",
              "\n",
              "    [theme=dark] .colab-df-convert:hover {\n",
              "      background-color: #434B5C;\n",
              "      box-shadow: 0px 1px 3px 1px rgba(0, 0, 0, 0.15);\n",
              "      filter: drop-shadow(0px 1px 2px rgba(0, 0, 0, 0.3));\n",
              "      fill: #FFFFFF;\n",
              "    }\n",
              "  </style>\n",
              "\n",
              "      <script>\n",
              "        const buttonEl =\n",
              "          document.querySelector('#df-15750598-ef3d-497d-9a6e-537d68509922 button.colab-df-convert');\n",
              "        buttonEl.style.display =\n",
              "          google.colab.kernel.accessAllowed ? 'block' : 'none';\n",
              "\n",
              "        async function convertToInteractive(key) {\n",
              "          const element = document.querySelector('#df-15750598-ef3d-497d-9a6e-537d68509922');\n",
              "          const dataTable =\n",
              "            await google.colab.kernel.invokeFunction('convertToInteractive',\n",
              "                                                     [key], {});\n",
              "          if (!dataTable) return;\n",
              "\n",
              "          const docLinkHtml = 'Like what you see? Visit the ' +\n",
              "            '<a target=\"_blank\" href=https://colab.research.google.com/notebooks/data_table.ipynb>data table notebook</a>'\n",
              "            + ' to learn more about interactive tables.';\n",
              "          element.innerHTML = '';\n",
              "          dataTable['output_type'] = 'display_data';\n",
              "          await google.colab.output.renderOutput(dataTable, element);\n",
              "          const docLink = document.createElement('div');\n",
              "          docLink.innerHTML = docLinkHtml;\n",
              "          element.appendChild(docLink);\n",
              "        }\n",
              "      </script>\n",
              "    </div>\n",
              "  </div>\n",
              "  "
            ]
          },
          "metadata": {},
          "execution_count": 51
        }
      ]
    },
    {
      "cell_type": "code",
      "source": [
        "fig = px.bar(top_paid, y = 'App', x = 'Installs',labels = {'App' : 'App & Rating', 'Installs' : 'No of Downloads'},\n",
        "       color = 'Rating', title = 'Top 10 Paid Apps on Play Store',\n",
        "       color_continuous_scale=px.colors.qualitative.Plotly)\n",
        "fig.update_layout(yaxis={'categoryorder':'total ascending'})\n",
        "fig.update_traces(text=top_paid['Rating'],textposition='inside')\n",
        "fig.show()"
      ],
      "metadata": {
        "colab": {
          "base_uri": "https://localhost:8080/",
          "height": 542
        },
        "id": "da5BzseqKdEm",
        "outputId": "5c510fb2-1d5c-4477-888f-ea7ada4ba3d2"
      },
      "execution_count": null,
      "outputs": [
        {
          "output_type": "display_data",
          "data": {
            "text/html": [
              "<html>\n",
              "<head><meta charset=\"utf-8\" /></head>\n",
              "<body>\n",
              "    <div>            <script src=\"https://cdnjs.cloudflare.com/ajax/libs/mathjax/2.7.5/MathJax.js?config=TeX-AMS-MML_SVG\"></script><script type=\"text/javascript\">if (window.MathJax) {MathJax.Hub.Config({SVG: {font: \"STIX-Web\"}});}</script>                <script type=\"text/javascript\">window.PlotlyConfig = {MathJaxConfig: 'local'};</script>\n",
              "        <script src=\"https://cdn.plot.ly/plotly-2.8.3.min.js\"></script>                <div id=\"c96a8bd7-eef3-4b06-81bc-d931b9b4feaf\" class=\"plotly-graph-div\" style=\"height:525px; width:100%;\"></div>            <script type=\"text/javascript\">                                    window.PLOTLYENV=window.PLOTLYENV || {};                                    if (document.getElementById(\"c96a8bd7-eef3-4b06-81bc-d931b9b4feaf\")) {                    Plotly.newPlot(                        \"c96a8bd7-eef3-4b06-81bc-d931b9b4feaf\",                        [{\"alignmentgroup\":\"True\",\"hovertemplate\":\"No of Downloads=%{x}<br>App & Rating=%{y}<br>Rating=%{marker.color}<extra></extra>\",\"legendgroup\":\"\",\"marker\":{\"color\":[4.6,4.5,4.6,4.6,4.3,4.4,4.4,4.3,4.3,4.3],\"coloraxis\":\"coloraxis\",\"pattern\":{\"shape\":\"\"}},\"name\":\"\",\"offsetgroup\":\"\",\"orientation\":\"h\",\"showlegend\":false,\"textposition\":\"inside\",\"x\":[10000000,10000000,1000000,1000000,1000000,1000000,1000000,1000000,1000000,1000000],\"xaxis\":\"x\",\"y\":[\"Hitman Sniper\",\"Minecraft\",\"Five Nights at Freddy's\",\"Bloons TD 5\",\"HD Widgets\",\"Facetune - For Free\",\"Grand Theft Auto: San Andreas\",\"Infinity Dungeon VIP\",\"Card Wars - Adventure Time\",\"Zombie Avengers:(Dreamsky)Stickman War Z\"],\"yaxis\":\"y\",\"type\":\"bar\",\"text\":[4.6,4.5,4.6,4.6,4.3,4.4,4.4,4.3,4.3,4.3]}],                        {\"template\":{\"data\":{\"bar\":[{\"error_x\":{\"color\":\"#2a3f5f\"},\"error_y\":{\"color\":\"#2a3f5f\"},\"marker\":{\"line\":{\"color\":\"#E5ECF6\",\"width\":0.5},\"pattern\":{\"fillmode\":\"overlay\",\"size\":10,\"solidity\":0.2}},\"type\":\"bar\"}],\"barpolar\":[{\"marker\":{\"line\":{\"color\":\"#E5ECF6\",\"width\":0.5},\"pattern\":{\"fillmode\":\"overlay\",\"size\":10,\"solidity\":0.2}},\"type\":\"barpolar\"}],\"carpet\":[{\"aaxis\":{\"endlinecolor\":\"#2a3f5f\",\"gridcolor\":\"white\",\"linecolor\":\"white\",\"minorgridcolor\":\"white\",\"startlinecolor\":\"#2a3f5f\"},\"baxis\":{\"endlinecolor\":\"#2a3f5f\",\"gridcolor\":\"white\",\"linecolor\":\"white\",\"minorgridcolor\":\"white\",\"startlinecolor\":\"#2a3f5f\"},\"type\":\"carpet\"}],\"choropleth\":[{\"colorbar\":{\"outlinewidth\":0,\"ticks\":\"\"},\"type\":\"choropleth\"}],\"contour\":[{\"colorbar\":{\"outlinewidth\":0,\"ticks\":\"\"},\"colorscale\":[[0.0,\"#0d0887\"],[0.1111111111111111,\"#46039f\"],[0.2222222222222222,\"#7201a8\"],[0.3333333333333333,\"#9c179e\"],[0.4444444444444444,\"#bd3786\"],[0.5555555555555556,\"#d8576b\"],[0.6666666666666666,\"#ed7953\"],[0.7777777777777778,\"#fb9f3a\"],[0.8888888888888888,\"#fdca26\"],[1.0,\"#f0f921\"]],\"type\":\"contour\"}],\"contourcarpet\":[{\"colorbar\":{\"outlinewidth\":0,\"ticks\":\"\"},\"type\":\"contourcarpet\"}],\"heatmap\":[{\"colorbar\":{\"outlinewidth\":0,\"ticks\":\"\"},\"colorscale\":[[0.0,\"#0d0887\"],[0.1111111111111111,\"#46039f\"],[0.2222222222222222,\"#7201a8\"],[0.3333333333333333,\"#9c179e\"],[0.4444444444444444,\"#bd3786\"],[0.5555555555555556,\"#d8576b\"],[0.6666666666666666,\"#ed7953\"],[0.7777777777777778,\"#fb9f3a\"],[0.8888888888888888,\"#fdca26\"],[1.0,\"#f0f921\"]],\"type\":\"heatmap\"}],\"heatmapgl\":[{\"colorbar\":{\"outlinewidth\":0,\"ticks\":\"\"},\"colorscale\":[[0.0,\"#0d0887\"],[0.1111111111111111,\"#46039f\"],[0.2222222222222222,\"#7201a8\"],[0.3333333333333333,\"#9c179e\"],[0.4444444444444444,\"#bd3786\"],[0.5555555555555556,\"#d8576b\"],[0.6666666666666666,\"#ed7953\"],[0.7777777777777778,\"#fb9f3a\"],[0.8888888888888888,\"#fdca26\"],[1.0,\"#f0f921\"]],\"type\":\"heatmapgl\"}],\"histogram\":[{\"marker\":{\"pattern\":{\"fillmode\":\"overlay\",\"size\":10,\"solidity\":0.2}},\"type\":\"histogram\"}],\"histogram2d\":[{\"colorbar\":{\"outlinewidth\":0,\"ticks\":\"\"},\"colorscale\":[[0.0,\"#0d0887\"],[0.1111111111111111,\"#46039f\"],[0.2222222222222222,\"#7201a8\"],[0.3333333333333333,\"#9c179e\"],[0.4444444444444444,\"#bd3786\"],[0.5555555555555556,\"#d8576b\"],[0.6666666666666666,\"#ed7953\"],[0.7777777777777778,\"#fb9f3a\"],[0.8888888888888888,\"#fdca26\"],[1.0,\"#f0f921\"]],\"type\":\"histogram2d\"}],\"histogram2dcontour\":[{\"colorbar\":{\"outlinewidth\":0,\"ticks\":\"\"},\"colorscale\":[[0.0,\"#0d0887\"],[0.1111111111111111,\"#46039f\"],[0.2222222222222222,\"#7201a8\"],[0.3333333333333333,\"#9c179e\"],[0.4444444444444444,\"#bd3786\"],[0.5555555555555556,\"#d8576b\"],[0.6666666666666666,\"#ed7953\"],[0.7777777777777778,\"#fb9f3a\"],[0.8888888888888888,\"#fdca26\"],[1.0,\"#f0f921\"]],\"type\":\"histogram2dcontour\"}],\"mesh3d\":[{\"colorbar\":{\"outlinewidth\":0,\"ticks\":\"\"},\"type\":\"mesh3d\"}],\"parcoords\":[{\"line\":{\"colorbar\":{\"outlinewidth\":0,\"ticks\":\"\"}},\"type\":\"parcoords\"}],\"pie\":[{\"automargin\":true,\"type\":\"pie\"}],\"scatter\":[{\"marker\":{\"colorbar\":{\"outlinewidth\":0,\"ticks\":\"\"}},\"type\":\"scatter\"}],\"scatter3d\":[{\"line\":{\"colorbar\":{\"outlinewidth\":0,\"ticks\":\"\"}},\"marker\":{\"colorbar\":{\"outlinewidth\":0,\"ticks\":\"\"}},\"type\":\"scatter3d\"}],\"scattercarpet\":[{\"marker\":{\"colorbar\":{\"outlinewidth\":0,\"ticks\":\"\"}},\"type\":\"scattercarpet\"}],\"scattergeo\":[{\"marker\":{\"colorbar\":{\"outlinewidth\":0,\"ticks\":\"\"}},\"type\":\"scattergeo\"}],\"scattergl\":[{\"marker\":{\"colorbar\":{\"outlinewidth\":0,\"ticks\":\"\"}},\"type\":\"scattergl\"}],\"scattermapbox\":[{\"marker\":{\"colorbar\":{\"outlinewidth\":0,\"ticks\":\"\"}},\"type\":\"scattermapbox\"}],\"scatterpolar\":[{\"marker\":{\"colorbar\":{\"outlinewidth\":0,\"ticks\":\"\"}},\"type\":\"scatterpolar\"}],\"scatterpolargl\":[{\"marker\":{\"colorbar\":{\"outlinewidth\":0,\"ticks\":\"\"}},\"type\":\"scatterpolargl\"}],\"scatterternary\":[{\"marker\":{\"colorbar\":{\"outlinewidth\":0,\"ticks\":\"\"}},\"type\":\"scatterternary\"}],\"surface\":[{\"colorbar\":{\"outlinewidth\":0,\"ticks\":\"\"},\"colorscale\":[[0.0,\"#0d0887\"],[0.1111111111111111,\"#46039f\"],[0.2222222222222222,\"#7201a8\"],[0.3333333333333333,\"#9c179e\"],[0.4444444444444444,\"#bd3786\"],[0.5555555555555556,\"#d8576b\"],[0.6666666666666666,\"#ed7953\"],[0.7777777777777778,\"#fb9f3a\"],[0.8888888888888888,\"#fdca26\"],[1.0,\"#f0f921\"]],\"type\":\"surface\"}],\"table\":[{\"cells\":{\"fill\":{\"color\":\"#EBF0F8\"},\"line\":{\"color\":\"white\"}},\"header\":{\"fill\":{\"color\":\"#C8D4E3\"},\"line\":{\"color\":\"white\"}},\"type\":\"table\"}]},\"layout\":{\"annotationdefaults\":{\"arrowcolor\":\"#2a3f5f\",\"arrowhead\":0,\"arrowwidth\":1},\"autotypenumbers\":\"strict\",\"coloraxis\":{\"colorbar\":{\"outlinewidth\":0,\"ticks\":\"\"}},\"colorscale\":{\"diverging\":[[0,\"#8e0152\"],[0.1,\"#c51b7d\"],[0.2,\"#de77ae\"],[0.3,\"#f1b6da\"],[0.4,\"#fde0ef\"],[0.5,\"#f7f7f7\"],[0.6,\"#e6f5d0\"],[0.7,\"#b8e186\"],[0.8,\"#7fbc41\"],[0.9,\"#4d9221\"],[1,\"#276419\"]],\"sequential\":[[0.0,\"#0d0887\"],[0.1111111111111111,\"#46039f\"],[0.2222222222222222,\"#7201a8\"],[0.3333333333333333,\"#9c179e\"],[0.4444444444444444,\"#bd3786\"],[0.5555555555555556,\"#d8576b\"],[0.6666666666666666,\"#ed7953\"],[0.7777777777777778,\"#fb9f3a\"],[0.8888888888888888,\"#fdca26\"],[1.0,\"#f0f921\"]],\"sequentialminus\":[[0.0,\"#0d0887\"],[0.1111111111111111,\"#46039f\"],[0.2222222222222222,\"#7201a8\"],[0.3333333333333333,\"#9c179e\"],[0.4444444444444444,\"#bd3786\"],[0.5555555555555556,\"#d8576b\"],[0.6666666666666666,\"#ed7953\"],[0.7777777777777778,\"#fb9f3a\"],[0.8888888888888888,\"#fdca26\"],[1.0,\"#f0f921\"]]},\"colorway\":[\"#636efa\",\"#EF553B\",\"#00cc96\",\"#ab63fa\",\"#FFA15A\",\"#19d3f3\",\"#FF6692\",\"#B6E880\",\"#FF97FF\",\"#FECB52\"],\"font\":{\"color\":\"#2a3f5f\"},\"geo\":{\"bgcolor\":\"white\",\"lakecolor\":\"white\",\"landcolor\":\"#E5ECF6\",\"showlakes\":true,\"showland\":true,\"subunitcolor\":\"white\"},\"hoverlabel\":{\"align\":\"left\"},\"hovermode\":\"closest\",\"mapbox\":{\"style\":\"light\"},\"paper_bgcolor\":\"white\",\"plot_bgcolor\":\"#E5ECF6\",\"polar\":{\"angularaxis\":{\"gridcolor\":\"white\",\"linecolor\":\"white\",\"ticks\":\"\"},\"bgcolor\":\"#E5ECF6\",\"radialaxis\":{\"gridcolor\":\"white\",\"linecolor\":\"white\",\"ticks\":\"\"}},\"scene\":{\"xaxis\":{\"backgroundcolor\":\"#E5ECF6\",\"gridcolor\":\"white\",\"gridwidth\":2,\"linecolor\":\"white\",\"showbackground\":true,\"ticks\":\"\",\"zerolinecolor\":\"white\"},\"yaxis\":{\"backgroundcolor\":\"#E5ECF6\",\"gridcolor\":\"white\",\"gridwidth\":2,\"linecolor\":\"white\",\"showbackground\":true,\"ticks\":\"\",\"zerolinecolor\":\"white\"},\"zaxis\":{\"backgroundcolor\":\"#E5ECF6\",\"gridcolor\":\"white\",\"gridwidth\":2,\"linecolor\":\"white\",\"showbackground\":true,\"ticks\":\"\",\"zerolinecolor\":\"white\"}},\"shapedefaults\":{\"line\":{\"color\":\"#2a3f5f\"}},\"ternary\":{\"aaxis\":{\"gridcolor\":\"white\",\"linecolor\":\"white\",\"ticks\":\"\"},\"baxis\":{\"gridcolor\":\"white\",\"linecolor\":\"white\",\"ticks\":\"\"},\"bgcolor\":\"#E5ECF6\",\"caxis\":{\"gridcolor\":\"white\",\"linecolor\":\"white\",\"ticks\":\"\"}},\"title\":{\"x\":0.05},\"xaxis\":{\"automargin\":true,\"gridcolor\":\"white\",\"linecolor\":\"white\",\"ticks\":\"\",\"title\":{\"standoff\":15},\"zerolinecolor\":\"white\",\"zerolinewidth\":2},\"yaxis\":{\"automargin\":true,\"gridcolor\":\"white\",\"linecolor\":\"white\",\"ticks\":\"\",\"title\":{\"standoff\":15},\"zerolinecolor\":\"white\",\"zerolinewidth\":2}}},\"xaxis\":{\"anchor\":\"y\",\"domain\":[0.0,1.0],\"title\":{\"text\":\"No of Downloads\"}},\"yaxis\":{\"anchor\":\"x\",\"domain\":[0.0,1.0],\"title\":{\"text\":\"App & Rating\"},\"categoryorder\":\"total ascending\"},\"coloraxis\":{\"colorbar\":{\"title\":{\"text\":\"Rating\"}},\"colorscale\":[[0.0,\"#636EFA\"],[0.1111111111111111,\"#EF553B\"],[0.2222222222222222,\"#00CC96\"],[0.3333333333333333,\"#AB63FA\"],[0.4444444444444444,\"#FFA15A\"],[0.5555555555555556,\"#19D3F3\"],[0.6666666666666666,\"#FF6692\"],[0.7777777777777778,\"#B6E880\"],[0.8888888888888888,\"#FF97FF\"],[1.0,\"#FECB52\"]]},\"legend\":{\"tracegroupgap\":0},\"title\":{\"text\":\"Top 10 Paid Apps on Play Store\"},\"barmode\":\"relative\"},                        {\"responsive\": true}                    ).then(function(){\n",
              "                            \n",
              "var gd = document.getElementById('c96a8bd7-eef3-4b06-81bc-d931b9b4feaf');\n",
              "var x = new MutationObserver(function (mutations, observer) {{\n",
              "        var display = window.getComputedStyle(gd).display;\n",
              "        if (!display || display === 'none') {{\n",
              "            console.log([gd, 'removed!']);\n",
              "            Plotly.purge(gd);\n",
              "            observer.disconnect();\n",
              "        }}\n",
              "}});\n",
              "\n",
              "// Listen for the removal of the full notebook cells\n",
              "var notebookContainer = gd.closest('#notebook-container');\n",
              "if (notebookContainer) {{\n",
              "    x.observe(notebookContainer, {childList: true});\n",
              "}}\n",
              "\n",
              "// Listen for the clearing of the current output cell\n",
              "var outputEl = gd.closest('.output');\n",
              "if (outputEl) {{\n",
              "    x.observe(outputEl, {childList: true});\n",
              "}}\n",
              "\n",
              "                        })                };                            </script>        </div>\n",
              "</body>\n",
              "</html>"
            ]
          },
          "metadata": {}
        }
      ]
    },
    {
      "cell_type": "markdown",
      "source": [
        "##4.Paid vs Free app in Play Store"
      ],
      "metadata": {
        "id": "zPn44CkKdhtA"
      }
    },
    {
      "cell_type": "code",
      "source": [
        "paid_free = data['Type'].value_counts().reset_index(name='count')\n",
        "paid_free"
      ],
      "metadata": {
        "colab": {
          "base_uri": "https://localhost:8080/",
          "height": 112
        },
        "id": "QcrMG17Dflyx",
        "outputId": "68069750-627e-4087-f319-74fe7d4d88c4"
      },
      "execution_count": null,
      "outputs": [
        {
          "output_type": "execute_result",
          "data": {
            "text/plain": [
              "  index  count\n",
              "0  Free   8903\n",
              "1  Paid    756"
            ],
            "text/html": [
              "\n",
              "  <div id=\"df-440010b9-fa53-4934-8491-9ac00bed3acd\">\n",
              "    <div class=\"colab-df-container\">\n",
              "      <div>\n",
              "<style scoped>\n",
              "    .dataframe tbody tr th:only-of-type {\n",
              "        vertical-align: middle;\n",
              "    }\n",
              "\n",
              "    .dataframe tbody tr th {\n",
              "        vertical-align: top;\n",
              "    }\n",
              "\n",
              "    .dataframe thead th {\n",
              "        text-align: right;\n",
              "    }\n",
              "</style>\n",
              "<table border=\"1\" class=\"dataframe\">\n",
              "  <thead>\n",
              "    <tr style=\"text-align: right;\">\n",
              "      <th></th>\n",
              "      <th>index</th>\n",
              "      <th>count</th>\n",
              "    </tr>\n",
              "  </thead>\n",
              "  <tbody>\n",
              "    <tr>\n",
              "      <th>0</th>\n",
              "      <td>Free</td>\n",
              "      <td>8903</td>\n",
              "    </tr>\n",
              "    <tr>\n",
              "      <th>1</th>\n",
              "      <td>Paid</td>\n",
              "      <td>756</td>\n",
              "    </tr>\n",
              "  </tbody>\n",
              "</table>\n",
              "</div>\n",
              "      <button class=\"colab-df-convert\" onclick=\"convertToInteractive('df-440010b9-fa53-4934-8491-9ac00bed3acd')\"\n",
              "              title=\"Convert this dataframe to an interactive table.\"\n",
              "              style=\"display:none;\">\n",
              "        \n",
              "  <svg xmlns=\"http://www.w3.org/2000/svg\" height=\"24px\"viewBox=\"0 0 24 24\"\n",
              "       width=\"24px\">\n",
              "    <path d=\"M0 0h24v24H0V0z\" fill=\"none\"/>\n",
              "    <path d=\"M18.56 5.44l.94 2.06.94-2.06 2.06-.94-2.06-.94-.94-2.06-.94 2.06-2.06.94zm-11 1L8.5 8.5l.94-2.06 2.06-.94-2.06-.94L8.5 2.5l-.94 2.06-2.06.94zm10 10l.94 2.06.94-2.06 2.06-.94-2.06-.94-.94-2.06-.94 2.06-2.06.94z\"/><path d=\"M17.41 7.96l-1.37-1.37c-.4-.4-.92-.59-1.43-.59-.52 0-1.04.2-1.43.59L10.3 9.45l-7.72 7.72c-.78.78-.78 2.05 0 2.83L4 21.41c.39.39.9.59 1.41.59.51 0 1.02-.2 1.41-.59l7.78-7.78 2.81-2.81c.8-.78.8-2.07 0-2.86zM5.41 20L4 18.59l7.72-7.72 1.47 1.35L5.41 20z\"/>\n",
              "  </svg>\n",
              "      </button>\n",
              "      \n",
              "  <style>\n",
              "    .colab-df-container {\n",
              "      display:flex;\n",
              "      flex-wrap:wrap;\n",
              "      gap: 12px;\n",
              "    }\n",
              "\n",
              "    .colab-df-convert {\n",
              "      background-color: #E8F0FE;\n",
              "      border: none;\n",
              "      border-radius: 50%;\n",
              "      cursor: pointer;\n",
              "      display: none;\n",
              "      fill: #1967D2;\n",
              "      height: 32px;\n",
              "      padding: 0 0 0 0;\n",
              "      width: 32px;\n",
              "    }\n",
              "\n",
              "    .colab-df-convert:hover {\n",
              "      background-color: #E2EBFA;\n",
              "      box-shadow: 0px 1px 2px rgba(60, 64, 67, 0.3), 0px 1px 3px 1px rgba(60, 64, 67, 0.15);\n",
              "      fill: #174EA6;\n",
              "    }\n",
              "\n",
              "    [theme=dark] .colab-df-convert {\n",
              "      background-color: #3B4455;\n",
              "      fill: #D2E3FC;\n",
              "    }\n",
              "\n",
              "    [theme=dark] .colab-df-convert:hover {\n",
              "      background-color: #434B5C;\n",
              "      box-shadow: 0px 1px 3px 1px rgba(0, 0, 0, 0.15);\n",
              "      filter: drop-shadow(0px 1px 2px rgba(0, 0, 0, 0.3));\n",
              "      fill: #FFFFFF;\n",
              "    }\n",
              "  </style>\n",
              "\n",
              "      <script>\n",
              "        const buttonEl =\n",
              "          document.querySelector('#df-440010b9-fa53-4934-8491-9ac00bed3acd button.colab-df-convert');\n",
              "        buttonEl.style.display =\n",
              "          google.colab.kernel.accessAllowed ? 'block' : 'none';\n",
              "\n",
              "        async function convertToInteractive(key) {\n",
              "          const element = document.querySelector('#df-440010b9-fa53-4934-8491-9ac00bed3acd');\n",
              "          const dataTable =\n",
              "            await google.colab.kernel.invokeFunction('convertToInteractive',\n",
              "                                                     [key], {});\n",
              "          if (!dataTable) return;\n",
              "\n",
              "          const docLinkHtml = 'Like what you see? Visit the ' +\n",
              "            '<a target=\"_blank\" href=https://colab.research.google.com/notebooks/data_table.ipynb>data table notebook</a>'\n",
              "            + ' to learn more about interactive tables.';\n",
              "          element.innerHTML = '';\n",
              "          dataTable['output_type'] = 'display_data';\n",
              "          await google.colab.output.renderOutput(dataTable, element);\n",
              "          const docLink = document.createElement('div');\n",
              "          docLink.innerHTML = docLinkHtml;\n",
              "          element.appendChild(docLink);\n",
              "        }\n",
              "      </script>\n",
              "    </div>\n",
              "  </div>\n",
              "  "
            ]
          },
          "metadata": {},
          "execution_count": 53
        }
      ]
    },
    {
      "cell_type": "code",
      "source": [
        "fig = go.Figure()\n",
        "fig.add_trace(go.Pie(labels=paid_free['index'], values=paid_free['count'], textinfo='label + percent',\n",
        "    textposition='inside', pull=[0.2, 0, 0, 0]))\n",
        "\n",
        "fig.update_layout(title='Paid vs Free Apps on Play Store')\n",
        "fig.show()"
      ],
      "metadata": {
        "colab": {
          "base_uri": "https://localhost:8080/",
          "height": 542
        },
        "id": "LkQKL1FJdj4t",
        "outputId": "f995fddc-00b5-48a9-e231-bb38ac923d57"
      },
      "execution_count": null,
      "outputs": [
        {
          "output_type": "display_data",
          "data": {
            "text/html": [
              "<html>\n",
              "<head><meta charset=\"utf-8\" /></head>\n",
              "<body>\n",
              "    <div>            <script src=\"https://cdnjs.cloudflare.com/ajax/libs/mathjax/2.7.5/MathJax.js?config=TeX-AMS-MML_SVG\"></script><script type=\"text/javascript\">if (window.MathJax) {MathJax.Hub.Config({SVG: {font: \"STIX-Web\"}});}</script>                <script type=\"text/javascript\">window.PlotlyConfig = {MathJaxConfig: 'local'};</script>\n",
              "        <script src=\"https://cdn.plot.ly/plotly-2.8.3.min.js\"></script>                <div id=\"d0978233-fcdc-4573-88d1-270f19e34d6b\" class=\"plotly-graph-div\" style=\"height:525px; width:100%;\"></div>            <script type=\"text/javascript\">                                    window.PLOTLYENV=window.PLOTLYENV || {};                                    if (document.getElementById(\"d0978233-fcdc-4573-88d1-270f19e34d6b\")) {                    Plotly.newPlot(                        \"d0978233-fcdc-4573-88d1-270f19e34d6b\",                        [{\"labels\":[\"Free\",\"Paid\"],\"pull\":[0.2,0,0,0],\"textinfo\":\"label+percent\",\"textposition\":\"inside\",\"values\":[8903,756],\"type\":\"pie\"}],                        {\"template\":{\"data\":{\"bar\":[{\"error_x\":{\"color\":\"#2a3f5f\"},\"error_y\":{\"color\":\"#2a3f5f\"},\"marker\":{\"line\":{\"color\":\"#E5ECF6\",\"width\":0.5},\"pattern\":{\"fillmode\":\"overlay\",\"size\":10,\"solidity\":0.2}},\"type\":\"bar\"}],\"barpolar\":[{\"marker\":{\"line\":{\"color\":\"#E5ECF6\",\"width\":0.5},\"pattern\":{\"fillmode\":\"overlay\",\"size\":10,\"solidity\":0.2}},\"type\":\"barpolar\"}],\"carpet\":[{\"aaxis\":{\"endlinecolor\":\"#2a3f5f\",\"gridcolor\":\"white\",\"linecolor\":\"white\",\"minorgridcolor\":\"white\",\"startlinecolor\":\"#2a3f5f\"},\"baxis\":{\"endlinecolor\":\"#2a3f5f\",\"gridcolor\":\"white\",\"linecolor\":\"white\",\"minorgridcolor\":\"white\",\"startlinecolor\":\"#2a3f5f\"},\"type\":\"carpet\"}],\"choropleth\":[{\"colorbar\":{\"outlinewidth\":0,\"ticks\":\"\"},\"type\":\"choropleth\"}],\"contour\":[{\"colorbar\":{\"outlinewidth\":0,\"ticks\":\"\"},\"colorscale\":[[0.0,\"#0d0887\"],[0.1111111111111111,\"#46039f\"],[0.2222222222222222,\"#7201a8\"],[0.3333333333333333,\"#9c179e\"],[0.4444444444444444,\"#bd3786\"],[0.5555555555555556,\"#d8576b\"],[0.6666666666666666,\"#ed7953\"],[0.7777777777777778,\"#fb9f3a\"],[0.8888888888888888,\"#fdca26\"],[1.0,\"#f0f921\"]],\"type\":\"contour\"}],\"contourcarpet\":[{\"colorbar\":{\"outlinewidth\":0,\"ticks\":\"\"},\"type\":\"contourcarpet\"}],\"heatmap\":[{\"colorbar\":{\"outlinewidth\":0,\"ticks\":\"\"},\"colorscale\":[[0.0,\"#0d0887\"],[0.1111111111111111,\"#46039f\"],[0.2222222222222222,\"#7201a8\"],[0.3333333333333333,\"#9c179e\"],[0.4444444444444444,\"#bd3786\"],[0.5555555555555556,\"#d8576b\"],[0.6666666666666666,\"#ed7953\"],[0.7777777777777778,\"#fb9f3a\"],[0.8888888888888888,\"#fdca26\"],[1.0,\"#f0f921\"]],\"type\":\"heatmap\"}],\"heatmapgl\":[{\"colorbar\":{\"outlinewidth\":0,\"ticks\":\"\"},\"colorscale\":[[0.0,\"#0d0887\"],[0.1111111111111111,\"#46039f\"],[0.2222222222222222,\"#7201a8\"],[0.3333333333333333,\"#9c179e\"],[0.4444444444444444,\"#bd3786\"],[0.5555555555555556,\"#d8576b\"],[0.6666666666666666,\"#ed7953\"],[0.7777777777777778,\"#fb9f3a\"],[0.8888888888888888,\"#fdca26\"],[1.0,\"#f0f921\"]],\"type\":\"heatmapgl\"}],\"histogram\":[{\"marker\":{\"pattern\":{\"fillmode\":\"overlay\",\"size\":10,\"solidity\":0.2}},\"type\":\"histogram\"}],\"histogram2d\":[{\"colorbar\":{\"outlinewidth\":0,\"ticks\":\"\"},\"colorscale\":[[0.0,\"#0d0887\"],[0.1111111111111111,\"#46039f\"],[0.2222222222222222,\"#7201a8\"],[0.3333333333333333,\"#9c179e\"],[0.4444444444444444,\"#bd3786\"],[0.5555555555555556,\"#d8576b\"],[0.6666666666666666,\"#ed7953\"],[0.7777777777777778,\"#fb9f3a\"],[0.8888888888888888,\"#fdca26\"],[1.0,\"#f0f921\"]],\"type\":\"histogram2d\"}],\"histogram2dcontour\":[{\"colorbar\":{\"outlinewidth\":0,\"ticks\":\"\"},\"colorscale\":[[0.0,\"#0d0887\"],[0.1111111111111111,\"#46039f\"],[0.2222222222222222,\"#7201a8\"],[0.3333333333333333,\"#9c179e\"],[0.4444444444444444,\"#bd3786\"],[0.5555555555555556,\"#d8576b\"],[0.6666666666666666,\"#ed7953\"],[0.7777777777777778,\"#fb9f3a\"],[0.8888888888888888,\"#fdca26\"],[1.0,\"#f0f921\"]],\"type\":\"histogram2dcontour\"}],\"mesh3d\":[{\"colorbar\":{\"outlinewidth\":0,\"ticks\":\"\"},\"type\":\"mesh3d\"}],\"parcoords\":[{\"line\":{\"colorbar\":{\"outlinewidth\":0,\"ticks\":\"\"}},\"type\":\"parcoords\"}],\"pie\":[{\"automargin\":true,\"type\":\"pie\"}],\"scatter\":[{\"marker\":{\"colorbar\":{\"outlinewidth\":0,\"ticks\":\"\"}},\"type\":\"scatter\"}],\"scatter3d\":[{\"line\":{\"colorbar\":{\"outlinewidth\":0,\"ticks\":\"\"}},\"marker\":{\"colorbar\":{\"outlinewidth\":0,\"ticks\":\"\"}},\"type\":\"scatter3d\"}],\"scattercarpet\":[{\"marker\":{\"colorbar\":{\"outlinewidth\":0,\"ticks\":\"\"}},\"type\":\"scattercarpet\"}],\"scattergeo\":[{\"marker\":{\"colorbar\":{\"outlinewidth\":0,\"ticks\":\"\"}},\"type\":\"scattergeo\"}],\"scattergl\":[{\"marker\":{\"colorbar\":{\"outlinewidth\":0,\"ticks\":\"\"}},\"type\":\"scattergl\"}],\"scattermapbox\":[{\"marker\":{\"colorbar\":{\"outlinewidth\":0,\"ticks\":\"\"}},\"type\":\"scattermapbox\"}],\"scatterpolar\":[{\"marker\":{\"colorbar\":{\"outlinewidth\":0,\"ticks\":\"\"}},\"type\":\"scatterpolar\"}],\"scatterpolargl\":[{\"marker\":{\"colorbar\":{\"outlinewidth\":0,\"ticks\":\"\"}},\"type\":\"scatterpolargl\"}],\"scatterternary\":[{\"marker\":{\"colorbar\":{\"outlinewidth\":0,\"ticks\":\"\"}},\"type\":\"scatterternary\"}],\"surface\":[{\"colorbar\":{\"outlinewidth\":0,\"ticks\":\"\"},\"colorscale\":[[0.0,\"#0d0887\"],[0.1111111111111111,\"#46039f\"],[0.2222222222222222,\"#7201a8\"],[0.3333333333333333,\"#9c179e\"],[0.4444444444444444,\"#bd3786\"],[0.5555555555555556,\"#d8576b\"],[0.6666666666666666,\"#ed7953\"],[0.7777777777777778,\"#fb9f3a\"],[0.8888888888888888,\"#fdca26\"],[1.0,\"#f0f921\"]],\"type\":\"surface\"}],\"table\":[{\"cells\":{\"fill\":{\"color\":\"#EBF0F8\"},\"line\":{\"color\":\"white\"}},\"header\":{\"fill\":{\"color\":\"#C8D4E3\"},\"line\":{\"color\":\"white\"}},\"type\":\"table\"}]},\"layout\":{\"annotationdefaults\":{\"arrowcolor\":\"#2a3f5f\",\"arrowhead\":0,\"arrowwidth\":1},\"autotypenumbers\":\"strict\",\"coloraxis\":{\"colorbar\":{\"outlinewidth\":0,\"ticks\":\"\"}},\"colorscale\":{\"diverging\":[[0,\"#8e0152\"],[0.1,\"#c51b7d\"],[0.2,\"#de77ae\"],[0.3,\"#f1b6da\"],[0.4,\"#fde0ef\"],[0.5,\"#f7f7f7\"],[0.6,\"#e6f5d0\"],[0.7,\"#b8e186\"],[0.8,\"#7fbc41\"],[0.9,\"#4d9221\"],[1,\"#276419\"]],\"sequential\":[[0.0,\"#0d0887\"],[0.1111111111111111,\"#46039f\"],[0.2222222222222222,\"#7201a8\"],[0.3333333333333333,\"#9c179e\"],[0.4444444444444444,\"#bd3786\"],[0.5555555555555556,\"#d8576b\"],[0.6666666666666666,\"#ed7953\"],[0.7777777777777778,\"#fb9f3a\"],[0.8888888888888888,\"#fdca26\"],[1.0,\"#f0f921\"]],\"sequentialminus\":[[0.0,\"#0d0887\"],[0.1111111111111111,\"#46039f\"],[0.2222222222222222,\"#7201a8\"],[0.3333333333333333,\"#9c179e\"],[0.4444444444444444,\"#bd3786\"],[0.5555555555555556,\"#d8576b\"],[0.6666666666666666,\"#ed7953\"],[0.7777777777777778,\"#fb9f3a\"],[0.8888888888888888,\"#fdca26\"],[1.0,\"#f0f921\"]]},\"colorway\":[\"#636efa\",\"#EF553B\",\"#00cc96\",\"#ab63fa\",\"#FFA15A\",\"#19d3f3\",\"#FF6692\",\"#B6E880\",\"#FF97FF\",\"#FECB52\"],\"font\":{\"color\":\"#2a3f5f\"},\"geo\":{\"bgcolor\":\"white\",\"lakecolor\":\"white\",\"landcolor\":\"#E5ECF6\",\"showlakes\":true,\"showland\":true,\"subunitcolor\":\"white\"},\"hoverlabel\":{\"align\":\"left\"},\"hovermode\":\"closest\",\"mapbox\":{\"style\":\"light\"},\"paper_bgcolor\":\"white\",\"plot_bgcolor\":\"#E5ECF6\",\"polar\":{\"angularaxis\":{\"gridcolor\":\"white\",\"linecolor\":\"white\",\"ticks\":\"\"},\"bgcolor\":\"#E5ECF6\",\"radialaxis\":{\"gridcolor\":\"white\",\"linecolor\":\"white\",\"ticks\":\"\"}},\"scene\":{\"xaxis\":{\"backgroundcolor\":\"#E5ECF6\",\"gridcolor\":\"white\",\"gridwidth\":2,\"linecolor\":\"white\",\"showbackground\":true,\"ticks\":\"\",\"zerolinecolor\":\"white\"},\"yaxis\":{\"backgroundcolor\":\"#E5ECF6\",\"gridcolor\":\"white\",\"gridwidth\":2,\"linecolor\":\"white\",\"showbackground\":true,\"ticks\":\"\",\"zerolinecolor\":\"white\"},\"zaxis\":{\"backgroundcolor\":\"#E5ECF6\",\"gridcolor\":\"white\",\"gridwidth\":2,\"linecolor\":\"white\",\"showbackground\":true,\"ticks\":\"\",\"zerolinecolor\":\"white\"}},\"shapedefaults\":{\"line\":{\"color\":\"#2a3f5f\"}},\"ternary\":{\"aaxis\":{\"gridcolor\":\"white\",\"linecolor\":\"white\",\"ticks\":\"\"},\"baxis\":{\"gridcolor\":\"white\",\"linecolor\":\"white\",\"ticks\":\"\"},\"bgcolor\":\"#E5ECF6\",\"caxis\":{\"gridcolor\":\"white\",\"linecolor\":\"white\",\"ticks\":\"\"}},\"title\":{\"x\":0.05},\"xaxis\":{\"automargin\":true,\"gridcolor\":\"white\",\"linecolor\":\"white\",\"ticks\":\"\",\"title\":{\"standoff\":15},\"zerolinecolor\":\"white\",\"zerolinewidth\":2},\"yaxis\":{\"automargin\":true,\"gridcolor\":\"white\",\"linecolor\":\"white\",\"ticks\":\"\",\"title\":{\"standoff\":15},\"zerolinecolor\":\"white\",\"zerolinewidth\":2}}},\"title\":{\"text\":\"Paid vs Free Apps on Play Store\"}},                        {\"responsive\": true}                    ).then(function(){\n",
              "                            \n",
              "var gd = document.getElementById('d0978233-fcdc-4573-88d1-270f19e34d6b');\n",
              "var x = new MutationObserver(function (mutations, observer) {{\n",
              "        var display = window.getComputedStyle(gd).display;\n",
              "        if (!display || display === 'none') {{\n",
              "            console.log([gd, 'removed!']);\n",
              "            Plotly.purge(gd);\n",
              "            observer.disconnect();\n",
              "        }}\n",
              "}});\n",
              "\n",
              "// Listen for the removal of the full notebook cells\n",
              "var notebookContainer = gd.closest('#notebook-container');\n",
              "if (notebookContainer) {{\n",
              "    x.observe(notebookContainer, {childList: true});\n",
              "}}\n",
              "\n",
              "// Listen for the clearing of the current output cell\n",
              "var outputEl = gd.closest('.output');\n",
              "if (outputEl) {{\n",
              "    x.observe(outputEl, {childList: true});\n",
              "}}\n",
              "\n",
              "                        })                };                            </script>        </div>\n",
              "</body>\n",
              "</html>"
            ]
          },
          "metadata": {}
        }
      ]
    },
    {
      "cell_type": "markdown",
      "source": [
        "##5.Paid and free app by category in play store."
      ],
      "metadata": {
        "id": "48ro-e2xkFKc"
      }
    },
    {
      "cell_type": "code",
      "source": [
        "free_cat = data[data['Type'] == 'Free']['Category'].value_counts().reset_index(name = 'count')\n",
        "free_cat"
      ],
      "metadata": {
        "colab": {
          "base_uri": "https://localhost:8080/",
          "height": 1000
        },
        "id": "h_Z37_58kbG7",
        "outputId": "90075ac6-0a52-4d4f-f80f-b88146775e80"
      },
      "execution_count": null,
      "outputs": [
        {
          "output_type": "execute_result",
          "data": {
            "text/plain": [
              "                  index  count\n",
              "0                FAMILY   1649\n",
              "1                  GAME    877\n",
              "2                 TOOLS    749\n",
              "3              BUSINESS    408\n",
              "4             LIFESTYLE    350\n",
              "5          PRODUCTIVITY    346\n",
              "6               FINANCE    328\n",
              "7               MEDICAL    312\n",
              "8                SPORTS    301\n",
              "9       PERSONALIZATION    295\n",
              "10        COMMUNICATION    288\n",
              "11   HEALTH_AND_FITNESS    273\n",
              "12          PHOTOGRAPHY    262\n",
              "13   NEWS_AND_MAGAZINES    252\n",
              "14               SOCIAL    236\n",
              "15     TRAVEL_AND_LOCAL    207\n",
              "16             SHOPPING    200\n",
              "17  BOOKS_AND_REFERENCE    194\n",
              "18               DATING    165\n",
              "19        VIDEO_PLAYERS    159\n",
              "20  MAPS_AND_NAVIGATION    126\n",
              "21            EDUCATION    115\n",
              "22       FOOD_AND_DRINK    110\n",
              "23        ENTERTAINMENT    100\n",
              "24   LIBRARIES_AND_DEMO     83\n",
              "25    AUTO_AND_VEHICLES     82\n",
              "26       HOUSE_AND_HOME     74\n",
              "27              WEATHER     71\n",
              "28               EVENTS     63\n",
              "29       ART_AND_DESIGN     61\n",
              "30            PARENTING     58\n",
              "31               COMICS     56\n",
              "32               BEAUTY     53"
            ],
            "text/html": [
              "\n",
              "  <div id=\"df-3df96048-742a-41b8-8369-19f2e0a1028a\">\n",
              "    <div class=\"colab-df-container\">\n",
              "      <div>\n",
              "<style scoped>\n",
              "    .dataframe tbody tr th:only-of-type {\n",
              "        vertical-align: middle;\n",
              "    }\n",
              "\n",
              "    .dataframe tbody tr th {\n",
              "        vertical-align: top;\n",
              "    }\n",
              "\n",
              "    .dataframe thead th {\n",
              "        text-align: right;\n",
              "    }\n",
              "</style>\n",
              "<table border=\"1\" class=\"dataframe\">\n",
              "  <thead>\n",
              "    <tr style=\"text-align: right;\">\n",
              "      <th></th>\n",
              "      <th>index</th>\n",
              "      <th>count</th>\n",
              "    </tr>\n",
              "  </thead>\n",
              "  <tbody>\n",
              "    <tr>\n",
              "      <th>0</th>\n",
              "      <td>FAMILY</td>\n",
              "      <td>1649</td>\n",
              "    </tr>\n",
              "    <tr>\n",
              "      <th>1</th>\n",
              "      <td>GAME</td>\n",
              "      <td>877</td>\n",
              "    </tr>\n",
              "    <tr>\n",
              "      <th>2</th>\n",
              "      <td>TOOLS</td>\n",
              "      <td>749</td>\n",
              "    </tr>\n",
              "    <tr>\n",
              "      <th>3</th>\n",
              "      <td>BUSINESS</td>\n",
              "      <td>408</td>\n",
              "    </tr>\n",
              "    <tr>\n",
              "      <th>4</th>\n",
              "      <td>LIFESTYLE</td>\n",
              "      <td>350</td>\n",
              "    </tr>\n",
              "    <tr>\n",
              "      <th>5</th>\n",
              "      <td>PRODUCTIVITY</td>\n",
              "      <td>346</td>\n",
              "    </tr>\n",
              "    <tr>\n",
              "      <th>6</th>\n",
              "      <td>FINANCE</td>\n",
              "      <td>328</td>\n",
              "    </tr>\n",
              "    <tr>\n",
              "      <th>7</th>\n",
              "      <td>MEDICAL</td>\n",
              "      <td>312</td>\n",
              "    </tr>\n",
              "    <tr>\n",
              "      <th>8</th>\n",
              "      <td>SPORTS</td>\n",
              "      <td>301</td>\n",
              "    </tr>\n",
              "    <tr>\n",
              "      <th>9</th>\n",
              "      <td>PERSONALIZATION</td>\n",
              "      <td>295</td>\n",
              "    </tr>\n",
              "    <tr>\n",
              "      <th>10</th>\n",
              "      <td>COMMUNICATION</td>\n",
              "      <td>288</td>\n",
              "    </tr>\n",
              "    <tr>\n",
              "      <th>11</th>\n",
              "      <td>HEALTH_AND_FITNESS</td>\n",
              "      <td>273</td>\n",
              "    </tr>\n",
              "    <tr>\n",
              "      <th>12</th>\n",
              "      <td>PHOTOGRAPHY</td>\n",
              "      <td>262</td>\n",
              "    </tr>\n",
              "    <tr>\n",
              "      <th>13</th>\n",
              "      <td>NEWS_AND_MAGAZINES</td>\n",
              "      <td>252</td>\n",
              "    </tr>\n",
              "    <tr>\n",
              "      <th>14</th>\n",
              "      <td>SOCIAL</td>\n",
              "      <td>236</td>\n",
              "    </tr>\n",
              "    <tr>\n",
              "      <th>15</th>\n",
              "      <td>TRAVEL_AND_LOCAL</td>\n",
              "      <td>207</td>\n",
              "    </tr>\n",
              "    <tr>\n",
              "      <th>16</th>\n",
              "      <td>SHOPPING</td>\n",
              "      <td>200</td>\n",
              "    </tr>\n",
              "    <tr>\n",
              "      <th>17</th>\n",
              "      <td>BOOKS_AND_REFERENCE</td>\n",
              "      <td>194</td>\n",
              "    </tr>\n",
              "    <tr>\n",
              "      <th>18</th>\n",
              "      <td>DATING</td>\n",
              "      <td>165</td>\n",
              "    </tr>\n",
              "    <tr>\n",
              "      <th>19</th>\n",
              "      <td>VIDEO_PLAYERS</td>\n",
              "      <td>159</td>\n",
              "    </tr>\n",
              "    <tr>\n",
              "      <th>20</th>\n",
              "      <td>MAPS_AND_NAVIGATION</td>\n",
              "      <td>126</td>\n",
              "    </tr>\n",
              "    <tr>\n",
              "      <th>21</th>\n",
              "      <td>EDUCATION</td>\n",
              "      <td>115</td>\n",
              "    </tr>\n",
              "    <tr>\n",
              "      <th>22</th>\n",
              "      <td>FOOD_AND_DRINK</td>\n",
              "      <td>110</td>\n",
              "    </tr>\n",
              "    <tr>\n",
              "      <th>23</th>\n",
              "      <td>ENTERTAINMENT</td>\n",
              "      <td>100</td>\n",
              "    </tr>\n",
              "    <tr>\n",
              "      <th>24</th>\n",
              "      <td>LIBRARIES_AND_DEMO</td>\n",
              "      <td>83</td>\n",
              "    </tr>\n",
              "    <tr>\n",
              "      <th>25</th>\n",
              "      <td>AUTO_AND_VEHICLES</td>\n",
              "      <td>82</td>\n",
              "    </tr>\n",
              "    <tr>\n",
              "      <th>26</th>\n",
              "      <td>HOUSE_AND_HOME</td>\n",
              "      <td>74</td>\n",
              "    </tr>\n",
              "    <tr>\n",
              "      <th>27</th>\n",
              "      <td>WEATHER</td>\n",
              "      <td>71</td>\n",
              "    </tr>\n",
              "    <tr>\n",
              "      <th>28</th>\n",
              "      <td>EVENTS</td>\n",
              "      <td>63</td>\n",
              "    </tr>\n",
              "    <tr>\n",
              "      <th>29</th>\n",
              "      <td>ART_AND_DESIGN</td>\n",
              "      <td>61</td>\n",
              "    </tr>\n",
              "    <tr>\n",
              "      <th>30</th>\n",
              "      <td>PARENTING</td>\n",
              "      <td>58</td>\n",
              "    </tr>\n",
              "    <tr>\n",
              "      <th>31</th>\n",
              "      <td>COMICS</td>\n",
              "      <td>56</td>\n",
              "    </tr>\n",
              "    <tr>\n",
              "      <th>32</th>\n",
              "      <td>BEAUTY</td>\n",
              "      <td>53</td>\n",
              "    </tr>\n",
              "  </tbody>\n",
              "</table>\n",
              "</div>\n",
              "      <button class=\"colab-df-convert\" onclick=\"convertToInteractive('df-3df96048-742a-41b8-8369-19f2e0a1028a')\"\n",
              "              title=\"Convert this dataframe to an interactive table.\"\n",
              "              style=\"display:none;\">\n",
              "        \n",
              "  <svg xmlns=\"http://www.w3.org/2000/svg\" height=\"24px\"viewBox=\"0 0 24 24\"\n",
              "       width=\"24px\">\n",
              "    <path d=\"M0 0h24v24H0V0z\" fill=\"none\"/>\n",
              "    <path d=\"M18.56 5.44l.94 2.06.94-2.06 2.06-.94-2.06-.94-.94-2.06-.94 2.06-2.06.94zm-11 1L8.5 8.5l.94-2.06 2.06-.94-2.06-.94L8.5 2.5l-.94 2.06-2.06.94zm10 10l.94 2.06.94-2.06 2.06-.94-2.06-.94-.94-2.06-.94 2.06-2.06.94z\"/><path d=\"M17.41 7.96l-1.37-1.37c-.4-.4-.92-.59-1.43-.59-.52 0-1.04.2-1.43.59L10.3 9.45l-7.72 7.72c-.78.78-.78 2.05 0 2.83L4 21.41c.39.39.9.59 1.41.59.51 0 1.02-.2 1.41-.59l7.78-7.78 2.81-2.81c.8-.78.8-2.07 0-2.86zM5.41 20L4 18.59l7.72-7.72 1.47 1.35L5.41 20z\"/>\n",
              "  </svg>\n",
              "      </button>\n",
              "      \n",
              "  <style>\n",
              "    .colab-df-container {\n",
              "      display:flex;\n",
              "      flex-wrap:wrap;\n",
              "      gap: 12px;\n",
              "    }\n",
              "\n",
              "    .colab-df-convert {\n",
              "      background-color: #E8F0FE;\n",
              "      border: none;\n",
              "      border-radius: 50%;\n",
              "      cursor: pointer;\n",
              "      display: none;\n",
              "      fill: #1967D2;\n",
              "      height: 32px;\n",
              "      padding: 0 0 0 0;\n",
              "      width: 32px;\n",
              "    }\n",
              "\n",
              "    .colab-df-convert:hover {\n",
              "      background-color: #E2EBFA;\n",
              "      box-shadow: 0px 1px 2px rgba(60, 64, 67, 0.3), 0px 1px 3px 1px rgba(60, 64, 67, 0.15);\n",
              "      fill: #174EA6;\n",
              "    }\n",
              "\n",
              "    [theme=dark] .colab-df-convert {\n",
              "      background-color: #3B4455;\n",
              "      fill: #D2E3FC;\n",
              "    }\n",
              "\n",
              "    [theme=dark] .colab-df-convert:hover {\n",
              "      background-color: #434B5C;\n",
              "      box-shadow: 0px 1px 3px 1px rgba(0, 0, 0, 0.15);\n",
              "      filter: drop-shadow(0px 1px 2px rgba(0, 0, 0, 0.3));\n",
              "      fill: #FFFFFF;\n",
              "    }\n",
              "  </style>\n",
              "\n",
              "      <script>\n",
              "        const buttonEl =\n",
              "          document.querySelector('#df-3df96048-742a-41b8-8369-19f2e0a1028a button.colab-df-convert');\n",
              "        buttonEl.style.display =\n",
              "          google.colab.kernel.accessAllowed ? 'block' : 'none';\n",
              "\n",
              "        async function convertToInteractive(key) {\n",
              "          const element = document.querySelector('#df-3df96048-742a-41b8-8369-19f2e0a1028a');\n",
              "          const dataTable =\n",
              "            await google.colab.kernel.invokeFunction('convertToInteractive',\n",
              "                                                     [key], {});\n",
              "          if (!dataTable) return;\n",
              "\n",
              "          const docLinkHtml = 'Like what you see? Visit the ' +\n",
              "            '<a target=\"_blank\" href=https://colab.research.google.com/notebooks/data_table.ipynb>data table notebook</a>'\n",
              "            + ' to learn more about interactive tables.';\n",
              "          element.innerHTML = '';\n",
              "          dataTable['output_type'] = 'display_data';\n",
              "          await google.colab.output.renderOutput(dataTable, element);\n",
              "          const docLink = document.createElement('div');\n",
              "          docLink.innerHTML = docLinkHtml;\n",
              "          element.appendChild(docLink);\n",
              "        }\n",
              "      </script>\n",
              "    </div>\n",
              "  </div>\n",
              "  "
            ]
          },
          "metadata": {},
          "execution_count": 55
        }
      ]
    },
    {
      "cell_type": "code",
      "source": [
        "paid_cat = data[data['Type'] == 'Paid']['Category'].value_counts().reset_index(name = 'count')\n",
        "paid_cat"
      ],
      "metadata": {
        "colab": {
          "base_uri": "https://localhost:8080/",
          "height": 990
        },
        "id": "BVVX4lD2lOB_",
        "outputId": "574406b4-4121-4df4-9f9d-94ab4f452d4e"
      },
      "execution_count": null,
      "outputs": [
        {
          "output_type": "execute_result",
          "data": {
            "text/plain": [
              "                  index  count\n",
              "0                FAMILY    183\n",
              "1               MEDICAL     83\n",
              "2                  GAME     82\n",
              "3       PERSONALIZATION     81\n",
              "4                 TOOLS     78\n",
              "5   BOOKS_AND_REFERENCE     28\n",
              "6          PRODUCTIVITY     28\n",
              "7         COMMUNICATION     27\n",
              "8                SPORTS     24\n",
              "9             LIFESTYLE     19\n",
              "10          PHOTOGRAPHY     19\n",
              "11              FINANCE     17\n",
              "12   HEALTH_AND_FITNESS     15\n",
              "13     TRAVEL_AND_LOCAL     12\n",
              "14             BUSINESS     12\n",
              "15              WEATHER      8\n",
              "16               DATING      6\n",
              "17  MAPS_AND_NAVIGATION      5\n",
              "18            EDUCATION      4\n",
              "19        VIDEO_PLAYERS      4\n",
              "20    AUTO_AND_VEHICLES      3\n",
              "21               SOCIAL      3\n",
              "22       ART_AND_DESIGN      3\n",
              "23       FOOD_AND_DRINK      2\n",
              "24        ENTERTAINMENT      2\n",
              "25   NEWS_AND_MAGAZINES      2\n",
              "26             SHOPPING      2\n",
              "27            PARENTING      2\n",
              "28   LIBRARIES_AND_DEMO      1\n",
              "29               EVENTS      1"
            ],
            "text/html": [
              "\n",
              "  <div id=\"df-5a46c10e-90ba-4c77-8dd0-f24c19dc75e2\">\n",
              "    <div class=\"colab-df-container\">\n",
              "      <div>\n",
              "<style scoped>\n",
              "    .dataframe tbody tr th:only-of-type {\n",
              "        vertical-align: middle;\n",
              "    }\n",
              "\n",
              "    .dataframe tbody tr th {\n",
              "        vertical-align: top;\n",
              "    }\n",
              "\n",
              "    .dataframe thead th {\n",
              "        text-align: right;\n",
              "    }\n",
              "</style>\n",
              "<table border=\"1\" class=\"dataframe\">\n",
              "  <thead>\n",
              "    <tr style=\"text-align: right;\">\n",
              "      <th></th>\n",
              "      <th>index</th>\n",
              "      <th>count</th>\n",
              "    </tr>\n",
              "  </thead>\n",
              "  <tbody>\n",
              "    <tr>\n",
              "      <th>0</th>\n",
              "      <td>FAMILY</td>\n",
              "      <td>183</td>\n",
              "    </tr>\n",
              "    <tr>\n",
              "      <th>1</th>\n",
              "      <td>MEDICAL</td>\n",
              "      <td>83</td>\n",
              "    </tr>\n",
              "    <tr>\n",
              "      <th>2</th>\n",
              "      <td>GAME</td>\n",
              "      <td>82</td>\n",
              "    </tr>\n",
              "    <tr>\n",
              "      <th>3</th>\n",
              "      <td>PERSONALIZATION</td>\n",
              "      <td>81</td>\n",
              "    </tr>\n",
              "    <tr>\n",
              "      <th>4</th>\n",
              "      <td>TOOLS</td>\n",
              "      <td>78</td>\n",
              "    </tr>\n",
              "    <tr>\n",
              "      <th>5</th>\n",
              "      <td>BOOKS_AND_REFERENCE</td>\n",
              "      <td>28</td>\n",
              "    </tr>\n",
              "    <tr>\n",
              "      <th>6</th>\n",
              "      <td>PRODUCTIVITY</td>\n",
              "      <td>28</td>\n",
              "    </tr>\n",
              "    <tr>\n",
              "      <th>7</th>\n",
              "      <td>COMMUNICATION</td>\n",
              "      <td>27</td>\n",
              "    </tr>\n",
              "    <tr>\n",
              "      <th>8</th>\n",
              "      <td>SPORTS</td>\n",
              "      <td>24</td>\n",
              "    </tr>\n",
              "    <tr>\n",
              "      <th>9</th>\n",
              "      <td>LIFESTYLE</td>\n",
              "      <td>19</td>\n",
              "    </tr>\n",
              "    <tr>\n",
              "      <th>10</th>\n",
              "      <td>PHOTOGRAPHY</td>\n",
              "      <td>19</td>\n",
              "    </tr>\n",
              "    <tr>\n",
              "      <th>11</th>\n",
              "      <td>FINANCE</td>\n",
              "      <td>17</td>\n",
              "    </tr>\n",
              "    <tr>\n",
              "      <th>12</th>\n",
              "      <td>HEALTH_AND_FITNESS</td>\n",
              "      <td>15</td>\n",
              "    </tr>\n",
              "    <tr>\n",
              "      <th>13</th>\n",
              "      <td>TRAVEL_AND_LOCAL</td>\n",
              "      <td>12</td>\n",
              "    </tr>\n",
              "    <tr>\n",
              "      <th>14</th>\n",
              "      <td>BUSINESS</td>\n",
              "      <td>12</td>\n",
              "    </tr>\n",
              "    <tr>\n",
              "      <th>15</th>\n",
              "      <td>WEATHER</td>\n",
              "      <td>8</td>\n",
              "    </tr>\n",
              "    <tr>\n",
              "      <th>16</th>\n",
              "      <td>DATING</td>\n",
              "      <td>6</td>\n",
              "    </tr>\n",
              "    <tr>\n",
              "      <th>17</th>\n",
              "      <td>MAPS_AND_NAVIGATION</td>\n",
              "      <td>5</td>\n",
              "    </tr>\n",
              "    <tr>\n",
              "      <th>18</th>\n",
              "      <td>EDUCATION</td>\n",
              "      <td>4</td>\n",
              "    </tr>\n",
              "    <tr>\n",
              "      <th>19</th>\n",
              "      <td>VIDEO_PLAYERS</td>\n",
              "      <td>4</td>\n",
              "    </tr>\n",
              "    <tr>\n",
              "      <th>20</th>\n",
              "      <td>AUTO_AND_VEHICLES</td>\n",
              "      <td>3</td>\n",
              "    </tr>\n",
              "    <tr>\n",
              "      <th>21</th>\n",
              "      <td>SOCIAL</td>\n",
              "      <td>3</td>\n",
              "    </tr>\n",
              "    <tr>\n",
              "      <th>22</th>\n",
              "      <td>ART_AND_DESIGN</td>\n",
              "      <td>3</td>\n",
              "    </tr>\n",
              "    <tr>\n",
              "      <th>23</th>\n",
              "      <td>FOOD_AND_DRINK</td>\n",
              "      <td>2</td>\n",
              "    </tr>\n",
              "    <tr>\n",
              "      <th>24</th>\n",
              "      <td>ENTERTAINMENT</td>\n",
              "      <td>2</td>\n",
              "    </tr>\n",
              "    <tr>\n",
              "      <th>25</th>\n",
              "      <td>NEWS_AND_MAGAZINES</td>\n",
              "      <td>2</td>\n",
              "    </tr>\n",
              "    <tr>\n",
              "      <th>26</th>\n",
              "      <td>SHOPPING</td>\n",
              "      <td>2</td>\n",
              "    </tr>\n",
              "    <tr>\n",
              "      <th>27</th>\n",
              "      <td>PARENTING</td>\n",
              "      <td>2</td>\n",
              "    </tr>\n",
              "    <tr>\n",
              "      <th>28</th>\n",
              "      <td>LIBRARIES_AND_DEMO</td>\n",
              "      <td>1</td>\n",
              "    </tr>\n",
              "    <tr>\n",
              "      <th>29</th>\n",
              "      <td>EVENTS</td>\n",
              "      <td>1</td>\n",
              "    </tr>\n",
              "  </tbody>\n",
              "</table>\n",
              "</div>\n",
              "      <button class=\"colab-df-convert\" onclick=\"convertToInteractive('df-5a46c10e-90ba-4c77-8dd0-f24c19dc75e2')\"\n",
              "              title=\"Convert this dataframe to an interactive table.\"\n",
              "              style=\"display:none;\">\n",
              "        \n",
              "  <svg xmlns=\"http://www.w3.org/2000/svg\" height=\"24px\"viewBox=\"0 0 24 24\"\n",
              "       width=\"24px\">\n",
              "    <path d=\"M0 0h24v24H0V0z\" fill=\"none\"/>\n",
              "    <path d=\"M18.56 5.44l.94 2.06.94-2.06 2.06-.94-2.06-.94-.94-2.06-.94 2.06-2.06.94zm-11 1L8.5 8.5l.94-2.06 2.06-.94-2.06-.94L8.5 2.5l-.94 2.06-2.06.94zm10 10l.94 2.06.94-2.06 2.06-.94-2.06-.94-.94-2.06-.94 2.06-2.06.94z\"/><path d=\"M17.41 7.96l-1.37-1.37c-.4-.4-.92-.59-1.43-.59-.52 0-1.04.2-1.43.59L10.3 9.45l-7.72 7.72c-.78.78-.78 2.05 0 2.83L4 21.41c.39.39.9.59 1.41.59.51 0 1.02-.2 1.41-.59l7.78-7.78 2.81-2.81c.8-.78.8-2.07 0-2.86zM5.41 20L4 18.59l7.72-7.72 1.47 1.35L5.41 20z\"/>\n",
              "  </svg>\n",
              "      </button>\n",
              "      \n",
              "  <style>\n",
              "    .colab-df-container {\n",
              "      display:flex;\n",
              "      flex-wrap:wrap;\n",
              "      gap: 12px;\n",
              "    }\n",
              "\n",
              "    .colab-df-convert {\n",
              "      background-color: #E8F0FE;\n",
              "      border: none;\n",
              "      border-radius: 50%;\n",
              "      cursor: pointer;\n",
              "      display: none;\n",
              "      fill: #1967D2;\n",
              "      height: 32px;\n",
              "      padding: 0 0 0 0;\n",
              "      width: 32px;\n",
              "    }\n",
              "\n",
              "    .colab-df-convert:hover {\n",
              "      background-color: #E2EBFA;\n",
              "      box-shadow: 0px 1px 2px rgba(60, 64, 67, 0.3), 0px 1px 3px 1px rgba(60, 64, 67, 0.15);\n",
              "      fill: #174EA6;\n",
              "    }\n",
              "\n",
              "    [theme=dark] .colab-df-convert {\n",
              "      background-color: #3B4455;\n",
              "      fill: #D2E3FC;\n",
              "    }\n",
              "\n",
              "    [theme=dark] .colab-df-convert:hover {\n",
              "      background-color: #434B5C;\n",
              "      box-shadow: 0px 1px 3px 1px rgba(0, 0, 0, 0.15);\n",
              "      filter: drop-shadow(0px 1px 2px rgba(0, 0, 0, 0.3));\n",
              "      fill: #FFFFFF;\n",
              "    }\n",
              "  </style>\n",
              "\n",
              "      <script>\n",
              "        const buttonEl =\n",
              "          document.querySelector('#df-5a46c10e-90ba-4c77-8dd0-f24c19dc75e2 button.colab-df-convert');\n",
              "        buttonEl.style.display =\n",
              "          google.colab.kernel.accessAllowed ? 'block' : 'none';\n",
              "\n",
              "        async function convertToInteractive(key) {\n",
              "          const element = document.querySelector('#df-5a46c10e-90ba-4c77-8dd0-f24c19dc75e2');\n",
              "          const dataTable =\n",
              "            await google.colab.kernel.invokeFunction('convertToInteractive',\n",
              "                                                     [key], {});\n",
              "          if (!dataTable) return;\n",
              "\n",
              "          const docLinkHtml = 'Like what you see? Visit the ' +\n",
              "            '<a target=\"_blank\" href=https://colab.research.google.com/notebooks/data_table.ipynb>data table notebook</a>'\n",
              "            + ' to learn more about interactive tables.';\n",
              "          element.innerHTML = '';\n",
              "          dataTable['output_type'] = 'display_data';\n",
              "          await google.colab.output.renderOutput(dataTable, element);\n",
              "          const docLink = document.createElement('div');\n",
              "          docLink.innerHTML = docLinkHtml;\n",
              "          element.appendChild(docLink);\n",
              "        }\n",
              "      </script>\n",
              "    </div>\n",
              "  </div>\n",
              "  "
            ]
          },
          "metadata": {},
          "execution_count": 56
        }
      ]
    },
    {
      "cell_type": "code",
      "source": [
        "fig = make_subplots(rows=1, cols=2, specs=[[{'type':'domain'}, {'type':'domain'}]])\n",
        "fig.add_trace(go.Pie(labels=free_cat['index'], values = free_cat['count'], name=\"Top Category in Free APP's\", textinfo='label + percent', textposition='inside'),\n",
        "              1, 1)\n",
        "fig.add_trace(go.Pie(labels=paid_cat['index'], values = paid_cat['count'], name=\"Top Category in Paid APP's\", textinfo='label + percent', textposition='inside'),\n",
        "              1, 2)\n",
        "\n",
        "fig.update_traces(hole=.4)\n",
        "\n",
        "fig.update_layout(\n",
        "    title_text=\"Free vs Paid Top Categories in Play Store\",\n",
        "    annotations=[dict(text='FREE Apps', x=0.18, y=0.5, font_size=20, showarrow=False),\n",
        "                 dict(text='PAID Apps', x=0.82, y=0.5, font_size=20, showarrow=False)])\n",
        "fig.show()\n"
      ],
      "metadata": {
        "colab": {
          "base_uri": "https://localhost:8080/",
          "height": 542
        },
        "id": "nVYtb3z0lhK2",
        "outputId": "fdc94e8d-6d73-4c84-92f8-998f9a81a12e"
      },
      "execution_count": null,
      "outputs": [
        {
          "output_type": "display_data",
          "data": {
            "text/html": [
              "<html>\n",
              "<head><meta charset=\"utf-8\" /></head>\n",
              "<body>\n",
              "    <div>            <script src=\"https://cdnjs.cloudflare.com/ajax/libs/mathjax/2.7.5/MathJax.js?config=TeX-AMS-MML_SVG\"></script><script type=\"text/javascript\">if (window.MathJax) {MathJax.Hub.Config({SVG: {font: \"STIX-Web\"}});}</script>                <script type=\"text/javascript\">window.PlotlyConfig = {MathJaxConfig: 'local'};</script>\n",
              "        <script src=\"https://cdn.plot.ly/plotly-2.8.3.min.js\"></script>                <div id=\"c31795a1-404e-483a-b73e-0c8956af81db\" class=\"plotly-graph-div\" style=\"height:525px; width:100%;\"></div>            <script type=\"text/javascript\">                                    window.PLOTLYENV=window.PLOTLYENV || {};                                    if (document.getElementById(\"c31795a1-404e-483a-b73e-0c8956af81db\")) {                    Plotly.newPlot(                        \"c31795a1-404e-483a-b73e-0c8956af81db\",                        [{\"labels\":[\"FAMILY\",\"GAME\",\"TOOLS\",\"BUSINESS\",\"LIFESTYLE\",\"PRODUCTIVITY\",\"FINANCE\",\"MEDICAL\",\"SPORTS\",\"PERSONALIZATION\",\"COMMUNICATION\",\"HEALTH_AND_FITNESS\",\"PHOTOGRAPHY\",\"NEWS_AND_MAGAZINES\",\"SOCIAL\",\"TRAVEL_AND_LOCAL\",\"SHOPPING\",\"BOOKS_AND_REFERENCE\",\"DATING\",\"VIDEO_PLAYERS\",\"MAPS_AND_NAVIGATION\",\"EDUCATION\",\"FOOD_AND_DRINK\",\"ENTERTAINMENT\",\"LIBRARIES_AND_DEMO\",\"AUTO_AND_VEHICLES\",\"HOUSE_AND_HOME\",\"WEATHER\",\"EVENTS\",\"ART_AND_DESIGN\",\"PARENTING\",\"COMICS\",\"BEAUTY\"],\"name\":\"Top Category in Free APP's\",\"textinfo\":\"label+percent\",\"textposition\":\"inside\",\"values\":[1649,877,749,408,350,346,328,312,301,295,288,273,262,252,236,207,200,194,165,159,126,115,110,100,83,82,74,71,63,61,58,56,53],\"type\":\"pie\",\"domain\":{\"x\":[0.0,0.45],\"y\":[0.0,1.0]},\"hole\":0.4},{\"labels\":[\"FAMILY\",\"MEDICAL\",\"GAME\",\"PERSONALIZATION\",\"TOOLS\",\"BOOKS_AND_REFERENCE\",\"PRODUCTIVITY\",\"COMMUNICATION\",\"SPORTS\",\"LIFESTYLE\",\"PHOTOGRAPHY\",\"FINANCE\",\"HEALTH_AND_FITNESS\",\"TRAVEL_AND_LOCAL\",\"BUSINESS\",\"WEATHER\",\"DATING\",\"MAPS_AND_NAVIGATION\",\"EDUCATION\",\"VIDEO_PLAYERS\",\"AUTO_AND_VEHICLES\",\"SOCIAL\",\"ART_AND_DESIGN\",\"FOOD_AND_DRINK\",\"ENTERTAINMENT\",\"NEWS_AND_MAGAZINES\",\"SHOPPING\",\"PARENTING\",\"LIBRARIES_AND_DEMO\",\"EVENTS\"],\"name\":\"Top Category in Paid APP's\",\"textinfo\":\"label+percent\",\"textposition\":\"inside\",\"values\":[183,83,82,81,78,28,28,27,24,19,19,17,15,12,12,8,6,5,4,4,3,3,3,2,2,2,2,2,1,1],\"type\":\"pie\",\"domain\":{\"x\":[0.55,1.0],\"y\":[0.0,1.0]},\"hole\":0.4}],                        {\"template\":{\"data\":{\"bar\":[{\"error_x\":{\"color\":\"#2a3f5f\"},\"error_y\":{\"color\":\"#2a3f5f\"},\"marker\":{\"line\":{\"color\":\"#E5ECF6\",\"width\":0.5},\"pattern\":{\"fillmode\":\"overlay\",\"size\":10,\"solidity\":0.2}},\"type\":\"bar\"}],\"barpolar\":[{\"marker\":{\"line\":{\"color\":\"#E5ECF6\",\"width\":0.5},\"pattern\":{\"fillmode\":\"overlay\",\"size\":10,\"solidity\":0.2}},\"type\":\"barpolar\"}],\"carpet\":[{\"aaxis\":{\"endlinecolor\":\"#2a3f5f\",\"gridcolor\":\"white\",\"linecolor\":\"white\",\"minorgridcolor\":\"white\",\"startlinecolor\":\"#2a3f5f\"},\"baxis\":{\"endlinecolor\":\"#2a3f5f\",\"gridcolor\":\"white\",\"linecolor\":\"white\",\"minorgridcolor\":\"white\",\"startlinecolor\":\"#2a3f5f\"},\"type\":\"carpet\"}],\"choropleth\":[{\"colorbar\":{\"outlinewidth\":0,\"ticks\":\"\"},\"type\":\"choropleth\"}],\"contour\":[{\"colorbar\":{\"outlinewidth\":0,\"ticks\":\"\"},\"colorscale\":[[0.0,\"#0d0887\"],[0.1111111111111111,\"#46039f\"],[0.2222222222222222,\"#7201a8\"],[0.3333333333333333,\"#9c179e\"],[0.4444444444444444,\"#bd3786\"],[0.5555555555555556,\"#d8576b\"],[0.6666666666666666,\"#ed7953\"],[0.7777777777777778,\"#fb9f3a\"],[0.8888888888888888,\"#fdca26\"],[1.0,\"#f0f921\"]],\"type\":\"contour\"}],\"contourcarpet\":[{\"colorbar\":{\"outlinewidth\":0,\"ticks\":\"\"},\"type\":\"contourcarpet\"}],\"heatmap\":[{\"colorbar\":{\"outlinewidth\":0,\"ticks\":\"\"},\"colorscale\":[[0.0,\"#0d0887\"],[0.1111111111111111,\"#46039f\"],[0.2222222222222222,\"#7201a8\"],[0.3333333333333333,\"#9c179e\"],[0.4444444444444444,\"#bd3786\"],[0.5555555555555556,\"#d8576b\"],[0.6666666666666666,\"#ed7953\"],[0.7777777777777778,\"#fb9f3a\"],[0.8888888888888888,\"#fdca26\"],[1.0,\"#f0f921\"]],\"type\":\"heatmap\"}],\"heatmapgl\":[{\"colorbar\":{\"outlinewidth\":0,\"ticks\":\"\"},\"colorscale\":[[0.0,\"#0d0887\"],[0.1111111111111111,\"#46039f\"],[0.2222222222222222,\"#7201a8\"],[0.3333333333333333,\"#9c179e\"],[0.4444444444444444,\"#bd3786\"],[0.5555555555555556,\"#d8576b\"],[0.6666666666666666,\"#ed7953\"],[0.7777777777777778,\"#fb9f3a\"],[0.8888888888888888,\"#fdca26\"],[1.0,\"#f0f921\"]],\"type\":\"heatmapgl\"}],\"histogram\":[{\"marker\":{\"pattern\":{\"fillmode\":\"overlay\",\"size\":10,\"solidity\":0.2}},\"type\":\"histogram\"}],\"histogram2d\":[{\"colorbar\":{\"outlinewidth\":0,\"ticks\":\"\"},\"colorscale\":[[0.0,\"#0d0887\"],[0.1111111111111111,\"#46039f\"],[0.2222222222222222,\"#7201a8\"],[0.3333333333333333,\"#9c179e\"],[0.4444444444444444,\"#bd3786\"],[0.5555555555555556,\"#d8576b\"],[0.6666666666666666,\"#ed7953\"],[0.7777777777777778,\"#fb9f3a\"],[0.8888888888888888,\"#fdca26\"],[1.0,\"#f0f921\"]],\"type\":\"histogram2d\"}],\"histogram2dcontour\":[{\"colorbar\":{\"outlinewidth\":0,\"ticks\":\"\"},\"colorscale\":[[0.0,\"#0d0887\"],[0.1111111111111111,\"#46039f\"],[0.2222222222222222,\"#7201a8\"],[0.3333333333333333,\"#9c179e\"],[0.4444444444444444,\"#bd3786\"],[0.5555555555555556,\"#d8576b\"],[0.6666666666666666,\"#ed7953\"],[0.7777777777777778,\"#fb9f3a\"],[0.8888888888888888,\"#fdca26\"],[1.0,\"#f0f921\"]],\"type\":\"histogram2dcontour\"}],\"mesh3d\":[{\"colorbar\":{\"outlinewidth\":0,\"ticks\":\"\"},\"type\":\"mesh3d\"}],\"parcoords\":[{\"line\":{\"colorbar\":{\"outlinewidth\":0,\"ticks\":\"\"}},\"type\":\"parcoords\"}],\"pie\":[{\"automargin\":true,\"type\":\"pie\"}],\"scatter\":[{\"marker\":{\"colorbar\":{\"outlinewidth\":0,\"ticks\":\"\"}},\"type\":\"scatter\"}],\"scatter3d\":[{\"line\":{\"colorbar\":{\"outlinewidth\":0,\"ticks\":\"\"}},\"marker\":{\"colorbar\":{\"outlinewidth\":0,\"ticks\":\"\"}},\"type\":\"scatter3d\"}],\"scattercarpet\":[{\"marker\":{\"colorbar\":{\"outlinewidth\":0,\"ticks\":\"\"}},\"type\":\"scattercarpet\"}],\"scattergeo\":[{\"marker\":{\"colorbar\":{\"outlinewidth\":0,\"ticks\":\"\"}},\"type\":\"scattergeo\"}],\"scattergl\":[{\"marker\":{\"colorbar\":{\"outlinewidth\":0,\"ticks\":\"\"}},\"type\":\"scattergl\"}],\"scattermapbox\":[{\"marker\":{\"colorbar\":{\"outlinewidth\":0,\"ticks\":\"\"}},\"type\":\"scattermapbox\"}],\"scatterpolar\":[{\"marker\":{\"colorbar\":{\"outlinewidth\":0,\"ticks\":\"\"}},\"type\":\"scatterpolar\"}],\"scatterpolargl\":[{\"marker\":{\"colorbar\":{\"outlinewidth\":0,\"ticks\":\"\"}},\"type\":\"scatterpolargl\"}],\"scatterternary\":[{\"marker\":{\"colorbar\":{\"outlinewidth\":0,\"ticks\":\"\"}},\"type\":\"scatterternary\"}],\"surface\":[{\"colorbar\":{\"outlinewidth\":0,\"ticks\":\"\"},\"colorscale\":[[0.0,\"#0d0887\"],[0.1111111111111111,\"#46039f\"],[0.2222222222222222,\"#7201a8\"],[0.3333333333333333,\"#9c179e\"],[0.4444444444444444,\"#bd3786\"],[0.5555555555555556,\"#d8576b\"],[0.6666666666666666,\"#ed7953\"],[0.7777777777777778,\"#fb9f3a\"],[0.8888888888888888,\"#fdca26\"],[1.0,\"#f0f921\"]],\"type\":\"surface\"}],\"table\":[{\"cells\":{\"fill\":{\"color\":\"#EBF0F8\"},\"line\":{\"color\":\"white\"}},\"header\":{\"fill\":{\"color\":\"#C8D4E3\"},\"line\":{\"color\":\"white\"}},\"type\":\"table\"}]},\"layout\":{\"annotationdefaults\":{\"arrowcolor\":\"#2a3f5f\",\"arrowhead\":0,\"arrowwidth\":1},\"autotypenumbers\":\"strict\",\"coloraxis\":{\"colorbar\":{\"outlinewidth\":0,\"ticks\":\"\"}},\"colorscale\":{\"diverging\":[[0,\"#8e0152\"],[0.1,\"#c51b7d\"],[0.2,\"#de77ae\"],[0.3,\"#f1b6da\"],[0.4,\"#fde0ef\"],[0.5,\"#f7f7f7\"],[0.6,\"#e6f5d0\"],[0.7,\"#b8e186\"],[0.8,\"#7fbc41\"],[0.9,\"#4d9221\"],[1,\"#276419\"]],\"sequential\":[[0.0,\"#0d0887\"],[0.1111111111111111,\"#46039f\"],[0.2222222222222222,\"#7201a8\"],[0.3333333333333333,\"#9c179e\"],[0.4444444444444444,\"#bd3786\"],[0.5555555555555556,\"#d8576b\"],[0.6666666666666666,\"#ed7953\"],[0.7777777777777778,\"#fb9f3a\"],[0.8888888888888888,\"#fdca26\"],[1.0,\"#f0f921\"]],\"sequentialminus\":[[0.0,\"#0d0887\"],[0.1111111111111111,\"#46039f\"],[0.2222222222222222,\"#7201a8\"],[0.3333333333333333,\"#9c179e\"],[0.4444444444444444,\"#bd3786\"],[0.5555555555555556,\"#d8576b\"],[0.6666666666666666,\"#ed7953\"],[0.7777777777777778,\"#fb9f3a\"],[0.8888888888888888,\"#fdca26\"],[1.0,\"#f0f921\"]]},\"colorway\":[\"#636efa\",\"#EF553B\",\"#00cc96\",\"#ab63fa\",\"#FFA15A\",\"#19d3f3\",\"#FF6692\",\"#B6E880\",\"#FF97FF\",\"#FECB52\"],\"font\":{\"color\":\"#2a3f5f\"},\"geo\":{\"bgcolor\":\"white\",\"lakecolor\":\"white\",\"landcolor\":\"#E5ECF6\",\"showlakes\":true,\"showland\":true,\"subunitcolor\":\"white\"},\"hoverlabel\":{\"align\":\"left\"},\"hovermode\":\"closest\",\"mapbox\":{\"style\":\"light\"},\"paper_bgcolor\":\"white\",\"plot_bgcolor\":\"#E5ECF6\",\"polar\":{\"angularaxis\":{\"gridcolor\":\"white\",\"linecolor\":\"white\",\"ticks\":\"\"},\"bgcolor\":\"#E5ECF6\",\"radialaxis\":{\"gridcolor\":\"white\",\"linecolor\":\"white\",\"ticks\":\"\"}},\"scene\":{\"xaxis\":{\"backgroundcolor\":\"#E5ECF6\",\"gridcolor\":\"white\",\"gridwidth\":2,\"linecolor\":\"white\",\"showbackground\":true,\"ticks\":\"\",\"zerolinecolor\":\"white\"},\"yaxis\":{\"backgroundcolor\":\"#E5ECF6\",\"gridcolor\":\"white\",\"gridwidth\":2,\"linecolor\":\"white\",\"showbackground\":true,\"ticks\":\"\",\"zerolinecolor\":\"white\"},\"zaxis\":{\"backgroundcolor\":\"#E5ECF6\",\"gridcolor\":\"white\",\"gridwidth\":2,\"linecolor\":\"white\",\"showbackground\":true,\"ticks\":\"\",\"zerolinecolor\":\"white\"}},\"shapedefaults\":{\"line\":{\"color\":\"#2a3f5f\"}},\"ternary\":{\"aaxis\":{\"gridcolor\":\"white\",\"linecolor\":\"white\",\"ticks\":\"\"},\"baxis\":{\"gridcolor\":\"white\",\"linecolor\":\"white\",\"ticks\":\"\"},\"bgcolor\":\"#E5ECF6\",\"caxis\":{\"gridcolor\":\"white\",\"linecolor\":\"white\",\"ticks\":\"\"}},\"title\":{\"x\":0.05},\"xaxis\":{\"automargin\":true,\"gridcolor\":\"white\",\"linecolor\":\"white\",\"ticks\":\"\",\"title\":{\"standoff\":15},\"zerolinecolor\":\"white\",\"zerolinewidth\":2},\"yaxis\":{\"automargin\":true,\"gridcolor\":\"white\",\"linecolor\":\"white\",\"ticks\":\"\",\"title\":{\"standoff\":15},\"zerolinecolor\":\"white\",\"zerolinewidth\":2}}},\"title\":{\"text\":\"Free vs Paid Top Categories in Play Store\"},\"annotations\":[{\"showarrow\":false,\"text\":\"FREE Apps\",\"x\":0.18,\"y\":0.5,\"font\":{\"size\":20}},{\"showarrow\":false,\"text\":\"PAID Apps\",\"x\":0.82,\"y\":0.5,\"font\":{\"size\":20}}]},                        {\"responsive\": true}                    ).then(function(){\n",
              "                            \n",
              "var gd = document.getElementById('c31795a1-404e-483a-b73e-0c8956af81db');\n",
              "var x = new MutationObserver(function (mutations, observer) {{\n",
              "        var display = window.getComputedStyle(gd).display;\n",
              "        if (!display || display === 'none') {{\n",
              "            console.log([gd, 'removed!']);\n",
              "            Plotly.purge(gd);\n",
              "            observer.disconnect();\n",
              "        }}\n",
              "}});\n",
              "\n",
              "// Listen for the removal of the full notebook cells\n",
              "var notebookContainer = gd.closest('#notebook-container');\n",
              "if (notebookContainer) {{\n",
              "    x.observe(notebookContainer, {childList: true});\n",
              "}}\n",
              "\n",
              "// Listen for the clearing of the current output cell\n",
              "var outputEl = gd.closest('.output');\n",
              "if (outputEl) {{\n",
              "    x.observe(outputEl, {childList: true});\n",
              "}}\n",
              "\n",
              "                        })                };                            </script>        </div>\n",
              "</body>\n",
              "</html>"
            ]
          },
          "metadata": {}
        }
      ]
    },
    {
      "cell_type": "markdown",
      "source": [
        "##6.App installs in each category."
      ],
      "metadata": {
        "id": "QxY7CdNib8j0"
      }
    },
    {
      "cell_type": "code",
      "source": [
        "data.columns"
      ],
      "metadata": {
        "colab": {
          "base_uri": "https://localhost:8080/"
        },
        "id": "Xc6zUBMTe4C0",
        "outputId": "c48fc6e6-51cb-48ab-fad3-2c86fed8e633"
      },
      "execution_count": null,
      "outputs": [
        {
          "output_type": "execute_result",
          "data": {
            "text/plain": [
              "Index(['App', 'Category', 'Rating', 'Reviews', 'Size', 'Installs', 'Type',\n",
              "       'Price', 'Content_Rating', 'Genres', 'Last_Updated', 'Current_Ver',\n",
              "       'Android_Ver'],\n",
              "      dtype='object')"
            ]
          },
          "metadata": {},
          "execution_count": 58
        }
      ]
    },
    {
      "cell_type": "code",
      "source": [
        "cat_install = data.groupby(['Category'])['Installs'].sum().reset_index(name = 'Total_install')\n",
        "cat_install"
      ],
      "metadata": {
        "colab": {
          "base_uri": "https://localhost:8080/",
          "height": 1000
        },
        "id": "EWODInJgb-Y8",
        "outputId": "dbf42897-2ce6-463d-aa86-c1e58c9a728c"
      },
      "execution_count": null,
      "outputs": [
        {
          "output_type": "execute_result",
          "data": {
            "text/plain": [
              "               Category  Total_install\n",
              "0        ART_AND_DESIGN      114338100\n",
              "1     AUTO_AND_VEHICLES       53130211\n",
              "2                BEAUTY       27197050\n",
              "3   BOOKS_AND_REFERENCE     1665969576\n",
              "4              BUSINESS      697164865\n",
              "5                COMICS       44981150\n",
              "6         COMMUNICATION    11038276251\n",
              "7                DATING      140926107\n",
              "8             EDUCATION      352952000\n",
              "9         ENTERTAINMENT     2113660000\n",
              "10               EVENTS       15973161\n",
              "11               FAMILY     4427941505\n",
              "12              FINANCE      455348734\n",
              "13       FOOD_AND_DRINK      211798751\n",
              "14                 GAME    13878924415\n",
              "15   HEALTH_AND_FITNESS     1144022512\n",
              "16       HOUSE_AND_HOME       97212461\n",
              "17   LIBRARIES_AND_DEMO       52995910\n",
              "18            LIFESTYLE      503823539\n",
              "19  MAPS_AND_NAVIGATION      503281890\n",
              "20              MEDICAL       38193177\n",
              "21   NEWS_AND_MAGAZINES     2369217760\n",
              "22            PARENTING       31521110\n",
              "23      PERSONALIZATION     1532494782\n",
              "24          PHOTOGRAPHY     4649147655\n",
              "25         PRODUCTIVITY     5793091369\n",
              "26             SHOPPING     1400348785\n",
              "27               SOCIAL     5487867902\n",
              "28               SPORTS     1096474498\n",
              "29                TOOLS     8001771915\n",
              "30     TRAVEL_AND_LOCAL     2894887146\n",
              "31        VIDEO_PLAYERS     3926902720\n",
              "32              WEATHER      361100520"
            ],
            "text/html": [
              "\n",
              "  <div id=\"df-1e87d79f-9a9b-4fd4-a3c6-0a265040274a\">\n",
              "    <div class=\"colab-df-container\">\n",
              "      <div>\n",
              "<style scoped>\n",
              "    .dataframe tbody tr th:only-of-type {\n",
              "        vertical-align: middle;\n",
              "    }\n",
              "\n",
              "    .dataframe tbody tr th {\n",
              "        vertical-align: top;\n",
              "    }\n",
              "\n",
              "    .dataframe thead th {\n",
              "        text-align: right;\n",
              "    }\n",
              "</style>\n",
              "<table border=\"1\" class=\"dataframe\">\n",
              "  <thead>\n",
              "    <tr style=\"text-align: right;\">\n",
              "      <th></th>\n",
              "      <th>Category</th>\n",
              "      <th>Total_install</th>\n",
              "    </tr>\n",
              "  </thead>\n",
              "  <tbody>\n",
              "    <tr>\n",
              "      <th>0</th>\n",
              "      <td>ART_AND_DESIGN</td>\n",
              "      <td>114338100</td>\n",
              "    </tr>\n",
              "    <tr>\n",
              "      <th>1</th>\n",
              "      <td>AUTO_AND_VEHICLES</td>\n",
              "      <td>53130211</td>\n",
              "    </tr>\n",
              "    <tr>\n",
              "      <th>2</th>\n",
              "      <td>BEAUTY</td>\n",
              "      <td>27197050</td>\n",
              "    </tr>\n",
              "    <tr>\n",
              "      <th>3</th>\n",
              "      <td>BOOKS_AND_REFERENCE</td>\n",
              "      <td>1665969576</td>\n",
              "    </tr>\n",
              "    <tr>\n",
              "      <th>4</th>\n",
              "      <td>BUSINESS</td>\n",
              "      <td>697164865</td>\n",
              "    </tr>\n",
              "    <tr>\n",
              "      <th>5</th>\n",
              "      <td>COMICS</td>\n",
              "      <td>44981150</td>\n",
              "    </tr>\n",
              "    <tr>\n",
              "      <th>6</th>\n",
              "      <td>COMMUNICATION</td>\n",
              "      <td>11038276251</td>\n",
              "    </tr>\n",
              "    <tr>\n",
              "      <th>7</th>\n",
              "      <td>DATING</td>\n",
              "      <td>140926107</td>\n",
              "    </tr>\n",
              "    <tr>\n",
              "      <th>8</th>\n",
              "      <td>EDUCATION</td>\n",
              "      <td>352952000</td>\n",
              "    </tr>\n",
              "    <tr>\n",
              "      <th>9</th>\n",
              "      <td>ENTERTAINMENT</td>\n",
              "      <td>2113660000</td>\n",
              "    </tr>\n",
              "    <tr>\n",
              "      <th>10</th>\n",
              "      <td>EVENTS</td>\n",
              "      <td>15973161</td>\n",
              "    </tr>\n",
              "    <tr>\n",
              "      <th>11</th>\n",
              "      <td>FAMILY</td>\n",
              "      <td>4427941505</td>\n",
              "    </tr>\n",
              "    <tr>\n",
              "      <th>12</th>\n",
              "      <td>FINANCE</td>\n",
              "      <td>455348734</td>\n",
              "    </tr>\n",
              "    <tr>\n",
              "      <th>13</th>\n",
              "      <td>FOOD_AND_DRINK</td>\n",
              "      <td>211798751</td>\n",
              "    </tr>\n",
              "    <tr>\n",
              "      <th>14</th>\n",
              "      <td>GAME</td>\n",
              "      <td>13878924415</td>\n",
              "    </tr>\n",
              "    <tr>\n",
              "      <th>15</th>\n",
              "      <td>HEALTH_AND_FITNESS</td>\n",
              "      <td>1144022512</td>\n",
              "    </tr>\n",
              "    <tr>\n",
              "      <th>16</th>\n",
              "      <td>HOUSE_AND_HOME</td>\n",
              "      <td>97212461</td>\n",
              "    </tr>\n",
              "    <tr>\n",
              "      <th>17</th>\n",
              "      <td>LIBRARIES_AND_DEMO</td>\n",
              "      <td>52995910</td>\n",
              "    </tr>\n",
              "    <tr>\n",
              "      <th>18</th>\n",
              "      <td>LIFESTYLE</td>\n",
              "      <td>503823539</td>\n",
              "    </tr>\n",
              "    <tr>\n",
              "      <th>19</th>\n",
              "      <td>MAPS_AND_NAVIGATION</td>\n",
              "      <td>503281890</td>\n",
              "    </tr>\n",
              "    <tr>\n",
              "      <th>20</th>\n",
              "      <td>MEDICAL</td>\n",
              "      <td>38193177</td>\n",
              "    </tr>\n",
              "    <tr>\n",
              "      <th>21</th>\n",
              "      <td>NEWS_AND_MAGAZINES</td>\n",
              "      <td>2369217760</td>\n",
              "    </tr>\n",
              "    <tr>\n",
              "      <th>22</th>\n",
              "      <td>PARENTING</td>\n",
              "      <td>31521110</td>\n",
              "    </tr>\n",
              "    <tr>\n",
              "      <th>23</th>\n",
              "      <td>PERSONALIZATION</td>\n",
              "      <td>1532494782</td>\n",
              "    </tr>\n",
              "    <tr>\n",
              "      <th>24</th>\n",
              "      <td>PHOTOGRAPHY</td>\n",
              "      <td>4649147655</td>\n",
              "    </tr>\n",
              "    <tr>\n",
              "      <th>25</th>\n",
              "      <td>PRODUCTIVITY</td>\n",
              "      <td>5793091369</td>\n",
              "    </tr>\n",
              "    <tr>\n",
              "      <th>26</th>\n",
              "      <td>SHOPPING</td>\n",
              "      <td>1400348785</td>\n",
              "    </tr>\n",
              "    <tr>\n",
              "      <th>27</th>\n",
              "      <td>SOCIAL</td>\n",
              "      <td>5487867902</td>\n",
              "    </tr>\n",
              "    <tr>\n",
              "      <th>28</th>\n",
              "      <td>SPORTS</td>\n",
              "      <td>1096474498</td>\n",
              "    </tr>\n",
              "    <tr>\n",
              "      <th>29</th>\n",
              "      <td>TOOLS</td>\n",
              "      <td>8001771915</td>\n",
              "    </tr>\n",
              "    <tr>\n",
              "      <th>30</th>\n",
              "      <td>TRAVEL_AND_LOCAL</td>\n",
              "      <td>2894887146</td>\n",
              "    </tr>\n",
              "    <tr>\n",
              "      <th>31</th>\n",
              "      <td>VIDEO_PLAYERS</td>\n",
              "      <td>3926902720</td>\n",
              "    </tr>\n",
              "    <tr>\n",
              "      <th>32</th>\n",
              "      <td>WEATHER</td>\n",
              "      <td>361100520</td>\n",
              "    </tr>\n",
              "  </tbody>\n",
              "</table>\n",
              "</div>\n",
              "      <button class=\"colab-df-convert\" onclick=\"convertToInteractive('df-1e87d79f-9a9b-4fd4-a3c6-0a265040274a')\"\n",
              "              title=\"Convert this dataframe to an interactive table.\"\n",
              "              style=\"display:none;\">\n",
              "        \n",
              "  <svg xmlns=\"http://www.w3.org/2000/svg\" height=\"24px\"viewBox=\"0 0 24 24\"\n",
              "       width=\"24px\">\n",
              "    <path d=\"M0 0h24v24H0V0z\" fill=\"none\"/>\n",
              "    <path d=\"M18.56 5.44l.94 2.06.94-2.06 2.06-.94-2.06-.94-.94-2.06-.94 2.06-2.06.94zm-11 1L8.5 8.5l.94-2.06 2.06-.94-2.06-.94L8.5 2.5l-.94 2.06-2.06.94zm10 10l.94 2.06.94-2.06 2.06-.94-2.06-.94-.94-2.06-.94 2.06-2.06.94z\"/><path d=\"M17.41 7.96l-1.37-1.37c-.4-.4-.92-.59-1.43-.59-.52 0-1.04.2-1.43.59L10.3 9.45l-7.72 7.72c-.78.78-.78 2.05 0 2.83L4 21.41c.39.39.9.59 1.41.59.51 0 1.02-.2 1.41-.59l7.78-7.78 2.81-2.81c.8-.78.8-2.07 0-2.86zM5.41 20L4 18.59l7.72-7.72 1.47 1.35L5.41 20z\"/>\n",
              "  </svg>\n",
              "      </button>\n",
              "      \n",
              "  <style>\n",
              "    .colab-df-container {\n",
              "      display:flex;\n",
              "      flex-wrap:wrap;\n",
              "      gap: 12px;\n",
              "    }\n",
              "\n",
              "    .colab-df-convert {\n",
              "      background-color: #E8F0FE;\n",
              "      border: none;\n",
              "      border-radius: 50%;\n",
              "      cursor: pointer;\n",
              "      display: none;\n",
              "      fill: #1967D2;\n",
              "      height: 32px;\n",
              "      padding: 0 0 0 0;\n",
              "      width: 32px;\n",
              "    }\n",
              "\n",
              "    .colab-df-convert:hover {\n",
              "      background-color: #E2EBFA;\n",
              "      box-shadow: 0px 1px 2px rgba(60, 64, 67, 0.3), 0px 1px 3px 1px rgba(60, 64, 67, 0.15);\n",
              "      fill: #174EA6;\n",
              "    }\n",
              "\n",
              "    [theme=dark] .colab-df-convert {\n",
              "      background-color: #3B4455;\n",
              "      fill: #D2E3FC;\n",
              "    }\n",
              "\n",
              "    [theme=dark] .colab-df-convert:hover {\n",
              "      background-color: #434B5C;\n",
              "      box-shadow: 0px 1px 3px 1px rgba(0, 0, 0, 0.15);\n",
              "      filter: drop-shadow(0px 1px 2px rgba(0, 0, 0, 0.3));\n",
              "      fill: #FFFFFF;\n",
              "    }\n",
              "  </style>\n",
              "\n",
              "      <script>\n",
              "        const buttonEl =\n",
              "          document.querySelector('#df-1e87d79f-9a9b-4fd4-a3c6-0a265040274a button.colab-df-convert');\n",
              "        buttonEl.style.display =\n",
              "          google.colab.kernel.accessAllowed ? 'block' : 'none';\n",
              "\n",
              "        async function convertToInteractive(key) {\n",
              "          const element = document.querySelector('#df-1e87d79f-9a9b-4fd4-a3c6-0a265040274a');\n",
              "          const dataTable =\n",
              "            await google.colab.kernel.invokeFunction('convertToInteractive',\n",
              "                                                     [key], {});\n",
              "          if (!dataTable) return;\n",
              "\n",
              "          const docLinkHtml = 'Like what you see? Visit the ' +\n",
              "            '<a target=\"_blank\" href=https://colab.research.google.com/notebooks/data_table.ipynb>data table notebook</a>'\n",
              "            + ' to learn more about interactive tables.';\n",
              "          element.innerHTML = '';\n",
              "          dataTable['output_type'] = 'display_data';\n",
              "          await google.colab.output.renderOutput(dataTable, element);\n",
              "          const docLink = document.createElement('div');\n",
              "          docLink.innerHTML = docLinkHtml;\n",
              "          element.appendChild(docLink);\n",
              "        }\n",
              "      </script>\n",
              "    </div>\n",
              "  </div>\n",
              "  "
            ]
          },
          "metadata": {},
          "execution_count": 59
        }
      ]
    },
    {
      "cell_type": "code",
      "source": [
        "fig = px.bar(cat_install, y = 'Total_install', \n",
        "       x = 'Category',\n",
        "       labels = {'Category' : 'App Category', 'Total_install' : 'Total No of Installations'},\n",
        "       color = 'Total_install', \n",
        "       title = 'Distribution frequency by app installation no and category', \n",
        "       text = 'Total_install' ,\n",
        "       color_continuous_scale=px.colors.qualitative.Plotly)\n",
        "fig.update_layout(xaxis={'categoryorder':'total ascending'})\n",
        "fig.show()"
      ],
      "metadata": {
        "colab": {
          "base_uri": "https://localhost:8080/",
          "height": 542
        },
        "id": "ifxVbdnIh-Ad",
        "outputId": "5885227f-a335-4cd0-f706-bd4f7ef0a265"
      },
      "execution_count": null,
      "outputs": [
        {
          "output_type": "display_data",
          "data": {
            "text/html": [
              "<html>\n",
              "<head><meta charset=\"utf-8\" /></head>\n",
              "<body>\n",
              "    <div>            <script src=\"https://cdnjs.cloudflare.com/ajax/libs/mathjax/2.7.5/MathJax.js?config=TeX-AMS-MML_SVG\"></script><script type=\"text/javascript\">if (window.MathJax) {MathJax.Hub.Config({SVG: {font: \"STIX-Web\"}});}</script>                <script type=\"text/javascript\">window.PlotlyConfig = {MathJaxConfig: 'local'};</script>\n",
              "        <script src=\"https://cdn.plot.ly/plotly-2.8.3.min.js\"></script>                <div id=\"d32547be-cba4-4ac5-be57-80de5d51f749\" class=\"plotly-graph-div\" style=\"height:525px; width:100%;\"></div>            <script type=\"text/javascript\">                                    window.PLOTLYENV=window.PLOTLYENV || {};                                    if (document.getElementById(\"d32547be-cba4-4ac5-be57-80de5d51f749\")) {                    Plotly.newPlot(                        \"d32547be-cba4-4ac5-be57-80de5d51f749\",                        [{\"alignmentgroup\":\"True\",\"hovertemplate\":\"App Category=%{x}<br>Total No of Installations=%{marker.color}<extra></extra>\",\"legendgroup\":\"\",\"marker\":{\"color\":[114338100,53130211,27197050,1665969576,697164865,44981150,11038276251,140926107,352952000,2113660000,15973161,4427941505,455348734,211798751,13878924415,1144022512,97212461,52995910,503823539,503281890,38193177,2369217760,31521110,1532494782,4649147655,5793091369,1400348785,5487867902,1096474498,8001771915,2894887146,3926902720,361100520],\"coloraxis\":\"coloraxis\",\"pattern\":{\"shape\":\"\"}},\"name\":\"\",\"offsetgroup\":\"\",\"orientation\":\"v\",\"showlegend\":false,\"text\":[114338100.0,53130211.0,27197050.0,1665969576.0,697164865.0,44981150.0,11038276251.0,140926107.0,352952000.0,2113660000.0,15973161.0,4427941505.0,455348734.0,211798751.0,13878924415.0,1144022512.0,97212461.0,52995910.0,503823539.0,503281890.0,38193177.0,2369217760.0,31521110.0,1532494782.0,4649147655.0,5793091369.0,1400348785.0,5487867902.0,1096474498.0,8001771915.0,2894887146.0,3926902720.0,361100520.0],\"textposition\":\"auto\",\"x\":[\"ART_AND_DESIGN\",\"AUTO_AND_VEHICLES\",\"BEAUTY\",\"BOOKS_AND_REFERENCE\",\"BUSINESS\",\"COMICS\",\"COMMUNICATION\",\"DATING\",\"EDUCATION\",\"ENTERTAINMENT\",\"EVENTS\",\"FAMILY\",\"FINANCE\",\"FOOD_AND_DRINK\",\"GAME\",\"HEALTH_AND_FITNESS\",\"HOUSE_AND_HOME\",\"LIBRARIES_AND_DEMO\",\"LIFESTYLE\",\"MAPS_AND_NAVIGATION\",\"MEDICAL\",\"NEWS_AND_MAGAZINES\",\"PARENTING\",\"PERSONALIZATION\",\"PHOTOGRAPHY\",\"PRODUCTIVITY\",\"SHOPPING\",\"SOCIAL\",\"SPORTS\",\"TOOLS\",\"TRAVEL_AND_LOCAL\",\"VIDEO_PLAYERS\",\"WEATHER\"],\"xaxis\":\"x\",\"y\":[114338100,53130211,27197050,1665969576,697164865,44981150,11038276251,140926107,352952000,2113660000,15973161,4427941505,455348734,211798751,13878924415,1144022512,97212461,52995910,503823539,503281890,38193177,2369217760,31521110,1532494782,4649147655,5793091369,1400348785,5487867902,1096474498,8001771915,2894887146,3926902720,361100520],\"yaxis\":\"y\",\"type\":\"bar\"}],                        {\"template\":{\"data\":{\"bar\":[{\"error_x\":{\"color\":\"#2a3f5f\"},\"error_y\":{\"color\":\"#2a3f5f\"},\"marker\":{\"line\":{\"color\":\"#E5ECF6\",\"width\":0.5},\"pattern\":{\"fillmode\":\"overlay\",\"size\":10,\"solidity\":0.2}},\"type\":\"bar\"}],\"barpolar\":[{\"marker\":{\"line\":{\"color\":\"#E5ECF6\",\"width\":0.5},\"pattern\":{\"fillmode\":\"overlay\",\"size\":10,\"solidity\":0.2}},\"type\":\"barpolar\"}],\"carpet\":[{\"aaxis\":{\"endlinecolor\":\"#2a3f5f\",\"gridcolor\":\"white\",\"linecolor\":\"white\",\"minorgridcolor\":\"white\",\"startlinecolor\":\"#2a3f5f\"},\"baxis\":{\"endlinecolor\":\"#2a3f5f\",\"gridcolor\":\"white\",\"linecolor\":\"white\",\"minorgridcolor\":\"white\",\"startlinecolor\":\"#2a3f5f\"},\"type\":\"carpet\"}],\"choropleth\":[{\"colorbar\":{\"outlinewidth\":0,\"ticks\":\"\"},\"type\":\"choropleth\"}],\"contour\":[{\"colorbar\":{\"outlinewidth\":0,\"ticks\":\"\"},\"colorscale\":[[0.0,\"#0d0887\"],[0.1111111111111111,\"#46039f\"],[0.2222222222222222,\"#7201a8\"],[0.3333333333333333,\"#9c179e\"],[0.4444444444444444,\"#bd3786\"],[0.5555555555555556,\"#d8576b\"],[0.6666666666666666,\"#ed7953\"],[0.7777777777777778,\"#fb9f3a\"],[0.8888888888888888,\"#fdca26\"],[1.0,\"#f0f921\"]],\"type\":\"contour\"}],\"contourcarpet\":[{\"colorbar\":{\"outlinewidth\":0,\"ticks\":\"\"},\"type\":\"contourcarpet\"}],\"heatmap\":[{\"colorbar\":{\"outlinewidth\":0,\"ticks\":\"\"},\"colorscale\":[[0.0,\"#0d0887\"],[0.1111111111111111,\"#46039f\"],[0.2222222222222222,\"#7201a8\"],[0.3333333333333333,\"#9c179e\"],[0.4444444444444444,\"#bd3786\"],[0.5555555555555556,\"#d8576b\"],[0.6666666666666666,\"#ed7953\"],[0.7777777777777778,\"#fb9f3a\"],[0.8888888888888888,\"#fdca26\"],[1.0,\"#f0f921\"]],\"type\":\"heatmap\"}],\"heatmapgl\":[{\"colorbar\":{\"outlinewidth\":0,\"ticks\":\"\"},\"colorscale\":[[0.0,\"#0d0887\"],[0.1111111111111111,\"#46039f\"],[0.2222222222222222,\"#7201a8\"],[0.3333333333333333,\"#9c179e\"],[0.4444444444444444,\"#bd3786\"],[0.5555555555555556,\"#d8576b\"],[0.6666666666666666,\"#ed7953\"],[0.7777777777777778,\"#fb9f3a\"],[0.8888888888888888,\"#fdca26\"],[1.0,\"#f0f921\"]],\"type\":\"heatmapgl\"}],\"histogram\":[{\"marker\":{\"pattern\":{\"fillmode\":\"overlay\",\"size\":10,\"solidity\":0.2}},\"type\":\"histogram\"}],\"histogram2d\":[{\"colorbar\":{\"outlinewidth\":0,\"ticks\":\"\"},\"colorscale\":[[0.0,\"#0d0887\"],[0.1111111111111111,\"#46039f\"],[0.2222222222222222,\"#7201a8\"],[0.3333333333333333,\"#9c179e\"],[0.4444444444444444,\"#bd3786\"],[0.5555555555555556,\"#d8576b\"],[0.6666666666666666,\"#ed7953\"],[0.7777777777777778,\"#fb9f3a\"],[0.8888888888888888,\"#fdca26\"],[1.0,\"#f0f921\"]],\"type\":\"histogram2d\"}],\"histogram2dcontour\":[{\"colorbar\":{\"outlinewidth\":0,\"ticks\":\"\"},\"colorscale\":[[0.0,\"#0d0887\"],[0.1111111111111111,\"#46039f\"],[0.2222222222222222,\"#7201a8\"],[0.3333333333333333,\"#9c179e\"],[0.4444444444444444,\"#bd3786\"],[0.5555555555555556,\"#d8576b\"],[0.6666666666666666,\"#ed7953\"],[0.7777777777777778,\"#fb9f3a\"],[0.8888888888888888,\"#fdca26\"],[1.0,\"#f0f921\"]],\"type\":\"histogram2dcontour\"}],\"mesh3d\":[{\"colorbar\":{\"outlinewidth\":0,\"ticks\":\"\"},\"type\":\"mesh3d\"}],\"parcoords\":[{\"line\":{\"colorbar\":{\"outlinewidth\":0,\"ticks\":\"\"}},\"type\":\"parcoords\"}],\"pie\":[{\"automargin\":true,\"type\":\"pie\"}],\"scatter\":[{\"marker\":{\"colorbar\":{\"outlinewidth\":0,\"ticks\":\"\"}},\"type\":\"scatter\"}],\"scatter3d\":[{\"line\":{\"colorbar\":{\"outlinewidth\":0,\"ticks\":\"\"}},\"marker\":{\"colorbar\":{\"outlinewidth\":0,\"ticks\":\"\"}},\"type\":\"scatter3d\"}],\"scattercarpet\":[{\"marker\":{\"colorbar\":{\"outlinewidth\":0,\"ticks\":\"\"}},\"type\":\"scattercarpet\"}],\"scattergeo\":[{\"marker\":{\"colorbar\":{\"outlinewidth\":0,\"ticks\":\"\"}},\"type\":\"scattergeo\"}],\"scattergl\":[{\"marker\":{\"colorbar\":{\"outlinewidth\":0,\"ticks\":\"\"}},\"type\":\"scattergl\"}],\"scattermapbox\":[{\"marker\":{\"colorbar\":{\"outlinewidth\":0,\"ticks\":\"\"}},\"type\":\"scattermapbox\"}],\"scatterpolar\":[{\"marker\":{\"colorbar\":{\"outlinewidth\":0,\"ticks\":\"\"}},\"type\":\"scatterpolar\"}],\"scatterpolargl\":[{\"marker\":{\"colorbar\":{\"outlinewidth\":0,\"ticks\":\"\"}},\"type\":\"scatterpolargl\"}],\"scatterternary\":[{\"marker\":{\"colorbar\":{\"outlinewidth\":0,\"ticks\":\"\"}},\"type\":\"scatterternary\"}],\"surface\":[{\"colorbar\":{\"outlinewidth\":0,\"ticks\":\"\"},\"colorscale\":[[0.0,\"#0d0887\"],[0.1111111111111111,\"#46039f\"],[0.2222222222222222,\"#7201a8\"],[0.3333333333333333,\"#9c179e\"],[0.4444444444444444,\"#bd3786\"],[0.5555555555555556,\"#d8576b\"],[0.6666666666666666,\"#ed7953\"],[0.7777777777777778,\"#fb9f3a\"],[0.8888888888888888,\"#fdca26\"],[1.0,\"#f0f921\"]],\"type\":\"surface\"}],\"table\":[{\"cells\":{\"fill\":{\"color\":\"#EBF0F8\"},\"line\":{\"color\":\"white\"}},\"header\":{\"fill\":{\"color\":\"#C8D4E3\"},\"line\":{\"color\":\"white\"}},\"type\":\"table\"}]},\"layout\":{\"annotationdefaults\":{\"arrowcolor\":\"#2a3f5f\",\"arrowhead\":0,\"arrowwidth\":1},\"autotypenumbers\":\"strict\",\"coloraxis\":{\"colorbar\":{\"outlinewidth\":0,\"ticks\":\"\"}},\"colorscale\":{\"diverging\":[[0,\"#8e0152\"],[0.1,\"#c51b7d\"],[0.2,\"#de77ae\"],[0.3,\"#f1b6da\"],[0.4,\"#fde0ef\"],[0.5,\"#f7f7f7\"],[0.6,\"#e6f5d0\"],[0.7,\"#b8e186\"],[0.8,\"#7fbc41\"],[0.9,\"#4d9221\"],[1,\"#276419\"]],\"sequential\":[[0.0,\"#0d0887\"],[0.1111111111111111,\"#46039f\"],[0.2222222222222222,\"#7201a8\"],[0.3333333333333333,\"#9c179e\"],[0.4444444444444444,\"#bd3786\"],[0.5555555555555556,\"#d8576b\"],[0.6666666666666666,\"#ed7953\"],[0.7777777777777778,\"#fb9f3a\"],[0.8888888888888888,\"#fdca26\"],[1.0,\"#f0f921\"]],\"sequentialminus\":[[0.0,\"#0d0887\"],[0.1111111111111111,\"#46039f\"],[0.2222222222222222,\"#7201a8\"],[0.3333333333333333,\"#9c179e\"],[0.4444444444444444,\"#bd3786\"],[0.5555555555555556,\"#d8576b\"],[0.6666666666666666,\"#ed7953\"],[0.7777777777777778,\"#fb9f3a\"],[0.8888888888888888,\"#fdca26\"],[1.0,\"#f0f921\"]]},\"colorway\":[\"#636efa\",\"#EF553B\",\"#00cc96\",\"#ab63fa\",\"#FFA15A\",\"#19d3f3\",\"#FF6692\",\"#B6E880\",\"#FF97FF\",\"#FECB52\"],\"font\":{\"color\":\"#2a3f5f\"},\"geo\":{\"bgcolor\":\"white\",\"lakecolor\":\"white\",\"landcolor\":\"#E5ECF6\",\"showlakes\":true,\"showland\":true,\"subunitcolor\":\"white\"},\"hoverlabel\":{\"align\":\"left\"},\"hovermode\":\"closest\",\"mapbox\":{\"style\":\"light\"},\"paper_bgcolor\":\"white\",\"plot_bgcolor\":\"#E5ECF6\",\"polar\":{\"angularaxis\":{\"gridcolor\":\"white\",\"linecolor\":\"white\",\"ticks\":\"\"},\"bgcolor\":\"#E5ECF6\",\"radialaxis\":{\"gridcolor\":\"white\",\"linecolor\":\"white\",\"ticks\":\"\"}},\"scene\":{\"xaxis\":{\"backgroundcolor\":\"#E5ECF6\",\"gridcolor\":\"white\",\"gridwidth\":2,\"linecolor\":\"white\",\"showbackground\":true,\"ticks\":\"\",\"zerolinecolor\":\"white\"},\"yaxis\":{\"backgroundcolor\":\"#E5ECF6\",\"gridcolor\":\"white\",\"gridwidth\":2,\"linecolor\":\"white\",\"showbackground\":true,\"ticks\":\"\",\"zerolinecolor\":\"white\"},\"zaxis\":{\"backgroundcolor\":\"#E5ECF6\",\"gridcolor\":\"white\",\"gridwidth\":2,\"linecolor\":\"white\",\"showbackground\":true,\"ticks\":\"\",\"zerolinecolor\":\"white\"}},\"shapedefaults\":{\"line\":{\"color\":\"#2a3f5f\"}},\"ternary\":{\"aaxis\":{\"gridcolor\":\"white\",\"linecolor\":\"white\",\"ticks\":\"\"},\"baxis\":{\"gridcolor\":\"white\",\"linecolor\":\"white\",\"ticks\":\"\"},\"bgcolor\":\"#E5ECF6\",\"caxis\":{\"gridcolor\":\"white\",\"linecolor\":\"white\",\"ticks\":\"\"}},\"title\":{\"x\":0.05},\"xaxis\":{\"automargin\":true,\"gridcolor\":\"white\",\"linecolor\":\"white\",\"ticks\":\"\",\"title\":{\"standoff\":15},\"zerolinecolor\":\"white\",\"zerolinewidth\":2},\"yaxis\":{\"automargin\":true,\"gridcolor\":\"white\",\"linecolor\":\"white\",\"ticks\":\"\",\"title\":{\"standoff\":15},\"zerolinecolor\":\"white\",\"zerolinewidth\":2}}},\"xaxis\":{\"anchor\":\"y\",\"domain\":[0.0,1.0],\"title\":{\"text\":\"App Category\"},\"categoryorder\":\"total ascending\"},\"yaxis\":{\"anchor\":\"x\",\"domain\":[0.0,1.0],\"title\":{\"text\":\"Total No of Installations\"}},\"coloraxis\":{\"colorbar\":{\"title\":{\"text\":\"Total No of Installations\"}},\"colorscale\":[[0.0,\"#636EFA\"],[0.1111111111111111,\"#EF553B\"],[0.2222222222222222,\"#00CC96\"],[0.3333333333333333,\"#AB63FA\"],[0.4444444444444444,\"#FFA15A\"],[0.5555555555555556,\"#19D3F3\"],[0.6666666666666666,\"#FF6692\"],[0.7777777777777778,\"#B6E880\"],[0.8888888888888888,\"#FF97FF\"],[1.0,\"#FECB52\"]]},\"legend\":{\"tracegroupgap\":0},\"title\":{\"text\":\"Distribution frequency by app installation no and category\"},\"barmode\":\"relative\"},                        {\"responsive\": true}                    ).then(function(){\n",
              "                            \n",
              "var gd = document.getElementById('d32547be-cba4-4ac5-be57-80de5d51f749');\n",
              "var x = new MutationObserver(function (mutations, observer) {{\n",
              "        var display = window.getComputedStyle(gd).display;\n",
              "        if (!display || display === 'none') {{\n",
              "            console.log([gd, 'removed!']);\n",
              "            Plotly.purge(gd);\n",
              "            observer.disconnect();\n",
              "        }}\n",
              "}});\n",
              "\n",
              "// Listen for the removal of the full notebook cells\n",
              "var notebookContainer = gd.closest('#notebook-container');\n",
              "if (notebookContainer) {{\n",
              "    x.observe(notebookContainer, {childList: true});\n",
              "}}\n",
              "\n",
              "// Listen for the clearing of the current output cell\n",
              "var outputEl = gd.closest('.output');\n",
              "if (outputEl) {{\n",
              "    x.observe(outputEl, {childList: true});\n",
              "}}\n",
              "\n",
              "                        })                };                            </script>        </div>\n",
              "</body>\n",
              "</html>"
            ]
          },
          "metadata": {}
        }
      ]
    },
    {
      "cell_type": "markdown",
      "source": [
        "##7.Top 10 category with Rating 4.0 and above."
      ],
      "metadata": {
        "id": "-q9K_FB9jHcE"
      }
    },
    {
      "cell_type": "code",
      "source": [
        "rate_cat = data[data['Rating']>=4.0].groupby(['Category'])['Rating'].count().sort_values(ascending=False).head(10).reset_index(name = 'Rating_count')\n",
        "rate_cat"
      ],
      "metadata": {
        "colab": {
          "base_uri": "https://localhost:8080/",
          "height": 363
        },
        "id": "sVy9zQ6njMnI",
        "outputId": "2ba9555a-fd92-4c7c-89f3-2358270c3f6f"
      },
      "execution_count": null,
      "outputs": [
        {
          "output_type": "execute_result",
          "data": {
            "text/plain": [
              "          Category  Rating_count\n",
              "0           FAMILY          1430\n",
              "1             GAME           810\n",
              "2            TOOLS           598\n",
              "3  PERSONALIZATION           344\n",
              "4         BUSINESS           342\n",
              "5          MEDICAL           320\n",
              "6     PRODUCTIVITY           315\n",
              "7           SPORTS           273\n",
              "8        LIFESTYLE           272\n",
              "9          FINANCE           267"
            ],
            "text/html": [
              "\n",
              "  <div id=\"df-7475c43b-01b8-4380-b570-8d290eeaa2ca\">\n",
              "    <div class=\"colab-df-container\">\n",
              "      <div>\n",
              "<style scoped>\n",
              "    .dataframe tbody tr th:only-of-type {\n",
              "        vertical-align: middle;\n",
              "    }\n",
              "\n",
              "    .dataframe tbody tr th {\n",
              "        vertical-align: top;\n",
              "    }\n",
              "\n",
              "    .dataframe thead th {\n",
              "        text-align: right;\n",
              "    }\n",
              "</style>\n",
              "<table border=\"1\" class=\"dataframe\">\n",
              "  <thead>\n",
              "    <tr style=\"text-align: right;\">\n",
              "      <th></th>\n",
              "      <th>Category</th>\n",
              "      <th>Rating_count</th>\n",
              "    </tr>\n",
              "  </thead>\n",
              "  <tbody>\n",
              "    <tr>\n",
              "      <th>0</th>\n",
              "      <td>FAMILY</td>\n",
              "      <td>1430</td>\n",
              "    </tr>\n",
              "    <tr>\n",
              "      <th>1</th>\n",
              "      <td>GAME</td>\n",
              "      <td>810</td>\n",
              "    </tr>\n",
              "    <tr>\n",
              "      <th>2</th>\n",
              "      <td>TOOLS</td>\n",
              "      <td>598</td>\n",
              "    </tr>\n",
              "    <tr>\n",
              "      <th>3</th>\n",
              "      <td>PERSONALIZATION</td>\n",
              "      <td>344</td>\n",
              "    </tr>\n",
              "    <tr>\n",
              "      <th>4</th>\n",
              "      <td>BUSINESS</td>\n",
              "      <td>342</td>\n",
              "    </tr>\n",
              "    <tr>\n",
              "      <th>5</th>\n",
              "      <td>MEDICAL</td>\n",
              "      <td>320</td>\n",
              "    </tr>\n",
              "    <tr>\n",
              "      <th>6</th>\n",
              "      <td>PRODUCTIVITY</td>\n",
              "      <td>315</td>\n",
              "    </tr>\n",
              "    <tr>\n",
              "      <th>7</th>\n",
              "      <td>SPORTS</td>\n",
              "      <td>273</td>\n",
              "    </tr>\n",
              "    <tr>\n",
              "      <th>8</th>\n",
              "      <td>LIFESTYLE</td>\n",
              "      <td>272</td>\n",
              "    </tr>\n",
              "    <tr>\n",
              "      <th>9</th>\n",
              "      <td>FINANCE</td>\n",
              "      <td>267</td>\n",
              "    </tr>\n",
              "  </tbody>\n",
              "</table>\n",
              "</div>\n",
              "      <button class=\"colab-df-convert\" onclick=\"convertToInteractive('df-7475c43b-01b8-4380-b570-8d290eeaa2ca')\"\n",
              "              title=\"Convert this dataframe to an interactive table.\"\n",
              "              style=\"display:none;\">\n",
              "        \n",
              "  <svg xmlns=\"http://www.w3.org/2000/svg\" height=\"24px\"viewBox=\"0 0 24 24\"\n",
              "       width=\"24px\">\n",
              "    <path d=\"M0 0h24v24H0V0z\" fill=\"none\"/>\n",
              "    <path d=\"M18.56 5.44l.94 2.06.94-2.06 2.06-.94-2.06-.94-.94-2.06-.94 2.06-2.06.94zm-11 1L8.5 8.5l.94-2.06 2.06-.94-2.06-.94L8.5 2.5l-.94 2.06-2.06.94zm10 10l.94 2.06.94-2.06 2.06-.94-2.06-.94-.94-2.06-.94 2.06-2.06.94z\"/><path d=\"M17.41 7.96l-1.37-1.37c-.4-.4-.92-.59-1.43-.59-.52 0-1.04.2-1.43.59L10.3 9.45l-7.72 7.72c-.78.78-.78 2.05 0 2.83L4 21.41c.39.39.9.59 1.41.59.51 0 1.02-.2 1.41-.59l7.78-7.78 2.81-2.81c.8-.78.8-2.07 0-2.86zM5.41 20L4 18.59l7.72-7.72 1.47 1.35L5.41 20z\"/>\n",
              "  </svg>\n",
              "      </button>\n",
              "      \n",
              "  <style>\n",
              "    .colab-df-container {\n",
              "      display:flex;\n",
              "      flex-wrap:wrap;\n",
              "      gap: 12px;\n",
              "    }\n",
              "\n",
              "    .colab-df-convert {\n",
              "      background-color: #E8F0FE;\n",
              "      border: none;\n",
              "      border-radius: 50%;\n",
              "      cursor: pointer;\n",
              "      display: none;\n",
              "      fill: #1967D2;\n",
              "      height: 32px;\n",
              "      padding: 0 0 0 0;\n",
              "      width: 32px;\n",
              "    }\n",
              "\n",
              "    .colab-df-convert:hover {\n",
              "      background-color: #E2EBFA;\n",
              "      box-shadow: 0px 1px 2px rgba(60, 64, 67, 0.3), 0px 1px 3px 1px rgba(60, 64, 67, 0.15);\n",
              "      fill: #174EA6;\n",
              "    }\n",
              "\n",
              "    [theme=dark] .colab-df-convert {\n",
              "      background-color: #3B4455;\n",
              "      fill: #D2E3FC;\n",
              "    }\n",
              "\n",
              "    [theme=dark] .colab-df-convert:hover {\n",
              "      background-color: #434B5C;\n",
              "      box-shadow: 0px 1px 3px 1px rgba(0, 0, 0, 0.15);\n",
              "      filter: drop-shadow(0px 1px 2px rgba(0, 0, 0, 0.3));\n",
              "      fill: #FFFFFF;\n",
              "    }\n",
              "  </style>\n",
              "\n",
              "      <script>\n",
              "        const buttonEl =\n",
              "          document.querySelector('#df-7475c43b-01b8-4380-b570-8d290eeaa2ca button.colab-df-convert');\n",
              "        buttonEl.style.display =\n",
              "          google.colab.kernel.accessAllowed ? 'block' : 'none';\n",
              "\n",
              "        async function convertToInteractive(key) {\n",
              "          const element = document.querySelector('#df-7475c43b-01b8-4380-b570-8d290eeaa2ca');\n",
              "          const dataTable =\n",
              "            await google.colab.kernel.invokeFunction('convertToInteractive',\n",
              "                                                     [key], {});\n",
              "          if (!dataTable) return;\n",
              "\n",
              "          const docLinkHtml = 'Like what you see? Visit the ' +\n",
              "            '<a target=\"_blank\" href=https://colab.research.google.com/notebooks/data_table.ipynb>data table notebook</a>'\n",
              "            + ' to learn more about interactive tables.';\n",
              "          element.innerHTML = '';\n",
              "          dataTable['output_type'] = 'display_data';\n",
              "          await google.colab.output.renderOutput(dataTable, element);\n",
              "          const docLink = document.createElement('div');\n",
              "          docLink.innerHTML = docLinkHtml;\n",
              "          element.appendChild(docLink);\n",
              "        }\n",
              "      </script>\n",
              "    </div>\n",
              "  </div>\n",
              "  "
            ]
          },
          "metadata": {},
          "execution_count": 61
        }
      ]
    },
    {
      "cell_type": "code",
      "source": [
        "fig = go.Figure()\n",
        "fig.add_trace(go.Bar(y = rate_cat['Rating_count'], x = rate_cat['Category'], name = 'Histogram Distribution'))\n",
        "fig.add_trace(go.Scatter(y = rate_cat['Rating_count'], x = rate_cat['Category'],name = 'Line Distribution'))\n",
        "fig.update_layout(xaxis_title='App Category', yaxis_title=\"No of Apps with Rating 4+\", title=\"Top 10 category with Rating 4.0 and above\")\n",
        "fig.show()\n"
      ],
      "metadata": {
        "colab": {
          "base_uri": "https://localhost:8080/",
          "height": 542
        },
        "id": "ecmsa70jsxja",
        "outputId": "20a972dc-d045-41e7-ee8d-7c8c26a2518e"
      },
      "execution_count": null,
      "outputs": [
        {
          "output_type": "display_data",
          "data": {
            "text/html": [
              "<html>\n",
              "<head><meta charset=\"utf-8\" /></head>\n",
              "<body>\n",
              "    <div>            <script src=\"https://cdnjs.cloudflare.com/ajax/libs/mathjax/2.7.5/MathJax.js?config=TeX-AMS-MML_SVG\"></script><script type=\"text/javascript\">if (window.MathJax) {MathJax.Hub.Config({SVG: {font: \"STIX-Web\"}});}</script>                <script type=\"text/javascript\">window.PlotlyConfig = {MathJaxConfig: 'local'};</script>\n",
              "        <script src=\"https://cdn.plot.ly/plotly-2.8.3.min.js\"></script>                <div id=\"3758cebc-1c71-4312-b3be-ccc3a228bd2b\" class=\"plotly-graph-div\" style=\"height:525px; width:100%;\"></div>            <script type=\"text/javascript\">                                    window.PLOTLYENV=window.PLOTLYENV || {};                                    if (document.getElementById(\"3758cebc-1c71-4312-b3be-ccc3a228bd2b\")) {                    Plotly.newPlot(                        \"3758cebc-1c71-4312-b3be-ccc3a228bd2b\",                        [{\"name\":\"Histogram Distribution\",\"x\":[\"FAMILY\",\"GAME\",\"TOOLS\",\"PERSONALIZATION\",\"BUSINESS\",\"MEDICAL\",\"PRODUCTIVITY\",\"SPORTS\",\"LIFESTYLE\",\"FINANCE\"],\"y\":[1430,810,598,344,342,320,315,273,272,267],\"type\":\"bar\"},{\"name\":\"Line Distribution\",\"x\":[\"FAMILY\",\"GAME\",\"TOOLS\",\"PERSONALIZATION\",\"BUSINESS\",\"MEDICAL\",\"PRODUCTIVITY\",\"SPORTS\",\"LIFESTYLE\",\"FINANCE\"],\"y\":[1430,810,598,344,342,320,315,273,272,267],\"type\":\"scatter\"}],                        {\"template\":{\"data\":{\"bar\":[{\"error_x\":{\"color\":\"#2a3f5f\"},\"error_y\":{\"color\":\"#2a3f5f\"},\"marker\":{\"line\":{\"color\":\"#E5ECF6\",\"width\":0.5},\"pattern\":{\"fillmode\":\"overlay\",\"size\":10,\"solidity\":0.2}},\"type\":\"bar\"}],\"barpolar\":[{\"marker\":{\"line\":{\"color\":\"#E5ECF6\",\"width\":0.5},\"pattern\":{\"fillmode\":\"overlay\",\"size\":10,\"solidity\":0.2}},\"type\":\"barpolar\"}],\"carpet\":[{\"aaxis\":{\"endlinecolor\":\"#2a3f5f\",\"gridcolor\":\"white\",\"linecolor\":\"white\",\"minorgridcolor\":\"white\",\"startlinecolor\":\"#2a3f5f\"},\"baxis\":{\"endlinecolor\":\"#2a3f5f\",\"gridcolor\":\"white\",\"linecolor\":\"white\",\"minorgridcolor\":\"white\",\"startlinecolor\":\"#2a3f5f\"},\"type\":\"carpet\"}],\"choropleth\":[{\"colorbar\":{\"outlinewidth\":0,\"ticks\":\"\"},\"type\":\"choropleth\"}],\"contour\":[{\"colorbar\":{\"outlinewidth\":0,\"ticks\":\"\"},\"colorscale\":[[0.0,\"#0d0887\"],[0.1111111111111111,\"#46039f\"],[0.2222222222222222,\"#7201a8\"],[0.3333333333333333,\"#9c179e\"],[0.4444444444444444,\"#bd3786\"],[0.5555555555555556,\"#d8576b\"],[0.6666666666666666,\"#ed7953\"],[0.7777777777777778,\"#fb9f3a\"],[0.8888888888888888,\"#fdca26\"],[1.0,\"#f0f921\"]],\"type\":\"contour\"}],\"contourcarpet\":[{\"colorbar\":{\"outlinewidth\":0,\"ticks\":\"\"},\"type\":\"contourcarpet\"}],\"heatmap\":[{\"colorbar\":{\"outlinewidth\":0,\"ticks\":\"\"},\"colorscale\":[[0.0,\"#0d0887\"],[0.1111111111111111,\"#46039f\"],[0.2222222222222222,\"#7201a8\"],[0.3333333333333333,\"#9c179e\"],[0.4444444444444444,\"#bd3786\"],[0.5555555555555556,\"#d8576b\"],[0.6666666666666666,\"#ed7953\"],[0.7777777777777778,\"#fb9f3a\"],[0.8888888888888888,\"#fdca26\"],[1.0,\"#f0f921\"]],\"type\":\"heatmap\"}],\"heatmapgl\":[{\"colorbar\":{\"outlinewidth\":0,\"ticks\":\"\"},\"colorscale\":[[0.0,\"#0d0887\"],[0.1111111111111111,\"#46039f\"],[0.2222222222222222,\"#7201a8\"],[0.3333333333333333,\"#9c179e\"],[0.4444444444444444,\"#bd3786\"],[0.5555555555555556,\"#d8576b\"],[0.6666666666666666,\"#ed7953\"],[0.7777777777777778,\"#fb9f3a\"],[0.8888888888888888,\"#fdca26\"],[1.0,\"#f0f921\"]],\"type\":\"heatmapgl\"}],\"histogram\":[{\"marker\":{\"pattern\":{\"fillmode\":\"overlay\",\"size\":10,\"solidity\":0.2}},\"type\":\"histogram\"}],\"histogram2d\":[{\"colorbar\":{\"outlinewidth\":0,\"ticks\":\"\"},\"colorscale\":[[0.0,\"#0d0887\"],[0.1111111111111111,\"#46039f\"],[0.2222222222222222,\"#7201a8\"],[0.3333333333333333,\"#9c179e\"],[0.4444444444444444,\"#bd3786\"],[0.5555555555555556,\"#d8576b\"],[0.6666666666666666,\"#ed7953\"],[0.7777777777777778,\"#fb9f3a\"],[0.8888888888888888,\"#fdca26\"],[1.0,\"#f0f921\"]],\"type\":\"histogram2d\"}],\"histogram2dcontour\":[{\"colorbar\":{\"outlinewidth\":0,\"ticks\":\"\"},\"colorscale\":[[0.0,\"#0d0887\"],[0.1111111111111111,\"#46039f\"],[0.2222222222222222,\"#7201a8\"],[0.3333333333333333,\"#9c179e\"],[0.4444444444444444,\"#bd3786\"],[0.5555555555555556,\"#d8576b\"],[0.6666666666666666,\"#ed7953\"],[0.7777777777777778,\"#fb9f3a\"],[0.8888888888888888,\"#fdca26\"],[1.0,\"#f0f921\"]],\"type\":\"histogram2dcontour\"}],\"mesh3d\":[{\"colorbar\":{\"outlinewidth\":0,\"ticks\":\"\"},\"type\":\"mesh3d\"}],\"parcoords\":[{\"line\":{\"colorbar\":{\"outlinewidth\":0,\"ticks\":\"\"}},\"type\":\"parcoords\"}],\"pie\":[{\"automargin\":true,\"type\":\"pie\"}],\"scatter\":[{\"marker\":{\"colorbar\":{\"outlinewidth\":0,\"ticks\":\"\"}},\"type\":\"scatter\"}],\"scatter3d\":[{\"line\":{\"colorbar\":{\"outlinewidth\":0,\"ticks\":\"\"}},\"marker\":{\"colorbar\":{\"outlinewidth\":0,\"ticks\":\"\"}},\"type\":\"scatter3d\"}],\"scattercarpet\":[{\"marker\":{\"colorbar\":{\"outlinewidth\":0,\"ticks\":\"\"}},\"type\":\"scattercarpet\"}],\"scattergeo\":[{\"marker\":{\"colorbar\":{\"outlinewidth\":0,\"ticks\":\"\"}},\"type\":\"scattergeo\"}],\"scattergl\":[{\"marker\":{\"colorbar\":{\"outlinewidth\":0,\"ticks\":\"\"}},\"type\":\"scattergl\"}],\"scattermapbox\":[{\"marker\":{\"colorbar\":{\"outlinewidth\":0,\"ticks\":\"\"}},\"type\":\"scattermapbox\"}],\"scatterpolar\":[{\"marker\":{\"colorbar\":{\"outlinewidth\":0,\"ticks\":\"\"}},\"type\":\"scatterpolar\"}],\"scatterpolargl\":[{\"marker\":{\"colorbar\":{\"outlinewidth\":0,\"ticks\":\"\"}},\"type\":\"scatterpolargl\"}],\"scatterternary\":[{\"marker\":{\"colorbar\":{\"outlinewidth\":0,\"ticks\":\"\"}},\"type\":\"scatterternary\"}],\"surface\":[{\"colorbar\":{\"outlinewidth\":0,\"ticks\":\"\"},\"colorscale\":[[0.0,\"#0d0887\"],[0.1111111111111111,\"#46039f\"],[0.2222222222222222,\"#7201a8\"],[0.3333333333333333,\"#9c179e\"],[0.4444444444444444,\"#bd3786\"],[0.5555555555555556,\"#d8576b\"],[0.6666666666666666,\"#ed7953\"],[0.7777777777777778,\"#fb9f3a\"],[0.8888888888888888,\"#fdca26\"],[1.0,\"#f0f921\"]],\"type\":\"surface\"}],\"table\":[{\"cells\":{\"fill\":{\"color\":\"#EBF0F8\"},\"line\":{\"color\":\"white\"}},\"header\":{\"fill\":{\"color\":\"#C8D4E3\"},\"line\":{\"color\":\"white\"}},\"type\":\"table\"}]},\"layout\":{\"annotationdefaults\":{\"arrowcolor\":\"#2a3f5f\",\"arrowhead\":0,\"arrowwidth\":1},\"autotypenumbers\":\"strict\",\"coloraxis\":{\"colorbar\":{\"outlinewidth\":0,\"ticks\":\"\"}},\"colorscale\":{\"diverging\":[[0,\"#8e0152\"],[0.1,\"#c51b7d\"],[0.2,\"#de77ae\"],[0.3,\"#f1b6da\"],[0.4,\"#fde0ef\"],[0.5,\"#f7f7f7\"],[0.6,\"#e6f5d0\"],[0.7,\"#b8e186\"],[0.8,\"#7fbc41\"],[0.9,\"#4d9221\"],[1,\"#276419\"]],\"sequential\":[[0.0,\"#0d0887\"],[0.1111111111111111,\"#46039f\"],[0.2222222222222222,\"#7201a8\"],[0.3333333333333333,\"#9c179e\"],[0.4444444444444444,\"#bd3786\"],[0.5555555555555556,\"#d8576b\"],[0.6666666666666666,\"#ed7953\"],[0.7777777777777778,\"#fb9f3a\"],[0.8888888888888888,\"#fdca26\"],[1.0,\"#f0f921\"]],\"sequentialminus\":[[0.0,\"#0d0887\"],[0.1111111111111111,\"#46039f\"],[0.2222222222222222,\"#7201a8\"],[0.3333333333333333,\"#9c179e\"],[0.4444444444444444,\"#bd3786\"],[0.5555555555555556,\"#d8576b\"],[0.6666666666666666,\"#ed7953\"],[0.7777777777777778,\"#fb9f3a\"],[0.8888888888888888,\"#fdca26\"],[1.0,\"#f0f921\"]]},\"colorway\":[\"#636efa\",\"#EF553B\",\"#00cc96\",\"#ab63fa\",\"#FFA15A\",\"#19d3f3\",\"#FF6692\",\"#B6E880\",\"#FF97FF\",\"#FECB52\"],\"font\":{\"color\":\"#2a3f5f\"},\"geo\":{\"bgcolor\":\"white\",\"lakecolor\":\"white\",\"landcolor\":\"#E5ECF6\",\"showlakes\":true,\"showland\":true,\"subunitcolor\":\"white\"},\"hoverlabel\":{\"align\":\"left\"},\"hovermode\":\"closest\",\"mapbox\":{\"style\":\"light\"},\"paper_bgcolor\":\"white\",\"plot_bgcolor\":\"#E5ECF6\",\"polar\":{\"angularaxis\":{\"gridcolor\":\"white\",\"linecolor\":\"white\",\"ticks\":\"\"},\"bgcolor\":\"#E5ECF6\",\"radialaxis\":{\"gridcolor\":\"white\",\"linecolor\":\"white\",\"ticks\":\"\"}},\"scene\":{\"xaxis\":{\"backgroundcolor\":\"#E5ECF6\",\"gridcolor\":\"white\",\"gridwidth\":2,\"linecolor\":\"white\",\"showbackground\":true,\"ticks\":\"\",\"zerolinecolor\":\"white\"},\"yaxis\":{\"backgroundcolor\":\"#E5ECF6\",\"gridcolor\":\"white\",\"gridwidth\":2,\"linecolor\":\"white\",\"showbackground\":true,\"ticks\":\"\",\"zerolinecolor\":\"white\"},\"zaxis\":{\"backgroundcolor\":\"#E5ECF6\",\"gridcolor\":\"white\",\"gridwidth\":2,\"linecolor\":\"white\",\"showbackground\":true,\"ticks\":\"\",\"zerolinecolor\":\"white\"}},\"shapedefaults\":{\"line\":{\"color\":\"#2a3f5f\"}},\"ternary\":{\"aaxis\":{\"gridcolor\":\"white\",\"linecolor\":\"white\",\"ticks\":\"\"},\"baxis\":{\"gridcolor\":\"white\",\"linecolor\":\"white\",\"ticks\":\"\"},\"bgcolor\":\"#E5ECF6\",\"caxis\":{\"gridcolor\":\"white\",\"linecolor\":\"white\",\"ticks\":\"\"}},\"title\":{\"x\":0.05},\"xaxis\":{\"automargin\":true,\"gridcolor\":\"white\",\"linecolor\":\"white\",\"ticks\":\"\",\"title\":{\"standoff\":15},\"zerolinecolor\":\"white\",\"zerolinewidth\":2},\"yaxis\":{\"automargin\":true,\"gridcolor\":\"white\",\"linecolor\":\"white\",\"ticks\":\"\",\"title\":{\"standoff\":15},\"zerolinecolor\":\"white\",\"zerolinewidth\":2}}},\"xaxis\":{\"title\":{\"text\":\"App Category\"}},\"yaxis\":{\"title\":{\"text\":\"No of Apps with Rating 4+\"}},\"title\":{\"text\":\"Top 10 category with Rating 4.0 and above\"}},                        {\"responsive\": true}                    ).then(function(){\n",
              "                            \n",
              "var gd = document.getElementById('3758cebc-1c71-4312-b3be-ccc3a228bd2b');\n",
              "var x = new MutationObserver(function (mutations, observer) {{\n",
              "        var display = window.getComputedStyle(gd).display;\n",
              "        if (!display || display === 'none') {{\n",
              "            console.log([gd, 'removed!']);\n",
              "            Plotly.purge(gd);\n",
              "            observer.disconnect();\n",
              "        }}\n",
              "}});\n",
              "\n",
              "// Listen for the removal of the full notebook cells\n",
              "var notebookContainer = gd.closest('#notebook-container');\n",
              "if (notebookContainer) {{\n",
              "    x.observe(notebookContainer, {childList: true});\n",
              "}}\n",
              "\n",
              "// Listen for the clearing of the current output cell\n",
              "var outputEl = gd.closest('.output');\n",
              "if (outputEl) {{\n",
              "    x.observe(outputEl, {childList: true});\n",
              "}}\n",
              "\n",
              "                        })                };                            </script>        </div>\n",
              "</body>\n",
              "</html>"
            ]
          },
          "metadata": {}
        }
      ]
    }
  ]
}